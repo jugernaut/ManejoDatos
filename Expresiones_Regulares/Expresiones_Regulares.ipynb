{
  "nbformat": 4,
  "nbformat_minor": 0,
  "metadata": {
    "colab": {
      "name": "Expresiones_Regulares.ipynb",
      "provenance": [],
      "toc_visible": true,
      "authorship_tag": "ABX9TyPLPqs2RnacKL3/YO/fl44G",
      "include_colab_link": true
    },
    "kernelspec": {
      "name": "python3",
      "display_name": "Python 3"
    },
    "language_info": {
      "name": "python"
    }
  },
  "cells": [
    {
      "cell_type": "markdown",
      "metadata": {
        "id": "view-in-github",
        "colab_type": "text"
      },
      "source": [
        "<a href=\"https://colab.research.google.com/github/jugernaut/ManejoDatos/blob/main/Expresiones_Regulares/Expresiones_Regulares.ipynb\" target=\"_parent\"><img src=\"https://colab.research.google.com/assets/colab-badge.svg\" alt=\"Open In Colab\"/></a>"
      ]
    },
    {
      "cell_type": "markdown",
      "metadata": {
        "id": "ttiAbrCciXZ7"
      },
      "source": [
        "# **Expresiones Regulares**\n",
        "\n",
        "Profesor: M. en C. Miguel Angel Pérez León\n",
        "\n",
        "Ayudante: Jesús Iván Coss Calderón\n",
        "\n",
        "Materia: Manejo de Datos"
      ]
    },
    {
      "cell_type": "markdown",
      "metadata": {
        "id": "cwIfAuioiyPS"
      },
      "source": [
        "## **Introducción**\n",
        "\n",
        "Dentro de las áreas que abarca el estudio de las ciencias es bien conocido que regularmente es necesario identificar secuencias, formas, cadenas, etc. que se repiten frecuentemente, a estas 'formas' que se repiten frecuentemente se les conocen como **patrones**.\n",
        "\n",
        "Por ejemplo, para un biólogo que analiza la **cadena de adn** de un individuo conformada por las letras (GTAC) le interesa identificar patrones que pueden determinar su genotipo. O por ejemplo para un investigador que quiere determinar cual es **la ruta mas transitada** dentro de Ciudad Universitaria, le interesa identificar el patrón que determinar este trayecto. \n",
        "\n",
        "Para alguien que labore en el are de minería de datos, es de vital importancia identificar patrones dentro de las bases de datos. Con la información adquirida identificando los patrones de un determinado usuario, se le puede **mostrar publicidad que encaje con sus patrones** para que este usuario realice compras."
      ]
    },
    {
      "cell_type": "markdown",
      "metadata": {
        "id": "yyVGUUm5jSYy"
      },
      "source": [
        "Para un estudiante de actuaria seria muy atractivo identificar patrones dentro de las **bases estadísticas** (INEGI) y con base en estos datos ajustar las tasas que emplea una determinada empresa para los costos de sus productos.\n",
        "\n",
        "Recientemente también se ha descubierto que el **comportamiento de la bolsa de valores** es repetitivo, por lo que encontrar un patrón en este sentido da una gran ventaja al que posea dicha información. \n",
        "\n",
        "Para identificar los patrones antes mencionados existen muchas técnicas y herramientas, pero una de las que mas se usa son las **expresiones regulares**."
      ]
    },
    {
      "cell_type": "markdown",
      "metadata": {
        "id": "abakh1vVkOK0"
      },
      "source": [
        "## **Expresiones Regulares (RegEx)**"
      ]
    },
    {
      "cell_type": "markdown",
      "metadata": {
        "id": "M8XWKGZDkYsG"
      },
      "source": [
        "### Características\n",
        "\n",
        "La búsqueda de patrones dentro de un conjunto de datos, es una un tanto sencilla para el cerebro humano ya que este ha gozado de miles de años de evolución para adaptarse a esta labor. Sin embargo hacer que una computadora pueda identificar patrones de igual manera que lo hace el cerebro humano no es una labor trivial. \n",
        "\n",
        "Las expresiones regulares ó regex son un potente lenguaje de descripción del texto, esto significa que mediante este lenguaje podemos generar instrucciones para, buscar, contar, substituir o eliminar patrones de texto. \n",
        "\n",
        "Actualmente la mayoría de los lenguajes de programación (y algunos procesadores de texto) permiten el uso de regex dentro de sus comandos básicos."
      ]
    },
    {
      "cell_type": "markdown",
      "metadata": {
        "id": "SzWrpk6MkyGW"
      },
      "source": [
        "### Definición\n",
        "\n",
        "Las regex son una secuencia de caracteres que forma un patrón de búsqueda y que son definidas por una **sintaxis especifica**. los patrones se interpretan como un conjunto de instrucciones que se ejecuta sobre un texto de entrada para producir un subconjunto o versión modificada del texto original."
      ]
    },
    {
      "cell_type": "markdown",
      "metadata": {
        "id": "ZKbfEkUqlQqP"
      },
      "source": [
        "Dado que las regex en si son un lenguaje, están conformadas por varios elementos que se describen a continuación junto con ejemplos de uso."
      ]
    },
    {
      "cell_type": "markdown",
      "metadata": {
        "id": "impB3mEflRjZ"
      },
      "source": [
        "### Elementos que conforman las regex\n",
        "\n",
        "* **Literales**: cualquier carácter se identifica consigo mismo, a menos que se trate de un **metacarater** con significado especial.\n",
        "\n",
        "* **Caractéres de escape**: son caracteres que nos permiten identificar elementos importantes en un texto, como lo serian:\n",
        "  * \\begin{array}{|c|c|}\n",
        "  \\hline\n",
        "\\text{Caracter de escape} & \\text{Significado}\\\\\n",
        "\\hline\n",
        "\\text{\\n} & \\text{Salto de linea} \\\\\n",
        "\\hline\n",
        "\\text{\\t} & \\text{Tabulador} \\\\\n",
        "\\hline\n",
        "\\text{\\\\} \\text{\\\\} & \\text{Barra diagonal inversa}\\\\ \n",
        "\\hline\n",
        "\\text{\\v} & \\text{Tabulacion vertical}\\\\\n",
        "\\hline\n",
        "\\end{array}\n",
        "\n",
        "* **Clases de caractéres**: se define una serie de caracteres dentro de corchetes cuadrados, lo que significa que se busca cualquier carácter de esa lista"
      ]
    },
    {
      "cell_type": "markdown",
      "metadata": {
        "id": "7jRMKXcLn_eA"
      },
      "source": [
        "### Metacaracteres\n",
        "\n",
        "Los metacaracteres son la esencia de las regex y son lo que las hacen tan poderosas y versátiles. A continuación una lista de los metacaracteres mas importantes.\n",
        "\n",
        "* **Delimitadores**: estos metacaracteres nos permiten delimitar donde se requiere realizar la búsqueda de patrones dentro del texto.\n",
        "\n",
        "  * \\begin{array}{|c|c|}\n",
        "  \\hline\n",
        "\\text{Metacaracter} & \\text{Descripcion}\\\\\n",
        "\\hline\n",
        "\\text{^} & \\text{Inicio de la linea.} \\\\\n",
        "\\hline\n",
        "\\text{\\$} & \\text{Final de la linea.} \\\\\n",
        "\\hline\n",
        "\\text{\\A} & \\text{Inicio del texto}\\\\ \n",
        "\\hline\n",
        "\\text{\\Z} & \\text{Final del texto}\\\\\n",
        "\\hline\n",
        "\\text{.} & \\text{Cualquier caracter en la linea}\\\\\n",
        "\\hline\n",
        "\\text{\\b} & \\text{Limite de la palabra}\\\\\n",
        "\\hline\n",
        "\\end{array}\n"
      ]
    },
    {
      "cell_type": "markdown",
      "metadata": {
        "id": "F-G0QGJgpVq9"
      },
      "source": [
        "* **Clases predefinidas**: son metacaracteres que facilitan aun mas la búsqueda de patrones.\n",
        "  * \\begin{array}{|c|c|}\n",
        "  \\hline\n",
        "\\text{\\w} & \\text{Un caracter alfanumerico (incluye \"_\")}\\\\\n",
        "\\hline\n",
        "\\text{\\W} & \\text{Un caracter no alfanumerico} \\\\\n",
        "\\hline\n",
        "\\text{\\d} & \\text{Un caracter numerico} \\\\\n",
        "\\hline\n",
        "\\text{\\D} & \\text{Un caracter no numerico}\\\\ \n",
        "\\hline\n",
        "\\text{\\s} & \\text{Cualquier espacio, igual que [\\t\\n]}\\\\\n",
        "\\hline\n",
        "\\end{array}\n",
        "\n",
        "\n",
        "* **Iteradores**: se utilizan para indicar el numero de ocurrencias de la regex previa.\n",
        "\n",
        "  * \\begin{array}{|c|c|}\n",
        "  \\hline\n",
        "\\text{*} & \\text{Cero o mas, similar a {0,}} \\\\\n",
        "\\hline\n",
        "\\text{+} & \\text{Una o mas, similar a {1,}} \\\\\n",
        "\\hline\n",
        "\\text{?} & \\text{Cero o una, similar a {0,1}}\\\\ \n",
        "\\hline\n",
        "\\text{{n}} & \\text{Exactamente $n$ veces}\\\\\n",
        "\\hline\n",
        "\\text{{n,}} & \\text{Por lo menos $n$ veces}\\\\\n",
        "\\hline\n",
        "\\text{{n,m}} & \\text{Por lo menos $n$, pero no mas de $m$ veces}\\\\\n",
        "\\hline\n",
        "\\end{array}"
      ]
    },
    {
      "cell_type": "markdown",
      "metadata": {
        "id": "0fF_AZ1uryqL"
      },
      "source": [
        "* **Alternativas**: se puede especificar una lista de alternativas de patrones usando el carácter ''|''. Las alternativas son evaluadas de izquierda a derecha, asi que la primer alternativa que coincida con el texto analizado sera seleccionada, ejemplo.\n",
        "\n",
        "  * tom(os|as) este regex hace match con cadenas de texto como, ''tomos'' o ''tomas''.\n",
        "\n",
        "* **Subexpresiones**: se emplean paréntesis ''(..)'' para definir subexpresiones de regex, ejemplo.\n",
        "\n",
        "  * foob([0-9]|a+)r este regex busca cadenas como, ''foob0r'', ''foob1r'', ''foobar'', ''foobaar'', etc.\n",
        "\n",
        "* **Memorias**: los metacaracteres \\1 a \\9 son empleados para que fijar una regex es decir busca la regex previamente encontrada, ejemplo.\n",
        "\n",
        "  * (.)\\1+ encuentra 'aaaa' y 'cc', etc.\n",
        "\n",
        "  * (.+)\\1+ encuentra ''abab'' y ''123123'', etc."
      ]
    },
    {
      "cell_type": "markdown",
      "metadata": {
        "id": "WsUUz0iksPGL"
      },
      "source": [
        "\n",
        "## **Apendice**"
      ]
    },
    {
      "cell_type": "markdown",
      "metadata": {
        "id": "WfmNVnjKsYzi"
      },
      "source": [
        "### Referencias \n",
        "\n",
        "* Thomas H. Cormen: Introduction to Algorithms.\n",
        "\n",
        "* Referencias Libro Web: Introduccion a Python.\n",
        "\n",
        "* Referencias Daniel T. Joyce: Object-Oriented Data Structures.\n",
        "\n",
        "* Referencias John C. Mitchell: Concepts in programing Languages."
      ]
    }
  ]
}