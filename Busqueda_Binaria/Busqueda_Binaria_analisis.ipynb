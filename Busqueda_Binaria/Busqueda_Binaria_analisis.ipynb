{
  "nbformat": 4,
  "nbformat_minor": 0,
  "metadata": {
    "colab": {
      "name": "Busqueda_Binaria_analisis.ipynb",
      "provenance": [],
      "toc_visible": true,
      "authorship_tag": "ABX9TyM4i3msBcW7ohIJJNoN7m2n",
      "include_colab_link": true
    },
    "kernelspec": {
      "name": "python3",
      "display_name": "Python 3"
    },
    "language_info": {
      "name": "python"
    }
  },
  "cells": [
    {
      "cell_type": "markdown",
      "metadata": {
        "id": "view-in-github",
        "colab_type": "text"
      },
      "source": [
        "<a href=\"https://colab.research.google.com/github/jugernaut/ManejoDatos/blob/main/Busqueda_Binaria/Busqueda_Binaria_analisis.ipynb\" target=\"_parent\"><img src=\"https://colab.research.google.com/assets/colab-badge.svg\" alt=\"Open In Colab\"/></a>"
      ]
    },
    {
      "cell_type": "markdown",
      "metadata": {
        "id": "sHzqVFkZS8gi"
      },
      "source": [
        "#**Búsqueda Binaria (análisis)**\n",
        "\n",
        "Profesor: M.en.C. Miguel Angel Pérez León.\n",
        "\n",
        "Ayudante: Jesús Iván Coss Calderón.\n",
        "\n",
        "Materia: Manejo de Datos"
      ]
    },
    {
      "cell_type": "markdown",
      "metadata": {
        "id": "T5lrtG35TPHg"
      },
      "source": [
        "##**Introducción**\n",
        "\n",
        "En clase se dio la descripción del algoritmo de búsqueda binaria.\n",
        "\n",
        " \n",
        "Es por este motivo que en este documento se parte del hecho que el lector conoce tanto el planteamiento, como el pseudocódigo de este algoritmo.\n",
        "\n",
        "Dado estos antecedentes procedemos a definir la función de recurrencia, para poder definir a que orden de complejidad pertenece este algoritmo **recursivo**."
      ]
    },
    {
      "cell_type": "markdown",
      "metadata": {
        "id": "KbdCyfv2T4b3"
      },
      "source": [
        "##**Función de Recurrencia**"
      ]
    },
    {
      "cell_type": "markdown",
      "metadata": {
        "id": "Mz9tfZ-sUdsC"
      },
      "source": [
        "### Análisis\n",
        "\n",
        "Para el caso cuando se requiere buscar un elemento en una colección (lista) de tamaño 1 (o 0 caso trivial), basta con realizar a lo mas una comparación, lo cual toma tiempo constante, digamos $b$.\n",
        "\n",
        "Es importante recalcar que este algoritmo pide como requisito que los **elementos de la colección se encuentren ordenados**. Para el caso de una colección de tamaño 2 ó mayor, es necesario partir a la mitad dicha colección y preguntar si el elemento que se busca es mayor o menor al elemento que se encuentra a la mitad de la colección. Y dependiendo de la comparación se descarta una de las 2 mitades y se procede a buscar al elemento en la otra mitad.\n",
        "\n",
        "Es por esto que buscar un elemento en una colección de tamaño $n$ tomará en total $T(\\frac{n}{2})+a$."
      ]
    },
    {
      "cell_type": "markdown",
      "metadata": {
        "id": "kg6_8TGwU3nw"
      },
      "source": [
        "##Algoritmo Básico\n",
        "\n",
        "\n",
        "<figure>\n",
        "<center>\n",
        "<img src='https://drive.google.com/file/d/17gZu0BsFtVF8NlgnV86H6IvPYQScZPTu/view?usp=sharing' />\n",
        "<figcaption>Image Caption</figcaption></center>\n",
        "</figure>\n",
        "\n",
        "\n"
      ]
    },
    {
      "cell_type": "markdown",
      "metadata": {
        "id": "p9dw-XZfU9-d"
      },
      "source": [
        ""
      ]
    },
    {
      "cell_type": "markdown",
      "metadata": {
        "id": "QYlAJsDnXYUX"
      },
      "source": [
        ""
      ]
    }
  ]
}