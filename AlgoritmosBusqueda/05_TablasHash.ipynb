{
  "nbformat": 4,
  "nbformat_minor": 0,
  "metadata": {
    "colab": {
      "name": "Tablas_Hash.ipynb",
      "provenance": [],
      "toc_visible": true,
      "include_colab_link": true
    },
    "kernelspec": {
      "name": "python3",
      "display_name": "Python 3"
    },
    "language_info": {
      "name": "python"
    }
  },
  "cells": [
    {
      "cell_type": "markdown",
      "metadata": {
        "id": "view-in-github",
        "colab_type": "text"
      },
      "source": [
        "<a href=\"https://colab.research.google.com/github/jugernaut/ManejoDatos/blob/desarrollo/AlgoritmosBusqueda/05_TablasHash.ipynb\" target=\"_parent\"><img src=\"https://colab.research.google.com/assets/colab-badge.svg\" alt=\"Open In Colab\"/></a>"
      ]
    },
    {
      "cell_type": "markdown",
      "metadata": {
        "id": "jDJiylY5S9fJ"
      },
      "source": [
        "#**Tablas de Dispersión**\n",
        "\n",
        "Profesor: M. en C. Miguel Angel Pérez León\n",
        "\n",
        "Ayudante: Jesús Iván Coss Calderón\n",
        "\n",
        "Materia: Manejo de Datos"
      ]
    },
    {
      "cell_type": "markdown",
      "metadata": {
        "id": "GQj4ZEkdTKBc"
      },
      "source": [
        "##**Introducción**"
      ]
    },
    {
      "cell_type": "markdown",
      "metadata": {
        "id": "PmxkQE_iTc4W"
      },
      "source": [
        "Las $\\color{blue}{tablas\\, de\\, dispersi\\acute{o}n\\, o\\, tablas\\, hash}$, es otro tipo de estructura de datos que es empleado ampliamente en el campo de las ciencias. Este tipo de estructura de datos se encarga de mapear un conjunto de valores (values) a su correspondiente llave (key).\n",
        "\n",
        "Para llevar a cabo dicho mapeo se hace uso de una función conocida como $\\color{blue}{funci\\acute{o}n\\, hash}$.\n",
        "\n",
        "De igual manera que con las estructuras vistas previamente las tablas hash permiten almacenar el tipo de información que se necesite, desde simples valores numéricos, hasta información mas compleja.\n",
        "\n",
        "El principal elemento que define una tabla hash, es su función hash (función de dispersión), ya que a través de esta función se acceden a los valores almacenados y de esta manera podemos buscar un valor, insertar o eliminar un valor asociado a una llave."
      ]
    },
    {
      "cell_type": "markdown",
      "metadata": {
        "id": "ow6eOGTtUiel"
      },
      "source": [
        "### Usos de tablas Hash\n",
        "\n",
        "Las tablas hash son empleadas en muchas áreas, por ejemplo:\n",
        "\n",
        "**Bancos**: normalmente los clientes son asociados a una llave (cuenta), de manera tal que se puede acceder a los datos del cliente mediante esta llave.\n",
        "\n",
        "**Hospitales**: al igual que en un banco, es mas sencillo acceder a los datos de un paciente empleando una llave, por ejemplo su RFC o su CURP. De esta manera se accede al historial del paciente empleando una llave, ademas esta llave esta asociada con uno y solo un paciente. \n",
        "\n",
        "**Bases de datos**: de manera general podemos pensar que en la mayoría de las bases de datos los registros almacenados contienen un identificador que funciona como llave y a través de esta llave se accede al valor almacenado en la base de datos."
      ]
    },
    {
      "cell_type": "markdown",
      "metadata": {
        "id": "hjkSItTfTQxl"
      },
      "source": [
        "##**Función Hash**\n",
        "\n"
      ]
    },
    {
      "cell_type": "markdown",
      "metadata": {
        "id": "NAxgoFTPUxL1"
      },
      "source": [
        "### Características \n",
        "\n",
        "La función hash depende en gran medida del $\\color{blue}{conjunto\\, de\\, llaves\\, (dominio)}$ sobre el cual sera definida y también depende del $\\color{blue}{uso\\, que\\, se\\, le\\, vaya\\, a\\, dar}$ al la tabla hash.\n",
        "\n",
        "Sin embargo existen 3 propiedades que siempre debe cumplir una función hash. \n",
        "\n",
        "Debe ser inyectiva o dicho de otra manera, debe $\\color{blue}{evitar\\, colisiones}$ en la medida de lo posible, es decir. Sea $f$ la función hash, $X$ el conjunto de llaves (dominio) y Y el conjunto de valores (codominio). $$f:X\\rightarrow Y\\,\\,\\,\\,\\forall a,b\\in X\\,\\mid f(a)=f(b)\\Rightarrow a=b$$.\n",
        "\n",
        "No debe involucrar demasiados cálculos, ya que de otra manera las operaciones sobre la tabla hash incrementan su costo (recursos).\n",
        "\n",
        "No debe ser posible su reconstrucción tomando como base la salida de esta."
      ]
    },
    {
      "cell_type": "markdown",
      "metadata": {
        "id": "sGtw8ZtfVsO1"
      },
      "source": [
        "### Ejemplo función hash\n",
        "\n",
        "\\begin{array}{|c|}\n",
        "\\hline\n",
        "\\color{green}{Polinomio\\,de\\,direccionamiento}\\\\\n",
        "\\hline\n",
        "\\end{array}\n",
        "\n",
        "$$Sea\\,A\\in M_{2x2}=\\left(\\begin{array}{cc}\n",
        "3_{(0,0)} & 6_{(0,1)}\\\\\n",
        "7_{(1,0)} & 9_{(1,1)}\n",
        "\\end{array}\\right)$$\n",
        "\n",
        "Por razones de espacio en memoria, necesitamos almacenar los elementos de $A$ en un objeto lineal, digamos una lista. De tal manera que los elementos de $A$ se vean así $\\left[\\begin{array}{cccc}\n",
        "3 & 6 & 7 & 9\\end{array}\\right]$. Dicho en otras palabras, necesitamos mapear las tuplas que representan las posiciones de los valores de A en posiciones dentro de la lista.\n",
        "\n",
        "Para llevar a cabo este mapeo necesitamos una función hash, que en este caso dicha función debe tomar una tupla que representa la entrada de $A$ y debe devolver una localidad de la lista. Es decir.\n",
        "\n",
        "$$X=\\{(0,0),(0,1),(1,0),(1,1)\\},Y=\\{0,1,2,3\\},f:X\\rightarrow Y$$"
      ]
    },
    {
      "cell_type": "markdown",
      "metadata": {
        "id": "sQsMTxrHWmoP"
      },
      "source": [
        "Nos gustaría que la entrada (0,0) de A fuera mapeada a la localidad 0 de la lista y así sucesivamente hasta llegar a que la entrada (1,1) se mapeara a la localidad 3 del arreglo, es decir\n",
        "\n",
        "\\begin{array}{cc}\n",
        "f((0,0))=0 & f((0,1))=1\\\\\n",
        "f((1,0))=2 & f((1,1))=3\n",
        "\\end{array}\n",
        "\n",
        "Podríamos pensar que una buena forma de definir a $f$, seria $f((x,y))=x+y$, pero veamos que sucede al probarla.\n",
        "\n",
        "\\begin{array}{c}\n",
        "f((0,0))=0+0=0.......\\text{{\\color{green}¡bien!}}\\\\\n",
        "f((0,1))=0+1=1.......\\text{{\\color{green}¡bien!}}\n",
        "\\end{array}\n",
        "\n"
      ]
    },
    {
      "cell_type": "markdown",
      "metadata": {
        "id": "K8XfuWHkXFfM"
      },
      "source": [
        "\n",
        "\\begin{array}{c}\n",
        "f((1,0))=1+0=1.......\\text{\\color{red}\\text{¡colisión!}}\\\\\n",
        "f((0,1))=1=f((1,0))\n",
        "\\end{array}"
      ]
    },
    {
      "cell_type": "markdown",
      "metadata": {
        "id": "ROpZcvZaXGX9"
      },
      "source": [
        "Dado que se tuvo una colisión, es necesario re-definirla de otra manera menos ingenua. Veamos que sucede si definimos a $f$ de la siguiente manera.\n",
        "\n",
        "$$f((x,y))=2x+y$$\n",
        "\n",
        "Al probarla, lo que obtenemos es.\\begin{array}{c}\n",
        "f((0,0))=2*0+0=0\\\\\n",
        "f((0,1))=2*0+1=1\\\\\n",
        "f((1,0))=2*1+0=2\\\\\n",
        "f((1,1))=2*1+1=3\n",
        "\\end{array}\n",
        "\n",
        "Esta función, no muestra colisiones (al menos en el dominio y codominio definidos), incluso se podría probar que no presentará colisiones para ningún par de tuplas de naturales. Ademas cumple con el resto de las propiedades"
      ]
    },
    {
      "cell_type": "markdown",
      "metadata": {
        "id": "nJna4wGYXU76"
      },
      "source": [
        "### Forma general del polinomio de direccionamiento\n",
        "\n",
        "Así que podemos pensar, que para el caso particular de matrices bidimensionales $A_{(i,j)}\\in M_{ren\\,x\\,col}$ podemos definir la función hash que mapea localidades de dicha matriz en una lista (arreglo) unidimensional de la siguiente forma.\n",
        "\n",
        "$$f((i,j))=col*i+j$$\n",
        "\n",
        "![poli.png](data:image/png;base64,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)\n",
        "\n",
        "FIGURA: Polinomio de Direccionamiento"
      ]
    },
    {
      "cell_type": "markdown",
      "metadata": {
        "id": "xARsJnU1XvJw"
      },
      "source": [
        "### Ventajas y desventajas de una tabla hash\n",
        "\n",
        "Ya que vimos como es que se construye y se utiliza una tabla de dispersión, vamos a analizar sus ventajas y desventajas:\n",
        "\n",
        "* La principal ventaja es que el orden de complejidad para $\\color{blue}{insertar,\\, buscar\\, o\\, eliminar\\, un\\, elemento\\, en\\, una\\, tabla\\, hash\\, es}$ $\\color{blue}{constante}$, es decir $O(1)$.\n",
        "\n",
        "* Si la función hash fue definida siguiendo las características que se piden para este tipo de funciones, utilizar una tabla hash se vuelve un procedimiento muy $\\color{blue}{eficiente}$ y $\\color{blue}{seguro}$.\n",
        "\n",
        "* La principal desventaja de una tabla hash es el hecho de que $\\color{red}{ni\\, las\\, llaves,\\, ni\\, los}$ $\\color{red}{valores\\, están\\, obligados\\, a\\, conservar\\, un\\, orden}$, así que es difícil ordenar por algún criterio una tabla hash.\n",
        "\n",
        "* Otra desventaja es que $\\color{red}{a\\, veces\\, es\\, complicado\\, evitar\\, las\\, colisiones}$, así que se tiene que hacer uso de alguna técnica adicional para poder resolver las colisiones."
      ]
    },
    {
      "cell_type": "markdown",
      "metadata": {
        "id": "zTSYOneNTYBM"
      },
      "source": [
        "##**Diccionarios en Python**\n",
        "\n"
      ]
    },
    {
      "cell_type": "markdown",
      "metadata": {
        "id": "6O7SBAuTZEWS"
      },
      "source": [
        "### Diccionarios\n",
        "\n",
        "Dado que las tablas de dispersión son muy útiles, la gran mayoría de los lenguajes ya cuenta con alguna implementación de estas, sin embargo a veces es necesario revisar la documentación para poder hacer uso de estas implementaciones. \n",
        "\n",
        "Por el contrario, Python muy a su estilo (Pythonic way) cuenta con una implementación (de las muchas que existen) de las tablas de dispersión conocida como $\\color{blue}{diccionarios}$. Esta implementación es muy sencilla e intuitiva de utilizar.\n",
        "\n",
        "La idea detrás de los diccionarios de Python es básicamente la misma que la de las tablas de dispersión, con la peculiaridad de que el usuario no esta obligado a definir la funcion hash.\n",
        "\n",
        "Es decir que es suficiente con proporcionar la llave y el valor asociado a esta y python se encarga de relacionarlos."
      ]
    },
    {
      "cell_type": "markdown",
      "metadata": {
        "id": "TPKz0fTJZau0"
      },
      "source": [
        "### Sintaxis de los diccionarios\n",
        "\n",
        "Este tipo de estructuras se emplea en $\\color{blue}{data\\, minig}$ o $\\color{blue}{big\\, data}$. A continuación se muestra un ejemplo de como usar los diccionarios de Python.\n",
        "\n",
        "* **diccionario = {}** #instrucción para crear un diccionario vacío.\n",
        "\n",
        "* **diccionario['llave'] = valor** #insertamos una llave y un valor en caso de no existir ó se actualiza el valor asociado a la llave.\n",
        "\n",
        "* **print diccionario** #se imprime el diccionario.\n",
        "\n",
        "* **del diccionario[llave]** #borra la llave y valor asociado a esta.\n",
        "\n",
        "* **diccionario.clear()** #borra todas las llaves y valores dentro del diccionario."
      ]
    },
    {
      "cell_type": "markdown",
      "metadata": {
        "id": "tlNJvFaUZ4Hg"
      },
      "source": [
        "## **Apendice**\n",
        "\n"
      ]
    },
    {
      "cell_type": "markdown",
      "metadata": {
        "id": "odXCIJZ_Z9LY"
      },
      "source": [
        "### Referencias\n",
        "\n",
        "*  Thomas H. Cormen: Introduction to Algorithms.\n",
        "\n",
        "* Libro Web: Introduccion a Python.\n",
        "\n",
        "* Daniel T. Joyce: Object-Oriented Data Structures.\n",
        "\n",
        "* John C. Mitchell: Concepts in programing Languages."
      ]
    }
  ]
}