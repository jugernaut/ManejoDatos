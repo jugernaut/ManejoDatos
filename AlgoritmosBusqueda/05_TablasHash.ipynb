{
  "nbformat": 4,
  "nbformat_minor": 0,
  "metadata": {
    "colab": {
      "name": "TablasHash.ipynb",
      "provenance": [],
      "toc_visible": true,
      "include_colab_link": true
    },
    "kernelspec": {
      "name": "python3",
      "display_name": "Python 3"
    },
    "language_info": {
      "name": "python"
    }
  },
  "cells": [
    {
      "cell_type": "markdown",
      "metadata": {
        "id": "view-in-github",
        "colab_type": "text"
      },
      "source": [
        "<a href=\"https://colab.research.google.com/github/jugernaut/ManejoDatos/blob/main/AlgoritmosBusqueda/05_TablasHash.ipynb\" target=\"_parent\"><img src=\"https://colab.research.google.com/assets/colab-badge.svg\" alt=\"Open In Colab\"/></a>"
      ]
    },
    {
      "cell_type": "markdown",
      "metadata": {
        "id": "3HIOuyhzps7A"
      },
      "source": [
        "<font color=\"Teal\" face=\"Comic Sans MS,arial\">\n",
        "  <h1 align=\"center\"><i>Tablas de Dispersión (HASH)</i></h1>\n",
        "  </font>\n",
        "  <font color=\"Black\" face=\"Comic Sans MS,arial\">\n",
        "  <h5 align=\"center\"><i>Profesor: M. en C. Miguel Angel Pérez León</i></h5>\n",
        "  <h5 align=\"center\"><i>Ayudante: Jesús Iván Coss Calderón</i></h5>\n",
        "  <h5 align=\"center\"><i>Ayudante: Jonathan Ramírez Montes</i></h5>\n",
        "  <h5 align=\"center\"><i>Materia: Manejo de Datos</i></h5>\n",
        "</font>"
      ]
    },
    {
      "cell_type": "markdown",
      "metadata": {
        "id": "ElKDaY9AqDnp"
      },
      "source": [
        "# Introducción\n",
        "\n",
        "Las **tablas de dispersión o tablas *hash***, son otro tipo de estructura de datos que es empleado ampliamente en el campo de las ciencias. Este tipo de estructura de datos se encarga de mapear un conjunto de valores (values) a su correspondiente llave (key).\n",
        "\n",
        "Para llevar a cabo dicho mapeo se hace uso de una función conocida como **función hash**.\n",
        "\n",
        "De igual manera que con las estructuras vistas previamente las tablas *hash* permiten almacenar el tipo de información que se necesite, desde simples valores numéricos, hasta información más compleja.\n",
        "\n",
        "El principal elemento que define una tabla *hash*, es su función *hash* (función de dispersión), ya que a través de esta función se acceden a los valores almacenados y de esta manera podemos buscar un valor, insertar o eliminar un valor asociado a una llave."
      ]
    },
    {
      "cell_type": "markdown",
      "metadata": {
        "id": "XRGwWQkOqKWG"
      },
      "source": [
        "## Usos de tablas Hash\n",
        "\n",
        "Las tablas *hash* son empleadas en muchas áreas, por ejemplo:\n",
        "\n",
        "**Bancos**: normalmente los clientes son asociados a una llave (cuenta), de manera tal que se puede acceder a los datos del cliente mediante esta llave.\n",
        "\n",
        "**Hospitales**: al igual que en un banco, es más sencillo acceder a los datos de un paciente empleando una llave, por ejemplo su RFC o su CURP. De esta manera se accede al historial del paciente empleando una llave, además esta llave esta asociada con uno y solo un paciente. \n",
        "\n",
        "**Bases de datos**: de manera general podemos pensar que en la mayoría de las bases de datos los registros almacenados contienen un identificador que funciona como llave y a través de esta llave se accede al valor almacenado en la base de datos."
      ]
    },
    {
      "cell_type": "markdown",
      "metadata": {
        "id": "pGoRyhoqqKR8"
      },
      "source": [
        "# Función *Hash*\n",
        "\n",
        "La función *hash* es la parte más importante en toda tabla de dispersión, ya que dependiendo de la definición de dicha función, será como los valores sean mapeados con sus respectivas llaves.\n",
        "\n",
        "La función hash puede ser tan variada como la aplicación que se le vaya a dar, sin embargo es necesario que esta función cumpla con ciertas características importantes que mencionaremos a continuación."
      ]
    },
    {
      "cell_type": "markdown",
      "metadata": {
        "id": "FQpzxO_8qKOu"
      },
      "source": [
        "## Características \n",
        "\n",
        "La función *hash* depende en gran medida del **conjunto de llaves (dominio)** sobre el cual sera definida y también depende del **uso que se le vaya a dar** al la tabla *hash*.\n",
        "\n",
        "Sin embargo existen 3 propiedades que siempre debe cumplir una función *hash*: \n",
        "\n",
        "*   **Debe ser inyectiva** o dicho de otra manera, debe evitar colisiones en la medida de lo posible, es decir. Sea $f$ la función hash, $X$ el conjunto de llaves (dominio) y $Y$ el conjunto de valores (codominio). $$f:X\\rightarrow Y\\,\\,\\,\\,\\forall a,b\\in X\\,\\mid f(a)=f(b)\\Rightarrow a=b$$.\n",
        "*   **No debe involucrar demasiados cálculos**, ya que de otra manera las operaciones sobre la tabla hash incrementan su costo (recursos).\n",
        "*   **No debe ser posible su reconstrucción** tomando como base la salida de esta.\n"
      ]
    },
    {
      "cell_type": "markdown",
      "metadata": {
        "id": "Rvh4azTzqKJr"
      },
      "source": [
        "## Ejemplo función *hash*\n",
        "\n",
        "El siguiente ejemplo muestra una de muchas formas en como se puede definir la función *hash*, en este ejemplo a la función *hash* le vamos a decir \"polinomio de direccionamiento\" y se emplea de manera frecuente en las ciencias de la computación.\n",
        "\n",
        "Supongamos que contamos con la siguiente matriz.\n",
        "\n",
        "$$Sea\\,A\\in M_{2x2}=\\left(\\begin{array}{cc}\n",
        "3_{(0,0)} & 6_{(0,1)}\\\\\n",
        "7_{(1,0)} & 9_{(1,1)}\n",
        "\\end{array}\\right)$$\n",
        "\n",
        "Por razones de espacio en memoria, necesitamos almacenar los elementos de $A$ en un objeto lineal, digamos una lista. De tal manera que los elementos de $A$ se vean así. \n",
        "\n",
        "$$\\left[\\begin{array}{cccc}\n",
        "3_{0} & 6_{1} & 7_{2} & 9_{3}\\end{array}\\right]$$\n",
        "\n",
        "Dicho en otras palabras, **necesitamos mapear las tuplas que representan las posiciones de los valores de $A$ en posiciones dentro de la lista**.\n",
        "\n",
        "Para llevar a cabo este mapeo necesitamos una función *hash*, que en este caso dicha función debe tomar una tupla que representa la entrada de $A$ y debe devolver una localidad de la lista. Es decir.\n",
        "\n",
        "$$X=\\{(0,0),(0,1),(1,0),(1,1)\\},Y=\\{0,1,2,3\\},f:X\\rightarrow Y$$\n",
        "\n",
        "Nos gustaría que la entrada (0,0) de A fuera mapeada a la localidad 0 de la lista y así sucesivamente hasta llegar a que la entrada (1,1) se mapeara a la localidad 3 del arreglo, es decir\n",
        "\n",
        "\\begin{array}{cc}\n",
        "f((0,0))=0 & f((0,1))=1\\\\\n",
        "f((1,0))=2 & f((1,1))=3\n",
        "\\end{array}\n",
        "\n",
        "Podríamos pensar que una buena forma de definir a $f$, seria $f((x,y))=x+y$, pero veamos que sucede al probarla.\n",
        "\n",
        "\\begin{array}{c}\n",
        "f((0,0))=0+0=0.......\\color{green}{¡bien!}\\\\\n",
        "f((0,1))=0+1=1.......\\color{green}{¡bien!}\n",
        "\\end{array}\n",
        "\n",
        "\\begin{array}{c}\n",
        "f((1,0))=1+0=1.......\\color{red}{¡colisi\\acute{o}n!}\\\\\n",
        "f((0,1))=1=f((1,0))\n",
        "\\end{array}\n",
        "\n",
        "Dado que se tuvo una colisión, es necesario re-definirla de otra manera menos ingenua. Veamos que sucede si definimos a $f$ de la siguiente manera.\n",
        "\n",
        "$$f((x,y))=2x+y$$\n",
        "\n",
        "Al probarla, lo que obtenemos es.\\begin{array}{c}\n",
        "f((0,0))=2*0+0=0\\\\\n",
        "f((0,1))=2*0+1=1\\\\\n",
        "f((1,0))=2*1+0=2\\\\\n",
        "f((1,1))=2*1+1=3\n",
        "\\end{array}\n",
        "\n",
        "Esta función, no muestra colisiones (al menos en el dominio y codominio definidos), incluso se podría probar que no presentará colisiones para ningún par de tuplas de naturales. Ademas cumple con el resto de las propiedades."
      ]
    },
    {
      "cell_type": "markdown",
      "metadata": {
        "id": "4ebSFWQRqJ22"
      },
      "source": [
        "### Forma general del polinomio de direccionamiento\n",
        "\n",
        "Así que podemos pensar, que para el caso particular de matrices bidimensionales $A_{(i,j)}\\in M_{ren\\,x\\,col}$ podemos definir la función hash que mapea localidades de dicha matriz en una lista (arreglo) unidimensional de la siguiente forma.\n",
        "\n",
        "$$f((i,j))=col*i+j$$\n",
        "\n",
        "<center>\n",
        "<img src=\"https://github.com/jugernaut/ManejoDatos/blob/desarrollo/Imagenes/AlgoritmosBusqueda/poli.png?raw=1\" width=\"400\"> \n",
        "</center>\n",
        "\n",
        "En la imagen podemos ver como se almacena una matriz en localidades de memoria en una computadora, los valores $\\{100, 101, ... , 105\\}$ representan las localidades de la memoria y los valores $\\{X[1,1],X[2,1],...,X[3,2]\\}$ representan los valores de la matriz $X$.\n"
      ]
    },
    {
      "cell_type": "markdown",
      "metadata": {
        "id": "tuZlv_y-qJw-"
      },
      "source": [
        "# Ventajas y desventajas de una tabla *hash*\n",
        "\n",
        "Ya que vimos como es que se construye y se utiliza una tabla de dispersión, vamos a analizar sus ventajas y desventajas:\n",
        "\n",
        "* La principal ventaja es que **el orden de complejidad para isertar, buscar o eliminar en una tabla *hash* es constante**, es decir $O(1)$.\n",
        "\n",
        "* Si la función *hash* fue definida siguiendo las características que se piden para este tipo de funciones, utilizar una tabla *hash* se vuelve un procedimiento muy **eficiente y seguro**.\n",
        "\n",
        "* La principal desventaja de una tabla *hash* es el hecho de que **ni las llaves, ni los valores estan obligados a conservar un orden**, así que es difícil ordenar por algún criterio una tabla *hash*.\n",
        "\n",
        "* Otra desventaja es que **a veces es complicado eviar las colisiones**, así que se tiene que hacer uso de alguna técnica adicional para poder resolver las colisiones."
      ]
    },
    {
      "cell_type": "markdown",
      "metadata": {
        "id": "ZA5kaSJNqJqE"
      },
      "source": [
        "# Diccionarios en *Python*\n",
        "\n",
        "Los diccionarios de *Python*, son una de muchas formas de poner en práctica el concepto de tablas *hash*, son muy útiles y faciles de usar.\n",
        "\n",
        "Además como ya vienen incluidos dentro de las paqueterias de *Python* no hace falta instalar, ni si quiera importar algun paquete para poder hacer uso de los diccionarios."
      ]
    },
    {
      "cell_type": "markdown",
      "metadata": {
        "id": "2Rbh3uLhqJiM"
      },
      "source": [
        "## Diccionarios\n",
        "\n",
        "Dado que las tablas *hash* son muy útiles, la gran mayoría de los lenguajes ya cuenta con alguna implementación de estas, sin embargo a veces es necesario revisar la documentación para poder hacer uso de estas implementaciones. \n",
        "\n",
        "Por el contrario, *Python* muy a su estilo (*Pythonic way*) cuenta con una implementación (de las muchas que existen) de las tablas *hash* conocida como **diccionarios**. Esta implementación es muy sencilla e intuitiva de utilizar.\n",
        "\n",
        "La idea detrás de los diccionarios de **Python** es básicamente la misma que la de las tablas *hash*, con la peculiaridad de que el usuario no esta obligado a definir la funcion *hash*.\n",
        "\n",
        "Es decir que es suficiente con proporcionar la llave y el valor asociado a esta y *Python* se encarga de relacionarlos."
      ]
    },
    {
      "cell_type": "markdown",
      "metadata": {
        "id": "SUGzOiL6qJaQ"
      },
      "source": [
        "## Sintaxis de los diccionarios\n",
        "\n",
        "Este tipo de estructuras se emplea principalmente en *data mining* o *big data*, pero no es su único uso, también se puede usar en áreas como *deep learning* o incluso en *natural language processing*. A continuación se muestra un ejemplo de como usar los diccionarios de Python.\n",
        "\n",
        "* `diccionario = {}`: instrucción para crear un diccionario vacío.\n",
        "\n",
        "* `diccionario['llave'] = valor`: insertamos una llave y un valor en caso de no existir ó se actualiza el valor asociado a la llave.\n",
        "\n",
        "* `print(diccionario)`: se imprime el diccionario.\n",
        "\n",
        "* `del(diccionario[llave])`: borra la llave y valor asociado a esta.\n",
        "\n",
        "* `diccionario.clear()`: borra todas las llaves y valores dentro del diccionario."
      ]
    },
    {
      "cell_type": "markdown",
      "metadata": {
        "id": "gFt6GN82iXx1"
      },
      "source": [
        "## Ejemplo diccionarios *Python*\n",
        "\n",
        "Para el siguiente ejemplo vamos a usar el archivo *ManejoDatos9180.txt* que hemos usado en ocasiones previas.\n",
        "\n",
        "La diferencia principal es que en esta ocasión vamos a usar diccionarios para almacenar los datos de los alumnos, en lugar de usar una clase para almacenar estos datos."
      ]
    },
    {
      "cell_type": "code",
      "metadata": {
        "id": "5mS23fksi108",
        "colab": {
          "base_uri": "https://localhost:8080/"
        },
        "outputId": "e0702c9e-72f0-4e43-bfae-381aa9a5dd68"
      },
      "source": [
        "!wget https://raw.githubusercontent.com/jugernaut/ManejoDatos/desarrollo/utils/ManejodeDatos9180.txt"
      ],
      "execution_count": null,
      "outputs": [
        {
          "output_type": "stream",
          "name": "stdout",
          "text": [
            "--2021-11-19 00:15:38--  https://raw.githubusercontent.com/jugernaut/ManejoDatos/desarrollo/utils/ManejodeDatos9180.txt\n",
            "Resolving raw.githubusercontent.com (raw.githubusercontent.com)... 185.199.108.133, 185.199.109.133, 185.199.110.133, ...\n",
            "Connecting to raw.githubusercontent.com (raw.githubusercontent.com)|185.199.108.133|:443... connected.\n",
            "HTTP request sent, awaiting response... 200 OK\n",
            "Length: 3103 (3.0K) [text/plain]\n",
            "Saving to: ‘ManejodeDatos9180.txt’\n",
            "\n",
            "ManejodeDatos9180.t 100%[===================>]   3.03K  --.-KB/s    in 0s      \n",
            "\n",
            "2021-11-19 00:15:38 (31.5 MB/s) - ‘ManejodeDatos9180.txt’ saved [3103/3103]\n",
            "\n"
          ]
        }
      ]
    },
    {
      "cell_type": "markdown",
      "metadata": {
        "id": "tCcpuWwti2vC"
      },
      "source": [
        "Una vez que tenemos el archivo en la sesión de *Google Colab*, ahora necesitamos leerlo y usando *regex* vamos a capturar los datos de los alumnos en un diccionario y posteriormente mostramos el contenido de los diccionarios."
      ]
    },
    {
      "cell_type": "code",
      "metadata": {
        "id": "JbVooa3TjFQP",
        "colab": {
          "base_uri": "https://localhost:8080/"
        },
        "outputId": "61e66cbd-f943-45d7-a5bb-3756910a396a"
      },
      "source": [
        "import re\n",
        "# se abre el archivo\n",
        "archivo = open(\"ManejodeDatos9180.txt\")\n",
        "# patron para el nombre\n",
        "apellido1 = \"\\d+\\s+[áéíóúA-Za-zñÑ]+\"\n",
        "# patron para telefono\n",
        "telefono = \"\\d+-\\d*-\\d*-*\\d*\"\n",
        "\n",
        "# eliminamos la prime linea del archivo\n",
        "archivo.readline()\n",
        "\n",
        "# creamos una lista vacia donde guardaremos los diccionarios\n",
        "alumnos = []\n",
        "\n",
        "# leemos cada una de las lineas y usando un determinado patron\n",
        "# se capturan numbre completo, carrera, correo y telefono\n",
        "for linea in archivo:\n",
        "  alumnos.append({\"nombre\":re.findall(apellido1, linea), \"telefono\":re.findall(telefono, linea)})\n",
        "\n",
        "# imprimimos cada uno de los diccionarios que representa a cada alumno\n",
        "for alumno in alumnos:\n",
        "  print(alumno)"
      ],
      "execution_count": null,
      "outputs": [
        {
          "output_type": "stream",
          "name": "stdout",
          "text": [
            "{'nombre': ['1\\tAlemán'], 'telefono': ['44-635-28-288']}\n",
            "{'nombre': ['2\\tAmador'], 'telefono': ['55-640-83-871']}\n",
            "{'nombre': ['3\\tAmaro'], 'telefono': ['55-4977-6159']}\n",
            "{'nombre': ['4\\tCabrera'], 'telefono': ['55-477-61-948']}\n",
            "{'nombre': ['5\\tCazares'], 'telefono': ['55-539-42-382']}\n",
            "{'nombre': ['6\\tContreras'], 'telefono': ['55-399-75-350']}\n",
            "{'nombre': ['7\\tDorantes'], 'telefono': ['55-128-98-209']}\n",
            "{'nombre': ['8\\tDurán'], 'telefono': ['333-72-554-55']}\n",
            "{'nombre': ['9\\tEnríquez'], 'telefono': ['55-782-67-957']}\n",
            "{'nombre': ['10\\tFlores'], 'telefono': ['55-665-72-227']}\n",
            "{'nombre': ['11\\tGarcés'], 'telefono': ['55-244-10-361']}\n",
            "{'nombre': ['12\\tGarcía'], 'telefono': ['46-928-422-65']}\n",
            "{'nombre': ['13\\tGarcía'], 'telefono': ['55-580-24-293']}\n",
            "{'nombre': ['14\\tGómez'], 'telefono': ['55-789-33-403']}\n",
            "{'nombre': ['15\\tGónzalez'], 'telefono': ['55-907-91-129']}\n",
            "{'nombre': ['16\\tGuevara'], 'telefono': ['55-121-67-977']}\n",
            "{'nombre': ['17\\tGúzman'], 'telefono': ['55-970-28-624']}\n",
            "{'nombre': ['18\\tHérnandez'], 'telefono': ['55-161-68-809']}\n",
            "{'nombre': ['19\\tJuárez'], 'telefono': ['55-497-22-370']}\n",
            "{'nombre': ['20\\tLerdo'], 'telefono': ['55-7190-3848']}\n",
            "{'nombre': ['21\\tNuñez'], 'telefono': ['5554-72-20-63']}\n",
            "{'nombre': ['22\\tNúñez'], 'telefono': ['55-660-99-872']}\n",
            "{'nombre': ['23\\tPérez'], 'telefono': ['55-376-26-789']}\n",
            "{'nombre': ['24\\tRamírez'], 'telefono': ['55-812-56-695']}\n",
            "{'nombre': ['25\\tReséndiz'], 'telefono': ['55-583-43-525']}\n",
            "{'nombre': ['26\\tRivera'], 'telefono': ['55-489-59-362']}\n",
            "{'nombre': ['27\\tRodríguez'], 'telefono': ['888-314-46-780']}\n",
            "{'nombre': ['28\\tRodríguez'], 'telefono': ['55-931-23-412']}\n",
            "{'nombre': ['29\\tRodríguez'], 'telefono': ['55-366-59-591']}\n",
            "{'nombre': ['30\\tSalas'], 'telefono': ['55-276-13-206']}\n",
            "{'nombre': ['31\\tSalinas'], 'telefono': ['55-626-14-760']}\n",
            "{'nombre': ['32\\tSánchez'], 'telefono': ['55-461-15-303']}\n",
            "{'nombre': ['33\\tSánchez'], 'telefono': ['77-174-67-488']}\n",
            "{'nombre': ['34\\tTéllez'], 'telefono': ['55-93680-510']}\n",
            "{'nombre': ['35\\tVásquez'], 'telefono': ['55-687-34366']}\n",
            "{'nombre': ['36\\tZamarripa'], 'telefono': ['55-458-69-357']}\n"
          ]
        }
      ]
    },
    {
      "cell_type": "markdown",
      "metadata": {
        "id": "_n6-EsdTb3zI"
      },
      "source": [
        "## Contador de palabras\n",
        "\n",
        "En esta ocasión vamos a usar los diccionarios de *Python* para contar la frecuencia de las palabras en un determinado texto.\n",
        "\n",
        "Para tal fin vamos a agregar a la sesión de *Google Colab* el texto del cual queremos contar la aparición de las palabras.\n",
        "\n"
      ]
    },
    {
      "cell_type": "code",
      "metadata": {
        "id": "vZ8Uy7fPcF9A",
        "outputId": "c80f2321-9f4f-42ea-9dbf-1c6b2a8dfcd4",
        "colab": {
          "base_uri": "https://localhost:8080/"
        }
      },
      "source": [
        "!wget https://raw.githubusercontent.com/jugernaut/ManejoDatos/desarrollo/utils/inteligencia.txt"
      ],
      "execution_count": 1,
      "outputs": [
        {
          "output_type": "stream",
          "name": "stdout",
          "text": [
            "--2021-11-23 06:17:38--  https://raw.githubusercontent.com/jugernaut/ManejoDatos/desarrollo/utils/inteligencia.txt\n",
            "Resolving raw.githubusercontent.com (raw.githubusercontent.com)... 185.199.108.133, 185.199.109.133, 185.199.110.133, ...\n",
            "Connecting to raw.githubusercontent.com (raw.githubusercontent.com)|185.199.108.133|:443... connected.\n",
            "HTTP request sent, awaiting response... 200 OK\n",
            "Length: 3439 (3.4K) [text/plain]\n",
            "Saving to: ‘inteligencia.txt’\n",
            "\n",
            "\rinteligencia.txt      0%[                    ]       0  --.-KB/s               \rinteligencia.txt    100%[===================>]   3.36K  --.-KB/s    in 0s      \n",
            "\n",
            "2021-11-23 06:17:38 (42.4 MB/s) - ‘inteligencia.txt’ saved [3439/3439]\n",
            "\n"
          ]
        }
      ]
    },
    {
      "cell_type": "markdown",
      "metadata": {
        "id": "BlwqaYwScayd"
      },
      "source": [
        "Ya con el texto en la sesión de *Google Colab* lo siguiente es utilizar los diccionarios de *Python* para usar las palabras dentro del texto como llaves y la aparición de las palabras en el texto como valores."
      ]
    },
    {
      "cell_type": "code",
      "metadata": {
        "id": "vzjDRv9Hc3pS",
        "outputId": "1d59b878-4061-47c6-a0d0-cf34faccfa54",
        "colab": {
          "base_uri": "https://localhost:8080/"
        }
      },
      "source": [
        "# bibliotecas utilizadas\n",
        "import re\n",
        "from collections import Counter\n",
        "\n",
        "def data_mining(ruta):\n",
        "  #abrimos el archivo a leer\n",
        "  archivo = open(ruta)\n",
        "  \n",
        "  # se gudarda en una variable el resultado de leer el archivo\n",
        "  cadenota = archivo.read()\n",
        "  \n",
        "  # generamos una lista con las palabaras utilizando el espacio en blanco\n",
        "  # como patron delimitador para obtener cada una de las palabras\n",
        "  lista_palabras = re.split('\\s+', cadenota)\n",
        "  \n",
        "  # se crea un diccionario para contar la frecuencia de las palabras\n",
        "  diccionario = {}\n",
        "\n",
        "  # contamos la frecuencia de cada palabra\n",
        "  for palabra in lista_palabras:\n",
        "    # cada palabra es agregada al diccionario, si ya se tiene tal llave se suma 1\n",
        "    # en caso de no existir dicha palabra se devuelve cero. En cualquier caso\n",
        "    # se suma uno por cada vez que aparezca dicha palabra\n",
        "    diccionario[palabra] = diccionario.get(palabra, 0) + 1\n",
        "      \n",
        "  # antes de procesar la cadenota deberia pasar un proceso de limpieza en el\n",
        "  # cual mediante regex se eliminaran palabras muy frecuentes como articulos\n",
        "  print(diccionario)\n",
        "\n",
        "  # usando el paquete collections podemos ordenar el diccionario, a pesar\n",
        "  # de que no es una cualidad de los diccionaros\n",
        "  contador = Counter(diccionario)\n",
        "  diccionarioOrdenado = contador.most_common()\n",
        "\n",
        "  # Se imprime el diccionario ordenado para saber facilmente de que trato el\n",
        "  # el texto de la cadenota\n",
        "  print(diccionarioOrdenado)\n",
        "\n",
        "if __name__ == \"__main__\":\n",
        "  # ruta donde se ubica el texto a analiza\n",
        "  data_mining(\"inteligencia.txt\")"
      ],
      "execution_count": 3,
      "outputs": [
        {
          "output_type": "stream",
          "name": "stdout",
          "text": [
            "{'Ahora': 1, 'que': 17, 'ya': 1, 'conoce': 1, 'la': 14, 'definición': 1, 'de': 51, 'IA': 2, 'y': 12, 'más': 2, 'su': 4, 'historia,': 1, 'mejor': 1, 'forma': 1, 'profundizar': 1, 'en': 15, 'el': 9, 'tema': 1, 'es': 5, 'conocer': 1, 'las': 5, 'principales': 1, 'técnicas': 1, 'IA,': 1, 'específicamente,': 1, 'los': 10, 'casos': 2, 'Inteligencia': 1, 'artificial': 1, 'se': 9, 'utiliza': 2, 'para': 6, 'negocios.': 1, 'Aprendizaje': 10, 'automático': 6, 'Generalmente,': 1, 'concepto': 3, 'confunde': 1, 'con': 3, '“IA': 1, 'débil”.': 1, 'Es': 3, 'este': 1, 'campo': 1, 'donde': 1, 'avances': 1, 'importantes': 1, 'están': 2, 'llevando': 1, 'a': 4, 'cabo.': 1, 'En': 1, 'términos': 1, 'prácticos,': 1, '“el': 1, 'ciencia': 1, 'encarga': 1, 'hacer': 2, 'computadoras': 1, 'realicen': 1, 'acciones': 1, 'sin': 1, 'necesidad': 1, 'programación': 1, 'explícita”.': 1, 'La': 3, 'idea': 2, 'principal': 2, 'aquí': 1, 'les': 1, 'puede': 2, 'proporcionar': 1, 'datos': 3, 'algoritmos': 4, 'luego': 1, 'usarlos': 1, 'saber': 1, 'cómo': 1, 'predicciones': 1, 'o': 3, 'guiar': 1, 'decisiones.': 1, 'Algunos': 2, 'ejemplos': 2, 'incluyen': 1, 'siguientes:': 2, 'diagramas': 1, 'decisiones,': 1, 'agrupamiento,': 1, 'genéticos,': 1, 'redes': 2, 'Bayesianas': 1, 'profundo.': 1, 'profundo': 2, '¿Recuerda': 1, 'cuando': 1, 'Google': 1, 'anunció': 1, 'un': 10, 'algoritmo': 1, 'encontraba': 1, 'videos': 1, 'gatos': 1, 'Youtube?': 1, '(Si': 1, 'desea': 1, 'refrescar': 1, 'memoria': 1, 'haga': 1, 'clic': 1, 'aquí).': 1, 'Pues': 1, 'bien,': 1, 'esto': 1, 'profundo,': 1, 'una': 4, 'técnica': 1, 'neuronales': 1, '(el': 1, 'neuronas': 1, 'pueden': 1, 'simular': 1, 'mediante': 1, 'unidades': 1, 'computacionales)': 1, 'realizar': 1, 'tareas': 1, 'clasificación': 1, '(piense': 1, 'clasificar': 1, 'imagen': 1, 'gato,': 1, 'perro': 1, 'personas,': 1, 'por': 1, 'ejemplo).': 1, 'aplicaciones': 1, 'prácticas': 1, 'del': 2, 'son': 2, 'identificación': 2, 'vehículos,': 1, 'peatones': 1, 'placas': 1, 'matrícula': 1, 'vehículos': 1, 'autónomos,': 1, 'reconocimiento': 1, 'imagen,': 1, 'traducción': 1, 'procesamiento': 1, 'lenguaje': 1, 'natural.': 1, 'Descubrimiento': 1, 'inteligentes': 2, 'próximo': 1, 'paso': 1, 'soluciones': 1, 'IE': 2, '(Inteligencia': 1, 'empresarial).': 1, 'consiste': 1, 'permitir': 1, 'automatización': 1, 'total': 1, 'ciclo': 1, 'IE:': 1, 'incorporación': 1, 'preparación': 1, 'datos,': 1, 'análisis': 2, 'predictivo': 4, 'patrones': 1, 'hipótesis.': 1, 'Este': 1, 'ejemplo': 1, 'interesante': 1, 'recuperación': 1, 'acción.': 1, 'información': 1, 'ninguna': 1, 'herramienta': 1, 'había': 1, 'descubierto.': 1, 'Análisis': 1, 'Piense': 1, 'ese': 1, 'momento': 1, 'está': 1, 'contratando': 1, 'seguro': 1, 'auto': 1, 'agente': 1, 'le': 1, 'hace': 1, 'serie': 1, 'preguntas': 3, 'Estas': 1, 'relacionadas': 1, 'variables': 2, 'influyen': 1, 'riesgo.': 1, 'Detrás': 1, 'estas': 1, 'encuentra': 1, 'modelo': 2, 'informa': 1, 'sobre': 1, 'probabilidad': 3, 'ocurra': 1, 'accidente': 1, 'base': 1, 'edad,': 2, 'código': 2, 'postal,': 2, 'género,': 1, 'marca': 1, 'auto,': 1, 'etc.': 1, 'mismo': 1, 'principio': 1, 'emplea': 1, 'modelos': 5, 'predictivos': 1, 'crédito': 1, 'identificar': 1, 'buenos': 1, 'malos': 1, 'pagadores.': 1, 'Por': 1, 'lo': 1, 'tanto,': 1, '(o': 1, 'modelado)': 1, 'significa': 1, 'utilizar': 1, 'número': 2, '(ingresos,': 1, 'etc.)': 1, 'combinadas': 1, 'resultados': 1, '(por': 2, 'ejemplo,': 2, 'buen': 1, 'mal': 1, 'pagador)': 1, 'generar': 1, 'proporcione': 1, 'puntuación': 1, '(un': 1, 'entre': 2, '0': 1, '1)': 1, 'representa': 1, 'evento': 1, 'pago,': 1, 'migración': 2, 'clientes,': 2, 'accidente,': 1, 'etc.).': 1, 'Los': 1, 'uso': 1, 'negocios': 1, 'amplios:': 1, 'crédito,': 1, 'segmentación': 1, 'clientes': 1, '(agrupamiento),': 1, 'compra': 1, 'otros.': 1, '': 1}\n",
            "[('de', 51), ('que', 17), ('en', 15), ('la', 14), ('y', 12), ('los', 10), ('Aprendizaje', 10), ('un', 10), ('el', 9), ('se', 9), ('para', 6), ('automático', 6), ('es', 5), ('las', 5), ('modelos', 5), ('su', 4), ('a', 4), ('algoritmos', 4), ('una', 4), ('predictivo', 4), ('concepto', 3), ('con', 3), ('Es', 3), ('La', 3), ('datos', 3), ('o', 3), ('preguntas', 3), ('probabilidad', 3), ('IA', 2), ('más', 2), ('casos', 2), ('utiliza', 2), ('están', 2), ('hacer', 2), ('idea', 2), ('principal', 2), ('puede', 2), ('Algunos', 2), ('ejemplos', 2), ('siguientes:', 2), ('redes', 2), ('profundo', 2), ('del', 2), ('son', 2), ('identificación', 2), ('inteligentes', 2), ('IE', 2), ('análisis', 2), ('variables', 2), ('modelo', 2), ('edad,', 2), ('código', 2), ('postal,', 2), ('número', 2), ('(por', 2), ('ejemplo,', 2), ('entre', 2), ('migración', 2), ('clientes,', 2), ('Ahora', 1), ('ya', 1), ('conoce', 1), ('definición', 1), ('historia,', 1), ('mejor', 1), ('forma', 1), ('profundizar', 1), ('tema', 1), ('conocer', 1), ('principales', 1), ('técnicas', 1), ('IA,', 1), ('específicamente,', 1), ('Inteligencia', 1), ('artificial', 1), ('negocios.', 1), ('Generalmente,', 1), ('confunde', 1), ('“IA', 1), ('débil”.', 1), ('este', 1), ('campo', 1), ('donde', 1), ('avances', 1), ('importantes', 1), ('llevando', 1), ('cabo.', 1), ('En', 1), ('términos', 1), ('prácticos,', 1), ('“el', 1), ('ciencia', 1), ('encarga', 1), ('computadoras', 1), ('realicen', 1), ('acciones', 1), ('sin', 1), ('necesidad', 1), ('programación', 1), ('explícita”.', 1), ('aquí', 1), ('les', 1), ('proporcionar', 1), ('luego', 1), ('usarlos', 1), ('saber', 1), ('cómo', 1), ('predicciones', 1), ('guiar', 1), ('decisiones.', 1), ('incluyen', 1), ('diagramas', 1), ('decisiones,', 1), ('agrupamiento,', 1), ('genéticos,', 1), ('Bayesianas', 1), ('profundo.', 1), ('¿Recuerda', 1), ('cuando', 1), ('Google', 1), ('anunció', 1), ('algoritmo', 1), ('encontraba', 1), ('videos', 1), ('gatos', 1), ('Youtube?', 1), ('(Si', 1), ('desea', 1), ('refrescar', 1), ('memoria', 1), ('haga', 1), ('clic', 1), ('aquí).', 1), ('Pues', 1), ('bien,', 1), ('esto', 1), ('profundo,', 1), ('técnica', 1), ('neuronales', 1), ('(el', 1), ('neuronas', 1), ('pueden', 1), ('simular', 1), ('mediante', 1), ('unidades', 1), ('computacionales)', 1), ('realizar', 1), ('tareas', 1), ('clasificación', 1), ('(piense', 1), ('clasificar', 1), ('imagen', 1), ('gato,', 1), ('perro', 1), ('personas,', 1), ('por', 1), ('ejemplo).', 1), ('aplicaciones', 1), ('prácticas', 1), ('vehículos,', 1), ('peatones', 1), ('placas', 1), ('matrícula', 1), ('vehículos', 1), ('autónomos,', 1), ('reconocimiento', 1), ('imagen,', 1), ('traducción', 1), ('procesamiento', 1), ('lenguaje', 1), ('natural.', 1), ('Descubrimiento', 1), ('próximo', 1), ('paso', 1), ('soluciones', 1), ('(Inteligencia', 1), ('empresarial).', 1), ('consiste', 1), ('permitir', 1), ('automatización', 1), ('total', 1), ('ciclo', 1), ('IE:', 1), ('incorporación', 1), ('preparación', 1), ('datos,', 1), ('patrones', 1), ('hipótesis.', 1), ('Este', 1), ('ejemplo', 1), ('interesante', 1), ('recuperación', 1), ('acción.', 1), ('información', 1), ('ninguna', 1), ('herramienta', 1), ('había', 1), ('descubierto.', 1), ('Análisis', 1), ('Piense', 1), ('ese', 1), ('momento', 1), ('está', 1), ('contratando', 1), ('seguro', 1), ('auto', 1), ('agente', 1), ('le', 1), ('hace', 1), ('serie', 1), ('Estas', 1), ('relacionadas', 1), ('influyen', 1), ('riesgo.', 1), ('Detrás', 1), ('estas', 1), ('encuentra', 1), ('informa', 1), ('sobre', 1), ('ocurra', 1), ('accidente', 1), ('base', 1), ('género,', 1), ('marca', 1), ('auto,', 1), ('etc.', 1), ('mismo', 1), ('principio', 1), ('emplea', 1), ('predictivos', 1), ('crédito', 1), ('identificar', 1), ('buenos', 1), ('malos', 1), ('pagadores.', 1), ('Por', 1), ('lo', 1), ('tanto,', 1), ('(o', 1), ('modelado)', 1), ('significa', 1), ('utilizar', 1), ('(ingresos,', 1), ('etc.)', 1), ('combinadas', 1), ('resultados', 1), ('buen', 1), ('mal', 1), ('pagador)', 1), ('generar', 1), ('proporcione', 1), ('puntuación', 1), ('(un', 1), ('0', 1), ('1)', 1), ('representa', 1), ('evento', 1), ('pago,', 1), ('accidente,', 1), ('etc.).', 1), ('Los', 1), ('uso', 1), ('negocios', 1), ('amplios:', 1), ('crédito,', 1), ('segmentación', 1), ('clientes', 1), ('(agrupamiento),', 1), ('compra', 1), ('otros.', 1), ('', 1)]\n"
          ]
        }
      ]
    },
    {
      "cell_type": "markdown",
      "metadata": {
        "id": "MMOa0DdUdoyA"
      },
      "source": [
        "La primera lista representa el diccionario con el siguiente formato *'palabra':frecuencia* y la segunda lista, es el diccionario en forma de tuplas pero ya ordenadas de por frecuencia en orden decreciente.\n",
        "\n",
        "De tal manera que podemos apreciar que la palabra que más aparece en el texto *inteligencia.txt* (descontando artículos, pronombres y preposiciones) es **Aprendizaje**."
      ]
    },
    {
      "cell_type": "markdown",
      "metadata": {
        "id": "mE-_tFNJfwkZ"
      },
      "source": [
        "## Carrito de compras en linea (Black Friday 🙀)\n",
        "\n",
        "En este ejemplo vamos a usar los diccionarios de *Python* como catalogo para los artículos que los usuarios agregan a su carro de compras con la finalidad de saber cual es el costo total de los artículos para un determinado cliente."
      ]
    },
    {
      "cell_type": "code",
      "metadata": {
        "id": "C9C1_zK7hqSG",
        "outputId": "ee7f4337-c250-451f-8e36-e7a150c8499b",
        "colab": {
          "base_uri": "https://localhost:8080/"
        }
      },
      "source": [
        "import time\n",
        "\n",
        "# clase que ayuda a contener el nombre y articulos que compra un cliente\n",
        "class Cliente(object):\n",
        "\n",
        "  def __init__(self, nombre):\n",
        "    # nombre del cliente\n",
        "    self.nombre = nombre\n",
        "    # articulos que compro el cliente\n",
        "    self.carrito = []\n",
        "\n",
        "# clase que simula el cobro que llevaria a cabo una empresa de compras en linea\n",
        "class Amazon(object):\n",
        "\n",
        "  # VARIABLE DE CLASE O ESTATICA\n",
        "  # diccionario con el catalogo de articulos y su precio\n",
        "  catalogo = {'PS5':10000, 'Audifonos':2500, 'Halo':1500, 'HDD':900, \n",
        "              'Laptop':25000, 'GTX1000':6000, 'SmartWatch':7500}\n",
        "\n",
        "  def __init__(self, nombre):\n",
        "    self.nombre = nombre\n",
        "\n",
        "  # metodo que simula el cobro de un cliente\n",
        "  def cobrar(self, cliente):\n",
        "    # se revisa el carrito del cliente y el catalogo\n",
        "    total = 0\n",
        "    # cada articulo se cobra\n",
        "    for articulo in cliente.carrito:\n",
        "      print('Se cobra :',articulo, self.catalogo[articulo])\n",
        "      # se hace una pausa de 2 segundos para simular el cobro\n",
        "      time.sleep(2)\n",
        "      # total almacena el total de los articulos del cliente\n",
        "      total += self.catalogo[articulo]\n",
        "    print('Total del cliente', cliente.nombre,':', total)\n",
        "\n",
        "\n",
        "if __name__ == \"__main__\":\n",
        "  cliente1 = Cliente('Mike')\n",
        "  cliente1.carrito = ['PS5', 'SmartWatch', 'Audifonos']\n",
        "\n",
        "  amazon = Amazon('cobrador 1')\n",
        "  amazon.cobrar(cliente1)\n",
        "\n",
        "  cliente2 = Cliente('Ivan')\n",
        "  cliente2.carrito = ['GTX1000', 'HDD', 'GTX1000', 'Laptop']\n",
        "\n",
        "  amazon.cobrar(cliente2)\n",
        "\n",
        "  cliente3 = Cliente('Jonathan')\n",
        "  cliente3.carrito = ['Laptop', 'PS5', 'Audifonos', 'Halo', 'HDD',\n",
        "                      'GTX1000', 'SmartWatch']\n",
        "\n",
        "  amazon.cobrar(cliente3)\n"
      ],
      "execution_count": 21,
      "outputs": [
        {
          "output_type": "stream",
          "name": "stdout",
          "text": [
            "Se cobra : PS5 10000\n",
            "Se cobra : SmartWatch 7500\n",
            "Se cobra : Audifonos 2500\n",
            "Total del cliente Mike : 20000\n",
            "Se cobra : GTX1000 6000\n",
            "Se cobra : HDD 900\n",
            "Se cobra : GTX1000 6000\n",
            "Se cobra : Laptop 25000\n",
            "Total del cliente Ivan : 37900\n",
            "Se cobra : Laptop 25000\n",
            "Se cobra : PS5 10000\n",
            "Se cobra : Audifonos 2500\n",
            "Se cobra : Halo 1500\n",
            "Se cobra : HDD 900\n",
            "Se cobra : GTX1000 6000\n",
            "Se cobra : SmartWatch 7500\n",
            "Total del cliente Jonathan : 53400\n"
          ]
        }
      ]
    },
    {
      "cell_type": "markdown",
      "metadata": {
        "id": "j1IeKBdJrW4E"
      },
      "source": [
        "### Puntos Importantes\n",
        "\n",
        "En este ejemplo podemos ver como se usan los diccionarios de *Python* como catalogo para los precios de los artículos y como es que los objetos acceden a este catalogo para poder realizar el cobro correcto de los artículos en el carrito de compras.\n",
        "\n",
        "Sin embargo más allá del uso de los diccionarios hay 2 cosas importantes que se pueden resaltar: \n",
        "\n",
        "* **Variables estáticas o compartidas**: El `catalogo` en la clase `Amazon` en realidad es una variable de clase, lo que significa que esa variable es la misma para todos los objetos de la clase `Amazon`. Esto además de ser coherente con lo que sucede en la realidad, también ayuda a ahorrar memoria, ya que no es necesario tener un catalogo por cada objeto de tipo `Amazon` y basta con un solo catalogo para todos. \n",
        "* `time.sleep()`: Esta función nos ayuda a detener la ejecución del código un par de segundos con la finalidad de \"simular\" el cobro de los artículos. Sin embargo esta función lo que hace es detener el **hilo de ejecución** del algoritmo, tema que veremos más adelante, pero eso nos hace pensar, **¿Si hubieran más objetos de tipo `Amazon`, el cobro de los clientes se podría realizar en paralelo?.**\n",
        "\n",
        "\n",
        "\n"
      ]
    },
    {
      "cell_type": "markdown",
      "metadata": {
        "id": "HzT2Ru3rqGhW"
      },
      "source": [
        "# Referencias\n",
        "\n",
        "*  Thomas H. Cormen: Introduction to Algorithms.\n",
        "* Libro Web: Introduccion a Python.\n",
        "* Daniel T. Joyce: Object-Oriented Data Structures.\n",
        "* John C. Mitchell: Concepts in programing Languages."
      ]
    }
  ]
}
