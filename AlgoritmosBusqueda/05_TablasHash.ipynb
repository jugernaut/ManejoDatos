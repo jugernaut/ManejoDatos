{
  "nbformat": 4,
  "nbformat_minor": 0,
  "metadata": {
    "colab": {
      "name": "TablasHash.ipynb",
      "provenance": [],
      "toc_visible": true,
      "include_colab_link": true
    },
    "kernelspec": {
      "name": "python3",
      "display_name": "Python 3"
    },
    "language_info": {
      "name": "python"
    }
  },
  "cells": [
    {
      "cell_type": "markdown",
      "metadata": {
        "id": "view-in-github",
        "colab_type": "text"
      },
      "source": [
        "<a href=\"https://colab.research.google.com/github/jugernaut/ManejoDatos/blob/desarrollo/AlgoritmosBusqueda/05_TablasHash.ipynb\" target=\"_parent\"><img src=\"https://colab.research.google.com/assets/colab-badge.svg\" alt=\"Open In Colab\"/></a>"
      ]
    },
    {
      "cell_type": "markdown",
      "metadata": {
        "id": "3HIOuyhzps7A"
      },
      "source": [
        "<font color=\"Teal\" face=\"Comic Sans MS,arial\">\n",
        "  <h1 align=\"center\"><i>Tablas de Dispersión (HASH)</i></h1>\n",
        "  </font>\n",
        "  <font color=\"Black\" face=\"Comic Sans MS,arial\">\n",
        "  <h5 align=\"center\"><i>Profesor: M. en C. Miguel Angel Pérez León</i></h5>\n",
        "  <h5 align=\"center\"><i>Ayudante: Jesús Iván Coss Calderón</i></h5>\n",
        "  <h5 align=\"center\"><i>Ayudante: Jonathan Ramírez Montes</i></h5>\n",
        "  <h5 align=\"center\"><i>Materia: Manejo de Datos</i></h5>\n",
        "</font>"
      ]
    },
    {
      "cell_type": "markdown",
      "metadata": {
        "id": "ElKDaY9AqDnp"
      },
      "source": [
        "# Introducción\n",
        "\n",
        "Las **tablas de dispersión o tablas *hash***, son otro tipo de estructura de datos que es empleado ampliamente en el campo de las ciencias. Este tipo de estructura de datos se encarga de mapear un conjunto de valores (values) a su correspondiente llave (key).\n",
        "\n",
        "Para llevar a cabo dicho mapeo se hace uso de una función conocida como **función hash**.\n",
        "\n",
        "De igual manera que con las estructuras vistas previamente las tablas *hash* permiten almacenar el tipo de información que se necesite, desde simples valores numéricos, hasta información más compleja.\n",
        "\n",
        "El principal elemento que define una tabla *hash*, es su función *hash* (función de dispersión), ya que a través de esta función se acceden a los valores almacenados y de esta manera podemos buscar un valor, insertar o eliminar un valor asociado a una llave."
      ]
    },
    {
      "cell_type": "markdown",
      "metadata": {
        "id": "XRGwWQkOqKWG"
      },
      "source": [
        "## Usos de tablas Hash\n",
        "\n",
        "Las tablas *hash* son empleadas en muchas áreas, por ejemplo:\n",
        "\n",
        "**Bancos**: normalmente los clientes son asociados a una llave (cuenta), de manera tal que se puede acceder a los datos del cliente mediante esta llave.\n",
        "\n",
        "**Hospitales**: al igual que en un banco, es más sencillo acceder a los datos de un paciente empleando una llave, por ejemplo su RFC o su CURP. De esta manera se accede al historial del paciente empleando una llave, además esta llave esta asociada con uno y solo un paciente. \n",
        "\n",
        "**Bases de datos**: de manera general podemos pensar que en la mayoría de las bases de datos los registros almacenados contienen un identificador que funciona como llave y a través de esta llave se accede al valor almacenado en la base de datos."
      ]
    },
    {
      "cell_type": "markdown",
      "metadata": {
        "id": "pGoRyhoqqKR8"
      },
      "source": [
        "# Función *Hash*\n",
        "\n",
        "La función *hash* es la parte más importante en toda tabla de dispersión, ya que dependiendo de la definición de dicha función, será como los valores sean mapeados con sus respectivas llaves.\n",
        "\n",
        "La función hash puede ser tan variada como la aplicación que se le vaya a dar, sin embargo es necesario que esta función cumpla con ciertas características importantes que mencionaremos a continuación."
      ]
    },
    {
      "cell_type": "markdown",
      "metadata": {
        "id": "FQpzxO_8qKOu"
      },
      "source": [
        "## Características \n",
        "\n",
        "La función *hash* depende en gran medida del **conjunto de llaves (dominio)** sobre el cual sera definida y también depende del **uso que se le vaya a dar** al la tabla *hash*.\n",
        "\n",
        "Sin embargo existen 3 propiedades que siempre debe cumplir una función *hash*: \n",
        "\n",
        "*   **Debe ser inyectiva** o dicho de otra manera, debe evitar colisiones en la medida de lo posible, es decir. Sea $f$ la función hash, $X$ el conjunto de llaves (dominio) y $Y$ el conjunto de valores (codominio). $$f:X\\rightarrow Y\\,\\,\\,\\,\\forall a,b\\in X\\,\\mid f(a)=f(b)\\Rightarrow a=b$$.\n",
        "*   **No debe involucrar demasiados cálculos**, ya que de otra manera las operaciones sobre la tabla hash incrementan su costo (recursos).\n",
        "*   **No debe ser posible su reconstrucción** tomando como base la salida de esta.\n"
      ]
    },
    {
      "cell_type": "markdown",
      "metadata": {
        "id": "Rvh4azTzqKJr"
      },
      "source": [
        "## Ejemplo función *hash*\n",
        "\n",
        "El siguiente ejemplo muestra una de muchas formas en como se puede definir la función *hash*, en este ejemplo a la función *hash* le vamos a decir \"polinomio de direccionamiento\" y se emplea de manera frecuente en las ciencias de la computación.\n",
        "\n",
        "Supongamos que contamos con la siguiente matriz.\n",
        "\n",
        "$$Sea\\,A\\in M_{2x2}=\\left(\\begin{array}{cc}\n",
        "3_{(0,0)} & 6_{(0,1)}\\\\\n",
        "7_{(1,0)} & 9_{(1,1)}\n",
        "\\end{array}\\right)$$\n",
        "\n",
        "Por razones de espacio en memoria, necesitamos almacenar los elementos de $A$ en un objeto lineal, digamos una lista. De tal manera que los elementos de $A$ se vean así. \n",
        "\n",
        "$$\\left[\\begin{array}{cccc}\n",
        "3_{0} & 6_{1} & 7_{2} & 9_{3}\\end{array}\\right]$$\n",
        "\n",
        "Dicho en otras palabras, **necesitamos mapear las tuplas que representan las posiciones de los valores de $A$ en posiciones dentro de la lista**.\n",
        "\n",
        "Para llevar a cabo este mapeo necesitamos una función *hash*, que en este caso dicha función debe tomar una tupla que representa la entrada de $A$ y debe devolver una localidad de la lista. Es decir.\n",
        "\n",
        "$$X=\\{(0,0),(0,1),(1,0),(1,1)\\},Y=\\{0,1,2,3\\},f:X\\rightarrow Y$$\n",
        "\n",
        "Nos gustaría que la entrada (0,0) de A fuera mapeada a la localidad 0 de la lista y así sucesivamente hasta llegar a que la entrada (1,1) se mapeara a la localidad 3 del arreglo, es decir\n",
        "\n",
        "\\begin{array}{cc}\n",
        "f((0,0))=0 & f((0,1))=1\\\\\n",
        "f((1,0))=2 & f((1,1))=3\n",
        "\\end{array}\n",
        "\n",
        "Podríamos pensar que una buena forma de definir a $f$, seria $f((x,y))=x+y$, pero veamos que sucede al probarla.\n",
        "\n",
        "\\begin{array}{c}\n",
        "f((0,0))=0+0=0.......\\color{green}{¡bien!}\\\\\n",
        "f((0,1))=0+1=1.......\\color{green}{¡bien!}\n",
        "\\end{array}\n",
        "\n",
        "\\begin{array}{c}\n",
        "f((1,0))=1+0=1.......\\color{red}{¡colisi\\acute{o}n!}\\\\\n",
        "f((0,1))=1=f((1,0))\n",
        "\\end{array}\n",
        "\n",
        "Dado que se tuvo una colisión, es necesario re-definirla de otra manera menos ingenua. Veamos que sucede si definimos a $f$ de la siguiente manera.\n",
        "\n",
        "$$f((x,y))=2x+y$$\n",
        "\n",
        "Al probarla, lo que obtenemos es.\\begin{array}{c}\n",
        "f((0,0))=2*0+0=0\\\\\n",
        "f((0,1))=2*0+1=1\\\\\n",
        "f((1,0))=2*1+0=2\\\\\n",
        "f((1,1))=2*1+1=3\n",
        "\\end{array}\n",
        "\n",
        "Esta función, no muestra colisiones (al menos en el dominio y codominio definidos), incluso se podría probar que no presentará colisiones para ningún par de tuplas de naturales. Ademas cumple con el resto de las propiedades."
      ]
    },
    {
      "cell_type": "markdown",
      "metadata": {
        "id": "4ebSFWQRqJ22"
      },
      "source": [
        "### Forma general del polinomio de direccionamiento\n",
        "\n",
        "Así que podemos pensar, que para el caso particular de matrices bidimensionales $A_{(i,j)}\\in M_{ren\\,x\\,col}$ podemos definir la función hash que mapea localidades de dicha matriz en una lista (arreglo) unidimensional de la siguiente forma.\n",
        "\n",
        "$$f((i,j))=col*i+j$$\n",
        "\n",
        "<center>\n",
        "<img src=\"https://github.com/jugernaut/ManejoDatos/blob/desarrollo/Imagenes/AlgoritmosBusqueda/poli.png?raw=1\" width=\"400\"> \n",
        "</center>\n",
        "\n",
        "En la imagen podemos ver como se almacena una matriz en localidades de memoria en una computadora, los valores $\\{100, 101, ... , 105\\}$ representan las localidades de la memoria y los valores $\\{X[1,1],X[2,1],...,X[3,2]\\}$ representan los valores de la matriz $X$.\n"
      ]
    },
    {
      "cell_type": "markdown",
      "metadata": {
        "id": "tuZlv_y-qJw-"
      },
      "source": [
        "# Ventajas y desventajas de una tabla *hash*\n",
        "\n",
        "Ya que vimos como es que se construye y se utiliza una tabla de dispersión, vamos a analizar sus ventajas y desventajas:\n",
        "\n",
        "* La principal ventaja es que **el orden de complejidad para isertar, buscar o eliminar en una tabla *hash* es constante**, es decir $O(1)$.\n",
        "\n",
        "* Si la función *hash* fue definida siguiendo las características que se piden para este tipo de funciones, utilizar una tabla *hash* se vuelve un procedimiento muy **eficiente y seguro**.\n",
        "\n",
        "* La principal desventaja de una tabla *hash* es el hecho de que **ni las llaves, ni los valores estan obligados a conservar un orden**, así que es difícil ordenar por algún criterio una tabla *hash*.\n",
        "\n",
        "* Otra desventaja es que **a veces es complicado eviar las colisiones**, así que se tiene que hacer uso de alguna técnica adicional para poder resolver las colisiones."
      ]
    },
    {
      "cell_type": "markdown",
      "metadata": {
        "id": "ZA5kaSJNqJqE"
      },
      "source": [
        "# Diccionarios en *Python*\n",
        "\n",
        "Los diccionarios de *Python*, son una de muchas formas de poner en práctica el concepto de tablas *hash*, son muy útiles y faciles de usar.\n",
        "\n",
        "Además como ya vienen incluidos dentro de las paqueterias de *Python* no hace falta instalar, ni si quiera importar algun paquete para poder hacer uso de los diccionarios."
      ]
    },
    {
      "cell_type": "markdown",
      "metadata": {
        "id": "2Rbh3uLhqJiM"
      },
      "source": [
        "## Diccionarios\n",
        "\n",
        "Dado que las tablas *hash* son muy útiles, la gran mayoría de los lenguajes ya cuenta con alguna implementación de estas, sin embargo a veces es necesario revisar la documentación para poder hacer uso de estas implementaciones. \n",
        "\n",
        "Por el contrario, *Python* muy a su estilo (*Pythonic way*) cuenta con una implementación (de las muchas que existen) de las tablas *hash* conocida como **diccionarios**. Esta implementación es muy sencilla e intuitiva de utilizar.\n",
        "\n",
        "La idea detrás de los diccionarios de **Python** es básicamente la misma que la de las tablas *hash*, con la peculiaridad de que el usuario no esta obligado a definir la funcion *hash*.\n",
        "\n",
        "Es decir que es suficiente con proporcionar la llave y el valor asociado a esta y *Python* se encarga de relacionarlos."
      ]
    },
    {
      "cell_type": "markdown",
      "metadata": {
        "id": "SUGzOiL6qJaQ"
      },
      "source": [
        "## Sintaxis de los diccionarios\n",
        "\n",
        "Este tipo de estructuras se emplea principalmente en *data mining* o *big data*, pero no es su único uso, también se puede usar en áreas como *deep learning* o incluso en *natural language processing*. A continuación se muestra un ejemplo de como usar los diccionarios de Python.\n",
        "\n",
        "* `diccionario = {}`: instrucción para crear un diccionario vacío.\n",
        "\n",
        "* `diccionario['llave'] = valor`: insertamos una llave y un valor en caso de no existir ó se actualiza el valor asociado a la llave.\n",
        "\n",
        "* `print(diccionario)`: se imprime el diccionario.\n",
        "\n",
        "* `del(diccionario[llave])`: borra la llave y valor asociado a esta.\n",
        "\n",
        "* `diccionario.clear()`: borra todas las llaves y valores dentro del diccionario."
      ]
    },
    {
      "cell_type": "markdown",
      "metadata": {
        "id": "HzT2Ru3rqGhW"
      },
      "source": [
        "# Referencias\n",
        "\n",
        "*  Thomas H. Cormen: Introduction to Algorithms.\n",
        "* Libro Web: Introduccion a Python.\n",
        "* Daniel T. Joyce: Object-Oriented Data Structures.\n",
        "* John C. Mitchell: Concepts in programing Languages."
      ]
    }
  ]
}