{
  "nbformat": 4,
  "nbformat_minor": 0,
  "metadata": {
    "colab": {
      "name": "ArbolesBalanceados.ipynb",
      "provenance": [],
      "toc_visible": true,
      "include_colab_link": true
    },
    "kernelspec": {
      "name": "python3",
      "display_name": "Python 3"
    },
    "language_info": {
      "name": "python"
    }
  },
  "cells": [
    {
      "cell_type": "markdown",
      "metadata": {
        "id": "view-in-github",
        "colab_type": "text"
      },
      "source": [
        "<a href=\"https://colab.research.google.com/github/jugernaut/ManejoDatos/blob/desarrollo/AlgoritmosBusqueda/ArbolesBalanceados.ipynb\" target=\"_parent\"><img src=\"https://colab.research.google.com/assets/colab-badge.svg\" alt=\"Open In Colab\"/></a>"
      ]
    },
    {
      "cell_type": "markdown",
      "metadata": {
        "id": "JmymMzF4lG93"
      },
      "source": [
        "<font color=\"Teal\" face=\"Comic Sans MS,arial\">\n",
        "  <h1 align=\"center\"><i>Arboles Balanceados (AVL)</i></h1>\n",
        "  </font>\n",
        "  <font color=\"Black\" face=\"Comic Sans MS,arial\">\n",
        "  <h5 align=\"center\"><i>Profesor: M. en C. Miguel Angel Pérez León</i></h5>\n",
        "  <h5 align=\"center\"><i>Ayudante: Jesús Iván Coss Calderón</i></h5>\n",
        "  <h5 align=\"center\"><i>Ayudante: Jonathan Ramírez Montes</i></h5>\n",
        "  <h5 align=\"center\"><i>Materia: Manejo de Datos</i></h5>\n",
        "</font>"
      ]
    },
    {
      "cell_type": "markdown",
      "metadata": {
        "id": "5c1BVdROlJ9T"
      },
      "source": [
        "# Introducción \n",
        "\n",
        "Los Arboles Binarios Balanceados (AAVL) son la evolución de los Arboles Binarios de Búsqueda ABB, ya que los AAVL además de cumplir con la definición y operaciones de los ABB, mantienen una caracteristica muy importante el que se encuentran siempre balanceados.\n",
        "\n",
        "Podémos pensar que un AAVL es un ABB cuyos elementos se encuentran ordenados y además el AAVL se encuentra balanceado.\n",
        "\n",
        "Continuando con la idea de POO vamos a construir los AAVL tomando como base la clase ABB.\n"
      ]
    },
    {
      "cell_type": "markdown",
      "metadata": {
        "id": "o8rjhI9dn5Za"
      },
      "source": [
        "# Arboles AVL (Balanceados)\n",
        "\n",
        "Los Arboles AVL (o balanceados) le deben su nombre a los creadores de este tipo de árboles, Georgii Adelson-Velskii y Yevgeniy Landis.\n",
        "\n",
        "La principal característica de este tipo de árboles es que siempre permanecen **balanceados**.\n",
        "\n",
        "El hecho de que estos árboles se mantengan balanceados, sin\n",
        "importar cuantos elementos se inserten o se eliminen ayuda a\n",
        "**disminuir el orden de complejidad** de las operaciones más comunes en árboles, como la búsqueda.\n",
        "\n",
        "La forma en la que estos árboles se mantienen balanceados es gracias a la **definición de balanceo** y a las operaciones para balancear un nodo, conocidas como **rotaciones**.\n",
        "\n",
        "El hecho de que los AAVL siempre se encuentren balanceados, garantiza que las operaciones como la búsqueda (que es de las operaciones más frecuentes) siempre se mantenga en el orden **complejidad logarítmica $O(\\log_{2}n)$** donde $n$ es el número de nodos.\n",
        "\n",
        "Esto ayuda a que el resto de las operaciones que se apoyan de la búsqueda (como el insertar o eliminar) disminuyan el orden de complejidad al que perenecen."
      ]
    },
    {
      "cell_type": "markdown",
      "metadata": {
        "id": "ywRyFRoFog88"
      },
      "source": [
        "## Definición Formal \n",
        "\n",
        "Arbol AVL (AAVL)\n",
        "\n",
        "Sea $A$ un árbol binario de búsqueda con raíz $R$, hijos izquierdo y derecho (posiblemente nulos) $H_I$ y $H_D$, respectivamente.\n",
        "\n",
        "Diremos que $A$ es un AAVL si y solo si.\n",
        "\n",
        "*    $H_I$ es AAVL.\n",
        "*    $H_D$ es AAVL.\n",
        "*    $|altura(H_D) - altura(H_I)| \\leq 1$:"
      ]
    },
    {
      "cell_type": "markdown",
      "metadata": {
        "id": "gvNyfdXrohLl"
      },
      "source": [
        "Nota: Donde $altura$ es la operación que nos devuelve la altura de un árbol (subarbol)."
      ]
    },
    {
      "cell_type": "markdown",
      "metadata": {
        "id": "-UIo3fYyohcR"
      },
      "source": [
        "\n",
        "<center>\n",
        "<img src=\"https://github.com/jugernaut/ManejoDatos/blob/desarrollo/Imagenes/AlgoritmosBusqueda/avl.png?raw=1\" width=\"500\"> \n",
        "</center>"
      ]
    },
    {
      "cell_type": "markdown",
      "metadata": {
        "id": "8ThH3ht2oh1N"
      },
      "source": [
        "## Operaciones sobre AAVL\n",
        "\n",
        "Al igual que con los ABB, los AAVL son caracterizados por el tipo de dato que almacena cada nodo, así como el conjunto de operaciones que se pueden llevar a cabo sobre estos. Y podríamos pensar que en este caso cada nodo almacena un valor adicional conocido como **factor de equilibrio**, mismo que nos indica que tan balanceado se encuentra ese nodo.\n",
        "\n",
        "Los AAVL heredan todas las operaciones, que se realizan sobre los ABB, sin embargo para mantener el árbol balanceado después de insertar o eliminar un valor, es necesario revisar que el árbol se encuentre balanceado."
      ]
    },
    {
      "cell_type": "markdown",
      "metadata": {
        "id": "0H51P2a0oiEw"
      },
      "source": [
        "### Rotaciones\n",
        "\n",
        "En caso de que el árbol se haya desbalanceado, sera necesario llevar a cabo una de estas 4 operaciones:\n",
        "*   Rotación simple a la derecha.\n",
        "<center>\n",
        "<img src=\"https://github.com/jugernaut/ManejoDatos/blob/desarrollo/Imagenes/AlgoritmosBusqueda/sderecha.gif?raw=1\" width=\"700\"> \n",
        "</center>\n",
        "*   Rotación simple a la izquierda.\n",
        "<center>\n",
        "<img src=\"https://github.com/jugernaut/ManejoDatos/blob/desarrollo/Imagenes/AlgoritmosBusqueda/simpleizq.gif?raw=1\" width=\"700\"> \n",
        "</center>\n",
        "*   Rotación izquierda-derecha.\n",
        "<center>\n",
        "<img src=\"https://github.com/jugernaut/ManejoDatos/blob/desarrollo/Imagenes/AlgoritmosBusqueda/rid.gif?raw=1\" width=\"700\"> \n",
        "</center>\n",
        "*   Rotación derecha-izquierda.\n",
        "<center>\n",
        "<img src=\"https://github.com/jugernaut/ManejoDatos/blob/desarrollo/Imagenes/AlgoritmosBusqueda/rdi1.gif?raw=1\" width=\"700\"> \n",
        "</center>"
      ]
    },
    {
      "cell_type": "markdown",
      "metadata": {
        "id": "RV3UEtNWoiXE"
      },
      "source": [
        "### Factor de Equilibrio (FE)\n",
        "\n",
        "Dado que por definición los AAVL siempre se encuentran balanceados, al insertar o eliminar un dato solo se podrá dar uno de los siguientes 4 casos:\n",
        "\n",
        "* **FE**(nodo) = -2 y (**FE**(nodo.izq)=-1 ó **FE**(nodo.izq)=0): se balancea con una rotación **simple a la derecha** sobre nodo.\n",
        "\n",
        "* **FE**(nodo) = 2 y (**FE**(nodo.der)=1 ó **FE**(nodo.der)=0): se balancea con una rotación **simple a la izquierda** sobre nodo.\n",
        "\n",
        "* **FE**(nodo) = -2 y **FE**(nodo.izq)=1: se balancea con una **rotación izquierda derecha**. Primero se rota a la izquierda sobre nodo.izq y después a la derecha sobre nodo. \n",
        "\n",
        "* **FE**(nodo) = 2 y **FE**(nodo.der)=-1: se balancea con una **rotación derecha izquierda**. Primero se rota a la derecha sobre nodo.der y después a la izquierda sobre nodo.\n",
        "\n",
        "Es importante recalcar que cada vez que se balancea un nodo después de insertar o eliminar, **potencialmente su padre será desbalanceado**, es por este motivo que se tiene que **rebalancear el padre de manera recursiva y revisar los factores de equilibrio hasta llegar a la raíz**."
      ]
    },
    {
      "cell_type": "markdown",
      "metadata": {
        "id": "YeQGldRfBOhX"
      },
      "source": [
        "# Nuevos métodos\n",
        "\n",
        "Similar a la forma en como fueron construidos los `ABB`, los árboles `AAVL` heredan todo lo construido previamente y simplemente agregamos (sobrecargamos) las características necesarias para mantener el árbol balanceado."
      ]
    },
    {
      "cell_type": "markdown",
      "metadata": {
        "id": "IzmNJ2xvsBO7"
      },
      "source": [
        "## `ultimo`\n",
        "\n",
        "Este es un método muy sencillo que simplemente devuelve el último elemento agregado al árbol para poder comenzar con la labor de detectar posibles desbalanceos en el árbol."
      ]
    },
    {
      "cell_type": "markdown",
      "metadata": {
        "id": "6dfDoN_ZsPay"
      },
      "source": [
        "## `balanceado`\n",
        "\n",
        "Haciendo uso de la definición de balance, este método nos indica si un nodo se encuentra desbalanceado, para posteriormente proceder a balancear el mismo.\n",
        "\n",
        "La forma mediante la cual se determina si un nodo se encuentra desbalanceado es la siguiente, sea $N$ un nodo binario con hijos izquierdo y derecho (posiblemente nulos) $H_I$ y $H_D$, respectivamente.\n",
        "\n",
        "Podemos determinar si este nodo $N$ se encuentra desbalanceado así.\n",
        "\n",
        "$$B(N)=\\begin{cases}\n",
        "|altura(H_D) - altura(H_I)| \\leq 1 & True\\\\\n",
        "E.O.C. & False\n",
        "\\end{cases}$$"
      ]
    },
    {
      "cell_type": "markdown",
      "metadata": {
        "id": "IVckFMYepRPc"
      },
      "source": [
        "## `factor_equilibrio`\n",
        "\n",
        "Este nuevo método se encarga de calcular el factor de equilibrio de un determinado nodo, mediante el cálculo de de la resta de la altura del hijo derecho menos la altura del hijo izquierdo.\n",
        "\n",
        "Este método es necesario ya que cada vez que insertemos o borremos un nodo del árbol, **se requiere revisar el factor de equilibrio de todos los ancestros del padre del nodo** insertado o eliminado.\n",
        "\n",
        "De manera más formal lo podemos ver así, sea $N$ un nodo binario con hijos izquierdo y derecho (posiblemente nulos) $H_I$ y $H_D$, respectivamente.\n",
        "\n",
        "El factor de equilibro de $N$ se calcula así.\n",
        "\n",
        "`factor_equilibrio` = $altura(H_D) -altura(H_I)$"
      ]
    },
    {
      "cell_type": "markdown",
      "metadata": {
        "id": "BwAoicVBrf-S"
      },
      "source": [
        "## `balancea`\n",
        "\n",
        "Dependiendo de las posibles combinaciones del factor de equilibrio comentadas en la sección \"Factor de Equilibrio\", el método `balancea` se encarga de tomar un `nodo` en el árbol y revisar si requiere alguna de las 4 posibles rotaciones:\n",
        "\n",
        "1.   Rotacion simple derecha: `factor_equilibrio(nodo) = -2` y (`factor_equilibrio(nodo.izq)=-1` ó `factor_equilibrio(nodo.izq)=0`): se balancea con una rotación **simple a la derecha** sobre `nodo`.\n",
        "2.   Rotacion simple izquierda: `factor_equilibrio(nodo) = 2` y (`factor_equilibrio(nodo.der)=1` ó `factor_equilibrio(nodo.der)=0`): se balancea con una rotación **simple a la izquierda** sobre `nodo`.\n",
        "3.   Rotacion izquierda-derecha: `factor_equilibrio(nodo) = -2` y `factor_equilibrio(nodo.izq)=1`: se balancea con una **rotación izquierda derecha**. Primero se rota a la izquierda sobre `nodo.izq` y después a la derecha sobre `nodo`. \n",
        "4.   Rotacion derecha-izquierda: `factor_equilibrio(nodo) = 2` y `factor_equilibrio(nodo.der)=-1`: se balancea con una **rotación derecha izquierda**. Primero se rota a la derecha sobre `nodo.der` y después a la izquierda sobre `nodo`.\n",
        "\n",
        "Es muy importante mencionar que una vez que se haya balanceado un `nodo`, ese balanceo posiblemente desbalanceo a su `nodo.padre`, por lo que es necesario **balancear de manera recursiva a todos los ancestros** de este `nodo`.\n",
        "\n",
        "\n",
        "\n"
      ]
    },
    {
      "cell_type": "markdown",
      "metadata": {
        "id": "TGlLIIPTwqr4"
      },
      "source": [
        "## `rotaciones`\n",
        "\n",
        "Las 4 posibles rotaciones necesarias para balancear un nodo, son las siguientes:\n",
        "\n",
        "*   `rotacionSimpleDerecha`.\n",
        "*   `rotacionSimpleIzquierda`.\n",
        "*   `rotacionIzquierdaDerecha`.\n",
        "*   `rotacionDerechaIzquierda`.\n",
        "\n",
        "El detalle del funcionamiento de cada una des estas rotaciones se muestra tanto en código, como en la sección de \"Rotaciones\".\n",
        "\n"
      ]
    },
    {
      "cell_type": "markdown",
      "metadata": {
        "id": "8a-_7Uu1x37s"
      },
      "source": [
        "## `insertar`\n",
        "\n",
        "Este método usa como base al método `insertar` de la clase padre, es decir de la clase `ABB` y una vez que ya se inserto el nuevo valor en el AAVL, se apoya del método `ultimo` para comenzar a balancear (en caso de ser necesario) a los ancestros del `ultimo_agregado`."
      ]
    },
    {
      "cell_type": "markdown",
      "metadata": {
        "id": "ecERULd20gbR"
      },
      "source": [
        "## `borra`\n",
        "\n",
        "De manera similar a como funciona al método `insertar`, el método `borrar` se apoya en el método `borra_nodo`de la clase padre para borrar el nodo en cuestión.\n",
        "\n",
        "El método `borra_nodo` devuelve el padre del nodo que ha sido borrado ya que a partir de ese nodo se pudo haber dado un desbalance.\n",
        "\n",
        "Finalmente el método `borra` se encarga de rebalancear el árbol en caso de que se haya dado un potencial desbalanceo."
      ]
    },
    {
      "cell_type": "markdown",
      "metadata": {
        "id": "Ynjir8B-AfeQ"
      },
      "source": [
        "# Código y Pruebas\n",
        "\n",
        "Para poder usar el código de las clase previas, primero necesitamos agregar estos *jupyters* a la sesión actual y posteriormente importarlos.\n",
        "\n",
        "Cada uno de los métodos de la clase `AAVL` cuenta con la documentación necesaria para poder comprender los detalles de cada método.\n",
        "\n",
        "Algo importante que se puede notar en esta clase, es que si no hubiéramos usado el POO como lo hemos hecho, **la clase `AAVL` sería tan extensa que se volvería una labor muy tediosa estudiarla detalladamente**.\n",
        "\n",
        "Sin embargo gracias a la POO, podemos dejar de lado métodos definidos previamente y únicamente enfocarnos en los nuevos métodos de la clase `AAVL`."
      ]
    },
    {
      "cell_type": "code",
      "metadata": {
        "id": "CxyQtkfzniRm",
        "outputId": "3c1c9007-a0ce-47be-8eb7-90236516d34a",
        "colab": {
          "base_uri": "https://localhost:8080/"
        }
      },
      "source": [
        "!wget https://raw.githubusercontent.com/jugernaut/ManejoDatos/desarrollo/AlgoritmosBusqueda/ArbolesBinarios.ipynb\n",
        "!wget https://raw.githubusercontent.com/jugernaut/ManejoDatos/desarrollo/AlgoritmosBusqueda/ArbolesBinariosBusqueda.ipynb"
      ],
      "execution_count": 1,
      "outputs": [
        {
          "output_type": "stream",
          "name": "stdout",
          "text": [
            "--2021-11-19 01:47:48--  https://raw.githubusercontent.com/jugernaut/ManejoDatos/desarrollo/AlgoritmosBusqueda/ArbolesBinarios.ipynb\n",
            "Resolving raw.githubusercontent.com (raw.githubusercontent.com)... 185.199.108.133, 185.199.109.133, 185.199.110.133, ...\n",
            "Connecting to raw.githubusercontent.com (raw.githubusercontent.com)|185.199.108.133|:443... connected.\n",
            "HTTP request sent, awaiting response... 200 OK\n",
            "Length: 16833 (16K) [text/plain]\n",
            "Saving to: ‘ArbolesBinarios.ipynb’\n",
            "\n",
            "\rArbolesBinarios.ipy   0%[                    ]       0  --.-KB/s               \rArbolesBinarios.ipy 100%[===================>]  16.44K  --.-KB/s    in 0s      \n",
            "\n",
            "2021-11-19 01:47:48 (103 MB/s) - ‘ArbolesBinarios.ipynb’ saved [16833/16833]\n",
            "\n",
            "--2021-11-19 01:47:48--  https://raw.githubusercontent.com/jugernaut/ManejoDatos/desarrollo/AlgoritmosBusqueda/ArbolesBinariosBusqueda.ipynb\n",
            "Resolving raw.githubusercontent.com (raw.githubusercontent.com)... 185.199.108.133, 185.199.109.133, 185.199.110.133, ...\n",
            "Connecting to raw.githubusercontent.com (raw.githubusercontent.com)|185.199.108.133|:443... connected.\n",
            "HTTP request sent, awaiting response... 200 OK\n",
            "Length: 28864 (28K) [text/plain]\n",
            "Saving to: ‘ArbolesBinariosBusqueda.ipynb’\n",
            "\n",
            "ArbolesBinariosBusq 100%[===================>]  28.19K  --.-KB/s    in 0s      \n",
            "\n",
            "2021-11-19 01:47:48 (77.3 MB/s) - ‘ArbolesBinariosBusqueda.ipynb’ saved [28864/28864]\n",
            "\n"
          ]
        }
      ]
    },
    {
      "cell_type": "code",
      "metadata": {
        "id": "9eVWIE7r4Yor",
        "outputId": "40bd9c79-562c-450b-aeb4-5ba1727a2fd7",
        "colab": {
          "base_uri": "https://localhost:8080/"
        }
      },
      "source": [
        "!pip install import-ipynb"
      ],
      "execution_count": 3,
      "outputs": [
        {
          "output_type": "stream",
          "name": "stdout",
          "text": [
            "Collecting import-ipynb\n",
            "  Downloading import-ipynb-0.1.3.tar.gz (4.0 kB)\n",
            "Building wheels for collected packages: import-ipynb\n",
            "  Building wheel for import-ipynb (setup.py) ... \u001b[?25l\u001b[?25hdone\n",
            "  Created wheel for import-ipynb: filename=import_ipynb-0.1.3-py3-none-any.whl size=2975 sha256=113534b2791454e562d8209bbfa2d4c75e952af1c3af832308cb5a3836814638\n",
            "  Stored in directory: /root/.cache/pip/wheels/b1/5e/dc/79780689896a056199b0b9f24471e3ee184fbd816df355d5f0\n",
            "Successfully built import-ipynb\n",
            "Installing collected packages: import-ipynb\n",
            "Successfully installed import-ipynb-0.1.3\n"
          ]
        }
      ]
    },
    {
      "cell_type": "code",
      "metadata": {
        "id": "7hljHiPQBBWL",
        "outputId": "f9fc64f4-751a-4d0a-bf36-a02b647f80a8",
        "colab": {
          "base_uri": "https://localhost:8080/"
        }
      },
      "source": [
        "import import_ipynb\n",
        "from ArbolesBinariosBusqueda import ABB\n",
        "from ArbolesBinarios import Nodo\n",
        "\n",
        "class ArbolAVL(ABB):\n",
        "  #Constructor que hace uso del constructor de la clase padre (ABB)\n",
        "  def __init__(self, dato):\n",
        "    super(ArbolAVL, self).__init__(dato)\n",
        "      \n",
        "  #Devuelve el ultimo nodo agregado para balanceo en caso necesario\n",
        "  def ultimo(self):\n",
        "    return self.ultimo_agregado\n",
        "\n",
        "  #Determina si un nodo esta balanceado\n",
        "  def balanceado(self, nodo):\n",
        "    return abs(self.altura(nodo.der)-self.altura(nodo.izq)) <= 1\n",
        "\n",
        "  '''\n",
        "  2 = el subarbol esta muy cargado a la derecha\n",
        "  1 = el subarbol esta cargado a la derecha\n",
        "  0 = no hace falta rotar\n",
        "  -1 = el subarbol esta cargado a la derecha\n",
        "  -2 = el subarbol esta muy cargado a la izquierda\n",
        "  '''\n",
        "  def factor_equilibrio(self, nodo):\n",
        "      if nodo is None:\n",
        "          return 0\n",
        "      else:\n",
        "          return self.altura(nodo.der)-self.altura(nodo.izq)\n",
        "  \n",
        "  #Balancea el arbol, a partir de un nodo\n",
        "  def balancea(self, nodo):\n",
        "    #caso base\n",
        "    if nodo is None:\n",
        "      return\n",
        "    if not self.balanceado(nodo):\n",
        "      factorNodo = self.factor_equilibrio(nodo)\n",
        "      factorIz = self.factor_equilibrio(nodo.izq)\n",
        "      factorDer = self.factor_equilibrio(nodo.der)\n",
        "      #Si el nodo esta desbalanceado se tendra uno de 4 casos\n",
        "      #mismos que se solucionan con alguna de las 4 rotaciones\n",
        "      if factorNodo == -2 and (factorIz == -1 or factorIz == 0): #probado\n",
        "        self.rotacionSimpleDerecha(nodo)\n",
        "      if factorNodo == 2 and (factorDer == 1 or factorDer == 0): #probado\n",
        "        self.rotacionSimpleIzquierda(nodo)\n",
        "      if factorNodo == -2 and factorIz == 1: #probado\n",
        "        self.rotacionIzquierdaDerecha(nodo)\n",
        "      if factorNodo == 2 and factorDer == -1: #probado\n",
        "        self.rotacionDerechaIzquierda(nodo) \n",
        "    #llamada recursiva para balancear toda la ruta. Desde donde se inserto\n",
        "    #el nodo, hasta la raiz        \n",
        "    self.balancea(nodo.padre)        \n",
        "  \n",
        "  #Rota el nodo a la derecha\n",
        "  def rotacionSimpleDerecha(self, nodo):\n",
        "    if nodo is not None:\n",
        "      if nodo is self.raiz:\n",
        "        #actualizamos la raiz\n",
        "        self.raiz = nodo.izq\n",
        "        self.raiz.padre = None\n",
        "        # si el nodo.izq tiene hijo derecho se pasa como izq de nodo\n",
        "        if nodo.izq.der is not None:\n",
        "          nodo.izq.der.padre = nodo\n",
        "          nodo.izq = nodo.izq.der\n",
        "        else:\n",
        "          nodo.izq = None\n",
        "        self.raiz.der = nodo\n",
        "        nodo.padre = self.raiz\n",
        "      else:\n",
        "        nuevaraiz = nodo.izq\n",
        "        #actualizamos la nueva raiz\n",
        "        if nodo.esIzq():\n",
        "          nodo.padre.izq = nuevaraiz\n",
        "        else:\n",
        "          nodo.padre.der = nuevaraiz\n",
        "        nuevaraiz.padre = nodo.padre\n",
        "        # si el nodo.izq tiene hijo derecho se pasa como izq de nodo\n",
        "        if nuevaraiz.der is not None:\n",
        "          nuevaraiz.der.padre = nodo\n",
        "          nodo.izq = nuevaraiz.der\n",
        "        else:\n",
        "          nodo.izq = None\n",
        "        nuevaraiz.der = nodo\n",
        "        nodo.padre = nuevaraiz\n",
        "    \n",
        "  #Rota el nodo a la izquierda            \n",
        "  def rotacionSimpleIzquierda(self, nodo):\n",
        "    if nodo is not None:\n",
        "      if nodo is self.raiz:\n",
        "        #actualizamos la raiz\n",
        "        self.raiz = nodo.der\n",
        "        self.raiz.padre = None\n",
        "        # si el nodo.der tiene hijo izquierdo se pasa como der de nodo\n",
        "        if nodo.der.izq is not None:\n",
        "          nodo.der.izq.padre = nodo\n",
        "          nodo.der = nodo.der.izq\n",
        "        else:\n",
        "          nodo.der = None\n",
        "        self.raiz.izq = nodo\n",
        "        nodo.padre = self.raiz\n",
        "      else:\n",
        "        nuevaraiz = nodo.der\n",
        "        #actualizamos la nueva raiz\n",
        "        if nodo.esIzq():\n",
        "          nodo.padre.izq = nuevaraiz\n",
        "        else:\n",
        "          nodo.padre.der = nuevaraiz\n",
        "        nuevaraiz.padre = nodo.padre\n",
        "        # si el nodo.der tiene hijo izquierdo se pasa como der de nodo\n",
        "        if nuevaraiz.izq is not None:\n",
        "          nuevaraiz.izq.padre = nodo\n",
        "          nodo.der = nuevaraiz.izq\n",
        "        else:\n",
        "          nodo.der = None\n",
        "        nuevaraiz.izq = nodo\n",
        "        nodo.padre = nuevaraiz\n",
        "              \n",
        "  #Define la doble rotacion a la derecha, a partir de un nodo            \n",
        "  def rotacionIzquierdaDerecha(self, nodo):\n",
        "    self.rotacionSimpleIzquierda(nodo.izq)\n",
        "    self.rotacionSimpleDerecha(nodo)\n",
        "  \n",
        "  #Define la doble rotacion a la izquierda, a partir de un nodo     \n",
        "  def rotacionDerechaIzquierda(self, nodo):\n",
        "    self.rotacionSimpleDerecha(nodo.der)\n",
        "    self.rotacionSimpleIzquierda(nodo)\n",
        "\n",
        "  #Inserta un nodo en el arbol y lo balancea, si es que se desbalanceo\n",
        "  def insertar(self, dato):\n",
        "    #Se inserta el dato usando el metodo de la clase padre\n",
        "    super(ArbolAVL, self).insertar(dato)\n",
        "    #Identificamos donde se inserto el dato\n",
        "    ultimo_nodo_insertado = self.ultimo()\n",
        "      \n",
        "    #Se rebalancean los nodos que hayan quedado desbalanceados\n",
        "    #Y se empieza desde el padre, por que nodo por def no pudo\n",
        "    #haber quedado desbalanceado\n",
        "    self.balancea(ultimo_nodo_insertado.padre)\n",
        "      \n",
        "  #Borra un nodo en el arbol y lo balancea, si es que se desbalanceo\n",
        "  def borra(self, dato):\n",
        "    #Se borra el nodo usando el metodo de la clase padre\n",
        "    borradopadre = self.borra_nodo(self.raiz, dato)\n",
        "    \n",
        "    #Se rebalancean los nodos que hayan quedado desbalanceados\n",
        "    #Y se empieza desde el padre, por que nodo por def, no pudo\n",
        "    #haber quedado desbalanceado\n",
        "    self.balancea(borradopadre)"
      ],
      "execution_count": 6,
      "outputs": [
        {
          "output_type": "stream",
          "name": "stdout",
          "text": [
            "importing Jupyter notebook from ArbolesBinariosBusqueda.ipynb\n",
            "--2021-11-19 01:49:06--  https://raw.githubusercontent.com/jugernaut/ManejoDatos/desarrollo/AlgoritmosBusqueda/ArbolesBinarios.ipynb\n",
            "Resolving raw.githubusercontent.com (raw.githubusercontent.com)... 185.199.108.133, 185.199.109.133, 185.199.110.133, ...\n",
            "Connecting to raw.githubusercontent.com (raw.githubusercontent.com)|185.199.108.133|:443... connected.\n",
            "HTTP request sent, awaiting response... 200 OK\n",
            "Length: 16833 (16K) [text/plain]\n",
            "Saving to: ‘ArbolesBinarios.ipynb.1’\n",
            "\n",
            "\rArbolesBinarios.ipy   0%[                    ]       0  --.-KB/s               \rArbolesBinarios.ipy 100%[===================>]  16.44K  --.-KB/s    in 0s      \n",
            "\n",
            "2021-11-19 01:49:06 (113 MB/s) - ‘ArbolesBinarios.ipynb.1’ saved [16833/16833]\n",
            "\n",
            "Requirement already satisfied: import-ipynb in /usr/local/lib/python3.7/dist-packages (0.1.3)\n",
            "importing Jupyter notebook from ArbolesBinarios.ipynb\n"
          ]
        }
      ]
    },
    {
      "cell_type": "markdown",
      "metadata": {
        "id": "AYilgIvy5jfH"
      },
      "source": [
        "A continuación se muestran la pruebas de la clase `AAVL`."
      ]
    },
    {
      "cell_type": "code",
      "metadata": {
        "id": "kAyp3AieBQNn",
        "colab": {
          "base_uri": "https://localhost:8080/"
        },
        "outputId": "088cccf4-ec46-447a-ed98-078c88c32955"
      },
      "source": [
        "def main():\n",
        "  aavl = ArbolAVL(55)\n",
        "  aavl.insertar(10)\n",
        "  aavl.insertar(5)\n",
        "  aavl.insertar(16)\n",
        "  aavl.insertar(37)\n",
        "  aavl.insertar(9)\n",
        "  aavl.insertar(20)\n",
        "  aavl.insertar(15)\n",
        "  aavl.borra(9)\n",
        "  aavl.borra(16)\n",
        "  aavl.insertar(1)\n",
        "  \n",
        "  print(\"Recorrido en orden\")\n",
        "  aavl.recorrido_enorden(aavl.raiz)\n",
        "  print(\"Recorrido en preorden\")\n",
        "  aavl.recorrido_preorden(aavl.raiz)\n",
        "  print(\"Recorrido en postorden\")\n",
        "  aavl.recorrido_postorden(aavl.raiz)\n",
        "  print(aavl.factor_equilibrio(aavl.raiz))\n",
        "    \n",
        "\n",
        "if __name__ == \"__main__\":\n",
        "  # llamamos a la funcion main\n",
        "  main()"
      ],
      "execution_count": 7,
      "outputs": [
        {
          "output_type": "stream",
          "name": "stdout",
          "text": [
            "Recorrido en orden\n",
            "1\n",
            "5\n",
            "10\n",
            "15\n",
            "20\n",
            "37\n",
            "55\n",
            "Recorrido en preorden\n",
            "20\n",
            "10\n",
            "5\n",
            "1\n",
            "15\n",
            "37\n",
            "55\n",
            "Recorrido en postorden\n",
            "1\n",
            "5\n",
            "15\n",
            "10\n",
            "55\n",
            "37\n",
            "20\n",
            "-1\n"
          ]
        }
      ]
    },
    {
      "cell_type": "markdown",
      "metadata": {
        "id": "N5P6SZ625xNS"
      },
      "source": [
        "En la siguiente animación podémos ver detalladamente lo que sucede al ejecutar la celda que realiza las pruebas sobre el `AAVL`.\n",
        "\n",
        "<center>\n",
        "<img src=\"https://github.com/jugernaut/ManejoDatos/blob/desarrollo/Imagenes/AlgoritmosBusqueda/prueba.gif?raw=1\" width=\"850\"> \n",
        "</center>"
      ]
    },
    {
      "cell_type": "markdown",
      "metadata": {
        "id": "k2cm6M0b7uJ9"
      },
      "source": [
        "Despues de insertar el valor 1, el AAVL se ve así.\n",
        "\n",
        "<center>\n",
        "<img src=\"https://github.com/jugernaut/ManejoDatos/blob/desarrollo/Imagenes/AlgoritmosBusqueda/aavl.png?raw=1\" width=\"700\"> \n",
        "</center>\n",
        "\n",
        "Podemos notar que el factor de equilibrio de la raíz es $altura(H_D) - altura(H_I) = 1 -2 = -1$ tal como se muestra en código.\n",
        "\n",
        "Comprueba (de manera manual) que los recorridos que se muestran en la ejecución del código correspondan con las definiciones de dichos recorridos.\n",
        "\n",
        "Te sugiero que realices más pruebas (insertar, borrar, etc.), tanto con el programa *trees.jar*, como con el código mostrado en este *colab*."
      ]
    },
    {
      "cell_type": "markdown",
      "metadata": {
        "id": "WVOi8-09pDwL"
      },
      "source": [
        "# Referencias\n",
        "\n",
        "1.  Thomas H. Cormen: Introduction to Algorithms.\n",
        "2.  Referencias Libro Web: Introduccion a Python.\n",
        "3.  Referencias Daniel T. Joyce: Object-Oriented Data Structures.\n",
        "4.  Referencias John C. Mitchell: Concepts in programing Languages."
      ]
    }
  ]
}