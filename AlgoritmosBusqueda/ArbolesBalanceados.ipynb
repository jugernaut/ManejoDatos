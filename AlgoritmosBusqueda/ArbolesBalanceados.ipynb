{
  "nbformat": 4,
  "nbformat_minor": 0,
  "metadata": {
    "colab": {
      "name": "ArbolesBalanceados.ipynb",
      "provenance": [],
      "toc_visible": true,
      "include_colab_link": true
    },
    "kernelspec": {
      "name": "python3",
      "display_name": "Python 3"
    },
    "language_info": {
      "name": "python"
    }
  },
  "cells": [
    {
      "cell_type": "markdown",
      "metadata": {
        "id": "view-in-github",
        "colab_type": "text"
      },
      "source": [
        "<a href=\"https://colab.research.google.com/github/jugernaut/ManejoDatos/blob/desarrollo/AlgoritmosBusqueda/ArbolesBalanceados.ipynb\" target=\"_parent\"><img src=\"https://colab.research.google.com/assets/colab-badge.svg\" alt=\"Open In Colab\"/></a>"
      ]
    },
    {
      "cell_type": "markdown",
      "metadata": {
        "id": "JmymMzF4lG93"
      },
      "source": [
        "<font color=\"Teal\" face=\"Comic Sans MS,arial\">\n",
        "  <h1 align=\"center\"><i>Arboles Balanceados (AVL)</i></h1>\n",
        "  </font>\n",
        "  <font color=\"Black\" face=\"Comic Sans MS,arial\">\n",
        "  <h5 align=\"center\"><i>Profesor: M. en C. Miguel Angel Pérez León</i></h5>\n",
        "  <h5 align=\"center\"><i>Ayudante: Jesús Iván Coss Calderón</i></h5>\n",
        "  <h5 align=\"center\"><i>Ayudante: Jonathan Ramírez Montes</i></h5>\n",
        "  <h5 align=\"center\"><i>Materia: Manejo de Datos</i></h5>\n",
        "</font>"
      ]
    },
    {
      "cell_type": "markdown",
      "metadata": {
        "id": "5c1BVdROlJ9T"
      },
      "source": [
        "# Introducción \n",
        "\n",
        "Los Arboles Binarios Balanceados (AAVL) son la evolución de los Arboles Binarios de Búsqueda ABB, ya que los AAVL además de cumplir con la definición y operaciones de los ABB, mantienen una caracteristica muy importante el que se encuentran siempre balanceados.\n",
        "\n",
        "Podémos pensar que un AAVL es un ABB cuyos elementos se encuentran ordenados y además el AAVL se encuentra balanceado.\n",
        "\n",
        "Continuando con la idea de POO vamos a construir los AAVL tomando como base la clase ABB.\n"
      ]
    },
    {
      "cell_type": "markdown",
      "metadata": {
        "id": "o8rjhI9dn5Za"
      },
      "source": [
        "# Arboles AVL (Balanceados)\n",
        "\n",
        "Los Arboles AVL (o balanceados) le deben su nombre a los creadores de este tipo de árboles, Georgii Adelson-Velskii y Yevgeniy Landis.\n",
        "\n",
        "La principal característica de este tipo de árboles es que siempre permanecen **balanceados**.\n",
        "\n",
        "El hecho de que estos árboles se mantengan balanceados, sin\n",
        "importar cuantos elementos se inserten o se eliminen ayuda a\n",
        "**disminuir el orden de complejidad** de las operaciones más comunes en árboles, como la búsqueda.\n",
        "\n",
        "La forma en la que estos árboles se mantienen balanceados es gracias a la **definición de balanceo** y a las operaciones para balancear un nodo, conocidas como **rotaciones**.\n",
        "\n",
        "El hecho de que los AAVL siempre se encuentren balanceados, garantiza que las operaciones como la búsqueda (que es de las operaciones más frecuentes) siempre se mantenga en el orden **complejidad logarítmica $O(\\log_{2}n)$** donde $n$ es el número de nodos.\n",
        "\n",
        "Esto ayuda a que el resto de las operaciones que se apoyan de la búsqueda (como el insertar o eliminar) disminuyan el orden de complejidad al que perenecen."
      ]
    },
    {
      "cell_type": "markdown",
      "metadata": {
        "id": "ywRyFRoFog88"
      },
      "source": [
        "## Definición Formal \n",
        "\n",
        "Arbol AVL (AAVL)\n",
        "\n",
        "Sea $A$ un árbol binario de búsqueda con raíz $R$, hijos izquierdo y derecho (posiblemente nulos) $H_I$ y $H_D$, respectivamente.\n",
        "\n",
        "Diremos que $A$ es un AAVL si y solo si.\n",
        "\n",
        "*    $H_I$ es AAVL.\n",
        "*    $H_D$ es AAVL.\n",
        "*    $|altura(H_I) - altura(H_D)| \\leq 1$:"
      ]
    },
    {
      "cell_type": "markdown",
      "metadata": {
        "id": "gvNyfdXrohLl"
      },
      "source": [
        "Nota: Donde $altura$ es la operación que nos devuelve la altura de un árbol (subarbol)."
      ]
    },
    {
      "cell_type": "markdown",
      "metadata": {
        "id": "-UIo3fYyohcR"
      },
      "source": [
        "\n",
        "<center>\n",
        "<img src=\"https://github.com/jugernaut/ManejoDatos/blob/desarrollo/Imagenes/AlgoritmosBusqueda/avl.png?raw=1\" width=\"500\"> \n",
        "</center>"
      ]
    },
    {
      "cell_type": "markdown",
      "metadata": {
        "id": "8ThH3ht2oh1N"
      },
      "source": [
        "## Operaciones sobre AAVL\n",
        "\n",
        "Al igual que con los ABB, los AAVL son caracterizados por el tipo de dato que almacena cada nodo, así como el conjunto de operaciones que se pueden llevar a cabo sobre estos. Y podríamos pensar que en este caso cada nodo almacena un valor adicional conocido como **factor de equilibrio**, mismo que nos indica que tan balanceado se encuentra ese nodo.\n",
        "\n",
        "Los AAVL heredan todas las operaciones, que se realizan sobre los ABB, sin embargo para mantener el árbol balanceado después de insertar o eliminar un valor, es necesario revisar que el árbol se encuentre balanceado."
      ]
    },
    {
      "cell_type": "markdown",
      "metadata": {
        "id": "0H51P2a0oiEw"
      },
      "source": [
        "En caso de que el árbol se haya desbalanceado, sera necesario llevar a cabo una de estas 4 operaciones:\n",
        "*   Rotación simple a la derecha.\n",
        "<center>\n",
        "<img src=\"https://github.com/jugernaut/ManejoDatos/blob/desarrollo/Imagenes/AlgoritmosBusqueda/sderecha.gif?raw=1\" width=\"700\"> \n",
        "</center>\n",
        "*   Rotación simple a la izquierda.\n",
        "<center>\n",
        "<img src=\"https://github.com/jugernaut/ManejoDatos/blob/desarrollo/Imagenes/AlgoritmosBusqueda/simpleizq.gif?raw=1\" width=\"700\"> \n",
        "</center>\n",
        "*   Rotación izquierda-derecha.\n",
        "<center>\n",
        "<img src=\"https://github.com/jugernaut/ManejoDatos/blob/desarrollo/Imagenes/AlgoritmosBusqueda/rid.gif?raw=1\" width=\"700\"> \n",
        "</center>\n",
        "*   Rotación derecha-izquierda.\n",
        "<center>\n",
        "<img src=\"https://github.com/jugernaut/ManejoDatos/blob/desarrollo/Imagenes/AlgoritmosBusqueda/rdi1.gif?raw=1\" width=\"700\"> \n",
        "</center>"
      ]
    },
    {
      "cell_type": "markdown",
      "metadata": {
        "id": "RV3UEtNWoiXE"
      },
      "source": [
        "## Factor de Equilibrio (FE)\n",
        "\n",
        "Dado que por definición los AAVL siempre se encuentran balanceados, al insertar o eliminar un dato solo se podrá dar uno de los siguientes 4 casos:\n",
        "\n",
        "* **FE**(nodo) = -2 y (**FE**(nodo.izq)=-1 ó **FE**(nodo.izq)=0): se balancea con una rotación **simple a la derecha** sobre nodo.\n",
        "\n",
        "* **FE**(nodo) = 2 y (**FE**(nodo.der)=1 ó **FE**(nodo.der)=0): se balancea con una rotación **simple a la izquierda** sobre nodo.\n",
        "\n",
        "* **FE**(nodo) = -2 y **FE**(nodo.izq)=1: se balancea con una **rotación izquierda derecha**. Primero se rota a la izquierda sobre nodo.izq y después a la derecha sobre nodo. \n",
        "\n",
        "* **FE**(nodo) = 2 y **FE**(nodo.der)=-1: se balancea con una **rotación derecha izquierda**. Primero se rota a la derecha sobre nodo.der y después a la izquierda sobre nodo.\n",
        "\n",
        "Es importante recalcar que cada vez que se balancea un nodo después de insertar o eliminar, **potencialmente su padre será desbalanceado**, es por este motivo que se tiene que **rebalancear el padre de manera recursiva y revisar los factores de equilibrio hasta llegar a la raíz**."
      ]
    },
    {
      "cell_type": "markdown",
      "metadata": {
        "id": "Ynjir8B-AfeQ"
      },
      "source": [
        "Primero necesitamos importar la clases previas.\n",
        "\n"
      ]
    },
    {
      "cell_type": "code",
      "metadata": {
        "id": "CxyQtkfzniRm"
      },
      "source": [
        "!wget https://raw.githubusercontent.com/jugernaut/ManejoDatos/desarrollo/AlgoritmosBusqueda/ArbolesBinarios.ipynb\n",
        "!wget https://raw.githubusercontent.com/jugernaut/ManejoDatos/desarrollo/AlgoritmosBusqueda/ArbolesBinariosBusqueda.ipynb"
      ],
      "execution_count": null,
      "outputs": []
    },
    {
      "cell_type": "code",
      "metadata": {
        "id": "7hljHiPQBBWL"
      },
      "source": [
        "from ArbolesBinariosBusqueda import ABB\n",
        "from ArbolesBinarios import Nodo\n",
        "\n",
        "class ArbolAVL(ABB):\n",
        "\n",
        "  def __init__(self, dato):\n",
        "    super(ArbolAVL, self).__init__(dato)\n",
        "      \n",
        "  #Devuelve el ultimo nodo agregado para balanceo en caso necesario\n",
        "  def ultimo(self):\n",
        "    return self.ultimo_agregado\n",
        "\n",
        "  #Determina si un nodo esta balanceado\n",
        "  def balanceado(self, nodo):\n",
        "    return abs(self.altura(nodo.izq)-self.altura(nodo.der)) <= 1\n",
        "\n",
        "  #Inserta un nodo en el arbol y lo balancea, si es que se desbalanceo\n",
        "  def insertar(self, dato):\n",
        "    #Se inserta el dato usando el metodo de la clase padre\n",
        "    super(ArbolAVL, self).insertar(dato)\n",
        "    #Identificamos donde se inserto el dato\n",
        "    ultimo_nodo_insertado = self.ultimo()\n",
        "      \n",
        "    #Se rebalancean los nodos que hayan quedado desbalanceados\n",
        "    #Y se empieza desde el padre, por que nodo por def, no pudo\n",
        "    #haber quedado desbalanceado\n",
        "    self.balancea(ultimo_nodo_insertado.padre)\n",
        "      \n",
        "  #Borra un nodo en el arbol y lo balancea, si es que se desbalanceo\n",
        "  def borra(self, dato):\n",
        "    #Se borra el nodo usando el metodo de la clase padre\n",
        "    borradopadre = self.borra_nodo(self.raiz, dato)\n",
        "    \n",
        "    #Se rebalancean los nodos que hayan quedado desbalanceados\n",
        "    #Y se empieza desde el padre, por que nodo por def, no pudo\n",
        "    #haber quedado desbalanceado\n",
        "    self.balancea(borradopadre)\n",
        "\n",
        "  '''\n",
        "  2 = el subarbol esta muy cargado a la derecha\n",
        "  1 = el subarbol esta cargado a la derecha\n",
        "  0 = no hace falta rotar\n",
        "  -1 = el subarbol esta cargado a la derecha\n",
        "  -2 = el subarbol esta muy cargado a la izquierda\n",
        "  '''\n",
        "  def factor_equilibrio(self, nodo):\n",
        "      if nodo is None:\n",
        "          return 0\n",
        "      else:\n",
        "          return self.altura(nodo.der)-self.altura(nodo.izq)\n",
        "  \n",
        "  #Balancea el arbol, a partir de un nodo\n",
        "  def balancea(self, nodo):\n",
        "    #caso base\n",
        "    if nodo is None:\n",
        "      return\n",
        "    if not self.balanceado(nodo):\n",
        "      factorNodo = self.factor_equilibrio(nodo)\n",
        "      factorIz = self.factor_equilibrio(nodo.izq)\n",
        "      factorDer = self.factor_equilibrio(nodo.der)\n",
        "      #Si el nodo esta desbalanceado se tendra uno de 4 casos\n",
        "      #mismos que se solucionan con alguna de las 4 rotaciones\n",
        "      if factorNodo == -2 and (factorIz == -1 or factorIz == 0): #probado\n",
        "        self.rotacionSimpleDerecha(nodo)\n",
        "      if factorNodo == 2 and (factorDer == 1 or factorDer == 0): #probado\n",
        "        self.rotacionSimpleIzquierda(nodo)\n",
        "      if factorNodo == -2 and factorIz == 1: #probado\n",
        "        self.rotacionIzquierdaDerecha(nodo)\n",
        "      if factorNodo == 2 and factorDer == -1: #probado\n",
        "        self.rotacionDerechaIzquierda(nodo) \n",
        "    #llamada recursiva para balancear toda la ruta. Desde donde se inserto\n",
        "    #el nodo, hasta la raiz        \n",
        "    self.balancea(nodo.padre)        \n",
        "  \n",
        "  #Rota el nodo a la derecha\n",
        "  def rotacionSimpleDerecha(self, nodo):\n",
        "    if nodo is not None:\n",
        "      if nodo is self.raiz:\n",
        "        #actualizamos la raiz\n",
        "        self.raiz = nodo.izq\n",
        "        self.raiz.padre = None\n",
        "        # si el nodo.izq tiene hijo derecho se pasa como izq de nodo\n",
        "        if nodo.izq.der is not None:\n",
        "          nodo.izq.der.padre = nodo\n",
        "          nodo.izq = nodo.izq.der\n",
        "        else:\n",
        "          nodo.izq = None\n",
        "        self.raiz.der = nodo\n",
        "        nodo.padre = self.raiz\n",
        "      else:\n",
        "        nuevaraiz = nodo.izq\n",
        "        #actualizamos la nueva raiz\n",
        "        if nodo.esIzq():\n",
        "          nodo.padre.izq = nuevaraiz\n",
        "        else:\n",
        "          nodo.padre.der = nuevaraiz\n",
        "        nuevaraiz.padre = nodo.padre\n",
        "        # si el nodo.izq tiene hijo derecho se pasa como izq de nodo\n",
        "        if nuevaraiz.der is not None:\n",
        "          nuevaraiz.der.padre = nodo\n",
        "          nodo.izq = nuevaraiz.der\n",
        "        else:\n",
        "          nodo.izq = None\n",
        "        nuevaraiz.der = nodo\n",
        "        nodo.padre = nuevaraiz\n",
        "    \n",
        "  #Rota el nodo a la izquierda            \n",
        "  def rotacionSimpleIzquierda(self, nodo):\n",
        "    if nodo is not None:\n",
        "      if nodo is self.raiz:\n",
        "        #actualizamos la raiz\n",
        "        self.raiz = nodo.der\n",
        "        self.raiz.padre = None\n",
        "        # si el nodo.der tiene hijo izquierdo se pasa como der de nodo\n",
        "        if nodo.der.izq is not None:\n",
        "          nodo.der.izq.padre = nodo\n",
        "          nodo.der = nodo.der.izq\n",
        "        else:\n",
        "          nodo.der = None\n",
        "        self.raiz.izq = nodo\n",
        "        nodo.padre = self.raiz\n",
        "      else:\n",
        "        nuevaraiz = nodo.der\n",
        "        #actualizamos la nueva raiz\n",
        "        if nodo.esIzq():\n",
        "          nodo.padre.izq = nuevaraiz\n",
        "        else:\n",
        "          nodo.padre.der = nuevaraiz\n",
        "        nuevaraiz.padre = nodo.padre\n",
        "        # si el nodo.der tiene hijo izquierdo se pasa como der de nodo\n",
        "        if nuevaraiz.izq is not None:\n",
        "          nuevaraiz.izq.padre = nodo\n",
        "          nodo.der = nuevaraiz.izq\n",
        "        else:\n",
        "          nodo.der = None\n",
        "        nuevaraiz.izq = nodo\n",
        "        nodo.padre = nuevaraiz\n",
        "              \n",
        "  #Define la doble rotacion a la derecha, a partir de un nodo            \n",
        "  def rotacionIzquierdaDerecha(self, nodo):\n",
        "    self.rotacionSimpleIzquierda(nodo.izq)\n",
        "    self.rotacionSimpleDerecha(nodo)\n",
        "  \n",
        "  #Define la doble rotacion a la izquierda, a partir de un nodo     \n",
        "  def rotacionDerechaIzquierda(self, nodo):\n",
        "    self.rotacionSimpleDerecha(nodo.der)\n",
        "    self.rotacionSimpleIzquierda(nodo)"
      ],
      "execution_count": null,
      "outputs": []
    },
    {
      "cell_type": "markdown",
      "metadata": {
        "id": "YeQGldRfBOhX"
      },
      "source": [
        "Hacemos pruebas\n"
      ]
    },
    {
      "cell_type": "code",
      "metadata": {
        "id": "kAyp3AieBQNn",
        "colab": {
          "base_uri": "https://localhost:8080/"
        },
        "outputId": "62fa36c9-8c87-4de9-f489-f3bf00ce5ffa"
      },
      "source": [
        "def main():\n",
        "  aavl = ArbolAVL(55)\n",
        "  aavl.insertar(10)\n",
        "  aavl.insertar(5)\n",
        "  aavl.insertar(16)\n",
        "  aavl.insertar(37)\n",
        "  aavl.insertar(9)\n",
        "  aavl.insertar(20)\n",
        "  aavl.insertar(15)\n",
        "  aavl.borra(9)\n",
        "  aavl.borra(16)\n",
        "  aavl.insertar(1)\n",
        "  \n",
        "  print(\"Recorrido en orden\")\n",
        "  aavl.recorrido_enorden(aavl.raiz)\n",
        "  print(\"Recorrido en preorden\")\n",
        "  aavl.recorrido_preorden(aavl.raiz)\n",
        "  print(\"Recorrido en postorden\")\n",
        "  aavl.recorrido_postorden(aavl.raiz)\n",
        "  print(aavl.factor_equilibrio(aavl.raiz))\n",
        "    \n",
        "\n",
        "if __name__ == \"__main__\":\n",
        "  # llamamos a la funcion main\n",
        "  main()"
      ],
      "execution_count": null,
      "outputs": [
        {
          "output_type": "stream",
          "name": "stdout",
          "text": [
            "Recorrido en orden\n",
            "1\n",
            "5\n",
            "10\n",
            "15\n",
            "20\n",
            "37\n",
            "55\n",
            "Recorrido en preorden\n",
            "20\n",
            "10\n",
            "5\n",
            "1\n",
            "15\n",
            "37\n",
            "55\n",
            "Recorrido en postorden\n",
            "1\n",
            "5\n",
            "15\n",
            "10\n",
            "55\n",
            "37\n",
            "20\n",
            "-1\n"
          ]
        }
      ]
    },
    {
      "cell_type": "markdown",
      "metadata": {
        "id": "WVOi8-09pDwL"
      },
      "source": [
        "# Referencias\n",
        "\n",
        "1.  Thomas H. Cormen: Introduction to Algorithms.\n",
        "2.  Referencias Libro Web: Introduccion a Python.\n",
        "3.  Referencias Daniel T. Joyce: Object-Oriented Data Structures.\n",
        "4.  Referencias John C. Mitchell: Concepts in programing Languages."
      ]
    }
  ]
}