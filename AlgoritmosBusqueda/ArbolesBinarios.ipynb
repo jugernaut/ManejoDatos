{
  "nbformat": 4,
  "nbformat_minor": 0,
  "metadata": {
    "colab": {
      "name": "04_01_ArbolesBinarios.ipynb",
      "provenance": [],
      "toc_visible": true,
      "include_colab_link": true
    },
    "kernelspec": {
      "name": "python3",
      "display_name": "Python 3"
    },
    "language_info": {
      "name": "python"
    }
  },
  "cells": [
    {
      "cell_type": "markdown",
      "metadata": {
        "id": "view-in-github",
        "colab_type": "text"
      },
      "source": [
        "<a href=\"https://colab.research.google.com/github/jugernaut/ManejoDatos/blob/main/AlgoritmosBusqueda/ArbolesBinarios.ipynb\" target=\"_parent\"><img src=\"https://colab.research.google.com/assets/colab-badge.svg\" alt=\"Open In Colab\"/></a>"
      ]
    },
    {
      "cell_type": "markdown",
      "metadata": {
        "id": "JmymMzF4lG93"
      },
      "source": [
        "<font color=\"Teal\" face=\"Comic Sans MS,arial\">\n",
        "  <h1 align=\"center\"><i>Arboles Binarios de Búsqueda</i></h1>\n",
        "  </font>\n",
        "  <font color=\"Black\" face=\"Comic Sans MS,arial\">\n",
        "  <h5 align=\"center\"><i>Profesor: M.en.C. Miguel Angel Pérez León</i></h5>\n",
        "  <h5 align=\"center\"><i>Ayudante: Jesús Iván Coss Calderón</i></h5>\n",
        "  <h5 align=\"center\"><i>Ayudante: Jonathan Ramírez Montes</i></h5>\n",
        "  <h5 align=\"center\"><i>Materia: Manejo de Datos</i></h5>\n",
        "</font>"
      ]
    },
    {
      "cell_type": "markdown",
      "metadata": {
        "id": "5c1BVdROlJ9T"
      },
      "source": [
        "# Introducción \n",
        "Los árboles binarios son una **estructura de datos** de gran ayuda para las ciencias en general, pero es fundamental en lo que a las ciencias de la computación se refiere.\n",
        "\n",
        "Esta estructura surge de manera recurrente en áreas como, teoría de gráficas, inteligencia artificial, bases de datos, sistemas operativos, topología de redes y muchas otras.\n",
        "\n",
        "De igual manera que con los algoritmos vistos previamente los árboles binarios permiten almacenar el tipo de información que sea necesaria, desde simples valores numéricos, hasta información más compleja.\n",
        "\n",
        "Como toda estructura de datos (arreglos, vectores, matrices, listas, pilas, etc), los árboles binarios están conformados principalmente por 2 elementos que los caracterizan: \n",
        "\n",
        "\n",
        "*   **Tipo de dato** que alamacenan: cadenas, caractéres, valores nméricos, etc.\n",
        "*   **Operaciones** que se pueden realizar: agregar, eliminar, recorrer, etc.\n"
      ]
    },
    {
      "cell_type": "markdown",
      "metadata": {
        "id": "I-Rer9CzlRBp"
      },
      "source": [
        "# Arboles Binarios\n",
        "\n",
        "La forma más básica y elemental de esta estructura de datos, son los árboles binarios y podemos tener diferentes definiciones de los mismo (todas equivalentes)."
      ]
    },
    {
      "cell_type": "markdown",
      "metadata": {
        "id": "jP_JtWuplT4-"
      },
      "source": [
        "## Definiciones \n",
        "\n",
        "Dependiendo del punto de vista, la definición de árbol binario difiere un poco, sin embargo para fines prácticos es lo mismo. \n",
        "\n",
        "La forma más sencilla de definir un árbol binario, es como lo hace la teoría de gráficas.\n",
        "\n",
        "**Árbol Binario**: Es un grafo **conexo** y **acíclico**, conformado por nodos y aristas.\n",
        "\n",
        "La siguiente definición (que es la que mas se apega a lo que veremos en el curso), es la definición desde el punto de vista de ciencias de la computación.\n",
        "\n",
        "**Árbol Binario**: Estructura de datos **no lineal**, conformada por nodos, donde cada nodo puede tener a lo más **dos hijos**."
      ]
    },
    {
      "cell_type": "markdown",
      "metadata": {
        "id": "2nxWhjPYliKk"
      },
      "source": [
        "## Elementos de un árbol binario\n",
        "\n",
        "El nodo a partir del cual se comienza a formal el árbol, tiene un nombre especial ya que es importante ubicarlo en todo momento. A este nodo se le conoce como **raíz**.\n",
        "\n",
        "Todo nodo que no tenga al menos un hijo, se le conoce como **hoja**.\n",
        "\n",
        "**Cada nodo pertenece a un nivel**, comenzando por la **raíz cuyo nivel es cero**. Los hijos directos de la raíz pertenecen al nivel 1 o dicho en otras palabras, pertenecen a un nivel más que el de su padre. \n",
        "\n",
        "¿Podrías dar una definición recursiva para la función nivel?.\n",
        "\n",
        "La **altura de un árbol es el nivel más profundo** al que se puede llegar, a partir de la raíz. De manera recursiva podemos decir que la altura de un árbol (a partir de un nodo n) es la mayor altura de cualquiera de sus dos hijos.\n",
        "\n",
        "¿Podrías dar una definición recursiva para la función altura?.\n",
        "\n",
        "A continuación se muestra un nodo binario\n",
        "<center>\n",
        "<img src=\"https://github.com/jugernaut/ManejoDatos/blob/desarrollo/Imagenes/AlgoritmosBusqueda/nodo.png?raw=1\" width=\"600\"> \n",
        "</center>\n",
        "\n",
        "La siguiente imagen muestra un árbol binario \n",
        "<center>\n",
        "<img src=\"https://github.com/jugernaut/ManejoDatos/blob/desarrollo/Imagenes/AlgoritmosBusqueda/arbolb.png?raw=1\" width=\"600\"> \n",
        "</center>\n",
        "\n",
        "En la segunda imagen se puede apreciar un árbol binario, cuya raíz\n",
        "contiene el valor 2. \n",
        "\n",
        "Contiene nodos intermedios con valores 7, 6, 5 y 9.\n",
        "\n",
        "Y cuyas hojas contienen a los valoress 2, 5, 11 y 4.\n",
        "\n",
        "Esta compuesto por 9 nodos, cuyo contenido son valores enteros.\n",
        "Posee 4 niveles, desde el cero hasta el nivel tres.\n",
        "\n",
        "Y la altura de este árbol es 3.\n",
        "\n",
        "**¿Qué operaciones podrías definir para este tipo de árboles?.**\n",
        "\n",
        "**¿A que orden de complejidad pertenecen cada una de estas\n",
        "operaciones?.**\n"
      ]
    },
    {
      "cell_type": "markdown",
      "metadata": {
        "id": "EePNjK-mnl9a"
      },
      "source": [
        "## Operaciones sobre Arboles Binarios (AB)\n",
        "\n",
        "Dado que la definición de **estructura de datos** nos pide\n",
        "identificar el tipo de dato que almacena dicha estructura, así como las operaciones principales que se pueden realizar sobre esta, procedemos a definirlas. \n",
        "\n",
        "Las principales operaciones que se pueden realizar sobre un AB son las siguientes:\n",
        "\n",
        "* **Crear Arbol**: formalismo para indicar que se tiene que\n",
        "construir un AB.\n",
        "\n",
        "* **Eliminar Arbol**: elimina por completo el AB.\n",
        "\n",
        "* **Nivel**: calcúla el nivel de un nodo.\n",
        "\n",
        "* **Altura**: calcúla la altura a partir de un nodo.\n",
        "\n",
        "* **Insertar Nodo**: recibe un valor, guarda un valor y lo inserta en el árbol.\n",
        "\n",
        "* **Buscar Nodo**: recibe un valor y lo busca dentro del árbol.\n",
        "\n",
        "* **Eliminar Nodo**: recibe un valor, lo busca dentro del árbol y en caso de que este contenido en el árbol, este nodo es eliminado.\n",
        "\n",
        "* **Recorridos**: los arboles se pueden recorrer de diferentes\n",
        "formas, siendo las mas comunes las siguientes.\n",
        "\n",
        "  *     **EnOrden**: primero se visita el hijo izquierdo, después se visita la raíz y finalmente el hijo derecho. Tomando el árbol de la figura 2, este recorrido mostraría los datos en este orden [2,7,5,6,11,2,5,4,9]\n",
        "  *     **PreOrden**: primero se visita la raíz, después se visita el hijo izquierdo y finalmente el hijo derecho. Tomando el árbol de la figura 2, este recorrido mostraría los datos en este orden [2,7,2,6,5,11,5,9,4]\n",
        "  *     **PostOrden**: primero se visita el hijo izquierdo, después se visita el hijo derecho y finalmente la raíz. Tomando el árbol de la figura 2, este recorrido mostraría los datos en este orden [2,5,11,6,7,4,9,5,2]"
      ]
    },
    {
      "cell_type": "markdown",
      "metadata": {
        "id": "SDjzqBtrR8YX"
      },
      "source": [
        "## Clase `Nodo`\n",
        "\n",
        "Para la construcción de los árboles binarios (y posteriormente árboles binarios de búsqueda) necesitamos definr la clase `Nodo`, esta clase debe tener los mismos elementos que en la imagen de un nodo.\n",
        "\n",
        "Veamos en código como luce esta clase."
      ]
    },
    {
      "cell_type": "code",
      "metadata": {
        "id": "MdjMwWUES3QX"
      },
      "source": [
        "# Clase Nodo necesaria para generar arboles binarios\n",
        "class Nodo(object):\n",
        "  '''\n",
        "  Constructor de nodos\n",
        "  dato: es el contenido del nodo\n",
        "  '''\n",
        "  def __init__(self, dato):\n",
        "    self.izq = None\n",
        "    self.dato = dato\n",
        "    self.der = None\n",
        "    self.padre = None\n",
        "\n",
        "  # Nos dice si el nodo tiene al menos un hijo    \n",
        "  def tieneHijos(self):\n",
        "    return self.izq is not None and self.der is not None\n",
        "  \n",
        "  # Nos dide si el nodo es un hijo izquierdo\n",
        "  def esIzq(self):\n",
        "    return self.padre.izq == self\n",
        "  \n",
        "  # Nos dice si el nodo es un hijo derecho\n",
        "  def esDer(self):\n",
        "    return self.padre.der == self\n",
        "  \n",
        "  # Imprime el contenido del nodo\n",
        "  def __str__(self):\n",
        "    if self.dato is None:\n",
        "      pass\n",
        "    else:\n",
        "      return '{}'.format(self.dato)"
      ],
      "execution_count": null,
      "outputs": []
    },
    {
      "cell_type": "markdown",
      "metadata": {
        "id": "7SlWK8Q5T6q2"
      },
      "source": [
        "## Clase `ArbolBinario`\n",
        "\n",
        "Ya que hemos definido la clase `Nodo` necesaria para construir árboles, ahora podemos comenzar a construir la clase `ArbolBinario`, cuyo único atributo relevante es la raíz, debido a que a paertir de esa referencia podemos llegar a cualquier nodo del árbol.\n",
        "\n",
        "Algo que vale la pena recalcar es que esta clase no conserva un orden y por los tanto no tiene mucho sentido definir más métodos sobre la misma clase, sin embargo podemos definir algúnos métodos elementales que pueden ahorrarnos código en clases posteriores."
      ]
    },
    {
      "cell_type": "code",
      "metadata": {
        "id": "kwat045eYgrE"
      },
      "source": [
        "import random\n",
        "\n",
        "''' Clase AB (ArbolBinario), genera la estructura de un arbol binario, asi como sus funciones.'''\n",
        "class AB(object):\n",
        "\n",
        "  ''' Consructor de arboles binarios'''\n",
        "  def __init__(self, dato):\n",
        "    self.raiz = Nodo(dato)\n",
        "      \n",
        "  ''' Elimina todo el arbol'''\n",
        "  def elimina(self):\n",
        "    self.raiz = None\n",
        "      \n",
        "  ''' Devuelve el nivel del nodo que se le pasa como parametro.\n",
        "      La raiz se ubica en el nivel cero'''\n",
        "  def nivel(self, nodo):\n",
        "    if nodo is None:\n",
        "      return -1\n",
        "    else:\n",
        "      return 1 + self.nivel(nodo.padre)\n",
        "\n",
        "  ''' Devuelve la altura a partir del nodo que se le pasa como parametro,\n",
        "      si el arbol es vacio la altura es cero, si no se le suma 1 al maximo\n",
        "      de las alturas de sus hijos'''\n",
        "  def altura(self, nodo):\n",
        "    if nodo is None:\n",
        "      return 0\n",
        "    else:\n",
        "      return 1 + max(self.altura(nodo.izq), self.altura(nodo.der))\n",
        "      \n",
        "  ''' Inserta recursivamente un dato en el arbol de manera recursiva\n",
        "      nodo: es el nodo a partir del cual se quiere insertar\n",
        "      dato: es el dato que se quiere insertar\n",
        "  '''\n",
        "  def insertar_nodo(self, nodo, dato):\n",
        "    # si el nodo es vacio ahi se crea el nuevo nodo\n",
        "    if nodo is None:\n",
        "      nuevo_nodo = Nodo(dato)\n",
        "      return nuevo_nodo\n",
        "    # dado que en los AB no hay un orden el nuevo nodo se inserta donde sea\n",
        "    if bool(random.getrandbits(1)):\n",
        "      nuevo_nodo = self.insertar_nodo(nodo.izq, dato)\n",
        "      nodo.izq = nuevo_nodo\n",
        "      nuevo_nodo.padre = nodo\n",
        "    else:\n",
        "      nuevo_nodo = self.insertar_nodo(nodo.der, dato)\n",
        "      nodo.der = nuevo_nodo\n",
        "      nuevo_nodo.padre = nodo\n",
        "    #nodo guarda toda la ruta de donde sera insertado el dato\n",
        "    #hasta caer en el caso base, es por eso que se devuelve    \n",
        "    return nodo\n",
        "  \n",
        "  ''' Inserta un nodo en el arbol, a partir de la raiz'''\n",
        "  def insertar(self, dato):\n",
        "    #Se inserta el dato desde la raiz\n",
        "    self.insertar_nodo(self.raiz, dato)\n",
        "      \n",
        "  ''' Recorre el arbol enorden e imprime cada uno de sus nodos'''\n",
        "  def recorrido_enorden(self, nodo):\n",
        "    if nodo is not None:\n",
        "      self.recorrido_enorden(nodo.izq)\n",
        "      print(nodo.dato)\n",
        "      self.recorrido_enorden(nodo.der)\n",
        "\n",
        "  ''' Recorre el arbol preorden e imprime cada uno de sus nodos'''\n",
        "  def recorrido_preorden(self, nodo):\n",
        "    if nodo is not None:\n",
        "      print(nodo.dato)\n",
        "      self.recorrido_preorden(nodo.izq)\n",
        "      self.recorrido_preorden(nodo.der)\n",
        "\n",
        "  ''' Recorre el arbol postorden e imprime cada uno de sus nodos'''\n",
        "  def recorrido_postorden(self, nodo):\n",
        "    if nodo is not None:\n",
        "      self.recorrido_postorden(nodo.izq)\n",
        "      self.recorrido_postorden(nodo.der)\n",
        "      print(nodo.dato)"
      ],
      "execution_count": null,
      "outputs": []
    },
    {
      "cell_type": "markdown",
      "metadata": {
        "id": "Pv-7lCCuZ3gl"
      },
      "source": [
        "Ya con toda la clase bien construida vamos a realizar algunas pruebas"
      ]
    },
    {
      "cell_type": "code",
      "metadata": {
        "id": "ckqc-d-CZ93N",
        "colab": {
          "base_uri": "https://localhost:8080/"
        },
        "outputId": "82f3c0bf-077d-4092-c55e-1fc78abb3e24"
      },
      "source": [
        "def main():\n",
        "  ab = AB(10)\n",
        "  ab.insertar(5)\n",
        "  ab.insertar(15)\n",
        "  ab.insertar(25)\n",
        "  ab.insertar(35)\n",
        "  ab.insertar(45)\n",
        "  print('recorido en orden')\n",
        "  ab.recorrido_enorden(ab.raiz)\n",
        "  print('recorido en preorden')\n",
        "  ab.recorrido_preorden(ab.raiz)\n",
        "  print('recorido en postorden')\n",
        "  ab.recorrido_postorden(ab.raiz)\n",
        "\n",
        "# llamamos a la funcion main\n",
        "main()"
      ],
      "execution_count": null,
      "outputs": [
        {
          "output_type": "stream",
          "name": "stdout",
          "text": [
            "recorido en orden\n",
            "25\n",
            "15\n",
            "45\n",
            "10\n",
            "5\n",
            "35\n",
            "recorido en preorden\n",
            "10\n",
            "15\n",
            "25\n",
            "45\n",
            "5\n",
            "35\n",
            "recorido en postorden\n",
            "25\n",
            "45\n",
            "15\n",
            "35\n",
            "5\n",
            "10\n"
          ]
        }
      ]
    },
    {
      "cell_type": "markdown",
      "metadata": {
        "id": "WVOi8-09pDwL"
      },
      "source": [
        "# Referencias\n",
        "\n",
        "1.  Thomas H. Cormen: Introduction to Algorithms.\n",
        "2.  Referencias Libro Web: Introduccion a Python.\n",
        "3.  Referencias Daniel T. Joyce: Object-Oriented Data Structures.\n",
        "4.  Referencias John C. Mitchell: Concepts in programing Languages."
      ]
    }
  ]
}