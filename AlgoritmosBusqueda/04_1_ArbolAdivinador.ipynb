{
  "nbformat": 4,
  "nbformat_minor": 0,
  "metadata": {
    "colab": {
      "name": "04_1_ArbolAdivinador.ipynb",
      "provenance": [],
      "toc_visible": true,
      "include_colab_link": true
    },
    "kernelspec": {
      "name": "python3",
      "display_name": "Python 3"
    },
    "language_info": {
      "name": "python"
    }
  },
  "cells": [
    {
      "cell_type": "markdown",
      "metadata": {
        "id": "view-in-github",
        "colab_type": "text"
      },
      "source": [
        "<a href=\"https://colab.research.google.com/github/jugernaut/ManejoDatos/blob/desarrollo/AlgoritmosBusqueda/04_1_ArbolAdivinador.ipynb\" target=\"_parent\"><img src=\"https://colab.research.google.com/assets/colab-badge.svg\" alt=\"Open In Colab\"/></a>"
      ]
    },
    {
      "cell_type": "markdown",
      "metadata": {
        "id": "JmymMzF4lG93"
      },
      "source": [
        "<font color=\"Teal\" face=\"Comic Sans MS,arial\">\n",
        "  <h1 align=\"center\"><i>Arboles Adivinador</i></h1>\n",
        "  </font>\n",
        "  <font color=\"Black\" face=\"Comic Sans MS,arial\">\n",
        "  <h5 align=\"center\"><i>Profesor: M.en.C. Miguel Angel Pérez León</i></h5>\n",
        "  <h5 align=\"center\"><i>Ayudante: Jesús Iván Coss Calderón</i></h5>\n",
        "  <h5 align=\"center\"><i>Ayudante: Jonathan Ramírez Montes</i></h5>\n",
        "  <h5 align=\"center\"><i>Materia: Manejo de Datos</i></h5>\n",
        "</font>"
      ]
    },
    {
      "cell_type": "markdown",
      "metadata": {
        "id": "5c1BVdROlJ9T"
      },
      "source": [
        "# Introducción \n",
        "\n",
        "Los árboles binarios no solo sirven para realizar búsquedas, de hecho los árboles se ocupan de manera muy frecuente en áreas como bases de datos, inteligencia artificial o sistemas operativos.\n",
        "\n",
        "En esta presentación vamos a ver el ejemplo de algoritmo empleado desde hace mucho tiempo para simular aprendizaje y con base en este aprendizaje (base de conocimiento) lograr predecir lo que piensa el usuario.\n"
      ]
    },
    {
      "cell_type": "markdown",
      "metadata": {
        "id": "I-Rer9CzlRBp"
      },
      "source": [
        "# Arboles Adivinador\n",
        "\n",
        "Este árbol (igual que los que veremos más adelante) esta conformado por nodos, la única diferencia es que en este árbol binario de búsqueda, cada nodo interno (nodo que no sea una hoja) contiene una pregunta y cada hoja del árbol es un animal."
      ]
    },
    {
      "cell_type": "markdown",
      "metadata": {
        "id": "jP_JtWuplT4-"
      },
      "source": [
        "## Definiciones \n",
        "\n",
        "Dependiendo del punto de vista, la definición de árbol binario difiere un poco, sin embargo para fines prácticos es lo mismo. \n",
        "\n",
        "La forma más sencilla de definir un árbol binario, es como lo hace la teoría de gráficas.\n",
        "\n",
        "**Árbol Binario**: Es un grafo **conexo** y **acíclico**, conformado por nodos y aristas.\n",
        "\n",
        "La siguiente definición (que es la que mas se apega a lo que veremos en el curso), es la definición desde el punto de vista de ciencias de la computación.\n",
        "\n",
        "**Árbol Binario**: Estructura de datos **no lineal**, conformada por nodos, donde cada nodo puede tener a lo más **dos hijos**."
      ]
    },
    {
      "cell_type": "markdown",
      "metadata": {
        "id": "2nxWhjPYliKk"
      },
      "source": [
        "## Elementos de un árbol binario\n",
        "\n",
        "El nodo a partir del cual se comienza a formal el árbol, tiene un nombre especial ya que es importante ubicarlo en todo momento. A este nodo se le conoce como **raíz**.\n",
        "\n",
        "Todo nodo que no tenga al menos un hijo, se le conoce como **hoja**.\n",
        "\n",
        "**Cada nodo pertenece a un nivel**, comenzando por la **raíz cuyo nivel es cero**. Los hijos directos de la raíz pertenecen al nivel 1 o dicho en otras palabras, pertenecen a un nivel más que el de su padre. \n",
        "\n",
        "¿Podrías dar una definición recursiva para la función nivel?.\n",
        "\n",
        "La **altura de un árbol es el nivel más profundo** al que se puede llegar, a partir de la raíz. De manera recursiva podemos decir que la altura de un árbol (a partir de un nodo n) es la mayor altura de cualquiera de sus dos hijos.\n",
        "\n",
        "¿Podrías dar una definición recursiva para la función altura?.\n",
        "\n",
        "A continuación se muestra un nodo binario\n",
        "<center>\n",
        "<img src=\"https://github.com/jugernaut/ManejoDatos/blob/desarrollo/Imagenes/AlgoritmosBusqueda/nodo.png?raw=1\" width=\"600\"> \n",
        "</center>\n",
        "\n",
        "La siguiente imagen muestra un árbol binario \n",
        "<center>\n",
        "<img src=\"https://github.com/jugernaut/ManejoDatos/blob/desarrollo/Imagenes/AlgoritmosBusqueda/arbolb.png?raw=1\" width=\"600\"> \n",
        "</center>\n",
        "\n",
        "En la segunda imagen se puede apreciar un árbol binario, cuya raíz\n",
        "contiene el valor 2. \n",
        "\n",
        "Contiene nodos intermedios con valores 7, 6, 5 y 9.\n",
        "\n",
        "Y cuyas hojas contienen a los valoress 2, 5, 11 y 4.\n",
        "\n",
        "Esta compuesto por 9 nodos, cuyo contenido son valores enteros.\n",
        "Posee 4 niveles, desde el cero hasta el nivel tres.\n",
        "\n",
        "Y la altura de este árbol es 3.\n",
        "\n",
        "**¿Qué operaciones podrías definir para este tipo de árboles?.**\n",
        "\n",
        "**¿A que orden de complejidad pertenecen cada una de estas\n",
        "operaciones?.**\n"
      ]
    },
    {
      "cell_type": "markdown",
      "metadata": {
        "id": "EePNjK-mnl9a"
      },
      "source": [
        "## Operaciones sobre Arboles Binarios (AB)\n",
        "\n",
        "Dado que la definición de **estructura de datos** nos pide\n",
        "identificar el tipo de dato que almacena dicha estructura, así como las operaciones principales que se pueden realizar sobre esta, procedemos a definirlas. \n",
        "\n",
        "Las principales operaciones que se pueden realizar sobre un AB son las siguientes:\n",
        "\n",
        "* **Crear Arbol**: formalismo para indicar que se tiene que\n",
        "construir un AB.\n",
        "\n",
        "* **Eliminar Arbol**: elimina por completo el AB.\n",
        "\n",
        "* **Nivel**: calcúla el nivel de un nodo.\n",
        "\n",
        "* **Altura**: calcúla la altura a partir de un nodo.\n",
        "\n",
        "* **Insertar Nodo**: recibe un valor, guarda un valor y lo inserta en el árbol.\n",
        "\n",
        "* **Buscar Nodo**: recibe un valor y lo busca dentro del árbol.\n",
        "\n",
        "* **Eliminar Nodo**: recibe un valor, lo busca dentro del árbol y en caso de que este contenido en el árbol, este nodo es eliminado.\n",
        "\n",
        "* **Recorridos**: los arboles se pueden recorrer de diferentes\n",
        "formas, siendo las mas comunes las siguientes.\n",
        "\n",
        "  *     **EnOrden**: primero se visita el hijo izquierdo, después se visita la raíz y finalmente el hijo derecho. Tomando el árbol de la figura 2, este recorrido mostraría los datos en este orden [2,7,5,6,11,2,5,4,9]\n",
        "  *     **PreOrden**: primero se visita la raíz, después se visita el hijo izquierdo y finalmente el hijo derecho. Tomando el árbol de la figura 2, este recorrido mostraría los datos en este orden [2,7,2,6,5,11,5,9,4]\n",
        "  *     **PostOrden**: primero se visita el hijo izquierdo, después se visita el hijo derecho y finalmente la raíz. Tomando el árbol de la figura 2, este recorrido mostraría los datos en este orden [2,5,11,6,7,4,9,5,2]"
      ]
    },
    {
      "cell_type": "markdown",
      "metadata": {
        "id": "rEMHdlKfnpwB"
      },
      "source": [
        "# **Árboles Binarios de Búsqueda (Ordenados)**"
      ]
    },
    {
      "cell_type": "markdown",
      "metadata": {
        "id": "2ZUPvysCnt1U"
      },
      "source": [
        "## Características\n",
        "\n",
        "Los Arboles Binarios de Búsqueda (u Ordenados) es una estructura de datos muy parecida a los arboles binarios, pero con la peculiaridad de que cada elemento que se agrega (o elimina) del árbol se lleva a cabo de tal manera que **se conserva un orden** dentro del mismo.\n",
        "\n",
        "Al conservarse un orden ya es posible realizar búsquedas dentro del árbol de manera más eficiente.\n",
        "\n",
        "Dado que las búsquedas se realizan de manera mas e\u001cciente esto **reduce considerablemente el orden de complejidad** al que pertenecen la mayoría de las posibles operaciones que se pueden realizar con este tipo de árboles.\n",
        "\n",
        "De manera informal diremos que en un árbol binario de búsqueda, cualquier nodo cumple con la característica de que todos sus hijos (nietos, descendientes, etc) izquierdos contienen valores inferiores al valor que contiene dicho nodo. Y por otro lado todos sus hijos derechos contienen valores superiores al valor de dicho nodo."
      ]
    },
    {
      "cell_type": "markdown",
      "metadata": {
        "id": "LvVFnjttnust"
      },
      "source": [
        "## Definición Formal \n",
        "\n",
        "***Arbol Binario de Búsqueda (ABB)***\n",
        "\n",
        "Sea $A$ un árbol binario con raíz $R$, hijos izquierdo y derecho (posiblemente nulos) $H_I$ y $H_D$, respectivamente. Diremos que $A$ es un ABB si y solo si se satisfacen las dos condiciones siguientes de manera simultanea:\n",
        "\n",
        "*    $H_I$ es vacío $\\lor$ ($R$ contiene un valor mayor que todo elemento de $H_I \\land H_I$ es un ABB).\n",
        "*    $H_D$ es vacío $\\lor$ ($R$ contiene un valor menor que todo elemento de $H_D \\land H_D$ es un ABB)."
      ]
    },
    {
      "cell_type": "markdown",
      "metadata": {
        "id": "YT9KUGd1nvJq"
      },
      "source": [
        "Nota: Donde $\\land$ es la conjunción lógica \"y\", y $\\lor$ es la disyunción lógica \"o\"."
      ]
    },
    {
      "cell_type": "markdown",
      "metadata": {
        "id": "5ctD1FN0n4qI"
      },
      "source": [
        "<center>\n",
        "<img src=\"https://github.com/jugernaut/ManejoDatos/blob/desarrollo/Imagenes/AlgoritmosBusqueda/abb.png?raw=1\" width=\"500\"> \n",
        "</center>\n",
        "Figura 3: Árbol Binario de Búsqueda (ABB)"
      ]
    },
    {
      "cell_type": "markdown",
      "metadata": {
        "id": "8RkyR2Isn5A4"
      },
      "source": [
        "## Operaciones sobre ABB\n",
        "\n",
        "Al igual que con los AB, los ABB son caracterizados por el tipo de dato que almacena cada nodo, así como el conjunto de operaciones que se pueden llevar a cabo sobre estos.\n",
        "\n",
        "Las principales operaciones de los ABB podemos decir que se\n",
        "**heredan**de los AB, sin embargo dado que que los ABB se\n",
        "caracterizan por estar ordenados, las operaciones de insertar y eliminar nodos cambia, para que después de llevar a cabo alguna de estas operaciones, el árbol en cuestión, cumpla con la definición de ABB.\n",
        "\n",
        "Esta modificación, implica que en la mayoría de los casos las\n",
        "operaciones sobre los ABB se mantenga en el orden de **complejidad logarítmica $O(log_{2}n)$** donde n es el número de nodos.\n",
        "\n",
        "Sin embargo no se puede garantizar que nunca se dará el caso\n",
        "degenerado del árbol, que es el peor caso, en el cual podemos pensar el ABB como una lista. En esta situación las operaciones son mas costosas, llegando a **$O(n)$**."
      ]
    },
    {
      "cell_type": "markdown",
      "metadata": {
        "id": "o8rjhI9dn5Za"
      },
      "source": [
        "# Arboles AVL (Balanceados)\n"
      ]
    },
    {
      "cell_type": "markdown",
      "metadata": {
        "id": "TKb-UU2Vn5wq"
      },
      "source": [
        "## Características\n",
        "\n",
        "Los Arboles AVL (o balanceados) le deben su nombre a los creadores de este tipo de árboles, Georgii Adelson-Velskii y Yevgeniy Landis.\n",
        "\n",
        "La principal característica de este tipo de arboles es que siempre permanecen **balanceados**.\n",
        "\n",
        "El hecho de que estos arboles se mantengan balanceados, sin\n",
        "importar cuantos elementos se inserten o se eliminen ayuda a\n",
        "**disminuir el orden de complejidad** de las operaciones mas comunes en árboles, como la búsqueda.\n",
        "\n",
        "La forma en la que estos árboles se mantienen balanceados es gracias a la **definición de balanceo** y a las operaciones para balancear un nodo, conocidas como **rotaciones**."
      ]
    },
    {
      "cell_type": "markdown",
      "metadata": {
        "id": "ywRyFRoFog88"
      },
      "source": [
        "## Definición Formal \n",
        "\n",
        "Arbol AVL (AAVL)\n",
        "\n",
        "Sea $A$ un árbol binario de búsqueda con raíz $R$, hijos izquierdo y derecho (posiblemente nulos) $H_I$ y $H_D$, respectivamente.\n",
        "\n",
        "Diremos que $A$ es un AAVL si y solo si.\n",
        "\n",
        "*    $H_I$ es AAVL.\n",
        "*    $H_D$ es AAVL.\n",
        "*    $|altura(H_I) - altura(H_D)| \\leq 1$:"
      ]
    },
    {
      "cell_type": "markdown",
      "metadata": {
        "id": "gvNyfdXrohLl"
      },
      "source": [
        "Nota: Donde $altura$ es la operación que nos devuelve la altura de un árbol (subarbol)."
      ]
    },
    {
      "cell_type": "markdown",
      "metadata": {
        "id": "-UIo3fYyohcR"
      },
      "source": [
        "\n",
        "<center>\n",
        "<img src=\"https://github.com/jugernaut/ManejoDatos/blob/desarrollo/Imagenes/AlgoritmosBusqueda/avl.png?raw=1\" width=\"500\"> \n",
        "</center>\n",
        "Figura 4: Árbol AVL (AAVL)"
      ]
    },
    {
      "cell_type": "markdown",
      "metadata": {
        "id": "8ThH3ht2oh1N"
      },
      "source": [
        "## Operaciones sobre AAVL\n",
        "\n",
        "Al igual que con los ABB, los AAVL son caracterizados por el tipo de dato que almacena cada nodo, así como el conjunto de operaciones que se pueden llevar a cabo sobre estos. Y podríamos pensar que en este caso cada nodo almacena un valor adicional conocido como **factor de equilibrio**, mismo que nos indica que tan balanceado se encuentra ese nodo.\n",
        "\n",
        "Los AAVL heredan todas las operaciones, que se realizan sobre los ABB, sin embargo para mantener el árbol balanceado despues de insertar o eliminar un valor, es necesario revisar que el árbol se encuentre balanceado."
      ]
    },
    {
      "cell_type": "markdown",
      "metadata": {
        "id": "0H51P2a0oiEw"
      },
      "source": [
        "En caso de que el árbol se haya desbalanceado, sera necesario llevar a cabo una de estas 4 operaciones:\n",
        "*   Rotación simple a la derecha.\n",
        "*   Rotación simple a la izquierda.\n",
        "*   Doble rotación a la derecha.\n",
        "*   Doble rotación a la izquierda."
      ]
    },
    {
      "cell_type": "markdown",
      "metadata": {
        "id": "RV3UEtNWoiXE"
      },
      "source": [
        "## Factor de Equilibrio (FE)\n",
        "\n",
        "Dado que por definición los AAVL siempre se encuentran balanceados, al insertar o eliminar un dato solo se podrá dar uno de los siguientes 4 casos:\n",
        "\n",
        "* **FE**(nodo) = -2 y (**FE**(nodo.der)=-1 ó **FE**(nodo.der)=0): se balancea con una rotación **simple a la izquierda** sobre nodo.\n",
        "\n",
        "* **FE**(nodo) = 2 y (**FE**(nodo.izq)=1 ó **FE**(nodo.izq)=0): se balancea con una rotación **simple a la derecha** sobre nodo.\n",
        "\n",
        "* **FE**(nodo) = -2 y **FE**(nodo.der)=1: se balancea con una **doble rotación a la izquierda**. Primero se rota a la derecha sobre nodo.der y después a la izquierda sobre nodo. \n",
        "\n",
        "* **FE**(nodo) = 2 y **FE**(nodo.izq)=-1: se balancea con una **doble rotación a la derecha**. Primero se rota a la izquierda sobre nodo.izq y después a la derecha sobre nodo. \n",
        "\n",
        "Es importante recalcar que cada vez que se balancea un nodo después de insertar o eliminar, $\\color{red}{potencialmente\\,su\\,padre\\,ser\\acute{a}\\,desbalanceado}$, es por este motivo que se tiene que **rebalancear el padre de manera recursiva y revisar los factores de equilibrio hasta llegar a la raíz**."
      ]
    },
    {
      "cell_type": "markdown",
      "metadata": {
        "id": "WVOi8-09pDwL"
      },
      "source": [
        "# Referencias\n",
        "\n",
        "1.  Thomas H. Cormen: Introduction to Algorithms.\n",
        "2.  Referencias Libro Web: Introduccion a Python.\n",
        "3.  Referencias Daniel T. Joyce: Object-Oriented Data Structures.\n",
        "4.  Referencias John C. Mitchell: Concepts in programing Languages."
      ]
    }
  ]
}