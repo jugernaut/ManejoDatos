{
  "nbformat": 4,
  "nbformat_minor": 0,
  "metadata": {
    "colab": {
      "name": "030_Manejo_de_Archivos.ipynb",
      "provenance": [],
      "toc_visible": true,
      "include_colab_link": true
    },
    "kernelspec": {
      "name": "python3",
      "display_name": "Python 3"
    },
    "language_info": {
      "name": "python"
    }
  },
  "cells": [
    {
      "cell_type": "markdown",
      "metadata": {
        "id": "view-in-github",
        "colab_type": "text"
      },
      "source": [
        "<a href=\"https://colab.research.google.com/github/jugernaut/ManejoDatos/blob/desarrollo/AlgoritmosBusqueda/030_Manejo_de_Archivos.ipynb\" target=\"_parent\"><img src=\"https://colab.research.google.com/assets/colab-badge.svg\" alt=\"Open In Colab\"/></a>"
      ]
    },
    {
      "cell_type": "markdown",
      "metadata": {
        "id": "osfE0l69b8Ev"
      },
      "source": [
        "<font color=\"Teal\" face=\"Comic Sans MS,arial\">\n",
        "  <h1 align=\"center\"><i>Manejo de Archivos</i></h1>\n",
        "  </font>\n",
        "  <font color=\"Black\" face=\"Comic Sans MS,arial\">\n",
        "  <h5 align=\"center\"><i>Profesor: M.en.C. Miguel Angel Pérez León</i></h5>\n",
        "  <h5 align=\"center\"><i>Ayudante: Jesús Iván Coss Calderón</i></h5>\n",
        "  <h5 align=\"center\"><i>Ayudante: Jonathan Ramírez Montes</i></h5>\n",
        "  <h5 align=\"center\"><i>Materia: Manejo de Datos</i></h5>\n",
        "  </font>"
      ]
    },
    {
      "cell_type": "markdown",
      "metadata": {
        "id": "ZTVTgpcmcbAQ"
      },
      "source": [
        "## Introducción\n",
        "\n",
        "La manipulación de archivos mediante un lenguaje de alto nivel (*Python*) es una de las labores más frecuentes que se tiene al implementar un algoritmo computacional.\n",
        "\n",
        "Existe una infinidad de tipos de archivos (*.txt, .pdf, .xml*, etc.) sin embargo los lenguajes de programación de alto nivel, como en este caso *Python* incluyen dentro de sus bibliotecas o entornos de desarrollo mecanismos para poder, **abrir, leer, escribir o eliminar** un determinado archivo.\n",
        "\n",
        "Sin importar el lenguaje de programación, normalmente se tiene que proporcionar a la biblioteca encargada de manejar archivos la **ruta** del archivo que se quiere manipular, posteriormente se abre dicho archivo y finalmente se realizan las operaciones que se requieran.\n",
        "\n",
        "La intención final, es poder crear un algoritmo que procese la información contenida dentro de estos archivos para así poder ahorrar tiempo y recursos."
      ]
    },
    {
      "cell_type": "markdown",
      "metadata": {
        "id": "QmHkYE_Hc9k-"
      },
      "source": [
        "### Rutas\n",
        "\n",
        "En el contexto del manejo de archivos es de vital importancia recordar el concepto de \"ruta\". La ruta de un archivo es (para ponerlo en términos simples) la ubicación del archivo dentro de la computadora. Supongamos que se tiene un archivo llamado `tarea.txt` dentro de una carpeta llamada ***materias*** y a su vez esta carpeta se encuentra en el ***escritorio***, el archivo `tarea.txt` tiene 2 formas de ser ubicado:\n",
        "\n",
        "* **Ruta relativa**: es la ruta a partir de la cual el usuario esta buscando el archivo. Es decir que si el usuario abre una terminal y esta terminal comienza en la carpeta /usuario. La ruta relativa del archivo tarea.txt seria /usuario/escritorio/materias/tarea.txt.\n",
        "\n",
        "* **Ruta absoluta**: corresponde a la ubicación del archivo desde la raíz del sistema operativo. Es decir que (en el caso de Windows) la ruta absoluta del archivo tarea.txt, corresponde a C://usuarios/usuario/escritorio/materias/tarea.txt."
      ]
    },
    {
      "cell_type": "markdown",
      "metadata": {
        "id": "OtCXJ3SFdS_c"
      },
      "source": [
        "## Manejo de archivos en *Python*\n",
        "\n",
        "Para hacer acceder a los archvivos dentro de una computadora usando *Python* es muy sencillo, ya que las bibliotecas usadas para acceder a los mismos ya se encuentran instaladas y solo hace falta acceder a las mismas.\n",
        "\n",
        "A continuación se muestran los elementos más importantes que nos permiten manipular archviso en mediante *Python*.\n"
      ]
    },
    {
      "cell_type": "markdown",
      "metadata": {
        "id": "i-BaC6ZSdhCc"
      },
      "source": [
        "### Conceptos y clases\n",
        "\n",
        "La forma en la cual se pueden manipular archivos de texto plano (y archvivos en general) en *Python* es empleando las siguientes clases:\n",
        "\n",
        "* `open`: esta función recibe como parámetros la ruta (relativa o obsoluta) en la cual se encuentra el archivo a manipular, ademas recibe como segundo parametro el tipo de acción que se va a realzar al manipular el archivo.\n",
        "\n",
        "* `read`: mediante esta función se le lee el contenido del archivo y se puede mostrar su contenido mediante la función `print`.\n",
        "\n",
        "* `readline`: con esta función podemos leer una linea completa del archivo. Una manera alternativa de realizar esta acción es mediante el `foreach` de *Python*.\n",
        "\n",
        "* `close`: una vez que se haya terminado de manipular el archivo en cuestión **es muy importante cerrar el archivo** mediante la función `close`, ya que de no hacerlo así el archivo queda abierto y no se puede acceder al mismo por otra aplicación."
      ]
    },
    {
      "cell_type": "markdown",
      "metadata": {
        "id": "h8PAyW8UeHyn"
      },
      "source": [
        "### Excepciones\n",
        "\n",
        "Dado que al momento de manipular archivos podemos tener diferentes tipos de excepciones, *Python* proporciona un mecanismo de control de errores los cuales nos permite identificar y canalizar el error de manera adecuada. Los excepciones más comunes son:\n",
        "\n",
        "* **FileNotFoundError**: como su nombre lo indica, este tipo de excepción implica que la ruta proporcionada no es correcta o que el archivo no existe, es decir que en este caso es necesario verificar que el archivo al que se quiere acceder de verdad se encuentre en la ruta especificada.\n",
        "\n",
        "* **IOException**: normalmente cuando se da este tipo de excepción es debido a que otro proceso esta accediendo al mismo archivo y por lo tanto existe conflicto entre ambos procesos (o mas) que quieren tener acceso al archivo en cuestión."
      ]
    },
    {
      "cell_type": "markdown",
      "metadata": {
        "id": "Xokh32HgdDjX"
      },
      "source": [
        "## Lectura de archivos\n",
        "\n",
        "Igual que con el tema anterior, vamos a usar el mismo archivo para manipular los datos en el mismo, así que lo primero es descargar este archivo."
      ]
    },
    {
      "cell_type": "code",
      "metadata": {
        "id": "rDwOIrAWd3S8",
        "colab": {
          "base_uri": "https://localhost:8080/"
        },
        "outputId": "a2c37f6c-89cc-4b32-dbf3-efa013b29acc"
      },
      "source": [
        "!wget https://raw.githubusercontent.com/jugernaut/ManejoDatos/desarrollo/utils/ManejodeDatos9180.txt"
      ],
      "execution_count": null,
      "outputs": [
        {
          "output_type": "stream",
          "name": "stdout",
          "text": [
            "--2021-10-27 06:38:45--  https://raw.githubusercontent.com/jugernaut/ManejoDatos/desarrollo/utils/ManejodeDatos9180.txt\n",
            "Resolving raw.githubusercontent.com (raw.githubusercontent.com)... 185.199.108.133, 185.199.109.133, 185.199.110.133, ...\n",
            "Connecting to raw.githubusercontent.com (raw.githubusercontent.com)|185.199.108.133|:443... connected.\n",
            "HTTP request sent, awaiting response... 200 OK\n",
            "Length: 3103 (3.0K) [text/plain]\n",
            "Saving to: ‘ManejodeDatos9180.txt’\n",
            "\n",
            "ManejodeDatos9180.t 100%[===================>]   3.03K  --.-KB/s    in 0s      \n",
            "\n",
            "2021-10-27 06:38:45 (46.0 MB/s) - ‘ManejodeDatos9180.txt’ saved [3103/3103]\n",
            "\n"
          ]
        }
      ]
    },
    {
      "cell_type": "markdown",
      "metadata": {
        "id": "3IADGBLdd-md"
      },
      "source": [
        "Ahora veamos su contenido usando *Python*."
      ]
    },
    {
      "cell_type": "code",
      "metadata": {
        "id": "7ilCgCE4eDBY",
        "colab": {
          "base_uri": "https://localhost:8080/"
        },
        "outputId": "ecf02136-be80-4558-badb-59419af06bd6"
      },
      "source": [
        "# se abre el archivo\n",
        "archivo = open(\"ManejodeDatos9180.txt\")\n",
        "\n",
        "# mostramos las 4 primeras lineas\n",
        "print(archivo.readline())\n",
        "print(archivo.readline())\n",
        "print(archivo.readline())\n",
        "print(archivo.readline())\n"
      ],
      "execution_count": null,
      "outputs": [
        {
          "output_type": "stream",
          "name": "stdout",
          "text": [
            "No\tApellido\tApellido 2\tNombre\tCarrera\tCorreo\tTelefono\n",
            "\n",
            "1\tAlemán\tGalicia\tDiego Leónardo\tC. Computación\talemanlex_plus_cool@hotmail.com\t44-635-28-288\n",
            "\n",
            "2\tAmador\tGónzalez\tNoé Eusebio\tAplicadas\tnoe.amadorg@ciencias.unam.mx\t55-640-83-871\n",
            "\n",
            "3\tAmaro\tIslas\tYamile Amalia Zulema\tActuaría\taminahelue@ciencias.unam.mx\t55-4977-6159\n",
            "\n"
          ]
        }
      ]
    },
    {
      "cell_type": "code",
      "metadata": {
        "id": "griV7i0Je7WO",
        "colab": {
          "base_uri": "https://localhost:8080/"
        },
        "outputId": "f2c01d37-988d-40ea-90dc-1580cd3324db"
      },
      "source": [
        "# mostrar contenido con foreach (el for comienza donde se quedo readline)\n",
        "for linea in archivo:\n",
        "  print(linea)"
      ],
      "execution_count": null,
      "outputs": [
        {
          "output_type": "stream",
          "name": "stdout",
          "text": [
            "4\tCabrera\tPérez\tRodrígo\tActuaría\trodri030100@gmail.com\t55-477-61-948\n",
            "\n",
            "5\tCazares\tSolis\tAndrea Nicole\tActuaría\tnicolecazares141@gmail.com\t55-539-42-382\n",
            "\n",
            "6\tContreras\tChávez\tCitlali\tActuaría\tcitlali.contreras.1999@gmail.com\t55-399-75-350\n",
            "\n",
            "7\tDorantes\tBravo\tAlicia\tAplicadas\tadorantes@ciencias.unam.mx\t55-128-98-209\n",
            "\n",
            "8\tDurán\tSantiago\tRafael\tAplicadas\trsanti955@gmail.com\t333-72-554-55\n",
            "\n",
            "9\tEnríquez\tRíos\tMichelle Guadalupe\tActuaría\tmichelle.0198.me@gmail.com\t55-782-67-957\n",
            "\n",
            "10\tFlores\tDelgado\tOmar Alejandro\tActuaría\tomaralejandro00g@gmail.com\t55-665-72-227\n",
            "\n",
            "11\tGarcés\tGarduño\tRodrígo Tonatihu\tActuaría\trodrigotonatihu@ciencias.unam.mx\t55-244-10-361\n",
            "\n",
            "12\tGarcía\tAzamar\tCristopher Alejandro\tActuaría\tcrisazami_123@ciencias.unam.mx\t46-928-422-65\n",
            "\n",
            "13\tGarcía\tMejía\tRandy Jesús\tActuaría\trandy.jesus.garcia@gmail.com\t55-580-24-293\n",
            "\n",
            "14\tGómez\tArteaga\tBeu Ribe\tActuaría\tbeu.ribega@gmail.com\t55-789-33-403\n",
            "\n",
            "15\tGónzalez\tGarcía\tMaricela\tActuaría\tmarigonzalez_240100@hotmail.com\t55-907-91-129\n",
            "\n",
            "16\tGuevara\tLegaspe\tLeslye Joseline\tActuaría\tleslye_joseline@ciencias.unam.mx\t55-121-67-977\n",
            "\n",
            "17\tGúzman\tLópez\tEduardo Gabriel\tAplicadas\teggl@ciencias.unam.mx\t55-970-28-624\n",
            "\n",
            "18\tHérnandez\tLópez\tAlejandro\tActuaría\ttrigranalex@ciencias.unam.mx\t55-161-68-809\n",
            "\n",
            "19\tJuárez\tDiosdado\tUlises\tAplicadas\tulisesu13@ciencias.unam.mx\t55-497-22-370\n",
            "\n",
            "20\tLerdo de Tejada\tFlores\tMiguel\tActuaría\tmiguel_lerdodetejada@yahoo.com.mx\t55-7190-3848\n",
            "\n",
            "21\tNuñez\tVega\tAdive Alejandra\tActuaría\tanv.ale558@gmail.com\t5554-72-20-63\n",
            "\n",
            "22\tNúñez\tSánchez\tRuben\tActuaría\trubennu00@ciencias.unam.mx\t55-660-99-872\n",
            "\n",
            "23\tPérez\tEscartin\tMaya Aranzazu\tActuaría\taranzazu-08@hotmail.com\t55-376-26-789\n",
            "\n",
            "24\tRamírez\tCarmona\tAxel Gabriel\tActuaría\taxel.ramirez@ciencias.unam.mx\t55-812-56-695\n",
            "\n",
            "25\tReséndiz\tGuerrero\tMariella Vanesa\tActuaría\tmariella_resendiz@yahoo.com\t55-583-43-525\n",
            "\n",
            "26\tRivera\tRamírez\tMaría Fernanda\tActuaría\tfer.loveswim.0408@gmail.com\t55-489-59-362\n",
            "\n",
            "27\tRodríguez\tHérnandez\tRicardo\tAplicadas\trimucaser@gmail.com\t888-314-46-780\n",
            "\n",
            "28\tRodríguez\tRojas\tAarón Israel\tActuaría\taaronrojas@ciencias.unam.mx\t55-931-23-412\n",
            "\n",
            "29\tRodríguez\tVega\tOctavio\tMatemáticas\toctavius@ciencias.unam.mx\t55-366-59-591\n",
            "\n",
            "30\tSalas\tReyes\tSac-Nicte Damayanti\tAplicadas\tnictesalas@ciencias.unam.com\t55-276-13-206\n",
            "\n",
            "31\tSalinas\tAvelino\tElizabeth\tActuaría\teliza160900@ciencias.unam.mx\t55-626-14-760\n",
            "\n",
            "32\tSánchez\tMartínez\tFabiola Sofía\tActuaría\tsofysm99@gmail.com\t55-461-15-303\n",
            "\n",
            "33\tSánchez\tValle\tDaniela Itzel\tActuaría\tdanielavalle@ciencias.unam.mx\t77-174-67-488\n",
            "\n",
            "34\tTéllez\tSoto\tJosé Emanuel\tAplicadas\tjoseemanueltellezsoto@gmail.com\t55-93680-510\n",
            "\n",
            "35\tVásquez\tMartínez\tAndrea Lizbeth\tActuaría\tandreavasquez115@gmail.com\t55-687-34366\n",
            "\n",
            "36\tZamarripa\tOrnelas\tDiego Mauricio\tActuaría\tdiego.zamarripa18@gmail.com\t55-458-69-357\n"
          ]
        }
      ]
    },
    {
      "cell_type": "code",
      "metadata": {
        "id": "ZxjdBah4fCjd",
        "colab": {
          "base_uri": "https://localhost:8080/"
        },
        "outputId": "846ab2ce-14a3-4b91-aa46-6a4b0701c1aa"
      },
      "source": [
        "# se regresa al inicio del archivo\n",
        "archivo.seek(0)\n",
        "\n",
        "# se muestra todo el contenido\n",
        "print(archivo.read())"
      ],
      "execution_count": null,
      "outputs": [
        {
          "output_type": "stream",
          "name": "stdout",
          "text": [
            "No\tApellido\tApellido 2\tNombre\tCarrera\tCorreo\tTelefono\n",
            "1\tAlemán\tGalicia\tDiego Leónardo\tC. Computación\talemanlex_plus_cool@hotmail.com\t44-635-28-288\n",
            "2\tAmador\tGónzalez\tNoé Eusebio\tAplicadas\tnoe.amadorg@ciencias.unam.mx\t55-640-83-871\n",
            "3\tAmaro\tIslas\tYamile Amalia Zulema\tActuaría\taminahelue@ciencias.unam.mx\t55-4977-6159\n",
            "4\tCabrera\tPérez\tRodrígo\tActuaría\trodri030100@gmail.com\t55-477-61-948\n",
            "5\tCazares\tSolis\tAndrea Nicole\tActuaría\tnicolecazares141@gmail.com\t55-539-42-382\n",
            "6\tContreras\tChávez\tCitlali\tActuaría\tcitlali.contreras.1999@gmail.com\t55-399-75-350\n",
            "7\tDorantes\tBravo\tAlicia\tAplicadas\tadorantes@ciencias.unam.mx\t55-128-98-209\n",
            "8\tDurán\tSantiago\tRafael\tAplicadas\trsanti955@gmail.com\t333-72-554-55\n",
            "9\tEnríquez\tRíos\tMichelle Guadalupe\tActuaría\tmichelle.0198.me@gmail.com\t55-782-67-957\n",
            "10\tFlores\tDelgado\tOmar Alejandro\tActuaría\tomaralejandro00g@gmail.com\t55-665-72-227\n",
            "11\tGarcés\tGarduño\tRodrígo Tonatihu\tActuaría\trodrigotonatihu@ciencias.unam.mx\t55-244-10-361\n",
            "12\tGarcía\tAzamar\tCristopher Alejandro\tActuaría\tcrisazami_123@ciencias.unam.mx\t46-928-422-65\n",
            "13\tGarcía\tMejía\tRandy Jesús\tActuaría\trandy.jesus.garcia@gmail.com\t55-580-24-293\n",
            "14\tGómez\tArteaga\tBeu Ribe\tActuaría\tbeu.ribega@gmail.com\t55-789-33-403\n",
            "15\tGónzalez\tGarcía\tMaricela\tActuaría\tmarigonzalez_240100@hotmail.com\t55-907-91-129\n",
            "16\tGuevara\tLegaspe\tLeslye Joseline\tActuaría\tleslye_joseline@ciencias.unam.mx\t55-121-67-977\n",
            "17\tGúzman\tLópez\tEduardo Gabriel\tAplicadas\teggl@ciencias.unam.mx\t55-970-28-624\n",
            "18\tHérnandez\tLópez\tAlejandro\tActuaría\ttrigranalex@ciencias.unam.mx\t55-161-68-809\n",
            "19\tJuárez\tDiosdado\tUlises\tAplicadas\tulisesu13@ciencias.unam.mx\t55-497-22-370\n",
            "20\tLerdo de Tejada\tFlores\tMiguel\tActuaría\tmiguel_lerdodetejada@yahoo.com.mx\t55-7190-3848\n",
            "21\tNuñez\tVega\tAdive Alejandra\tActuaría\tanv.ale558@gmail.com\t5554-72-20-63\n",
            "22\tNúñez\tSánchez\tRuben\tActuaría\trubennu00@ciencias.unam.mx\t55-660-99-872\n",
            "23\tPérez\tEscartin\tMaya Aranzazu\tActuaría\taranzazu-08@hotmail.com\t55-376-26-789\n",
            "24\tRamírez\tCarmona\tAxel Gabriel\tActuaría\taxel.ramirez@ciencias.unam.mx\t55-812-56-695\n",
            "25\tReséndiz\tGuerrero\tMariella Vanesa\tActuaría\tmariella_resendiz@yahoo.com\t55-583-43-525\n",
            "26\tRivera\tRamírez\tMaría Fernanda\tActuaría\tfer.loveswim.0408@gmail.com\t55-489-59-362\n",
            "27\tRodríguez\tHérnandez\tRicardo\tAplicadas\trimucaser@gmail.com\t888-314-46-780\n",
            "28\tRodríguez\tRojas\tAarón Israel\tActuaría\taaronrojas@ciencias.unam.mx\t55-931-23-412\n",
            "29\tRodríguez\tVega\tOctavio\tMatemáticas\toctavius@ciencias.unam.mx\t55-366-59-591\n",
            "30\tSalas\tReyes\tSac-Nicte Damayanti\tAplicadas\tnictesalas@ciencias.unam.com\t55-276-13-206\n",
            "31\tSalinas\tAvelino\tElizabeth\tActuaría\teliza160900@ciencias.unam.mx\t55-626-14-760\n",
            "32\tSánchez\tMartínez\tFabiola Sofía\tActuaría\tsofysm99@gmail.com\t55-461-15-303\n",
            "33\tSánchez\tValle\tDaniela Itzel\tActuaría\tdanielavalle@ciencias.unam.mx\t77-174-67-488\n",
            "34\tTéllez\tSoto\tJosé Emanuel\tAplicadas\tjoseemanueltellezsoto@gmail.com\t55-93680-510\n",
            "35\tVásquez\tMartínez\tAndrea Lizbeth\tActuaría\tandreavasquez115@gmail.com\t55-687-34366\n",
            "36\tZamarripa\tOrnelas\tDiego Mauricio\tActuaría\tdiego.zamarripa18@gmail.com\t55-458-69-357\n"
          ]
        }
      ]
    },
    {
      "cell_type": "code",
      "metadata": {
        "id": "JBZccgZdf9Qq"
      },
      "source": [
        "# ****IMPORTANTE CERRAR EL ARCHIVO*****\n",
        "archivo.close()"
      ],
      "execution_count": null,
      "outputs": []
    },
    {
      "cell_type": "markdown",
      "metadata": {
        "id": "rQU4zHu4antL"
      },
      "source": [
        "# Lectura de archivos + *regex*\n",
        "\n",
        "Las expresiones regulares en si mismas ya son una herramienta muy poderosa para el manejo de datos, ya que prácitamente es posible generar cualquier expresión regular para el caso en el que nos encontremos.\n",
        "\n",
        "Sin embargo este poder de procesamiento se ve incrementado de manera exponencial cuando lo conbinamos con algún lenguaje de programación como lo es el caso de *Python*, veamos algunos ejemplos."
      ]
    },
    {
      "cell_type": "markdown",
      "metadata": {
        "id": "LV5v6HQ9bXK9"
      },
      "source": [
        "## Modulo `re`\n",
        "\n",
        "El módulo `re` de *Python* es el módulo precargado (no es necesario instalarlo) que se encarga de permitirnos hacer uso de *regex* en combinación con *python*.\n",
        "\n",
        "Para hacer uso del mismo es tan sencillo como agregar la siguiente celda de código a nuestro algoritmo y ya podremos hacer uso de todas las funciones en este módulo, visita este [link](https://docs.python.org/es/3/library/re.html) para información más detallada del módulo `re`."
      ]
    },
    {
      "cell_type": "code",
      "metadata": {
        "id": "MUUvJuxHcAhf"
      },
      "source": [
        "import re"
      ],
      "execution_count": null,
      "outputs": []
    },
    {
      "cell_type": "markdown",
      "metadata": {
        "id": "zI7NJg6qcPiH"
      },
      "source": [
        "Una vez que ya importamos el módulo `re` y que además ya tenemos los datos que vamos a procesar mediante expresiones regulares (*ManejodeDatos9180.txt*), veamos algunos ejemplos."
      ]
    },
    {
      "cell_type": "markdown",
      "metadata": {
        "id": "0d-uoQnpc2X5"
      },
      "source": [
        "### Funcion `search`\n",
        "\n",
        "Esta funcion nos indica si una determinada expresión regular hace *match* con el texto que queremos analizar.\n",
        "\n",
        "Sabemos que en nuestro archivo de base da datos (*ManejodeDatos9180.txt*) existen correos electrónicos, así que de manera tramposa vamos a verificr que exista al menos un símbolo *@* haciendo uso del módulo `re`."
      ]
    },
    {
      "cell_type": "code",
      "metadata": {
        "id": "PX_lPfYzd8Ov",
        "colab": {
          "base_uri": "https://localhost:8080/"
        },
        "outputId": "8a1be693-786c-4af2-c2b8-13dce4176e92"
      },
      "source": [
        "# generamos la expresion regular\n",
        "patron = \"@\"\n",
        "\n",
        "# abrimos el archivo a leer\n",
        "archivo = open(\"ManejodeDatos9180.txt\")\n",
        "\n",
        "# vemos si aparce el patron al menos una vez\n",
        "x = re.search(patron, archivo.read())\n",
        "\n",
        "# si x es diferente de None, si existe el patron en los datos\n",
        "if x:\n",
        "  print(\"Si aparece\")\n",
        "# si x es None significa que no existe el patron (compruebalo)\n",
        "else:\n",
        "  print(\"No aparece\")"
      ],
      "execution_count": null,
      "outputs": [
        {
          "output_type": "stream",
          "name": "stdout",
          "text": [
            "Si aparece\n"
          ]
        }
      ]
    },
    {
      "cell_type": "markdown",
      "metadata": {
        "id": "xOFU1B_QfRVq"
      },
      "source": [
        "### Función `findall`\n",
        "\n",
        "La función `findall` es de las funciones más útiles dentro del módulo `re` ya que nos devuelve una lista de todas las apariciones (coincidencias) del patrón a buscar dentro de nuestros datos.\n",
        "\n",
        "La siguiente *regex* hace *match* con todos los correos electrónicos dentro del archivo *ManejodeDatos9180.txt*.\n",
        "\n",
        "`[0-9a-z._-]*@[0-9a-z._-]*`\n",
        "\n",
        "Así que ahora mediante el módulo `re` vamos a extraer unicamente los correos y mostrarlos."
      ]
    },
    {
      "cell_type": "code",
      "metadata": {
        "id": "H40bII9oh7zO",
        "colab": {
          "base_uri": "https://localhost:8080/"
        },
        "outputId": "2f07d750-5b80-4bdf-dbd9-46a1a330183d"
      },
      "source": [
        "# generamos la expresion regular\n",
        "patron = \"[0-9a-z._-]*@[0-9a-z._-]*\"\n",
        "\n",
        "# abrimos el archivo a leer\n",
        "archivo = open(\"ManejodeDatos9180.txt\")\n",
        "\n",
        "# busquemos todas las incidencias del patron\n",
        "x = re.findall(patron, archivo.read())\n",
        "\n",
        "print(x)"
      ],
      "execution_count": null,
      "outputs": [
        {
          "output_type": "stream",
          "name": "stdout",
          "text": [
            "['alemanlex_plus_cool@hotmail.com', 'noe.amadorg@ciencias.unam.mx', 'aminahelue@ciencias.unam.mx', 'rodri030100@gmail.com', 'nicolecazares141@gmail.com', 'citlali.contreras.1999@gmail.com', 'adorantes@ciencias.unam.mx', 'rsanti955@gmail.com', 'michelle.0198.me@gmail.com', 'omaralejandro00g@gmail.com', 'rodrigotonatihu@ciencias.unam.mx', 'crisazami_123@ciencias.unam.mx', 'randy.jesus.garcia@gmail.com', 'beu.ribega@gmail.com', 'marigonzalez_240100@hotmail.com', 'leslye_joseline@ciencias.unam.mx', 'eggl@ciencias.unam.mx', 'trigranalex@ciencias.unam.mx', 'ulisesu13@ciencias.unam.mx', 'miguel_lerdodetejada@yahoo.com.mx', 'anv.ale558@gmail.com', 'rubennu00@ciencias.unam.mx', 'aranzazu-08@hotmail.com', 'axel.ramirez@ciencias.unam.mx', 'mariella_resendiz@yahoo.com', 'fer.loveswim.0408@gmail.com', 'rimucaser@gmail.com', 'aaronrojas@ciencias.unam.mx', 'octavius@ciencias.unam.mx', 'nictesalas@ciencias.unam.com', 'eliza160900@ciencias.unam.mx', 'sofysm99@gmail.com', 'danielavalle@ciencias.unam.mx', 'joseemanueltellezsoto@gmail.com', 'andreavasquez115@gmail.com', 'diego.zamarripa18@gmail.com']\n"
          ]
        }
      ]
    },
    {
      "cell_type": "markdown",
      "metadata": {
        "id": "vGfT9y-DiO4p"
      },
      "source": [
        "¡Listo!, así de sencillo obtuvimos todos los correos electrónicos de nuestra base de datos y ahora podemos hacer con ellos lo que queramos.\n",
        "\n",
        "Vale la pena recalcar que dependiendo de la *regex* es lo que nos devuelve la función `findall`, puede ser que ademas del correo electrónico nos interese obtener el número telefónico y en ese caso es necesario modificar la *regex* para obtener un resultado diferente."
      ]
    },
    {
      "cell_type": "markdown",
      "metadata": {
        "id": "2w6cuAnTjA23"
      },
      "source": [
        "### Función `split`\n",
        "\n",
        "Esta función nos ayuda a \"partir\" los datos de acuerdo a un patrón, por ejemplo supongamos que queremos que cada espacio en blanco sea un delimitador para los datos que estamos manejando."
      ]
    },
    {
      "cell_type": "code",
      "metadata": {
        "id": "vS5XDpgJjem5",
        "colab": {
          "base_uri": "https://localhost:8080/"
        },
        "outputId": "1cdb08c2-9a8c-4e4f-f6f8-700b21f871d9"
      },
      "source": [
        "# generamos la expresion regular\n",
        "patron = \"\\s\"\n",
        "\n",
        "# abrimos el archivo a leer\n",
        "archivo = open(\"ManejodeDatos9180.txt\")\n",
        "\n",
        "# vemos la cadena partida por espacios\n",
        "x = re.split(patron, archivo.read())\n",
        "\n",
        "print(x)"
      ],
      "execution_count": null,
      "outputs": [
        {
          "output_type": "stream",
          "name": "stdout",
          "text": [
            "['No', 'Apellido', 'Apellido', '2', 'Nombre', 'Carrera', 'Correo', 'Telefono', '1', 'Alemán', 'Galicia', 'Diego', 'Leónardo', 'C.', 'Computación', 'alemanlex_plus_cool@hotmail.com', '44-635-28-288', '2', 'Amador', 'Gónzalez', 'Noé', 'Eusebio', 'Aplicadas', 'noe.amadorg@ciencias.unam.mx', '55-640-83-871', '3', 'Amaro', 'Islas', 'Yamile', 'Amalia', 'Zulema', 'Actuaría', 'aminahelue@ciencias.unam.mx', '55-4977-6159', '4', 'Cabrera', 'Pérez', 'Rodrígo', 'Actuaría', 'rodri030100@gmail.com', '55-477-61-948', '5', 'Cazares', 'Solis', 'Andrea', 'Nicole', 'Actuaría', 'nicolecazares141@gmail.com', '55-539-42-382', '6', 'Contreras', 'Chávez', 'Citlali', 'Actuaría', 'citlali.contreras.1999@gmail.com', '55-399-75-350', '7', 'Dorantes', 'Bravo', 'Alicia', 'Aplicadas', 'adorantes@ciencias.unam.mx', '55-128-98-209', '8', 'Durán', 'Santiago', 'Rafael', 'Aplicadas', 'rsanti955@gmail.com', '333-72-554-55', '9', 'Enríquez', 'Ríos', 'Michelle', 'Guadalupe', 'Actuaría', 'michelle.0198.me@gmail.com', '55-782-67-957', '10', 'Flores', 'Delgado', 'Omar', 'Alejandro', 'Actuaría', 'omaralejandro00g@gmail.com', '55-665-72-227', '11', 'Garcés', 'Garduño', 'Rodrígo', 'Tonatihu', 'Actuaría', 'rodrigotonatihu@ciencias.unam.mx', '55-244-10-361', '12', 'García', 'Azamar', 'Cristopher', 'Alejandro', 'Actuaría', 'crisazami_123@ciencias.unam.mx', '46-928-422-65', '13', 'García', 'Mejía', 'Randy', 'Jesús', 'Actuaría', 'randy.jesus.garcia@gmail.com', '55-580-24-293', '14', 'Gómez', 'Arteaga', 'Beu', 'Ribe', 'Actuaría', 'beu.ribega@gmail.com', '55-789-33-403', '15', 'Gónzalez', 'García', 'Maricela', 'Actuaría', 'marigonzalez_240100@hotmail.com', '55-907-91-129', '16', 'Guevara', 'Legaspe', 'Leslye', 'Joseline', 'Actuaría', 'leslye_joseline@ciencias.unam.mx', '55-121-67-977', '17', 'Gúzman', 'López', 'Eduardo', 'Gabriel', 'Aplicadas', 'eggl@ciencias.unam.mx', '55-970-28-624', '18', 'Hérnandez', 'López', 'Alejandro', 'Actuaría', 'trigranalex@ciencias.unam.mx', '55-161-68-809', '19', 'Juárez', 'Diosdado', 'Ulises', 'Aplicadas', 'ulisesu13@ciencias.unam.mx', '55-497-22-370', '20', 'Lerdo', 'de', 'Tejada', 'Flores', 'Miguel', 'Actuaría', 'miguel_lerdodetejada@yahoo.com.mx', '55-7190-3848', '21', 'Nuñez', 'Vega', 'Adive', 'Alejandra', 'Actuaría', 'anv.ale558@gmail.com', '5554-72-20-63', '22', 'Núñez', 'Sánchez', 'Ruben', 'Actuaría', 'rubennu00@ciencias.unam.mx', '55-660-99-872', '23', 'Pérez', 'Escartin', 'Maya', 'Aranzazu', 'Actuaría', 'aranzazu-08@hotmail.com', '55-376-26-789', '24', 'Ramírez', 'Carmona', 'Axel', 'Gabriel', 'Actuaría', 'axel.ramirez@ciencias.unam.mx', '55-812-56-695', '25', 'Reséndiz', 'Guerrero', 'Mariella', 'Vanesa', 'Actuaría', 'mariella_resendiz@yahoo.com', '55-583-43-525', '26', 'Rivera', 'Ramírez', 'María', 'Fernanda', 'Actuaría', 'fer.loveswim.0408@gmail.com', '55-489-59-362', '27', 'Rodríguez', 'Hérnandez', 'Ricardo', 'Aplicadas', 'rimucaser@gmail.com', '888-314-46-780', '28', 'Rodríguez', 'Rojas', 'Aarón', 'Israel', 'Actuaría', 'aaronrojas@ciencias.unam.mx', '55-931-23-412', '29', 'Rodríguez', 'Vega', 'Octavio', 'Matemáticas', 'octavius@ciencias.unam.mx', '55-366-59-591', '30', 'Salas', 'Reyes', 'Sac-Nicte', 'Damayanti', 'Aplicadas', 'nictesalas@ciencias.unam.com', '55-276-13-206', '31', 'Salinas', 'Avelino', 'Elizabeth', 'Actuaría', 'eliza160900@ciencias.unam.mx', '55-626-14-760', '32', 'Sánchez', 'Martínez', 'Fabiola', 'Sofía', 'Actuaría', 'sofysm99@gmail.com', '55-461-15-303', '33', 'Sánchez', 'Valle', 'Daniela', 'Itzel', 'Actuaría', 'danielavalle@ciencias.unam.mx', '77-174-67-488', '34', 'Téllez', 'Soto', 'José', 'Emanuel', 'Aplicadas', 'joseemanueltellezsoto@gmail.com', '55-93680-510', '35', 'Vásquez', 'Martínez', 'Andrea', 'Lizbeth', 'Actuaría', 'andreavasquez115@gmail.com', '55-687-34366', '36', 'Zamarripa', 'Ornelas', 'Diego', 'Mauricio', 'Actuaría', 'diego.zamarripa18@gmail.com', '55-458-69-357']\n"
          ]
        }
      ]
    },
    {
      "cell_type": "markdown",
      "metadata": {
        "id": "h2NHLmt3jILr"
      },
      "source": [
        "# Referencias\n",
        "\n",
        "*   https://www.w3schools.com/python/python_regex.asp\n",
        "*   https://uniwebsidad.com/libros/python/capitulo-9\n",
        "\n",
        "\n",
        "\n"
      ]
    }
  ]
}