{
  "nbformat": 4,
  "nbformat_minor": 0,
  "metadata": {
    "colab": {
      "name": "04_2_ArbolAdivinador.ipynb",
      "provenance": [],
      "toc_visible": true,
      "include_colab_link": true
    },
    "kernelspec": {
      "name": "python3",
      "display_name": "Python 3"
    },
    "language_info": {
      "name": "python"
    }
  },
  "cells": [
    {
      "cell_type": "markdown",
      "metadata": {
        "id": "view-in-github",
        "colab_type": "text"
      },
      "source": [
        "<a href=\"https://colab.research.google.com/github/jugernaut/ManejoDatos/blob/main/AlgoritmosBusqueda/04_2_ArbolAdivinador.ipynb\" target=\"_parent\"><img src=\"https://colab.research.google.com/assets/colab-badge.svg\" alt=\"Open In Colab\"/></a>"
      ]
    },
    {
      "cell_type": "markdown",
      "metadata": {
        "id": "JmymMzF4lG93"
      },
      "source": [
        "<font color=\"Teal\" face=\"Comic Sans MS,arial\">\n",
        "  <h1 align=\"center\"><i>Arboles Adivinador</i></h1>\n",
        "  </font>\n",
        "  <font color=\"Black\" face=\"Comic Sans MS,arial\">\n",
        "  <h5 align=\"center\"><i>Profesor: M.en.C. Miguel Angel Pérez León</i></h5>\n",
        "  <h5 align=\"center\"><i>Ayudante: Jesús Iván Coss Calderón</i></h5>\n",
        "  <h5 align=\"center\"><i>Ayudante: Jonathan Ramírez Montes</i></h5>\n",
        "  <h5 align=\"center\"><i>Materia: Manejo de Datos</i></h5>\n",
        "</font>"
      ]
    },
    {
      "cell_type": "markdown",
      "metadata": {
        "id": "5c1BVdROlJ9T"
      },
      "source": [
        "# Introducción \n",
        "\n",
        "Los árboles binarios no solo sirven para realizar búsquedas, de hecho los árboles se ocupan de manera muy frecuente en áreas como bases de datos, inteligencia artificial o sistemas operativos.\n",
        "\n",
        "En esta presentación vamos a ver el ejemplo de algoritmo empleado desde hace mucho tiempo para simular aprendizaje y con base en este aprendizaje (base de conocimiento) lograr predecir lo que piensa el usuario.\n"
      ]
    },
    {
      "cell_type": "markdown",
      "metadata": {
        "id": "I-Rer9CzlRBp"
      },
      "source": [
        "# Arbol Adivinador\n",
        "\n",
        "Este árbol (igual que los que veremos más adelante) esta conformado por nodos, la única diferencia es que en este árbol binario de búsqueda, cada nodo interno (nodo que no sea una hoja) contiene una pregunta y cada hoja del árbol es un animal.\n",
        "\n",
        "Haciendo uso de la estructura de datos conocida como árbol binario, vamos a tratar de adivinar el animal en el que esta pensando el usuario, en caso de adivinar el objetivo se logro, pero en caso contrario se le pide al usuario que indique en que animal estaba pensando y en como diferenciarlo del animal que le mostró el algoritmo.\n",
        "\n",
        "La idea detras de este algoritmo es muy sencilla y muy parecida a la **búsqueda binaria**, cada pregunta que se le realiza al usuario descarta una gran cantidad de posibles animales, ya que la respuesta es booleana y eso acota el posible espacio de búsqueda.\n",
        "\n",
        "De igual manera que con los aŕboles binarios, cada nodo del árbol adivinador se ve de la siguiente forma.\n",
        "\n",
        "<center>\n",
        "<img src=\"https://github.com/jugernaut/ManejoDatos/blob/desarrollo/Imagenes/AlgoritmosBusqueda/nodo.png?raw=1\" width=\"600\"> \n",
        "</center>\n",
        "\n",
        "Aunque una sutíl diferencia es que el dato contenido dentro de cada nodo intermedio será una pregunta, las hojas serán aniames, las respuestas afirmativas a cada pregunta son los hijos izquierdos de todo nodo interno y las respuestas negativas son los hijos derechos de cada nodo intermedio."
      ]
    },
    {
      "cell_type": "markdown",
      "metadata": {
        "id": "jP_JtWuplT4-"
      },
      "source": [
        "## Descripción del algoritmo \n",
        "\n",
        "El árbol comienza con un solo nodo (la raíz) y esa es la base de conocimiento, así que el programa le pregunta al usuario si el animal que esta pensando es ese que contiene la raíz, digamos un pajaro.\n",
        "\n",
        "<center>\n",
        "<img src=\"https://github.com/jugernaut/ManejoDatos/blob/desarrollo/Imagenes/AlgoritmosBusqueda/ad1.png?raw=1\" width=\"600\"> \n",
        "</center>\n",
        "\n",
        "Si la respuesta es afirmativa, el algoritmo cumple con su objetivo ya que adivino el animal que estaba pensando el usuario. Sin embargo en caso de que la respuesta sea negativa, es decir que no se adivino el animal que estaba pensando el usuario, se le pide al usuario indicar el animal que estaba pensando y como diferenciarlo del animal que le mostro el programa.\n",
        "\n",
        "<center>\n",
        "<img src=\"https://github.com/jugernaut/ManejoDatos/blob/desarrollo/Imagenes/AlgoritmosBusqueda/ad2.png?raw=1\" width=\"500\"> \n",
        "</center>\n",
        "\n",
        "Se puede apreciar en esta imagen que las respuestas afirmativas son los hijos izquierdos de todo nodo y que las respuestas negativas son los hijos derechos de cada nodo. Conforme el programa es más usado, la base de conocimiento se incremeta cada vez más, hasta tener un árbol suficientemente entrenado como para poder adividinar cualquier animal, sin importar lo especifico que este sea.\n",
        "\n",
        "<center>\n",
        "<img src=\"https://github.com/jugernaut/ManejoDatos/blob/desarrollo/Imagenes/AlgoritmosBusqueda/ad3.png?raw=1\" width=\"450\"> \n",
        "</center>\n",
        "\n",
        "Es importante notar que el árbol adivinador será tan preciso como la información que se le proporcione."
      ]
    },
    {
      "cell_type": "markdown",
      "metadata": {
        "id": "rEMHdlKfnpwB"
      },
      "source": [
        "# Implementación del algoritmo\n",
        "\n",
        "Ya que nos hemos familiarizado con el uso de la POO, vamos a hacer uso de clases para implemetar nuestro algoritmo.\n",
        "\n",
        "Vamos a hacer uso de la clase Nodo y de la clase ArbolAdivinador, normalmente la clase Nodo se define como clase interna dentro de la clase ArbolBinario con la intención de ocultar algunas de sus caracteristicas además de reafirmar el hecho de que no se pueden crear árboles si no se tienen nodos."
      ]
    },
    {
      "cell_type": "markdown",
      "metadata": {
        "id": "2ZUPvysCnt1U"
      },
      "source": [
        "## Clase `Nodo`\n",
        "\n",
        "La clase `Nodo`, es una clase muy sencilla que solo consta del constructor, un par de atributos y un par de métodos."
      ]
    },
    {
      "cell_type": "code",
      "metadata": {
        "colab": {
          "base_uri": "https://localhost:8080/"
        },
        "id": "5uykDkOsJYz5",
        "outputId": "c7f4448c-8781-4d7b-eb8e-c300e0b8bc3a"
      },
      "source": [
        "# Clase Nodo que hereda de la clase object\n",
        "class Nodo(object):\n",
        "  # Constructor de Nodos\n",
        "  def __init__(self, value):\n",
        "    self.izq = None\n",
        "    self.dato = value\n",
        "    self.der = None\n",
        "    self.padre = None\n",
        "\n",
        "  # Sobrecarga del metodo string para imprimir el dato del nodo\n",
        "  def __str__(self):\n",
        "    if self.dato is None:\n",
        "        pass\n",
        "    else:\n",
        "        return '{}'.format(self.dato)\n",
        "\n",
        "# Se crean los nodos necesarios\n",
        "raiz = Nodo(\"Esto es una prueba\")\n",
        "hijoizq = Nodo(\"Soy el hijo izquierdo\")\n",
        "hijoder = Nodo(\"Soy el hijo derecho\")\n",
        "\n",
        "# De manera manual se genera un ABB\n",
        "raiz.izq = hijoizq\n",
        "raiz.der = hijoder\n",
        "\n",
        "# pruebas de la clase Nodo\n",
        "print(raiz)\n",
        "print(raiz.izq)\n",
        "print(raiz.der)"
      ],
      "execution_count": 3,
      "outputs": [
        {
          "output_type": "stream",
          "name": "stdout",
          "text": [
            "Esto es una prueba\n",
            "Soy el hijo izquierdo\n",
            "Soy el hijo derecho\n"
          ]
        }
      ]
    },
    {
      "cell_type": "markdown",
      "metadata": {
        "id": "LvVFnjttnust"
      },
      "source": [
        "## Clase `ArbolAdivinador`\n",
        "\n",
        "La clase `ArbolAdivinador` se encarga organizar los nodo de tal forma que podamos construir un árbol binario que nos permita adivinar el animal en el que esta pensando el usuario."
      ]
    },
    {
      "cell_type": "code",
      "metadata": {
        "id": "UY897IyPLshl",
        "outputId": "f6b635f6-2080-4b4f-87c3-d774676b3a7b",
        "colab": {
          "base_uri": "https://localhost:8080/"
        }
      },
      "source": [
        "#from string import lower\n",
        "\n",
        "'''Clase basada en arboles binarios para identificar en que\n",
        "animal estas pensando'''\n",
        "class ArbolAdivinador(object):\n",
        "    \n",
        "  # Constructor de adivinadores\n",
        "  def __init__(self):\n",
        "    self.raiz = Nodo(\"pajaro\")\n",
        "      \n",
        "  #Funcion para determinar si se desea continuar con mas preguntas\n",
        "  def si(self, preg):\n",
        "    #se muestra una pregunta en consola y se pide la respuesta del usuario\n",
        "    resp = str.lower(input(preg))\n",
        "    return (resp[0] == 's')\n",
        "  \n",
        "  def adivina(self):\n",
        "    ciclo = True\n",
        "    while ciclo:\n",
        "      #en caso de no querer continuar con mas preguntas\n",
        "      if not self.si(\"Estas pensando en un animal? \"):\n",
        "        print('Gracias por jugar :)')\n",
        "        break\n",
        "      #nodo temporal que sirve para recorrer el arbol\n",
        "      temporal = self.raiz\n",
        "      #se hacen preguntas al usuario hasta llegar a una hoja\n",
        "      #siempre que se tenga hijo izquierdo podemos preguntar\n",
        "      while temporal.izq != None:\n",
        "        #si la respuesta es afirmativa avanzamos al hijo izquierdo\n",
        "        if self.si(temporal.dato + \"? \"):\n",
        "          temporal = temporal.izq\n",
        "        #de otra forma avanza al hijo derecho\n",
        "        else:\n",
        "          temporal = temporal.der\n",
        "      #se llega a un nodo hoja\n",
        "      animal = temporal.dato\n",
        "      #si se adivino termina, en caso contrario hay que obtener info.\n",
        "      if self.si(\"Es un \" + animal + \"? \"):\n",
        "        print(\"¡Soy el más grande!\")\n",
        "        print(\"███████████████████████████████─\")\n",
        "        print(\"──────▀█▄▀▄▀████▀──▀█▄▀▄▀████▀──\")\n",
        "        print(\"────────▀█▄█▄█▀──────▀█▄█▄█▀────\")\n",
        "      else:\n",
        "        #nuevo animal\n",
        "        nuevo = input(\"¿Qué animal era? \")\n",
        "        #nueva pregunta para diferenciar a la hoja actual del nuevo animal\n",
        "        info = input(\"¿Qué diferencia a un \" + animal + \" de un \" + nuevo + \"? \")\n",
        "        #se actualiza el nodo con la nueva pregunta\n",
        "        temporal.dato = info\n",
        "        #se agrega como izquierdo al animal que estaba en la hoja\n",
        "        temporal.izq = Nodo(animal)\n",
        "        #y como derecho el nuevo animal\n",
        "        temporal.der = Nodo(nuevo)\n",
        "            \n",
        "def main():\n",
        "  adivino = ArbolAdivinador()\n",
        "  adivino.adivina()\n",
        "\n",
        "main()"
      ],
      "execution_count": 15,
      "outputs": [
        {
          "output_type": "stream",
          "name": "stdout",
          "text": [
            "Estas pensando en un animal? si\n",
            "Es un pajaro? no\n",
            "¿Qué animal era? perro\n",
            "¿Qué diferencia a un pajaro de un perro? vuela\n",
            "Estas pensando en un animal? si\n",
            "vuela? no\n",
            "Es un perro? si\n",
            "¡Soy el más grande!\n",
            "███████████████████████████████─\n",
            "──────▀█▄▀▄▀████▀──▀█▄▀▄▀████▀──\n",
            "────────▀█▄█▄█▀──────▀█▄█▄█▀────\n",
            "Estas pensando en un animal? no\n",
            "Gracias por jugar :)\n"
          ]
        }
      ]
    },
    {
      "cell_type": "markdown",
      "metadata": {
        "id": "WVOi8-09pDwL"
      },
      "source": [
        "# Referencias\n",
        "\n",
        "1.  Thomas H. Cormen: Introduction to Algorithms.\n",
        "2.  Referencias Libro Web: Introduccion a Python.\n",
        "3.  Referencias Daniel T. Joyce: Object-Oriented Data Structures.\n",
        "4.  Referencias John C. Mitchell: Concepts in programing Languages."
      ]
    }
  ]
}
