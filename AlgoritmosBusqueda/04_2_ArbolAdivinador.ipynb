{
  "nbformat": 4,
  "nbformat_minor": 0,
  "metadata": {
    "colab": {
      "name": "04_2_ArbolAdivinador.ipynb",
      "provenance": [],
      "toc_visible": true,
      "include_colab_link": true
    },
    "kernelspec": {
      "name": "python3",
      "display_name": "Python 3"
    },
    "language_info": {
      "name": "python"
    }
  },
  "cells": [
    {
      "cell_type": "markdown",
      "metadata": {
        "id": "view-in-github",
        "colab_type": "text"
      },
      "source": [
        "<a href=\"https://colab.research.google.com/github/jugernaut/ManejoDatos/blob/desarrollo/AlgoritmosBusqueda/04_2_ArbolAdivinador.ipynb\" target=\"_parent\"><img src=\"https://colab.research.google.com/assets/colab-badge.svg\" alt=\"Open In Colab\"/></a>"
      ]
    },
    {
      "cell_type": "markdown",
      "metadata": {
        "id": "JmymMzF4lG93"
      },
      "source": [
        "<font color=\"Teal\" face=\"Comic Sans MS,arial\">\n",
        "  <h1 align=\"center\"><i>Arboles Adivinador</i></h1>\n",
        "  </font>\n",
        "  <font color=\"Black\" face=\"Comic Sans MS,arial\">\n",
        "  <h5 align=\"center\"><i>Profesor: M.en.C. Miguel Angel Pérez León</i></h5>\n",
        "  <h5 align=\"center\"><i>Ayudante: Jesús Iván Coss Calderón</i></h5>\n",
        "  <h5 align=\"center\"><i>Ayudante: Jonathan Ramírez Montes</i></h5>\n",
        "  <h5 align=\"center\"><i>Materia: Manejo de Datos</i></h5>\n",
        "</font>"
      ]
    },
    {
      "cell_type": "markdown",
      "metadata": {
        "id": "5c1BVdROlJ9T"
      },
      "source": [
        "# Introducción \n",
        "\n",
        "Los árboles binarios no solo sirven para realizar búsquedas, de hecho los árboles se ocupan de manera muy frecuente en áreas como bases de datos, inteligencia artificial o sistemas operativos.\n",
        "\n",
        "En esta presentación vamos a ver el ejemplo de algoritmo empleado desde hace mucho tiempo para simular aprendizaje y con base en este aprendizaje (base de conocimiento) lograr predecir lo que piensa el usuario.\n"
      ]
    },
    {
      "cell_type": "markdown",
      "metadata": {
        "id": "I-Rer9CzlRBp"
      },
      "source": [
        "# Arbol Adivinador\n",
        "\n",
        "Este árbol (igual que los que veremos más adelante) esta conformado por nodos, la única diferencia es que en este árbol binario de búsqueda, cada nodo interno (nodo que no sea una hoja) contiene una pregunta y cada hoja del árbol es un animal.\n",
        "\n",
        "Haciendo uso de la estructura de datos conocida como árbol binario, vamos a tratar de adivinar el animal en el que esta pensando el usuario, en caso de adivinar el objetivo se logro, pero en caso contrario se le pide al usuario que indique en que animal estaba pensando y en como diferenciarlo del animal que le mostró el algoritmo.\n",
        "\n",
        "La idea detras de este algoritmo es muy sencilla y muy parecida a la **búsqueda binaria**, cada pregunta que se le realiza al usuario descarta una gran cantidad de posibles animales, ya que la respuesta es booleana y eso acota el posible espacio de búsqueda.\n",
        "\n",
        "De igual manera que con los aŕboles binarios, cada nodo del árbol adivinador se ve de la siguiente forma.\n",
        "\n",
        "<center>\n",
        "<img src=\"https://github.com/jugernaut/ManejoDatos/blob/desarrollo/Imagenes/AlgoritmosBusqueda/nodo.png?raw=1\" width=\"600\"> \n",
        "</center>\n",
        "\n",
        "Aunque una sutíl diferencia es que el dato contenido dentro de cada nodo intermedio será una pregunta, las hojas serán aniames, las respuestas afirmativas a cada pregunta son los hijos izquierdos de todo nodo interno y las respuestas negativas son los hijos derechos de cada nodo intermedio."
      ]
    },
    {
      "cell_type": "markdown",
      "metadata": {
        "id": "jP_JtWuplT4-"
      },
      "source": [
        "## Descripción del algoritmo \n",
        "\n",
        "El árbol comienza con un solo nodo (la raíz) y esa es la base de conocimiento, así que el programa le pregunta al usuario si el animal que esta pensando es ese que contiene la raíz, digamos un pajaro.\n",
        "\n",
        "<center>\n",
        "<img src=\"https://github.com/jugernaut/ManejoDatos/blob/desarrollo/Imagenes/AlgoritmosBusqueda/ad1.png?raw=1\" width=\"600\"> \n",
        "</center>\n",
        "\n",
        "Si la respuesta es afirmativa, el algoritmo cumple con su objetivo ya que adivino el animal que estaba pensando el usuario. Sin embargo en caso de que la respuesta sea negativa, es decir que no se adivino el animal que estaba pensando el usuario, se le pide al usuario indicar el animal que estaba pensando y como diferenciarlo del animal que le mostro el programa.\n",
        "\n",
        "<center>\n",
        "<img src=\"https://github.com/jugernaut/ManejoDatos/blob/desarrollo/Imagenes/AlgoritmosBusqueda/ad2.png?raw=1\" width=\"500\"> \n",
        "</center>\n",
        "\n",
        "Se puede apreciar en esta imagen que las respuestas afirmativas son los hijos izquierdos de todo nodo y que las respuestas negativas son los hijos derechos de cada nodo. Conforme el programa es más usado, la base de conocimiento se incremeta cada vez más, hasta tener un árbol suficientemente entrenado como para poder adividinar cualquier animal, sin importar lo especifico que este sea.\n",
        "\n",
        "<center>\n",
        "<img src=\"https://github.com/jugernaut/ManejoDatos/blob/desarrollo/Imagenes/AlgoritmosBusqueda/ad3.png?raw=1\" width=\"450\"> \n",
        "</center>\n",
        "\n",
        "Es importante notar que el árbol adivinador será tan preciso como la información que se le proporcione."
      ]
    },
    {
      "cell_type": "markdown",
      "metadata": {
        "id": "rEMHdlKfnpwB"
      },
      "source": [
        "# Implementación del algoritmo\n",
        "\n",
        "Ya que nos hemos familiarizado con el uso de la POO, vamos a hacer uso de clases para implemetar nuestro algoritmo.\n",
        "\n",
        "Vamos a hacer uso de la clase Nodo y de la clase ArbolAdivinador, normalmente la clase Nodo se define como clase interna dentro de la clase ArbolBinario con la intención de ocultar algunas de sus caracteristicas además de reafirmar el hecho de que no se pueden crear árboles si no se tienen nodos."
      ]
    },
    {
      "cell_type": "markdown",
      "metadata": {
        "id": "2ZUPvysCnt1U"
      },
      "source": [
        "## Clase Nodo\n",
        "\n",
        "La clase Nodo, es una clase muy sencilla que solo consta del constructor, un par de atributos y un par de métodos."
      ]
    },
    {
      "cell_type": "code",
      "metadata": {
        "id": "5uykDkOsJYz5",
        "outputId": "c7f4448c-8781-4d7b-eb8e-c300e0b8bc3a",
        "colab": {
          "base_uri": "https://localhost:8080/"
        }
      },
      "source": [
        "# Clase Nodo que hereda de la clase object\n",
        "class Nodo(object):\n",
        "  # Constructor de Nodos\n",
        "  def __init__(self, value):\n",
        "    self.izq = None\n",
        "    self.dato = value\n",
        "    self.der = None\n",
        "    self.padre = None\n",
        "\n",
        "  # Sobrecarga del metodo string para imprimir el dato del nodo\n",
        "  def __str__(self):\n",
        "    if self.dato is None:\n",
        "        pass\n",
        "    else:\n",
        "        return '{}'.format(self.dato)\n",
        "\n",
        "# Se crean los nodos necesarios\n",
        "raiz = Nodo(\"Esto es una prueba\")\n",
        "hijoizq = Nodo(\"Soy el hijo izquierdo\")\n",
        "hijoder = Nodo(\"Soy el hijo derecho\")\n",
        "\n",
        "# De manera manual se genera un ABB\n",
        "raiz.izq = hijoizq\n",
        "raiz.der = hijoder\n",
        "\n",
        "# pruebas de la clase Nodo\n",
        "print(raiz)\n",
        "print(raiz.izq)\n",
        "print(raiz.der)"
      ],
      "execution_count": 3,
      "outputs": [
        {
          "output_type": "stream",
          "name": "stdout",
          "text": [
            "Esto es una prueba\n",
            "Soy el hijo izquierdo\n",
            "Soy el hijo derecho\n"
          ]
        }
      ]
    },
    {
      "cell_type": "markdown",
      "metadata": {
        "id": "LvVFnjttnust"
      },
      "source": [
        "## Clase ArbolAdivinador\n",
        "\n",
        "***Arbol Binario de Búsqueda (ABB)***\n",
        "\n",
        "Sea $A$ un árbol binario con raíz $R$, hijos izquierdo y derecho (posiblemente nulos) $H_I$ y $H_D$, respectivamente. Diremos que $A$ es un ABB si y solo si se satisfacen las dos condiciones siguientes de manera simultanea:\n",
        "\n",
        "*    $H_I$ es vacío $\\lor$ ($R$ contiene un valor mayor que todo elemento de $H_I \\land H_I$ es un ABB).\n",
        "*    $H_D$ es vacío $\\lor$ ($R$ contiene un valor menor que todo elemento de $H_D \\land H_D$ es un ABB)."
      ]
    },
    {
      "cell_type": "markdown",
      "metadata": {
        "id": "YT9KUGd1nvJq"
      },
      "source": [
        "Nota: Donde $\\land$ es la conjunción lógica \"y\", y $\\lor$ es la disyunción lógica \"o\"."
      ]
    },
    {
      "cell_type": "markdown",
      "metadata": {
        "id": "5ctD1FN0n4qI"
      },
      "source": [
        "<center>\n",
        "<img src=\"https://github.com/jugernaut/ManejoDatos/blob/desarrollo/Imagenes/AlgoritmosBusqueda/abb.png?raw=1\" width=\"500\"> \n",
        "</center>\n",
        "Figura 3: Árbol Binario de Búsqueda (ABB)"
      ]
    },
    {
      "cell_type": "markdown",
      "metadata": {
        "id": "8RkyR2Isn5A4"
      },
      "source": [
        "## Operaciones sobre ABB\n",
        "\n",
        "Al igual que con los AB, los ABB son caracterizados por el tipo de dato que almacena cada nodo, así como el conjunto de operaciones que se pueden llevar a cabo sobre estos.\n",
        "\n",
        "Las principales operaciones de los ABB podemos decir que se\n",
        "**heredan**de los AB, sin embargo dado que que los ABB se\n",
        "caracterizan por estar ordenados, las operaciones de insertar y eliminar nodos cambia, para que después de llevar a cabo alguna de estas operaciones, el árbol en cuestión, cumpla con la definición de ABB.\n",
        "\n",
        "Esta modificación, implica que en la mayoría de los casos las\n",
        "operaciones sobre los ABB se mantenga en el orden de **complejidad logarítmica $O(log_{2}n)$** donde n es el número de nodos.\n",
        "\n",
        "Sin embargo no se puede garantizar que nunca se dará el caso\n",
        "degenerado del árbol, que es el peor caso, en el cual podemos pensar el ABB como una lista. En esta situación las operaciones son mas costosas, llegando a **$O(n)$**."
      ]
    },
    {
      "cell_type": "markdown",
      "metadata": {
        "id": "o8rjhI9dn5Za"
      },
      "source": [
        "# Arboles AVL (Balanceados)\n"
      ]
    },
    {
      "cell_type": "markdown",
      "metadata": {
        "id": "TKb-UU2Vn5wq"
      },
      "source": [
        "## Características\n",
        "\n",
        "Los Arboles AVL (o balanceados) le deben su nombre a los creadores de este tipo de árboles, Georgii Adelson-Velskii y Yevgeniy Landis.\n",
        "\n",
        "La principal característica de este tipo de arboles es que siempre permanecen **balanceados**.\n",
        "\n",
        "El hecho de que estos arboles se mantengan balanceados, sin\n",
        "importar cuantos elementos se inserten o se eliminen ayuda a\n",
        "**disminuir el orden de complejidad** de las operaciones mas comunes en árboles, como la búsqueda.\n",
        "\n",
        "La forma en la que estos árboles se mantienen balanceados es gracias a la **definición de balanceo** y a las operaciones para balancear un nodo, conocidas como **rotaciones**."
      ]
    },
    {
      "cell_type": "markdown",
      "metadata": {
        "id": "ywRyFRoFog88"
      },
      "source": [
        "## Definición Formal \n",
        "\n",
        "Arbol AVL (AAVL)\n",
        "\n",
        "Sea $A$ un árbol binario de búsqueda con raíz $R$, hijos izquierdo y derecho (posiblemente nulos) $H_I$ y $H_D$, respectivamente.\n",
        "\n",
        "Diremos que $A$ es un AAVL si y solo si.\n",
        "\n",
        "*    $H_I$ es AAVL.\n",
        "*    $H_D$ es AAVL.\n",
        "*    $|altura(H_I) - altura(H_D)| \\leq 1$:"
      ]
    },
    {
      "cell_type": "markdown",
      "metadata": {
        "id": "gvNyfdXrohLl"
      },
      "source": [
        "Nota: Donde $altura$ es la operación que nos devuelve la altura de un árbol (subarbol)."
      ]
    },
    {
      "cell_type": "markdown",
      "metadata": {
        "id": "-UIo3fYyohcR"
      },
      "source": [
        "\n",
        "<center>\n",
        "<img src=\"https://github.com/jugernaut/ManejoDatos/blob/desarrollo/Imagenes/AlgoritmosBusqueda/avl.png?raw=1\" width=\"500\"> \n",
        "</center>\n",
        "Figura 4: Árbol AVL (AAVL)"
      ]
    },
    {
      "cell_type": "markdown",
      "metadata": {
        "id": "8ThH3ht2oh1N"
      },
      "source": [
        "## Operaciones sobre AAVL\n",
        "\n",
        "Al igual que con los ABB, los AAVL son caracterizados por el tipo de dato que almacena cada nodo, así como el conjunto de operaciones que se pueden llevar a cabo sobre estos. Y podríamos pensar que en este caso cada nodo almacena un valor adicional conocido como **factor de equilibrio**, mismo que nos indica que tan balanceado se encuentra ese nodo.\n",
        "\n",
        "Los AAVL heredan todas las operaciones, que se realizan sobre los ABB, sin embargo para mantener el árbol balanceado despues de insertar o eliminar un valor, es necesario revisar que el árbol se encuentre balanceado."
      ]
    },
    {
      "cell_type": "markdown",
      "metadata": {
        "id": "0H51P2a0oiEw"
      },
      "source": [
        "En caso de que el árbol se haya desbalanceado, sera necesario llevar a cabo una de estas 4 operaciones:\n",
        "*   Rotación simple a la derecha.\n",
        "*   Rotación simple a la izquierda.\n",
        "*   Doble rotación a la derecha.\n",
        "*   Doble rotación a la izquierda."
      ]
    },
    {
      "cell_type": "markdown",
      "metadata": {
        "id": "RV3UEtNWoiXE"
      },
      "source": [
        "## Factor de Equilibrio (FE)\n",
        "\n",
        "Dado que por definición los AAVL siempre se encuentran balanceados, al insertar o eliminar un dato solo se podrá dar uno de los siguientes 4 casos:\n",
        "\n",
        "* **FE**(nodo) = -2 y (**FE**(nodo.der)=-1 ó **FE**(nodo.der)=0): se balancea con una rotación **simple a la izquierda** sobre nodo.\n",
        "\n",
        "* **FE**(nodo) = 2 y (**FE**(nodo.izq)=1 ó **FE**(nodo.izq)=0): se balancea con una rotación **simple a la derecha** sobre nodo.\n",
        "\n",
        "* **FE**(nodo) = -2 y **FE**(nodo.der)=1: se balancea con una **doble rotación a la izquierda**. Primero se rota a la derecha sobre nodo.der y después a la izquierda sobre nodo. \n",
        "\n",
        "* **FE**(nodo) = 2 y **FE**(nodo.izq)=-1: se balancea con una **doble rotación a la derecha**. Primero se rota a la izquierda sobre nodo.izq y después a la derecha sobre nodo. \n",
        "\n",
        "Es importante recalcar que cada vez que se balancea un nodo después de insertar o eliminar, $\\color{red}{potencialmente\\,su\\,padre\\,ser\\acute{a}\\,desbalanceado}$, es por este motivo que se tiene que **rebalancear el padre de manera recursiva y revisar los factores de equilibrio hasta llegar a la raíz**."
      ]
    },
    {
      "cell_type": "markdown",
      "metadata": {
        "id": "WVOi8-09pDwL"
      },
      "source": [
        "# Referencias\n",
        "\n",
        "1.  Thomas H. Cormen: Introduction to Algorithms.\n",
        "2.  Referencias Libro Web: Introduccion a Python.\n",
        "3.  Referencias Daniel T. Joyce: Object-Oriented Data Structures.\n",
        "4.  Referencias John C. Mitchell: Concepts in programing Languages."
      ]
    }
  ]
}