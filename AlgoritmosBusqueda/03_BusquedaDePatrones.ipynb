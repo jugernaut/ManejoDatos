{
  "nbformat": 4,
  "nbformat_minor": 0,
  "metadata": {
    "colab": {
      "name": "BusquedaDePatrones.ipynb",
      "provenance": [],
      "toc_visible": true,
      "include_colab_link": true
    },
    "kernelspec": {
      "name": "python3",
      "display_name": "Python 3"
    },
    "language_info": {
      "name": "python"
    }
  },
  "cells": [
    {
      "cell_type": "markdown",
      "metadata": {
        "id": "view-in-github",
        "colab_type": "text"
      },
      "source": [
        "<a href=\"https://colab.research.google.com/github/jugernaut/ManejoDatos/blob/desarrollo/AlgoritmosBusqueda/03_BusquedaDePatrones.ipynb\" target=\"_parent\"><img src=\"https://colab.research.google.com/assets/colab-badge.svg\" alt=\"Open In Colab\"/></a>"
      ]
    },
    {
      "cell_type": "markdown",
      "metadata": {
        "id": "ttiAbrCciXZ7"
      },
      "source": [
        "<font color=\"Teal\" face=\"Comic Sans MS,arial\">\n",
        "  <h1 align=\"center\"><i>Búsqueda de Patrones</i></h1>\n",
        "  </font>\n",
        "  <font color=\"Black\" face=\"Comic Sans MS,arial\">\n",
        "  <h5 align=\"center\"><i>Profesor: M.en.C. Miguel Angel Pérez León</i></h5>\n",
        "  <h5 align=\"center\"><i>Ayudante: Jesús Iván Coss Calderón</i></h5>\n",
        "  <h5 align=\"center\"><i>Ayudante: Jonathan Ramírez Montes</i></h5>\n",
        "  <h5 align=\"center\"><i>Materia: Manejo de Datos</i></h5>\n",
        "  </font>"
      ]
    },
    {
      "cell_type": "markdown",
      "metadata": {
        "id": "cwIfAuioiyPS"
      },
      "source": [
        "## Introducción\n",
        "\n",
        "Dentro de las áreas que abarca el estudio de las ciencias es bien conocido que regularmente es necesario identificar secuencias, formas, cadenas, etc. que se repiten frecuentemente, a estas 'formas' que se repiten frecuentemente se les conocen como **patrones**.\n",
        "\n",
        "Por ejemplo, para un biólogo que analiza la **cadena de adn** de un individuo conformada por las letras (GTAC) le interesa identificar patrones que pueden determinar su genotipo. O por ejemplo para un investigador que quiere determinar cual es **la ruta mas transitada** dentro de Ciudad Universitaria, le interesa identificar el patrón que determinar este trayecto. \n",
        "\n",
        "Para alguien que labore en el are de minería de datos, es de vital importancia identificar patrones dentro de las bases de datos. Con la información adquirida identificando los patrones de un determinado usuario, se le puede **mostrar publicidad que encaje con sus patrones** para que este usuario realice compras.\n",
        "\n",
        "Para un estudiante de actuaria seria muy atractivo identificar patrones dentro de las **bases estadísticas** (INEGI) y con base en estos datos ajustar las tasas que emplea una determinada empresa para los costos de sus productos.\n",
        "\n",
        "Recientemente también se ha descubierto que el **comportamiento de la bolsa de valores** es repetitivo, por lo que encontrar un patrón en este sentido da una gran ventaja al que posea dicha información. \n",
        "\n",
        "Para identificar los patrones antes mencionados existen muchas técnicas y herramientas, por ejemplo las herramientas que nos proporciona un **procesador de textos** (word) o también los **navegadores de internet** y finalmente tenemos a las **expresiones regulares**. De todo esto hablaremos en las siguientes secciones."
      ]
    },
    {
      "cell_type": "markdown",
      "metadata": {
        "id": "p719FsTRp8gH"
      },
      "source": [
        "# Búsqueda de Patrones\n",
        "\n",
        "La búsqueda y reconocimiento de patrones es muy útil en muchos de los campos de las ciencias, recientemente una de las aplicaciones que se le ha dado al reconocimiento de patrones tiene que ver con la inteligencia artificial y en particular con las redes **neuronales artificiales**.\n",
        "\n",
        "Podemos pensar en una red neuronal artificial como una caja negra que es entrenada con un conjunto de datos y mediante técnicas como el **descenso del gradiente** y la **retropropagación** la red comienza a \"aprender\" e **identificar patrones** que logran predecir o clasificar un comportamiento dado.\n",
        "\n",
        "Si quieres conocer un poco más sobre redes neuronales artificiales te recomiendo este par de canales de youtube:\n",
        "\n",
        "*   [3Blue1Brown](https://www.youtube.com/playlist?list=PLo8YL3HL50lUHQS80oE_ypxFi0Y3uCVal): lista de videos sobre redes neuronales.\n",
        "*   [DotCSV](https://www.youtube.com/watch?v=MRIv2IwFTPg&list=PL-Ogd76BhmcB9OjPucsnc2-piEE96jJDQ): canal sobre inteligencia artificial y tecnología.\n",
        "\n",
        "En este documento vamos a comenzar a identificar las herramientas que tenemos disponibles (como seres humanos) para la búsqueda de patrones.\n",
        "\n"
      ]
    },
    {
      "cell_type": "markdown",
      "metadata": {
        "id": "abakh1vVkOK0"
      },
      "source": [
        "## Procesadores de Textos\n",
        "\n",
        "La gran mayoría (si no es que todos) de los procesadores de texto como:\n",
        "\n",
        "*   *Word*.\n",
        "*   *Oppen Office*.\n",
        "*   *Google Docs*.\n",
        "*   *Lyx*.\n",
        "*   *Overleaf*.\n",
        "\n",
        "O incluso editores de código como:\n",
        "\n",
        "*   *Eclipse*.\n",
        "*   *NetBeans*.\n",
        "*   *NotePad++*.\n",
        "*   *Atom*.\n",
        "*   *InteliJ*.\n",
        "\n",
        "Cuentan con herramientas que nos permiten realizar búsquedas dentro de los archivos que estemos manejando.\n",
        "\n",
        "Estas herramientas de búsqueda van de búsquedas tan sencillas, como lo puede ser la búsqueda de una determinada palabra dentro de los documentos, hasta un identificar un patrón y reemplazarlo.\n",
        "\n",
        "Normalmente estos procesadores cuentan con el atajo (*shortcut*) que se activa mediante la combinación de las teclas ctrl+f y eso abre el dialogo para generar la búsqueda o el reemplazo de un determinado patrón.\n",
        "\n",
        "En la siguiente animación vamos a usar *Eclipse* para mostrar una pequeña búsqueda y remplazo de un determinado patrón usando texto.\n",
        "\n",
        "Supongamos que por algún motivo se cometió un error en la lista de alumnos (ManejoDatos9180.txt) del curso de manejo de datos y todos los alumnos que tienen como carrera \"Actuaría\" debe ser reemplazada por \"Matemáticas Aplicadas\".\n",
        "\n",
        "La opción más sencilla es abrir este archivo y buscar (de manera manual) cada una de las coincidencias del patron \"Actuaría\" y reemplazarlo por la palabra \"Matemáticas Aplicadas\", sin embargo esta opción es muy tediosa y lenta, así que lo mejor es hacer uso de la \"búsqueda y reemplazo\" que ofrecen la gran mayoria de procesadores de texto, veamos.\n",
        "\n",
        "<center> \n",
        "<img src=\"https://github.com/jugernaut/ManejoDatos/blob/desarrollo/Imagenes/AlgoritmosBusqueda/procesador.gif?raw=1\" width=\"1000\"> \n",
        "</center>"
      ]
    },
    {
      "cell_type": "markdown",
      "metadata": {
        "id": "dbw2YTefsrov"
      },
      "source": [
        "## Navegadores de Internet\n",
        "\n",
        "Desde los inicios de la civilización una de las principales formas de comunicación era mediante texto y de forma muy similar comenzo el desarrollo de lo que hoy conocemos como Internet. \n",
        "\n",
        "Inicialmente internet fue un proyecto militar que tenia la intención de conectar multiples computadoras (servidores) mediante una red para establecer comunicación entre ellas mediante mensajes de texto, posteriormente este proyecto dejo de pertencer unicamente a la milicia y se convirtio en lo que se conoció como [*ARPANET*](https://www.fib.upc.edu/retro-informatica/historia/internet.html).\n",
        "\n",
        "A continuación se muestra un breve resúmen de las distintas versiones de Internet a lo largo de los años:\n",
        "\n",
        "1.   Internet 1.0: páginas estáticas, no se podían actualizar los contenidos.\n",
        "2.   Internet 2.0: blogs, redes sociales, los contenidos son creados por los usuarios.\n",
        "1.   Internet 3.0: se facilita la accesibilidad de las personas a la información, sin depender de qué dispositivo use para el acceso a ella\n",
        "2.   Internet 4.0: en desarrollo.\n",
        "\n",
        "De igual manera que los procesadores de texto, los navegadores de internet nos proporcionan herramientas para identificar patrones dentro de nuestra búsquedas o incluso para investigar el código *HTML* que conforma un sitio web.\n",
        "\n",
        "Una de las herramientas más útiles al realizar búsquedas mediante algún navegador de internet es el uso de la búsqueda dentro de una página. En la siguiente sección veremos como usar algúnas de estas herramientas con el navegador *Chrome*."
      ]
    },
    {
      "cell_type": "markdown",
      "metadata": {
        "id": "VdrcTSi_OlZg"
      },
      "source": [
        "### *Cookies*\n",
        "\n",
        "Las *cookies* (galletas) son las migajas que dejan los usuarios al acceder a sitios web, digamos que son pistas que recolecta el navegador web sobre la interacción del usuario con el sitio.\n",
        "\n",
        "Estas pistas ayudan al sitio web a identificar los gustos del usuario y también a agilizar el desempeño del sitio web. Normalmente estas *cookies* se usan con la finalidad de mejorar la experiencia del usuario, sin embargo a veces se usan de manera incorrecta para recopilar información sensible sobre los usuarios.\n",
        "\n",
        "Normalmente se pueden eliminar estas *cookies* de manera muy sencilla en todo navegador o incluso si haciendo del navegador en un equipo de cómputo público, lo ideal es acceder en **modo incógnito**, este modo le permite al usuario navegar sin temor a que su información sea recopilada."
      ]
    },
    {
      "cell_type": "markdown",
      "metadata": {
        "id": "ZSKm1ee4Oksd"
      },
      "source": [
        "### Historial de navegación\n",
        "\n",
        "El historial de búsqueda es otra de las características que posee todo navegador de internet y ayuda tanto al sitio web como al dispositivo de cómputo a desplegar el sitio de manera más eficiente.\n",
        "\n",
        "De igual manera que con las *cookies*, es posible eliminar el historial de navegación de manera sencilla accediendo a la configuración del navegador.\n",
        "\n",
        "Cuando se usa el modo incógnito, el historial de búsqueda se deshabilita y todo lo que haya hecho el usuario no se guarda en el mismo."
      ]
    },
    {
      "cell_type": "markdown",
      "metadata": {
        "id": "D9qbvGqNOxUB"
      },
      "source": [
        "### Memoria Cache\n",
        "\n",
        "La memoria cache, es equivalente a una memoria a la que se va acceder frecuentemente, es una memoria limitada (como todo recurso computacional) pero muy útil ya que ayuda a cargar el contenido del sitio web mucho más rápido que si no se hiciera uso de la misma.\n",
        "\n",
        "Al igual que las *cookies* y el historial de navegación, la memoria cache puede ser vaciada, sin embargo hay que considerar las consecuencias de realizar esta acción. Cuando se vacía la memoria cache, le tomará más tiempo al navegador y en general a cualquier equipo de computo mostrar el contenido del sitio web."
      ]
    },
    {
      "cell_type": "markdown",
      "metadata": {
        "id": "fli5vIsiQGQv"
      },
      "source": [
        "### Servidores DNS\n",
        "\n",
        "Los servidores *DNS* (*Doamin Name Server*) son los servidores que se encargan de almacenar los nombres y cartas de navegación de la red conocida como internet.\n",
        "\n",
        "Estos servidores se encargan de almacenar la ruta necesaria para acceder a un determinado servidor en el que se encuentre el sitio al que queremos acceder.\n",
        "\n",
        "Es una práctica común al manejar redes de computadoras tener respaldos de la información almacenada en todo servidor y en este caso en particular también los DNS son respaldados con frecuencia para evitar fallos en la red."
      ]
    },
    {
      "cell_type": "markdown",
      "metadata": {
        "id": "J_qe0uhs-Foy"
      },
      "source": [
        "### *Chrome*\n",
        "\n",
        "Este es un navegador de código cerrado (significa que el código fuente no se encuentra disponible), fue desarrollado por la empresa *Google* y esta conformado por más de **7 millones de lineas de código**.\n",
        "\n",
        "Una de sus principales caracteristicas es que es gratuito y se puede instalar en la mayoría de sistemas operativos disponibles como:\n",
        "\n",
        "*   *Linux/Unix*.\n",
        "*   *Windows*.\n",
        "*   *IOS*.\n",
        "*   *Android*.\n",
        "*   *Solaris*.\n",
        "\n",
        "Su principal ventaja (en comparación del resto de navegadores) es que se integra de manera nativa con todos los productos que ofrece la compañía *Google*, como lo son: *smartphones*, *smartwatches*, *androidtv's*, correo electrónico, etc.\n",
        "\n",
        "En esta sección hablaremos de este navegador, sin embargo vale la pena aclarar que existe un gran número de navegadores de internet y cada uno tiene sus ventajas y desventajas."
      ]
    },
    {
      "cell_type": "markdown",
      "metadata": {
        "id": "uU9D83_tAkWz"
      },
      "source": [
        "#### Búsquedas en un sitio web\n",
        "\n",
        "Para realizar una búsqueda una vez que nos encontramos en algún sitio web, es tan sencillo como presionar la combinación de teclas *ctrl+f* y eso desplegara el campo de texto para la búsqueda.\n",
        "\n",
        "En este campo basta con que escribamos el texto a buscar (patrón) y el navegador nos mostrará todas las coincidencias dentro del sitio web. En la siguiente animación puedes ver un pequeño ejemplo de dicha búsqueda.\n",
        "\n",
        "<center>\n",
        "<img src=\"https://github.com/jugernaut/ManejoDatos/blob/desarrollo/Imagenes/AlgoritmosBusqueda/Buscar.gif?raw=1\" width=\"1000\"> \n",
        "</center>"
      ]
    },
    {
      "cell_type": "markdown",
      "metadata": {
        "id": "2LuOIx0SDPu6"
      },
      "source": [
        "#### Herramientas de desarrollo\n",
        "\n",
        "Además de poder administrar los complementos (*plugins*) y configurar elementos como seguridad, *cookies* y sincronización de cuentas, el navegador *Chrome* nos proporciona un menú de herramientas para desarrollador.\n",
        "\n",
        "En este menú podemos encontrar muchas herramientas que van desde informe de errores en el sitio web, hasta la visualización de elementos *CSS*, *XML* o incluso *HTML* de forma interactiva.\n",
        "\n",
        "Para acceder a este menú basta con ir a la parte superior derecha del navegador, desplegar el menú que se muestra en esta parte y elegir la opción \"Más herramientas\" y después \"Herramientas de desarrollador\", al elegir esta opción se despliega una pestaña adicional con un conjunto de herramientas que nos permiten analizar de manera más detallada los elementos que conforman un sitio web.\n",
        "\n",
        "En la siguiente animación se muestra como acceder a esta herramienta y como utilizar algunas de sus opciones.\n",
        "\n",
        "<center>\n",
        "<img src=\"https://github.com/jugernaut/ManejoDatos/blob/desarrollo/Imagenes/AlgoritmosBusqueda/desarrollador.gif?raw=1\" width=\"1000\"> \n",
        "</center>"
      ]
    },
    {
      "cell_type": "markdown",
      "metadata": {
        "id": "FvmIzC9qO8pn"
      },
      "source": [
        "### Otros navegadores\n",
        "\n",
        "Existen distintos navegadores de internet y a continuación se listan algunos de los más conocidos:\n",
        "\n",
        "*   *Mozilla Firefox*: ya con bastantes años en desarrollo, *firefox* es el segundo navegador más usado y es muy similar a *chrome* en todas sus características.\n",
        "*   *Opera*: este es un navegador de reciente surgimiento que cumple con la mayoría de los requisitos de cualquier navegador, incorporando bloque de anuncios y gestión de redes sociales.\n",
        "*   *Safari*: este navegador surge para los usuarios del sistema operativo IOS, su principal características es que únicamente puede ser usado en dispositivos de la marca *Mac*. \n",
        "*   *Brave*: es un navegador concebido especialmente para proteger la privacidad que es relativamente nuevo en el mundillo. Entre sus funciones de refuerzo de la privacidad encontramos los bloqueadores de anuncios, rastreadores y huella digital, así como permitir ocultar la IP al navegar por internet.\n",
        "\n"
      ]
    },
    {
      "cell_type": "markdown",
      "metadata": {
        "id": "M8XWKGZDkYsG"
      },
      "source": [
        "# Expresiones Regulares (*RegEx*)\n",
        "\n",
        "La búsqueda de patrones dentro de un conjunto de datos, es una un tanto sencilla para el cerebro humano ya que este ha gozado de miles de años de evolución para adaptarse a esta labor. Sin embargo hacer que una computadora pueda identificar patrones de igual manera que lo hace el cerebro humano no es una labor trivial. \n",
        "\n",
        "Las expresiones regulares ó regex son un potente lenguaje de descripción del texto, esto significa que mediante este lenguaje podemos generar instrucciones para, buscar, contar, substituir o eliminar patrones de texto. \n",
        "\n",
        "Actualmente la mayoría de los lenguajes de programación (y algunos procesadores de texto) permiten el uso de regex dentro de sus comandos básicos."
      ]
    },
    {
      "cell_type": "markdown",
      "metadata": {
        "id": "SzWrpk6MkyGW"
      },
      "source": [
        "## Definición\n",
        "\n",
        "Las regex son una secuencia de caracteres que forma un patrón de búsqueda y que son definidas por una **sintaxis especifica**. los patrones se interpretan como un conjunto de instrucciones que se ejecuta sobre un texto de entrada para producir un subconjunto o versión modificada del texto original.\n",
        "\n",
        "Dado que las regex en si son un lenguaje, están conformadas por varios elementos que se describen a continuación junto con ejemplos de uso."
      ]
    },
    {
      "cell_type": "markdown",
      "metadata": {
        "id": "impB3mEflRjZ"
      },
      "source": [
        "## Elementos que conforman las *regex*\n",
        "\n",
        "* **Literales**: cualquier carácter se identifica consigo mismo, a menos que se trate de un **metacarater** con significado especial.\n",
        "\n",
        "* **Caractéres de escape**: son caracteres que nos permiten identificar elementos importantes en un texto, como lo serian:\n",
        "\\begin{array}{|c|c|}\n",
        "\\hline\n",
        "\\text{Caracter de escape} & \\text{Significado}\\\\\n",
        "\\hline\n",
        "\\text{\\n} & \\text{Salto de linea} \\\\\n",
        "\\hline\n",
        "\\text{\\t} & \\text{Tabulador} \\\\\n",
        "\\hline\n",
        "\\text{\\\\} \\text{\\\\} & \\text{Barra diagonal inversa}\\\\ \n",
        "\\hline\n",
        "\\text{\\v} & \\text{Tabulacion vertical}\\\\\n",
        "\\hline\n",
        "\\end{array}\n",
        "\n",
        "* **Clases de caractéres**: se define una serie de caracteres dentro de corchetes cuadrados, lo que significa que se busca cualquier carácter de esa lista"
      ]
    },
    {
      "cell_type": "markdown",
      "metadata": {
        "id": "7jRMKXcLn_eA"
      },
      "source": [
        "## Metacaracteres\n",
        "\n",
        "Los metacaracteres son la esencia de las regex y son lo que las hacen tan poderosas y versátiles. A continuación una lista de los metacaracteres mas importantes.\n",
        "\n",
        "* **Delimitadores**: estos metacaracteres nos permiten delimitar donde se requiere realizar la búsqueda de patrones dentro del texto.\n",
        "\n",
        "\\begin{array}{|c|c|}\n",
        "\\hline\n",
        "\\text{Metacaracter} & \\text{Descripcion}\\\\\n",
        "\\hline\n",
        "\\text{^} & \\text{Inicio de la linea} \\\\\n",
        "\\hline\n",
        "\\text{\\$} & \\text{Final de la linea} \\\\\n",
        "\\hline\n",
        "\\text{\\A} & \\text{Inicio del texto}\\\\ \n",
        "\\hline\n",
        "\\text{\\Z} & \\text{Final del texto}\\\\\n",
        "\\hline\n",
        "\\text{.} & \\text{Cualquier caracter en la linea}\\\\\n",
        "\\hline\n",
        "\\text{\\b} & \\text{Limite de la palabra}\\\\\n",
        "\\hline\n",
        "\\end{array}\n"
      ]
    },
    {
      "cell_type": "markdown",
      "metadata": {
        "id": "F-G0QGJgpVq9"
      },
      "source": [
        "* **Clases predefinidas**: son metacaracteres que facilitan aun mas la búsqueda de patrones.\n",
        "\n",
        "\\begin{array}{|c|c|}\n",
        "\\hline\n",
        "\\text{Metacaracter} & \\text{Descripción}\\\\\n",
        "\\hline\n",
        "\\text{\\w} & \\text{Un caracter alfanumérico (incluye \"_\")}\\\\\n",
        "\\hline\n",
        "\\text{\\W} & \\text{Un caracter no alfanumérico} \\\\\n",
        "\\hline\n",
        "\\text{\\d} & \\text{Un caracter numérico} \\\\\n",
        "\\hline\n",
        "\\text{\\D} & \\text{Un caracter no numérico}\\\\ \n",
        "\\hline\n",
        "\\text{\\s} & \\text{Cualquier espacio, igual que [\\t\\n]}\\\\\n",
        "\\hline\n",
        "\\end{array}\n",
        "\n",
        "\n",
        "* **Iteradores**: se utilizan para indicar el número de ocurrencias de la regex previa.\n",
        "\n",
        "\\begin{array}{|c|c|}\n",
        "\\hline\n",
        "\\text{Metacaracter} & \\text{Descripción}\\\\\n",
        "\\hline\n",
        "\\text{*} & \\text{Cero o mas, similar a {0,}} \\\\\n",
        "\\hline\n",
        "\\text{+} & \\text{Una o mas, similar a {1,}} \\\\\n",
        "\\hline\n",
        "\\text{?} & \\text{Cero o una, similar a {0,1}}\\\\ \n",
        "\\hline\n",
        "\\text{{n}} & \\text{Exactamente $n$ veces}\\\\\n",
        "\\hline\n",
        "\\text{{n,}} & \\text{Por lo menos $n$ veces}\\\\\n",
        "\\hline\n",
        "\\text{{n,m}} & \\text{Por lo menos $n$, pero no mas de $m$ veces}\\\\\n",
        "\\hline\n",
        "\\text{[a-z]} & \\text{Desde a hasta z}\\\\\n",
        "\\hline\n",
        "\\end{array}\n",
        "\n",
        "* **Alternativas**: se puede especificar una lista de alternativas de patrones usando el carácter ''|''. Las alternativas son evaluadas de izquierda a derecha, asi que la primer alternativa que coincida con el texto analizado sera seleccionada, ejemplo.\n",
        "\n",
        "  * tom(os|as) este *regex* hace match con cadenas de texto como, ''tomos'' o ''tomas''.\n",
        "\n",
        "* **Subexpresiones**: se emplean paréntesis ''(..)'' para definir subexpresiones de *regex*, ejemplo.\n",
        "\n",
        "  * foob([0-9]|a+)r este *regex* busca cadenas como, ''foob0r'', ''foob1r'', ''foobar'', ''foobaar'', etc.\n",
        "\n",
        "* **Memorias**: los metacaracteres \\1 a \\9 son empleados para fijar una *regex* es decir busca la *regex* previamente encontrada, ejemplo.\n",
        "\n",
        "  * (.)\\1+ encuentra 'rr' y '77', etc.\n",
        "  * (.+)\\1+ encuentra ''abab'' y ''123123'', etc."
      ]
    },
    {
      "cell_type": "markdown",
      "metadata": {
        "id": "klq2d7Efzqsw"
      },
      "source": [
        "## Ejemplo con *Eclipse*\n",
        "\n",
        "Veamos un ejemplo del uso de las *regex* usando el *IDE Eclipse*, lo primero que vamos a necesitar es descargar el documento *ManejoDatos9180.txt*, este documento es un archivo de texto que con tiene información \"desordenada\" y que mediante *regex* vamos a organizar (también se le conoce como *parsear*).\n",
        "\n",
        "\n",
        "Para obtener este documento, lo haremos mediante comandos de *linux*, vamos a usar el comando *wget* que sirve para descargar un archivo desde linea de comandos. El documento se encuentra en mi repositorio de github, así que basta con pasarle la *URL* al comando *wget* para que este lo descargue en nuestra sesión de *google colab*.\n",
        "\n",
        "En la siguiente celda de código se muestra este comando."
      ]
    },
    {
      "cell_type": "code",
      "metadata": {
        "id": "GfyDJCbh2Dlm",
        "colab": {
          "base_uri": "https://localhost:8080/"
        },
        "outputId": "fdf4216e-df39-41fe-ac3e-c0e5083a824f"
      },
      "source": [
        "!wget https://raw.githubusercontent.com/jugernaut/ManejoDatos/desarrollo/utils/ManejodeDatos9180.txt"
      ],
      "execution_count": null,
      "outputs": [
        {
          "output_type": "stream",
          "name": "stdout",
          "text": [
            "--2021-10-24 12:04:55--  https://raw.githubusercontent.com/jugernaut/ManejoDatos/desarrollo/utils/ManejodeDatos9180.txt\n",
            "Resolving raw.githubusercontent.com (raw.githubusercontent.com)... 185.199.108.133, 185.199.109.133, 185.199.110.133, ...\n",
            "Connecting to raw.githubusercontent.com (raw.githubusercontent.com)|185.199.108.133|:443... connected.\n",
            "HTTP request sent, awaiting response... 200 OK\n",
            "Length: 3103 (3.0K) [text/plain]\n",
            "Saving to: ‘ManejodeDatos9180.txt’\n",
            "\n",
            "\rManejodeDatos9180.t   0%[                    ]       0  --.-KB/s               \rManejodeDatos9180.t 100%[===================>]   3.03K  --.-KB/s    in 0s      \n",
            "\n",
            "2021-10-24 12:04:55 (54.9 MB/s) - ‘ManejodeDatos9180.txt’ saved [3103/3103]\n",
            "\n"
          ]
        }
      ]
    },
    {
      "cell_type": "markdown",
      "metadata": {
        "id": "muL4VJ1GLfqZ"
      },
      "source": [
        "Una vez descargado el archivo, lo podemos ver en en el menú de archivo e incluso lo podemos descargar a nuestro equipo local.\n",
        "\n",
        "<center>\n",
        "<img src=\"https://github.com/jugernaut/ManejoDatos/blob/desarrollo/Imagenes/AlgoritmosBusqueda/texto.gif?raw=1\" width=\"1000\"> \n",
        "</center>"
      ]
    },
    {
      "cell_type": "markdown",
      "metadata": {
        "id": "Lr000vw0MwIt"
      },
      "source": [
        "Ya que tenemos el documento *ManejoDatos9180.txt* lo primero que podemos notar es que son datos de alumnos del curso de manejo de datos, donde cada linea contiene los siguientes datos:\n",
        "\n",
        "*   Número de alumno.\n",
        "*   Nombre.\n",
        "*   Carrera.\n",
        "*   Correo electrónico.\n",
        "*   Teléfono."
      ]
    },
    {
      "cell_type": "markdown",
      "metadata": {
        "id": "u3LQblBaN8-u"
      },
      "source": [
        "### Obtener nombres de los alumnos\n",
        "\n",
        "Supongamos que por algún motivo nos interesa obtener únicamente el primer apellido de cada alumno, sin considerar el resto de la información de cada alumno.\n",
        "\n",
        "Para esto lo primero es construir la *regex* que haga *match* (se ajuste) dentro de la cadena con el patrón buscado, igual que en todo desarrollo matemático, existen muchas formas de lograr llegar a esta expresión.\n",
        "\n",
        "Con un rapido vistazo, podemos darnos cuenta que el primer apellido se encuentra al incio de cada linea ( ya podemos pensar en usar `^`), después tenemos al menos uno o dos dígitos (`\\d+`), seguido de al menos un espacio (`\\s+`), seguido de entre una y nueve letras posiblemente acentuadas (`\\D{1,9}+`) y termina la palabra (`\\b`).\n",
        "\n",
        "De tal manera que nuestra regrex, se vería de la siguiente forma.\n",
        "\n",
        "`^\\d+\\s+\\D{1,9}\\b`\n",
        "\n",
        "Probemos su funcionamiento en *Eclipse*.\n",
        "\n",
        "<center>\n",
        "<img src=\"https://github.com/jugernaut/ManejoDatos/blob/desarrollo/Imagenes/AlgoritmosBusqueda/primerapellido.gif?raw=1\" width=\"1000\"> \n",
        "</center>\n",
        "\n",
        "En la parte sombreada en morado se muestran las coincidencias (*matches*) del patrón que generamos con la *regex*, ahora podríamos usaro o reemplazar estas coincidencias con lo que necesitemos, incluso con una nueva expresión regular, veamos.\n",
        "\n",
        "<center>\n",
        "<img src=\"https://github.com/jugernaut/ManejoDatos/blob/desarrollo/Imagenes/AlgoritmosBusqueda/capturado.gif?raw=1\" width=\"1000\"> \n",
        "</center>\n",
        "\n",
        "Bien, hasta ahora ya obtuvimos el primer apellido de los alumnos, pero normalmente es necesario obtener el nombre completo, así que continuemos agregando elementos a nuestra *regex*, para que podamos obtener los dos apellidos y el primer nombre.\n",
        "\n",
        "Primero necesitamos eliminar el metacarter `\\b` ya que ahora nuestra expresión va a contener más elementos, así que lo substituimos por `\\s+`, para que la nueva expresión se vea así `^\\d+\\s+\\D{1,9}\\s+`, comprueba el resultado.\n",
        "\n",
        "Necesitamos agregar el segundo apellido, eso lo podemos hacer repitiendo el patrón `D{1,9}` (te sugiero probar cada paso intermedio), posteriormente tenemos al menos un espacio `\\s+` y finalmete el primer, usamos un `D{1,11}`, de tal manera que la *regrex* completa queda así.\n",
        "\n",
        "`^\\d+\\s+\\D{1,9}\\s+\\D{1,9}\\s+\\D{1,11}\\b`\n",
        "\n",
        "Una forma alternativa de esta *regex* la podemos construir usando clases, de la siguiente forma.\n",
        "\n",
        "`^\\d+\\s+[a-zA-ZáéíóúÁÉÍÓÚñÑ]+\\s+[a-zA-ZáéíóúÁÉÍÓÚñÑ]+\\s[a-zA-ZáéíóúÁÉÍÓÚñÑ-]+\\b`\n",
        "\n",
        "En esta *regex* podemos ver que en lenguajes como el español tenemos caracteres \"extraños\" como los acentos y las eñes, así que hay que especificar cada uno de estos posibles casos dentro de las clases.\n",
        "\n",
        "A continuación vemos el resultado de ambas *regex*.\n",
        "\n",
        "<center>\n",
        "<img src=\"https://github.com/jugernaut/ManejoDatos/blob/desarrollo/Imagenes/AlgoritmosBusqueda/dosregex.gif?raw=1\" width=\"1000\"> \n",
        "</center>\n",
        "\n",
        "Otra forma un tanto \"tramposa\", es tener un poco de información de los datos que contiene el documento y usar a la carrera como delimitador del patrón que estamos buscando, es decir.\n",
        "\n",
        "`^\\d+\\s+\\D+\\s+(Aplicadas|Actuaría|C. Computación|Matemáticas)\\b`\n",
        "\n",
        "Con esta *regex*, básicamente estamos buscando el mismo patrón que con las versiones previas, pero usamos las opciones de las cadenas que corresponden a las carrera para indicar que es el final de patrón que estamos buscando.\n",
        "\n",
        "<center>\n",
        "<img src=\"https://github.com/jugernaut/ManejoDatos/blob/desarrollo/Imagenes/AlgoritmosBusqueda/dosregex.gif?raw=1\" width=\"1000\"> \n",
        "</center>\n",
        "\n",
        "Esta última *regex* es más sencilla de construir sin embargo obtuvimos más de lo que necesitamos, en este caso el nombre de las carreras, sin embargo existen editores que nos permiten copiar los *matches* y posteriormente podemos usar una nueva *regex* para eliminar las carreras.\n",
        "\n",
        "Hasta ahora hemos hecho uso de las *regex* desde editores de texto, sin embargo su poder se incrementa al hacer uso de las *regex* en combinación con un lenguaje de programación, como en este caso *Python*.\n",
        "\n",
        "\n",
        "\n"
      ]
    },
    {
      "cell_type": "markdown",
      "metadata": {
        "id": "sOjLMlZvLgli"
      },
      "source": [
        "### Obtener el correo electrónico\n",
        "\n",
        "Otro de los usos frecuentes para las *regex* es encontrar los correos electrónicos en una base de datos, normalmente una vez que se obtienen estos correos se hace uso de algún algoritmo para enviar información a estos correos.\n",
        "\n",
        "La ventaja al buscar los correos electrónicos es que contienen un caracter muy poco común como lo es el \"@\", así que construir la *regex* que haga *match* con el correo es relativamente sencillo, veamos como construirla.\n",
        "\n",
        "Es bien sabido que las direcciones de correos electrónicos pueden contener caracteres alfanuméricos, así como los símbolos \"., -, _\" (punto, guion medio, guion bajo), así que solo hay que generar una *regex* que contenga una o más repeticiones de estos caracteres, seguido de un \"@\".\n",
        "\n",
        "Finalmente la parte del dominio del correo electrónico es muy similar a la de la dirección del correo, así que solo falta repetir el patrón después del caracter \"@\" y listo, ya tenemos la *regex* que hace *match* con los correos electrónicos.\n",
        "\n",
        "`[0-9a-z-._]+@[0-9a-z-._]+`\n",
        "\n",
        "Al probar esta regex en nuestra base de datos obtenemos el siguiente resultado.\n",
        "\n",
        "<center>\n",
        "<img src=\"https://github.com/jugernaut/ManejoDatos/blob/desarrollo/Imagenes/AlgoritmosBusqueda/correos.gif?raw=1\" width=\"1000\"> \n",
        "</center>"
      ]
    },
    {
      "cell_type": "markdown",
      "metadata": {
        "id": "h-JHTvhbQzYE"
      },
      "source": [
        "### Obtener números telefónicos\n",
        "\n",
        "Queda como tarea generar esta *regex*."
      ]
    },
    {
      "cell_type": "markdown",
      "metadata": {
        "id": "WfmNVnjKsYzi"
      },
      "source": [
        "# Referencias \n",
        "\n",
        "* Thomas H. Cormen: Introduction to Algorithms.\n",
        "* Referencias Libro Web: Introduccion a Python.\n",
        "* Referencias Daniel T. Joyce: Object-Oriented Data Structures.\n",
        "* Referencias John C. Mitchell: Concepts in programing Languages."
      ]
    }
  ]
}