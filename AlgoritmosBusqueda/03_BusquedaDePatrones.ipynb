{
  "nbformat": 4,
  "nbformat_minor": 0,
  "metadata": {
    "colab": {
      "name": "BusquedaDePatrones.ipynb",
      "provenance": [],
      "toc_visible": true,
      "include_colab_link": true
    },
    "kernelspec": {
      "name": "python3",
      "display_name": "Python 3"
    },
    "language_info": {
      "name": "python"
    }
  },
  "cells": [
    {
      "cell_type": "markdown",
      "metadata": {
        "id": "view-in-github",
        "colab_type": "text"
      },
      "source": [
        "<a href=\"https://colab.research.google.com/github/jugernaut/ManejoDatos/blob/main/AlgoritmosBusqueda/03_BusquedaDePatrones.ipynb\" target=\"_parent\"><img src=\"https://colab.research.google.com/assets/colab-badge.svg\" alt=\"Open In Colab\"/></a>"
      ]
    },
    {
      "cell_type": "markdown",
      "metadata": {
        "id": "ttiAbrCciXZ7"
      },
      "source": [
        "<font color=\"Teal\" face=\"Comic Sans MS,arial\">\n",
        "  <h1 align=\"center\"><i>Búsqueda de Patrones</i></h1>\n",
        "  </font>\n",
        "  <font color=\"Black\" face=\"Comic Sans MS,arial\">\n",
        "  <h5 align=\"center\"><i>Profesor: M.en.C. Miguel Angel Pérez León</i></h5>\n",
        "  <h5 align=\"center\"><i>Ayudante: Jesús Iván Coss Calderón</i></h5>\n",
        "  <h5 align=\"center\"><i>Ayudante: Jonathan Ramírez Montes</i></h5>\n",
        "  <h5 align=\"center\"><i>Materia: Manejo de Datos</i></h5>\n",
        "  </font>"
      ]
    },
    {
      "cell_type": "markdown",
      "metadata": {
        "id": "cwIfAuioiyPS"
      },
      "source": [
        "## Introducción\n",
        "\n",
        "Dentro de las áreas que abarca el estudio de las ciencias es bien conocido que regularmente es necesario identificar secuencias, formas, cadenas, etc. que se repiten frecuentemente, a estas 'formas' que se repiten frecuentemente se les conocen como **patrones**.\n",
        "\n",
        "Por ejemplo, para un biólogo que analiza la **cadena de adn** de un individuo conformada por las letras (GTAC) le interesa identificar patrones que pueden determinar su genotipo. O por ejemplo para un investigador que quiere determinar cual es **la ruta mas transitada** dentro de Ciudad Universitaria, le interesa identificar el patrón que determinar este trayecto. \n",
        "\n",
        "Para alguien que labore en el are de minería de datos, es de vital importancia identificar patrones dentro de las bases de datos. Con la información adquirida identificando los patrones de un determinado usuario, se le puede **mostrar publicidad que encaje con sus patrones** para que este usuario realice compras.\n",
        "\n",
        "Para un estudiante de actuaria seria muy atractivo identificar patrones dentro de las **bases estadísticas** (INEGI) y con base en estos datos ajustar las tasas que emplea una determinada empresa para los costos de sus productos.\n",
        "\n",
        "Recientemente también se ha descubierto que el **comportamiento de la bolsa de valores** es repetitivo, por lo que encontrar un patrón en este sentido da una gran ventaja al que posea dicha información. \n",
        "\n",
        "Para identificar los patrones antes mencionados existen muchas técnicas y herramientas, por ejemplo las herramientas que nos proporciona un **procesador de textos** (word) o también los **navegadores de internet** y finalmente tenemos a las **expresiones regulares**. De todo esto hablaremos en las siguientes secciones."
      ]
    },
    {
      "cell_type": "markdown",
      "metadata": {
        "id": "p719FsTRp8gH"
      },
      "source": [
        "# Búsqueda de Patrones\n",
        "\n",
        "La búsqueda y reconocimiento de patrones es muy útil en muchos de los campos de las ciencias, recientemente una de las aplicaciones que se le ha dado al reconocimiento de patrones tiene que ver con la inteligencia artificial y en particular con las redes **neuronales artificiales**.\n",
        "\n",
        "Podemos pensar en una red neuronal artificial como una caja negra que es entrenada con un conjunto de datos y mediante técnicas como el **descenso del gradiente** y la **retropropagación** la red comienza a \"aprender\" e **identificar patrones** que logran predecir o clasificar un comportamiento dado.\n",
        "\n",
        "Si quieres conocer un poco más sobre redes neuronales artificiales te recomiendo este par de canales de youtube:\n",
        "\n",
        "*   [3Blue1Brown](https://www.youtube.com/playlist?list=PLo8YL3HL50lUHQS80oE_ypxFi0Y3uCVal): lista de videos sobre redes neuronales.\n",
        "*   [DotCSV](https://www.youtube.com/watch?v=MRIv2IwFTPg&list=PL-Ogd76BhmcB9OjPucsnc2-piEE96jJDQ): canal sobre inteligencia artificial y tecnología.\n",
        "\n",
        "En este documento vamos a comenzar a identificar las herramientas que tenemos disponibles (como seres humanos) para la búsqueda de patrones.\n",
        "\n"
      ]
    },
    {
      "cell_type": "markdown",
      "metadata": {
        "id": "abakh1vVkOK0"
      },
      "source": [
        "## Procesadores de Textos\n",
        "\n",
        "La gran mayoría (si no es que todos) de los procesadores de texto como:\n",
        "\n",
        "*   *Word*.\n",
        "*   *Oppen Office*.\n",
        "*   *Google Docs*.\n",
        "*   *Lyx*.\n",
        "*   *Overleaf*.\n",
        "\n",
        "O incluso editores de código como:\n",
        "\n",
        "*   *Eclipse*.\n",
        "*   *NetBeans*.\n",
        "*   *NotePad++*.\n",
        "*   *Atom*.\n",
        "*   *InteliJ*.\n",
        "\n",
        "Cuentan con herramientas que nos permiten realizar búsquedas dentro de los archivos que estemos manejando.\n",
        "\n",
        "Estas herramientas de búsqueda van de búsquedas tan sencillas, como lo puede ser la búsqueda de una determinada palabra dentro de los documentos, hasta un identificar un patrón y reemplazarlo.\n",
        "\n",
        "Normalmente estos procesadores cuentan con el atajo (*shortcut*) que se activa mediante la combinación de las teclas ctrl+f y eso abre el dialogo para generar la búsqueda o el reemplazo de un determinado patrón.\n",
        "\n",
        "En la siguiente animación vamos a usar *Eclipse* para mostrar una pequeña búsqueda y remplazo de un determinado patrón usando texto.\n",
        "\n",
        "Supongamos que por algún motivo se cometió un error en la lista de alumnos (ManejoDatos9180.txt) del curso de manejo de datos y todos los alumnos que tienen como carrera \"Actuaría\" debe ser reemplazada por \"Matemáticas Aplicadas\".\n",
        "\n",
        "La opción más sencilla es abrir este archivo y buscar (de manera manual) cada una de las coincidencias del patron \"Actuaría\" y reemplazarlo por la palabra \"Matemáticas Aplicadas\", sin embargo esta opción es muy tediosa y lenta, así que lo mejor es hacer uso de la \"búsqueda y reemplazo\" que ofrecen la gran mayoria de procesadores de texto, veamos.\n",
        "\n",
        "<center> \n",
        "<img src=\"https://github.com/jugernaut/ManejoDatos/blob/desarrollo/Imagenes/AlgoritmosBusqueda/procesador.gif?raw=1\" width=\"1000\"> \n",
        "</center>"
      ]
    },
    {
      "cell_type": "markdown",
      "metadata": {
        "id": "dbw2YTefsrov"
      },
      "source": [
        "## Navegadores de Internet\n",
        "\n",
        "De igual manera, los navegadores de internet nos proporcionan herramientas para identificar patrones dentro de nuestra búsquedas o incluso para investigar el código *HTML* que conforma un sitio web.\n",
        "\n",
        "Una de las herramientas más útiles al realizar búsquedas mediante algún navegador de internet es el uso de la búsqueda dentro de una página. En la siguiente sección veremos como usar algúnas de estas herramientas con el navegador *Chrome*."
      ]
    },
    {
      "cell_type": "markdown",
      "metadata": {
        "id": "J_qe0uhs-Foy"
      },
      "source": [
        "### *Chrome*\n",
        "\n",
        "Este es un navegador de código cerrado (significa que el código fuente no se encuentra disponible), fue desarrollado por la empresa *Google* y esta conformado por más de **7 millones de lineas de código**.\n",
        "\n",
        "Una de sus principales caracteristicas es que es gratuito y se puede instalar en la mayoría de sistemas operativos disponibles como:\n",
        "\n",
        "*   *Linux/Unix*.\n",
        "*   *Windows*.\n",
        "*   *IOS*.\n",
        "*   *Android*.\n",
        "*   *Solaris*.\n",
        "\n",
        "Su principal ventaja (en comparación del resto de navegadores) es que se integra de manera nativa con todos los productos que ofrece la compañía *Google*, como lo son: *smartphones*, *smartwatches*, *androidtv's*, correo electrónico, etc.\n",
        "\n",
        "En esta sección hablaremos de este navegador, sin embargo vale la pena aclarar que existe un gran número de navegadores de internet y cada uno tiene sus ventajas y desventajas."
      ]
    },
    {
      "cell_type": "markdown",
      "metadata": {
        "id": "uU9D83_tAkWz"
      },
      "source": [
        "#### Búsquedas en un sitio web\n",
        "\n",
        "Para realizar una búsqueda una vez que nos encontramos en algún sitio web, es tan sencillo como presionar la combinación de teclas *ctrl+f* y eso desplegara el campo de texto para la búsqueda.\n",
        "\n",
        "En este campo basta con que escribamos el texto a buscar (patrón) y el navegador nos mostrará todas las coincidencias dentro del sitio web. En la siguiente animación puedes ver un pequeño ejemplo de dicha búsqueda.\n",
        "\n",
        "<center>\n",
        "<img src=\"https://github.com/jugernaut/ManejoDatos/blob/desarrollo/Imagenes/AlgoritmosBusqueda/Buscar.gif?raw=1\" width=\"1000\"> \n",
        "</center>"
      ]
    },
    {
      "cell_type": "markdown",
      "metadata": {
        "id": "2LuOIx0SDPu6"
      },
      "source": [
        "### Herramientas de desarrollo\n",
        "\n",
        "Además de poder administrar los complementos (*plugins*) y configurar elementos como seguridad, *cookies* y sincronización de cuentas, el navegador *Chrome* nos proporciona un menú de herramientas para desarrollador.\n",
        "\n",
        "En este menú podemos encontrar muchas herramientas que van desde informe de errores en el sitio web, hasta la visualización de elementos *CSS*, *XML* o incluso *HTML* de forma interactiva.\n",
        "\n",
        "Para acceder a este menú basta con ir a la parte superior derecha del navegador, desplegar el menú que se muestra en esta parte y elegir la opción \"Más herramientas\" y después \"Herramientas de desarrollador\", al elegir esta opción se despliega una pestaña adicional con un conjunto de herramientas que nos permiten analizar de manera más detallada los elementos que conforman un sitio web.\n",
        "\n",
        "En la siguiente animación se muestra como acceder a esta herramienta y como utilizar algunas de sus opciones.\n",
        "\n",
        "<center>\n",
        "<img src=\"https://github.com/jugernaut/ManejoDatos/blob/desarrollo/Imagenes/AlgoritmosBusqueda/desarrollador.gif?raw=1\" width=\"1000\"> \n",
        "</center>"
      ]
    },
    {
      "cell_type": "markdown",
      "metadata": {
        "id": "M8XWKGZDkYsG"
      },
      "source": [
        "## Expresiones Regulares (*RegEx*)\n",
        "\n",
        "La búsqueda de patrones dentro de un conjunto de datos, es una un tanto sencilla para el cerebro humano ya que este ha gozado de miles de años de evolución para adaptarse a esta labor. Sin embargo hacer que una computadora pueda identificar patrones de igual manera que lo hace el cerebro humano no es una labor trivial. \n",
        "\n",
        "Las expresiones regulares ó regex son un potente lenguaje de descripción del texto, esto significa que mediante este lenguaje podemos generar instrucciones para, buscar, contar, substituir o eliminar patrones de texto. \n",
        "\n",
        "Actualmente la mayoría de los lenguajes de programación (y algunos procesadores de texto) permiten el uso de regex dentro de sus comandos básicos."
      ]
    },
    {
      "cell_type": "markdown",
      "metadata": {
        "id": "SzWrpk6MkyGW"
      },
      "source": [
        "### Definición\n",
        "\n",
        "Las regex son una secuencia de caracteres que forma un patrón de búsqueda y que son definidas por una **sintaxis especifica**. los patrones se interpretan como un conjunto de instrucciones que se ejecuta sobre un texto de entrada para producir un subconjunto o versión modificada del texto original."
      ]
    },
    {
      "cell_type": "markdown",
      "metadata": {
        "id": "ZKbfEkUqlQqP"
      },
      "source": [
        "Dado que las regex en si son un lenguaje, están conformadas por varios elementos que se describen a continuación junto con ejemplos de uso."
      ]
    },
    {
      "cell_type": "markdown",
      "metadata": {
        "id": "impB3mEflRjZ"
      },
      "source": [
        "### Elementos que conforman las regex\n",
        "\n",
        "* **Literales**: cualquier carácter se identifica consigo mismo, a menos que se trate de un **metacarater** con significado especial.\n",
        "\n",
        "* **Caractéres de escape**: son caracteres que nos permiten identificar elementos importantes en un texto, como lo serian:\n",
        "  * \\begin{array}{|c|c|}\n",
        "  \\hline\n",
        "\\text{Caracter de escape} & \\text{Significado}\\\\\n",
        "\\hline\n",
        "\\text{\\n} & \\text{Salto de linea} \\\\\n",
        "\\hline\n",
        "\\text{\\t} & \\text{Tabulador} \\\\\n",
        "\\hline\n",
        "\\text{\\\\} \\text{\\\\} & \\text{Barra diagonal inversa}\\\\ \n",
        "\\hline\n",
        "\\text{\\v} & \\text{Tabulacion vertical}\\\\\n",
        "\\hline\n",
        "\\end{array}\n",
        "\n",
        "* **Clases de caractéres**: se define una serie de caracteres dentro de corchetes cuadrados, lo que significa que se busca cualquier carácter de esa lista"
      ]
    },
    {
      "cell_type": "markdown",
      "metadata": {
        "id": "7jRMKXcLn_eA"
      },
      "source": [
        "### Metacaracteres\n",
        "\n",
        "Los metacaracteres son la esencia de las regex y son lo que las hacen tan poderosas y versátiles. A continuación una lista de los metacaracteres mas importantes.\n",
        "\n",
        "* **Delimitadores**: estos metacaracteres nos permiten delimitar donde se requiere realizar la búsqueda de patrones dentro del texto.\n",
        "\n",
        "  * \\begin{array}{|c|c|}\n",
        "  \\hline\n",
        "\\text{Metacaracter} & \\text{Descripcion}\\\\\n",
        "\\hline\n",
        "\\text{^} & \\text{Inicio de la linea.} \\\\\n",
        "\\hline\n",
        "\\text{\\$} & \\text{Final de la linea.} \\\\\n",
        "\\hline\n",
        "\\text{\\A} & \\text{Inicio del texto}\\\\ \n",
        "\\hline\n",
        "\\text{\\Z} & \\text{Final del texto}\\\\\n",
        "\\hline\n",
        "\\text{.} & \\text{Cualquier caracter en la linea}\\\\\n",
        "\\hline\n",
        "\\text{\\b} & \\text{Limite de la palabra}\\\\\n",
        "\\hline\n",
        "\\end{array}\n"
      ]
    },
    {
      "cell_type": "markdown",
      "metadata": {
        "id": "F-G0QGJgpVq9"
      },
      "source": [
        "* **Clases predefinidas**: son metacaracteres que facilitan aun mas la búsqueda de patrones.\n",
        "  * \\begin{array}{|c|c|}\n",
        "  \\hline\n",
        "\\text{\\w} & \\text{Un caracter alfanumerico (incluye \"_\")}\\\\\n",
        "\\hline\n",
        "\\text{\\W} & \\text{Un caracter no alfanumerico} \\\\\n",
        "\\hline\n",
        "\\text{\\d} & \\text{Un caracter numerico} \\\\\n",
        "\\hline\n",
        "\\text{\\D} & \\text{Un caracter no numerico}\\\\ \n",
        "\\hline\n",
        "\\text{\\s} & \\text{Cualquier espacio, igual que [\\t\\n]}\\\\\n",
        "\\hline\n",
        "\\end{array}\n",
        "\n",
        "\n",
        "* **Iteradores**: se utilizan para indicar el numero de ocurrencias de la regex previa.\n",
        "\n",
        "  * \\begin{array}{|c|c|}\n",
        "  \\hline\n",
        "\\text{*} & \\text{Cero o mas, similar a {0,}} \\\\\n",
        "\\hline\n",
        "\\text{+} & \\text{Una o mas, similar a {1,}} \\\\\n",
        "\\hline\n",
        "\\text{?} & \\text{Cero o una, similar a {0,1}}\\\\ \n",
        "\\hline\n",
        "\\text{{n}} & \\text{Exactamente $n$ veces}\\\\\n",
        "\\hline\n",
        "\\text{{n,}} & \\text{Por lo menos $n$ veces}\\\\\n",
        "\\hline\n",
        "\\text{{n,m}} & \\text{Por lo menos $n$, pero no mas de $m$ veces}\\\\\n",
        "\\hline\n",
        "\\end{array}"
      ]
    },
    {
      "cell_type": "markdown",
      "metadata": {
        "id": "0fF_AZ1uryqL"
      },
      "source": [
        "* **Alternativas**: se puede especificar una lista de alternativas de patrones usando el carácter ''|''. Las alternativas son evaluadas de izquierda a derecha, asi que la primer alternativa que coincida con el texto analizado sera seleccionada, ejemplo.\n",
        "\n",
        "  * tom(os|as) este regex hace match con cadenas de texto como, ''tomos'' o ''tomas''.\n",
        "\n",
        "* **Subexpresiones**: se emplean paréntesis ''(..)'' para definir subexpresiones de regex, ejemplo.\n",
        "\n",
        "  * foob([0-9]|a+)r este regex busca cadenas como, ''foob0r'', ''foob1r'', ''foobar'', ''foobaar'', etc.\n",
        "\n",
        "* **Memorias**: los metacaracteres \\1 a \\9 son empleados para que fijar una regex es decir busca la regex previamente encontrada, ejemplo.\n",
        "\n",
        "  * (.)\\1+ encuentra 'aaaa' y 'cc', etc.\n",
        "\n",
        "  * (.+)\\1+ encuentra ''abab'' y ''123123'', etc."
      ]
    },
    {
      "cell_type": "markdown",
      "metadata": {
        "id": "WsUUz0iksPGL"
      },
      "source": [
        "\n",
        "## **Apendice**"
      ]
    },
    {
      "cell_type": "markdown",
      "metadata": {
        "id": "WfmNVnjKsYzi"
      },
      "source": [
        "### Referencias \n",
        "\n",
        "* Thomas H. Cormen: Introduction to Algorithms.\n",
        "\n",
        "* Referencias Libro Web: Introduccion a Python.\n",
        "\n",
        "* Referencias Daniel T. Joyce: Object-Oriented Data Structures.\n",
        "\n",
        "* Referencias John C. Mitchell: Concepts in programing Languages."
      ]
    }
  ]
}
