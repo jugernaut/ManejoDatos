{
  "nbformat": 4,
  "nbformat_minor": 0,
  "metadata": {
    "colab": {
      "name": "ArbolesBinariosBusqueda.ipynb",
      "provenance": [],
      "toc_visible": true,
      "include_colab_link": true
    },
    "kernelspec": {
      "name": "python3",
      "display_name": "Python 3"
    },
    "language_info": {
      "name": "python"
    }
  },
  "cells": [
    {
      "cell_type": "markdown",
      "metadata": {
        "id": "view-in-github",
        "colab_type": "text"
      },
      "source": [
        "<a href=\"https://colab.research.google.com/github/jugernaut/ManejoDatos/blob/main/AlgoritmosBusqueda/ArbolesBinariosBusqueda.ipynb\" target=\"_parent\"><img src=\"https://colab.research.google.com/assets/colab-badge.svg\" alt=\"Open In Colab\"/></a>"
      ]
    },
    {
      "cell_type": "markdown",
      "metadata": {
        "id": "JmymMzF4lG93"
      },
      "source": [
        "<font color=\"Teal\" face=\"Comic Sans MS,arial\">\n",
        "  <h1 align=\"center\"><i>Arboles Binarios de Búsqueda</i></h1>\n",
        "  </font>\n",
        "  <font color=\"Black\" face=\"Comic Sans MS,arial\">\n",
        "  <h5 align=\"center\"><i>Profesor: M.en.C. Miguel Angel Pérez León</i></h5>\n",
        "  <h5 align=\"center\"><i>Ayudante: Jesús Iván Coss Calderón</i></h5>\n",
        "  <h5 align=\"center\"><i>Ayudante: Jonathan Ramírez Montes</i></h5>\n",
        "  <h5 align=\"center\"><i>Materia: Manejo de Datos</i></h5>\n",
        "</font>"
      ]
    },
    {
      "cell_type": "markdown",
      "metadata": {
        "id": "5c1BVdROlJ9T"
      },
      "source": [
        "# Introducción \n",
        "\n",
        "Los Arboles Binarios de Búsqueda (ABB) son la evolución de los Arboles Binarios, ya que los ABB además de cumplir con la definición y operaciones de los AB, incluyen una caracteristica muy importante, el orden en sus elementos.\n",
        "\n",
        "Podémos pensar que un ABB es un AB cuyos elementos se encuentran ordenados, esta forma de contruir estructuras sobre estructuras previamente definidas, es muy similar a la forma en como se constuyen conceptos en teoría de gráficas.\n",
        "\n",
        "Además haciendo uso de POO, podemos aprovechar esta forma de crear conceptos y algoritmos para reutilizar y aprovechar definiciones previamente construidas.\n"
      ]
    },
    {
      "cell_type": "markdown",
      "metadata": {
        "id": "rEMHdlKfnpwB"
      },
      "source": [
        "# Arboles Binarios de Búsqueda (Ordenados)\n",
        "\n",
        "Los Arboles Binarios de Búsqueda (u Ordenados) es una estructura de datos muy parecida a los árboles binarios, pero con la peculiaridad de que cada elemento que se agrega o elimina del árbol se lleva a cabo de tal manera que **se conserva un orden** dentro del mismo.\n",
        "\n",
        "Al conservarse un orden ya es posible realizar búsquedas dentro del árbol de manera más eficiente, auque aún puede darse el peor caso (árbol degenerado).\n",
        "\n",
        "Dado que las búsquedas se realizan de manera más eficiente esto **reduce considerablemente el orden de complejidad** al que pertenecen la mayoría de las posibles operaciones que se pueden realizar con este tipo de árboles.\n",
        "\n",
        "De manera informal diremos que en un árbol binario de búsqueda, cualquier nodo cumple con la característica de que todos sus hijos (nietos, descendientes, etc.) **izquierdos contienen valores inferiores** al valor que contiene dicho nodo. Y por otro lado todos sus hijos **derechos contienen valores superiores** al valor de dicho nodo."
      ]
    },
    {
      "cell_type": "markdown",
      "metadata": {
        "id": "LvVFnjttnust"
      },
      "source": [
        "## Definición Formal \n",
        "\n",
        "***Arbol Binario de Búsqueda (ABB)***\n",
        "\n",
        "Sea $A$ un árbol binario con raíz $R$, hijos izquierdo y derecho (posiblemente nulos) $H_I$ y $H_D$, respectivamente. Diremos que $A$ es un ABB si y solo si se satisfacen las dos condiciones siguientes de manera simultanea:\n",
        "\n",
        "*    $H_I$ es vacío $\\lor$ ($R$ contiene un valor mayor que todo elemento de $H_I \\land H_I$ es un ABB).\n",
        "*    $H_D$ es vacío $\\lor$ ($R$ contiene un valor menor que todo elemento de $H_D \\land H_D$ es un ABB).\n",
        "\n",
        "Nota: Donde $\\land$ es la conjunción lógica \"y\", y $\\lor$ es la disyunción lógica \"ó\".\n",
        "\n",
        "En la siguiente imagen se muestra un ABB.\n",
        "\n",
        "<center>\n",
        "<img src=\"https://github.com/jugernaut/ManejoDatos/blob/desarrollo/Imagenes/AlgoritmosBusqueda/abb.png?raw=1\" width=\"500\"> \n",
        "</center>"
      ]
    },
    {
      "cell_type": "markdown",
      "metadata": {
        "id": "8RkyR2Isn5A4"
      },
      "source": [
        "## Operaciones sobre ABB\n",
        "\n",
        "Al igual que con los AB, los ABB son caracterizados por el tipo de dato que almacena cada nodo, así como el conjunto de operaciones que se pueden llevar a cabo sobre estos.\n",
        "\n",
        "Las principales operaciones de los ABB podemos decir que se\n",
        "**heredan** de los AB, sin embargo dado que que los ABB se\n",
        "caracterizan por estar ordenados, las operaciones de insertar y eliminar nodos cambia, para que después de llevar a cabo alguna de estas operaciones, el árbol en cuestión, cumpla con la definición de ABB.\n",
        "\n",
        "Esta modificación, implica que en la mayoría de los casos las\n",
        "operaciones sobre los ABB se mantenga en el orden de **complejidad logarítmica $O(\\log_{2}n)$** donde $n$ es el número de nodos.\n",
        "\n",
        "Sin embargo no se puede garantizar que nunca se dará el caso\n",
        "degenerado del árbol, que es el peor caso, en el cual podemos pensar el ABB como una lista. En esta situación las operaciones son más costosas, llegando a **$O(n)$**."
      ]
    },
    {
      "cell_type": "markdown",
      "metadata": {
        "id": "GiTr9NyMf61D"
      },
      "source": [
        "## Clase Arbol Binario de Búsqueda `ABB`\n",
        "\n",
        "A continuación se muestra el código para la clase `ABB` y podemos notar que esta clase hereda de la clase `AB`, lo que significa que estamos creado un árbol binario de búsqueda tomando un árbol binario como base.\n",
        "\n",
        "Para esto necesitamos incluir en nuestra sesión actual el jupyter de Arboles Binarios, eso lo hacemos con la siguiente celda."
      ]
    },
    {
      "cell_type": "code",
      "metadata": {
        "id": "nFwbfu6B1aIQ",
        "colab": {
          "base_uri": "https://localhost:8080/"
        },
        "outputId": "b43cb27a-e137-4b99-9077-ef9517d828c4"
      },
      "source": [
        "!wget https://raw.githubusercontent.com/jugernaut/ManejoDatos/desarrollo/AlgoritmosBusqueda/ArbolesBinarios.ipynb\n",
        "!pip install import-ipynb"
      ],
      "execution_count": 15,
      "outputs": [
        {
          "output_type": "stream",
          "name": "stdout",
          "text": [
            "--2021-11-10 06:48:19--  https://raw.githubusercontent.com/jugernaut/ManejoDatos/desarrollo/AlgoritmosBusqueda/ArbolesBinarios.ipynb\n",
            "Resolving raw.githubusercontent.com (raw.githubusercontent.com)... 185.199.108.133, 185.199.109.133, 185.199.110.133, ...\n",
            "Connecting to raw.githubusercontent.com (raw.githubusercontent.com)|185.199.108.133|:443... connected.\n",
            "HTTP request sent, awaiting response... 200 OK\n",
            "Length: 16833 (16K) [text/plain]\n",
            "Saving to: ‘ArbolesBinarios.ipynb.2’\n",
            "\n",
            "\rArbolesBinarios.ipy   0%[                    ]       0  --.-KB/s               \rArbolesBinarios.ipy 100%[===================>]  16.44K  --.-KB/s    in 0s      \n",
            "\n",
            "2021-11-10 06:48:20 (43.6 MB/s) - ‘ArbolesBinarios.ipynb.2’ saved [16833/16833]\n",
            "\n",
            "Requirement already satisfied: import-ipynb in /usr/local/lib/python3.7/dist-packages (0.1.3)\n"
          ]
        }
      ]
    },
    {
      "cell_type": "code",
      "metadata": {
        "id": "THYAYqDMd3IX"
      },
      "source": [
        "import import_ipynb\n",
        "from ArbolesBinarios import AB\n",
        "from ArbolesBinarios import Nodo\n",
        "\n",
        "''' Clase arbol binario de busqueda, genera la estructura de un arbol binario\n",
        "    de busqueda asi como sus funciones.'''\n",
        "class ABB(AB):\n",
        "  ''' Consructor de arboles'''\n",
        "  def __init__(self, dato):\n",
        "    # llamamos al constructor de la clase padre con la palabra super\n",
        "    super(ABB, self).__init__(dato)\n",
        "    # y se agrega la variable ultimo agregado que sirve para clases posteriores\n",
        "    self.ultimo_agregado = self.raiz\n",
        "\n",
        "  ''' Busca un dato en el arbol y devuelve el nodo'''\n",
        "  def busqueda(self, nodo, dato):\n",
        "    # si la raiz es None o el dato esta contenido en el nodo,\n",
        "    # se devuelve el nodo.\n",
        "    if nodo is None or nodo.dato == dato:\n",
        "      return nodo\n",
        "    # si el dato es mayo entonces se busca del lado derecho\n",
        "    if nodo.dato < dato:\n",
        "      return self.busqueda(nodo.der, dato)\n",
        "    # si no, se busca en el lado izquierdo\n",
        "    else:\n",
        "      return self.busqueda(nodo.izq, dato)\n",
        "\n",
        "  ''' Inserta un elemento en el arbol a partir de un nodo'''\n",
        "  def insertar_nodo(self, nodo, dato):\n",
        "    # si el nodo es vacio ahi se crea el nuevo nodo\n",
        "    if nodo is None:\n",
        "      nuevo_nodo = Nodo(dato)\n",
        "      self.ultimo_agregado = nuevo_nodo\n",
        "      return nuevo_nodo\n",
        "    # si el dato es menor que su padre, se inserta en el lado izquierdo\n",
        "    if dato < nodo.dato:\n",
        "      nuevo_nodo = self.insertar_nodo(nodo.izq, dato)\n",
        "      nodo.izq = nuevo_nodo\n",
        "      nuevo_nodo.padre = nodo\n",
        "    # de no ser asi se inserta del lado derecho\n",
        "    else:\n",
        "      nuevo_nodo = self.insertar_nodo(nodo.der, dato)\n",
        "      nodo.der = nuevo_nodo\n",
        "      nuevo_nodo.padre = nodo\n",
        "    # nodo guarda toda la ruta de donde sera insertado el dato\n",
        "    # hasta caer en el caso base, es por eso que se devuelve    \n",
        "    return nodo\n",
        "  \n",
        "  ''' Inserta un nodo en el arbol, a partir de la raiz'''\n",
        "  def insertar(self, dato):\n",
        "    # si el dato a insertar no se encuentra en el ABB se inserta\n",
        "    if self.busqueda(self.raiz, dato) is None:\n",
        "      # Se inserta el dato desde la raiz\n",
        "      self.insertar_nodo(self.raiz, dato)\n",
        "\n",
        "  ''' Busca el minimo en el subarbol a partir de nodo, este metodo sirve\n",
        "      para poder eliminar nodos del arbol y mantener el orden'''\n",
        "  def minimo_en_subarbol(self, nodo):\n",
        "    # caso base en el que no hay minimo\n",
        "    if nodo is None:\n",
        "      return nodo\n",
        "    # caso base en el que el nodo es el minimo ya que no tiene hijo izq\n",
        "    if nodo.izq is None:\n",
        "      return nodo\n",
        "    # llamada recursiva para movernos al siguiente minimo\n",
        "    return self.minimo_en_subarbol(nodo.izq)\n",
        "\n",
        "  ''' Borra un nodo en el arbol, busca al nodo que contiene a dato\n",
        "      y en caso de existir lo borra, se pueden dar multiples casos'''\n",
        "  def borra_nodo(self, nodo, dato):\n",
        "    # Caso 0) revisamos si el arbol es vacio.\n",
        "    if self.raiz is None:\n",
        "      return None\n",
        "    # buscamos el nodo a borrar\n",
        "    nodo_a_borrar = self.busqueda(nodo, dato)\n",
        "    aux = nodo_a_borrar\n",
        "\n",
        "    # Caso 0.1) si el dato no se encontro en el arbol no se puede borrar\n",
        "    if nodo_a_borrar is None:\n",
        "      return None\n",
        "\n",
        "    # Caso 1) si el nodo a borrar es la RAIZ\n",
        "    if nodo_a_borrar is self.raiz:\n",
        "      # caso1.1) no tiene hijos, solo se borra la raiz\n",
        "      if nodo_a_borrar.izq is None and nodo_a_borrar.der is None:\n",
        "        self.raiz = None\n",
        "        self.ultimo_agregado = None\n",
        "        return None\n",
        "\n",
        "      # Caso1.2) solo se tiene hijo derecho, entonces se sube al hijo derecho\n",
        "      if nodo_a_borrar.izq is None and nodo_a_borrar.der is not None:\n",
        "        self.raiz = nodo_a_borrar.der\n",
        "        self.raiz.padre = None\n",
        "        return self.raiz\n",
        "\n",
        "      # Caso1.3) solo se tiene hijo izquierdo, entonces se sube al hijo izquierdo\n",
        "      if nodo_a_borrar.izq is not None and nodo_a_borrar.der is None:\n",
        "        self.raiz = nodo_a_borrar.izq\n",
        "        self.raiz.padre = None\n",
        "        return self.raiz\n",
        "\n",
        "      # Caso1.4) tiene ambos hijos\n",
        "      if nodo_a_borrar.izq is not None and nodo_a_borrar.der is not None:\n",
        "        # buscamos el minimo en el subarbol derecho (minimo de los mayores)\n",
        "        minimo = self.minimo_en_subarbol(nodo_a_borrar.der)\n",
        "        aux = minimo.padre\n",
        "        self.raiz.dato = minimo.dato\n",
        "        self.borra_nodo(minimo, minimo.dato)\n",
        "        return aux\n",
        "\n",
        "    else: #Caso 2)\n",
        "      # a partir de aqui se tienen 3 casos:\n",
        "      # si no tiene hijos simplemente se borra el nodo\n",
        "      # si tiene un solo hijo (ya sea izquierdo o derecho) se sube al unico hijo\n",
        "      # tiene ambos hijos\n",
        "\n",
        "      # es necesario identificar si el nodo a borrar es hijo izquierdo o derecho\n",
        "      es_izquierdo = False\n",
        "      if nodo_a_borrar.padre.izq == nodo_a_borrar:\n",
        "        es_izquierdo = True\n",
        "\n",
        "      # Caso2.1) no tiene hijos, solo se borra el nodo\n",
        "      if nodo_a_borrar.izq is None and nodo_a_borrar.der is None:\n",
        "        aux = nodo_a_borrar.padre\n",
        "        # revisamos si el nodo a borrar es un hijo izquiero o derecho\n",
        "        if es_izquierdo: # Caso2.1.1)\n",
        "          aux.izq = None\n",
        "        else: # Caso2.1.2)\n",
        "          aux.der = None\n",
        "        nodo_a_borrar = None\n",
        "        return aux\n",
        "      \n",
        "      # Caso2.2) solo se tiene hijo izquierdo, entonces se sube al hijo izquierdo\n",
        "      if nodo_a_borrar.izq is not None and nodo_a_borrar.der is None:\n",
        "        nodo_a_borrar.izq.padre = nodo_a_borrar.padre\n",
        "        aux = nodo_a_borrar.padre\n",
        "        # revisamos si el nodo a borrar es un hijo izquiero o derecho\n",
        "        if es_izquierdo: # Caso2.2.1)\n",
        "          nodo_a_borrar.padre.izq = nodo_a_borrar.izq\n",
        "        else: # Caso2.2.2)\n",
        "          nodo_a_borrar.padre.der = nodo_a_borrar.izq\n",
        "        return aux\n",
        "\n",
        "      # Caso2.3) solo se tiene hijo derecho, entonces se sube al hijo derecho\n",
        "      if nodo_a_borrar.izq is None and nodo_a_borrar.der is not None:\n",
        "        nodo_a_borrar.der.padre = nodo_a_borrar.padre\n",
        "        aux = nodo_a_borrar.padre\n",
        "        # revisamos si el nodo a borrar es un hijo izquiero o derecho\n",
        "        if es_izquierdo: # Caso2.3.1)\n",
        "          nodo_a_borrar.padre.izq = nodo_a_borrar.der\n",
        "        else: # Caso2.3.2)\n",
        "          nodo_a_borrar.padre.der = nodo_a_borrar.der\n",
        "        return aux\n",
        "\n",
        "      # Caso2.4) tiene ambos hijos\n",
        "      if nodo_a_borrar.izq is not None and nodo_a_borrar.der is not None:\n",
        "        # buscamos el minimo en el subarbol derecho\n",
        "        minimo = self.minimo_en_subarbol(nodo_a_borrar.der)\n",
        "        aux = minimo.padre\n",
        "        nodo_a_borrar.dato = minimo.dato\n",
        "        self.borra_nodo(minimo, minimo.dato)\n",
        "        return aux\n",
        "  \n",
        "  ''' Borra un nodo que contiene a dato a partir de la raiz'''\n",
        "  def borrar(self, dato):\n",
        "    self.borra_nodo(self.raiz, dato)"
      ],
      "execution_count": 13,
      "outputs": []
    },
    {
      "cell_type": "markdown",
      "metadata": {
        "id": "UYylKrmDxuz8"
      },
      "source": [
        "# Métodos Importantes\n",
        "\n",
        "Lo primero que podemos notar, es que dado que la clase ABB hereda de la clase AB, entonces ya tenemos los siguientes métodos que no sufren cambios con respecto a la clase AB:\n",
        "\n",
        "*   `elimina`: borra todo el árbol.\n",
        "*   `nivel`: devuelve el nivel del nodo.\n",
        "*   `altura`: devuelve la altura de un nodo.\n",
        "*   `recorridos`: devuelve la altura de un nodo.\n",
        "\n",
        "Todos estos métodos no sufren cambios ya que funcionan exactamente igual que en la versión AB.\n",
        "\n",
        "Por otro lado los metodos que sufren cambios y que requiere un analizis más detallados son los siguientes: \n",
        "\n",
        "*   `busqueda`: busca un valor en el árbol.\n",
        "*   `insertar`: inserta un valor en el árbol a partir de la raíz.\n",
        "*   `borrar`: borra un valor del árbol a partir de la raíz.\n",
        "\n",
        "Para una mejor comprensión del funcionamiento de estos métodos harémos uso del programa *trees.jar* para mostrar de manera más detallada el funcionamiento de los mismos.\n"
      ]
    },
    {
      "cell_type": "markdown",
      "metadata": {
        "id": "wR_y6zaAKNRp"
      },
      "source": [
        "## `busqueda`\n",
        "\n",
        "La idea de este método es que se busque al nodo que contenga un determinado dato, en caso de el árbol no sea vació (`nodo is not None`), comenzamos a buscar al dato en el árbol.\n",
        "\n",
        "Supongamos que tenemos el siguiente ABB.\n",
        "\n",
        "<center>\n",
        "<img src=\"https://github.com/jugernaut/ManejoDatos/blob/desarrollo/Imagenes/AlgoritmosBusqueda/busqueda.png?raw=1\" width=\"500\"> \n",
        "</center>\n",
        "\n",
        "Y tratemos de buscar el nodo con el valor \"55\", dado que el ABB es no vacío lo primero que hacemos es comenzar a buscar desde la raíz, así que estos serían los pasos:\n",
        "\n",
        "*   Comparamos el valor 55 con el dato contenido en la raíz, como el valor 55 es mayor, ahora nos desplazamos al hijo derecho de la raíz.\n",
        "*   Comparamos el valor 55 con el dato contenido en el hijo derecho de la raíz, como el valor 55 es mayor, ahora nos desplazamos al hijo derecho del hijo derecho de la raíz.\n",
        "*   Comparamos el valor 55 con el dato contenido en el hijo derecho del hijo derecho de la raíz, como el valor 55 es igual al dato contenido con este nodo ya se localizo al dato y el método devuelve el nodo que contiene a dicho valor.\n",
        "\n",
        "<center>\n",
        "<img src=\"https://github.com/jugernaut/ManejoDatos/blob/desarrollo/Imagenes/AlgoritmosBusqueda/busqueda1.gif?raw=1\" width=\"700\"> \n",
        "</center>\n",
        "\n",
        "En caso de que el valor a buscar no exista en el árbol, aún así es necesario buscarlo en el mismo y en el mejor de los casos el máximo número de comparaciones realizadas sería logarítmica $O(\\log_{2}n)$ donde $n$ es el número de nodos.\n",
        "\n",
        "Supongamos que queremos bucar el valor 10 en el ABB.\n",
        "\n",
        "<center>\n",
        "<img src=\"https://github.com/jugernaut/ManejoDatos/blob/desarrollo/Imagenes/AlgoritmosBusqueda/busqueda2.gif?raw=1\" width=\"700\"> \n",
        "</center>\n",
        "\n"
      ]
    },
    {
      "cell_type": "markdown",
      "metadata": {
        "id": "BZvJyT7YVLlz"
      },
      "source": [
        "## `insertar`\n",
        "\n",
        "El proceso para poder insertar un valor en el ABB es muy similar al de la búsqueda, la diferencia principal radica en que en el momento de llegar a un nodo vacío (`None`) en ese momento se crea un nuevo nodo y establecen los vínculos de hijo y padre respectivamente.\n",
        "\n",
        "Tomando como ejemplo el mismo ABB usado previamente, veamos que sucede si tratamos de insertar el valor 43.\n",
        "\n",
        "*   Comparamos el valor 43 con el dato contenido en la raíz, como el valor 55 es mayor, ahora nos desplazamos al hijo derecho de la raíz.\n",
        "*   Comparamos el valor 43 con el dato contenido en el hijo derecho de la raíz (45), como el valor 43 es menor, ahora nos desplazamos al hijo izquierdo del hijo derecho de la raíz.\n",
        "*   Dado que ese nodo no existe (`None`), en ese momento ya encontramos la posición donde debe crearse el nuevo nodo, ademas de saber quien es el padre.\n",
        "\n",
        "<center>\n",
        "<img src=\"https://github.com/jugernaut/ManejoDatos/blob/desarrollo/Imagenes/AlgoritmosBusqueda/insertar.gif?raw=1\" width=\"700\"> \n",
        "</center>\n",
        "\n",
        "En caso de tratar de insertar un valor existente en el ABB, simplemente ya no se inserta, veamos que sucede si se trata de insertar el valor 55 nuevamente.\n",
        "\n",
        "<center>\n",
        "<img src=\"https://github.com/jugernaut/ManejoDatos/blob/desarrollo/Imagenes/AlgoritmosBusqueda/insertar2.gif?raw=1\" width=\"700\"> \n",
        "</center>"
      ]
    },
    {
      "cell_type": "markdown",
      "metadata": {
        "id": "pQz_5K2jbCYq"
      },
      "source": [
        "## `borrar`\n",
        "\n",
        "El método para eliminar un valor dentro de un ABB requiere un poco más de esfuerzo para cumplir con el orden dentro del ABB.\n",
        "\n",
        "El primer paso para eliminar un valor en un ABB es buscar dicho valor, si el valor no se encuentra en el árbol, no lo podemos eliminar por lo que podemos pensar que este caso junto con el caso de que el ABB sea un ABB vacío, son los **casos triviales**.\n",
        "\n",
        "Por otro lado, en caso de que el valor a eliminar si se encuentre dentro del ABB tenemos 2 opciones, localizar al mayor de los hijos izquierdos (máximo de los menores) ó localizar al menor de los hijos derechos (mínimo de los mayores). \n",
        "\n",
        "Cualquiera de estos 2 nodos (máximo de los mayores ó mínimo de los mayores), cumple con la cualidad de que al substituir el valor a eliminar con alguna de estas 2 opciones, **el orden se mantiene**.\n",
        "\n",
        "Los casos triviales ya no muestran, y solo verémos que sucede cuando el ABB es no vacío y el dato a eliminar si se encuentra en el ABB. Supongamos que queremos eliminar el valor 45 dentro del siguiente ABB.\n",
        "\n",
        "<center>\n",
        "<img src=\"https://github.com/jugernaut/ManejoDatos/blob/desarrollo/Imagenes/AlgoritmosBusqueda/eliminar.png?raw=1\" width=\"700\"> \n",
        "</center>\n",
        "\n",
        "Los dos posibles candidatos son el valor 48 (mínimo de los mayores) o el 44 (máximo de los menores), veamos.\n",
        "\n",
        "<center>\n",
        "<img src=\"https://github.com/jugernaut/ManejoDatos/blob/desarrollo/Imagenes/AlgoritmosBusqueda/minimo.gif?raw=1\" width=\"700\"> \n",
        "</center>"
      ]
    },
    {
      "cell_type": "markdown",
      "metadata": {
        "id": "wCjNPVvWnYvg"
      },
      "source": [
        "### ¿Más casos?\n",
        "\n",
        "Para ser honesto existen más casos, por ejemplo ¿qué sucede si el nodo a eliminar no tiene hijos? ó ¿qué sucede si solo tiene hijo izquierdo? ó ¿qué sucede si el nodo a eliminar es la raíz? ó ¿qué sucede si el mínimo tiene ambos hijos y a su vez estos tienen más hijos? 😮\n",
        "\n",
        "Todos estos casos, se explican de manera detallada tanto en código como en el programa *trees.jar*, así que **se deja como tarea al lector revisar y entender todos estos posibles casos**."
      ]
    },
    {
      "cell_type": "markdown",
      "metadata": {
        "id": "R4SCU6zxfq8X"
      },
      "source": [
        "# Pruebas\n",
        "\n",
        "Ahora podemos probar el código de los `ABB` y también ver el comportamiento de este ABB usando *trees.jar*."
      ]
    },
    {
      "cell_type": "code",
      "metadata": {
        "id": "i1O1XwoYhLTM",
        "colab": {
          "base_uri": "https://localhost:8080/"
        },
        "outputId": "9f395164-70a4-488e-c7b2-5eecc9dc6351"
      },
      "source": [
        "def main():\n",
        "  abb = ABB(10)\n",
        "  abb.insertar(5)\n",
        "  abb.insertar(6)\n",
        "  abb.insertar(3)\n",
        "  abb.insertar(15)\n",
        "  abb.insertar(12)\n",
        "  abb.insertar(17)\n",
        "  \n",
        "  print('Altura desde la raiz')\n",
        "  print(abb.altura(abb.raiz))\n",
        "  print('Nivel del nieto izquierdo de la raiz')\n",
        "  print(abb.nivel(abb.raiz.izq.izq))\n",
        "  print('recorido en orden')\n",
        "  abb.recorrido_enorden(abb.raiz)\n",
        "  print('recorido en preorden')\n",
        "  abb.recorrido_preorden(abb.raiz)\n",
        "  print('recorido en postorden')\n",
        "  abb.recorrido_postorden(abb.raiz)\n",
        "  \n",
        "  abb.borrar(5)\n",
        "  \n",
        "  print ('recorido en orden')\n",
        "  abb.recorrido_enorden(abb.raiz)\n",
        "\n",
        "if __name__ == \"__main__\":\n",
        "  # llamamos a la funcion main\n",
        "  main()"
      ],
      "execution_count": 16,
      "outputs": [
        {
          "output_type": "stream",
          "name": "stdout",
          "text": [
            "Altura desde la raiz\n",
            "3\n",
            "Nivel del nieto izquierdo de la raiz\n",
            "2\n",
            "recorido en orden\n",
            "3\n",
            "5\n",
            "6\n",
            "10\n",
            "12\n",
            "15\n",
            "17\n",
            "recorido en preorden\n",
            "10\n",
            "5\n",
            "3\n",
            "6\n",
            "15\n",
            "12\n",
            "17\n",
            "recorido en postorden\n",
            "3\n",
            "6\n",
            "5\n",
            "12\n",
            "17\n",
            "15\n",
            "10\n",
            "recorido en orden\n",
            "3\n",
            "6\n",
            "10\n",
            "12\n",
            "15\n",
            "17\n"
          ]
        }
      ]
    },
    {
      "cell_type": "markdown",
      "metadata": {
        "id": "I9S04mMzicv9"
      },
      "source": [
        "<center>\n",
        "<img src=\"https://github.com/jugernaut/ManejoDatos/blob/desarrollo/Imagenes/AlgoritmosBusqueda/abb.gif?raw=1\" width=\"700\"> \n",
        "</center>"
      ]
    },
    {
      "cell_type": "markdown",
      "metadata": {
        "id": "VQVRklBJj77O"
      },
      "source": [
        "Antes de eliminar el valor 5, el ABB se ve así.\n",
        "\n",
        "<center>\n",
        "<img src=\"https://github.com/jugernaut/ManejoDatos/blob/desarrollo/Imagenes/AlgoritmosBusqueda/abb1.png?raw=1\" width=\"700\"> \n",
        "</center>\n",
        "\n",
        "Podemos notar que la altura del ABB es 3 y el ABB tiene como máximo nivel el nivel 2, tal como se muestra en código.\n",
        "\n",
        "¡¡¡Comprueba que los recorridos que se muestran en la ejecución del código correspondan con las definiciones de dichos recorridos, posteriormente elimina el nodo con el valor 5 vuelve a comprobar los recorridos!!!."
      ]
    },
    {
      "cell_type": "markdown",
      "metadata": {
        "id": "WVOi8-09pDwL"
      },
      "source": [
        "# Referencias\n",
        "\n",
        "1.  Thomas H. Cormen: Introduction to Algorithms.\n",
        "2.  Referencias Libro Web: Introduccion a Python.\n",
        "3.  Referencias Daniel T. Joyce: Object-Oriented Data Structures.\n",
        "4.  Referencias John C. Mitchell: Concepts in programing Languages."
      ]
    }
  ]
}
