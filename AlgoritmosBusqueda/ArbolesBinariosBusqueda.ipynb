{
  "nbformat": 4,
  "nbformat_minor": 0,
  "metadata": {
    "colab": {
      "name": "04_03_ArbolesBinariosBusqueda.ipynb",
      "provenance": [],
      "toc_visible": true,
      "include_colab_link": true
    },
    "kernelspec": {
      "name": "python3",
      "display_name": "Python 3"
    },
    "language_info": {
      "name": "python"
    }
  },
  "cells": [
    {
      "cell_type": "markdown",
      "metadata": {
        "id": "view-in-github",
        "colab_type": "text"
      },
      "source": [
        "<a href=\"https://colab.research.google.com/github/jugernaut/ManejoDatos/blob/main/AlgoritmosBusqueda/ArbolesBinariosBusqueda.ipynb\" target=\"_parent\"><img src=\"https://colab.research.google.com/assets/colab-badge.svg\" alt=\"Open In Colab\"/></a>"
      ]
    },
    {
      "cell_type": "markdown",
      "metadata": {
        "id": "JmymMzF4lG93"
      },
      "source": [
        "<font color=\"Teal\" face=\"Comic Sans MS,arial\">\n",
        "  <h1 align=\"center\"><i>Arboles Binarios de Búsqueda</i></h1>\n",
        "  </font>\n",
        "  <font color=\"Black\" face=\"Comic Sans MS,arial\">\n",
        "  <h5 align=\"center\"><i>Profesor: M.en.C. Miguel Angel Pérez León</i></h5>\n",
        "  <h5 align=\"center\"><i>Ayudante: Jesús Iván Coss Calderón</i></h5>\n",
        "  <h5 align=\"center\"><i>Ayudante: Jonathan Ramírez Montes</i></h5>\n",
        "  <h5 align=\"center\"><i>Materia: Manejo de Datos</i></h5>\n",
        "</font>"
      ]
    },
    {
      "cell_type": "markdown",
      "metadata": {
        "id": "5c1BVdROlJ9T"
      },
      "source": [
        "# Introducción \n",
        "\n",
        "Los Arboles Binarios de Búsqueda (ABB) son la evolución de los Arboles Binarios, ya que los ABB además de cumplir con la definición y operaciones de los AB, incluyen una caracteristica muy importante, el orden en sus elementos.\n",
        "\n",
        "Podémos pensar que un ABB es un AB cuyos elementos se encuentran ordenados, esta forma de contruir estructuras sobre estructuras previamente definidas, es muy similar a la forma en como se constuyen conceptos en teoría de gráficas.\n",
        "\n",
        "Además haciendo uso de POO, podemos aprovechar esta forma de crear conceptos y algoritmos para reutilizar y aprovechar definiciones previamente construidas.\n"
      ]
    },
    {
      "cell_type": "markdown",
      "metadata": {
        "id": "rEMHdlKfnpwB"
      },
      "source": [
        "# Arboles Binarios de Búsqueda (Ordenados)\n",
        "\n",
        "Los Arboles Binarios de Búsqueda (u Ordenados) es una estructura de datos muy parecida a los arboles binarios, pero con la peculiaridad de que cada elemento que se agrega (o elimina) del árbol se lleva a cabo de tal manera que **se conserva un orden** dentro del mismo.\n",
        "\n",
        "Al conservarse un orden ya es posible realizar búsquedas dentro del árbol de manera más eficiente.\n",
        "\n",
        "Dado que las búsquedas se realizan de manera más eficiente esto **reduce considerablemente el orden de complejidad** al que pertenecen la mayoría de las posibles operaciones que se pueden realizar con este tipo de árboles.\n",
        "\n",
        "De manera informal diremos que en un árbol binario de búsqueda, cualquier nodo cumple con la característica de que todos sus hijos (nietos, descendientes, etc) **izquierdos contienen valores inferiores** al valor que contiene dicho nodo. Y por otro lado todos sus hijos **derechos contienen valores superiores** al valor de dicho nodo."
      ]
    },
    {
      "cell_type": "markdown",
      "metadata": {
        "id": "LvVFnjttnust"
      },
      "source": [
        "## Definición Formal \n",
        "\n",
        "***Arbol Binario de Búsqueda (ABB)***\n",
        "\n",
        "Sea $A$ un árbol binario con raíz $R$, hijos izquierdo y derecho (posiblemente nulos) $H_I$ y $H_D$, respectivamente. Diremos que $A$ es un ABB si y solo si se satisfacen las dos condiciones siguientes de manera simultanea:\n",
        "\n",
        "*    $H_I$ es vacío $\\lor$ ($R$ contiene un valor mayor que todo elemento de $H_I \\land H_I$ es un ABB).\n",
        "*    $H_D$ es vacío $\\lor$ ($R$ contiene un valor menor que todo elemento de $H_D \\land H_D$ es un ABB).\n",
        "\n",
        "Nota: Donde $\\land$ es la conjunción lógica \"y\", y $\\lor$ es la disyunción lógica \"o\".\n",
        "\n",
        "En la siguiente imagen se muestra un ABB.\n",
        "\n",
        "<center>\n",
        "<img src=\"https://github.com/jugernaut/ManejoDatos/blob/desarrollo/Imagenes/AlgoritmosBusqueda/abb.png?raw=1\" width=\"500\"> \n",
        "</center>"
      ]
    },
    {
      "cell_type": "markdown",
      "metadata": {
        "id": "8RkyR2Isn5A4"
      },
      "source": [
        "## Operaciones sobre ABB\n",
        "\n",
        "Al igual que con los AB, los ABB son caracterizados por el tipo de dato que almacena cada nodo, así como el conjunto de operaciones que se pueden llevar a cabo sobre estos.\n",
        "\n",
        "Las principales operaciones de los ABB podemos decir que se\n",
        "**heredan** de los AB, sin embargo dado que que los ABB se\n",
        "caracterizan por estar ordenados, las operaciones de insertar y eliminar nodos cambia, para que después de llevar a cabo alguna de estas operaciones, el árbol en cuestión, cumpla con la definición de ABB.\n",
        "\n",
        "Esta modificación, implica que en la mayoría de los casos las\n",
        "operaciones sobre los ABB se mantenga en el orden de **complejidad logarítmica $O(\\log_{2}n)$** donde $n$ es el número de nodos.\n",
        "\n",
        "Sin embargo no se puede garantizar que nunca se dará el caso\n",
        "degenerado del árbol, que es el peor caso, en el cual podemos pensar el ABB como una lista. En esta situación las operaciones son más costosas, llegando a **$O(n)$**."
      ]
    },
    {
      "cell_type": "markdown",
      "metadata": {
        "id": "GiTr9NyMf61D"
      },
      "source": [
        "## Clase Arbol Binario de Búsqueda `ABB`\n",
        "\n",
        "A continuación se muestra el código para la clase `ABB` y podemos notar que esta clase hereda de la clase `AB`, lo que significa que estas creado un árbol binario de búsqueda tomando un arbo binario como base.\n",
        "\n",
        "Para esto necesitamos incluir en nuestra sesió actual el jupyter de AB, eso lo hacemos con la siguiente celda."
      ]
    },
    {
      "cell_type": "code",
      "metadata": {
        "id": "nFwbfu6B1aIQ",
        "colab": {
          "base_uri": "https://localhost:8080/"
        },
        "outputId": "ec032584-8c4c-4cf6-b977-034d11e7fc28"
      },
      "source": [
        "!wget https://raw.githubusercontent.com/jugernaut/ManejoDatos/desarrollo/AlgoritmosBusqueda/ArbolesBinarios.ipynb\n",
        "!pip install import-ipynb"
      ],
      "execution_count": null,
      "outputs": [
        {
          "output_type": "stream",
          "name": "stdout",
          "text": [
            "--2021-11-04 07:59:36--  https://raw.githubusercontent.com/jugernaut/ManejoDatos/desarrollo/AlgoritmosBusqueda/ArbolesBinarios.ipynb\n",
            "Resolving raw.githubusercontent.com (raw.githubusercontent.com)... 185.199.110.133, 185.199.109.133, 185.199.111.133, ...\n",
            "Connecting to raw.githubusercontent.com (raw.githubusercontent.com)|185.199.110.133|:443... connected.\n",
            "HTTP request sent, awaiting response... 200 OK\n",
            "Length: 16821 (16K) [text/plain]\n",
            "Saving to: ‘ArbolesBinarios.ipynb’\n",
            "\n",
            "\rArbolesBinarios.ipy   0%[                    ]       0  --.-KB/s               \rArbolesBinarios.ipy 100%[===================>]  16.43K  --.-KB/s    in 0s      \n",
            "\n",
            "2021-11-04 07:59:36 (43.8 MB/s) - ‘ArbolesBinarios.ipynb’ saved [16821/16821]\n",
            "\n",
            "Collecting import-ipynb\n",
            "  Downloading import-ipynb-0.1.3.tar.gz (4.0 kB)\n",
            "Building wheels for collected packages: import-ipynb\n",
            "  Building wheel for import-ipynb (setup.py) ... \u001b[?25l\u001b[?25hdone\n",
            "  Created wheel for import-ipynb: filename=import_ipynb-0.1.3-py3-none-any.whl size=2975 sha256=cb2594b96202c3a133861b6720aa43dd02699a09b17f152790c4407d28c0f04e\n",
            "  Stored in directory: /root/.cache/pip/wheels/b1/5e/dc/79780689896a056199b0b9f24471e3ee184fbd816df355d5f0\n",
            "Successfully built import-ipynb\n",
            "Installing collected packages: import-ipynb\n",
            "Successfully installed import-ipynb-0.1.3\n"
          ]
        }
      ]
    },
    {
      "cell_type": "code",
      "metadata": {
        "id": "THYAYqDMd3IX"
      },
      "source": [
        "import import_ipynb\n",
        "from ArbolesBinarios import AB\n",
        "from ArbolesBinarios import Nodo\n",
        "\n",
        "''' Clase arbol, genera la estructura de un arbol binario, asi como sus funciones.'''\n",
        "class ABB(AB):\n",
        "  ''' Consructor de arboles'''\n",
        "  def __init__(self, dato):\n",
        "    super(ABB, self).__init__(dato)\n",
        "    self.ultimo_agregado = self.raiz\n",
        "\n",
        "  ''' Busca un dato en el arbol y devuelve el nodo'''\n",
        "  def busqueda(self, nodo, dato):\n",
        "    # si la raiz es None o el dato esta contenido en el nodo,\n",
        "    # se devuelve el nodo.\n",
        "    if nodo is None or nodo.dato == dato:\n",
        "      return nodo\n",
        "    # si el dato es mayo entonces se busca del lado derecho\n",
        "    if nodo.dato < dato:\n",
        "      return self.busqueda(nodo.der, dato)\n",
        "    # si no, se busca en el lado izquierdo\n",
        "    else:\n",
        "      return self.busqueda(nodo.izq, dato)\n",
        "\n",
        "  ''' Inserta un elemento en el arbol'''\n",
        "  def insertar_nodo(self, nodo, dato):\n",
        "    # si el nodo es vacio ahi se crea el nuevo nodo\n",
        "    if nodo is None:\n",
        "      nuevo_nodo = Nodo(dato)\n",
        "      self.ultimo_agregado = nuevo_nodo\n",
        "      return nuevo_nodo\n",
        "    # si el dato es menor que su padre, se inserta en el lado izquierdo\n",
        "    if dato < nodo.dato:\n",
        "      nuevo_nodo = self.insertar_nodo(nodo.izq, dato)\n",
        "      nodo.izq = nuevo_nodo\n",
        "      nuevo_nodo.padre = nodo\n",
        "    # de no ser asi se inserta del lado derecho\n",
        "    else:\n",
        "      nuevo_nodo = self.insertar_nodo(nodo.der, dato)\n",
        "      nodo.der = nuevo_nodo\n",
        "      nuevo_nodo.padre = nodo\n",
        "    #nodo guarda toda la ruta de donde sera insertado el dato\n",
        "    #hasta caer en el caso base, es por eso que se devuelve    \n",
        "    return nodo\n",
        "  \n",
        "  ''' Inserta un nodo en el arbol, a partir de la raiz'''\n",
        "  def insertar(self, dato):\n",
        "    #Se inserta el dato desde la raiz\n",
        "    self.insertar_nodo(self.raiz, dato)\n",
        "\n",
        "  ''' Busca el minimo en el subarbol a partir de nodo'''\n",
        "  def minimo_en_subarbol(self, nodo):\n",
        "    if nodo is None:\n",
        "      return nodo\n",
        "    if nodo.izq is None:\n",
        "      return nodo\n",
        "    return self.minimo_en_subarbol(nodo.izq)\n",
        "\n",
        "  ''' Borra un nodo en el arbol. Busca al nodo que contiene a dato\n",
        "      y en caso de existir lo borra'''\n",
        "  def borra_nodo(self, nodo, dato):\n",
        "    # Caso 0) revisamos si el arbol es vacio.\n",
        "    if self.raiz is None:\n",
        "      return None\n",
        "    # buscamos el nodo a borrar\n",
        "    nodo_a_borrar = self.busqueda(nodo, dato)\n",
        "    aux = nodo_a_borrar\n",
        "\n",
        "    # Caso 0.1) si el dato no se encontro en el arbol no se puede borrar\n",
        "    if nodo_a_borrar is None:\n",
        "      return None\n",
        "\n",
        "    # Caso 1) si el nodo a borrar es la RAIZ\n",
        "    if nodo_a_borrar is self.raiz:\n",
        "      # caso1.1) no tiene hijos, solo se borra la raiz\n",
        "      if nodo_a_borrar.izq is None and nodo_a_borrar.der is None:\n",
        "        self.raiz = None\n",
        "        self.ultimo_agregado = None\n",
        "        return None\n",
        "\n",
        "      # Caso1.2) solo se tiene hijo derecho, entonces se sube al hijo derecho\n",
        "      if nodo_a_borrar.izq is None and nodo_a_borrar.der is not None:\n",
        "        self.raiz = nodo_a_borrar.der\n",
        "        self.raiz.padre = None\n",
        "        return self.raiz\n",
        "\n",
        "      # Caso1.3) solo se tiene hijo izquierdo, entonces se sube al hijo izquierdo\n",
        "      if nodo_a_borrar.izq is not None and nodo_a_borrar.der is None:\n",
        "        self.raiz = nodo_a_borrar.izq\n",
        "        self.raiz.padre = None\n",
        "        return self.raiz\n",
        "\n",
        "      # Caso1.4) tiene ambos hijos\n",
        "      if nodo_a_borrar.izq is not None and nodo_a_borrar.der is not None:\n",
        "        # buscamos el minimo en el subarbol derecho (minimo de los mayores)\n",
        "        minimo = self.minimo_en_subarbol(nodo_a_borrar.der)\n",
        "        aux = minimo.padre\n",
        "        self.raiz.dato = minimo.dato\n",
        "        self.borra_nodo(minimo, minimo.dato)\n",
        "        return aux\n",
        "\n",
        "    else: #Caso 2)\n",
        "      # a partir de aqui se tienen 3 casos:\n",
        "      # si no tiene hijos simplemente se borra el nodo\n",
        "      # si tiene un solo hijo (ya sea izquierdo o derecho) se sube al unico hijo\n",
        "      # tiene ambos hijos\n",
        "\n",
        "      # es necesario identificar si el nodo a borrar es hijo izquierdo o derecho\n",
        "      es_izquierdo = False\n",
        "      if nodo_a_borrar.padre.izq == nodo_a_borrar:\n",
        "        es_izquierdo = True\n",
        "\n",
        "      # Caso2.1) no tiene hijos, solo se borra el nodo\n",
        "      if nodo_a_borrar.izq is None and nodo_a_borrar.der is None:\n",
        "        aux = nodo_a_borrar.padre\n",
        "        # revisamos si el nodo a borrar es un hijo izquiero o derecho\n",
        "        if es_izquierdo: # Caso2.1.1)\n",
        "          aux.izq = None\n",
        "        else: # Caso2.1.2)\n",
        "          aux.der = None\n",
        "        nodo_a_borrar = None\n",
        "        return aux\n",
        "      \n",
        "      # Caso2.2) solo se tiene hijo izquierdo, entonces se sube al hijo izquierdo\n",
        "      if nodo_a_borrar.izq is not None and nodo_a_borrar.der is None:\n",
        "        nodo_a_borrar.izq.padre = nodo_a_borrar.padre\n",
        "        aux = nodo_a_borrar.padre\n",
        "        # revisamos si el nodo a borrar es un hijo izquiero o derecho\n",
        "        if es_izquierdo: # Caso2.2.1)\n",
        "          nodo_a_borrar.padre.izq = nodo_a_borrar.izq\n",
        "        else: # Caso2.2.2)\n",
        "          nodo_a_borrar.padre.der = nodo_a_borrar.izq\n",
        "        return aux\n",
        "\n",
        "      # Caso2.3) solo se tiene hijo derecho, entonces se sube al hijo derecho\n",
        "      if nodo_a_borrar.izq is None and nodo_a_borrar.der is not None:\n",
        "        nodo_a_borrar.der.padre = nodo_a_borrar.padre\n",
        "        aux = nodo_a_borrar.padre\n",
        "        # revisamos si el nodo a borrar es un hijo izquiero o derecho\n",
        "        if es_izquierdo: # Caso2.3.1)\n",
        "          nodo_a_borrar.padre.izq = nodo_a_borrar.der\n",
        "        else: # Caso2.3.2)\n",
        "          nodo_a_borrar.padre.der = nodo_a_borrar.der\n",
        "        return aux\n",
        "\n",
        "      # Caso2.4) tiene ambos hijos\n",
        "      if nodo_a_borrar.izq is not None and nodo_a_borrar.der is not None:\n",
        "        # buscamos el minimo en el subarbol derecho\n",
        "        minimo = self.minimo_en_subarbol(nodo_a_borrar.der)\n",
        "        aux = minimo.padre\n",
        "        nodo_a_borrar.dato = minimo.dato\n",
        "        self.borra_nodo(minimo, minimo.dato)\n",
        "        return aux\n",
        "  \n",
        "  ''' Borra un nodo que contiene a dato a partir de la raiz'''\n",
        "  def borra(self, dato):\n",
        "    self.borra_nodo(self.raiz, dato)"
      ],
      "execution_count": null,
      "outputs": []
    },
    {
      "cell_type": "markdown",
      "metadata": {
        "id": "UYylKrmDxuz8"
      },
      "source": [
        "# Métodos Importantes\n",
        "\n",
        "Lo primero que podemos notar, es que dado que la clase ABB hereda de la clase AB, entonces ya tenemos los siguientes métodos que no sufren cambios con respecto a la clase AB:\n",
        "\n",
        "*   `elimina`: borra todo el árbol.\n",
        "*   `nivel`: devuelve el nivel del nodo.\n",
        "*   `altura`: devuelve la altura de un nodo.\n",
        "*   `recorridos`: devuelve la altura de un nodo.\n",
        "\n",
        "Todos estos métodos no sufren cambios ya que funcionan exactamente igual que en la versión AB.\n",
        "\n",
        "Por otro lado los metodos que sufren cambios y que requiere un analizis más detallados son los siguientes: \n",
        "\n",
        "*   `busqueda`: busca un valor en el árbol.\n",
        "*   `minimo_en_subarbol`: devuelve el mínimo a partir de un nodo.\n",
        "*   `insertar`: inserta un valor en el árbol.\n",
        "*   `borrar`: borra un valor del árbol.\n",
        "\n"
      ]
    },
    {
      "cell_type": "markdown",
      "metadata": {
        "id": "R4SCU6zxfq8X"
      },
      "source": [
        "Ahora podemos probar el código de los `ABB`."
      ]
    },
    {
      "cell_type": "code",
      "metadata": {
        "id": "i1O1XwoYhLTM",
        "colab": {
          "base_uri": "https://localhost:8080/"
        },
        "outputId": "c4defbe4-bacd-4d7d-8425-84ba622ebf25"
      },
      "source": [
        "def main():\n",
        "  abb = ABB(10)\n",
        "  abb.insertar(5)\n",
        "  abb.insertar(6)\n",
        "  abb.insertar(3)\n",
        "  abb.insertar(15)\n",
        "  abb.insertar(12)\n",
        "  abb.insertar(17)\n",
        "  \n",
        "  print('Altura desde la raiz')\n",
        "  print(abb.altura(abb.raiz))\n",
        "  print('Nivel del nieto izquierdo de la raiz')\n",
        "  print(abb.nivel(abb.raiz.izq.izq))\n",
        "  print('recorido en orden')\n",
        "  abb.recorrido_enorden(abb.raiz)\n",
        "  print('recorido en preorden')\n",
        "  abb.recorrido_preorden(abb.raiz)\n",
        "  print('recorido en postorden')\n",
        "  abb.recorrido_postorden(abb.raiz)\n",
        "  \n",
        "  abb.borra(5)\n",
        "  \n",
        "  print ('recorido en orden')\n",
        "  abb.recorrido_enorden(abb.raiz)\n",
        "\n",
        "main()"
      ],
      "execution_count": null,
      "outputs": [
        {
          "output_type": "stream",
          "name": "stdout",
          "text": [
            "Altura desde la raiz\n",
            "3\n",
            "Nivel del nieto izquierdo de la raiz\n",
            "2\n",
            "recorido en orden\n",
            "3\n",
            "5\n",
            "6\n",
            "10\n",
            "12\n",
            "15\n",
            "17\n",
            "recorido en preorden\n",
            "10\n",
            "5\n",
            "3\n",
            "6\n",
            "15\n",
            "12\n",
            "17\n",
            "recorido en postorden\n",
            "3\n",
            "6\n",
            "5\n",
            "12\n",
            "17\n",
            "15\n",
            "10\n",
            "recorido en orden\n",
            "3\n",
            "6\n",
            "10\n",
            "12\n",
            "15\n",
            "17\n"
          ]
        }
      ]
    },
    {
      "cell_type": "markdown",
      "metadata": {
        "id": "WVOi8-09pDwL"
      },
      "source": [
        "# Referencias\n",
        "\n",
        "1.  Thomas H. Cormen: Introduction to Algorithms.\n",
        "2.  Referencias Libro Web: Introduccion a Python.\n",
        "3.  Referencias Daniel T. Joyce: Object-Oriented Data Structures.\n",
        "4.  Referencias John C. Mitchell: Concepts in programing Languages."
      ]
    }
  ]
}