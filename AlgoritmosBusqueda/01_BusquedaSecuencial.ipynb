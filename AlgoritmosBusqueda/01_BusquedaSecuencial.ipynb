{
  "nbformat": 4,
  "nbformat_minor": 0,
  "metadata": {
    "colab": {
      "name": "01_BusquedaSecuencial.ipynb",
      "provenance": [],
      "toc_visible": true,
      "include_colab_link": true
    },
    "kernelspec": {
      "name": "python3",
      "display_name": "Python 3"
    },
    "language_info": {
      "name": "python"
    }
  },
  "cells": [
    {
      "cell_type": "markdown",
      "metadata": {
        "id": "view-in-github",
        "colab_type": "text"
      },
      "source": [
        "<a href=\"https://colab.research.google.com/github/jugernaut/ManejoDatos/blob/desarrollo/AlgoritmosBusqueda/01_BusquedaSecuencial.ipynb\" target=\"_parent\"><img src=\"https://colab.research.google.com/assets/colab-badge.svg\" alt=\"Open In Colab\"/></a>"
      ]
    },
    {
      "cell_type": "markdown",
      "metadata": {
        "id": "sHzqVFkZS8gi"
      },
      "source": [
        "<font color=\"Teal\" face=\"Comic Sans MS,arial\">\n",
        "  <h1 align=\"center\"><i>Búsqueda Secuencial</i></h1>\n",
        "  </font>\n",
        "  <font color=\"Black\" face=\"Comic Sans MS,arial\">\n",
        "  <h5 align=\"center\"><i>Profesor: M.en.C. Miguel Angel Pérez León</i></h5>\n",
        "  <h5 align=\"center\"><i>Ayudante: Jesús Iván Coss Calderón</i></h5>\n",
        "  <h5 align=\"center\"><i>Ayudante: Jonathan Ramirez Montes</i></h5>\n",
        "  <h5 align=\"center\"><i>Materia: Manejo de Datos</i></h5>\n",
        "  </font>"
      ]
    },
    {
      "cell_type": "markdown",
      "metadata": {
        "id": "T5lrtG35TPHg"
      },
      "source": [
        "# Introducción\n",
        "\n",
        "El algoritmo de búsqueda secuencial (o lineal) es uno de los algoritmos de búsqueda más sencillos de comprender y fáciles de implementar.\n",
        "\n",
        "La forma de trabajar de este algoritmo es iterar sobre la estructura de datos (lista, vector, colección, etc.) elemento por elemento hasta encontrar el dato buscado.\n",
        "\n",
        "Vale la pena recalcar que este algoritmo no pide prerequisito alguno y funciona en cualquier caso, sin importar la longitud o el orden en el que se encuentren los elementos de la colección."
      ]
    },
    {
      "cell_type": "markdown",
      "metadata": {
        "id": "KbdCyfv2T4b3"
      },
      "source": [
        "# Descripción\n",
        "\n",
        "De manera formal podemos describir el funcionamiento del algoritmo de la siguiente manera:\n",
        "\n",
        "1.   El algoritmo toma como entrada una colección de datos y un elemento ó dato a buscar.\n",
        "2.   Se itera (recorre) toda la colección, elemento por elemento y se compara cada elemento con el elemento que se busca.\n",
        "3.   Una vez localizado el elemento a buscar se devuelve el valor *True*, el índice de la colección donde se localizo el dato ó el elemento en si.\n",
        "4.   En caso de no encontrarse el elemento a buscar, se devuelve *False* o *None*.\n",
        "5.   Fin del algoritmo."
      ]
    },
    {
      "cell_type": "markdown",
      "metadata": {
        "id": "Mz9tfZ-sUdsC"
      },
      "source": [
        "# Análisis\n",
        "\n",
        "El análisis de la complejidad de este algoritmo es de lo más sencillo y para no perder la costumbre, tratemos de identificar el peor caso para poder comenzar con el análisis de la complejidad de este algoritmo.\n",
        "\n",
        "Para una colección de datos de longitud 0 ó 1, este algoritmo **realiza una sola operación**, ya que a lo más se tiene un elemento con el cuál comparar el dato a buscar\n",
        "\n",
        "En una colección de longitud 2 (y suponiedo que el dato a buscar se encuentra en la ultima localidad de la colección), este algoritmo **realiza 2 comparaciones**, una por cada elemento de la colección.\n",
        "\n",
        "Si se tiene una colección de longitud 3 (y considerando el peor caso), este algoritmo **realiza 3 comparaciones**.\n",
        "\n",
        "| Longit de la colección $(n)$ | Número de copmaraciones | \n",
        "| :-:           |           :-:              | \n",
        "| 1       | $T(1)=1$ | \n",
        "| 2       | $T(2)=2$ |\n",
        "| 3       | $T(3)=3$ |\n",
        "| ..      | ........ |\n",
        "| $n$       | $T(n)=?$ |"
      ]
    },
    {
      "cell_type": "markdown",
      "metadata": {
        "id": "p9dw-XZfU9-d"
      },
      "source": [
        "## ¿Qué sucede con colecciones de tamaño $n$?\n",
        "\n",
        "Supongamos que se tiene una colección $A$ de datos de longitud $n$ y se busca el dato $x$ (donde $x$ no está restringido a ser un valor numérico).\n",
        "\n",
        "$$\n",
        "A=\\underset{n-elementos}{\\underbrace{\\left[a\\right]_{0}\\left[b\\right]_{1}\\cdots\\left[x\\right]_{n-1}}}\n",
        "$$\n",
        "\n",
        "Es importante notar que hay diferencia entre el contenido de cada elemento y el índice que caracteriza a cada elemento, el algoritmo indica que se tiene que recorrer toda la colección (elemento por elemento) hasta localizar el dato $x$.\n",
        "\n",
        "De tal manera que el peor caso para este algoritmo sería cuando el dato a buscar se encuentra en la última posición de la colección (como se muestra en la imagen), ya que en ese caso el algoritmo tiene que realizar **$n$ comparaciones**, una por cada dato de la colección.\n",
        "\n",
        "Por lo tanto para una colección de datos de longitud $n$ este algoritmo realiza $n$ última, en otras palabras.\n",
        "\n",
        "$$\n",
        "T(n) \\in O(n)\n",
        "$$"
      ]
    },
    {
      "cell_type": "markdown",
      "metadata": {
        "id": "QYlAJsDnXYUX"
      },
      "source": [
        "## Demostración\n",
        "\n",
        "En este caso (y algunos otros) **no hace falta una demostración formal matemática** para mostrar que este algoritmo pertenece al orden lineal, basta con identificar el peor caso y justificar el número de comparaciones que este algoritmo realiza para colecciones de longitud arbitraria."
      ]
    },
    {
      "cell_type": "markdown",
      "metadata": {
        "id": "sIGxdX_5canB"
      },
      "source": [
        "# Búsqueda Secuencial (valores numéricos)\n",
        "\n",
        "En este ejemplo vamos a ver la versión de la búsqueda secuencial utilizando valores numéricos y más adelante mostramos el caso general con objetos.\n"
      ]
    },
    {
      "cell_type": "code",
      "metadata": {
        "id": "iuSyb2A5YWwO",
        "colab": {
          "base_uri": "https://localhost:8080/"
        },
        "outputId": "d4b6f341-7ec5-4b0f-ab31-a83b82743969"
      },
      "source": [
        "''' \n",
        "Algoritmo que implementa la búsqueda secuencial\n",
        "coleccion: coleccion de datos\n",
        "dato:      dato a buscar en la coleccion\n",
        "'''\n",
        "def b_secuencial(coleccion, valor):\n",
        "  for i in range(len(coleccion)):\n",
        "    if coleccion[i] == valor:\n",
        "      return i\n",
        "  return False\n",
        "\n",
        "# pruebas del algoritmo\n",
        "# coleccion de datos\n",
        "col = [0, -1, 19, 5, 25, 55]\n",
        "# dato a buscar\n",
        "valor = 55\n",
        "#valor = 105\n",
        "print(b_secuencial(col, valor))"
      ],
      "execution_count": null,
      "outputs": [
        {
          "output_type": "stream",
          "name": "stdout",
          "text": [
            "5\n"
          ]
        }
      ]
    },
    {
      "cell_type": "markdown",
      "metadata": {
        "id": "gcfm-WeEc0f2"
      },
      "source": [
        "En la implementación de la celda superior se busca un valor numérico y en caso de encontrar el valor se devuelve el indice (no el valor) del dato buscado.\n",
        "\n",
        "En otro caso se devuelve `False`, lo que indica que el valor no se encontraba en la colección."
      ]
    },
    {
      "cell_type": "markdown",
      "metadata": {
        "id": "jE5EfDJqarzY"
      },
      "source": [
        "# Paradigma Orientado a Objetos (POO)\n",
        "\n",
        "Hasta este momento hemos desarrollado algoritmos empleando el paradigma funcional, lo que quiere decir que todos nuestros algoritmos han sido definidos en forma de funciones (`def funcion()`).\n",
        "\n",
        "Sin embargo existen diferentes [paradigmas](https://www.4rsoluciones.com/blog/que-son-los-paradigmas-de-programacion-2/) de programación, por mencionar algunos:\n",
        "\n",
        "*   Funcional.\n",
        "*   Procedimental.\n",
        "*   Lógico.\n",
        "*   Orientado a objetos.\n",
        "\n",
        "En los problemas reales, los algoritmos no solo se aplican a valores numéricos (como se ha visto hasta el momento), de hecho en la gran mayoría de casos todo algoritmo tiene que resolver un problema que involucra **objetos** de manera general.\n",
        "\n",
        "Por lo tanto la finalidad de esta sección es mostrar como utilizar el paradigma orientado a objetos para adaptar los algoritmos vistos previamente (y los que veremos en el restos del curso) con la finalidad de que funcionen con cualquier clase de objeto, no únicamente valores numéricos.\n"
      ]
    },
    {
      "cell_type": "markdown",
      "metadata": {
        "id": "-2FOVkWddYXZ"
      },
      "source": [
        "## Definición de clases\n",
        "\n",
        "Las clases dentro del POO sirven para agrupar un conjunto de atributos y comportamientos que poseerán los elementos pertenecientes a esta clase.\n",
        "\n",
        "Por ejemplo supongamos que necesitamos aplicar los algoritmos del curso sobre los alumnos de la Facultad de Ciencias, por lo tanto necesitamos definir una clase que nos permita **abstraer las características que nos interese modelar** y sobretodo que nos permita generar **objetos de tipo alumno**.\n",
        "\n",
        "Por lo tanto vamos a generar la clase `AlumnoFC` que contendrá como atributos de cada alumno:\n",
        "\n",
        "*   Nombre.\n",
        "*   Número de cuenta.\n",
        "*   Calificaciones.\n",
        "\n",
        "Y como comportamientos (métodos) vamos tener:\n",
        "\n",
        "*   Constructor de alumnos: este método nos permite crear objetos de tipo alumno\n",
        "*   Operadores de comparación entre alumnos ($\\leq, \\ge$, =): estos métodos nos permiten establecer un orden entre los alumnos y sobretodo nos permitirá compararlos.\n",
        "*   Promedio: devuelve el promedio del alumno.\n",
        "\n",
        "A continuación se muestra la definición de la clase `AlumnoFC`.\n",
        "\n",
        "\n"
      ]
    },
    {
      "cell_type": "code",
      "metadata": {
        "id": "8_DjsTdijvDp",
        "colab": {
          "base_uri": "https://localhost:8080/",
          "height": 269
        },
        "outputId": "6697b253-369b-43fd-d659-63b003e56514"
      },
      "source": [
        "# Clase para generar objetos de tipo alumno\n",
        "class AlumnoFC(object):\n",
        "\n",
        "  # Constructor de alumnos\n",
        "  def __init__(self, nombre, numero_cuenta, calif):\n",
        "    self.nombre = nombre\n",
        "    self.numero_cuenta = numero_cuenta\n",
        "    self.calificaciones = calif\n",
        "\n",
        "  # Sobrecarga de los operadores de comparación\n",
        "  # Determina si un alumno es igual a otro\n",
        "  def iguales(self, otro):\n",
        "    if self.numero_cuenta == otro.numero_cuenta:\n",
        "      return True\n",
        "    else:\n",
        "      return False\n",
        "\n",
        "  # Indica si un alumnos es mayor o igual a otro\n",
        "  def mayor_que(self, otro):\n",
        "    if self.numero_cuenta >= otro.numero_cuenta:\n",
        "      return True\n",
        "    else:\n",
        "      return False\n",
        "\n",
        "  # Indica si un alumnos es menor o igual a otro\n",
        "  def menor_que(self, otro):\n",
        "    if self.numero_cuenta <= otro.numero_cuenta:\n",
        "      return True\n",
        "    else:\n",
        "      return False\n",
        "  \n",
        "  def promedio(self):\n",
        "    promedio = sum(self.calificaciones)/len(self.calificaciones)\n",
        "    return promedio\n",
        "\n",
        "# Pruebas de la clase AlumnosFC\n",
        "Mike = AlumnoFC('Miguel Angel Perez Leon', 30134563, [10, 10, 10, 9, 10])\n",
        "Aitor = AlumnoFC('Peter', 20134563, [8, 10, 9, 9, 10])\n",
        "\n",
        "# Pruebas del metodo promedio\n",
        "print(Mike.promedio())\n",
        "print(Aitor.promedio())\n",
        "\n",
        "# Prueba de comparacion DESCOMENTAR PARA VER ERROR\n",
        "#print(Mike <= Aitor)\n",
        "\n",
        "# Prueba del metodo iguales\n",
        "print(Mike.iguales(Aitor))\n",
        "print(Mike.iguales(Mike))"
      ],
      "execution_count": null,
      "outputs": [
        {
          "output_type": "stream",
          "name": "stdout",
          "text": [
            "9.8\n",
            "9.2\n"
          ]
        },
        {
          "output_type": "error",
          "ename": "TypeError",
          "evalue": "ignored",
          "traceback": [
            "\u001b[0;31m---------------------------------------------------------------------------\u001b[0m",
            "\u001b[0;31mTypeError\u001b[0m                                 Traceback (most recent call last)",
            "\u001b[0;32m<ipython-input-10-0eb20c9f21df>\u001b[0m in \u001b[0;36m<module>\u001b[0;34m()\u001b[0m\n\u001b[1;32m     43\u001b[0m \u001b[0;34m\u001b[0m\u001b[0m\n\u001b[1;32m     44\u001b[0m \u001b[0;31m# Prueba de comparacion\u001b[0m\u001b[0;34m\u001b[0m\u001b[0;34m\u001b[0m\u001b[0;34m\u001b[0m\u001b[0m\n\u001b[0;32m---> 45\u001b[0;31m \u001b[0mprint\u001b[0m\u001b[0;34m(\u001b[0m\u001b[0mMike\u001b[0m \u001b[0;34m<=\u001b[0m \u001b[0mAitor\u001b[0m\u001b[0;34m)\u001b[0m\u001b[0;34m\u001b[0m\u001b[0;34m\u001b[0m\u001b[0m\n\u001b[0m\u001b[1;32m     46\u001b[0m \u001b[0;34m\u001b[0m\u001b[0m\n\u001b[1;32m     47\u001b[0m \u001b[0;31m# Prueba del metodo iguales\u001b[0m\u001b[0;34m\u001b[0m\u001b[0;34m\u001b[0m\u001b[0;34m\u001b[0m\u001b[0m\n",
            "\u001b[0;31mTypeError\u001b[0m: '<=' not supported between instances of 'AlumnoFC' and 'AlumnoFC'"
          ]
        }
      ]
    },
    {
      "cell_type": "markdown",
      "metadata": {
        "id": "7P-nJ2jpkq8g"
      },
      "source": [
        "## Sobrecarga de Operadores (*Overload*)\n",
        "\n",
        "En la primera definición de la clase `AlumnoFC` podemos ver una versión temprana de la implementación de las características que nos interesa modelos de los alumnos de la Facultad de Ciencias, sin embargo tiene un problema.\n",
        "\n",
        "El problema radica en la definición de los métodos de comparación (`iguales, mayor_que, menor_que`) ya que en caso de que quisiéramos usar nuestros algoritmos de ordenamiento o de búsqueda con objetos de la clase `AlumnoFC` tendríamos que cambiar todo signo $==,\\geq,\\leq$ por su respectivo método de la clase `AlumnoFC`.\n",
        "\n",
        "Sin embargo la POO y en particular *Python 3.x* nos proporciona un mecanismo conocido como **Sobrecarga de Operadores**, lo que significa que mediante código, redefiniendo los operadores de comparación podemos ahorrarnos el trabajo de cambiar los operadores de comparación y utilizar de manera natural los algoritmos de ordenamiento y de búsqueda vistos hasta el momento.\n",
        "\n",
        "Los 3 métodos principales que se tienen que sobrecargar (*overload*) son:\n",
        "\n",
        "*   `iguales`: se substituye por `__eq__` y corresponde al operador de comparación $==$.\n",
        "*   `mayor_que`: se substituye por `__ge__` y corresponde al operador de comparación $\\geq$.\n",
        "*   `menor_que`: se substituye por `__le__` y corresponde al operador de comparación $\\leq$.\n",
        "\n",
        "Existen más operadores que puede ser sobrecargados pero **para nuestros algoritmos, basta con estos**."
      ]
    },
    {
      "cell_type": "code",
      "metadata": {
        "id": "eIjchSbjfvXR",
        "colab": {
          "base_uri": "https://localhost:8080/"
        },
        "outputId": "8dcfaec3-c0ef-4b7e-d845-504d3e72b9dc"
      },
      "source": [
        "# Clase para generar objetos de tipo alumno\n",
        "class AlumnoFC(object):\n",
        "\n",
        "  # Constructor de alumnos\n",
        "  def __init__(self, nombre, numero_cuenta, calif):\n",
        "    self.nombre = nombre\n",
        "    self.numero_cuenta = numero_cuenta\n",
        "    self.calificaciones = calif\n",
        "\n",
        "  # Sobrecarga de los operadores de comparación\n",
        "  # Determina si un alumno es igual a otro\n",
        "  def __eq__(self, otro):\n",
        "    if self.numero_cuenta == otro.numero_cuenta:\n",
        "      return True\n",
        "    else:\n",
        "      return False\n",
        "\n",
        "  # Indica si un alumnos es mayor o igual a otro\n",
        "  def __ge__(self, otro):\n",
        "    if self.numero_cuenta >= otro.numero_cuenta:\n",
        "      return True\n",
        "    else:\n",
        "      return False\n",
        "\n",
        "  # Indica si un alumnos es menor o igual a otro\n",
        "  def __le__(self, otro):\n",
        "    if self.numero_cuenta <= otro.numero_cuenta:\n",
        "      return True\n",
        "    else:\n",
        "      return False\n",
        "  \n",
        "  def promedio(self):\n",
        "    promedio = sum(self.calificaciones)/len(self.calificaciones)\n",
        "    return promedio\n",
        "\n",
        "# Pruebas con la clase AlumnosFC\n",
        "Mike = AlumnoFC('Miguel Angel Perez Leon', 30134563, [10, 10, 10, 9, 10])\n",
        "Aitor = AlumnoFC('Aitor', 20134563, [8, 10, 9, 9, 10])\n",
        "Pete = AlumnoFC('Peter', 110134563, [9, 8, 8, 9, 10])\n",
        "\n",
        "# Prueba de operadores\n",
        "print(Mike == Mike)\n",
        "print(Mike <= Aitor)\n",
        "print(Pete >= Mike)\n",
        "\n",
        "# Coleccion de alumnos \n",
        "alumnos = [Mike, Aitor, Pete]\n",
        "# Alumno a buscar\n",
        "dato = AlumnoFC('Peter', 110134563, [9, 8, 8, 9, 10])\n",
        "\n",
        "print(b_secuencial(alumnos, dato))\n",
        "\n"
      ],
      "execution_count": null,
      "outputs": [
        {
          "output_type": "stream",
          "name": "stdout",
          "text": [
            "True\n",
            "False\n",
            "True\n",
            "2\n"
          ]
        }
      ]
    },
    {
      "cell_type": "markdown",
      "metadata": {
        "id": "WDYVwYufp0-m"
      },
      "source": [
        "¡Perfecto!, ya podemos utilizar la `b_secuencial` que definimos previamente para valores numéricos, pero ahora la estamos usando con objetos de la clase `AumnosFC` y lo mejor es que no tuvimos que realizar cambios sobre el algoritmo de búsqueda secuencial visto previamente, ahora podemos buscar alumnos.\n",
        "\n",
        "Queda como tarea moral (conveniente hacerlo antes del examen) ¿qué se debe hacer para poder emplear los algoritmos de ordenamiento para ordenar objetos de tipo `AumnosFC`."
      ]
    },
    {
      "cell_type": "markdown",
      "metadata": {
        "id": "hiNbT80EdmCW"
      },
      "source": [
        "# Referencias\n",
        "\n",
        "* Thomas H. Cormen: Introduction to Algorithms.\n",
        "* Referencias Libro Web: Introduccion a Python.\n",
        "* Referencias Daniel T. Joyce: Object-Oriented Data Structures.\n",
        "* Referencias John C. Mitchell: Concepts in programing Languages."
      ]
    }
  ]
}