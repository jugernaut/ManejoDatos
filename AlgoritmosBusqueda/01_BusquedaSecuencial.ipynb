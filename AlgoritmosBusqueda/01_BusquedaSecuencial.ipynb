{
  "nbformat": 4,
  "nbformat_minor": 0,
  "metadata": {
    "colab": {
      "name": "01_BusquedaSecuencial.ipynb",
      "provenance": [],
      "toc_visible": true,
      "include_colab_link": true
    },
    "kernelspec": {
      "name": "python3",
      "display_name": "Python 3"
    },
    "language_info": {
      "name": "python"
    }
  },
  "cells": [
    {
      "cell_type": "markdown",
      "metadata": {
        "id": "view-in-github",
        "colab_type": "text"
      },
      "source": [
        "<a href=\"https://colab.research.google.com/github/jugernaut/ManejoDatos/blob/desarrollo/AlgoritmosBusqueda/01_BusquedaSecuencial.ipynb\" target=\"_parent\"><img src=\"https://colab.research.google.com/assets/colab-badge.svg\" alt=\"Open In Colab\"/></a>"
      ]
    },
    {
      "cell_type": "markdown",
      "metadata": {
        "id": "sHzqVFkZS8gi"
      },
      "source": [
        "<font color=\"Teal\" face=\"Comic Sans MS,arial\">\n",
        "  <h1 align=\"center\"><i>Búsqueda Secuencial</i></h1>\n",
        "  </font>\n",
        "  <font color=\"Black\" face=\"Comic Sans MS,arial\">\n",
        "  <h5 align=\"center\"><i>Profesor: M.en.C. Miguel Angel Pérez León</i></h5>\n",
        "  <h5 align=\"center\"><i>Ayudante: Jesús Iván Coss Calderón</i></h5>\n",
        "  <h5 align=\"center\"><i>Ayudante: Jonathan Ramirez Montes</i></h5>\n",
        "  <h5 align=\"center\"><i>Materia: Manejo de Datos</i></h5>\n",
        "  </font>"
      ]
    },
    {
      "cell_type": "markdown",
      "metadata": {
        "id": "T5lrtG35TPHg"
      },
      "source": [
        "# Introducción\n",
        "\n",
        "El algoritmo de busnqueda secuencial (o lineál) es uno de los algoritmos de búsqueda más sencillos de comprender y fáciles de implementar.\n",
        "\n",
        "La forma de trabajar de este algoritmo es iterar sobre la estructura de datos (lista, vector, colección, etc.) elemento por elemento hasta encontrar el dato buscado.\n",
        "\n",
        "Vale la pena recalcar que este algoritmo no pide prerequisito alguno y funciona en cualquier caso, sin importar la longitud o el orden en el que se encuentren los elementos de la colección."
      ]
    },
    {
      "cell_type": "markdown",
      "metadata": {
        "id": "KbdCyfv2T4b3"
      },
      "source": [
        "# Descripción\n",
        "\n",
        "De manera formal podemos describir el funcionamiento del algoritmo de la siguiente manera:\n",
        "\n",
        "1.   El algoritmo toma como entrada una colección de datos y un elemento ó dato a buscar.\n",
        "2.   Se itera (recorre) toda la colección, elemento por elemento y se compara cada elemento con el elemento que se busca.\n",
        "3.   Una vez localizado el elemento a buscar se devuelve el valor *True*, el índice de la colección donde se localizo el dato ó el elemento en si.\n",
        "4.   En caso de no encontrarse el elemento a buscar, se devuelve *False* o *None*.\n",
        "5.   Fin del algoritmo."
      ]
    },
    {
      "cell_type": "markdown",
      "metadata": {
        "id": "Mz9tfZ-sUdsC"
      },
      "source": [
        "# Análisis\n",
        "\n",
        "El análisis de la complejidad de este algoritmo es de lo más sencillo y para no perder la costumbre, tratemos de identificar el peor caso para poder comenzar con el análisis de la complejidad de este algoritmo.\n",
        "\n",
        "Para una colección de datos de longitud 0 ó 1, este algoritmo **realiza una sola operación**, ya que a lo más se tiene un elemento con el cuál compar el dato a buscar\n",
        "\n",
        "En una colección de longitud 2 (y suponinedo que el dato a buscar se encuentra en la ultima localidad de la colección), este algoritmo **realiza 2 comparaciones**, una por cada elemento de la colección.\n",
        "\n",
        "Si se tiene una colección de longitud 3 (y considerando el peor caso), este algoritmo **realiza 3 comparaciones**.\n",
        "\n",
        "| Longit de la colección $(n)$ | Número de copmaraciones | \n",
        "| :-:           |           :-:              | \n",
        "| 1       | $T(1)=1$ | \n",
        "| 2       | $T(2)=2$ |\n",
        "| 3       | $T(3)=3$ |\n",
        "| ..      | ........ |\n",
        "| $n$       | $T(n)=?$ |"
      ]
    },
    {
      "cell_type": "markdown",
      "metadata": {
        "id": "p9dw-XZfU9-d"
      },
      "source": [
        "## ¿Qué sucede con colecciones de tamaño $n$?\n",
        "\n",
        "Supongamos que se tiene una colección $A$ de datos de longitud $n$ y se busca el dato $x$ (donde $x$ no está restringido a ser un valor numérico).\n",
        "\n",
        "$$\n",
        "A=\\underset{n-elementos}{\\underbrace{\\left[a\\right]_{0}\\left[b\\right]_{1}\\cdots\\left[x\\right]_{n-1}}}\n",
        "$$\n",
        "\n",
        "Es importante notar que hay diferencia entre el contenido de cada elemento y el índice que caracteriza a cada elemento, el algoritmo indica que se tiene que recorrer toda la colección (elemento por elemento) hasta localizar el dato $x$.\n",
        "\n",
        "De tal manera que el peor caso para este algoritmo sería cuando el dato a buscar se encuentra en la útima posición de la colección (como se muestra en la imagen), ya que en ese caso el algoritmo tiene que realizar **$n$ comparaciones**, una por cada dato de la colección.\n",
        "\n",
        "Por lo tanto para una colección de datos de longitud $n$ este algoritmo realiza $n$ compraciones, en otras palabras.\n",
        "\n",
        "$$\n",
        "T(n) \\in O(n)\n",
        "$$"
      ]
    },
    {
      "cell_type": "markdown",
      "metadata": {
        "id": "QYlAJsDnXYUX"
      },
      "source": [
        "## Demostración\n",
        "\n",
        "En este caso (y algunos otros) **no hace falta una demostración formal matemática** para mostrar que este algoritmo pertenece al orden lineal, basta con identificar el peor caso y justificar el número de comparaciones que este algoritmo realiza para colecciones de longitud arbirtraria."
      ]
    },
    {
      "cell_type": "markdown",
      "metadata": {
        "id": "FZoa-33-aGV3"
      },
      "source": [
        "En este caso (y algunos otros) **no hace falta una demostración formal matemática** para mostrar que este algoritmo pertenece al orden lineal, basta con identificar el peor caso y justificar el número de comparaciones que este algoritmo realiza para colecciones de longitud arbirtraria.\n"
      ]
    },
    {
      "cell_type": "markdown",
      "metadata": {
        "id": "sIGxdX_5canB"
      },
      "source": [
        "# Búsqueda secuencial (valores numéricos)\n",
        "\n",
        "En este ejemplo vamos a ver la versión de la búsqueda secuencial utilizando valores numéricos y más adelante mostramos el caso general con objetos.\n"
      ]
    },
    {
      "cell_type": "code",
      "metadata": {
        "id": "iuSyb2A5YWwO",
        "outputId": "55d57d98-6657-45ac-ffbd-bf27a1a2b2f2",
        "colab": {
          "base_uri": "https://localhost:8080/"
        }
      },
      "source": [
        "''' Algoritmo que implementa la búsqueda secuencial\n",
        "    coleccion: coleccion de datos\n",
        "    dato?      dato a buscar en la coleccion\n",
        "'''\n",
        "def b_secuencial(coleccion, valor):\n",
        "  for i in range(len(coleccion)):\n",
        "    if coleccion[i] == valor:\n",
        "      return i\n",
        "  return False\n",
        "\n",
        "# pruebas del algoritmo\n",
        "# coleccion de datos\n",
        "col = [0, -1, 19, 5, 25, 55]\n",
        "# dato a buscar\n",
        "valor = 55\n",
        "#valor = 105\n",
        "print(b_secuencial(col, valor))"
      ],
      "execution_count": 3,
      "outputs": [
        {
          "output_type": "stream",
          "name": "stdout",
          "text": [
            "5\n"
          ]
        }
      ]
    },
    {
      "cell_type": "markdown",
      "metadata": {
        "id": "gcfm-WeEc0f2"
      },
      "source": [
        "En la implementación de la celda superior se busca un valor numérico y en caso de encontrar el valor se devuelve el indice (no el valor) del dato buscado.\n",
        "\n",
        "En otro caso se devuelve False, lo que indica que el valor no se encontraba en la colección."
      ]
    },
    {
      "cell_type": "markdown",
      "metadata": {
        "id": "Z6oqB29zdhAC"
      },
      "source": [
        "##**Apendice**"
      ]
    },
    {
      "cell_type": "markdown",
      "metadata": {
        "id": "hiNbT80EdmCW"
      },
      "source": [
        "### Referencias\n",
        "\n",
        "* Thomas H. Cormen: Introduction to Algorithms.\n",
        "\n",
        "* Referencias Libro Web: Introduccion a Python.\n",
        "\n",
        "* Referencias Daniel T. Joyce: Object-Oriented Data Structures.\n",
        "\n",
        "* Referencias John C. Mitchell: Concepts in programing Languages."
      ]
    }
  ]
}