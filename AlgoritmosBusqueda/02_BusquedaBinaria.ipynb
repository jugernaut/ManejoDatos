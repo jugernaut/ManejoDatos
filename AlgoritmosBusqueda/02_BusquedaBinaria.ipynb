{
  "nbformat": 4,
  "nbformat_minor": 0,
  "metadata": {
    "colab": {
      "name": "Busqueda_Binaria_analisis.ipynb",
      "provenance": [],
      "toc_visible": true,
      "include_colab_link": true
    },
    "kernelspec": {
      "name": "python3",
      "display_name": "Python 3"
    },
    "language_info": {
      "name": "python"
    }
  },
  "cells": [
    {
      "cell_type": "markdown",
      "metadata": {
        "id": "view-in-github",
        "colab_type": "text"
      },
      "source": [
        "<a href=\"https://colab.research.google.com/github/jugernaut/ManejoDatos/blob/desarrollo/AlgoritmosBusqueda/02_BusquedaBinaria.ipynb\" target=\"_parent\"><img src=\"https://colab.research.google.com/assets/colab-badge.svg\" alt=\"Open In Colab\"/></a>"
      ]
    },
    {
      "cell_type": "markdown",
      "metadata": {
        "id": "sHzqVFkZS8gi"
      },
      "source": [
        "<font color=\"Teal\" face=\"Comic Sans MS,arial\">\n",
        "  <h1 align=\"center\"><i>Búsqueda Binaria</i></h1>\n",
        "  </font>\n",
        "  <font color=\"Black\" face=\"Comic Sans MS,arial\">\n",
        "  <h5 align=\"center\"><i>Profesor: M.en.C. Miguel Angel Pérez León</i></h5>\n",
        "  <h5 align=\"center\"><i>Ayudante: Jesús Iván Coss Calderón</i></h5>\n",
        "  <h5 align=\"center\"><i>Ayudante: Jonathan Ramírez Montes</i></h5>\n",
        "  <h5 align=\"center\"><i>Materia: Manejo de Datos</i></h5>\n",
        "  </font>"
      ]
    },
    {
      "cell_type": "markdown",
      "metadata": {
        "id": "T5lrtG35TPHg"
      },
      "source": [
        "# Introducción\n",
        "\n",
        "Para este algoritmo vamos a pensarlo de forma adelantada a un tema de análisis numérico. Imaginemos que queremos encontrar la raíz de una función $f(x)$ en el intervalo $[a,b]$.\n",
        "\n",
        "<center>\n",
        "<img src=\"https://github.com/jugernaut/Numerico2021/blob/master/Figuras/raicesNumericas/esqbis.PNG?raw=1\" width=\"700\">\n",
        "</center>\n",
        "\n",
        "Lo más sencillo es partir el intervalo $[a,b]$ por la mitad y preguntarnos ¿qué sucede con ese valor al ser evaluado bajo $f(x)$.\n",
        "\n",
        "$$x_{1}=a+\\frac{b-a}{2}=\\frac{2a+b-a}{2}=\\frac{a+b}{2} \\tag{1}$$\n",
        "\n",
        "Para obtener el $n$-esimo punto medio, la ecuación seria:\n",
        "\n",
        "$$x_{n}=\\frac{a_{n-1}+b_{n-1}}{2} \\tag{2}$$\n",
        "\n",
        "A la ecuación (2) se le denomina método iterativo del punto medio, actualizando iterativamente los valores de $a$ y $b$ de la siguiente forma.\n",
        "\n",
        "Se verifican los signos de $f(a)*f(x_{n})$ y $f(x_{n})*f(b)$, para saber en que subintervalo se encuentra la raíz:\n",
        "\n",
        "*   Si $f(a)*f(x_{n})<0$, entonces en el subintervalo $[a,x_{n}]$ se encuentra la raíz, renombrando $a=a$ y $b=x_{n}$.\n",
        "*   Si $f(a)*f(x_{n})>0$, entonces en el subintervalo $[x_{n},b]$ se encuentra la raíz, renombrando $a=x_{n}$ y $b=b$.\n",
        "\n",
        "Después de un número suficiente de iteraciones, la aproximación $x_n$ es lo suficientemente cercana a la raíz de $f(x)$.\n",
        "\n",
        "En nuestro caso (Manejo de Datos) a este algoritmo se le conoce como **Búsqueda Binaria** y es más sencillo que el algoritmo descrito previamente, en la mayoría de los casos este algoritmo busca índices sobre los $\\mathbb{N}$ ya que este campo es el que da orden a los datos y no tiene sentido tener valores negativos o racionales, aunque este algoritmo puede ser aplicado sobre cualquier colección ordenada, sea cual sea el tipo de dato de la colección."
      ]
    },
    {
      "cell_type": "markdown",
      "metadata": {
        "id": "X4irpssgPuh0"
      },
      "source": [
        "# Descipición del agoritmo\n",
        "\n",
        "Como prerequisito este algoritmo requiere que la búsqueda debe realizarse sobre **datos ordenados** y es muy sencillo.\n",
        "\n",
        "Sea $n$ la longitud de la colección de datos sobre los cuales se realizará la búsqueda, lo primero es partir la longitud de la colección de datos a la mitad y preguntar si el dato que se busca se encuentra en ese índice o localidad.\n",
        "\n",
        "Si se encuentra ahí termina la búsqueda, en caso contrario se ajustan los limites de la búsqueda y se vuelve a realizar el mismo proceso hasta encontrar el dato.\n",
        "\n",
        "De manera más formal podemos describir el algoritmo de la siguiente forma.\n",
        "\n",
        "1.   Se recibe un dato a buscar y una colección de datos de longitud $n$, si $n < 1$ el algoritmo termina y se devuelve `False`.\n",
        "2.   Se toma la longitud de la lista y se divide por la mitad (división entera), a este valor le decimos \"mitad\", si el contenido de la colección en la posición mitad es el dato a buscar, el algoritmo termina y devuelve `True`.\n",
        "3.   Si el contenido de la colección en el índice mitad es menor que el dato a buscar, volvemos al paso 2 pero ahora con la colección desde el índice mitad y hasta el final de la misma.\n",
        "4.   Si el contenido de la colección en el índice mitad es mayor que el dato a buscar, volvemos al paso 2 pero ahora con la colección desde el primer índice de la colección y hasta mitad.\n",
        "5.   Si después de partir la colección suficientes veces se tiene una lista de longitud 0, entonces el dato nunca estuvo en la colección y se devuelve `False`, lo que significa que el dato a buscar no pertenece a la colección.\n",
        "\n"
      ]
    },
    {
      "cell_type": "markdown",
      "metadata": {
        "id": "kg6_8TGwU3nw"
      },
      "source": [
        "# Pseudocódigo\n",
        "\n",
        "\n",
        "<center>\n",
        "<img src=\"https://github.com/jugernaut/ManejoDatos/blob/desarrollo/Imagenes/AlgoritmosBusqueda/busBR.png?raw=1\" width=\"600\"> \n",
        "</center>\n"
      ]
    },
    {
      "cell_type": "markdown",
      "metadata": {
        "id": "Mz9tfZ-sUdsC"
      },
      "source": [
        "## Análisis\n",
        "\n",
        "Para el caso cuando se requiere buscar un elemento en una colección (lista) de tamaño 1 (o 0 caso trivial), basta con realizar a lo más una comparación, lo cual toma tiempo constante, digamos $b$.\n",
        "\n",
        "Es importante recalcar que este algoritmo pide como requisito que los **elementos de la colección se encuentren ordenados**. Para el caso de una colección de tamaño 2 ó mayor, es necesario partir a la mitad dicha colección y preguntar si el elemento se encuentra en la localidad de la mitad de la colección, en caso de no ser así es, es necesario verificar si el elemento que se busca es mayor o menor al elemento que se encuentra a la mitad de la colección. Y dependiendo de la comparación se descarta una de las 2 mitades y se procede a buscar al elemento en la otra mitad.\n",
        "\n",
        "Es por esto que buscar un elemento en una colección de tamaño $n$ tomará en total $T(\\frac{n}{2})+a$. Donde $a$ es el tiempo que le toma al dispositivo de cómputo realizar la comparación para saber si el elemento buscado se encuentra a la mitad de la colección."
      ]
    },
    {
      "cell_type": "markdown",
      "metadata": {
        "id": "p9dw-XZfU9-d"
      },
      "source": [
        "## ¿Qué sucede con colecciones de tamaño $n$?\n",
        "\n",
        "Dado el análisis (y el pseudocódigo del algoritmo) podemos ver que buscar un dato en una colección de tamaño $n$ tomara $T(\\frac{n}{2})+a$. Pero este valor aún no permite identificar a que orden de complejidad pertenece este algoritmo.\n",
        "\n",
        "Es por eso que necesitamos definir la **función de recurrencia** de la siguiente forma.\n",
        "\n",
        "Función de recurrencia para el algoritmo de búsqueda binaria:\n",
        "\n",
        "$$T(n)=\\begin{cases}\n",
        "b, & n=0\\,\\acute{o}\\,n=1\\\\\n",
        "T(\\frac{n}{2})+a & n\\geq2\n",
        "\\end{cases}$$\n"
      ]
    },
    {
      "cell_type": "markdown",
      "metadata": {
        "id": "QYlAJsDnXYUX"
      },
      "source": [
        "## Demostración\n",
        "\n",
        "Sea $T(n)$ el número de operaciones que le toma al algoritmo anterior buscar un dato en una lista de tamaño $n$ y dada la función de recurrencia. P.D. $T(n)=b+a*\\log_2 n$.\n",
        "\n",
        "La demostración queda como ejercicio al lector."
      ]
    },
    {
      "cell_type": "markdown",
      "metadata": {
        "id": "sIGxdX_5canB"
      },
      "source": [
        "## Orden de Complejidad (cota superior asintótica)\n",
        "\n",
        "Dada la demostración anterior, se puede concluir que $T(n)\\in O(\\log_{2}n)$, es decir que el orden de complejidad al cual pertenece el algoritmo Búsqueda Binaria es $\\log_{2}n$.\n",
        "\n",
        "En otras palabras podemos decir que el número de operaciones que le toma a Búsqueda Binaria encontrar un dato en una colección ordenada de tamaño $n$ **es proporcional a** $\\log_{2}n$.\n",
        "\n",
        "Esto significa (con sustento matemático) que Búsqueda Binaria tiene un mejor desempeño que Búsqueda Secuencial (Lineal) en cuanto a la cantidad de operaciones (tiempo) que le toma buscar un dato en una colección de datos.\n",
        "\n",
        "En otros términos podemos decir que si pusiéramos a competir a la Búsqueda Secuencial contra, por ejemplo Búsqueda Binaria, el ganador seria **Búsqueda Binaria**.\n"
      ]
    },
    {
      "cell_type": "code",
      "metadata": {
        "id": "xCkvM2gIybo2",
        "colab": {
          "base_uri": "https://localhost:8080/"
        },
        "outputId": "8230d545-1d98-4608-8893-4b923501a6b6"
      },
      "source": [
        "'''\n",
        "Funcion que implementa de manera ingenua la busqueda binaria\n",
        "coleccion: coleccion de datos ordenada sobre la cual se buscara\n",
        "dato: dato a buscar en la coleccion\n",
        "'''\n",
        "def busquedaBinariaIngenua(coleccion, dato):\n",
        "  # si la lista es vacia.\n",
        "  if len(coleccion) < 1:\n",
        "    # se devuelve False.\n",
        "    return False\n",
        "  # division entera de la mitad de la coleccion.\n",
        "  mitad = len(coleccion)//2\n",
        "  # si el valor en la posicion de en medio es igual al valor buscado.\n",
        "  if coleccion[mitad] == dato:\n",
        "    # se regresa la posicion de en medio.\n",
        "    return mitad\n",
        "  # si el valor en la posicion de en medio es menor al valor buscado.\n",
        "  if coleccion[mitad] < dato:\n",
        "    # se realiza la llamada recursiva.\n",
        "    # utiliza la sublista que va desde la posicion de en medio hasta la ultima posicion.\n",
        "    return busquedaBinariaIngenua(coleccion[mitad:], dato)\n",
        "  # si el valor en la posicion de en medio es mayor al valor buscado.\n",
        "  else:\n",
        "    # se realiza la llamada recursiva.\n",
        "    # utiliza la sublista que va desde la primera posicion hasta la posicion de en medio.\n",
        "    return busquedaBinariaIngenua(coleccion[:mitad], dato)\n",
        "\n",
        "col = [1, 5, 7, 9, 11, 15]\n",
        "dato = 5\n",
        "#dato = 15\n",
        "\n",
        "# pruebas de la funcion\n",
        "print(busquedaBinariaIngenua(col, 15))"
      ],
      "execution_count": null,
      "outputs": [
        {
          "output_type": "stream",
          "name": "stdout",
          "text": [
            "1\n"
          ]
        }
      ]
    },
    {
      "cell_type": "markdown",
      "metadata": {
        "id": "x4SdFoYqyf0r"
      },
      "source": [
        "Al parecer todo funciona bien con este algoritmo, ¿verdad?.\n",
        "\n",
        "¿Qué sucede si se buscan elementos en la parte derecha de la mitad de la lista?.\n",
        "\n",
        "¿Por qué sucede esto?."
      ]
    },
    {
      "cell_type": "code",
      "metadata": {
        "id": "jsm65BhA0R3w",
        "colab": {
          "base_uri": "https://localhost:8080/"
        },
        "outputId": "502647f4-9290-45ce-e71a-a1d920ecef40"
      },
      "source": [
        "'''\n",
        "Funcion que implementa de manera ingenua la busqueda binaria\n",
        "coleccion: coleccion de datos ordenada sobre la cual se buscara\n",
        "dato: dato a buscar en la coleccion\n",
        "inicio: indice izquierdo para realizar ajuste de limites\n",
        "final: indice derecho para realizar ajuste de limites\n",
        "'''\n",
        "def busquedaBinariaR(lista, dato, inicio, final):\n",
        "  # caso base\n",
        "  if final < inicio:\n",
        "    return False\n",
        "  # buscamos a la mitad OJO\n",
        "  # mitad = inicio + ((final - inicio) // 2)\n",
        "  mitad = (inicio + final) // 2\n",
        "  # caso base\n",
        "  if lista[mitad] == dato:\n",
        "    return True\n",
        "  if dato < lista[mitad]:\n",
        "    #llamada recursiva\n",
        "    return busquedaBinariaR(lista, dato, inicio, mitad-1)\n",
        "  else:\n",
        "    #llamada recursiva\n",
        "    return busquedaBinariaR(lista, dato, mitad+1, final)\n",
        "\n",
        "col = [1, 5, 7, 9, 11, 15]\n",
        "#dato = 5\n",
        "dato = 15\n",
        "\n",
        "# pruebas de la funcion\n",
        "print(busquedaBinariaR(col, dato, 0, len(col)-1))"
      ],
      "execution_count": 35,
      "outputs": [
        {
          "output_type": "stream",
          "name": "stdout",
          "text": [
            "True\n"
          ]
        }
      ]
    },
    {
      "cell_type": "markdown",
      "metadata": {
        "id": "LPYEpus25dEn"
      },
      "source": [
        "Al parecer la segunda versión (`busquedaBinariaR`) ya funciona de manera correcta (realiza las pruebas), sin embargo volvemos a realizar búsquedas sobre valores numéricos.\n",
        "\n",
        "**¿Qué se necesita hacer para realizar búsquedas sobre cualquier tipo de objeto?**."
      ]
    },
    {
      "cell_type": "markdown",
      "metadata": {
        "id": "Xoi4nC_xUvXn"
      },
      "source": [
        "# POO\n",
        "\n",
        "Volviendo al Paradigma Orientado a Objetos, veamos una implementación un poco más robusta de la clase `AlumnoFC`, que defina los comportamientos necesarios para poder aplicar el algoritmo de la Búsqueda Binaria, sobre objetos de tipo `AlumnoFC`.\n",
        "\n",
        "[Aquí](https://medium.com/@LuisMBaezCo/overloading-sobrecargar-operadores-en-python-5d7a75e2bfdf) puedes ver una lista un poco más extensa y detallada de los posibles operadores que pueden ser sobrecargados."
      ]
    },
    {
      "cell_type": "code",
      "metadata": {
        "id": "eIjchSbjfvXR"
      },
      "source": [
        "# Clase para generar objetos de tipo alumno\n",
        "class AlumnoFC(object):\n",
        "\n",
        "  # Constructor de alumnos\n",
        "  def __init__(self, nombre, numero_cuenta, calif):\n",
        "    self.nombre = nombre\n",
        "    self.numero_cuenta = numero_cuenta\n",
        "    self.calificaciones = calif\n",
        "\n",
        "  # Sobrecarga de los operadores de comparación\n",
        "  # Determina si un alumno es igual a otro\n",
        "  def __eq__(self, otro):\n",
        "    if self.numero_cuenta == otro.numero_cuenta:\n",
        "      return True\n",
        "    else:\n",
        "      return False\n",
        "\n",
        "  # Indica si un alumnos es mayor o igual a otro\n",
        "  def __ge__(self, otro):\n",
        "    if self.numero_cuenta >= otro.numero_cuenta:\n",
        "      return True\n",
        "    else:\n",
        "      return False\n",
        "\n",
        "  # Indica si un alumnos es menor o igual a otro\n",
        "  def __le__(self, otro):\n",
        "    if self.numero_cuenta <= otro.numero_cuenta:\n",
        "      return True\n",
        "    else:\n",
        "      return False\n",
        "\n",
        "  # Indica si un alumnos es mayor a otro\n",
        "  def __gt__(self, otro):\n",
        "    if self.numero_cuenta > otro.numero_cuenta:\n",
        "      return True\n",
        "    else:\n",
        "      return False\n",
        "\n",
        "  # Indica si un alumnos es menor a otro\n",
        "  def __lt__(self, otro):\n",
        "    if self.numero_cuenta < otro.numero_cuenta:\n",
        "      return True\n",
        "    else:\n",
        "      return False\n",
        "\n",
        "  # Sobrecarga del operador que imprime objetos de tipo alumno\n",
        "  def __str__(self):\n",
        "    return self.nombre\n",
        "  \n",
        "  # Devuelve el promedio de las calificaciones de un alumno\n",
        "  def promedio(self):\n",
        "    promedio = sum(self.calificaciones)/len(self.calificaciones)\n",
        "    return promedio"
      ],
      "execution_count": 36,
      "outputs": []
    },
    {
      "cell_type": "markdown",
      "metadata": {
        "id": "7A-8pG8wWIZA"
      },
      "source": [
        "## Datos Ordenados\n",
        "\n",
        "En caso de que los datos no se encuentren ordenados, **podemos hacer uso de alguno de los algoritmos de ordenamiento vistos previamente** para ordenar la colección de datos y una vez ordenados entonces procedemos a realizar la búsqueda."
      ]
    },
    {
      "cell_type": "code",
      "metadata": {
        "id": "05-w3hVzWhbm"
      },
      "source": [
        "# Definicion recursiva de quicksort\n",
        "def quickSort(lista):\n",
        "  # si la lista es de tamano 1 o menor se devuelve\n",
        "  if len(lista) < 2:\n",
        "    return lista\n",
        "  # en otro caso se parte la lista y se resuelve recursivamente\n",
        "  else:\n",
        "    # se parte la lista original (n operaciones)\n",
        "    menores, pivote, mayores = particion(lista) \n",
        "    # 2*T(n/2)\n",
        "    return quickSort(menores)+[pivote]+quickSort(mayores)\n",
        "\n",
        "# Definicion del algoritmo para partir una lista en mayores y menores\n",
        "def particion(lista):\n",
        "  mayores, menores = [], []\n",
        "  # pivote para realizar la comparación\n",
        "  pivote = lista[0]\n",
        "  for i in range(1,len(lista)):\n",
        "    if lista[i] < pivote:\n",
        "      menores.append(lista[i])\n",
        "    else:\n",
        "      mayores.append(lista[i])\n",
        "  # se devuelven ambas listas y el pivote\n",
        "  return menores, pivote, mayores"
      ],
      "execution_count": 37,
      "outputs": []
    },
    {
      "cell_type": "markdown",
      "metadata": {
        "id": "iy2JpTjQWvSu"
      },
      "source": [
        "En la siguiente celda celda de código se muestra una colección de datos que no esta ordenada (respecto al número de cuenta), sin embargo una vez que se aplica *QuickSort* a la colección, esta queda ordenada y lista para poder realizar las búsquedas necesarias en un menor tiempo."
      ]
    },
    {
      "cell_type": "code",
      "metadata": {
        "id": "zpJLbhqsXTbx",
        "outputId": "5c33c1b2-49cd-43b8-971a-aa3d693c8ff5",
        "colab": {
          "base_uri": "https://localhost:8080/"
        }
      },
      "source": [
        "# Pruebas con la clase AlumnosFC\n",
        "Mike = AlumnoFC('Mike', 30134563, [10, 10, 10, 9, 10])\n",
        "Aitor = AlumnoFC('Aitor', 20134563, [8, 10, 9, 9, 10])\n",
        "Pete = AlumnoFC('Peter', 10134563, [9, 8, 8, 9, 10])\n",
        "\n",
        "# Coleccion de alumnos \n",
        "alumnos = [Mike, Aitor, Pete]\n",
        "\n",
        "# FOREACH\n",
        "print(\"Alumnos desordenados\")\n",
        "for alumno in alumnos:\n",
        "  print(alumno)\n",
        "\n",
        "# Prueba de QuickSort (sobrecargado)\n",
        "alumnosOrdenados = quickSort(alumnos)\n",
        "\n",
        "# FOREACH\n",
        "print(\"Alumnos Ordenados\")\n",
        "for alumno in alumnosOrdenados:\n",
        "  print(alumno)\n",
        "\n",
        "# Una vez ordenada la lista podemos aplicar BusquedaBinara\n",
        "dato = AlumnoFC('Peter', 10134563, [9, 8, 8, 9, 10])\n",
        "\n",
        "# Se busca desde el indice cero hasta el ultimo elemento de la coleccion\n",
        "print(\"¿Se ecuentra el dato en la coleccion?\")\n",
        "print(busquedaBinariaR(alumnosOrdenados, dato, 0, len(alumnosOrdenados)-1))\n"
      ],
      "execution_count": 45,
      "outputs": [
        {
          "output_type": "stream",
          "name": "stdout",
          "text": [
            "Alumnos desordenados\n",
            "Mike\n",
            "Aitor\n",
            "Peter\n",
            "Alumnos Ordenados\n",
            "Peter\n",
            "Aitor\n",
            "Mike\n",
            "¿Se ecuentra el dato en la coleccion?\n",
            "True\n"
          ]
        }
      ]
    },
    {
      "cell_type": "markdown",
      "metadata": {
        "id": "p-Tay_ESkomP"
      },
      "source": [
        "# Búsqueda Secuencial v.s. Búsqueda Binaria\n",
        "\n",
        "Ya que conocemos ambos algoritmos de búsqueda, que podemos decir al respecto de ambos, ¿cuál es mejor?, bueno como siempre la respuesta a esta pregunta debe ser ¿mejor en cuanto a que y en qué situación?."
      ]
    },
    {
      "cell_type": "markdown",
      "metadata": {
        "id": "DFUf_IGfl5TP"
      },
      "source": [
        "## Búsqueda Secuencial\n",
        "\n",
        "En caso de tener que realizar una única búsqueda sobre una colección de datos desordenada, lo ideal (menos costoso) es realizar la búsqueda secuencial (de preferencia en su versión iterativa), ya que este algoritmo pertenece al orden de complejidad $O(n)$ y no requiere que los datos se encuentren ordenados."
      ]
    },
    {
      "cell_type": "markdown",
      "metadata": {
        "id": "pQcXhJf6mFXm"
      },
      "source": [
        "## Búsqueda Binaria\n",
        "\n",
        "Por otro lado si se requiere realizar múltiples búsquedas (a mayor cantidad de búsquedas mejor) en una colección desordenada, lo mejor es ordenar la colección mediante alguno de los algoritmos de ordenamiento vistos previamente y posteriormente realizar la búsqueda binaria.\n",
        "\n",
        "En este caso el orden de complejidad del algoritmo completo $(ordenamiento + búsqueda binaria)$ sería $O(n*\\log_{2}n) + O(\\log_{2}n)$ en caso de usar un algoritmo de ordenamiento como *QuickSort* o *MergeSort* y sería $O(k*n) + O(\\log_{2}n)$ en caso de usar *RadixSort*.\n",
        "\n",
        "Es importante notar, que a mayor número de búsquedas (una vez que los datos ya fueron ordenados) el beneficio es mayor ya que las subsiguientes búsquedas solo tomarían un tiempo proporcional a $O(\\log_{2}n)$.\n",
        "\n",
        "Este tipo de estrategias son las que **se aplican sobre las bases de datos**, primero conviene ordenar los datos y posteriormente realizar las búsquedas necesarias sobre la colección de datos."
      ]
    },
    {
      "cell_type": "markdown",
      "metadata": {
        "id": "hiNbT80EdmCW"
      },
      "source": [
        "# Referencias\n",
        "\n",
        "* Thomas H. Cormen: Introduction to Algorithms.\n",
        "* Referencias Libro Web: Introduccion a Python.\n",
        "* Referencias Daniel T. Joyce: Object-Oriented Data Structures.\n",
        "* Referencias John C. Mitchell: Concepts in programing Languages."
      ]
    }
  ]
}