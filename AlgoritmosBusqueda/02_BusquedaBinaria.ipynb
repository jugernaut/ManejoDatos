{
  "nbformat": 4,
  "nbformat_minor": 0,
  "metadata": {
    "colab": {
      "name": "Busqueda_Binaria_analisis.ipynb",
      "provenance": [],
      "toc_visible": true,
      "include_colab_link": true
    },
    "kernelspec": {
      "name": "python3",
      "display_name": "Python 3"
    },
    "language_info": {
      "name": "python"
    }
  },
  "cells": [
    {
      "cell_type": "markdown",
      "metadata": {
        "id": "view-in-github",
        "colab_type": "text"
      },
      "source": [
        "<a href=\"https://colab.research.google.com/github/jugernaut/ManejoDatos/blob/desarrollo/AlgoritmosBusqueda/02_BusquedaBinaria.ipynb\" target=\"_parent\"><img src=\"https://colab.research.google.com/assets/colab-badge.svg\" alt=\"Open In Colab\"/></a>"
      ]
    },
    {
      "cell_type": "markdown",
      "metadata": {
        "id": "sHzqVFkZS8gi"
      },
      "source": [
        "<font color=\"Teal\" face=\"Comic Sans MS,arial\">\n",
        "  <h1 align=\"center\"><i>Búsqueda Binaria</i></h1>\n",
        "  </font>\n",
        "  <font color=\"Black\" face=\"Comic Sans MS,arial\">\n",
        "  <h5 align=\"center\"><i>Profesor: M.en.C. Miguel Angel Pérez León</i></h5>\n",
        "  <h5 align=\"center\"><i>Ayudante: Jesús Iván Coss Calderón</i></h5>\n",
        "  <h5 align=\"center\"><i>Ayudante: Jonathan Ramírez Montes</i></h5>\n",
        "  <h5 align=\"center\"><i>Materia: Manejo de Datos</i></h5>\n",
        "  </font>"
      ]
    },
    {
      "cell_type": "markdown",
      "metadata": {
        "id": "T5lrtG35TPHg"
      },
      "source": [
        "##**Introducción**\n",
        "\n",
        "Para este algoritmo vamos a pensarlo de forma adelantada a un tema de análsis numérico. Imaginemos que queremos encontrar la raíz de una función $f(x)$ en el rango $[a,b]$.\n",
        "\n",
        "<center>\n",
        "<img src=\"https://github.com/jugernaut/Numerico2021/blob/master/Figuras/raicesNumericas/esqbis.PNG?raw=1\" width=\"700\">\n",
        "</center>\n",
        "\n",
        "Lo más sencillo es partir el interbalo $[a,b]$ por la mitad y preguntarnos ¿qué sucede con ese valor al ser evaluado bajo $f(x)$.\n",
        "\n",
        "$$x_{1}=a+\\frac{b-a}{2}=\\frac{2a+b-a}{2}=\\frac{a+b}{2} \\tag{1}$$\n",
        "\n",
        "Para obtener el $n$-esimo punto medio, la ecuación seria:\n",
        "\n",
        "$$x_{n}=\\frac{a_{n-1}+b_{n-1}}{2} \\tag{2}$$\n",
        "\n",
        "A la ecuación (2) se le denomina método iterativo del punto medio, actualizando iterativamente los valores de $a$ y $b$ de la siguiente forma.\n",
        "\n",
        "Se verifican los signos de $f(a)*f(x_{n})$ y $f(x_{n})*f(b)$, para saber en que subintervalo se encuentra la raíz:\n",
        "\n",
        "*   Si $f(a)*f(x_{n})<0$, entonces en el subintervalo $[a,x_{n}]$ se encuentra la raíz, renombrando $a=a$ y $b=x_{n}$.\n",
        "*   Si $f(a)*f(x_{n})>0$, entonces en el subintervalo $[x_{n},b]$ se encuentra la raíz, renombrando $a=x_{n}$ y $b=b$.\n",
        "\n",
        "Después de un número suficiente de iteraciones, la aproximación $x_n$ es lo suficientemente cercana a la raźi de $f(x)$.\n",
        "\n",
        "En nuestro caso (manejo de datos) a este algoritmo se le conoce como **Búsqueda Binaria** y es más sencillo que el algoritmo descrito previamente, ya que nos vamos a restringir a los $\\mathbb{N}$ ya que este campo es el que da orden a los datos y no tiene sentido tener valores negativos o racionales.\n",
        "\n",
        "Dado estos antecedentes procedemos a definir la función de recurrencia, para poder definir a que orden de complejidad pertenece este algoritmo **recursivo**."
      ]
    },
    {
      "cell_type": "markdown",
      "metadata": {
        "id": "X4irpssgPuh0"
      },
      "source": [
        "# Descipición del agoritmo\n",
        "\n",
        "Como prerequisito este algoritmo requiere que la búsqueda debe realizarse sobre datos ordenados y es muy sencillo.\n",
        "\n",
        "Sea $n$ la longitud de los datos en los cuales se realizara la búsqueda y dado que no tenemos índices negativos, lo primero es partir la longitd de la colección de datos a la mitad y preguntar si el dato que se busca se encuentra en esa localidad.\n",
        "\n",
        "Si se encuentra ahi termina la búsqueda, en caso contrario se ajustan los limites de la búsqueda y se vuelve a realizar el mismo proceso hasta encontrar el dato."
      ]
    },
    {
      "cell_type": "markdown",
      "metadata": {
        "id": "kg6_8TGwU3nw"
      },
      "source": [
        "###Algoritmo Básico\n",
        "\n",
        "\n",
        "<center>\n",
        "<img src=\"https://github.com/jugernaut/ManejoDatos/blob/desarrollo/Imagenes/AlgoritmosBusqueda/BBR.png?raw=1\" width=\"600\"> \n",
        "</center>\n"
      ]
    },
    {
      "cell_type": "markdown",
      "metadata": {
        "id": "Mz9tfZ-sUdsC"
      },
      "source": [
        "### Análisis\n",
        "\n",
        "Para el caso cuando se requiere buscar un elemento en una colección (lista) de tamaño 1 (o 0 caso trivial), basta con realizar a lo mas una comparación, lo cual toma tiempo constante, digamos $b$.\n",
        "\n",
        "Es importante recalcar que este algoritmo pide como requisito que los **elementos de la colección se encuentren ordenados**. Para el caso de una colección de tamaño 2 ó mayor, es necesario partir a la mitad dicha colección y preguntar si el elemento que se busca es mayor o menor al elemento que se encuentra a la mitad de la colección. Y dependiendo de la comparación se descarta una de las 2 mitades y se procede a buscar al elemento en la otra mitad.\n",
        "\n",
        "Es por esto que buscar un elemento en una colección de tamaño $n$ tomará en total $T(\\frac{n}{2})+a$."
      ]
    },
    {
      "cell_type": "markdown",
      "metadata": {
        "id": "p9dw-XZfU9-d"
      },
      "source": [
        "### ¿Qué sucede con colecciones de tamaño n?\n",
        "\n",
        "Dado el análisis (y el pseudocódigo del algoritmo) podemos ver que buscar un dato en una colección de tamaño $n$ tomara $T(\\frac{n}{2})+a$. Pero este valor aun no permite identificar a que orden de complejidad pertenece este algoritmo.\n",
        "\n",
        "Es por eso que necesitamos definir la función de recurrencia de la siguiente forma.\n",
        "\n",
        "Función de recurrencia para el algoritmo de busqueda binaria:\n",
        "\n",
        "$$T(n)=\\begin{cases}\n",
        "b, & n=0\\,\\acute{o}\\,n=1\\\\\n",
        "T(\\frac{n}{2})+a & n\\geq2\n",
        "\\end{cases}$$\n",
        "\n",
        "Con lo que podemos concluir que..."
      ]
    },
    {
      "cell_type": "markdown",
      "metadata": {
        "id": "QYlAJsDnXYUX"
      },
      "source": [
        "##**Demostración**"
      ]
    },
    {
      "cell_type": "markdown",
      "metadata": {
        "id": "FZoa-33-aGV3"
      },
      "source": [
        "Sea $T(n)$ el número de operaciones que le toma al algoritmo anterior buscar un dato en una lista de tamaño $n$ y dada la función de recurrencia. P.D. $T(n)=b*a+\\log_2 n$.\n",
        "\n",
        "La demostración queda como ejercicio al lector.\n",
        "\n"
      ]
    },
    {
      "cell_type": "markdown",
      "metadata": {
        "id": "sIGxdX_5canB"
      },
      "source": [
        "##**Orden de Complejidad (cota superior asintótica)**\n"
      ]
    },
    {
      "cell_type": "markdown",
      "metadata": {
        "id": "gcfm-WeEc0f2"
      },
      "source": [
        "Dado que de $b$ (una constante) y $a\\cdot\\log_{2}n$, la última es la función que 'crece' mas rápidamente.\n",
        "\n",
        "Se puede concluir que $T(n)\\in O(\\log_{2}n)$, es decir que el orden de complejidad al cual pertenece el algoritmo Búsqueda Binaria es $\\log_{2}n$.\n",
        "\n",
        "En otras palabras podemos decir que el numero de operaciones que le toma a Búsqueda Binaria buscar un dato en una colección ordenada de tamaño $n$ **es proporcional a** $\\log_{2}n$.\n",
        "\n",
        "Esto significa (con sustento matemático) que Búsqueda Binaria tiene un mejor desempeño que Búsqueda Lineal en cuanto a la cantidad de operaciones (tiempo) que le toma buscar un dato en una colección de datos.\n",
        "\n",
        "En otros términos podemos decir que si pusiéramos a competir a la Búsqueda Lineal contra, por ejemplo Búsqueda Binaria, el ganador seria **Búsqueda Binaria**."
      ]
    },
    {
      "cell_type": "markdown",
      "metadata": {
        "id": "Z6oqB29zdhAC"
      },
      "source": [
        "##**Apendice**"
      ]
    },
    {
      "cell_type": "markdown",
      "metadata": {
        "id": "hiNbT80EdmCW"
      },
      "source": [
        "### Referencias\n",
        "\n",
        "* Thomas H. Cormen: Introduction to Algorithms.\n",
        "\n",
        "* Referencias Libro Web: Introduccion a Python.\n",
        "\n",
        "* Referencias Daniel T. Joyce: Object-Oriented Data Structures.\n",
        "\n",
        "* Referencias John C. Mitchell: Concepts in programing Languages."
      ]
    }
  ]
}