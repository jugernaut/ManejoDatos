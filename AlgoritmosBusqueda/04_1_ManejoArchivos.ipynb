{
  "nbformat": 4,
  "nbformat_minor": 0,
  "metadata": {
    "colab": {
      "name": "Manejo_de_Archivos.ipynb",
      "provenance": [],
      "toc_visible": true,
      "include_colab_link": true
    },
    "kernelspec": {
      "name": "python3",
      "display_name": "Python 3"
    },
    "language_info": {
      "name": "python"
    }
  },
  "cells": [
    {
      "cell_type": "markdown",
      "metadata": {
        "id": "view-in-github",
        "colab_type": "text"
      },
      "source": [
        "<a href=\"https://colab.research.google.com/github/jugernaut/ManejoDatos/blob/desarrollo/AlgoritmosBusqueda/04_1_ManejoArchivos.ipynb\" target=\"_parent\"><img src=\"https://colab.research.google.com/assets/colab-badge.svg\" alt=\"Open In Colab\"/></a>"
      ]
    },
    {
      "cell_type": "markdown",
      "metadata": {
        "id": "osfE0l69b8Ev"
      },
      "source": [
        "<font color=\"Teal\" face=\"Comic Sans MS,arial\">\n",
        "  <h1 align=\"center\"><i>Manejo de Archivos</i></h1>\n",
        "  </font>\n",
        "  <font color=\"Black\" face=\"Comic Sans MS,arial\">\n",
        "  <h5 align=\"center\"><i>Profesor: M.en.C. Miguel Angel Pérez León</i></h5>\n",
        "  <h5 align=\"center\"><i>Ayudante: Jesús Iván Coss Calderón</i></h5>\n",
        "  <h5 align=\"center\"><i>Ayudante: Jonathan Ramírez Montes</i></h5>\n",
        "  <h5 align=\"center\"><i>Materia: Manejo de Datos</i></h5>\n",
        "  </font>"
      ]
    },
    {
      "cell_type": "markdown",
      "metadata": {
        "id": "ZTVTgpcmcbAQ"
      },
      "source": [
        "## Introducción\n",
        "\n",
        "La manipulación de archivos mediante un lenguaje de alto nivel (*Python*) es una de las labores más frecuentes que se tiene al implementar un algoritmo computacional.\n",
        "\n",
        "Existe una infinidad de tipos de archivos (*.txt, .pdf, .xml*, etc.) sin embargo los lenguajes de programación de alto nivel, como en este caso *Python* incluyen dentro de sus bibliotecas o entornos de desarrollo mecanismos para poder, **abrir, leer, escribir o eliminar** un determinado archivo.\n",
        "\n",
        "Sin importar el lenguaje de programación, normalmente se tiene que proporcionar a la biblioteca encargada de manejar archivos la **ruta** del archivo que se quiere manipular, posteriormente se abre dicho archivo y finalmente se realizan las operaciones que se requieran.\n",
        "\n",
        "La intención final, es poder crear un algoritmo que procese la información contenida dentro de estos archivos para así poder ahorrar tiempo y recursos."
      ]
    },
    {
      "cell_type": "markdown",
      "metadata": {
        "id": "QmHkYE_Hc9k-"
      },
      "source": [
        "### Rutas\n",
        "\n",
        "En el contexto del manejo de archivos es de vital importancia recordar el concepto de \"ruta\". La ruta de un archivo es (para ponerlo en términos simples) la ubicación del archivo dentro de la computadora. Supongamos que se tiene un archivo llamado `tarea.txt` dentro de una carpeta llamada ***materias*** y a su vez esta carpeta se encuentra en el ***escritorio***, el archivo `tarea.txt` tiene 2 formas de ser ubicado:\n",
        "\n",
        "* **Ruta relativa**: es la ruta a partir de la cual el usuario esta buscando el archivo. Es decir que si el usuario abre una terminal y esta terminal comienza en la carpeta /usuario. La ruta relativa del archivo tarea.txt seria /usuario/escritorio/materias/tarea.txt.\n",
        "\n",
        "* **Ruta absoluta**: corresponde a la ubicación del archivo desde la raíz del sistema operativo. Es decir que (en el caso de Windows) la ruta absoluta del archivo tarea.txt, corresponde a C://usuarios/usuario/escritorio/materias/tarea.txt."
      ]
    },
    {
      "cell_type": "markdown",
      "metadata": {
        "id": "OtCXJ3SFdS_c"
      },
      "source": [
        "## Manejo de archivos en *Python*\n",
        "\n",
        "Para hacer acceder a los archvivos dentro de una computadora usando *Python* es muy sencillo, ya que las bibliotecas usadas para acceder a los mismos ya se encuentran instaladas y solo hace falta acceder a las mismas.\n",
        "\n",
        "A continuación se muestran los elementos más importantes que nos permiten manipular archviso en mediante *Python*.\n"
      ]
    },
    {
      "cell_type": "markdown",
      "metadata": {
        "id": "i-BaC6ZSdhCc"
      },
      "source": [
        "### Conceptos y clases\n",
        "\n",
        "La forma en la cual se pueden manipular archivos de texto plano (y archvivos en general) en *Python* es empleando las siguientes clases:\n",
        "\n",
        "* `open`: esta función recibe como parámetros la ruta (relativa o obsoluta) en la cual se encuentra el archivo a manipular, ademas recibe como segundo parametro el tipo de acción que se va a realzar al manipular el archivo.\n",
        "\n",
        "* `read`: mediante esta función se le lee el contenido del archivo y se puede mostrar su contenido mediante la función `print`.\n",
        "\n",
        "* `readline`: con esta función podemos leer una linea completa del archivo. Una manera alternativa de realizar esta acción es mediante el `foreach` de *Python*.\n",
        "\n",
        "* `close`: una vez que se haya terminado de manipular el archivo en cuestión **es muy importante cerrar el archivo** mediante la función `close`, ya que de no hacerlo así el archivo queda abierto y no se puede acceder al mismo por otra aplicación."
      ]
    },
    {
      "cell_type": "markdown",
      "metadata": {
        "id": "h8PAyW8UeHyn"
      },
      "source": [
        "### Excepciones\n",
        "\n",
        "Dado que al momento de manipular archivos podemos tener diferentes tipos de excepciones, *Python* proporciona un mecanismo de control de errores los cuales nos permite identificar y canalizar el error de manera adecuada. Los excepciones más comunes son:\n",
        "\n",
        "* **FileNotFoundError**: como su nombre lo indica, este tipo de excepción implica que la ruta proporcionada no es correcta o que el archivo no existe, es decir que en este caso es necesario verificar que el archivo al que se quiere acceder de verdad se encuentre en la ruta especificada.\n",
        "\n",
        "* **IOException**: normalmente cuando se da este tipo de excepción es debido a que otro proceso esta accediendo al mismo archivo y por lo tanto existe conflicto entre ambos procesos (o mas) que quieren tener acceso al archivo en cuestión."
      ]
    },
    {
      "cell_type": "markdown",
      "metadata": {
        "id": "Xokh32HgdDjX"
      },
      "source": [
        "## Lectura de archivos\n",
        "\n",
        "Igual que con el tema anterior, vamos a usar el mismo archivo para manipular los datos en el mismo, así que lo primero es descargar este archivo."
      ]
    },
    {
      "cell_type": "code",
      "metadata": {
        "id": "rDwOIrAWd3S8",
        "outputId": "d614a2b9-a67b-4dc5-8fd5-17d157be6ad9",
        "colab": {
          "base_uri": "https://localhost:8080/"
        }
      },
      "source": [
        "!wget https://raw.githubusercontent.com/jugernaut/ManejoDatos/desarrollo/utils/ManejodeDatos9180.txt"
      ],
      "execution_count": 1,
      "outputs": [
        {
          "output_type": "stream",
          "name": "stdout",
          "text": [
            "--2021-10-25 08:01:19--  https://raw.githubusercontent.com/jugernaut/ManejoDatos/desarrollo/utils/ManejodeDatos9180.txt\n",
            "Resolving raw.githubusercontent.com (raw.githubusercontent.com)... 185.199.111.133, 185.199.110.133, 185.199.109.133, ...\n",
            "Connecting to raw.githubusercontent.com (raw.githubusercontent.com)|185.199.111.133|:443... connected.\n",
            "HTTP request sent, awaiting response... 200 OK\n",
            "Length: 3103 (3.0K) [text/plain]\n",
            "Saving to: ‘ManejodeDatos9180.txt’\n",
            "\n",
            "\rManejodeDatos9180.t   0%[                    ]       0  --.-KB/s               \rManejodeDatos9180.t 100%[===================>]   3.03K  --.-KB/s    in 0s      \n",
            "\n",
            "2021-10-25 08:01:19 (40.6 MB/s) - ‘ManejodeDatos9180.txt’ saved [3103/3103]\n",
            "\n"
          ]
        }
      ]
    },
    {
      "cell_type": "markdown",
      "metadata": {
        "id": "3IADGBLdd-md"
      },
      "source": [
        "Ahora veamos su contenido usando *Python*."
      ]
    },
    {
      "cell_type": "code",
      "metadata": {
        "id": "7ilCgCE4eDBY",
        "outputId": "ecf02136-be80-4558-badb-59419af06bd6",
        "colab": {
          "base_uri": "https://localhost:8080/"
        }
      },
      "source": [
        "# se abre el archivo\n",
        "archivo = open(\"ManejodeDatos9180.txt\")\n",
        "\n",
        "# mostramos las 4 primeras lineas\n",
        "print(archivo.readline())\n",
        "print(archivo.readline())\n",
        "print(archivo.readline())\n",
        "print(archivo.readline())\n"
      ],
      "execution_count": 7,
      "outputs": [
        {
          "output_type": "stream",
          "name": "stdout",
          "text": [
            "No\tApellido\tApellido 2\tNombre\tCarrera\tCorreo\tTelefono\n",
            "\n",
            "1\tAlemán\tGalicia\tDiego Leónardo\tC. Computación\talemanlex_plus_cool@hotmail.com\t44-635-28-288\n",
            "\n",
            "2\tAmador\tGónzalez\tNoé Eusebio\tAplicadas\tnoe.amadorg@ciencias.unam.mx\t55-640-83-871\n",
            "\n",
            "3\tAmaro\tIslas\tYamile Amalia Zulema\tActuaría\taminahelue@ciencias.unam.mx\t55-4977-6159\n",
            "\n"
          ]
        }
      ]
    },
    {
      "cell_type": "code",
      "metadata": {
        "id": "griV7i0Je7WO",
        "outputId": "f2c01d37-988d-40ea-90dc-1580cd3324db",
        "colab": {
          "base_uri": "https://localhost:8080/"
        }
      },
      "source": [
        "# mostrar contenido con foreach (el for comienza donde se quedo readline)\n",
        "for linea in archivo:\n",
        "  print(linea)"
      ],
      "execution_count": 8,
      "outputs": [
        {
          "output_type": "stream",
          "name": "stdout",
          "text": [
            "4\tCabrera\tPérez\tRodrígo\tActuaría\trodri030100@gmail.com\t55-477-61-948\n",
            "\n",
            "5\tCazares\tSolis\tAndrea Nicole\tActuaría\tnicolecazares141@gmail.com\t55-539-42-382\n",
            "\n",
            "6\tContreras\tChávez\tCitlali\tActuaría\tcitlali.contreras.1999@gmail.com\t55-399-75-350\n",
            "\n",
            "7\tDorantes\tBravo\tAlicia\tAplicadas\tadorantes@ciencias.unam.mx\t55-128-98-209\n",
            "\n",
            "8\tDurán\tSantiago\tRafael\tAplicadas\trsanti955@gmail.com\t333-72-554-55\n",
            "\n",
            "9\tEnríquez\tRíos\tMichelle Guadalupe\tActuaría\tmichelle.0198.me@gmail.com\t55-782-67-957\n",
            "\n",
            "10\tFlores\tDelgado\tOmar Alejandro\tActuaría\tomaralejandro00g@gmail.com\t55-665-72-227\n",
            "\n",
            "11\tGarcés\tGarduño\tRodrígo Tonatihu\tActuaría\trodrigotonatihu@ciencias.unam.mx\t55-244-10-361\n",
            "\n",
            "12\tGarcía\tAzamar\tCristopher Alejandro\tActuaría\tcrisazami_123@ciencias.unam.mx\t46-928-422-65\n",
            "\n",
            "13\tGarcía\tMejía\tRandy Jesús\tActuaría\trandy.jesus.garcia@gmail.com\t55-580-24-293\n",
            "\n",
            "14\tGómez\tArteaga\tBeu Ribe\tActuaría\tbeu.ribega@gmail.com\t55-789-33-403\n",
            "\n",
            "15\tGónzalez\tGarcía\tMaricela\tActuaría\tmarigonzalez_240100@hotmail.com\t55-907-91-129\n",
            "\n",
            "16\tGuevara\tLegaspe\tLeslye Joseline\tActuaría\tleslye_joseline@ciencias.unam.mx\t55-121-67-977\n",
            "\n",
            "17\tGúzman\tLópez\tEduardo Gabriel\tAplicadas\teggl@ciencias.unam.mx\t55-970-28-624\n",
            "\n",
            "18\tHérnandez\tLópez\tAlejandro\tActuaría\ttrigranalex@ciencias.unam.mx\t55-161-68-809\n",
            "\n",
            "19\tJuárez\tDiosdado\tUlises\tAplicadas\tulisesu13@ciencias.unam.mx\t55-497-22-370\n",
            "\n",
            "20\tLerdo de Tejada\tFlores\tMiguel\tActuaría\tmiguel_lerdodetejada@yahoo.com.mx\t55-7190-3848\n",
            "\n",
            "21\tNuñez\tVega\tAdive Alejandra\tActuaría\tanv.ale558@gmail.com\t5554-72-20-63\n",
            "\n",
            "22\tNúñez\tSánchez\tRuben\tActuaría\trubennu00@ciencias.unam.mx\t55-660-99-872\n",
            "\n",
            "23\tPérez\tEscartin\tMaya Aranzazu\tActuaría\taranzazu-08@hotmail.com\t55-376-26-789\n",
            "\n",
            "24\tRamírez\tCarmona\tAxel Gabriel\tActuaría\taxel.ramirez@ciencias.unam.mx\t55-812-56-695\n",
            "\n",
            "25\tReséndiz\tGuerrero\tMariella Vanesa\tActuaría\tmariella_resendiz@yahoo.com\t55-583-43-525\n",
            "\n",
            "26\tRivera\tRamírez\tMaría Fernanda\tActuaría\tfer.loveswim.0408@gmail.com\t55-489-59-362\n",
            "\n",
            "27\tRodríguez\tHérnandez\tRicardo\tAplicadas\trimucaser@gmail.com\t888-314-46-780\n",
            "\n",
            "28\tRodríguez\tRojas\tAarón Israel\tActuaría\taaronrojas@ciencias.unam.mx\t55-931-23-412\n",
            "\n",
            "29\tRodríguez\tVega\tOctavio\tMatemáticas\toctavius@ciencias.unam.mx\t55-366-59-591\n",
            "\n",
            "30\tSalas\tReyes\tSac-Nicte Damayanti\tAplicadas\tnictesalas@ciencias.unam.com\t55-276-13-206\n",
            "\n",
            "31\tSalinas\tAvelino\tElizabeth\tActuaría\teliza160900@ciencias.unam.mx\t55-626-14-760\n",
            "\n",
            "32\tSánchez\tMartínez\tFabiola Sofía\tActuaría\tsofysm99@gmail.com\t55-461-15-303\n",
            "\n",
            "33\tSánchez\tValle\tDaniela Itzel\tActuaría\tdanielavalle@ciencias.unam.mx\t77-174-67-488\n",
            "\n",
            "34\tTéllez\tSoto\tJosé Emanuel\tAplicadas\tjoseemanueltellezsoto@gmail.com\t55-93680-510\n",
            "\n",
            "35\tVásquez\tMartínez\tAndrea Lizbeth\tActuaría\tandreavasquez115@gmail.com\t55-687-34366\n",
            "\n",
            "36\tZamarripa\tOrnelas\tDiego Mauricio\tActuaría\tdiego.zamarripa18@gmail.com\t55-458-69-357\n"
          ]
        }
      ]
    },
    {
      "cell_type": "code",
      "metadata": {
        "id": "ZxjdBah4fCjd",
        "outputId": "846ab2ce-14a3-4b91-aa46-6a4b0701c1aa",
        "colab": {
          "base_uri": "https://localhost:8080/"
        }
      },
      "source": [
        "# se regresa al inicio del archivo\n",
        "archivo.seek(0)\n",
        "\n",
        "# se muestra todo el contenido\n",
        "print(archivo.read())"
      ],
      "execution_count": 12,
      "outputs": [
        {
          "output_type": "stream",
          "name": "stdout",
          "text": [
            "No\tApellido\tApellido 2\tNombre\tCarrera\tCorreo\tTelefono\n",
            "1\tAlemán\tGalicia\tDiego Leónardo\tC. Computación\talemanlex_plus_cool@hotmail.com\t44-635-28-288\n",
            "2\tAmador\tGónzalez\tNoé Eusebio\tAplicadas\tnoe.amadorg@ciencias.unam.mx\t55-640-83-871\n",
            "3\tAmaro\tIslas\tYamile Amalia Zulema\tActuaría\taminahelue@ciencias.unam.mx\t55-4977-6159\n",
            "4\tCabrera\tPérez\tRodrígo\tActuaría\trodri030100@gmail.com\t55-477-61-948\n",
            "5\tCazares\tSolis\tAndrea Nicole\tActuaría\tnicolecazares141@gmail.com\t55-539-42-382\n",
            "6\tContreras\tChávez\tCitlali\tActuaría\tcitlali.contreras.1999@gmail.com\t55-399-75-350\n",
            "7\tDorantes\tBravo\tAlicia\tAplicadas\tadorantes@ciencias.unam.mx\t55-128-98-209\n",
            "8\tDurán\tSantiago\tRafael\tAplicadas\trsanti955@gmail.com\t333-72-554-55\n",
            "9\tEnríquez\tRíos\tMichelle Guadalupe\tActuaría\tmichelle.0198.me@gmail.com\t55-782-67-957\n",
            "10\tFlores\tDelgado\tOmar Alejandro\tActuaría\tomaralejandro00g@gmail.com\t55-665-72-227\n",
            "11\tGarcés\tGarduño\tRodrígo Tonatihu\tActuaría\trodrigotonatihu@ciencias.unam.mx\t55-244-10-361\n",
            "12\tGarcía\tAzamar\tCristopher Alejandro\tActuaría\tcrisazami_123@ciencias.unam.mx\t46-928-422-65\n",
            "13\tGarcía\tMejía\tRandy Jesús\tActuaría\trandy.jesus.garcia@gmail.com\t55-580-24-293\n",
            "14\tGómez\tArteaga\tBeu Ribe\tActuaría\tbeu.ribega@gmail.com\t55-789-33-403\n",
            "15\tGónzalez\tGarcía\tMaricela\tActuaría\tmarigonzalez_240100@hotmail.com\t55-907-91-129\n",
            "16\tGuevara\tLegaspe\tLeslye Joseline\tActuaría\tleslye_joseline@ciencias.unam.mx\t55-121-67-977\n",
            "17\tGúzman\tLópez\tEduardo Gabriel\tAplicadas\teggl@ciencias.unam.mx\t55-970-28-624\n",
            "18\tHérnandez\tLópez\tAlejandro\tActuaría\ttrigranalex@ciencias.unam.mx\t55-161-68-809\n",
            "19\tJuárez\tDiosdado\tUlises\tAplicadas\tulisesu13@ciencias.unam.mx\t55-497-22-370\n",
            "20\tLerdo de Tejada\tFlores\tMiguel\tActuaría\tmiguel_lerdodetejada@yahoo.com.mx\t55-7190-3848\n",
            "21\tNuñez\tVega\tAdive Alejandra\tActuaría\tanv.ale558@gmail.com\t5554-72-20-63\n",
            "22\tNúñez\tSánchez\tRuben\tActuaría\trubennu00@ciencias.unam.mx\t55-660-99-872\n",
            "23\tPérez\tEscartin\tMaya Aranzazu\tActuaría\taranzazu-08@hotmail.com\t55-376-26-789\n",
            "24\tRamírez\tCarmona\tAxel Gabriel\tActuaría\taxel.ramirez@ciencias.unam.mx\t55-812-56-695\n",
            "25\tReséndiz\tGuerrero\tMariella Vanesa\tActuaría\tmariella_resendiz@yahoo.com\t55-583-43-525\n",
            "26\tRivera\tRamírez\tMaría Fernanda\tActuaría\tfer.loveswim.0408@gmail.com\t55-489-59-362\n",
            "27\tRodríguez\tHérnandez\tRicardo\tAplicadas\trimucaser@gmail.com\t888-314-46-780\n",
            "28\tRodríguez\tRojas\tAarón Israel\tActuaría\taaronrojas@ciencias.unam.mx\t55-931-23-412\n",
            "29\tRodríguez\tVega\tOctavio\tMatemáticas\toctavius@ciencias.unam.mx\t55-366-59-591\n",
            "30\tSalas\tReyes\tSac-Nicte Damayanti\tAplicadas\tnictesalas@ciencias.unam.com\t55-276-13-206\n",
            "31\tSalinas\tAvelino\tElizabeth\tActuaría\teliza160900@ciencias.unam.mx\t55-626-14-760\n",
            "32\tSánchez\tMartínez\tFabiola Sofía\tActuaría\tsofysm99@gmail.com\t55-461-15-303\n",
            "33\tSánchez\tValle\tDaniela Itzel\tActuaría\tdanielavalle@ciencias.unam.mx\t77-174-67-488\n",
            "34\tTéllez\tSoto\tJosé Emanuel\tAplicadas\tjoseemanueltellezsoto@gmail.com\t55-93680-510\n",
            "35\tVásquez\tMartínez\tAndrea Lizbeth\tActuaría\tandreavasquez115@gmail.com\t55-687-34366\n",
            "36\tZamarripa\tOrnelas\tDiego Mauricio\tActuaría\tdiego.zamarripa18@gmail.com\t55-458-69-357\n"
          ]
        }
      ]
    },
    {
      "cell_type": "code",
      "metadata": {
        "id": "JBZccgZdf9Qq"
      },
      "source": [
        "# ****IMPORTANTE CERRAR EL ARCHIVO*****\n",
        "archivo.close()"
      ],
      "execution_count": 13,
      "outputs": []
    },
    {
      "cell_type": "markdown",
      "metadata": {
        "id": "h2NHLmt3jILr"
      },
      "source": [
        "# Referencias\n",
        "\n",
        "*   https://www.w3schools.com/python/python_regex.asp\n",
        "*   https://uniwebsidad.com/libros/python/capitulo-9\n",
        "\n",
        "\n",
        "\n"
      ]
    }
  ]
}