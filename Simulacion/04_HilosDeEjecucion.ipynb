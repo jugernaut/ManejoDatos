{
  "nbformat": 4,
  "nbformat_minor": 0,
  "metadata": {
    "colab": {
      "name": "HilosdeEjecucion.ipynb",
      "provenance": [],
      "toc_visible": true,
      "authorship_tag": "ABX9TyOI/sBrunZOd1mrHTzZJ3h2",
      "include_colab_link": true
    },
    "kernelspec": {
      "name": "python3",
      "display_name": "Python 3"
    },
    "language_info": {
      "name": "python"
    }
  },
  "cells": [
    {
      "cell_type": "markdown",
      "metadata": {
        "id": "view-in-github",
        "colab_type": "text"
      },
      "source": [
        "<a href=\"https://colab.research.google.com/github/jugernaut/ManejoDatos/blob/main/Simulacion/04_HilosdeEjecucion.ipynb\" target=\"_parent\"><img src=\"https://colab.research.google.com/assets/colab-badge.svg\" alt=\"Open In Colab\"/></a>"
      ]
    },
    {
      "cell_type": "markdown",
      "metadata": {
        "id": "aBWkokaHCyDj"
      },
      "source": [
        "<font color=\"Teal\" face=\"Comic Sans MS,arial\">\n",
        "  <h1 align=\"center\"><i>Hilos de Ejecución</i></h1>\n",
        "  </font>\n",
        "  <font color=\"Black\" face=\"Comic Sans MS,arial\">\n",
        "  <h5 align=\"center\"><i>Profesor: M.en.C. Miguel Angel Pérez León</i></h5>\n",
        "    <h5 align=\"center\"><i>Ayudante: Jesús Iván Coss Calderón</i></h5>\n",
        "  <h5 align=\"center\"><i>Materia: Manejo de Datos</i></h5>\n",
        "  </font>"
      ]
    },
    {
      "cell_type": "markdown",
      "metadata": {
        "id": "6AKv_wJQC1B8"
      },
      "source": [
        "## **Introducción**\n",
        "\n",
        "Para esta presentación es bueno comenzar con una frase del mundo de la computación.\n",
        "\n",
        "**“El software se ralentiza más de prisa de lo que se acelera el hardware”**\n",
        "\n",
        "Esta frase lo que implica es que, de la mano de la creciente cantidad de datos que manejan las aplicaciones actualmente, va la necesidad de poder. Los programadores de aplicaciones, en la mayoría de los casos, no sabemos emplear la potencia del hardware y no se optimiza\n",
        "\n",
        "¿Que se puede hacer al respecto?."
      ]
    },
    {
      "cell_type": "markdown",
      "metadata": {
        "id": "J8OOAYARC061"
      },
      "source": [
        "### Multitarea\n",
        "\n",
        "La respuesta a la pregunta anterior es, empleando el concepto de multitarea.\n",
        "\n",
        "El concepto de multitarea radica en la capacidad de realizar varias tareas de manera simultanea, de manera tal que una tarea que tomaba demasiado tiempo, se reduzca de manera considerable.\n",
        "\n",
        "Pero una vez mas, surge la pregunta. ¿Por que me debe interesar que mis programas, algoritmos, etc., no demoren demasiado?.\n",
        "\n",
        "Y en este caso la respuesta es sencilla, una aplicación o programa que toma demasiado tiempo en devolver una respuesta por lo general no se utiliza y por lo tanto no tiene sentido crearla."
      ]
    },
    {
      "cell_type": "markdown",
      "metadata": {
        "id": "PTX9W3gIC0zk"
      },
      "source": [
        "##**Hilo de Ejecución**"
      ]
    },
    {
      "cell_type": "markdown",
      "metadata": {
        "id": "Vqyp-VzgC0sR"
      },
      "source": [
        "### Definición\n",
        "\n",
        "El concepto de hilo (Thread en ingles) es una idea básica para entender como funciona la multitarea y como es que podemos agilizar el desempeño de nuestras aplicaciones.\n",
        "\n",
        "Hilo de Ejecución:Un Hilo es un trozo de código de nuestro programa que puede ser ejecutado al mismo tiempo que otro. Tambien conocido como proceso ligero, son un conjunto de tareas modulares que puede ser ejecutadas por el sistema operativo.\n",
        "\n",
        "Los hilos de ejecución que comparten los mismos recursos, sumados a estos recursos, son en conjunto conocidos como un proceso. El hecho de que los hilos de ejecución de un mismo proceso compartan los recursos hace que cualquiera de estos hilos pueda modificar estos recursos."
      ]
    },
    {
      "cell_type": "markdown",
      "metadata": {
        "id": "iG3HfgmlC0lJ"
      },
      "source": [
        "### ¿Qué puede ejecutarse de manera simultánea?\n",
        "\n",
        "Vamos a poner el siguiente ejemplo, imaginemos que queremos ver un listado de 100 imágenes que se descargan desde Internet, **como usuario** ¿Cuál de las dos opciones siguientes elegirías?:\n",
        "\n",
        "* Descargar las imágenes 100 imágenes, haciendo esperar al usuario con una pantalla de “cargando” hasta que se descargan todas. Luego podrá ver el listado con las imágenes.\n",
        "\n",
        "* Que mientras se descargan las 100 imágenes, el usuario pueda ir viendo y usando las que ya se han descargado.\n",
        "\n",
        "* Como desarrollador la opción A es más sencilla ¿Seguro? Pero no te he preguntado cómo desarrollador, te he preguntado lo que un usuario preferiría."
      ]
    },
    {
      "cell_type": "markdown",
      "metadata": {
        "id": "0V4zUVu6C0dX"
      },
      "source": [
        "### Planos\n",
        "\n",
        "Desde el punto de vista del usuario existen dos áreas bien diferenciadas, que el desarrollador ha de tener en cuenta:\n",
        "\n",
        "* $\\color{blue}{Primer\\ plano:}$ En este plano se ejecuta únicamente un hilo llamado “hilo principal”. Aquí hemos programado siempre, sin conocimiento de que estábamos trabajando ya con hilos. Es el hilo que trabaja con las vistas, es decir, con la interfaz gráfica que ve el usuario: botones, ventanas emergentes, campos editables, etc. También, puede ser usado para hacer cálculos u otros procesamientos complejos, aunque estos deberían de evitarse hacerse en este hilo a toda costa –salvo si es imposible que se hagan en otro hilo–. \n",
        "\n",
        "* $\\color{blue}{Segundo\\ plano\\ (o\\ en\\ ingl\\acute{e}s\\ background):}$ Se ejecuta todo el resto de hilos. El segundo plano tiene la característica de iniciar en el mismo momento que el primer plano. Aquí los hilos deberían de llevar las ejecuciones pesadas de la aplicación. El segundo plano el usuario no lo ve, es más, ni le interesa, para el usuario no existe."
      ]
    },
    {
      "cell_type": "markdown",
      "metadata": {
        "id": "VMbCMbK6C0Wb"
      },
      "source": [
        "### Diferencia entre hilo y proceso\n",
        "\n",
        "Un proceso es aquella tarea (puede estar compuesta de subtareas) que es ejecutada por el microprocesador y en el caso de computadoras con varios procesadores, cada uno de estos CPU's puede estar ejecutando al menos un proceso en un determinado paso de tiempo\n",
        "\n",
        "Podemos pensar en un proceso como un programa o aplicación en ejecución. Y en este caso una aplicación es un archivo escrito en algún lenguaje de programación que esta siendo ejecutado por el microprocesador. \n",
        "\n",
        "También puede suceder que en un proceso se puedan ejecutar varias instancias, como cuando se abren varias ventanas de un Block de notas o un Navegador. Así, se deduce y es verdad que un proceso contiene un hilo –mínimo el hilo principal que corre en primer plano."
      ]
    },
    {
      "cell_type": "markdown",
      "metadata": {
        "id": "-3SKrVx5C0PJ"
      },
      "source": [
        "## **Hilos en Java (Thread)**"
      ]
    },
    {
      "cell_type": "markdown",
      "metadata": {
        "id": "quzslMFsC0HU"
      },
      "source": [
        "### Introducción\n",
        "\n",
        "Actualmente la mayoría de los lenguajes de alto nivel (como Java) permiten hacer uso de hilos de ejecución (procesos ligeros). Normalmente es a través de una biblioteca, modulo, o paquete que se permite hacer uso de hilos, depende del lenguaje.\n",
        "\n",
        "Es decir que que ya no hace falta preocuparse por como esta hecha la implementación del manejo de hilos, no es necesario tener conocimientos profundos de como funciona el **sistema operativo** y mucho menos el ó los $\\color{blue}{microprocesadores}$, para poder hacer uso de esta poderosa herramienta.\n",
        "\n",
        "Dado que Java es un lenguaje completamente orientado a objetos, la forma en la cual se puede hacer uso de hilos de ejecución es mediante la clase $\\color{blue}{Thread}$ o la interfaz $\\color{blue}{Runable}$."
      ]
    },
    {
      "cell_type": "markdown",
      "metadata": {
        "id": "dEEZAE_cCz_W"
      },
      "source": [
        "### La interfaz Runnable\n",
        "\n",
        "Las interfaces son una de las características mas importantes y potentes de java (no solo las graficas), mediante una interfaz de java se $\\color{blue}{puede\\ definir\\ un\\ comportamiento}$ y en el caso de los hilos, podemos definir que una clase debe comportarse como un hilo de ejecución. \n",
        "\n",
        "Una vez que la clase en cuestión implementa la interfaz Runnable ($\\color{blue}{implements\\ Runnable}$), es decir que define el único método de esta interfaz, podemos decir que nuestra clase se puede comportar como un hilo de ejecución, por lo tanto puede ser ejecutado mediante el método $\\color{blue}{run()}$.\n",
        "\n",
        "Así de simple podemos definir que una determinada clase se comporte como un hilo de ejecución, Considerando el concepto de hilo, el método $\\color{blue}{run()}$ debe ser algo no muy complejo de realizar. Para mayor información de esta interfaz puedes revisar el API de Java."
      ]
    },
    {
      "cell_type": "markdown",
      "metadata": {
        "id": "tRXISFfcCz12"
      },
      "source": [
        "### La clase Thread\n",
        "\n",
        "La clase Thread es una abstracción de todo lo que se puede hacer con un hilo de ejecución, por ejemplo: ejecutarlo, dormirlo, detenerlo, etc. Para mayor información de lo que ya tiene implementado la clase Thread, revisar el API de Java.\n",
        "\n",
        "De tal manera que basta con heredar ($\\color{blue}{extends\\ Thread}$) de la clase Thread para que la clase heredera tenga todas las cualidades de un hilo de ejecución.\n",
        "\n",
        "Sin embargo es importante mencionar que la clase Thread, implementa la interfaz Runnable, es decir que una vez que hayamos heredado de la clase Thread es necesario redefinir el método $\\color{blue}{run()}$."
      ]
    },
    {
      "cell_type": "markdown",
      "metadata": {
        "id": "_3_aNr-oCzov"
      },
      "source": [
        "### ¿Usar Runnable o Thread?\n",
        "\n",
        "Sin importar cual de las 2 opciones se elija ($\\color{blue}{Runnable\\ \\acute{o}\\ Thread}$) vale la pena mencionar que para fines prácticos ambas funcionan igual, es decir que podemos poner en ejecución un hilo empleando el método $\\color{blue}{run()}$.\n",
        "\n",
        "La principal diferencia radica en el hecho de que al heredar de la clase $\\color{blue}{Thread}$, se tienen mas control sobre los hilos de ejecución y por el contrario al implementar la interfaz $\\color{blue}{Runnable}$, unicamente se tiene un método directamente relacionado con los hilos de ejecución, el método $\\color{blue}{run()}$.\n",
        "\n",
        "Otra diferencia es que al heredar de la clase $\\color{blue}{Thread}$, ya no es posible heredar de otra clase. Por otro lado no importa si implementamos $\\color{blue}{Runnable}$, Java permite implementar múltiples interfaces."
      ]
    },
    {
      "cell_type": "markdown",
      "metadata": {
        "id": "NzyFjcPOCy6w"
      },
      "source": [
        "## **Programación en Paralelo**"
      ]
    },
    {
      "cell_type": "markdown",
      "metadata": {
        "id": "HYd2u88oDlXm"
      },
      "source": [
        "### Conceptos\n",
        "\n",
        "Ademas de las técnicas previamente mencionadas para poder realizar múltiples tareas dentro de una computadora, existen 2 conceptos relativamente nuevos:\n",
        "\n",
        "* $\\color{blue}{Programaci\\acute{o}n\\ en\\ Paralelo\\ Multicore:}$ con la creciente capacidad de computo actual existen computadoras que cuentan con mas de un núcleo (core) es decir que cuentan con mas de un microprocesador. Es en este tipo de equipos en los cuales se pueden ejecutar múltiples procesos (no solo hilos) en paralelo con la finalidad de realizar una tarea en el menor tiempo posible.\n",
        "\n",
        "* $\\color{blue}{Programaci\\acute{o}n\\ en\\ Paralelo\\ GPU's:}$ un GPU es una unidad grafica de procesamiento, casi por accidente se descubrió que estas unidades graficas también son útiles para llevar a cabo computo en paralelo, incluso han mostrado un mejor desempeño en cálculos de punto flotante que algunos microprocesadores. Sin embargo su desventaja principal es que la memoria no es compartida."
      ]
    },
    {
      "cell_type": "markdown",
      "metadata": {
        "id": "6HbZZ0OZDlNX"
      },
      "source": [
        "Se sigue de las definiciones anteriores que un proceso se puede ejecutar de manera secuencial o de manera concurrente.\n",
        "\n",
        "* **Secuencial**: proceso, tarea o algoritmo que tiene que ejecutarse paso a paso, es decir que hasta que no se termine de realizar uno de sus pasos, no se puede iniciar el siguiente.\n",
        "\n",
        "* **Concurrente**: todo aquel proceso tarea o algoritmo que puede ser dividido en subtareas mas pequeñas que pueden ser realizadas al mismo tiempo. Una vez realizadas las subtareas, los resultados pueden unirse."
      ]
    },
    {
      "cell_type": "markdown",
      "metadata": {
        "id": "z5GaqtFvDlDi"
      },
      "source": [
        "### Ley de Amdahl\n",
        "\n",
        "\\begin{array}{|c|}\n",
        "\\hline\n",
        "\\color{green}{Corolario:}\\\\\n",
        "\\hline\n",
        "\\end{array}\n",
        "\n",
        "Sea $f$ la fracción de operaciones en un calculo computacional que sera llevado a cabo de manera secuencial, donde $0\\leq f\\leq1$. La máxima velocidad $\\Psi$ alcanzada mediante programación en paralelo con una computadora con $p$ procesadores enfocados en el mismo calculo es:\n",
        "\n",
        "$$\\Psi\\leq\\frac{1}{f+(1-f)/p}$$"
      ]
    },
    {
      "cell_type": "markdown",
      "metadata": {
        "id": "2wdRgY5KDk4G"
      },
      "source": [
        "##**Apendice**"
      ]
    },
    {
      "cell_type": "markdown",
      "metadata": {
        "id": "86Hr-GmxDkdH"
      },
      "source": [
        "### Referencias\n",
        "\n",
        "* Greg Riccardi: Principles of Database Systems with Internet an Java Aplications.\n",
        "\n",
        "* Anexo: Algebra relacional, https://www.unirioja.es/cu/arjaime/Temas/04.Anexo.pdf\n",
        "\n",
        "*  https://www.w3schools.com/sql/\n",
        "\n",
        "*  http://mysql.conclase.net/curso/?cap=000#\n",
        "\n",
        "*  http://didepa.uaemex.mx/clases/Manuales/MySql/MySql-La%20biblia%20de%20mysql.pdf\n",
        "\n",
        "*  https://downloads.mysql.com/docs/refman-5.0-es.pdf"
      ]
    }
  ]
}
