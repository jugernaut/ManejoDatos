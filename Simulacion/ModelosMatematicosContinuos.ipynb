{
  "nbformat": 4,
  "nbformat_minor": 0,
  "metadata": {
    "kernelspec": {
      "display_name": "Python 3.7 (tensorflow)",
      "language": "python",
      "name": "tensorflow"
    },
    "language_info": {
      "codemirror_mode": {
        "name": "ipython",
        "version": 3
      },
      "file_extension": ".py",
      "mimetype": "text/x-python",
      "name": "python",
      "nbconvert_exporter": "python",
      "pygments_lexer": "ipython3",
      "version": "3.7.7"
    },
    "colab": {
      "name": "ModelosMatematicosContinuos.ipynb",
      "provenance": [],
      "collapsed_sections": [],
      "toc_visible": true,
      "include_colab_link": true
    },
    "widgets": {
      "application/vnd.jupyter.widget-state+json": {
        "1375c4903b67449fb27f88ecd9c7aa62": {
          "model_module": "@jupyter-widgets/controls",
          "model_name": "VBoxModel",
          "model_module_version": "1.5.0",
          "state": {
            "_view_name": "VBoxView",
            "_dom_classes": [
              "widget-interact"
            ],
            "_model_name": "VBoxModel",
            "_view_module": "@jupyter-widgets/controls",
            "_model_module_version": "1.5.0",
            "_view_count": null,
            "_view_module_version": "1.5.0",
            "box_style": "",
            "layout": "IPY_MODEL_1a4dda14688d46ce84a9bfacd93496ca",
            "_model_module": "@jupyter-widgets/controls",
            "children": [
              "IPY_MODEL_d71c582c6f2a46c09980cc769141afc4",
              "IPY_MODEL_938ccb51d5c24d8aab9b5ef8b081deb5"
            ]
          }
        },
        "1a4dda14688d46ce84a9bfacd93496ca": {
          "model_module": "@jupyter-widgets/base",
          "model_name": "LayoutModel",
          "model_module_version": "1.2.0",
          "state": {
            "_view_name": "LayoutView",
            "grid_template_rows": null,
            "right": null,
            "justify_content": null,
            "_view_module": "@jupyter-widgets/base",
            "overflow": null,
            "_model_module_version": "1.2.0",
            "_view_count": null,
            "flex_flow": null,
            "width": null,
            "min_width": null,
            "border": null,
            "align_items": null,
            "bottom": null,
            "_model_module": "@jupyter-widgets/base",
            "top": null,
            "grid_column": null,
            "overflow_y": null,
            "overflow_x": null,
            "grid_auto_flow": null,
            "grid_area": null,
            "grid_template_columns": null,
            "flex": null,
            "_model_name": "LayoutModel",
            "justify_items": null,
            "grid_row": null,
            "max_height": null,
            "align_content": null,
            "visibility": null,
            "align_self": null,
            "height": null,
            "min_height": null,
            "padding": null,
            "grid_auto_rows": null,
            "grid_gap": null,
            "max_width": null,
            "order": null,
            "_view_module_version": "1.2.0",
            "grid_template_areas": null,
            "object_position": null,
            "object_fit": null,
            "grid_auto_columns": null,
            "margin": null,
            "display": null,
            "left": null
          }
        },
        "d71c582c6f2a46c09980cc769141afc4": {
          "model_module": "@jupyter-widgets/controls",
          "model_name": "IntSliderModel",
          "model_module_version": "1.5.0",
          "state": {
            "_view_name": "IntSliderView",
            "style": "IPY_MODEL_d38ab95a83ac4b70a959aaae42daad4c",
            "_dom_classes": [],
            "description": "t",
            "step": 1,
            "_model_name": "IntSliderModel",
            "orientation": "horizontal",
            "max": 100,
            "_view_module": "@jupyter-widgets/controls",
            "_model_module_version": "1.5.0",
            "value": 59,
            "_view_count": null,
            "disabled": false,
            "_view_module_version": "1.5.0",
            "min": 0,
            "continuous_update": true,
            "readout_format": "d",
            "description_tooltip": null,
            "readout": true,
            "_model_module": "@jupyter-widgets/controls",
            "layout": "IPY_MODEL_a9fa6f3aec8d49ceb361e3c36c841ec0"
          }
        },
        "938ccb51d5c24d8aab9b5ef8b081deb5": {
          "model_module": "@jupyter-widgets/output",
          "model_name": "OutputModel",
          "model_module_version": "1.0.0",
          "state": {
            "_view_name": "OutputView",
            "msg_id": "",
            "_dom_classes": [],
            "_model_name": "OutputModel",
            "outputs": [
              {
                "output_type": "display_data",
                "data": {
                  "image/png": "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\n",
                  "text/plain": "<Figure size 432x288 with 1 Axes>"
                },
                "metadata": {
                  "needs_background": "light"
                }
              }
            ],
            "_view_module": "@jupyter-widgets/output",
            "_model_module_version": "1.0.0",
            "_view_count": null,
            "_view_module_version": "1.0.0",
            "layout": "IPY_MODEL_32dc056c065a422a804ed33abae62fd6",
            "_model_module": "@jupyter-widgets/output"
          }
        },
        "d38ab95a83ac4b70a959aaae42daad4c": {
          "model_module": "@jupyter-widgets/controls",
          "model_name": "SliderStyleModel",
          "model_module_version": "1.5.0",
          "state": {
            "_view_name": "StyleView",
            "handle_color": null,
            "_model_name": "SliderStyleModel",
            "description_width": "",
            "_view_module": "@jupyter-widgets/base",
            "_model_module_version": "1.5.0",
            "_view_count": null,
            "_view_module_version": "1.2.0",
            "_model_module": "@jupyter-widgets/controls"
          }
        },
        "a9fa6f3aec8d49ceb361e3c36c841ec0": {
          "model_module": "@jupyter-widgets/base",
          "model_name": "LayoutModel",
          "model_module_version": "1.2.0",
          "state": {
            "_view_name": "LayoutView",
            "grid_template_rows": null,
            "right": null,
            "justify_content": null,
            "_view_module": "@jupyter-widgets/base",
            "overflow": null,
            "_model_module_version": "1.2.0",
            "_view_count": null,
            "flex_flow": null,
            "width": null,
            "min_width": null,
            "border": null,
            "align_items": null,
            "bottom": null,
            "_model_module": "@jupyter-widgets/base",
            "top": null,
            "grid_column": null,
            "overflow_y": null,
            "overflow_x": null,
            "grid_auto_flow": null,
            "grid_area": null,
            "grid_template_columns": null,
            "flex": null,
            "_model_name": "LayoutModel",
            "justify_items": null,
            "grid_row": null,
            "max_height": null,
            "align_content": null,
            "visibility": null,
            "align_self": null,
            "height": null,
            "min_height": null,
            "padding": null,
            "grid_auto_rows": null,
            "grid_gap": null,
            "max_width": null,
            "order": null,
            "_view_module_version": "1.2.0",
            "grid_template_areas": null,
            "object_position": null,
            "object_fit": null,
            "grid_auto_columns": null,
            "margin": null,
            "display": null,
            "left": null
          }
        },
        "32dc056c065a422a804ed33abae62fd6": {
          "model_module": "@jupyter-widgets/base",
          "model_name": "LayoutModel",
          "model_module_version": "1.2.0",
          "state": {
            "_view_name": "LayoutView",
            "grid_template_rows": null,
            "right": null,
            "justify_content": null,
            "_view_module": "@jupyter-widgets/base",
            "overflow": null,
            "_model_module_version": "1.2.0",
            "_view_count": null,
            "flex_flow": null,
            "width": null,
            "min_width": null,
            "border": null,
            "align_items": null,
            "bottom": null,
            "_model_module": "@jupyter-widgets/base",
            "top": null,
            "grid_column": null,
            "overflow_y": null,
            "overflow_x": null,
            "grid_auto_flow": null,
            "grid_area": null,
            "grid_template_columns": null,
            "flex": null,
            "_model_name": "LayoutModel",
            "justify_items": null,
            "grid_row": null,
            "max_height": null,
            "align_content": null,
            "visibility": null,
            "align_self": null,
            "height": null,
            "min_height": null,
            "padding": null,
            "grid_auto_rows": null,
            "grid_gap": null,
            "max_width": null,
            "order": null,
            "_view_module_version": "1.2.0",
            "grid_template_areas": null,
            "object_position": null,
            "object_fit": null,
            "grid_auto_columns": null,
            "margin": null,
            "display": null,
            "left": null
          }
        }
      }
    }
  },
  "cells": [
    {
      "cell_type": "markdown",
      "metadata": {
        "id": "view-in-github",
        "colab_type": "text"
      },
      "source": [
        "<a href=\"https://colab.research.google.com/github/jugernaut/ManejoDatos/blob/desarrollo/Simulacion/ModelosMatematicosContinuos.ipynb\" target=\"_parent\"><img src=\"https://colab.research.google.com/assets/colab-badge.svg\" alt=\"Open In Colab\"/></a>"
      ]
    },
    {
      "cell_type": "markdown",
      "metadata": {
        "id": "sh8cvp-EpbXK"
      },
      "source": [
        "<font color=\"Teal\" face=\"Comic Sans MS,arial\">\n",
        "  <h1 align=\"center\"><i>Modelos Matemáticos</i></h1>\n",
        "  </font>\n",
        "  <font color=\"Black\" face=\"Comic Sans MS,arial\">\n",
        "  <h5 align=\"center\"><i>Profesor: M.en.C. Miguel Angel Pérez León</i></h5>\n",
        "    <h5 align=\"center\"><i>Ayudante: Jesús Iván Coss Calderón</i></h5>\n",
        "    <h5 align=\"center\"><i>Ayudante: Mario Arturo</i></h5>\n",
        "  <h5 align=\"center\"><i>Materia: Seminario de programación en paralelo</i></h5>\n",
        "  </font>"
      ]
    },
    {
      "cell_type": "markdown",
      "metadata": {
        "id": "0p8AHXBvDBiU"
      },
      "source": [
        "# Introducción\n",
        "\n",
        "Recordemos como se calcula el polinomio de Lagrange con $n+1$ nodos de interpolación, ya que para la construcción de la derivada numérica es muy ilustrativo.\n",
        "\n",
        "$$P\\left(x\\right)=\\sum_{i=0}^{n}L_{i}(x)f(x_{i})$$"
      ]
    },
    {
      "cell_type": "markdown",
      "metadata": {
        "id": "ZqsqRyYsC6gm"
      },
      "source": [
        "## Construcción de la aproximación mediante Lagrange\n",
        "\n",
        "Se define la Formula de Derivación Numérica para aproximar $f'\\left(x_{*}\\right)$ sobre los nodos de interpolación $\\left\\{ x_{0},x_{1},\\ldots,x_{n}\\right\\}$ \n",
        "\n",
        "$$f'\\left(x_{*}\\right)\\approx\\sum_{i=0}^{n}C_{i}f(x_{i})$$\n",
        "\n",
        "Donde $C_{i}$ son los coeficientes o pesos de la formula. Es decir $C_{i}=L_{i}^{'}\\left(x_{*}\\right)$, con $L_{i}$ los respectivos coeficientes del polinomio de Lagrange."
      ]
    },
    {
      "cell_type": "markdown",
      "metadata": {
        "id": "HAe_HcEL8Kyh"
      },
      "source": [
        "## Definición\n",
        "\n",
        "Sea $f\\left(x\\right)$ una función derivable en $x_{*}$ y dada la formula de derivación numérica para aproximar $f'\\left(x_{*}\\right)$ sobre los nodos $\\left\\{ x_{0},x_{1},\\ldots,x_{n}\\right\\}$  donde \n",
        "\n",
        "$$f'\\left(x_{*}\\right)\\approx f_{*}^{'}=\\sum_{i=0}^{n}C_{i}f(x_{i})$$\n",
        "\n",
        "El error de truncamiento de la aproximación de la derivada para la función $f\\left(x\\right)$ en el punto $x_{*}$ esta dado por\n",
        "\n",
        "$$E_{f}\\left(x_{*}\\right)=f'\\left(x_{*}\\right)-f_{*}^{'}$$"
      ]
    },
    {
      "cell_type": "markdown",
      "metadata": {
        "id": "eZvZgiRkDLhA"
      },
      "source": [
        "## Construcción de la aproximación mediante Newton\n",
        "\n",
        "Sean los puntos $\\left\\{ x_{0},x_{1}\\right\\}$ , el polinomio interpolador de Newton de $f\\left(x\\right)$ esta dado por \n",
        "\n",
        "$$f\\left(x\\right)\\approx P_{1}\\left(x\\right)=f\\left(x_{0}\\right)+\\frac{f\\left(x_{1}\\right)-f\\left(x_{0}\\right)}{x_{1}-x_{0}}\\left(x-x_{0}\\right)=f\\left(x_{0}\\right)+\\frac{x\\left(f\\left(x_{1}\\right)-f\\left(x_{0}\\right)\\right)}{x_{1}-x_{0}}-\\frac{x_{0}\\left(f\\left(x_{1}\\right)-f\\left(x_{0}\\right)\\right)}{x_{1}-x_{0}}$$\n",
        "\n",
        "Dado que ya calculamos $P_{1}\\left(x\\right)$ basta encontrar una aproximación de $f'\\left(x_{*}\\right)$ mediante la formula de derivación numérica\n",
        "\n",
        "$$f'\\left(x_{0}\\right)\\approx P_{1}^{'}\\left(x_{0}\\right)=\\frac{f\\left(x_{1}\\right)-f\\left(x_{0}\\right)}{x_{1}-x_{0}} \\tag{1}$$\n",
        "\n",
        "Si definimos $h=x_{1}-x_{0}$ y substituimos en (1) \n",
        "\n",
        "$$f'\\left(x_{0}\\right)\\approx P_{1}^{'}\\left(x_{0}\\right)=\\frac{f\\left(x_{0}+h\\right)-f\\left(x_{0}\\right)}{h} \\tag{2}$$\n",
        "\n",
        "A la ecuación (2) se le conoce como **diferencia hacia adelante**, ya que toma $x_{0}$ y el siguiente punto $x_{1}$ para aproximar la derivada. \n",
        "\n",
        "Por otro lado si se toman los puntos $x_{0}$ y su antecesor, la ecuación (1) se transforma en \n",
        "\n",
        "$$f'\\left(x_{0}\\right)\\approx P_{1}^{'}\\left(x_{0}\\right)=\\frac{f\\left(x_{0}\\right)-f\\left(x_{0}-h\\right)}{h} \\tag{3}$$\n",
        "\n",
        "A la ecuación (3) se le conoce como **diferencia hacia atrás**, ya que toma $x_{0}$ y el punto anterior para aproximar la derivada. \n",
        "\n",
        "Estas 2 formas de calcular la 1er. derivada en un punto empleando el polinomio de Newton son útiles, pero aun hace falta tener más precisión en los cálculos. "
      ]
    },
    {
      "cell_type": "markdown",
      "metadata": {
        "id": "0SCDQqM5BQR7"
      },
      "source": [
        "\n",
        "## Construcción de la aproximación mediante Taylor\n",
        "\n",
        "Recordando la expansión en series de Taylor alrededor del punto $x_{i}$, con $x_{i+1}=x_i+h$ tenemos\n",
        "\n",
        "$$f\\left(x_{i+1}\\right)=f\\left(x_{i}\\right)+f'\\left(x_{i}\\right)(x_{i+1}-x_{i})+\\frac{f''\\left(x_{i}\\right)(x_{i+1}-x_{i})^{2}}{2!}+\\cdots$$"
      ]
    },
    {
      "cell_type": "markdown",
      "metadata": {
        "id": "3Igeqdcgpur0"
      },
      "source": [
        "### Diferencias hacia adelante\n",
        "\n",
        "Como $h=x_{i+1}-x_{i}$ y usando los 2 primeros términos de la serie, se tiene\n",
        "\n",
        "$$f\\left(x_{i+1}\\right)=f\\left(x_i\\right)+hf'\\left(x_i\\right)+\\frac{h^{2}}{2}f''\\left(x_i\\right) \\tag{4}$$\n",
        "\n",
        "Al despejar $f'\\left(x\\right)$ \n",
        "\n",
        "$$hf'\\left(x_i\\right)=f\\left(x_{i+1}\\right)-f\\left(x_i\\right)-\\frac{h^{2}}{2}f''\\left(x_i\\right)$$\n",
        "$$\\Longrightarrow f'\\left(x_i\\right)=\\frac{f(x_{i+1})-f(x_i)}{h}-\\frac{h}{2}f''\\left(x_i\\right)$$\n",
        "\n",
        "Como el último termino de la ecuación anterior es proporcional a $h$, el error es del orden de $h$ \n",
        "\n",
        "$$\\therefore f'\\left(x_{i}\\right)=\\frac{f\\left(x_{i+1}\\right)-f\\left(x_{i}\\right)}{h}+O\\left(h\\right) \\tag{5}$$\n",
        "\n",
        "La ecuación (5) es otra forma de construir la **diferencias finitas hacia adelante**."
      ]
    },
    {
      "cell_type": "markdown",
      "metadata": {
        "id": "KSzLfxB8p1AU"
      },
      "source": [
        "### Diferencias hacia atrás\n",
        "\n",
        "Por otro lado, podemos aproximar la derivada empleando un punto hacia atrás, mediante el siguiente desarollo.\n",
        "\n",
        "$$f\\left(x_{i-1}\\right)=f\\left(x_i\\right)-hf'\\left(x_i\\right)+\\frac{h^{2}}{2}f''\\left(x_i\\right) \\tag{6}$$\n",
        "\n",
        "$$f'\\left(x_{i}\\right)=\\frac{f\\left(x_{i}\\right)-f\\left(x_{i-1}\\right)}{h}+O\\left(h\\right) \\tag{7}$$\n",
        "\n",
        "A la ecuación (7) se le conoce como **diferencias finitas hacia atrás**."
      ]
    },
    {
      "cell_type": "markdown",
      "metadata": {
        "id": "FVpz0EcBqAEt"
      },
      "source": [
        "### Diferencias centradas\n",
        "\n",
        "Ahora, si tomamos los primeros 4 terminos de las ecuaciones (4) y (6) y los restamos, tenemos que.\n",
        "\n",
        "$$f\\left(x_{i+1}\\right)=f\\left(x_i\\right)+hf'\\left(x_i\\right)+\\frac{h^{2}}{2}f''\\left(x_i\\right) \\tag{4}$$\n",
        "\n",
        "$$f\\left(x_{i-1}\\right)=f\\left(x_i\\right)-hf'\\left(x_i\\right)+\\frac{h^{2}}{2}f''\\left(x_i\\right) \\tag{6}$$\n",
        "\n",
        "$$f\\left(x_{i+1}\\right)-f\\left(x_{i-1}\\right)=f(x_i)+hf'(x_i)+\\frac{h^{2}}{2}f''(x_i)+\\frac{h^{3}}{6}f'''(x_i)-f(x_i)+hf'(x_i)-\\frac{h^{2}}{2}f''(x_i)+\\frac{h^{3}}{6}f'''(x_i)$$\n",
        "\n",
        "$$ \\Longrightarrow f(x+h)-f(x-h)=2hf'(x)+2\\frac{h^{3}}{6}f'''(x)$$\n",
        "\n",
        "Al despejar $f'(x)$, tenemos que.\n",
        "\n",
        "$$2hf'(x)=f(x+h)-f(x-h)-2\\frac{h^{3}}{6}f'''(x)$$\n",
        "\n",
        "$$f'(x)=\\frac{f(x+h)-f(x-h)-2\\frac{h^{3}}{6}f'''(x)}{2h}$$\n",
        "\n",
        "$$f'\\left(x\\right)=\\frac{f(x_{i+h})-f(x)}{h}-\\frac{h}{2}f''\\left(x\\right)$$\n",
        "\n",
        "$$\\therefore f'\\left(x_{i}\\right)=\\frac{f\\left(x_{i+1}\\right)-f\\left(x_{i-1}\\right)}{2h}+O\\left(h^{2}\\right)$$"
      ]
    },
    {
      "cell_type": "markdown",
      "metadata": {
        "id": "c4o_2eg8Dcgp"
      },
      "source": [
        "### Ejemplo\n",
        "\n",
        "Sea la función $f(x)=\\ln x$ y $x_{0}=1.8$ aproxime la derivada de $f\\left(x_{0}\\right)$\n",
        "\n",
        "**Solución**: \n",
        "\n",
        "Empleando la diferencia hacia adelante.\n",
        "\n",
        "$$\\frac{f\\left(1.8+h\\right)-f\\left(1.8\\right)}{h}$$\n",
        "\n",
        "Esta definición, nos ayuda a aproximar $f'\\left(1.8\\right)$, los resultados de la siguiente tabla se dan con distintos tamaños de paso $h$.\n",
        "\n",
        "| h| $f\\left(1.8+h\\right)$ |  $\\frac{f\\left(1.8+h\\right)-f\\left(1.8\\right)}{h}$| error|\n",
        "| :-:  | :-: | :-: |  :-: | \n",
        "| 0.1  | 0.64185389\t|0.540672200000\t|0.0154321|\n",
        "| 0.01 | 0.59332685\t|0.55401800000\t|0.0015432|\n",
        "| 0.001\t|0.58834207\t|0.55540130000\t|0.0001543|"
      ]
    },
    {
      "cell_type": "markdown",
      "metadata": {
        "id": "AnORDSqVpbXV"
      },
      "source": [
        "# Diferencias Finitas\n",
        "\n",
        "Como se dijo desde el principio del curso, la idea del mismo es, que uds. como estudiantes tengan la capacidad de abstracción para poder modelar algún fenómeno de su interés y con base en este modelo, encontrar una solución numérica al mismo.\n",
        "\n",
        "Dicha solución numérica, representa la solución al problema que inicialmente se quería analizar y mediante esta solución se pueden tomar decisiones.\n",
        "\n",
        "Estos modelos matemáticos en ciencia e ingeniería generalmente toman la forma de ecuaciones diferenciales.\n",
        "\n",
        "Algunos de estos modelos se muestran a continuación.\n",
        "\n",
        "<center>\n",
        "<img src=\"https://github.com/jugernaut/Numerico2021/blob/desarrollo/Figuras/derivacion/yacimiento.PNG?raw=1\" width=\"500\">\n",
        "</center>\n",
        "\n",
        "$$\\frac{\\delta}{\\delta t}\\left(\\frac{\\Phi S_{w}}{B_{w}}\\right)=\\nabla\\cdot\\left(T_{w}\\left[\\nabla p_{w}-\\rho_{w}\\vec{g}\\right]\\right)+\\frac{qWs}{B_{w}}$$\n",
        "\n",
        "$$\\frac{\\delta}{\\delta t}\\left(\\frac{\\Phi S_{o}}{B_{o}}\\right)=\\nabla\\cdot\\left(T_{o}\\left[\\nabla p_{o}-\\rho_{o}\\vec{g}\\right]\\right)+\\frac{qOs}{B_{o}}$$\n",
        "\n",
        "<center>\n",
        "<img src=\"https://github.com/jugernaut/Numerico2021/blob/desarrollo/Figuras/derivacion/dinamica.PNG?raw=1\" width=\"500\">\n",
        "</center>\n",
        "\n",
        "$$\\frac{\\delta\\rho}{\\delta t}+\\frac{\\delta}{\\delta x_{j}}\\left[\\rho u_{j}\\right]=0$$\n",
        "\n",
        "$$\\frac{\\delta}{\\delta t}\\left(\\rho u_{i}\\right)+\\frac{\\delta}{\\delta x_{j}}\\left[\\rho u_{i}u_{j}+p\\delta_{ij}-\\tau_{ji}\\right]=0,\\quad i=1,2,3$$\n",
        "\n",
        "<center>\n",
        "<img src=\"https://github.com/jugernaut/Numerico2021/blob/desarrollo/Figuras/derivacion/estru.PNG?raw=1\" width=\"500\">\n",
        "</center>\n",
        "\n",
        "$$\\nabla\\cdot\\sigma+F=\\rho\\frac{\\delta^{2}u}{\\delta t^{2}}$$\n",
        "\n",
        "$$\\varepsilon=\\frac{1}{2}\\left[\\nabla u+\\left(\\nabla u\\right)\\right]$$\n",
        "\n",
        "$$\\sigma=C:\\varepsilon$$\n",
        "\n",
        "<center>\n",
        "<img src=\"https://github.com/jugernaut/Numerico2021/blob/desarrollo/Figuras/derivacion/equi.PNG?raw=1\" width=\"500\">\n",
        "</center>\n",
        "\n",
        "$$\\delta x=\\delta B-5x\\,\\delta t$$\n",
        "\n"
      ]
    },
    {
      "cell_type": "markdown",
      "metadata": {
        "id": "8-fpqcs7D4Yh"
      },
      "source": [
        "## Motivación\n",
        "\n",
        "En la mayoría de los modelos solo existen soluciones analíticas para casos sencillos.\n",
        "\n",
        "Pero el creciente poder de computo ha hecho posible que estos y otros modelos tengan una solución numérica y que puedan ser analizados mas a detalle.\n",
        "\n",
        "<center>\n",
        "<img src=\"https://github.com/jugernaut/Numerico2021/blob/desarrollo/Figuras/derivacion/comp.PNG?raw=1\" width=\"600\">\n",
        "</center>\n",
        "\n",
        "### Idea Básica\n",
        "\n",
        "<center>\n",
        "<img src=\"https://github.com/jugernaut/Numerico2021/blob/desarrollo/Figuras/derivacion/disc.PNG?raw=1\" width=\"600\">\n",
        "</center>\n"
      ]
    },
    {
      "cell_type": "markdown",
      "metadata": {
        "id": "L0FuAMpYEChy"
      },
      "source": [
        "\n",
        "## Método de Diferencias Finitas\n",
        "\n",
        "Definición de derivada\n",
        "\n",
        "$$f'\\left(x\\right)=\\lim_{\\triangle x\\rightarrow0}\\frac{f\\left(x+\\triangle x\\right)-f\\left(x\\right)}{\\triangle x}$$\n",
        "\n",
        "Ya se mostró que de esta def. se deriva la formula para aproximar la primera derivada\n",
        "\n",
        "$$f'\\left(x\\right)\\approx\\frac{f\\left(x+\\triangle x\\right)-f\\left(x\\right)}{\\triangle x}$$\n",
        "\n",
        "Y también se pueden encontrar otras expresiones\n",
        "\n",
        "$$f'\\left(x\\right)\\approx\\frac{f\\left(x\\right)-f\\left(x-\\triangle x\\right)}{\\triangle x}\\quad f'\\left(x\\right)\\approx\\frac{f\\left(x+\\triangle x\\right)-f\\left(x-\\triangle x\\right)}{2\\triangle x}$$\n",
        "\n",
        "Segunda derivada (Diferencias Finitas Centradas)\n",
        "\n",
        "$$f''\\left(x\\right)\\approx\\frac{f\\left(x+2\\triangle x\\right)-2\\triangle f\\left(x\\right)+f\\left(x-2\\triangle x\\right)}{4\\triangle x^{2}}$$\n",
        "\n",
        "Funciones de múltiples variables\n",
        "\n",
        "<center>\n",
        "<img src=\"https://github.com/jugernaut/Numerico2021/blob/desarrollo/Figuras/derivacion/ecuaciones.PNG?raw=1\" width=\"600\">\n",
        "</center>"
      ]
    },
    {
      "cell_type": "markdown",
      "metadata": {
        "id": "uF6lQ5bWGJjA"
      },
      "source": [
        "### Ejemplo\n",
        "\n",
        "Aproximar la solución del problema:\n",
        "\n",
        "$$\\frac{\\delta y}{\\delta t}\\left(t\\right)=ay\\left(t\\right)\\quad y\\left(0\\right)=b\\quad t>0$$\n",
        "\n",
        "Donde a y b son constantes. Solución analítica $y\\left(t\\right)=be^{at}$\n",
        "\n",
        "<center>\n",
        "<img src=\"https://github.com/jugernaut/Numerico2021/blob/desarrollo/Figuras/derivacion/dominio.PNG?raw=1\" width=\"600\">\n",
        "</center>\n",
        "\n",
        "Aplicando diferencias finitas a la ecuación diferencial en $t_{i}$:\n",
        "\n",
        "$$\\frac{y\\left(t_{i}+\\triangle t\\right)-y\\left(t_{i}\\right)}{\\triangle t}=ay\\left(t_{i}\\right)$$\n",
        "\n",
        "Con la notación: $y\\left(t_{i}\\right)=y_{i},\\,y\\left(t_{i}+\\triangle t\\right)=y_{i+1}$\n",
        "\n",
        "$$\\frac{y_{i+1}-y_{i}}{\\triangle t}=ay_{i}$$\n",
        "\n",
        "Despejando $y_{i+1}$: \n",
        "\n",
        "$$y_{i+1}=y_{i}\\left(a\\triangle t+1\\right)$$\n",
        "\n",
        "¡Con esta expresión podemos **aproximar la solución**!\n"
      ]
    },
    {
      "cell_type": "code",
      "metadata": {
        "id": "cv-ZQUn5MRog",
        "colab": {
          "base_uri": "https://localhost:8080/",
          "height": 482
        },
        "outputId": "79f74eb4-539d-4ee5-d49f-8f24d02a36b7"
      },
      "source": [
        "# bibliotecas\n",
        "!git clone https://github.com/jugernaut/Numerico2021.git\n",
        "import numpy as np\n",
        "import Numerico2021.Utils.gutils as vis\n",
        "\n",
        "# solucion analitica\n",
        "def f(t,a,b):\n",
        "    return b*(np.e)**(a*t)\n",
        "\n",
        "# funcion que aproxima la solucion\n",
        "def diferenciasFinitas(a, b, N, xmax):\n",
        "    # discretizacion del problema\n",
        "    x = np.linspace(0,xmax,N+1)\n",
        "    # solucion analitica\n",
        "    yanalitica = f(x, a, b)\n",
        "    # calculo de la delta\n",
        "    delta = float(xmax)/N\n",
        "    # discretizacion \n",
        "    yaprox = np.zeros([N+1])\n",
        "    # condicion inicial\n",
        "    yaprox[0] = b\n",
        "    for i in range(N):\n",
        "        yaprox[i+1] = yaprox[i]*(a*delta+1)\n",
        "    return x,yanalitica,yaprox\n",
        "\n",
        "# graficas\n",
        "par = [{'title':'Real v.s. Aprox.', \n",
        "        'xlabel':'$t$',\n",
        "        'ylabel':'$y$'}]\n",
        "\n",
        "graf = vis.planoCartesiano(par=par)\n",
        "\n",
        "# solucion aproximada\n",
        "x, yanalitica, yaprox = diferenciasFinitas(-0.5, 50, 10, 10)\n",
        "\n",
        "#se generan las graficas\n",
        "graf.plot(x=x, y=yaprox, par={'ls':'-', 'lw':1, 'color':'blue', 'label':'Aproximacion'})\n",
        "graf.plot(x=x, y=yanalitica, par={'ls':'-', 'lw':1, 'color':'red', 'label':'Analitica'})\n",
        "graf.legend()"
      ],
      "execution_count": null,
      "outputs": [
        {
          "output_type": "stream",
          "text": [
            "Cloning into 'Numerico2021'...\n",
            "remote: Enumerating objects: 44, done.\u001b[K\n",
            "remote: Counting objects: 100% (44/44), done.\u001b[K\n",
            "remote: Compressing objects: 100% (42/42), done.\u001b[K\n",
            "remote: Total 3521 (delta 17), reused 0 (delta 0), pack-reused 3477\u001b[K\n",
            "Receiving objects: 100% (3521/3521), 43.64 MiB | 34.67 MiB/s, done.\n",
            "Resolving deltas: 100% (2157/2157), done.\n"
          ],
          "name": "stdout"
        },
        {
          "output_type": "display_data",
          "data": {
            "image/png": "[encoded data removed]",
            "text/plain": [
              "<Figure size 720x360 with 1 Axes>"
            ]
          },
          "metadata": {
            "tags": []
          }
        }
      ]
    },
    {
      "cell_type": "markdown",
      "metadata": {
        "id": "1G_2-yv1EPPV"
      },
      "source": [
        "## Esquema Explícito del método de Diferencias Finitas\n",
        "\n",
        "Aproximar la solución del problema:\n",
        "\n",
        "$$\\frac{\\delta T}{\\delta t}=K\\frac{\\delta^{2}T}{\\delta x^{2}}\\quad0\\leq x\\leq x_{max}\\quad t\\geq0 \\tag 1$$\n",
        "\n",
        "$$T\\left(x,0\\right)=a,\\quad T\\left(0,t\\right)=b,\\quad T\\left(x_{max},t\\right)=c$$\n",
        "\n",
        "Donde $K,a,b$ y $c$ son constantes, a la ecuación (1) se le conoce como la **ecuación de calor**.\n",
        "\n",
        "$$Discretizaci\\acute{o}n:\\begin{cases}\n",
        "Espacial & \\triangle x=\\frac{x_{max}}{N_{x}},\\quad x_{i}=i\\triangle x,\\quad i=0,\\ldots,N_{x}\\\\\n",
        "Temporal & t^{n}=n\\triangle t\\quad n=0,\\ldots,N_{t}\n",
        "\\end{cases}$$\n",
        "\n",
        "Aplicando diferencias finitas centrales en el espacio y hacia adelante en el tiempo:\n",
        "\n",
        "$$\\frac{T\\left(x_{i},t^{n}+\\nabla t\\right)-T\\left(x_{i},t^{n}\\right)}{\\triangle t}=K\\frac{T\\left(x_{i+1},t^{n}\\right)-2T\\left(x,t^{n}\\right)+T\\left(x_{i-1},t^{n}\\right)}{\\triangle x^{2}}$$\n",
        "\n",
        "<center>\n",
        "<img src=\"https://github.com/jugernaut/Numerico2021/blob/desarrollo/Figuras/derivacion/esq2.PNG?raw=1\" width=\"600\">\n",
        "</center>\n",
        "\n",
        "Usando la notación $T\\left(x_{i},t^{n}\\right)=T_{i}^{n}$\n",
        "\n",
        "$$\\frac{T_{i}^{n+1}-T_{i}^{n}}{\\triangle t}=K\\frac{T_{i+1}^{n}-2T_{i}^{n}+T_{i-1}^{n}}{\\triangle x^{2}}$$\n",
        "\n",
        "Despejando $T_{i}^{n+1}$\n",
        "\n",
        "$$T_{i}^{n+1}=T_{i}^{n}+\\frac{\\triangle tK}{\\triangle x^{2}}\\left(T_{i+1}^{n}-2T_{i}^{n}+T_{i-1}^{n}\\right)$$\n",
        "\n",
        "**Esquema Explícito**: La solución al tiempo $n+1$ solo depende de la solución al tiempo $n$.\n",
        "\n",
        "Dado que ya sabemos que la solución en el tiempo n+1 esta dada por\n",
        "\n",
        "$$T_{i}^{n+1}=T_{i}^{n}+\\frac{\\triangle tK}{\\triangle x^{2}}\\left(T_{i+1}^{n}-2T_{i}^{n}+T_{i-1}^{n}\\right)$$\n",
        "\n",
        "Tiempo 0 (condiciones iniciales): $T_{i}^{0}$\n",
        "\n",
        "$$T_{i}^{0}=a\\quad i=0,\\ldots,N_{x}$$\n",
        "\n",
        "Tiempo 1: $T_{i}^{1}\\quad n=0$\n",
        "\n",
        "$$T_{i}^{1}=T_{i}^{0}+\\frac{\\triangle tK}{\\triangle x^{2}}\\left(T_{i+1}^{0}-2T_{i}^{0}+T_{i-1}^{0}\\right)$$\n",
        "\n",
        "Tiempo 1: $T_{i}^{2}\\quad n=1$\n",
        "\n",
        "$$T_{i}^{2}=T_{i}^{1}+\\frac{\\triangle tK}{\\triangle x^{2}}\\left(T_{i+1}^{1}-T_{i}^{1}+T_{i-1}^{1}\\right)$$\n",
        "\n",
        "$$ \\vdots $$\n",
        "\n",
        "¿Y que sucede con las condiciones de frontera?\n",
        "\n",
        "$$T_{i}^{n+1}=T_{i}^{n}+\\frac{\\triangle tK}{\\triangle x^{2}}\\left(T_{i+1}^{n}-2T_{i}^{n}+T_{i-1}^{n}\\right)$$\n",
        "\n",
        "Se conoce la solución en los puntos $x_{0}=b,\\quad x_{N_{x}}=c$\n",
        "\n",
        "Tiempo 0 (condiciones iniciales): $T_{i}^{0}$\n",
        "\n",
        "$$T_{0}^{0}=b\\quad T_{i}^{0}=a\\quad i=0,\\ldots,N_{x}-1\\quad T_{N_{x}}^{0}=c$$\n",
        "\n",
        "Tiempo 1: $T_{i}^{1}\\quad n=0$\n",
        "\n",
        "$$T_{0}^{1}=b,\\quad T_{i}^{1}=T_{i}^{0}+\\frac{\\triangle tK}{\\triangle x^{2}}\\left(T_{i+1}^{0}-2T_{i}^{0}+T_{i-1}^{0}\\right)\\,i=0,\\ldots,N_{x}-1\\quad T_{N_{x}}^{1}=c$$\n",
        "\n",
        "$$ \\vdots $$\n",
        "\n",
        "<center>\n",
        "<img src=\"https://github.com/jugernaut/Numerico2021/blob/desarrollo/Figuras/derivacion/dif.PNG?raw=1\" width=\"600\">\n",
        "</center>\n"
      ]
    },
    {
      "cell_type": "markdown",
      "metadata": {
        "id": "kI097NPkEe_l"
      },
      "source": [
        "### Resultados del esquema explícito\n",
        "\n",
        "Tiempo cero.\n",
        "\n",
        "<center>\n",
        "<img src=\"https://github.com/jugernaut/Numerico2021/blob/desarrollo/Figuras/derivacion/tiempocero.PNG?raw=1\" width=\"600\">\n",
        "</center>\n",
        "\n",
        "Tiempo uno.\n",
        "\n",
        "<center>\n",
        "<img src=\"https://github.com/jugernaut/Numerico2021/blob/desarrollo/Figuras/derivacion/tiempouno.PNG?raw=1\" width=\"600\">\n",
        "</center>\n",
        "\n",
        "Tiempo 10.\n",
        "\n",
        "<center>\n",
        "<img src=\"https://github.com/jugernaut/Numerico2021/blob/desarrollo/Figuras/derivacion/tiempo10.png?raw=1\" width=\"600\">\n",
        "</center>\n",
        "\n",
        "Tiempo 30.\n",
        "\n",
        "<center>\n",
        "<img src=\"https://github.com/jugernaut/Numerico2021/blob/desarrollo/Figuras/derivacion/tiempo30.png?raw=1\" width=\"600\">\n",
        "</center>\n",
        "\n",
        "Tiempo 50.\n",
        "\n",
        "<center>\n",
        "<img src=\"https://github.com/jugernaut/Numerico2021/blob/desarrollo/Figuras/derivacion/tiempo50.png?raw=1\" width=\"600\">\n",
        "</center>\n",
        "\n",
        "Tiempo 70.\n",
        "\n",
        "<center>\n",
        "<img src=\"https://github.com/jugernaut/Numerico2021/blob/desarrollo/Figuras/derivacion/tiempo70.png?raw=1\" width=\"600\">\n",
        "</center>\n",
        "\n",
        "Tiempo 90.\n",
        "\n",
        "<center>\n",
        "<img src=\"https://github.com/jugernaut/Numerico2021/blob/desarrollo/Figuras/derivacion/tiempo90.png?raw=1\" width=\"600\">\n",
        "</center>\n",
        "\n",
        "Tiempo 100.\n",
        "\n",
        "<center>\n",
        "<img src=\"https://github.com/jugernaut/Numerico2021/blob/desarrollo/Figuras/derivacion/tiempo100.png?raw=1\" width=\"600\">\n",
        "</center>\n",
        "\n",
        "<center>\n",
        "<img src=\"https://github.com/jugernaut/Numerico2021/blob/desarrollo/Figuras/derivacion/DiFini1D.gif?raw=1\" width=\"600\">\n",
        "</center>\n",
        "\n",
        "Sobre el eje $x$, se tiene los puntos sobre la barra que se quiere simular, sobre el eje $y$, la temperatura que alcanza cada uno de estos puntos. Estos resultados se obtuvieron con los siguientes parámetros:\n",
        "\n",
        "* $K=e^{-2}$\n",
        "\n",
        "* $a=323$\n",
        "\n",
        "* $b=273$\n",
        "\n",
        "* $c=373$\n",
        "\n",
        "* $N_{x}=25$\n",
        "\n",
        "* $\\triangle t=0.001$\n",
        "\n",
        "* $N_{t}=100$\n",
        "\n",
        "* $xmax=0.5$\n",
        "\n",
        "¿Que sucede si se incrementa el paso de tiempo, digamos a 0.01?.\n",
        "\n",
        "<center>\n",
        "<img src=\"https://github.com/jugernaut/Numerico2021/blob/desarrollo/Figuras/derivacion/paso_0_01.png?raw=1\" width=\"600\">\n",
        "</center>\n",
        "\n",
        "Se puede mostrar que este algoritmo es inestable siempre que\n",
        "\n",
        "$$K\\frac{\\triangle t}{\\triangle x^{2}}>0.5$$\n",
        "\n",
        "Por lo que el pseudocódigo puede ser modificado, para agregar una sentencia en la cual para poder realizar el proceso de diferencias finitas mediante el esquema explícito, sea necesario que\n",
        "\n",
        "$$K\\frac{\\triangle t}{\\triangle x^{2}}\\leq0.5$$\n",
        "\n",
        "Es decir,\n",
        "\n",
        "<center>\n",
        "<img src=\"https://github.com/jugernaut/Numerico2021/blob/desarrollo/Figuras/derivacion/calor1D.PNG?raw=1\" width=\"600\">\n",
        "</center>\n",
        "\n"
      ]
    },
    {
      "cell_type": "markdown",
      "metadata": {
        "id": "zEp8uAQKEuVR"
      },
      "source": [
        "## Esquema Implícito del método de Diferencias Finitas\n",
        "\n",
        "Aproximar la solución del problema:\n",
        "\n",
        "$$\\frac{\\delta T}{\\delta t}=K\\frac{\\delta^{2}T}{\\delta x^{2}}\\quad0\\leq x\\leq x_{max}\\quad t\\geq0$$\n",
        "\n",
        "$$T\\left(x,0\\right)=a,\\quad T\\left(0,t\\right)=b,\\quad T\\left(x_{max},t\\right)=c$$\n",
        "\n",
        "Donde K,a,b y c son constantes\n",
        "\n",
        "$$Discretizaci\\acute{o}n:\\begin{cases}\n",
        "Espacial & \\triangle x=\\frac{x_{max}}{N_{x}},\\quad x_{i}=i\\triangle x,\\quad i=0,\\ldots,N_{x}\\\\\n",
        "Temporal & t^{n}=n\\triangle t\\quad n=0,\\ldots,N_{t}\n",
        "\\end{cases}$$\n",
        "\n",
        "Aplicando diferencias finitas centrales en el espacio y hacia atrás en el tiempo:\n",
        "\n",
        "$$\\frac{T\\left(x_{i},t^{n}\\right)-T\\left(x_{i},t^{n}-\\triangle t\\right)}{\\triangle t}=K\\frac{T\\left(x_{i+1},t^{n}\\right)-2T\\left(x,t^{n}\\right)+T\\left(x_{i-1},t^{n}\\right)}{\\triangle x^{2}}$$\n",
        "\n",
        "<center>\n",
        "<img src=\"https://github.com/jugernaut/Numerico2021/blob/desarrollo/Figuras/derivacion/expli.PNG?raw=1\" width=\"600\">\n",
        "</center>\n",
        "\n",
        "Usando la notación $T\\left(x_{i},t^{n}\\right)=T_{i}^{n}$\n",
        "\n",
        "$$\\frac{T_{i}^{n}-T_{i}^{n-1}}{\\triangle t}=K\\frac{T_{i+1}^{n}-2T_{i}^{n}+T_{i-1}^{n}}{\\triangle x^{2}}$$\n",
        "\n",
        "Pasando del lado izquierdo de la igualdad los términos en el tiempo n\n",
        "\n",
        "$$-T_{i-1}^{n}+\\left(\\frac{\\triangle x^{2}}{K\\triangle t}+2\\right)T_{i}^{n}-T_{i+1}^{n}=\\frac{\\triangle x^{2}}{K\\triangle t}T_{i}^{n-1}$$\n",
        "\n",
        "**Esquema Implícito**: La solución al tiempo $n$ solo depende de la solución al tiempo $n$ y $n-1$.\n",
        "\n",
        "Esta ecuación en realidad representa un sistema lineal para encontrar $T$ al tiempo $n$.\n",
        "\n",
        "$$-T_{i-1}^{n}+\\left(\\frac{\\triangle x^{2}}{K\\triangle t}+2\\right)T_{i}^{n}-T_{i+1}^{n}=\\frac{\\triangle x^{2}}{K\\triangle t}T_{i}^{n-1}$$\n",
        "\n",
        "$$dT_{1}^{n}-T_{2}^{n}=rT_{1}^{n-1}+b$$\n",
        "\n",
        "$$-T_{1}^{n}+dT_{2}^{n}-T_{3}^{n}=rT_{2}^{n-1}$$\n",
        "\n",
        "$$-T_{2}^{n}+dT_{3}^{n}-T_{4}^{n}=rT_{3}^{n-1}$$\n",
        "\n",
        "$$\\vdots$$\n",
        "\n",
        "$$-T_{N_{x}-3}^{n}+dT_{N_{x}-2}^{n}-T_{N_{x}-1}^{n}=rT_{N_{x}-2}^{n-1}$$\n",
        "\n",
        "$$-T_{N_{x}-2}^{n}+dT_{N_{x}-1}^{n}=rT_{N_{x}-1}^{n-1}+c$$\n",
        "\n",
        "Es decir, este sistema es parecido al que se construye para encontrar los coeficientes de la interpolación mediante Splines Cúbicos.\n",
        "\n",
        "$$\\left(\\begin{array}{ccccccc}\n",
        "d & -1 & 0 & 0 & 0 & 0 & 0\\\\\n",
        "-1 & d & -1 & \\ddots &  &  & \\vdots\\\\\n",
        "0 & -1 & d & -1 & \\ddots &  & \\vdots\\\\\n",
        "0 &  & \\ddots & \\cdots &  & \\ddots & 0\\\\\n",
        "0 &  &  & \\ddots & -1 & d & -1\\\\\n",
        "0 & \\cdots & \\cdots & \\cdots & \\cdots & -1 & d\n",
        "\\end{array}\\right)\\left(\\begin{array}{c}\n",
        "T_{1}^{n}\\\\\n",
        "T_{2}^{n}\\\\\n",
        "\\vdots\\\\\n",
        "T_{N_{x}-1}^{n}\n",
        "\\end{array}\\right)=\\left(\\begin{array}{c}\n",
        "rT_{1}^{n-1}+b\\\\\n",
        "rT_{2}^{n-1}\\\\\n",
        "\\vdots\\\\\n",
        "rT_{N_{x}}^{n-1}+c\n",
        "\\end{array}\\right)$$\n",
        "\n",
        "$$r=\\frac{\\triangle x^{2}}{K\\triangle t},\\quad d=r+2$$\n",
        "\n"
      ]
    },
    {
      "cell_type": "markdown",
      "metadata": {
        "id": "UyDTa0xTE4_v"
      },
      "source": [
        "### Resultados del esquema implícito\n",
        "\n",
        "Tiempo cero.\n",
        "\n",
        "<center>\n",
        "<img src=\"https://github.com/jugernaut/Numerico2021/blob/desarrollo/Figuras/derivacion/tiempocero.PNG?raw=1\" width=\"600\">\n",
        "</center>\n",
        "\n",
        "Tiempo uno.\n",
        "\n",
        "<center>\n",
        "<img src=\"https://github.com/jugernaut/Numerico2021/blob/desarrollo/Figuras/derivacion/tiempouno.PNG?raw=1\" width=\"600\">\n",
        "</center>\n",
        "\n",
        "Tiempo dos.\n",
        "\n",
        "<center>\n",
        "<img src=\"https://github.com/jugernaut/Numerico2021/blob/desarrollo/Figuras/derivacion/tiempodos.PNG?raw=1\" width=\"600\">\n",
        "</center>\n",
        "\n",
        "Tiempo tres.\n",
        "\n",
        "<center>\n",
        "<img src=\"https://github.com/jugernaut/Numerico2021/blob/desarrollo/Figuras/derivacion/tiempotres.PNG?raw=1\" width=\"600\">\n",
        "</center>\n",
        "\n",
        "<center>\n",
        "<img src=\"https://github.com/jugernaut/Numerico2021/blob/desarrollo/Figuras/derivacion/DiFiniImp.gif?raw=1\" width=\"600\">\n",
        "</center>\n",
        "\n",
        "Estos resultados se obtuvieron con los mismos parámetros del esquema explícito, excepto el paso de tiempo:\n",
        "\n",
        "* $K=e^{-2}$\n",
        "\n",
        "* $a=323$\n",
        "\n",
        "* $b=273$\n",
        "\n",
        "* $c=373$\n",
        "\n",
        "* $N_{x}=25$\n",
        "\n",
        "* $\\triangle t=1$\n",
        "\n",
        "* $N_{t}=100$\n",
        "\n",
        "* $x_{max}=0.5$\n",
        "\n",
        "Es evidente que con un paso mayor de tiempo, se puede obtener una simulación mas amplia con menos cálculos.\n",
        "\n",
        "<center>\n",
        "<img src=\"https://github.com/jugernaut/Numerico2021/blob/desarrollo/Figuras/derivacion/EvsI.PNG?raw=1\" width=\"600\">\n",
        "</center>\n",
        "\n",
        "\n"
      ]
    },
    {
      "cell_type": "markdown",
      "metadata": {
        "id": "b7uUqJRV0RC-"
      },
      "source": [
        "## Simulación interactiva\n",
        "\n",
        "En esta celda veremos como se lleva a cabo esta simulación de manera interactiva"
      ]
    },
    {
      "cell_type": "code",
      "metadata": {
        "id": "q69tnXIuXFDE",
        "colab": {
          "base_uri": "https://localhost:8080/",
          "height": 385,
          "referenced_widgets": [
            "1375c4903b67449fb27f88ecd9c7aa62",
            "1a4dda14688d46ce84a9bfacd93496ca",
            "d71c582c6f2a46c09980cc769141afc4",
            "938ccb51d5c24d8aab9b5ef8b081deb5",
            "d38ab95a83ac4b70a959aaae42daad4c",
            "a9fa6f3aec8d49ceb361e3c36c841ec0",
            "32dc056c065a422a804ed33abae62fd6"
          ]
        },
        "outputId": "ee258c19-62d8-4814-b194-283911032e2e"
      },
      "source": [
        "import numpy as np\n",
        "from IPython.html.widgets import interact\n",
        "import ipywidgets as widgets\n",
        "import matplotlib.pyplot as plt\n",
        "from time import time\n",
        "\n",
        "\"\"\"\n",
        "Método que aproxima la ecuación de calor mediante el esquema explícito\n",
        "K, difusión de calor\n",
        "b, condición inicial T(0,0)\n",
        "c, condición de frontera T(Nx,t)\n",
        "a, valor toman todoas las x's en el tiempo cero\n",
        "Nx, variable espacial\n",
        "Nt, variable temporal\n",
        "delt, cambios en el tiempo\n",
        "\"\"\"\n",
        "\n",
        "def ec_calor_exp(K,a,b,c,Nx,delt,Nt,xmax):\n",
        "    dx=xmax/Nx #Cambios de x                       \n",
        "    D=K*delt/(dx*dx) #Constante de estabilidad\n",
        "    T=np.zeros((Nx,Nt)) #Nx renglones, Nt columnas\n",
        "    T[0][0]=b #Condición inicial\n",
        "    if (D > 0.5): #Condición de estabilidad\n",
        "        print(\"Algoritmo inestable; Terminar\") #Termina si no cumple \n",
        "    else:\n",
        "        #Si cumple con la condición encuentra aproximaciones\n",
        "        for i in range(1,Nx-1): \n",
        "            T[i][0]= a #Valores de x al tiempo 0\n",
        "        T[-1][0]= c #Condición de frontera\n",
        "        tiempo_ini=time() #Tiempo de ejecución antes de inciar el método\n",
        "        for n in range(Nt-1):\n",
        "            T[0][n+1]=b #Se llena la última entrada con la condicion inicial\n",
        "            for i in range (1,Nx-1):\n",
        "                #Cálculo de aproximaciones\n",
        "                T[i][n+1]=T[i][n] + D * (T[i+1][n] - 2*T[i][n] + T[i-1][n]) \n",
        "                T[-1][n+1]=c   \n",
        "        tiempo_fin=time() #Tiempo de ejecución después de terminar el método\n",
        "        print('Tiempo de ejecución: '+str(tiempo_fin - tiempo_ini))\n",
        "    return T     #Cada columna representa las temperaturas en el tiempo n  \n",
        "\n",
        "\"\"\"\n",
        "Método que gráfica la temperatura de cada punto a través del tiempo \n",
        "\"\"\"\n",
        "def grafica(mat, xmax, Nx,n):\n",
        "    disc=np.linspace(0,xmax,Nx) #Discretización\n",
        "    if n==0: #Gráfica para n=0\n",
        "        plt.plot(disc,np.zeros(Nx),'r')\n",
        "        plt.scatter(disc,np.zeros(Nx),c='#8c564b')\n",
        "        plt.title(\"Proyecto Final, Modelo de la Ec. de Calor, Tiempo 0\")\n",
        "        plt.show()\n",
        "    else:\n",
        "        #Grafica los puntos de cada columna de la matriz mat\n",
        "        plt.plot(disc,mat[:,n-1],'r')\n",
        "        plt.scatter(disc,mat[:,n-1],c='#8c564b')        \n",
        "        plt.title(\"Diferencias Finitas Ec. de Calor, Tiempo \"+str(n))\n",
        "        plt.show()\n",
        "\n",
        "#Declaramos las variables \n",
        "K=np.e**(-2)\n",
        "a=323\n",
        "b=273\n",
        "c=373\n",
        "Nx=25 \n",
        "delt=.001\n",
        "Nt=100\n",
        "xmax=0.5\n",
        "\n",
        "#llama a la implementación del esquema explícito\n",
        "explicito=ec_calor_exp(K,a,b,c,Nx,delt,Nt,xmax)\n",
        "@widgets.interact(t=(0, Nt, 1))\n",
        "def f2(t):\n",
        "    return grafica(explicito,xmax,Nx,t)"
      ],
      "execution_count": 1,
      "outputs": [
        {
          "output_type": "stream",
          "name": "stdout",
          "text": [
            "Tiempo de ejecución: 0.009874343872070312\n"
          ]
        },
        {
          "output_type": "stream",
          "name": "stderr",
          "text": [
            "/usr/local/lib/python3.7/dist-packages/IPython/html.py:14: ShimWarning: The `IPython.html` package has been deprecated since IPython 4.0. You should import from `notebook` instead. `IPython.html.widgets` has moved to `ipywidgets`.\n",
            "  \"`IPython.html.widgets` has moved to `ipywidgets`.\", ShimWarning)\n"
          ]
        },
        {
          "output_type": "display_data",
          "data": {
            "application/vnd.jupyter.widget-view+json": {
              "model_id": "1375c4903b67449fb27f88ecd9c7aa62",
              "version_minor": 0,
              "version_major": 2
            },
            "text/plain": [
              "interactive(children=(IntSlider(value=50, description='t'), Output()), _dom_classes=('widget-interact',))"
            ]
          },
          "metadata": {}
        }
      ]
    },
    {
      "cell_type": "markdown",
      "metadata": {
        "id": "BXTIqxQPFEKc"
      },
      "source": [
        "## Ecuación de Calor 2D\n",
        "\n",
        "<center>\n",
        "<img src=\"https://github.com/jugernaut/Numerico2021/blob/desarrollo/Figuras/derivacion/calor2D.PNG?raw=1\" width=\"600\">\n",
        "</center>\n",
        "\n",
        "<center>\n",
        "<img src=\"https://github.com/jugernaut/Numerico2021/blob/desarrollo/Figuras/derivacion/DiFini2D.gif?raw=1\" width=\"700\">\n",
        "</center>"
      ]
    },
    {
      "cell_type": "markdown",
      "metadata": {
        "id": "ztXB4-75pbXb"
      },
      "source": [
        "# Anexo\n",
        "\n",
        "A continuación, se resolverá la siguiente ecuación diferencial, por el método explícito de diferencias finitas."
      ]
    },
    {
      "cell_type": "markdown",
      "metadata": {
        "id": "qV_YkT5epbXe"
      },
      "source": [
        "$$ \\frac{\\partial G}{\\partial t} =\\gamma   \\frac{\\partial G}{\\partial x^{2}} \\quad , \\gamma \\in \\mathbb{R}  \\tag{A.1.}$$"
      ]
    },
    {
      "cell_type": "markdown",
      "metadata": {
        "id": "7hAueCNzpbXg"
      },
      "source": [
        "Aplicando el esquema de diferencias finitas hacia delante a $\\frac{\\partial G}{\\partial t}$ y diferencias centradas a $\\frac{\\partial G}{\\partial x^{2}}$, se tiene que \n",
        "\n",
        "$$ \\frac{G \\left(x, t + \\Delta t \\right)-G \\left(x,  t \\right)}{\\Delta t} = \\gamma \\frac{G \\left(x+\\Delta x,  t \\right) -2 G \\left(x,  t \\right)+ G \\left(x -\\Delta x,  t \\right)}{\\Delta x ^{2}}$$\n",
        "\n",
        "Despejando $G \\left(x, t + \\Delta t \\right)$ se obtiene\n",
        "\n",
        "$$ G \\left(x, t + \\Delta t \\right) = \\gamma \\frac{\\Delta t}{\\Delta x^{2}} \\{ G \\left(x+\\Delta x,  t \\right)+ G \\left(x -\\Delta x,  t \\right) \\}+  \\{ 1- 2 \\gamma \\frac{\\Delta t}{\\Delta x^{2}} \\} G \\left(x,  t \\right)  $$\n",
        "\n",
        "entonces \n",
        "\n",
        "$$ G \\left(x_{i}, t_{j+1} \\right) = \\gamma \\frac{\\Delta t}{\\Delta x^{2}} \\{ G \\left(x_{i+1},  t_{j} \\right)+ G \\left(x_{i-1},  t_{j} \\right) \\}+  \\{ 1- 2 \\gamma \\frac{\\Delta t}{\\Delta x^{2}} \\} G \\left(x_{i},  t_{j} \\right)  \\tag{A.2.}$$\n",
        "\n",
        "A la ec (A.2.) se le conoce como esquema explícito.\n",
        "\n",
        "$\\color{blue}{Observaciones}$: \n",
        "\n",
        "Si $j=0$ e $i=1$\n",
        "\n",
        "$$ G \\left(x_{1}, t_{1} \\right) = \\gamma \\frac{\\Delta t}{\\Delta x^{2}} \\{ G \\left(x_{2},  t_{0} \\right)+ G \\left(x_{0},  t_{0} \\right) \\}+  \\{ 1- 2 \\gamma \\frac{\\Delta t}{\\Delta x^{2}} \\} G \\left(x_{1},  t_{0} \\right)  $$\n",
        "\n",
        "Si $j=0$ e $i=n$\n",
        "\n",
        "$$ G \\left(x_{n}, t_{1} \\right) = \\gamma \\frac{\\Delta t}{\\Delta x^{2}} \\{ G \\left(x_{n+1},  t_{0} \\right)+ G \\left(x_{n-1},  t_{0} \\right) \\}+  \\{ 1- 2 \\gamma \\frac{\\Delta t}{\\Delta x^{2}} \\} G \\left(x_{n},  t_{0} \\right)  $$\n",
        "\n"
      ]
    },
    {
      "cell_type": "markdown",
      "metadata": {
        "id": "jtMMKNM4pbXY"
      },
      "source": [
        "# Referencias\n",
        "\n",
        "1. Yuri N. Skiba: Introducción a los métodos numéricos, Dirección General de Publicaciones U.N.A.M.\n",
        "2. Ward Cheney, David Kincaid: Métodos Numéricos y Computación, Cenage Learning.\n",
        "3. Richard L. Burden, J. Douglas Faires: Análisis Numérico, Math Learning.\n",
        "4. Riswan Butt: Numerical Analysys Using Matlab, Jones and Bartlett.\n",
        "5. Quarteroni, A, Sacco R.: Numerical mathematics, Springer. 2007."
      ]
    }
  ]
}