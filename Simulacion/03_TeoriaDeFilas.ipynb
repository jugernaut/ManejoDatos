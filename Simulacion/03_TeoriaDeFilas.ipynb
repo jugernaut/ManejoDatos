{
  "nbformat": 4,
  "nbformat_minor": 0,
  "metadata": {
    "colab": {
      "name": "TeoriaDeFilas.ipynb",
      "provenance": [],
      "toc_visible": true,
      "include_colab_link": true
    },
    "kernelspec": {
      "name": "python3",
      "display_name": "Python 3"
    },
    "language_info": {
      "name": "python"
    },
    "widgets": {
      "application/vnd.jupyter.widget-state+json": {
        "7a469eedd9494ab9a2cffceee1e3e93b": {
          "model_module": "@jupyter-widgets/controls",
          "model_name": "VBoxModel",
          "model_module_version": "1.5.0",
          "state": {
            "_view_name": "VBoxView",
            "_dom_classes": [
              "widget-interact"
            ],
            "_model_name": "VBoxModel",
            "_view_module": "@jupyter-widgets/controls",
            "_model_module_version": "1.5.0",
            "_view_count": null,
            "_view_module_version": "1.5.0",
            "box_style": "",
            "layout": "IPY_MODEL_020a89d0a1e14a48ae7cc5d20c04485a",
            "_model_module": "@jupyter-widgets/controls",
            "children": [
              "IPY_MODEL_18ef6467bd48443a9d78e917796404aa",
              "IPY_MODEL_6635d6de8b1b412ab65b87538100c782"
            ]
          }
        },
        "020a89d0a1e14a48ae7cc5d20c04485a": {
          "model_module": "@jupyter-widgets/base",
          "model_name": "LayoutModel",
          "model_module_version": "1.2.0",
          "state": {
            "_view_name": "LayoutView",
            "grid_template_rows": null,
            "right": null,
            "justify_content": null,
            "_view_module": "@jupyter-widgets/base",
            "overflow": null,
            "_model_module_version": "1.2.0",
            "_view_count": null,
            "flex_flow": null,
            "width": null,
            "min_width": null,
            "border": null,
            "align_items": null,
            "bottom": null,
            "_model_module": "@jupyter-widgets/base",
            "top": null,
            "grid_column": null,
            "overflow_y": null,
            "overflow_x": null,
            "grid_auto_flow": null,
            "grid_area": null,
            "grid_template_columns": null,
            "flex": null,
            "_model_name": "LayoutModel",
            "justify_items": null,
            "grid_row": null,
            "max_height": null,
            "align_content": null,
            "visibility": null,
            "align_self": null,
            "height": null,
            "min_height": null,
            "padding": null,
            "grid_auto_rows": null,
            "grid_gap": null,
            "max_width": null,
            "order": null,
            "_view_module_version": "1.2.0",
            "grid_template_areas": null,
            "object_position": null,
            "object_fit": null,
            "grid_auto_columns": null,
            "margin": null,
            "display": null,
            "left": null
          }
        },
        "18ef6467bd48443a9d78e917796404aa": {
          "model_module": "@jupyter-widgets/controls",
          "model_name": "FloatSliderModel",
          "model_module_version": "1.5.0",
          "state": {
            "_view_name": "FloatSliderView",
            "style": "IPY_MODEL_4333869901c04bf99ee187d2d1086f56",
            "_dom_classes": [],
            "description": "lam",
            "step": 0.1,
            "_model_name": "FloatSliderModel",
            "orientation": "horizontal",
            "max": 0.5,
            "_view_module": "@jupyter-widgets/controls",
            "_model_module_version": "1.5.0",
            "value": 0.4,
            "_view_count": null,
            "disabled": false,
            "_view_module_version": "1.5.0",
            "min": 0,
            "continuous_update": true,
            "readout_format": ".2f",
            "description_tooltip": null,
            "readout": true,
            "_model_module": "@jupyter-widgets/controls",
            "layout": "IPY_MODEL_5246e20295dd41f782efad67e0b67247"
          }
        },
        "6635d6de8b1b412ab65b87538100c782": {
          "model_module": "@jupyter-widgets/output",
          "model_name": "OutputModel",
          "model_module_version": "1.0.0",
          "state": {
            "_view_name": "OutputView",
            "msg_id": "",
            "_dom_classes": [],
            "_model_name": "OutputModel",
            "outputs": [
              {
                "output_type": "display_data",
                "data": {
                  "image/png": "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\n",
                  "text/plain": "<Figure size 720x360 with 1 Axes>"
                },
                "metadata": {
                  "needs_background": "light"
                }
              }
            ],
            "_view_module": "@jupyter-widgets/output",
            "_model_module_version": "1.0.0",
            "_view_count": null,
            "_view_module_version": "1.0.0",
            "layout": "IPY_MODEL_e8aff9a11e86476aae220018c960c138",
            "_model_module": "@jupyter-widgets/output"
          }
        },
        "4333869901c04bf99ee187d2d1086f56": {
          "model_module": "@jupyter-widgets/controls",
          "model_name": "SliderStyleModel",
          "model_module_version": "1.5.0",
          "state": {
            "_view_name": "StyleView",
            "handle_color": null,
            "_model_name": "SliderStyleModel",
            "description_width": "",
            "_view_module": "@jupyter-widgets/base",
            "_model_module_version": "1.5.0",
            "_view_count": null,
            "_view_module_version": "1.2.0",
            "_model_module": "@jupyter-widgets/controls"
          }
        },
        "5246e20295dd41f782efad67e0b67247": {
          "model_module": "@jupyter-widgets/base",
          "model_name": "LayoutModel",
          "model_module_version": "1.2.0",
          "state": {
            "_view_name": "LayoutView",
            "grid_template_rows": null,
            "right": null,
            "justify_content": null,
            "_view_module": "@jupyter-widgets/base",
            "overflow": null,
            "_model_module_version": "1.2.0",
            "_view_count": null,
            "flex_flow": null,
            "width": null,
            "min_width": null,
            "border": null,
            "align_items": null,
            "bottom": null,
            "_model_module": "@jupyter-widgets/base",
            "top": null,
            "grid_column": null,
            "overflow_y": null,
            "overflow_x": null,
            "grid_auto_flow": null,
            "grid_area": null,
            "grid_template_columns": null,
            "flex": null,
            "_model_name": "LayoutModel",
            "justify_items": null,
            "grid_row": null,
            "max_height": null,
            "align_content": null,
            "visibility": null,
            "align_self": null,
            "height": null,
            "min_height": null,
            "padding": null,
            "grid_auto_rows": null,
            "grid_gap": null,
            "max_width": null,
            "order": null,
            "_view_module_version": "1.2.0",
            "grid_template_areas": null,
            "object_position": null,
            "object_fit": null,
            "grid_auto_columns": null,
            "margin": null,
            "display": null,
            "left": null
          }
        },
        "e8aff9a11e86476aae220018c960c138": {
          "model_module": "@jupyter-widgets/base",
          "model_name": "LayoutModel",
          "model_module_version": "1.2.0",
          "state": {
            "_view_name": "LayoutView",
            "grid_template_rows": null,
            "right": null,
            "justify_content": null,
            "_view_module": "@jupyter-widgets/base",
            "overflow": null,
            "_model_module_version": "1.2.0",
            "_view_count": null,
            "flex_flow": null,
            "width": null,
            "min_width": null,
            "border": null,
            "align_items": null,
            "bottom": null,
            "_model_module": "@jupyter-widgets/base",
            "top": null,
            "grid_column": null,
            "overflow_y": null,
            "overflow_x": null,
            "grid_auto_flow": null,
            "grid_area": null,
            "grid_template_columns": null,
            "flex": null,
            "_model_name": "LayoutModel",
            "justify_items": null,
            "grid_row": null,
            "max_height": null,
            "align_content": null,
            "visibility": null,
            "align_self": null,
            "height": null,
            "min_height": null,
            "padding": null,
            "grid_auto_rows": null,
            "grid_gap": null,
            "max_width": null,
            "order": null,
            "_view_module_version": "1.2.0",
            "grid_template_areas": null,
            "object_position": null,
            "object_fit": null,
            "grid_auto_columns": null,
            "margin": null,
            "display": null,
            "left": null
          }
        },
        "562d2b86a3b84be6b1316f0e3336f261": {
          "model_module": "@jupyter-widgets/controls",
          "model_name": "VBoxModel",
          "model_module_version": "1.5.0",
          "state": {
            "_view_name": "VBoxView",
            "_dom_classes": [
              "widget-interact"
            ],
            "_model_name": "VBoxModel",
            "_view_module": "@jupyter-widgets/controls",
            "_model_module_version": "1.5.0",
            "_view_count": null,
            "_view_module_version": "1.5.0",
            "box_style": "",
            "layout": "IPY_MODEL_1974cf5929234de2be0915c2fa0cd671",
            "_model_module": "@jupyter-widgets/controls",
            "children": [
              "IPY_MODEL_5e9c068c36eb46fba01d42ece0a32669",
              "IPY_MODEL_413d2b085a844906afb3e492bc9f1eb4"
            ]
          }
        },
        "1974cf5929234de2be0915c2fa0cd671": {
          "model_module": "@jupyter-widgets/base",
          "model_name": "LayoutModel",
          "model_module_version": "1.2.0",
          "state": {
            "_view_name": "LayoutView",
            "grid_template_rows": null,
            "right": null,
            "justify_content": null,
            "_view_module": "@jupyter-widgets/base",
            "overflow": null,
            "_model_module_version": "1.2.0",
            "_view_count": null,
            "flex_flow": null,
            "width": null,
            "min_width": null,
            "border": null,
            "align_items": null,
            "bottom": null,
            "_model_module": "@jupyter-widgets/base",
            "top": null,
            "grid_column": null,
            "overflow_y": null,
            "overflow_x": null,
            "grid_auto_flow": null,
            "grid_area": null,
            "grid_template_columns": null,
            "flex": null,
            "_model_name": "LayoutModel",
            "justify_items": null,
            "grid_row": null,
            "max_height": null,
            "align_content": null,
            "visibility": null,
            "align_self": null,
            "height": null,
            "min_height": null,
            "padding": null,
            "grid_auto_rows": null,
            "grid_gap": null,
            "max_width": null,
            "order": null,
            "_view_module_version": "1.2.0",
            "grid_template_areas": null,
            "object_position": null,
            "object_fit": null,
            "grid_auto_columns": null,
            "margin": null,
            "display": null,
            "left": null
          }
        },
        "5e9c068c36eb46fba01d42ece0a32669": {
          "model_module": "@jupyter-widgets/controls",
          "model_name": "FloatSliderModel",
          "model_module_version": "1.5.0",
          "state": {
            "_view_name": "FloatSliderView",
            "style": "IPY_MODEL_01cd614dcf374e88a651bfd85f9cdc40",
            "_dom_classes": [],
            "description": "lam",
            "step": 0.1,
            "_model_name": "FloatSliderModel",
            "orientation": "horizontal",
            "max": 0.5,
            "_view_module": "@jupyter-widgets/controls",
            "_model_module_version": "1.5.0",
            "value": 0.5,
            "_view_count": null,
            "disabled": false,
            "_view_module_version": "1.5.0",
            "min": 0,
            "continuous_update": true,
            "readout_format": ".2f",
            "description_tooltip": null,
            "readout": true,
            "_model_module": "@jupyter-widgets/controls",
            "layout": "IPY_MODEL_52bb6be264a8487c93dd26331c6d2b8a"
          }
        },
        "413d2b085a844906afb3e492bc9f1eb4": {
          "model_module": "@jupyter-widgets/output",
          "model_name": "OutputModel",
          "model_module_version": "1.0.0",
          "state": {
            "_view_name": "OutputView",
            "msg_id": "",
            "_dom_classes": [],
            "_model_name": "OutputModel",
            "outputs": [
              {
                "output_type": "display_data",
                "data": {
                  "image/png": "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\n",
                  "text/plain": "<Figure size 720x360 with 1 Axes>"
                },
                "metadata": {
                  "needs_background": "light"
                }
              }
            ],
            "_view_module": "@jupyter-widgets/output",
            "_model_module_version": "1.0.0",
            "_view_count": null,
            "_view_module_version": "1.0.0",
            "layout": "IPY_MODEL_a880b83d7b594b21b20b4f5c4690f296",
            "_model_module": "@jupyter-widgets/output"
          }
        },
        "01cd614dcf374e88a651bfd85f9cdc40": {
          "model_module": "@jupyter-widgets/controls",
          "model_name": "SliderStyleModel",
          "model_module_version": "1.5.0",
          "state": {
            "_view_name": "StyleView",
            "handle_color": null,
            "_model_name": "SliderStyleModel",
            "description_width": "",
            "_view_module": "@jupyter-widgets/base",
            "_model_module_version": "1.5.0",
            "_view_count": null,
            "_view_module_version": "1.2.0",
            "_model_module": "@jupyter-widgets/controls"
          }
        },
        "52bb6be264a8487c93dd26331c6d2b8a": {
          "model_module": "@jupyter-widgets/base",
          "model_name": "LayoutModel",
          "model_module_version": "1.2.0",
          "state": {
            "_view_name": "LayoutView",
            "grid_template_rows": null,
            "right": null,
            "justify_content": null,
            "_view_module": "@jupyter-widgets/base",
            "overflow": null,
            "_model_module_version": "1.2.0",
            "_view_count": null,
            "flex_flow": null,
            "width": null,
            "min_width": null,
            "border": null,
            "align_items": null,
            "bottom": null,
            "_model_module": "@jupyter-widgets/base",
            "top": null,
            "grid_column": null,
            "overflow_y": null,
            "overflow_x": null,
            "grid_auto_flow": null,
            "grid_area": null,
            "grid_template_columns": null,
            "flex": null,
            "_model_name": "LayoutModel",
            "justify_items": null,
            "grid_row": null,
            "max_height": null,
            "align_content": null,
            "visibility": null,
            "align_self": null,
            "height": null,
            "min_height": null,
            "padding": null,
            "grid_auto_rows": null,
            "grid_gap": null,
            "max_width": null,
            "order": null,
            "_view_module_version": "1.2.0",
            "grid_template_areas": null,
            "object_position": null,
            "object_fit": null,
            "grid_auto_columns": null,
            "margin": null,
            "display": null,
            "left": null
          }
        },
        "a880b83d7b594b21b20b4f5c4690f296": {
          "model_module": "@jupyter-widgets/base",
          "model_name": "LayoutModel",
          "model_module_version": "1.2.0",
          "state": {
            "_view_name": "LayoutView",
            "grid_template_rows": null,
            "right": null,
            "justify_content": null,
            "_view_module": "@jupyter-widgets/base",
            "overflow": null,
            "_model_module_version": "1.2.0",
            "_view_count": null,
            "flex_flow": null,
            "width": null,
            "min_width": null,
            "border": null,
            "align_items": null,
            "bottom": null,
            "_model_module": "@jupyter-widgets/base",
            "top": null,
            "grid_column": null,
            "overflow_y": null,
            "overflow_x": null,
            "grid_auto_flow": null,
            "grid_area": null,
            "grid_template_columns": null,
            "flex": null,
            "_model_name": "LayoutModel",
            "justify_items": null,
            "grid_row": null,
            "max_height": null,
            "align_content": null,
            "visibility": null,
            "align_self": null,
            "height": null,
            "min_height": null,
            "padding": null,
            "grid_auto_rows": null,
            "grid_gap": null,
            "max_width": null,
            "order": null,
            "_view_module_version": "1.2.0",
            "grid_template_areas": null,
            "object_position": null,
            "object_fit": null,
            "grid_auto_columns": null,
            "margin": null,
            "display": null,
            "left": null
          }
        }
      }
    }
  },
  "cells": [
    {
      "cell_type": "markdown",
      "metadata": {
        "id": "view-in-github",
        "colab_type": "text"
      },
      "source": [
        "<a href=\"https://colab.research.google.com/github/jugernaut/ManejoDatos/blob/desarrollo/Simulacion/03_TeoriaDeFilas.ipynb\" target=\"_parent\"><img src=\"https://colab.research.google.com/assets/colab-badge.svg\" alt=\"Open In Colab\"/></a>"
      ]
    },
    {
      "cell_type": "markdown",
      "metadata": {
        "id": "fRthAgph_GHN"
      },
      "source": [
        "<font color=\"Teal\" face=\"Comic Sans MS,arial\">\n",
        "  <h1 align=\"center\"><i>Teoría de Filas</i></h1>\n",
        "  </font>\n",
        "  <font color=\"Black\" face=\"Comic Sans MS,arial\">\n",
        "  <h5 align=\"center\"><i>Profesor: M. en C. Miguel Angel Pérez León</i></h5>\n",
        "  <h5 align=\"center\"><i>Ayudante: Jesús Iván Coss Calderón</i></h5>\n",
        "  <h5 align=\"center\"><i>Ayudante: Jonathan Ramírez Montes</i></h5>\n",
        "  <h5 align=\"center\"><i>Materia: Manejo de Datos</i></h5>\n",
        "</font>"
      ]
    },
    {
      "cell_type": "markdown",
      "metadata": {
        "id": "oNV6AcCP_YEJ"
      },
      "source": [
        "# Introducción\n",
        "\n",
        "Frecuentemente en el estudio de fenómenos naturales o sociales, se presentan situaciones en las cuales se agrupan elementos en formas de linea en espera de ser atendidos o procesados.\n",
        "\n",
        "También con mucha frecuencia es de importancia tratar de averiguar mediante una simulación cual sera el patrón de espera para ser atendido o procesado, cuanto tiempo tardara un individuo en completar una labor o cuanto tiempo tomará completar una determinada labor.\n",
        "\n",
        "La parte teórica de este análisis se realiza mediante al disciplina conocida como **teoría de filas**, esta área de las ciencias trata de predecir mediante elementos matemáticos las variables y procesos que intervienen en una situación en la cual se presente una o más filas.\n",
        "\n",
        "En nuestro curso esto es de relevancia ya que la parte teórica ayuda al momento de entender el funcionamiento de un sistema complejo, como lo pude ser todo aquel en el que intervienen varios individuos o procesos y por otro lado mediante algún lenguaje de programación podemos realizar la simulación que corrobore el análisis teórico.\n",
        "\n",
        "En materias como **Investigación de Operaciones** o **Programación Lineal** se profundiza en conceptos importantes al tratar de optimizar el desempeño de un sistema complejo, pero para nuestro curso será que suficiente conocer los elementos básicos de la teoría de filas.\n",
        "\n",
        "Las filas aparecen frecuentemete en muchas situaciones como un banco, un hospital, un concierto, etc. Así que es importante dedicar un poco de tiempo a su análisis.\n",
        "\n",
        "<center>\n",
        "<img src=\"https://github.com/jugernaut/ManejoDatos/blob/desarrollo/Imagenes/Simulacion/tiaaly.png?raw=1\" width=\"800\"> \n",
        "</center>"
      ]
    },
    {
      "cell_type": "markdown",
      "metadata": {
        "id": "-keLhgR0_dQB"
      },
      "source": [
        "# Características importantes \n",
        "\n",
        "En general a nadie le gusta esperar, cuando la paciencia llega a su limite la gente decide irse a otro lugar, sin embargo un servicio muy rápido tendría un costo muy elevado, así que la idea es encontrar un balance entre ambos."
      ]
    },
    {
      "cell_type": "markdown",
      "metadata": {
        "id": "DlcBwdOtH2bm"
      },
      "source": [
        "# Notación básica (Kendall)\n",
        "\n",
        "Con el paso del tiempo se ha implantado una notación para representar los problemas de filas que consta de 5 símbolos separados por barras.\n",
        "\n",
        "$$A / B / X /Y / Z$$\n",
        "\n",
        "*   $A$: indica la distribución de tiempo entre llegadas consecutivas.\n",
        "*   $B$: alude al patrón de servicio de servidores.\n",
        "*   $X$: es el número de canales de servicio.\n",
        "*   $Y$: es la restricción en la capacidad del sistema,\n",
        "*   $Z$: es la disciplina de fila.\n",
        "\n",
        "<center>\n",
        "<img src=\"https://github.com/jugernaut/ManejoDatos/blob/desarrollo/Imagenes/Simulacion/patrones.png?raw=1\" width=\"800\"> \n",
        "</center>\n",
        "\n"
      ]
    },
    {
      "cell_type": "markdown",
      "metadata": {
        "id": "4nP0mqyQixXl"
      },
      "source": [
        "# Atención de procesos (clientes)\n",
        "\n",
        "El tiempo que transcurre entre 2 llegadas consecutivas de procesos o el tiempo que tarda en ser atendido un procesos pueden ser muy variados.\n",
        "\n",
        "A este tiempo se le conoce como **tiempo entre llegadas** y **tiempo entre servicios**.\n",
        "\n",
        "El número esperado de llegadas por unidad de tiempo se conoce como **tasa media de llegadas**. Y el numero de servicios por unidad de tiempo se conoce como **tasa media de servicios**."
      ]
    },
    {
      "cell_type": "markdown",
      "metadata": {
        "id": "sgoyyaLuoMOL"
      },
      "source": [
        "## Distribuciones\n",
        "\n",
        "A la forma en como van llegando los procesos para ser atendidos se le conoce como distribución.\n",
        "\n",
        "Principalmente vamos a contar con 2 tipos de distribución."
      ]
    },
    {
      "cell_type": "markdown",
      "metadata": {
        "id": "cPWGshOctAXI"
      },
      "source": [
        "## Distribución Determinista\n",
        "\n",
        "Esta distribución (patrón de llegada o atención) corresponde a una situación donde constantemente cada $n$ cantidad de tiempo llega un proceso o es atendido un proceso.\n",
        "\n",
        "El valor $n$ no se modifica a lo largo del tiempo y **se mantiene constante** durante todo momento.\n",
        "\n",
        "Si lo pensamos en código, esta distribución corresponde a lo siguiente."
      ]
    },
    {
      "cell_type": "code",
      "metadata": {
        "id": "6FcYc9DYuEzM",
        "colab": {
          "base_uri": "https://localhost:8080/"
        },
        "outputId": "4abbaba0-d8ff-458f-af5b-138431dd5d59"
      },
      "source": [
        "import time\n",
        "\n",
        "# Distribucion de llegada\n",
        "for _ in range(5):\n",
        "  print(\"Ha llegado un cliente\")\n",
        "  time.sleep(2)\n",
        "\n",
        "# Distribucion de servicio\n",
        "for _ in range(5):\n",
        "  print(\"Un cliente ha sido atendido\")\n",
        "  time.sleep(2)"
      ],
      "execution_count": null,
      "outputs": [
        {
          "output_type": "stream",
          "name": "stdout",
          "text": [
            "Ha llegado un cliente\n",
            "Ha llegado un cliente\n",
            "Ha llegado un cliente\n",
            "Ha llegado un cliente\n",
            "Ha llegado un cliente\n",
            "Un cliente ha sido atendido\n",
            "Un cliente ha sido atendido\n",
            "Un cliente ha sido atendido\n",
            "Un cliente ha sido atendido\n",
            "Un cliente ha sido atendido\n"
          ]
        }
      ]
    },
    {
      "cell_type": "markdown",
      "metadata": {
        "id": "kBnxiFXposbU"
      },
      "source": [
        "### Distribución Exponenecial\n",
        "\n",
        "La primer forma de distribuir los tiempos de llegada y de servicio se conoce como **distribución exponencial**.\n",
        "\n",
        "$$P\\left(t\\right)=\\lambda*e^{\\left(-\\lambda t\\right)}$$\n",
        "\n",
        "Para $t = 0,1,2,3,.....$ Donde:\n",
        "*   $P(t) =$ Probabilidad de $k$ arribos/servicios.\n",
        "*   $t =$ Número de arrivos/servicios por unidad de tiempo\n",
        "*   $\\lambda =$ Tasa promedio de arrivos/servicios por unidad de tiempo."
      ]
    },
    {
      "cell_type": "code",
      "metadata": {
        "id": "low436XPkg4e",
        "colab": {
          "base_uri": "https://localhost:8080/",
          "height": 404,
          "referenced_widgets": [
            "7a469eedd9494ab9a2cffceee1e3e93b",
            "020a89d0a1e14a48ae7cc5d20c04485a",
            "18ef6467bd48443a9d78e917796404aa",
            "6635d6de8b1b412ab65b87538100c782",
            "4333869901c04bf99ee187d2d1086f56",
            "5246e20295dd41f782efad67e0b67247",
            "e8aff9a11e86476aae220018c960c138"
          ]
        },
        "outputId": "b6f8b128-d7e6-4eb0-b417-26fe06b96478"
      },
      "source": [
        "import numpy as np\n",
        "import matplotlib.pyplot as plt\n",
        "from IPython.html.widgets import interact\n",
        "import ipywidgets as widgets\n",
        "\n",
        "def distExponencial(lam):\n",
        "  # tamano de la imagen\n",
        "  plt.figure(figsize=(10,5))\n",
        "  # dominio en el cual se genera la grafica\n",
        "  x = np.linspace(0,10,15)\n",
        "  # tipo de sitribucion\n",
        "  distribucion = lam*np.exp(-x*lam)\n",
        "  # se grafican ambas rectas\n",
        "  plt.plot(x,distribucion,label = '$exponencial$', color='crimson')\n",
        "  plt.xlabel('$tiempo$')\n",
        "  plt.ylabel('$llegadas$')\n",
        "  plt.title('Distribución Exponencial')\n",
        "  plt.grid()\n",
        "  plt.legend()\n",
        "\n",
        "interact(distExponencial, lam=widgets.FloatSlider(min=0.0,max=0.5,step=0.1,value=0.1))\n"
      ],
      "execution_count": null,
      "outputs": [
        {
          "output_type": "display_data",
          "data": {
            "application/vnd.jupyter.widget-view+json": {
              "model_id": "7a469eedd9494ab9a2cffceee1e3e93b",
              "version_minor": 0,
              "version_major": 2
            },
            "text/plain": [
              "interactive(children=(FloatSlider(value=0.1, description='lam', max=0.5), Output()), _dom_classes=('widget-int…"
            ]
          },
          "metadata": {}
        },
        {
          "output_type": "execute_result",
          "data": {
            "text/plain": [
              "<function __main__.distExp>"
            ]
          },
          "metadata": {},
          "execution_count": 29
        }
      ]
    },
    {
      "cell_type": "markdown",
      "metadata": {
        "id": "nwVsyeNpXk_a"
      },
      "source": [
        "### Distribución de Poisson\n",
        "\n",
        "La segunda forma más común de distribución, es la **Distribución de Poisson**.\n",
        "\n",
        "$$P\\left(k\\right)=\\frac{\\lambda^{k}e^{-\\lambda}}{k!}$$"
      ]
    },
    {
      "cell_type": "code",
      "metadata": {
        "id": "V_IfvoT3mTcX",
        "colab": {
          "base_uri": "https://localhost:8080/",
          "height": 404,
          "referenced_widgets": [
            "562d2b86a3b84be6b1316f0e3336f261",
            "1974cf5929234de2be0915c2fa0cd671",
            "5e9c068c36eb46fba01d42ece0a32669",
            "413d2b085a844906afb3e492bc9f1eb4",
            "01cd614dcf374e88a651bfd85f9cdc40",
            "52bb6be264a8487c93dd26331c6d2b8a",
            "a880b83d7b594b21b20b4f5c4690f296"
          ]
        },
        "outputId": "dc50571e-f2b9-4cae-e81c-50d647f2c021"
      },
      "source": [
        "import numpy as np\n",
        "import matplotlib.pyplot as plt\n",
        "import scipy.special\n",
        "from IPython.html.widgets import interact\n",
        "import ipywidgets as widgets\n",
        "\n",
        "def distPoisson(lam):\n",
        "  # tamano de la imagen\n",
        "  plt.figure(figsize=(10,5))\n",
        "  # dominio en el cual se genera la grafica\n",
        "  x = np.linspace(0,10,15)\n",
        "  # tipo de sitribucion\n",
        "  distribucion = (lam**(x)*np.exp(-lam))/(scipy.special.factorial(x))\n",
        "  # se grafican ambas rectas\n",
        "  plt.plot(x,distribucion,label = '$poisson$', color='crimson')\n",
        "  plt.xlabel('$tiempo$')\n",
        "  plt.ylabel('$llegadas$')\n",
        "  plt.title('Distribución de Poisson')\n",
        "  plt.grid()\n",
        "  plt.legend()\n",
        "\n",
        "interact(distPoisson, lam=widgets.FloatSlider(min=0.0,max=0.5,step=0.1,value=0.1))"
      ],
      "execution_count": null,
      "outputs": [
        {
          "output_type": "display_data",
          "data": {
            "application/vnd.jupyter.widget-view+json": {
              "model_id": "562d2b86a3b84be6b1316f0e3336f261",
              "version_minor": 0,
              "version_major": 2
            },
            "text/plain": [
              "interactive(children=(FloatSlider(value=0.1, description='lam', max=0.5), Output()), _dom_classes=('widget-int…"
            ]
          },
          "metadata": {}
        },
        {
          "output_type": "execute_result",
          "data": {
            "text/plain": [
              "<function __main__.distPoisson>"
            ]
          },
          "metadata": {},
          "execution_count": 36
        }
      ]
    },
    {
      "cell_type": "markdown",
      "metadata": {
        "id": "6ADj4drtIRWL"
      },
      "source": [
        "# Modelos\n",
        "\n",
        "A continuación veremos algunos modelos de sistemas en los que se forman filas."
      ]
    },
    {
      "cell_type": "markdown",
      "metadata": {
        "id": "nip61Z3gk8N4"
      },
      "source": [
        "## Modelo $D/D/1$\n",
        "\n",
        "Este es de los sistemas más sencillos de analizar, ya que básicamente todo es constante y solo se tiene un servidor o fila.\n",
        "\n",
        "Es un sistema de filas de espera, con llegadas constantes, tiempo de servicio constante, con un servidor o fila de servicio.\n",
        "\n",
        "Supongamos que $\\lambda$ es el **tiempo de llegada**, sea $\\lambda=5$ minutos, es decir cada $5$ minutos llega un cliente. Y sea $\\mu=4$ minutos el **tiempo de servicio**. Si nos detenemos a analizar un poco esta situación, dado que $\\lambda < \\mu$ esto significa que cada cliente es atendido antes de que llegue un cliente nuevo, por lo tanto no se forma una fila.\n",
        "\n",
        "<center>\n",
        "<img src=\"https://github.com/jugernaut/ManejoDatos/blob/desarrollo/Imagenes/Simulacion/dd1.gif?raw=1\" width=\"600\"> \n",
        "</center>\n",
        "\n",
        "Modelos que funcionan de esta forma son por ejemplo las **lineas de ensamblaje**, donde se tienen patrones de llegada y de servicio deterministas y no se forman filas.\n",
        "\n",
        "Sin embargo vale la pena preguntarnos ¿qué sucede si $\\lambda > \\mu$?, esta situación se muestra a continuación.\n",
        "\n",
        "<center>\n",
        "<img src=\"https://github.com/jugernaut/ManejoDatos/blob/desarrollo/Imagenes/Simulacion/dd1espera.gif?raw=1\" width=\"600\"> \n",
        "</center>\n",
        "\n",
        "En esta situación surgen varias preguntas:\n",
        "\n",
        "*   ¿Cuanto tiempo espera un cliente en la fila?\n",
        "*   Además de agiliza el tiempo de servicio, ¿se puede hacer algo más para evitar que los clientes esperen en la fila?\n",
        "\n"
      ]
    },
    {
      "cell_type": "markdown",
      "metadata": {
        "id": "0dXUNRxSIzxr"
      },
      "source": [
        "## Modelo $M/M/1$\n",
        "\n",
        "En este modelo tanto el patrón de llegada, como el patrón de servicio son de tipo probabilistico y como ya vimos previamente se tienen 2 tipos de distribuciones principalmente.\n",
        "\n",
        "Volvemos a tener un solo servidor o fila de espera."
      ]
    },
    {
      "cell_type": "markdown",
      "metadata": {
        "id": "5B8I8i3qFJ9z"
      },
      "source": [
        "### Ejemplo\n",
        "\n",
        "Sea $\\lambda=100$ personas por hora y $\\mu=20$ personas atendidas cada $10$ minutos (es decir $120$ personas por hora). Tratemos de ver que sucede con el sistema.\n",
        "\n",
        "El **número de clientes que esperan en la fila** está dado por:\n",
        "$$L_{q}=\\frac{\\lambda^{2}}{\\mu\\left(\\mu-\\lambda\\right)}=\\frac{100^{2}}{\\left(120\\right)\\left(120-100\\right)}=1.04$$\n",
        "\n",
        "El **tiempo que un cliente espera en la fila** está dado por:\n",
        "$$W_{q}=\\frac{\\lambda}{\\mu\\left(\\mu-\\lambda\\right)}=\\frac{100}{\\left(120\\right)\\left(120-100\\right)}=0.01\\,horas\\times\\frac{60min}{1hora}=0.6min\\frac{60seg}{1min}=36seg$$\n",
        "\n",
        "El **número de clientes en el sistema** está dado por:\n",
        "$$L_{s}=\\frac{\\lambda}{\\mu-\\lambda}=\\frac{100}{120-100}=\\frac{100}{20}=5$$\n",
        "\n",
        "El **tiempo que los clientes espéran en el sistema**:\n",
        "$$W_{s}=\\frac{1}{\\mu-\\lambda}=\\frac{1}{120-100}=\\frac{1}{20}=0.05\\,horas\\times\\frac{60min}{1hora}=3min\\frac{60seg}{1min}=180seg$$"
      ]
    },
    {
      "cell_type": "markdown",
      "metadata": {
        "id": "gda37kOR__z-"
      },
      "source": [
        "# Otros Modelos\n",
        "\n",
        "Existen muchas variantes de modelos en los que se forman filas."
      ]
    },
    {
      "cell_type": "markdown",
      "metadata": {
        "id": "f26aTCPoLvbO"
      },
      "source": [
        "## Una fila multiples servidores\n",
        "\n",
        "<center>\n",
        "<img src=\"https://github.com/jugernaut/ManejoDatos/blob/desarrollo/Imagenes/Simulacion/unfms.png?raw=1\" width=\"600\"> \n",
        "</center> "
      ]
    },
    {
      "cell_type": "markdown",
      "metadata": {
        "id": "FSdH-9zzNIoA"
      },
      "source": [
        "## Varias filas multiples servidores\n",
        "\n",
        "<center>\n",
        "<img src=\"https://github.com/jugernaut/ManejoDatos/blob/desarrollo/Imagenes/Simulacion/vfvm.png?raw=1\" width=\"600\"> \n",
        "</center> "
      ]
    },
    {
      "cell_type": "markdown",
      "metadata": {
        "id": "V7KWZj-TNPF3"
      },
      "source": [
        "## Una filas varios servidores\n",
        "\n",
        "<center>\n",
        "<img src=\"https://github.com/jugernaut/ManejoDatos/blob/desarrollo/Imagenes/Simulacion/ufvs.png?raw=1\" width=\"600\"> \n",
        "</center> "
      ]
    },
    {
      "cell_type": "markdown",
      "metadata": {
        "id": "sNjKU2teNllh"
      },
      "source": [
        "# Costo-Calidad\n",
        "\n",
        "La finalidad de la teoría de filas y su simulación es encontrar un equilibro para el **costo-calidad** en un sistema.\n",
        "\n",
        "*   **Costos en la fila**: el costo en la fila del sistema es el tiempo que el cliente (proceso) pierde esperando a ser atendido. Un sistema con un **bajo costo** es la finalidad de todo modelo de fila. \n",
        "*   **Costos de servicio**: es el costo de operación por servicio, uno de los objetivos de la teoría de filas es, **mantener el costo total mínimo y maximizar el número de clientes atendidos**.\n",
        "\n",
        "Otros objetivos del análisis de un sistema son:\n",
        "\n",
        "*   Identificar el **nivel óptimo de capacidad del sistema, que minimiza el coste del mismo**.\n",
        "*   Evaluar el impacto que las posibles alternativas de modificación de la capacidad del sistema tendrían en el coste total del mismo.\n",
        "\n",
        "<center>\n",
        "<img src=\"https://github.com/jugernaut/ManejoDatos/blob/desarrollo/Imagenes/Simulacion/mapacon.png?raw=1\" width=\"900\"> \n",
        "</center> "
      ]
    },
    {
      "cell_type": "markdown",
      "metadata": {
        "id": "279Ou6b6OhAE"
      },
      "source": [
        "# Ejercicio\n",
        "\n",
        "Supongamos que en una estación con un solo servidor llegan en promedio 45 clientes por hora.\n",
        "\n",
        "Se tiene capacidad para atender en promedio 60 clientes por hora.\n",
        "\n",
        "Se sabe que los clientes esperan en promedio 3 minutos en la fila.\n",
        "\n",
        "Responde las siguientes preguntas:\n",
        "\n",
        "*   ¿Cuál es el tiempo que un clientes pasa en el sistema?\n",
        "*   ¿Cuál es número de clientess en la fila?\n",
        "*   ¿Cuál es el número de clientes en el sistema?\n",
        "*   ¿Qué tipo de modelo es este?\n",
        "\n"
      ]
    },
    {
      "cell_type": "markdown",
      "metadata": {
        "id": "r50CSgntYI27"
      },
      "source": [
        "# Referencias\n",
        "\n",
        "* [Modelos de filas](https://www.um.es/or/ampliacion/node7.html).\n",
        "* [Teoría de Colas](https://hopelchen.tecnm.mx/principal/sylabus/fpdb/recursos/r89798.PDF).\n",
        "* [Teoría de filas](https://www.ecured.cu/Teor%C3%ADa_de_colas).\n",
        "* [Notación Kendall.](http://www.lcc.uma.es/~ezeqlr/ios/Tema5.pdf)\n",
        "* [Invesigación operativa.](https://idus.us.es/bitstream/handle/11441/77595/Esteban%20Vel%C3%A1zquez%20Gabriel%20TFG.pdf?sequence=1)\n",
        "* [Modelos D/D/1.](https://www.um.es/or/ampliacion/node5.html)\n",
        "\n",
        "\n"
      ]
    }
  ]
}