{
  "nbformat": 4,
  "nbformat_minor": 0,
  "metadata": {
    "colab": {
      "name": "TeoriaDeFilas.ipynb",
      "provenance": [],
      "toc_visible": true,
      "include_colab_link": true
    },
    "kernelspec": {
      "name": "python3",
      "display_name": "Python 3"
    },
    "language_info": {
      "name": "python"
    },
    "widgets": {
      "application/vnd.jupyter.widget-state+json": {
        "307edaf234bf4a69bc97586405f49ed6": {
          "model_module": "@jupyter-widgets/controls",
          "model_name": "VBoxModel",
          "model_module_version": "1.5.0",
          "state": {
            "_dom_classes": [
              "widget-interact"
            ],
            "_model_module": "@jupyter-widgets/controls",
            "_model_module_version": "1.5.0",
            "_model_name": "VBoxModel",
            "_view_count": null,
            "_view_module": "@jupyter-widgets/controls",
            "_view_module_version": "1.5.0",
            "_view_name": "VBoxView",
            "box_style": "",
            "children": [
              "IPY_MODEL_c2ea3543fcd24a698bde49be84776eae",
              "IPY_MODEL_2fdfb42ee2c54c278de42f3f05d23304"
            ],
            "layout": "IPY_MODEL_6a4ec505a2894f409c5ca07ecd2e8dac"
          }
        },
        "c2ea3543fcd24a698bde49be84776eae": {
          "model_module": "@jupyter-widgets/controls",
          "model_name": "FloatSliderModel",
          "model_module_version": "1.5.0",
          "state": {
            "_dom_classes": [],
            "_model_module": "@jupyter-widgets/controls",
            "_model_module_version": "1.5.0",
            "_model_name": "FloatSliderModel",
            "_view_count": null,
            "_view_module": "@jupyter-widgets/controls",
            "_view_module_version": "1.5.0",
            "_view_name": "FloatSliderView",
            "continuous_update": true,
            "description": "lam",
            "description_tooltip": null,
            "disabled": false,
            "layout": "IPY_MODEL_fcdcc21d7e694ad0ab35850fd07b6261",
            "max": 0.5,
            "min": 0,
            "orientation": "horizontal",
            "readout": true,
            "readout_format": ".2f",
            "step": 0.1,
            "style": "IPY_MODEL_85d7a3fbad6f4ca28850d8125e58f710",
            "value": 0.5
          }
        },
        "2fdfb42ee2c54c278de42f3f05d23304": {
          "model_module": "@jupyter-widgets/output",
          "model_name": "OutputModel",
          "model_module_version": "1.0.0",
          "state": {
            "_dom_classes": [],
            "_model_module": "@jupyter-widgets/output",
            "_model_module_version": "1.0.0",
            "_model_name": "OutputModel",
            "_view_count": null,
            "_view_module": "@jupyter-widgets/output",
            "_view_module_version": "1.0.0",
            "_view_name": "OutputView",
            "layout": "IPY_MODEL_9115326c3d4f4fada7e5960dc9cf7dd2",
            "msg_id": "",
            "outputs": [
              {
                "output_type": "display_data",
                "data": {
                  "text/plain": "<Figure size 720x360 with 1 Axes>",
                  "image/png": "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\n"
                },
                "metadata": {
                  "needs_background": "light"
                }
              }
            ]
          }
        },
        "6a4ec505a2894f409c5ca07ecd2e8dac": {
          "model_module": "@jupyter-widgets/base",
          "model_name": "LayoutModel",
          "model_module_version": "1.2.0",
          "state": {
            "_model_module": "@jupyter-widgets/base",
            "_model_module_version": "1.2.0",
            "_model_name": "LayoutModel",
            "_view_count": null,
            "_view_module": "@jupyter-widgets/base",
            "_view_module_version": "1.2.0",
            "_view_name": "LayoutView",
            "align_content": null,
            "align_items": null,
            "align_self": null,
            "border": null,
            "bottom": null,
            "display": null,
            "flex": null,
            "flex_flow": null,
            "grid_area": null,
            "grid_auto_columns": null,
            "grid_auto_flow": null,
            "grid_auto_rows": null,
            "grid_column": null,
            "grid_gap": null,
            "grid_row": null,
            "grid_template_areas": null,
            "grid_template_columns": null,
            "grid_template_rows": null,
            "height": null,
            "justify_content": null,
            "justify_items": null,
            "left": null,
            "margin": null,
            "max_height": null,
            "max_width": null,
            "min_height": null,
            "min_width": null,
            "object_fit": null,
            "object_position": null,
            "order": null,
            "overflow": null,
            "overflow_x": null,
            "overflow_y": null,
            "padding": null,
            "right": null,
            "top": null,
            "visibility": null,
            "width": null
          }
        },
        "fcdcc21d7e694ad0ab35850fd07b6261": {
          "model_module": "@jupyter-widgets/base",
          "model_name": "LayoutModel",
          "model_module_version": "1.2.0",
          "state": {
            "_model_module": "@jupyter-widgets/base",
            "_model_module_version": "1.2.0",
            "_model_name": "LayoutModel",
            "_view_count": null,
            "_view_module": "@jupyter-widgets/base",
            "_view_module_version": "1.2.0",
            "_view_name": "LayoutView",
            "align_content": null,
            "align_items": null,
            "align_self": null,
            "border": null,
            "bottom": null,
            "display": null,
            "flex": null,
            "flex_flow": null,
            "grid_area": null,
            "grid_auto_columns": null,
            "grid_auto_flow": null,
            "grid_auto_rows": null,
            "grid_column": null,
            "grid_gap": null,
            "grid_row": null,
            "grid_template_areas": null,
            "grid_template_columns": null,
            "grid_template_rows": null,
            "height": null,
            "justify_content": null,
            "justify_items": null,
            "left": null,
            "margin": null,
            "max_height": null,
            "max_width": null,
            "min_height": null,
            "min_width": null,
            "object_fit": null,
            "object_position": null,
            "order": null,
            "overflow": null,
            "overflow_x": null,
            "overflow_y": null,
            "padding": null,
            "right": null,
            "top": null,
            "visibility": null,
            "width": null
          }
        },
        "85d7a3fbad6f4ca28850d8125e58f710": {
          "model_module": "@jupyter-widgets/controls",
          "model_name": "SliderStyleModel",
          "model_module_version": "1.5.0",
          "state": {
            "_model_module": "@jupyter-widgets/controls",
            "_model_module_version": "1.5.0",
            "_model_name": "SliderStyleModel",
            "_view_count": null,
            "_view_module": "@jupyter-widgets/base",
            "_view_module_version": "1.2.0",
            "_view_name": "StyleView",
            "description_width": "",
            "handle_color": null
          }
        },
        "9115326c3d4f4fada7e5960dc9cf7dd2": {
          "model_module": "@jupyter-widgets/base",
          "model_name": "LayoutModel",
          "model_module_version": "1.2.0",
          "state": {
            "_model_module": "@jupyter-widgets/base",
            "_model_module_version": "1.2.0",
            "_model_name": "LayoutModel",
            "_view_count": null,
            "_view_module": "@jupyter-widgets/base",
            "_view_module_version": "1.2.0",
            "_view_name": "LayoutView",
            "align_content": null,
            "align_items": null,
            "align_self": null,
            "border": null,
            "bottom": null,
            "display": null,
            "flex": null,
            "flex_flow": null,
            "grid_area": null,
            "grid_auto_columns": null,
            "grid_auto_flow": null,
            "grid_auto_rows": null,
            "grid_column": null,
            "grid_gap": null,
            "grid_row": null,
            "grid_template_areas": null,
            "grid_template_columns": null,
            "grid_template_rows": null,
            "height": null,
            "justify_content": null,
            "justify_items": null,
            "left": null,
            "margin": null,
            "max_height": null,
            "max_width": null,
            "min_height": null,
            "min_width": null,
            "object_fit": null,
            "object_position": null,
            "order": null,
            "overflow": null,
            "overflow_x": null,
            "overflow_y": null,
            "padding": null,
            "right": null,
            "top": null,
            "visibility": null,
            "width": null
          }
        },
        "082cc88665834920a30c1962268ee11a": {
          "model_module": "@jupyter-widgets/controls",
          "model_name": "VBoxModel",
          "model_module_version": "1.5.0",
          "state": {
            "_dom_classes": [
              "widget-interact"
            ],
            "_model_module": "@jupyter-widgets/controls",
            "_model_module_version": "1.5.0",
            "_model_name": "VBoxModel",
            "_view_count": null,
            "_view_module": "@jupyter-widgets/controls",
            "_view_module_version": "1.5.0",
            "_view_name": "VBoxView",
            "box_style": "",
            "children": [
              "IPY_MODEL_f67c14e18bca401392f29f3b88224c5c",
              "IPY_MODEL_9fe27de19b214871a886345dfbbb0461"
            ],
            "layout": "IPY_MODEL_ddd32b077b384f67aebdadabbe4ed77e"
          }
        },
        "f67c14e18bca401392f29f3b88224c5c": {
          "model_module": "@jupyter-widgets/controls",
          "model_name": "FloatSliderModel",
          "model_module_version": "1.5.0",
          "state": {
            "_dom_classes": [],
            "_model_module": "@jupyter-widgets/controls",
            "_model_module_version": "1.5.0",
            "_model_name": "FloatSliderModel",
            "_view_count": null,
            "_view_module": "@jupyter-widgets/controls",
            "_view_module_version": "1.5.0",
            "_view_name": "FloatSliderView",
            "continuous_update": true,
            "description": "lam",
            "description_tooltip": null,
            "disabled": false,
            "layout": "IPY_MODEL_046192d8db9a4e03bd09e13053de39b6",
            "max": 0.5,
            "min": 0,
            "orientation": "horizontal",
            "readout": true,
            "readout_format": ".2f",
            "step": 0.1,
            "style": "IPY_MODEL_4511fea9afe649ef8651233bf1d96d7f",
            "value": 0.5
          }
        },
        "9fe27de19b214871a886345dfbbb0461": {
          "model_module": "@jupyter-widgets/output",
          "model_name": "OutputModel",
          "model_module_version": "1.0.0",
          "state": {
            "_dom_classes": [],
            "_model_module": "@jupyter-widgets/output",
            "_model_module_version": "1.0.0",
            "_model_name": "OutputModel",
            "_view_count": null,
            "_view_module": "@jupyter-widgets/output",
            "_view_module_version": "1.0.0",
            "_view_name": "OutputView",
            "layout": "IPY_MODEL_b4a462f3989d4a19b0533235a0f76541",
            "msg_id": "",
            "outputs": [
              {
                "output_type": "display_data",
                "data": {
                  "text/plain": "<Figure size 720x360 with 1 Axes>",
                  "image/png": "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\n"
                },
                "metadata": {
                  "needs_background": "light"
                }
              }
            ]
          }
        },
        "ddd32b077b384f67aebdadabbe4ed77e": {
          "model_module": "@jupyter-widgets/base",
          "model_name": "LayoutModel",
          "model_module_version": "1.2.0",
          "state": {
            "_model_module": "@jupyter-widgets/base",
            "_model_module_version": "1.2.0",
            "_model_name": "LayoutModel",
            "_view_count": null,
            "_view_module": "@jupyter-widgets/base",
            "_view_module_version": "1.2.0",
            "_view_name": "LayoutView",
            "align_content": null,
            "align_items": null,
            "align_self": null,
            "border": null,
            "bottom": null,
            "display": null,
            "flex": null,
            "flex_flow": null,
            "grid_area": null,
            "grid_auto_columns": null,
            "grid_auto_flow": null,
            "grid_auto_rows": null,
            "grid_column": null,
            "grid_gap": null,
            "grid_row": null,
            "grid_template_areas": null,
            "grid_template_columns": null,
            "grid_template_rows": null,
            "height": null,
            "justify_content": null,
            "justify_items": null,
            "left": null,
            "margin": null,
            "max_height": null,
            "max_width": null,
            "min_height": null,
            "min_width": null,
            "object_fit": null,
            "object_position": null,
            "order": null,
            "overflow": null,
            "overflow_x": null,
            "overflow_y": null,
            "padding": null,
            "right": null,
            "top": null,
            "visibility": null,
            "width": null
          }
        },
        "046192d8db9a4e03bd09e13053de39b6": {
          "model_module": "@jupyter-widgets/base",
          "model_name": "LayoutModel",
          "model_module_version": "1.2.0",
          "state": {
            "_model_module": "@jupyter-widgets/base",
            "_model_module_version": "1.2.0",
            "_model_name": "LayoutModel",
            "_view_count": null,
            "_view_module": "@jupyter-widgets/base",
            "_view_module_version": "1.2.0",
            "_view_name": "LayoutView",
            "align_content": null,
            "align_items": null,
            "align_self": null,
            "border": null,
            "bottom": null,
            "display": null,
            "flex": null,
            "flex_flow": null,
            "grid_area": null,
            "grid_auto_columns": null,
            "grid_auto_flow": null,
            "grid_auto_rows": null,
            "grid_column": null,
            "grid_gap": null,
            "grid_row": null,
            "grid_template_areas": null,
            "grid_template_columns": null,
            "grid_template_rows": null,
            "height": null,
            "justify_content": null,
            "justify_items": null,
            "left": null,
            "margin": null,
            "max_height": null,
            "max_width": null,
            "min_height": null,
            "min_width": null,
            "object_fit": null,
            "object_position": null,
            "order": null,
            "overflow": null,
            "overflow_x": null,
            "overflow_y": null,
            "padding": null,
            "right": null,
            "top": null,
            "visibility": null,
            "width": null
          }
        },
        "4511fea9afe649ef8651233bf1d96d7f": {
          "model_module": "@jupyter-widgets/controls",
          "model_name": "SliderStyleModel",
          "model_module_version": "1.5.0",
          "state": {
            "_model_module": "@jupyter-widgets/controls",
            "_model_module_version": "1.5.0",
            "_model_name": "SliderStyleModel",
            "_view_count": null,
            "_view_module": "@jupyter-widgets/base",
            "_view_module_version": "1.2.0",
            "_view_name": "StyleView",
            "description_width": "",
            "handle_color": null
          }
        },
        "b4a462f3989d4a19b0533235a0f76541": {
          "model_module": "@jupyter-widgets/base",
          "model_name": "LayoutModel",
          "model_module_version": "1.2.0",
          "state": {
            "_model_module": "@jupyter-widgets/base",
            "_model_module_version": "1.2.0",
            "_model_name": "LayoutModel",
            "_view_count": null,
            "_view_module": "@jupyter-widgets/base",
            "_view_module_version": "1.2.0",
            "_view_name": "LayoutView",
            "align_content": null,
            "align_items": null,
            "align_self": null,
            "border": null,
            "bottom": null,
            "display": null,
            "flex": null,
            "flex_flow": null,
            "grid_area": null,
            "grid_auto_columns": null,
            "grid_auto_flow": null,
            "grid_auto_rows": null,
            "grid_column": null,
            "grid_gap": null,
            "grid_row": null,
            "grid_template_areas": null,
            "grid_template_columns": null,
            "grid_template_rows": null,
            "height": null,
            "justify_content": null,
            "justify_items": null,
            "left": null,
            "margin": null,
            "max_height": null,
            "max_width": null,
            "min_height": null,
            "min_width": null,
            "object_fit": null,
            "object_position": null,
            "order": null,
            "overflow": null,
            "overflow_x": null,
            "overflow_y": null,
            "padding": null,
            "right": null,
            "top": null,
            "visibility": null,
            "width": null
          }
        }
      }
    }
  },
  "cells": [
    {
      "cell_type": "markdown",
      "metadata": {
        "id": "view-in-github",
        "colab_type": "text"
      },
      "source": [
        "<a href=\"https://colab.research.google.com/github/jugernaut/ManejoDatos/blob/desarrollo/Simulacion/03_TeoriaDeFilas.ipynb\" target=\"_parent\"><img src=\"https://colab.research.google.com/assets/colab-badge.svg\" alt=\"Open In Colab\"/></a>"
      ]
    },
    {
      "cell_type": "markdown",
      "metadata": {
        "id": "fRthAgph_GHN"
      },
      "source": [
        "<font color=\"Teal\" face=\"Comic Sans MS,arial\">\n",
        "  <h1 align=\"center\"><i>Teoría de Filas</i></h1>\n",
        "  </font>\n",
        "  <font color=\"Black\" face=\"Comic Sans MS,arial\">\n",
        "  <h5 align=\"center\"><i>Profesor: M. en C. Miguel Angel Pérez León</i></h5>\n",
        "  <h5 align=\"center\"><i>Ayudante: Jesús Iván Coss Calderón</i></h5>\n",
        "  <h5 align=\"center\"><i>Ayudante: Jonathan Ramírez Montes</i></h5>\n",
        "  <h5 align=\"center\"><i>Materia: Manejo de Datos</i></h5>\n",
        "</font>"
      ]
    },
    {
      "cell_type": "markdown",
      "metadata": {
        "id": "oNV6AcCP_YEJ"
      },
      "source": [
        "# Introducción\n",
        "\n",
        "Frecuentemente en el estudio de fenómenos naturales o sociales, se presentan situaciones en las cuales se agrupan elementos en formas de linea en espera de ser atendidos o procesados.\n",
        "\n",
        "También con mucha frecuencia es de importancia tratar de averiguar mediante una simulación cual será el patrón de espera para ser atendido o procesado, cuanto tiempo tardara un individuo en completar una labor o cuanto tiempo tomará completar una determinada labor.\n",
        "\n",
        "La parte teórica de este análisis se realiza mediante al disciplina conocida como **teoría de filas**, esta área de las ciencias trata de predecir mediante elementos matemáticos las variables y procesos que intervienen en una situación en la cual se presente una o más filas.\n",
        "\n",
        "En nuestro curso esto es de relevancia ya que la parte teórica ayuda al momento de entender el funcionamiento de un sistema complejo, como lo pude ser todo aquel en el que intervienen varios individuos o procesos y por otro lado mediante algún lenguaje de programación podemos realizar la simulación que corrobore el análisis teórico.\n",
        "\n",
        "En materias como **Investigación de Operaciones** o **Programación Lineal** se profundiza en conceptos importantes al tratar de optimizar el desempeño de un sistema complejo, pero para nuestro curso será más que suficiente conocer los elementos básicos de la teoría de filas.\n",
        "\n",
        "Las filas aparecen frecuentemente en muchas situaciones como un banco, un hospital, un concierto, etc. Así que es importante dedicar un poco de tiempo a su análisis.\n",
        "\n",
        "<center>\n",
        "<img src=\"https://github.com/jugernaut/ManejoDatos/blob/desarrollo/Imagenes/Simulacion/tiaaly.png?raw=1\" width=\"800\"> \n",
        "</center>"
      ]
    },
    {
      "cell_type": "markdown",
      "metadata": {
        "id": "-keLhgR0_dQB"
      },
      "source": [
        "# Características importantes \n",
        "\n",
        "En general a nadie le gusta esperar, cuando la paciencia llega a su limite la gente decide irse a otro lugar, sin embargo un servicio muy rápido tendría un costo muy elevado, así que la idea es encontrar un balance entre ambos."
      ]
    },
    {
      "cell_type": "markdown",
      "metadata": {
        "id": "DlcBwdOtH2bm"
      },
      "source": [
        "# Notación básica (Kendall)\n",
        "\n",
        "Con el paso del tiempo se ha implantado una notación para representar los problemas de filas que consta de 5 símbolos separados por barras.\n",
        "\n",
        "$$A / B / X /Y / Z$$\n",
        "\n",
        "*   $A$: indica la distribución de tiempo entre llegadas consecutivas.\n",
        "*   $B$: alude al patrón de servicio de servidores.\n",
        "*   $X$: es el número de canales de servicio.\n",
        "*   $Y$: es la restricción en la capacidad del sistema.\n",
        "*   $Z$: es la disciplina de fila.\n",
        "\n",
        "<center>\n",
        "<img src=\"https://github.com/jugernaut/ManejoDatos/blob/desarrollo/Imagenes/Simulacion/patrones.png?raw=1\" width=\"800\"> \n",
        "</center>\n",
        "\n"
      ]
    },
    {
      "cell_type": "markdown",
      "metadata": {
        "id": "4nP0mqyQixXl"
      },
      "source": [
        "# Atención de procesos (clientes)\n",
        "\n",
        "El tiempo que transcurre entre 2 llegadas consecutivas de procesos o el tiempo que tarda en ser atendido un procesos pueden ser muy variados.\n",
        "\n",
        "A este tiempo se le conoce como **tiempo entre llegadas** y **tiempo entre servicios**.\n",
        "\n",
        "El número esperado de llegadas por unidad de tiempo se conoce como **tasa media de llegadas**. Y el numero de servicios por unidad de tiempo se conoce como **tasa media de servicios**."
      ]
    },
    {
      "cell_type": "markdown",
      "metadata": {
        "id": "sgoyyaLuoMOL"
      },
      "source": [
        "## Distribuciones\n",
        "\n",
        "A la forma en como van llegando los procesos para ser atendidos se le conoce como distribución.\n",
        "\n",
        "Principalmente vamos a contar con 2 tipos de distribución."
      ]
    },
    {
      "cell_type": "markdown",
      "metadata": {
        "id": "cPWGshOctAXI"
      },
      "source": [
        "## Distribución Determinista\n",
        "\n",
        "Esta distribución (patrón de llegada o atención) corresponde a una situación donde constantemente cada $n$ cantidad de tiempo llega un proceso o es atendido un proceso.\n",
        "\n",
        "El valor $n$ no se modifica a lo largo del tiempo y **se mantiene constante** durante todo momento.\n",
        "\n",
        "Si lo pensamos en código, esta distribución corresponde a lo siguiente."
      ]
    },
    {
      "cell_type": "code",
      "metadata": {
        "id": "6FcYc9DYuEzM",
        "colab": {
          "base_uri": "https://localhost:8080/"
        },
        "outputId": "4abbaba0-d8ff-458f-af5b-138431dd5d59"
      },
      "source": [
        "import time\n",
        "\n",
        "# Distribucion de llegada\n",
        "for _ in range(5):\n",
        "  print(\"Ha llegado un cliente\")\n",
        "  time.sleep(2)\n",
        "\n",
        "# Distribucion de servicio\n",
        "for _ in range(5):\n",
        "  print(\"Un cliente ha sido atendido\")\n",
        "  time.sleep(2)"
      ],
      "execution_count": null,
      "outputs": [
        {
          "output_type": "stream",
          "name": "stdout",
          "text": [
            "Ha llegado un cliente\n",
            "Ha llegado un cliente\n",
            "Ha llegado un cliente\n",
            "Ha llegado un cliente\n",
            "Ha llegado un cliente\n",
            "Un cliente ha sido atendido\n",
            "Un cliente ha sido atendido\n",
            "Un cliente ha sido atendido\n",
            "Un cliente ha sido atendido\n",
            "Un cliente ha sido atendido\n"
          ]
        }
      ]
    },
    {
      "cell_type": "markdown",
      "metadata": {
        "id": "kBnxiFXposbU"
      },
      "source": [
        "### Distribución Exponenecial\n",
        "\n",
        "La primer forma de distribuir los tiempos de llegada y de servicio se conoce como **Distribución Exponencial**.\n",
        "\n",
        "$$P\\left(t\\right)=\\lambda*e^{\\left(-\\lambda t\\right)}$$\n",
        "\n",
        "Para $t = 0,1,2,3,.....$ Donde:\n",
        "*   $P(t) =$ Probabilidad de $k$ arribos/servicios.\n",
        "*   $t =$ Número de arrivos/servicios por unidad de tiempo\n",
        "*   $\\lambda =$ Tasa promedio de arrivos/servicios por unidad de tiempo."
      ]
    },
    {
      "cell_type": "code",
      "metadata": {
        "id": "low436XPkg4e",
        "colab": {
          "base_uri": "https://localhost:8080/",
          "height": 456,
          "referenced_widgets": [
            "082cc88665834920a30c1962268ee11a",
            "f67c14e18bca401392f29f3b88224c5c",
            "9fe27de19b214871a886345dfbbb0461",
            "ddd32b077b384f67aebdadabbe4ed77e",
            "046192d8db9a4e03bd09e13053de39b6",
            "4511fea9afe649ef8651233bf1d96d7f",
            "b4a462f3989d4a19b0533235a0f76541"
          ]
        },
        "outputId": "10c0f842-c7be-453a-9d47-02f9d9d48fa3"
      },
      "source": [
        "import numpy as np\n",
        "import matplotlib.pyplot as plt\n",
        "from IPython.html.widgets import interact\n",
        "import ipywidgets as widgets\n",
        "\n",
        "def distExponencial(lam):\n",
        "  # tamano de la imagen\n",
        "  plt.figure(figsize=(10,5))\n",
        "  # dominio en el cual se genera la grafica\n",
        "  x = np.linspace(0,10,15)\n",
        "  # tipo de sitribucion\n",
        "  distribucion = lam*np.exp(-x*lam)\n",
        "  # se grafican ambas rectas\n",
        "  plt.plot(x,distribucion,label = '$exponencial$', color='crimson')\n",
        "  plt.xlabel('$tiempo$')\n",
        "  plt.ylabel('$llegadas$')\n",
        "  plt.title('Distribución Exponencial')\n",
        "  plt.grid()\n",
        "  plt.legend()\n",
        "\n",
        "interact(distExponencial, lam=widgets.FloatSlider(min=0.0,max=0.5,step=0.1,value=0.1))\n"
      ],
      "execution_count": 1,
      "outputs": [
        {
          "output_type": "stream",
          "name": "stderr",
          "text": [
            "/usr/local/lib/python3.7/dist-packages/IPython/html.py:14: ShimWarning: The `IPython.html` package has been deprecated since IPython 4.0. You should import from `notebook` instead. `IPython.html.widgets` has moved to `ipywidgets`.\n",
            "  \"`IPython.html.widgets` has moved to `ipywidgets`.\", ShimWarning)\n"
          ]
        },
        {
          "output_type": "display_data",
          "data": {
            "text/plain": [
              "interactive(children=(FloatSlider(value=0.1, description='lam', max=0.5), Output()), _dom_classes=('widget-int…"
            ],
            "application/vnd.jupyter.widget-view+json": {
              "version_major": 2,
              "version_minor": 0,
              "model_id": "082cc88665834920a30c1962268ee11a"
            }
          },
          "metadata": {}
        },
        {
          "output_type": "execute_result",
          "data": {
            "text/plain": [
              "<function __main__.distExponencial(lam)>"
            ]
          },
          "metadata": {},
          "execution_count": 1
        }
      ]
    },
    {
      "cell_type": "markdown",
      "metadata": {
        "id": "nwVsyeNpXk_a"
      },
      "source": [
        "### Distribución de Poisson\n",
        "\n",
        "La segunda forma más común de distribución, es la **Distribución de Poisson**.\n",
        "\n",
        "$$P\\left(t\\right)=\\frac{\\lambda^{t}e^{-\\lambda}}{t!}$$"
      ]
    },
    {
      "cell_type": "code",
      "metadata": {
        "id": "V_IfvoT3mTcX",
        "colab": {
          "base_uri": "https://localhost:8080/",
          "height": 423,
          "referenced_widgets": [
            "307edaf234bf4a69bc97586405f49ed6",
            "c2ea3543fcd24a698bde49be84776eae",
            "2fdfb42ee2c54c278de42f3f05d23304",
            "6a4ec505a2894f409c5ca07ecd2e8dac",
            "fcdcc21d7e694ad0ab35850fd07b6261",
            "85d7a3fbad6f4ca28850d8125e58f710",
            "9115326c3d4f4fada7e5960dc9cf7dd2"
          ]
        },
        "outputId": "f5a6a8c4-3a3a-4057-aebb-b55eb09f7879"
      },
      "source": [
        "import numpy as np\n",
        "import matplotlib.pyplot as plt\n",
        "import scipy.special\n",
        "from IPython.html.widgets import interact\n",
        "import ipywidgets as widgets\n",
        "\n",
        "def distPoisson(lam):\n",
        "  # tamano de la imagen\n",
        "  plt.figure(figsize=(10,5))\n",
        "  # dominio en el cual se genera la grafica\n",
        "  x = np.linspace(0,10,15)\n",
        "  # tipo de sitribucion\n",
        "  distribucion = (lam**(x)*np.exp(-lam))/(scipy.special.factorial(x))\n",
        "  # se grafican ambas rectas\n",
        "  plt.plot(x,distribucion,label = '$poisson$', color='crimson')\n",
        "  plt.xlabel('$tiempo$')\n",
        "  plt.ylabel('$llegadas$')\n",
        "  plt.title('Distribución de Poisson')\n",
        "  plt.grid()\n",
        "  plt.legend()\n",
        "\n",
        "interact(distPoisson, lam=widgets.FloatSlider(min=0.0,max=0.5,step=0.1,value=0.1))"
      ],
      "execution_count": null,
      "outputs": [
        {
          "output_type": "display_data",
          "data": {
            "text/plain": [
              "interactive(children=(FloatSlider(value=0.1, description='lam', max=0.5), Output()), _dom_classes=('widget-int…"
            ],
            "application/vnd.jupyter.widget-view+json": {
              "version_major": 2,
              "version_minor": 0,
              "model_id": "307edaf234bf4a69bc97586405f49ed6"
            }
          },
          "metadata": {}
        },
        {
          "output_type": "execute_result",
          "data": {
            "text/plain": [
              "<function __main__.distPoisson(lam)>"
            ]
          },
          "metadata": {},
          "execution_count": 2
        }
      ]
    },
    {
      "cell_type": "markdown",
      "metadata": {
        "id": "6ADj4drtIRWL"
      },
      "source": [
        "# Modelos\n",
        "\n",
        "A continuación veremos algunos modelos de sistemas en los que se forman filas."
      ]
    },
    {
      "cell_type": "markdown",
      "metadata": {
        "id": "nip61Z3gk8N4"
      },
      "source": [
        "## Modelo $D/D/1$\n",
        "\n",
        "Este es de los sistemas más sencillos de analizar, ya que básicamente todo es constante y solo se tiene un servidor o fila.\n",
        "\n",
        "Es un sistema de filas de espera, con llegadas constantes, tiempo de servicio constante, con un servidor o fila de servicio.\n",
        "\n",
        "Supongamos que $\\lambda$ es el **tiempo de llegada**, sea $\\lambda=5$ minutos, es decir cada $5$ minutos llega un cliente. Y sea $\\mu=4$ minutos el **tiempo de servicio**. Si nos detenemos a analizar un poco esta situación, dado que $\\lambda > \\mu$ esto significa que cada cliente es atendido antes de que llegue un cliente nuevo, por lo tanto no se forma una fila.\n",
        "\n",
        "<center>\n",
        "<img src=\"https://github.com/jugernaut/ManejoDatos/blob/desarrollo/Imagenes/Simulacion/dd1.gif?raw=1\" width=\"600\"> \n",
        "</center>\n",
        "\n",
        "Modelos que funcionan de esta forma son por ejemplo las **lineas de ensamblaje**, donde se tienen patrones de llegada y de servicio deterministas y no se forman filas.\n",
        "\n",
        "Sin embargo vale la pena preguntarnos ¿qué sucede si $\\lambda < \\mu$?, esta situación se muestra a continuación.\n",
        "\n",
        "<center>\n",
        "<img src=\"https://github.com/jugernaut/ManejoDatos/blob/desarrollo/Imagenes/Simulacion/dd1espera.gif?raw=1\" width=\"600\"> \n",
        "</center>\n",
        "\n",
        "En esta situación surgen varias preguntas:\n",
        "\n",
        "*   ¿Cuanto tiempo espera un cliente en la fila?\n",
        "*   Además de agilizar el tiempo de servicio, ¿se puede hacer algo más para evitar que los clientes esperen en la fila?\n",
        "\n"
      ]
    },
    {
      "cell_type": "markdown",
      "metadata": {
        "id": "0dXUNRxSIzxr"
      },
      "source": [
        "## Modelo $M/M/1$\n",
        "\n",
        "En este modelo tanto el patrón de llegada, como el patrón de servicio son de tipo probabilistico y como ya vimos previamente se tienen 2 tipos de distribuciones principalmente.\n",
        "\n",
        "Volvemos a tener un solo servidor o fila de espera."
      ]
    },
    {
      "cell_type": "markdown",
      "metadata": {
        "id": "5B8I8i3qFJ9z"
      },
      "source": [
        "### Ejemplo\n",
        "\n",
        "Sea $\\lambda=100$ personas por hora y $\\mu=20$ personas atendidas cada $10$ minutos (es decir $120$ personas por hora). Tratemos de ver que sucede con el sistema.\n",
        "\n",
        "El **número de clientes que esperan en la fila** está dado por:\n",
        "$$L_{q}=\\frac{\\lambda^{2}}{\\mu\\left(\\mu-\\lambda\\right)}=\\frac{100^{2}}{\\left(120\\right)\\left(120-100\\right)}=1.04$$\n",
        "\n",
        "El **tiempo que un cliente espera en la fila** está dado por:\n",
        "$$W_{q}=\\frac{\\lambda}{\\mu\\left(\\mu-\\lambda\\right)}=\\frac{100}{\\left(120\\right)\\left(120-100\\right)}=0.01\\,horas\\times\\frac{60min}{1hora}=0.6min\\frac{60seg}{1min}=36seg$$\n",
        "\n",
        "El **número de clientes en el sistema** está dado por:\n",
        "$$L_{s}=\\frac{\\lambda}{\\mu-\\lambda}=\\frac{100}{120-100}=\\frac{100}{20}=5$$\n",
        "\n",
        "El **tiempo que los clientes espéran en el sistema**:\n",
        "$$W_{s}=\\frac{1}{\\mu-\\lambda}=\\frac{1}{120-100}=\\frac{1}{20}=0.05\\,horas\\times\\frac{60min}{1hora}=3min\\frac{60seg}{1min}=180seg$$"
      ]
    },
    {
      "cell_type": "markdown",
      "metadata": {
        "id": "gda37kOR__z-"
      },
      "source": [
        "# Otros Modelos\n",
        "\n",
        "Existen muchas variantes de modelos en los que se forman filas."
      ]
    },
    {
      "cell_type": "markdown",
      "metadata": {
        "id": "f26aTCPoLvbO"
      },
      "source": [
        "## Una fila multiples servidores\n",
        "\n",
        "<center>\n",
        "<img src=\"https://github.com/jugernaut/ManejoDatos/blob/desarrollo/Imagenes/Simulacion/unfms.png?raw=1\" width=\"600\"> \n",
        "</center> "
      ]
    },
    {
      "cell_type": "markdown",
      "metadata": {
        "id": "FSdH-9zzNIoA"
      },
      "source": [
        "## Varias filas multiples servidores\n",
        "\n",
        "<center>\n",
        "<img src=\"https://github.com/jugernaut/ManejoDatos/blob/desarrollo/Imagenes/Simulacion/vfvm.png?raw=1\" width=\"600\"> \n",
        "</center> "
      ]
    },
    {
      "cell_type": "markdown",
      "metadata": {
        "id": "V7KWZj-TNPF3"
      },
      "source": [
        "## Una filas varios servidores\n",
        "\n",
        "<center>\n",
        "<img src=\"https://github.com/jugernaut/ManejoDatos/blob/desarrollo/Imagenes/Simulacion/ufvs.png?raw=1\" width=\"600\"> \n",
        "</center> "
      ]
    },
    {
      "cell_type": "markdown",
      "metadata": {
        "id": "sNjKU2teNllh"
      },
      "source": [
        "# Costo-Calidad\n",
        "\n",
        "La finalidad de la teoría de filas y su simulación es encontrar un equilibro para el **costo-calidad** en un sistema.\n",
        "\n",
        "*   **Costos en la fila**: el costo en la fila del sistema es el tiempo que el cliente (proceso) pierde esperando a ser atendido. Un sistema con un **bajo costo** es la finalidad de todo modelo de fila. \n",
        "*   **Costos de servicio**: es el costo de operación por servicio, uno de los objetivos de la teoría de filas es, **mantener el costo total mínimo y maximizar el número de clientes atendidos**.\n",
        "\n",
        "Otros objetivos del análisis de un sistema son:\n",
        "\n",
        "*   Identificar el **nivel óptimo de capacidad del sistema, que minimiza el coste del mismo**.\n",
        "*   Evaluar el impacto que las posibles alternativas de modificación de la capacidad del sistema tendrían en el coste total del mismo.\n",
        "\n",
        "<center>\n",
        "<img src=\"https://github.com/jugernaut/ManejoDatos/blob/desarrollo/Imagenes/Simulacion/mapacon.png?raw=1\" width=\"900\"> \n",
        "</center> "
      ]
    },
    {
      "cell_type": "markdown",
      "metadata": {
        "id": "279Ou6b6OhAE"
      },
      "source": [
        "# Ejercicio\n",
        "\n",
        "Supongamos que en una estación con un solo servidor llegan en promedio 45 clientes por hora.\n",
        "\n",
        "Se tiene capacidad para atender en promedio 60 clientes por hora.\n",
        "\n",
        "Se sabe que los clientes esperan en promedio 3 minutos en la fila.\n",
        "\n",
        "Responde las siguientes preguntas:\n",
        "\n",
        "*   ¿Cuál es el tiempo promedio que un cliente pasa en el sistema?\n",
        "*   ¿Cuál es número promedio de clientes en la fila?\n",
        "*   ¿Cuál es el número promedio de cliente en el sistema?\n",
        "*   ¿Qué tipo de modelo es este?\n",
        "\n"
      ]
    },
    {
      "cell_type": "markdown",
      "metadata": {
        "id": "r50CSgntYI27"
      },
      "source": [
        "# Referencias\n",
        "\n",
        "* [Modelos de filas](https://www.um.es/or/ampliacion/node7.html).\n",
        "* [Teoría de Colas](https://hopelchen.tecnm.mx/principal/sylabus/fpdb/recursos/r89798.PDF).\n",
        "* [Teoría de filas](https://www.ecured.cu/Teor%C3%ADa_de_colas).\n",
        "* [Notación Kendall.](http://www.lcc.uma.es/~ezeqlr/ios/Tema5.pdf)\n",
        "* [Invesigación operativa.](https://idus.us.es/bitstream/handle/11441/77595/Esteban%20Vel%C3%A1zquez%20Gabriel%20TFG.pdf?sequence=1)\n",
        "* [Modelos D/D/1.](https://www.um.es/or/ampliacion/node5.html)\n",
        "\n",
        "\n"
      ]
    }
  ]
}