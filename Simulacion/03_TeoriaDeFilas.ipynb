{
  "nbformat": 4,
  "nbformat_minor": 0,
  "metadata": {
    "colab": {
      "name": "TeoriaDeFilas.ipynb",
      "provenance": [],
      "toc_visible": true,
      "include_colab_link": true
    },
    "kernelspec": {
      "name": "python3",
      "display_name": "Python 3"
    },
    "language_info": {
      "name": "python"
    },
    "widgets": {
      "application/vnd.jupyter.widget-state+json": {
        "6f1304126a8444dca267038b39c527f6": {
          "model_module": "@jupyter-widgets/controls",
          "model_name": "VBoxModel",
          "model_module_version": "1.5.0",
          "state": {
            "_dom_classes": [
              "widget-interact"
            ],
            "_model_module": "@jupyter-widgets/controls",
            "_model_module_version": "1.5.0",
            "_model_name": "VBoxModel",
            "_view_count": null,
            "_view_module": "@jupyter-widgets/controls",
            "_view_module_version": "1.5.0",
            "_view_name": "VBoxView",
            "box_style": "",
            "children": [
              "IPY_MODEL_943d64994f5c4011b6e740726e9736b2",
              "IPY_MODEL_53623a09e0b541f2aab91e466282b1a7"
            ],
            "layout": "IPY_MODEL_cd993aaf3f164397b331c1128a267f1f"
          }
        },
        "943d64994f5c4011b6e740726e9736b2": {
          "model_module": "@jupyter-widgets/controls",
          "model_name": "FloatSliderModel",
          "model_module_version": "1.5.0",
          "state": {
            "_dom_classes": [],
            "_model_module": "@jupyter-widgets/controls",
            "_model_module_version": "1.5.0",
            "_model_name": "FloatSliderModel",
            "_view_count": null,
            "_view_module": "@jupyter-widgets/controls",
            "_view_module_version": "1.5.0",
            "_view_name": "FloatSliderView",
            "continuous_update": true,
            "description": "lam",
            "description_tooltip": null,
            "disabled": false,
            "layout": "IPY_MODEL_54bf652ac45a42cebb3429d5a1307f3e",
            "max": 0.5,
            "min": 0,
            "orientation": "horizontal",
            "readout": true,
            "readout_format": ".2f",
            "step": 0.1,
            "style": "IPY_MODEL_7bd239fbb3b64869a9f32ce16f26b7c6",
            "value": 0.4
          }
        },
        "53623a09e0b541f2aab91e466282b1a7": {
          "model_module": "@jupyter-widgets/output",
          "model_name": "OutputModel",
          "model_module_version": "1.0.0",
          "state": {
            "_dom_classes": [],
            "_model_module": "@jupyter-widgets/output",
            "_model_module_version": "1.0.0",
            "_model_name": "OutputModel",
            "_view_count": null,
            "_view_module": "@jupyter-widgets/output",
            "_view_module_version": "1.0.0",
            "_view_name": "OutputView",
            "layout": "IPY_MODEL_2ad099c78c7146b1b1f81f97ba2e2a2b",
            "msg_id": "",
            "outputs": [
              {
                "output_type": "display_data",
                "data": {
                  "text/plain": "<Figure size 720x360 with 1 Axes>",
                  "image/png": "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\n"
                },
                "metadata": {
                  "needs_background": "light"
                }
              }
            ]
          }
        },
        "cd993aaf3f164397b331c1128a267f1f": {
          "model_module": "@jupyter-widgets/base",
          "model_name": "LayoutModel",
          "model_module_version": "1.2.0",
          "state": {
            "_model_module": "@jupyter-widgets/base",
            "_model_module_version": "1.2.0",
            "_model_name": "LayoutModel",
            "_view_count": null,
            "_view_module": "@jupyter-widgets/base",
            "_view_module_version": "1.2.0",
            "_view_name": "LayoutView",
            "align_content": null,
            "align_items": null,
            "align_self": null,
            "border": null,
            "bottom": null,
            "display": null,
            "flex": null,
            "flex_flow": null,
            "grid_area": null,
            "grid_auto_columns": null,
            "grid_auto_flow": null,
            "grid_auto_rows": null,
            "grid_column": null,
            "grid_gap": null,
            "grid_row": null,
            "grid_template_areas": null,
            "grid_template_columns": null,
            "grid_template_rows": null,
            "height": null,
            "justify_content": null,
            "justify_items": null,
            "left": null,
            "margin": null,
            "max_height": null,
            "max_width": null,
            "min_height": null,
            "min_width": null,
            "object_fit": null,
            "object_position": null,
            "order": null,
            "overflow": null,
            "overflow_x": null,
            "overflow_y": null,
            "padding": null,
            "right": null,
            "top": null,
            "visibility": null,
            "width": null
          }
        },
        "54bf652ac45a42cebb3429d5a1307f3e": {
          "model_module": "@jupyter-widgets/base",
          "model_name": "LayoutModel",
          "model_module_version": "1.2.0",
          "state": {
            "_model_module": "@jupyter-widgets/base",
            "_model_module_version": "1.2.0",
            "_model_name": "LayoutModel",
            "_view_count": null,
            "_view_module": "@jupyter-widgets/base",
            "_view_module_version": "1.2.0",
            "_view_name": "LayoutView",
            "align_content": null,
            "align_items": null,
            "align_self": null,
            "border": null,
            "bottom": null,
            "display": null,
            "flex": null,
            "flex_flow": null,
            "grid_area": null,
            "grid_auto_columns": null,
            "grid_auto_flow": null,
            "grid_auto_rows": null,
            "grid_column": null,
            "grid_gap": null,
            "grid_row": null,
            "grid_template_areas": null,
            "grid_template_columns": null,
            "grid_template_rows": null,
            "height": null,
            "justify_content": null,
            "justify_items": null,
            "left": null,
            "margin": null,
            "max_height": null,
            "max_width": null,
            "min_height": null,
            "min_width": null,
            "object_fit": null,
            "object_position": null,
            "order": null,
            "overflow": null,
            "overflow_x": null,
            "overflow_y": null,
            "padding": null,
            "right": null,
            "top": null,
            "visibility": null,
            "width": null
          }
        },
        "7bd239fbb3b64869a9f32ce16f26b7c6": {
          "model_module": "@jupyter-widgets/controls",
          "model_name": "SliderStyleModel",
          "model_module_version": "1.5.0",
          "state": {
            "_model_module": "@jupyter-widgets/controls",
            "_model_module_version": "1.5.0",
            "_model_name": "SliderStyleModel",
            "_view_count": null,
            "_view_module": "@jupyter-widgets/base",
            "_view_module_version": "1.2.0",
            "_view_name": "StyleView",
            "description_width": "",
            "handle_color": null
          }
        },
        "2ad099c78c7146b1b1f81f97ba2e2a2b": {
          "model_module": "@jupyter-widgets/base",
          "model_name": "LayoutModel",
          "model_module_version": "1.2.0",
          "state": {
            "_model_module": "@jupyter-widgets/base",
            "_model_module_version": "1.2.0",
            "_model_name": "LayoutModel",
            "_view_count": null,
            "_view_module": "@jupyter-widgets/base",
            "_view_module_version": "1.2.0",
            "_view_name": "LayoutView",
            "align_content": null,
            "align_items": null,
            "align_self": null,
            "border": null,
            "bottom": null,
            "display": null,
            "flex": null,
            "flex_flow": null,
            "grid_area": null,
            "grid_auto_columns": null,
            "grid_auto_flow": null,
            "grid_auto_rows": null,
            "grid_column": null,
            "grid_gap": null,
            "grid_row": null,
            "grid_template_areas": null,
            "grid_template_columns": null,
            "grid_template_rows": null,
            "height": null,
            "justify_content": null,
            "justify_items": null,
            "left": null,
            "margin": null,
            "max_height": null,
            "max_width": null,
            "min_height": null,
            "min_width": null,
            "object_fit": null,
            "object_position": null,
            "order": null,
            "overflow": null,
            "overflow_x": null,
            "overflow_y": null,
            "padding": null,
            "right": null,
            "top": null,
            "visibility": null,
            "width": null
          }
        },
        "307edaf234bf4a69bc97586405f49ed6": {
          "model_module": "@jupyter-widgets/controls",
          "model_name": "VBoxModel",
          "model_module_version": "1.5.0",
          "state": {
            "_dom_classes": [
              "widget-interact"
            ],
            "_model_module": "@jupyter-widgets/controls",
            "_model_module_version": "1.5.0",
            "_model_name": "VBoxModel",
            "_view_count": null,
            "_view_module": "@jupyter-widgets/controls",
            "_view_module_version": "1.5.0",
            "_view_name": "VBoxView",
            "box_style": "",
            "children": [
              "IPY_MODEL_c2ea3543fcd24a698bde49be84776eae",
              "IPY_MODEL_2fdfb42ee2c54c278de42f3f05d23304"
            ],
            "layout": "IPY_MODEL_6a4ec505a2894f409c5ca07ecd2e8dac"
          }
        },
        "c2ea3543fcd24a698bde49be84776eae": {
          "model_module": "@jupyter-widgets/controls",
          "model_name": "FloatSliderModel",
          "model_module_version": "1.5.0",
          "state": {
            "_dom_classes": [],
            "_model_module": "@jupyter-widgets/controls",
            "_model_module_version": "1.5.0",
            "_model_name": "FloatSliderModel",
            "_view_count": null,
            "_view_module": "@jupyter-widgets/controls",
            "_view_module_version": "1.5.0",
            "_view_name": "FloatSliderView",
            "continuous_update": true,
            "description": "lam",
            "description_tooltip": null,
            "disabled": false,
            "layout": "IPY_MODEL_fcdcc21d7e694ad0ab35850fd07b6261",
            "max": 0.5,
            "min": 0,
            "orientation": "horizontal",
            "readout": true,
            "readout_format": ".2f",
            "step": 0.1,
            "style": "IPY_MODEL_85d7a3fbad6f4ca28850d8125e58f710",
            "value": 0.5
          }
        },
        "2fdfb42ee2c54c278de42f3f05d23304": {
          "model_module": "@jupyter-widgets/output",
          "model_name": "OutputModel",
          "model_module_version": "1.0.0",
          "state": {
            "_dom_classes": [],
            "_model_module": "@jupyter-widgets/output",
            "_model_module_version": "1.0.0",
            "_model_name": "OutputModel",
            "_view_count": null,
            "_view_module": "@jupyter-widgets/output",
            "_view_module_version": "1.0.0",
            "_view_name": "OutputView",
            "layout": "IPY_MODEL_9115326c3d4f4fada7e5960dc9cf7dd2",
            "msg_id": "",
            "outputs": [
              {
                "output_type": "display_data",
                "data": {
                  "text/plain": "<Figure size 720x360 with 1 Axes>",
                  "image/png": "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\n"
                },
                "metadata": {
                  "needs_background": "light"
                }
              }
            ]
          }
        },
        "6a4ec505a2894f409c5ca07ecd2e8dac": {
          "model_module": "@jupyter-widgets/base",
          "model_name": "LayoutModel",
          "model_module_version": "1.2.0",
          "state": {
            "_model_module": "@jupyter-widgets/base",
            "_model_module_version": "1.2.0",
            "_model_name": "LayoutModel",
            "_view_count": null,
            "_view_module": "@jupyter-widgets/base",
            "_view_module_version": "1.2.0",
            "_view_name": "LayoutView",
            "align_content": null,
            "align_items": null,
            "align_self": null,
            "border": null,
            "bottom": null,
            "display": null,
            "flex": null,
            "flex_flow": null,
            "grid_area": null,
            "grid_auto_columns": null,
            "grid_auto_flow": null,
            "grid_auto_rows": null,
            "grid_column": null,
            "grid_gap": null,
            "grid_row": null,
            "grid_template_areas": null,
            "grid_template_columns": null,
            "grid_template_rows": null,
            "height": null,
            "justify_content": null,
            "justify_items": null,
            "left": null,
            "margin": null,
            "max_height": null,
            "max_width": null,
            "min_height": null,
            "min_width": null,
            "object_fit": null,
            "object_position": null,
            "order": null,
            "overflow": null,
            "overflow_x": null,
            "overflow_y": null,
            "padding": null,
            "right": null,
            "top": null,
            "visibility": null,
            "width": null
          }
        },
        "fcdcc21d7e694ad0ab35850fd07b6261": {
          "model_module": "@jupyter-widgets/base",
          "model_name": "LayoutModel",
          "model_module_version": "1.2.0",
          "state": {
            "_model_module": "@jupyter-widgets/base",
            "_model_module_version": "1.2.0",
            "_model_name": "LayoutModel",
            "_view_count": null,
            "_view_module": "@jupyter-widgets/base",
            "_view_module_version": "1.2.0",
            "_view_name": "LayoutView",
            "align_content": null,
            "align_items": null,
            "align_self": null,
            "border": null,
            "bottom": null,
            "display": null,
            "flex": null,
            "flex_flow": null,
            "grid_area": null,
            "grid_auto_columns": null,
            "grid_auto_flow": null,
            "grid_auto_rows": null,
            "grid_column": null,
            "grid_gap": null,
            "grid_row": null,
            "grid_template_areas": null,
            "grid_template_columns": null,
            "grid_template_rows": null,
            "height": null,
            "justify_content": null,
            "justify_items": null,
            "left": null,
            "margin": null,
            "max_height": null,
            "max_width": null,
            "min_height": null,
            "min_width": null,
            "object_fit": null,
            "object_position": null,
            "order": null,
            "overflow": null,
            "overflow_x": null,
            "overflow_y": null,
            "padding": null,
            "right": null,
            "top": null,
            "visibility": null,
            "width": null
          }
        },
        "85d7a3fbad6f4ca28850d8125e58f710": {
          "model_module": "@jupyter-widgets/controls",
          "model_name": "SliderStyleModel",
          "model_module_version": "1.5.0",
          "state": {
            "_model_module": "@jupyter-widgets/controls",
            "_model_module_version": "1.5.0",
            "_model_name": "SliderStyleModel",
            "_view_count": null,
            "_view_module": "@jupyter-widgets/base",
            "_view_module_version": "1.2.0",
            "_view_name": "StyleView",
            "description_width": "",
            "handle_color": null
          }
        },
        "9115326c3d4f4fada7e5960dc9cf7dd2": {
          "model_module": "@jupyter-widgets/base",
          "model_name": "LayoutModel",
          "model_module_version": "1.2.0",
          "state": {
            "_model_module": "@jupyter-widgets/base",
            "_model_module_version": "1.2.0",
            "_model_name": "LayoutModel",
            "_view_count": null,
            "_view_module": "@jupyter-widgets/base",
            "_view_module_version": "1.2.0",
            "_view_name": "LayoutView",
            "align_content": null,
            "align_items": null,
            "align_self": null,
            "border": null,
            "bottom": null,
            "display": null,
            "flex": null,
            "flex_flow": null,
            "grid_area": null,
            "grid_auto_columns": null,
            "grid_auto_flow": null,
            "grid_auto_rows": null,
            "grid_column": null,
            "grid_gap": null,
            "grid_row": null,
            "grid_template_areas": null,
            "grid_template_columns": null,
            "grid_template_rows": null,
            "height": null,
            "justify_content": null,
            "justify_items": null,
            "left": null,
            "margin": null,
            "max_height": null,
            "max_width": null,
            "min_height": null,
            "min_width": null,
            "object_fit": null,
            "object_position": null,
            "order": null,
            "overflow": null,
            "overflow_x": null,
            "overflow_y": null,
            "padding": null,
            "right": null,
            "top": null,
            "visibility": null,
            "width": null
          }
        }
      }
    }
  },
  "cells": [
    {
      "cell_type": "markdown",
      "metadata": {
        "id": "view-in-github",
        "colab_type": "text"
      },
      "source": [
        "<a href=\"https://colab.research.google.com/github/jugernaut/ManejoDatos/blob/main/Simulacion/03_TeoriaDeFilas.ipynb\" target=\"_parent\"><img src=\"https://colab.research.google.com/assets/colab-badge.svg\" alt=\"Open In Colab\"/></a>"
      ]
    },
    {
      "cell_type": "markdown",
      "metadata": {
        "id": "fRthAgph_GHN"
      },
      "source": [
        "<font color=\"Teal\" face=\"Comic Sans MS,arial\">\n",
        "  <h1 align=\"center\"><i>Teoría de Filas</i></h1>\n",
        "  </font>\n",
        "  <font color=\"Black\" face=\"Comic Sans MS,arial\">\n",
        "  <h5 align=\"center\"><i>Profesor: M. en C. Miguel Angel Pérez León</i></h5>\n",
        "  <h5 align=\"center\"><i>Ayudante: Jesús Iván Coss Calderón</i></h5>\n",
        "  <h5 align=\"center\"><i>Ayudante: Jonathan Ramírez Montes</i></h5>\n",
        "  <h5 align=\"center\"><i>Materia: Manejo de Datos</i></h5>\n",
        "</font>"
      ]
    },
    {
      "cell_type": "markdown",
      "metadata": {
        "id": "oNV6AcCP_YEJ"
      },
      "source": [
        "# Introducción\n",
        "\n",
        "Frecuentemente en el estudio de fenómenos naturales o sociales, se presentan situaciones en las cuales se agrupan elementos en formas de linea en espera de ser atendidos o procesados.\n",
        "\n",
        "También con mucha frecuencia es de importancia tratar de averiguar mediante una simulación cual será el patrón de espera para ser atendido o procesado, cuanto tiempo tardara un individuo en completar una labor o cuanto tiempo tomará completar una determinada labor.\n",
        "\n",
        "La parte teórica de este análisis se realiza mediante al disciplina conocida como **teoría de filas**, esta área de las ciencias trata de predecir mediante elementos matemáticos las variables y procesos que intervienen en una situación en la cual se presente una o más filas.\n",
        "\n",
        "En nuestro curso esto es de relevancia ya que la parte teórica ayuda al momento de entender el funcionamiento de un sistema complejo, como lo pude ser todo aquel en el que intervienen varios individuos o procesos y por otro lado mediante algún lenguaje de programación podemos realizar la simulación que corrobore el análisis teórico.\n",
        "\n",
        "En materias como **Investigación de Operaciones** o **Programación Lineal** se profundiza en conceptos importantes al tratar de optimizar el desempeño de un sistema complejo, pero para nuestro curso será más que suficiente conocer los elementos básicos de la teoría de filas.\n",
        "\n",
        "Las filas aparecen frecuentemente en muchas situaciones como un banco, un hospital, un concierto, etc. Así que es importante dedicar un poco de tiempo a su análisis.\n",
        "\n",
        "<center>\n",
        "<img src=\"https://github.com/jugernaut/ManejoDatos/blob/desarrollo/Imagenes/Simulacion/tiaaly.png?raw=1\" width=\"800\"> \n",
        "</center>"
      ]
    },
    {
      "cell_type": "markdown",
      "metadata": {
        "id": "-keLhgR0_dQB"
      },
      "source": [
        "# Características importantes \n",
        "\n",
        "En general a nadie le gusta esperar, cuando la paciencia llega a su limite la gente decide irse a otro lugar, sin embargo un servicio muy rápido tendría un costo muy elevado, así que la idea es encontrar un balance entre ambos."
      ]
    },
    {
      "cell_type": "markdown",
      "metadata": {
        "id": "DlcBwdOtH2bm"
      },
      "source": [
        "# Notación básica (Kendall)\n",
        "\n",
        "Con el paso del tiempo se ha implantado una notación para representar los problemas de filas que consta de 5 símbolos separados por barras.\n",
        "\n",
        "$$A / B / X /Y / Z$$\n",
        "\n",
        "*   $A$: indica la distribución de tiempo entre llegadas consecutivas.\n",
        "*   $B$: alude al patrón de servicio de servidores.\n",
        "*   $X$: es el número de canales de servicio.\n",
        "*   $Y$: es la restricción en la capacidad del sistema.\n",
        "*   $Z$: es la disciplina de fila.\n",
        "\n",
        "<center>\n",
        "<img src=\"https://github.com/jugernaut/ManejoDatos/blob/desarrollo/Imagenes/Simulacion/patrones.png?raw=1\" width=\"800\"> \n",
        "</center>\n",
        "\n"
      ]
    },
    {
      "cell_type": "markdown",
      "metadata": {
        "id": "4nP0mqyQixXl"
      },
      "source": [
        "# Atención de procesos (clientes)\n",
        "\n",
        "El tiempo que transcurre entre 2 llegadas consecutivas de procesos o el tiempo que tarda en ser atendido un procesos pueden ser muy variados.\n",
        "\n",
        "A este tiempo se le conoce como **tiempo entre llegadas** y **tiempo entre servicios**.\n",
        "\n",
        "El número esperado de llegadas por unidad de tiempo se conoce como **tasa media de llegadas**. Y el numero de servicios por unidad de tiempo se conoce como **tasa media de servicios**."
      ]
    },
    {
      "cell_type": "markdown",
      "metadata": {
        "id": "sgoyyaLuoMOL"
      },
      "source": [
        "## Distribuciones\n",
        "\n",
        "A la forma en como van llegando los procesos para ser atendidos se le conoce como distribución.\n",
        "\n",
        "Principalmente vamos a contar con 2 tipos de distribución."
      ]
    },
    {
      "cell_type": "markdown",
      "metadata": {
        "id": "cPWGshOctAXI"
      },
      "source": [
        "## Distribución Determinista\n",
        "\n",
        "Esta distribución (patrón de llegada o atención) corresponde a una situación donde constantemente cada $n$ cantidad de tiempo llega un proceso o es atendido un proceso.\n",
        "\n",
        "El valor $n$ no se modifica a lo largo del tiempo y **se mantiene constante** durante todo momento.\n",
        "\n",
        "Si lo pensamos en código, esta distribución corresponde a lo siguiente."
      ]
    },
    {
      "cell_type": "code",
      "metadata": {
        "id": "6FcYc9DYuEzM",
        "colab": {
          "base_uri": "https://localhost:8080/"
        },
        "outputId": "4abbaba0-d8ff-458f-af5b-138431dd5d59"
      },
      "source": [
        "import time\n",
        "\n",
        "# Distribucion de llegada\n",
        "for _ in range(5):\n",
        "  print(\"Ha llegado un cliente\")\n",
        "  time.sleep(2)\n",
        "\n",
        "# Distribucion de servicio\n",
        "for _ in range(5):\n",
        "  print(\"Un cliente ha sido atendido\")\n",
        "  time.sleep(2)"
      ],
      "execution_count": null,
      "outputs": [
        {
          "output_type": "stream",
          "name": "stdout",
          "text": [
            "Ha llegado un cliente\n",
            "Ha llegado un cliente\n",
            "Ha llegado un cliente\n",
            "Ha llegado un cliente\n",
            "Ha llegado un cliente\n",
            "Un cliente ha sido atendido\n",
            "Un cliente ha sido atendido\n",
            "Un cliente ha sido atendido\n",
            "Un cliente ha sido atendido\n",
            "Un cliente ha sido atendido\n"
          ]
        }
      ]
    },
    {
      "cell_type": "markdown",
      "metadata": {
        "id": "kBnxiFXposbU"
      },
      "source": [
        "### Distribución Exponenecial\n",
        "\n",
        "La primer forma de distribuir los tiempos de llegada y de servicio se conoce como **distribución exponencial**.\n",
        "\n",
        "$$P\\left(t\\right)=\\lambda*e^{\\left(-\\lambda t\\right)}$$\n",
        "\n",
        "Para $t = 0,1,2,3,.....$ Donde:\n",
        "*   $P(t) =$ Probabilidad de $k$ arribos/servicios.\n",
        "*   $t =$ Número de arrivos/servicios por unidad de tiempo\n",
        "*   $\\lambda =$ Tasa promedio de arrivos/servicios por unidad de tiempo."
      ]
    },
    {
      "cell_type": "code",
      "metadata": {
        "id": "low436XPkg4e",
        "colab": {
          "base_uri": "https://localhost:8080/",
          "height": 456,
          "referenced_widgets": [
            "6f1304126a8444dca267038b39c527f6",
            "943d64994f5c4011b6e740726e9736b2",
            "53623a09e0b541f2aab91e466282b1a7",
            "cd993aaf3f164397b331c1128a267f1f",
            "54bf652ac45a42cebb3429d5a1307f3e",
            "7bd239fbb3b64869a9f32ce16f26b7c6",
            "2ad099c78c7146b1b1f81f97ba2e2a2b"
          ]
        },
        "outputId": "1cf72d8e-6a04-4ff4-8d39-842005dbe3af"
      },
      "source": [
        "import numpy as np\n",
        "import matplotlib.pyplot as plt\n",
        "from IPython.html.widgets import interact\n",
        "import ipywidgets as widgets\n",
        "\n",
        "def distExponencial(lam):\n",
        "  # tamano de la imagen\n",
        "  plt.figure(figsize=(10,5))\n",
        "  # dominio en el cual se genera la grafica\n",
        "  x = np.linspace(0,10,15)\n",
        "  # tipo de sitribucion\n",
        "  distribucion = lam*np.exp(-x*lam)\n",
        "  # se grafican ambas rectas\n",
        "  plt.plot(x,distribucion,label = '$exponencial$', color='crimson')\n",
        "  plt.xlabel('$tiempo$')\n",
        "  plt.ylabel('$llegadas$')\n",
        "  plt.title('Distribución Exponencial')\n",
        "  plt.grid()\n",
        "  plt.legend()\n",
        "\n",
        "interact(distExponencial, lam=widgets.FloatSlider(min=0.0,max=0.5,step=0.1,value=0.1))\n"
      ],
      "execution_count": 1,
      "outputs": [
        {
          "output_type": "stream",
          "name": "stderr",
          "text": [
            "/usr/local/lib/python3.7/dist-packages/IPython/html.py:14: ShimWarning: The `IPython.html` package has been deprecated since IPython 4.0. You should import from `notebook` instead. `IPython.html.widgets` has moved to `ipywidgets`.\n",
            "  \"`IPython.html.widgets` has moved to `ipywidgets`.\", ShimWarning)\n"
          ]
        },
        {
          "output_type": "display_data",
          "data": {
            "text/plain": [
              "interactive(children=(FloatSlider(value=0.1, description='lam', max=0.5), Output()), _dom_classes=('widget-int…"
            ],
            "application/vnd.jupyter.widget-view+json": {
              "version_major": 2,
              "version_minor": 0,
              "model_id": "6f1304126a8444dca267038b39c527f6"
            }
          },
          "metadata": {}
        },
        {
          "output_type": "execute_result",
          "data": {
            "text/plain": [
              "<function __main__.distExponencial(lam)>"
            ]
          },
          "metadata": {},
          "execution_count": 1
        }
      ]
    },
    {
      "cell_type": "markdown",
      "metadata": {
        "id": "nwVsyeNpXk_a"
      },
      "source": [
        "### Distribución de Poisson\n",
        "\n",
        "La segunda forma más común de distribución, es la **Distribución de Poisson**.\n",
        "\n",
        "$$P\\left(k\\right)=\\frac{\\lambda^{k}e^{-\\lambda}}{k!}$$"
      ]
    },
    {
      "cell_type": "code",
      "metadata": {
        "id": "V_IfvoT3mTcX",
        "colab": {
          "base_uri": "https://localhost:8080/",
          "height": 423,
          "referenced_widgets": [
            "307edaf234bf4a69bc97586405f49ed6",
            "c2ea3543fcd24a698bde49be84776eae",
            "2fdfb42ee2c54c278de42f3f05d23304",
            "6a4ec505a2894f409c5ca07ecd2e8dac",
            "fcdcc21d7e694ad0ab35850fd07b6261",
            "85d7a3fbad6f4ca28850d8125e58f710",
            "9115326c3d4f4fada7e5960dc9cf7dd2"
          ]
        },
        "outputId": "f5a6a8c4-3a3a-4057-aebb-b55eb09f7879"
      },
      "source": [
        "import numpy as np\n",
        "import matplotlib.pyplot as plt\n",
        "import scipy.special\n",
        "from IPython.html.widgets import interact\n",
        "import ipywidgets as widgets\n",
        "\n",
        "def distPoisson(lam):\n",
        "  # tamano de la imagen\n",
        "  plt.figure(figsize=(10,5))\n",
        "  # dominio en el cual se genera la grafica\n",
        "  x = np.linspace(0,10,15)\n",
        "  # tipo de sitribucion\n",
        "  distribucion = (lam**(x)*np.exp(-lam))/(scipy.special.factorial(x))\n",
        "  # se grafican ambas rectas\n",
        "  plt.plot(x,distribucion,label = '$poisson$', color='crimson')\n",
        "  plt.xlabel('$tiempo$')\n",
        "  plt.ylabel('$llegadas$')\n",
        "  plt.title('Distribución de Poisson')\n",
        "  plt.grid()\n",
        "  plt.legend()\n",
        "\n",
        "interact(distPoisson, lam=widgets.FloatSlider(min=0.0,max=0.5,step=0.1,value=0.1))"
      ],
      "execution_count": 2,
      "outputs": [
        {
          "output_type": "display_data",
          "data": {
            "text/plain": [
              "interactive(children=(FloatSlider(value=0.1, description='lam', max=0.5), Output()), _dom_classes=('widget-int…"
            ],
            "application/vnd.jupyter.widget-view+json": {
              "version_major": 2,
              "version_minor": 0,
              "model_id": "307edaf234bf4a69bc97586405f49ed6"
            }
          },
          "metadata": {}
        },
        {
          "output_type": "execute_result",
          "data": {
            "text/plain": [
              "<function __main__.distPoisson(lam)>"
            ]
          },
          "metadata": {},
          "execution_count": 2
        }
      ]
    },
    {
      "cell_type": "markdown",
      "metadata": {
        "id": "6ADj4drtIRWL"
      },
      "source": [
        "# Modelos\n",
        "\n",
        "A continuación veremos algunos modelos de sistemas en los que se forman filas."
      ]
    },
    {
      "cell_type": "markdown",
      "metadata": {
        "id": "nip61Z3gk8N4"
      },
      "source": [
        "## Modelo $D/D/1$\n",
        "\n",
        "Este es de los sistemas más sencillos de analizar, ya que básicamente todo es constante y solo se tiene un servidor o fila.\n",
        "\n",
        "Es un sistema de filas de espera, con llegadas constantes, tiempo de servicio constante, con un servidor o fila de servicio.\n",
        "\n",
        "Supongamos que $\\lambda$ es el **tiempo de llegada**, sea $\\lambda=5$ minutos, es decir cada $5$ minutos llega un cliente. Y sea $\\mu=4$ minutos el **tiempo de servicio**. Si nos detenemos a analizar un poco esta situación, dado que $\\lambda > \\mu$ esto significa que cada cliente es atendido antes de que llegue un cliente nuevo, por lo tanto no se forma una fila.\n",
        "\n",
        "<center>\n",
        "<img src=\"https://github.com/jugernaut/ManejoDatos/blob/desarrollo/Imagenes/Simulacion/dd1.gif?raw=1\" width=\"600\"> \n",
        "</center>\n",
        "\n",
        "Modelos que funcionan de esta forma son por ejemplo las **lineas de ensamblaje**, donde se tienen patrones de llegada y de servicio deterministas y no se forman filas.\n",
        "\n",
        "Sin embargo vale la pena preguntarnos ¿qué sucede si $\\lambda < \\mu$?, esta situación se muestra a continuación.\n",
        "\n",
        "<center>\n",
        "<img src=\"https://github.com/jugernaut/ManejoDatos/blob/desarrollo/Imagenes/Simulacion/dd1espera.gif?raw=1\" width=\"600\"> \n",
        "</center>\n",
        "\n",
        "En esta situación surgen varias preguntas:\n",
        "\n",
        "*   ¿Cuanto tiempo espera un cliente en la fila?\n",
        "*   Además de agiliza el tiempo de servicio, ¿se puede hacer algo más para evitar que los clientes esperen en la fila?\n",
        "\n"
      ]
    },
    {
      "cell_type": "markdown",
      "metadata": {
        "id": "0dXUNRxSIzxr"
      },
      "source": [
        "## Modelo $M/M/1$\n",
        "\n",
        "En este modelo tanto el patrón de llegada, como el patrón de servicio son de tipo probabilistico y como ya vimos previamente se tienen 2 tipos de distribuciones principalmente.\n",
        "\n",
        "Volvemos a tener un solo servidor o fila de espera."
      ]
    },
    {
      "cell_type": "markdown",
      "metadata": {
        "id": "5B8I8i3qFJ9z"
      },
      "source": [
        "### Ejemplo\n",
        "\n",
        "Sea $\\lambda=100$ personas por hora y $\\mu=20$ personas atendidas cada $10$ minutos (es decir $120$ personas por hora). Tratemos de ver que sucede con el sistema.\n",
        "\n",
        "El **número de clientes que esperan en la fila** está dado por:\n",
        "$$L_{q}=\\frac{\\lambda^{2}}{\\mu\\left(\\mu-\\lambda\\right)}=\\frac{100^{2}}{\\left(120\\right)\\left(120-100\\right)}=1.04$$\n",
        "\n",
        "El **tiempo que un cliente espera en la fila** está dado por:\n",
        "$$W_{q}=\\frac{\\lambda}{\\mu\\left(\\mu-\\lambda\\right)}=\\frac{100}{\\left(120\\right)\\left(120-100\\right)}=0.01\\,horas\\times\\frac{60min}{1hora}=0.6min\\frac{60seg}{1min}=36seg$$\n",
        "\n",
        "El **número de clientes en el sistema** está dado por:\n",
        "$$L_{s}=\\frac{\\lambda}{\\mu-\\lambda}=\\frac{100}{120-100}=\\frac{100}{20}=5$$\n",
        "\n",
        "El **tiempo que los clientes espéran en el sistema**:\n",
        "$$W_{s}=\\frac{1}{\\mu-\\lambda}=\\frac{1}{120-100}=\\frac{1}{20}=0.05\\,horas\\times\\frac{60min}{1hora}=3min\\frac{60seg}{1min}=180seg$$"
      ]
    },
    {
      "cell_type": "markdown",
      "metadata": {
        "id": "gda37kOR__z-"
      },
      "source": [
        "# Otros Modelos\n",
        "\n",
        "Existen muchas variantes de modelos en los que se forman filas."
      ]
    },
    {
      "cell_type": "markdown",
      "metadata": {
        "id": "f26aTCPoLvbO"
      },
      "source": [
        "## Una fila multiples servidores\n",
        "\n",
        "<center>\n",
        "<img src=\"https://github.com/jugernaut/ManejoDatos/blob/desarrollo/Imagenes/Simulacion/unfms.png?raw=1\" width=\"600\"> \n",
        "</center> "
      ]
    },
    {
      "cell_type": "markdown",
      "metadata": {
        "id": "FSdH-9zzNIoA"
      },
      "source": [
        "## Varias filas multiples servidores\n",
        "\n",
        "<center>\n",
        "<img src=\"https://github.com/jugernaut/ManejoDatos/blob/desarrollo/Imagenes/Simulacion/vfvm.png?raw=1\" width=\"600\"> \n",
        "</center> "
      ]
    },
    {
      "cell_type": "markdown",
      "metadata": {
        "id": "V7KWZj-TNPF3"
      },
      "source": [
        "## Una filas varios servidores\n",
        "\n",
        "<center>\n",
        "<img src=\"https://github.com/jugernaut/ManejoDatos/blob/desarrollo/Imagenes/Simulacion/ufvs.png?raw=1\" width=\"600\"> \n",
        "</center> "
      ]
    },
    {
      "cell_type": "markdown",
      "metadata": {
        "id": "sNjKU2teNllh"
      },
      "source": [
        "# Costo-Calidad\n",
        "\n",
        "La finalidad de la teoría de filas y su simulación es encontrar un equilibro para el **costo-calidad** en un sistema.\n",
        "\n",
        "*   **Costos en la fila**: el costo en la fila del sistema es el tiempo que el cliente (proceso) pierde esperando a ser atendido. Un sistema con un **bajo costo** es la finalidad de todo modelo de fila. \n",
        "*   **Costos de servicio**: es el costo de operación por servicio, uno de los objetivos de la teoría de filas es, **mantener el costo total mínimo y maximizar el número de clientes atendidos**.\n",
        "\n",
        "Otros objetivos del análisis de un sistema son:\n",
        "\n",
        "*   Identificar el **nivel óptimo de capacidad del sistema, que minimiza el coste del mismo**.\n",
        "*   Evaluar el impacto que las posibles alternativas de modificación de la capacidad del sistema tendrían en el coste total del mismo.\n",
        "\n",
        "<center>\n",
        "<img src=\"https://github.com/jugernaut/ManejoDatos/blob/desarrollo/Imagenes/Simulacion/mapacon.png?raw=1\" width=\"900\"> \n",
        "</center> "
      ]
    },
    {
      "cell_type": "markdown",
      "metadata": {
        "id": "279Ou6b6OhAE"
      },
      "source": [
        "# Ejercicio\n",
        "\n",
        "Supongamos que en una estación con un solo servidor llegan en promedio 45 clientes por hora.\n",
        "\n",
        "Se tiene capacidad para atender en promedio 60 clientes por hora.\n",
        "\n",
        "Se sabe que los clientes esperan en promedio 3 minutos en la fila.\n",
        "\n",
        "Responde las siguientes preguntas:\n",
        "\n",
        "*   ¿Cuál es el tiempo promedio que un cliente pasa en el sistema?\n",
        "*   ¿Cuál es número promedio de clientes en la fila?\n",
        "*   ¿Cuál es el número promedio de cliente en el sistema?\n",
        "*   ¿Qué tipo de modelo es este?\n",
        "\n"
      ]
    },
    {
      "cell_type": "markdown",
      "metadata": {
        "id": "r50CSgntYI27"
      },
      "source": [
        "# Referencias\n",
        "\n",
        "* [Modelos de filas](https://www.um.es/or/ampliacion/node7.html).\n",
        "* [Teoría de Colas](https://hopelchen.tecnm.mx/principal/sylabus/fpdb/recursos/r89798.PDF).\n",
        "* [Teoría de filas](https://www.ecured.cu/Teor%C3%ADa_de_colas).\n",
        "* [Notación Kendall.](http://www.lcc.uma.es/~ezeqlr/ios/Tema5.pdf)\n",
        "* [Invesigación operativa.](https://idus.us.es/bitstream/handle/11441/77595/Esteban%20Vel%C3%A1zquez%20Gabriel%20TFG.pdf?sequence=1)\n",
        "* [Modelos D/D/1.](https://www.um.es/or/ampliacion/node5.html)\n",
        "\n",
        "\n"
      ]
    }
  ]
}
