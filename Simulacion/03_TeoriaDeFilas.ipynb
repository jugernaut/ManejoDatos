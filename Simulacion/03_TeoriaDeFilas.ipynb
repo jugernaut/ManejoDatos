{
  "nbformat": 4,
  "nbformat_minor": 0,
  "metadata": {
    "colab": {
      "name": "TeoriaDeFilas.ipynb",
      "provenance": [],
      "toc_visible": true,
      "include_colab_link": true
    },
    "kernelspec": {
      "name": "python3",
      "display_name": "Python 3"
    },
    "language_info": {
      "name": "python"
    }
  },
  "cells": [
    {
      "cell_type": "markdown",
      "metadata": {
        "id": "view-in-github",
        "colab_type": "text"
      },
      "source": [
        "<a href=\"https://colab.research.google.com/github/jugernaut/ManejoDatos/blob/desarrollo/Simulacion/03_TeoriaDeFilas.ipynb\" target=\"_parent\"><img src=\"https://colab.research.google.com/assets/colab-badge.svg\" alt=\"Open In Colab\"/></a>"
      ]
    },
    {
      "cell_type": "markdown",
      "metadata": {
        "id": "fRthAgph_GHN"
      },
      "source": [
        "<font color=\"Teal\" face=\"Comic Sans MS,arial\">\n",
        "  <h1 align=\"center\"><i>Teoría de Filas</i></h1>\n",
        "  </font>\n",
        "  <font color=\"Black\" face=\"Comic Sans MS,arial\">\n",
        "  <h5 align=\"center\"><i>Profesor: M. en C. Miguel Angel Pérez León</i></h5>\n",
        "  <h5 align=\"center\"><i>Ayudante: Jesús Iván Coss Calderón</i></h5>\n",
        "  <h5 align=\"center\"><i>Ayudante: Jonathan Ramírez Montes</i></h5>\n",
        "  <h5 align=\"center\"><i>Materia: Manejo de Datos</i></h5>\n",
        "</font>"
      ]
    },
    {
      "cell_type": "markdown",
      "metadata": {
        "id": "oNV6AcCP_YEJ"
      },
      "source": [
        "# Introducción\n",
        "\n",
        "Frecuentemente en el estudio de fenómenos naturales o sociales, se presentan situaciones en las cuales se agrupan elementos en formas de linea en espera de ser atendidos o procesados.\n",
        "\n",
        "También con mucha frecuencia es de importancia tratar de averiguar mediante una simulación cual sera el patrón de espera para ser atendido o procesado, cuanto tiempo tardara un individuo en completar una labor o cuanto tiempo tomará completar una determinada labor.\n",
        "\n",
        "La parte teórica de este análisis se realiza mediante al disciplina conocida como **teoría de filas**, esta área de las ciencias trata de predecir mediante elementos matemáticos las variables y procesos que intervienen en una situación en la cual se presente una o más filas.\n",
        "\n",
        "En nuestro curso esto es de relevancia ya que la parte teórica ayuda al momento de entender el funcionamiento de un sistema complejo, como lo pude ser todo aquel en el que intervienen varios individuos o procesos y por otro lado mediante algún lenguaje de programación podemos realizar la simulación que corrobore el análisis teórico.\n",
        "\n",
        "En materias como **Investigación de Operaciones** o **Programación Lineal** se profundiza en conceptos importantes al tratar de optimizar el desempeño de un sistema complejo, pero para nuestro curso será que suficiente conocer los elementos básicos de la teoría de filas.\n",
        "\n",
        "Las filas aparecen frecuentemete en muchas situaciones como un banco, un hospital, un concierto, etc. Así que es importante dedicar un poco de tiempo a su análisis."
      ]
    },
    {
      "cell_type": "markdown",
      "metadata": {
        "id": "-keLhgR0_dQB"
      },
      "source": [
        "# Características importantes \n",
        "\n",
        "En general a nadie le gusta esperar, cuando la paciencia llega a su limite la gente decide irse a otro lugar, sin embargo un servicio muy rápido tendría un costo muy elevado, así que la idea es encontrar un balance entre ambos."
      ]
    },
    {
      "cell_type": "markdown",
      "metadata": {
        "id": "DlcBwdOtH2bm"
      },
      "source": [
        "# Notación básica\n",
        "\n",
        "Con el paso del tiempo se ha implantado una notación para representar los problemas de filas que consta de 5 símbolos separados por barras.\n",
        "\n",
        "$$A / B / X /Y / Z$$\n",
        "\n",
        "*   $A$: indica la distribución de tiempo entre llegadas consecutivas.\n",
        "*   $B$: alude al patrón de servicio de servidores.\n",
        "*   $X$: es el número de canales de servicio.\n",
        "*   $Y$: es la restricción en la capacidad del sistema,\n",
        "*   $Z$: es la disciplina de cola.\n",
        "\n",
        "<center>\n",
        "<img src=\"https://github.com/jugernaut/ManejoDatos/blob/desarrollo/Imagenes/Simulacion/patrones.png?raw=1\" width=\"800\"> \n",
        "</center>\n",
        "\n"
      ]
    },
    {
      "cell_type": "markdown",
      "metadata": {
        "id": "4nP0mqyQixXl"
      },
      "source": [
        "# Atención de procesos\n",
        "\n",
        "El tiempo que transcurre entre 2 llegadas consecutivas de clientes o el tiempo que tarda en ser atendido un cliente pueden ser muy variados.\n",
        "\n",
        "A este tiempo se le conoce como tiempo entre llegadas y tiempo entre servicios.\n",
        "\n",
        "El número esperado de llegadas por unidad de tiempo se conoce como tasa media de llegadas.\n",
        "Y el numero de servicios por unidad de tiempo se conoce como tasa media de servicios.\n",
        "\n",
        "La primer forma de distribuir los tiempos de llegada y de servicio se conoce como \"Distribución exponencial\".\n",
        "\n",
        "<center>\n",
        "<img src=\"https://github.com/jugernaut/ManejoDatos/blob/desarrollo/Imagenes/Simulacion/exponencial.png?raw=1\" width=\"800\"> \n",
        "</center>\n",
        "\n",
        "La segunda forma más común de distribución, es la \"Distribución de Poisson\".\n",
        "\n",
        "<center>\n",
        "<img src=\"https://github.com/jugernaut/ManejoDatos/blob/desarrollo/Imagenes/Simulacion/poisson.png?raw=1\" width=\"500\"> \n",
        "</center>\n",
        "\n",
        "Para $k = 0,1,2,3,.....$ Donde:\n",
        "*   $P(k) =$ Probabilidad de $k$ arribos/servicios.\n",
        "*   $k =$ Número de arrivos/servicios por unidad de tiempo\n",
        "*   $\\lambda =$ Tasa promedio de arrivos/servicios por unidad de tiempo.\n"
      ]
    },
    {
      "cell_type": "markdown",
      "metadata": {
        "id": "6ADj4drtIRWL"
      },
      "source": [
        "# Ejemplos\n",
        "\n",
        "A continuación veremos algunos ejemplos de modelos de filas."
      ]
    },
    {
      "cell_type": "markdown",
      "metadata": {
        "id": "nip61Z3gk8N4"
      },
      "source": [
        "## Modelo $M/M/1$\n",
        "\n",
        "Es un sistema de lineas de espera, con llegadas aleatorias, tiempo de servicio constante, con una linea de servicio y una linea de espera.\n",
        "\n",
        "Este sistema tiene tiempos de servicio constantes en lugar de exponencialmente distribuidos"
      ]
    },
    {
      "cell_type": "markdown",
      "metadata": {
        "id": "0dXUNRxSIzxr"
      },
      "source": [
        "### Autómata celular elemental (90)\n",
        "\n",
        "En suma todos estos elementos permiten mostrar como evoluciona un sistema dinámico, veamos el ejemplo de la regla 90. Se le llama regla 90 dado que la función de transición representa el número 90 en binario\n",
        "\n",
        "* Rejilla unidimensional con el numero de células deseadas para el modelo.\n",
        "\n",
        "* Conjunto de estados: cada célula puede tomar el valor de \\{0,1\\}.\n",
        "\n",
        "* Vecindad: la vecindad de una célula sera la célula anterior y la célula posterior. $\\color{blue}{La\\ frontera\\ es\\ continua}$, es decir que la ultima célula esta conectada con la primera.\n",
        "\n",
        "* Función de transición: esta definida de la siguiente manera.\n",
        "\n",
        "\\begin{array}{c|c|c|c|c|c|c|c|}\n",
        "Vecindad & 111 & 110 & 101 & 100 & 011 & 010 & 001 & 000\\\\\n",
        "\\hline\n",
        "Paso\\,de\\,tiempo & 0 & 1 & 0 & 1 & 1 & 0 & 1 & 0\n",
        "\\end{array}"
      ]
    },
    {
      "cell_type": "markdown",
      "metadata": {
        "id": "vsg3mmHiLJSF"
      },
      "source": [
        "Veamos como evoluciona este a.c. después de un par de pasos de tiempo\n",
        "\n",
        "* Tiempo 0: \\begin{array}{|c|c|c|c|c|c|c|c|}\n",
        "\\hline\n",
        "0 & 0 & 0 & 0 & 1 & 0 & 0 & 0 & 0\\\\\n",
        "\\hline\n",
        "\\end{array} \n",
        "\n",
        "* Tiempo 1: \\begin{array}{|c|c|c|c|c|c|c|c|}\n",
        "\\hline\n",
        "0 & 0 & 0 & 1 & 0 & 1 & 0 & 0 & 0\\\\\n",
        "\\hline\n",
        "\\end{array} \n",
        "\n",
        "* Tiempo 2: \\begin{array}{|c|c|c|c|c|c|c|c|}\n",
        "\\hline\n",
        "0 & 0 & 1 & 0 & 0 & 0 & 1 & 0 & 0\\\\\n",
        "\\hline\n",
        "\\end{array} \n",
        "\n",
        "* Tiempo 3: \\begin{array}{|c|c|c|c|c|c|c|c|}\n",
        "\\hline\n",
        "0 & 1 & 0 & 0 & 0 & 0 & 0 & 1 & 0\\\\\n",
        "\\hline\n",
        "\\end{array} \n",
        "\n",
        "* Tiempo 4: \\begin{array}{|c|c|c|c|c|c|c|c|}\n",
        "\\hline\n",
        "1 & 0 & 0 & 0 & 0 & 0 & 0 & 0 & 1\\\\\n",
        "\\hline\n",
        "\\end{array} \n",
        "\n",
        "* Después de muchos pasos de tiempo se comienza a ver un patrón que se replica en todo la rejilla. Veamos la simulación con NetLogo."
      ]
    },
    {
      "cell_type": "markdown",
      "metadata": {
        "id": "dxTD9wnIVzAu"
      },
      "source": [
        "### Autómata celular elemental (184)\n",
        "\n",
        "Esta regla es la que modela el flujo vehicular empleado en un a.c. elemental de igual manera que el autómata anterior, este toma su nombre del valor en decimal de la función de transición. Los elementos que definen a este a.c. son los mismos que el del autómata anterior:\n",
        "\n",
        "* Rejilla unidimensional con el numero de células deseadas para el modelo.\n",
        "\n",
        "* Conjunto de estados: cada célula puede tomar el valor de \\{0,1\\}.\n",
        "\n",
        "* Vecindad: la vecindad de una célula sera la célula anterior y la célula posterior. La $\\color{blue}{frontera\\ es\\ continua}$, es decir que la ultima célula esta conectada con la primera.\n",
        "\n",
        "* Función de transición: esta definida de la siguiente manera.\n",
        "\\begin{array}{c|c|c|c|c|c|c|c|}\n",
        "Vecindad &\t111\t&110\t&101\t&100\t&011\t&010\t&001\t&000\\\\\n",
        "\\hline\n",
        "Paso\\,de\\,tiempo\t&1\t&0\t&1&\t1&\t1&\t0&\t0&\t0\n",
        "\\end{array}\n"
      ]
    },
    {
      "cell_type": "markdown",
      "metadata": {
        "id": "9WkLmlt1WmAA"
      },
      "source": [
        "Veamos como evoluciona este a.c. después de un par de pasos de tiempo\n",
        "\n",
        "* Tiempo 0: \\begin{array}{|c|c|c|c|c|c|c|}\n",
        "\\hline\n",
        "1 & 0 & 0 & 1 & 0 & 1 & 0 & 0\\\\\n",
        "\\hline\n",
        "\\end{array} \n",
        "\n",
        "* Tiempo 1: \\begin{array}{|c|c|c|c|c|c|c|}\n",
        "\\hline\n",
        "0 & 1 & 0 & 0 & 1 & 0 & 1 & 0\\\\\n",
        "\\hline\n",
        "\\end{array} \n",
        "\n",
        "* Tiempo 2: \\begin{array}{|c|c|c|c|c|c|c|}\n",
        "\\hline\n",
        "0 & 0 & 1 & 0 & 0 & 1 & 0 & 1\\\\\n",
        "\\hline\n",
        "\\end{array} \n",
        "\n",
        "* Tiempo 3: \\begin{array}{|c|c|c|c|c|c|c|}\n",
        "\\hline\n",
        "1 & 0 & 0 & 1 & 0 & 0 & 1 & 0\\\\\n",
        "\\hline\n",
        "\\end{array} \n",
        "\n",
        "* Tiempo 4: \\begin{array}{|c|c|c|c|c|c|c|c|}\n",
        "\\hline\n",
        "0 & 1 & 0 & 0 & 1 & 0 & 1 & 0\\\\\n",
        "\\hline\n",
        "\\end{array} \n",
        "\n",
        "* Como pueden notar, después de un cierto numero de pasos de tiempo (y dadas las condiciones iniciales) se repite el patrón que muestra el a.c. "
      ]
    },
    {
      "cell_type": "markdown",
      "metadata": {
        "id": "gda37kOR__z-"
      },
      "source": [
        "## **Simulación de Probabilidades**"
      ]
    },
    {
      "cell_type": "markdown",
      "metadata": {
        "id": "YKARvL06XoZ_"
      },
      "source": [
        "### Introducción\n",
        "\n",
        "En gran parte de las simulaciones que se pueden generar, incluir $\\color{blue}{procesos\\ estoc\\acute{a}sticos}$ es de vital importancia ya que así es como se logran modelar fenómenos de interés, como lo seria el que al lanzar una moneda se obtenga una cara un otra. \n",
        "\n",
        "Los $\\color{blue}{m\\acute{e}todos\\ de\\ Montecarlo}$, son métodos que han probado ser altamente efectivos y estos se basan en la idea de generar un muestreo aleatorio uniformemente distribuido. \n",
        "\n",
        "Dado que las simulaciones se realizan empleando una computadora, los valores aleatorios que se tienen que generar también se calculan dentro de la computadora. \n",
        "\n",
        "Sin embargo ya que los recursos de una computadora son finitos, los valores aleatorios que se pueden generar en realidad están $\\color{blue}{acotados\\ por\\ las\\ limitaciones\\ de\\ la\\ computadora}$ donde se generen estos valores. Es por esta razón que se conocen como valores $\\color{blue}{pseudoaleatorios}$."
      ]
    },
    {
      "cell_type": "markdown",
      "metadata": {
        "id": "WLQl-XhAX6NS"
      },
      "source": [
        "### Creación de valores aleatorios\n",
        "\n",
        "La mayoría de los lenguajes de programación actuales ya cuentan con una amplia biblioteca de herramientas para generar valores pseudoaleatorios, la forma en la que se generan estos valores normalmente es la siguiente:\n",
        "\n",
        "* Se invoca una función o método que recibe como parámetro una semilla ($\\color{green}{seed}$).\n",
        "\n",
        "* Esta semilla tiene la finalidad de ayudar a generar estos valores pseudoaleatorios.\n",
        "\n",
        "* Opcionalmente se puede indicar el rango en el cual se requiere el valor pseudoaleatorio.\n",
        "\n",
        "* Se genera el valor pseudoaleatorio.\n",
        "\n",
        "* Por ultimo se emplea este valor en el proceso estocástico en cuestión y se procede a generar el siguiente."
      ]
    },
    {
      "cell_type": "markdown",
      "metadata": {
        "id": "ji8-7FzsAFA-"
      },
      "source": [
        "## **Apendice**"
      ]
    },
    {
      "cell_type": "markdown",
      "metadata": {
        "id": "r50CSgntYI27"
      },
      "source": [
        "### Referencias\n",
        "\n",
        "* Thomas H. Cormen: Introduction to Algorithms.\n",
        "\n",
        "* Libro Web: Introduccion a Python.\n",
        "\n",
        "* Daniel T. Joyce: Object-Oriented Data Structures.\n",
        "\n",
        "* John C. Mitchell: Concepts in programing Languages."
      ]
    }
  ]
}