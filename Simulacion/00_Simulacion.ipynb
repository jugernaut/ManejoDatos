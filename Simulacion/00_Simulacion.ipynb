{
  "nbformat": 4,
  "nbformat_minor": 0,
  "metadata": {
    "colab": {
      "name": "Simulacion.ipynb",
      "provenance": [],
      "toc_visible": true,
      "authorship_tag": "ABX9TyOKmj6BCdXra+M8QAwHoN2E",
      "include_colab_link": true
    },
    "kernelspec": {
      "name": "python3",
      "display_name": "Python 3"
    },
    "language_info": {
      "name": "python"
    }
  },
  "cells": [
    {
      "cell_type": "markdown",
      "metadata": {
        "id": "view-in-github",
        "colab_type": "text"
      },
      "source": [
        "<a href=\"https://colab.research.google.com/github/jugernaut/ManejoDatos/blob/desarrollo/Simulacion/00_Simulacion.ipynb\" target=\"_parent\"><img src=\"https://colab.research.google.com/assets/colab-badge.svg\" alt=\"Open In Colab\"/></a>"
      ]
    },
    {
      "cell_type": "markdown",
      "metadata": {
        "id": "fRthAgph_GHN"
      },
      "source": [
        "<font color=\"Teal\" face=\"Comic Sans MS,arial\">\n",
        "  <h1 align=\"center\"><i>Simulación</i></h1>\n",
        "  </font>\n",
        "  <font color=\"Black\" face=\"Comic Sans MS,arial\">\n",
        "  <h5 align=\"center\"><i>Profesor: M.en.C. Miguel Angel Pérez León</i></h5>\n",
        "    <h5 align=\"center\"><i>Ayudante: Jesús Iván Coss Calderón</i></h5>\n",
        "  <h5 align=\"center\"><i>Materia: Manejo de Datos</i></h5>\n",
        "  </font>"
      ]
    },
    {
      "cell_type": "markdown",
      "metadata": {
        "id": "oNV6AcCP_YEJ"
      },
      "source": [
        "##**Introducción**"
      ]
    },
    {
      "cell_type": "markdown",
      "metadata": {
        "id": "G5evWcwGAP7J"
      },
      "source": [
        "La ciencia se desarrolla aplicando el método científico, lo que significa que, **se observa un fenómeno** que se requiere estudiar, **se plantea una hipótesis*** que explica el comportamiento de dicho fenómeno y finalmente **mediante una serie de experimentos (algunos muy costosos) se pretende corroborar la hipótesis**.\n",
        "\n",
        "En el campo de las ciencias exactas la simulación por computadora ha probado ser una herramienta extremadamente útil, ya que permite ahorrar mucho tiempo y dinero. Una simulación por computadora normalmente no es muy costosa y se puede repetir las veces que sea necesario e incluso se puede acelerar el paso de tiempo del fenómeno que se requiere estudiar.\n",
        "\n",
        "Es por estos motivos que generar simulaciones **adecuadas** y **confiables** es una habilidad importante de todo estudiante de ciencias."
      ]
    },
    {
      "cell_type": "markdown",
      "metadata": {
        "id": "bxdhicnyDpYj"
      },
      "source": [
        "### Tipos de Simulaciones\n",
        "\n",
        "Actualmente existen básicamente 2 tipos de simulaciones. La primera de ellas son las simulaciones basadas en $\\color{blue}{modelos\\ matem\\acute{a}ticos\\ complejos}$ que incorporan el uso de ecuaciones diferenciales, sistemas de ecuaciones o integrales para describir el comportamiento de un fenómeno, este tipo de simulaciones se estudian en materias como $\\color{blue}{an\\acute{a}lisis\\ num\\acute{e}rico}$ o $\\color{blue}{modelaci\\acute{o}n\\ matem\\acute{a}tica}$.\n",
        "\n",
        "El otro tipo de simulaciones son las $\\color{blue}{simulaciones\\ basadas\\ en\\ agentes}$ (antes autómatas celulares). En este tipo de simulaciones, la idea principal es tratar de determinar las $\\color{blue}{interacciones\\ locales\\ entre\\ los\\ individuos}$ que conforman el sistema, para poder determinar cual sera el comportamiento del sistema en el paso siguiente de tiempo.\n",
        "\n",
        " \n",
        "\n",
        "Sin importar el tipo de simulación la forma en la que esta debe ser construida no cambia mucho."
      ]
    },
    {
      "cell_type": "markdown",
      "metadata": {
        "id": "NPDBQS6oENvA"
      },
      "source": [
        "El algoritmo general seria el siguiente. \n",
        "\n",
        "1. Se observa un fenómeno de interés.\n",
        "\n",
        "2. Se genera un modelo matemático (ya sea complejo o basado en agentes).\n",
        "\n",
        "3. Se construye el correspondiente modelo computacional.\n",
        "\n",
        "4. Finalmente se procede a $\\color{blue}{calibrar}$ y probar la $\\color{blue}{simulaci\\acute{o}n}$.\n",
        "\n",
        "Vale la pena aclarar que siempre que sea posible obtener la solución del problema planteado, de manera analítica es preferible seguir este camino, ya que es el camino que mayor exactitud y confiabilidad ofrece."
      ]
    },
    {
      "cell_type": "markdown",
      "metadata": {
        "id": "8pEJl6Am66UV"
      },
      "source": [
        "###Modelos Matemáticos\n",
        "\n",
        "<center>\n",
        "<img src=\"https://github.com/jugernaut/ManejoDatos/blob/desarrollo/Imagenes/Simulacion/regla90.png?raw=1\" width=\"600\"> \n",
        "\n",
        "Figura 1: A.C. Regla 90\n",
        "</center>"
      ]
    },
    {
      "cell_type": "markdown",
      "metadata": {
        "id": "ztYiVdpk7Rs3"
      },
      "source": [
        "<center>\n",
        "<img src=\"https://github.com/jugernaut/ManejoDatos/blob/desarrollo/Imagenes/Simulacion/juegovida.png?raw=1\" width=\"600\"> \n",
        "\n",
        "Figura 2: Juego de la vida\n",
        "</center>\n"
      ]
    },
    {
      "cell_type": "markdown",
      "metadata": {
        "id": "XabTDU8-7beQ"
      },
      "source": [
        "<center>\n",
        "<img src=\"https://github.com/jugernaut/ManejoDatos/blob/desarrollo/Imagenes/Simulacion/trafico.png?raw=1\" width=\"600\"> \n",
        "\n",
        "Figura 3: Trafico Vehicular\n",
        "</center>\n"
      ]
    },
    {
      "cell_type": "markdown",
      "metadata": {
        "id": "GR7XLZNf7oIc"
      },
      "source": [
        "<center>\n",
        "<img src=\"https://github.com/jugernaut/ManejoDatos/blob/desarrollo/Imagenes/Simulacion/lluvia.png?raw=1\" width=\"600\"> \n",
        "\n",
        "Figura 4: Modelo Pluvial\n",
        "</center>\n"
      ]
    },
    {
      "cell_type": "markdown",
      "metadata": {
        "id": "fmn6jimk82HP"
      },
      "source": [
        "<center>\n",
        "<img src=\"https://github.com/jugernaut/ManejoDatos/blob/desarrollo/Imagenes/Simulacion/Simulaciondeyacimientos.png?raw=1\" width=\"600\"> \n",
        "</center>\n",
        "\n",
        "$$\\frac{\\delta}{\\delta t}\\left(\\frac{\\Phi S_{w}}{B_{w}}\\right)=\\nabla\\cdot\\left(T_{w}\\left[\\nabla p_{w}-\\rho_{w}\\vec{g}\\right]\\right)+\\frac{qWs}{B_{w}}$$\n",
        "$$\\frac{\\delta}{\\delta t}\\left(\\frac{\\Phi S_{o}}{B_{o}}\\right)=\\nabla\\cdot\\left(T_{o}\\left[\\nabla p_{o}-\\rho_{o}\\vec{g}\\right]\\right)+\\frac{qOs}{B_{o}}$$\n",
        "\n"
      ]
    },
    {
      "cell_type": "markdown",
      "metadata": {
        "id": "lUSM4Vd18-4Z"
      },
      "source": [
        "<center>\n",
        "<img src=\"https://github.com/jugernaut/ManejoDatos/blob/desarrollo/Imagenes/Simulacion/DinamicadeFluidos.png?raw=1\" width=\"600\"> \n",
        "</center>\n",
        "\n",
        "$$\\frac{\\delta\\rho}{\\delta t}+\\frac{\\delta}{\\delta x_{j}}\\left[\\rho u_{j}\\right]=0$$\n",
        "$$\\frac{\\delta}{\\delta t}\\left(\\rho u_{i}\\right)+\\frac{\\delta}{\\delta x_{j}}\\left[\\rho u_{i}u_{j}+p\\delta_{ij}-\\tau_{ji}\\right]=0,\\quad i=1,2,3$$"
      ]
    },
    {
      "cell_type": "markdown",
      "metadata": {
        "id": "wzBOA1Ps9NyB"
      },
      "source": [
        "<center>\n",
        "<img src=\"https://github.com/jugernaut/ManejoDatos/blob/desarrollo/Imagenes/Simulacion/AnalisisEstructural.png?raw=1\" width=\"600\"> \n",
        "</center>\n",
        "\n",
        "$$\\nabla\\cdot\\sigma+F=\\rho\\frac{\\delta^{2}u}{\\delta t^{2}}$$ $$\\varepsilon=\\frac{1}{2}\\left[\\nabla u+\\left(\\nabla u\\right)\\right]$$\n",
        "$$\\sigma=C:\\varepsilon$$"
      ]
    },
    {
      "cell_type": "markdown",
      "metadata": {
        "id": "Z3ilveJI9WwH"
      },
      "source": [
        "<center>\n",
        "<img src=\"https://github.com/jugernaut/ManejoDatos/blob/desarrollo/Imagenes/Simulacion/EquilibrioEconomico.png?raw=1\" width=\"600\"> \n",
        "</center>\n",
        "\n",
        "$$\\delta x=\\delta B-5x\\,\\delta t$$"
      ]
    },
    {
      "cell_type": "markdown",
      "metadata": {
        "id": "-keLhgR0_dQB"
      },
      "source": [
        "##**Autómatas Celulares (modelos basados en agentes)**"
      ]
    },
    {
      "cell_type": "markdown",
      "metadata": {
        "id": "DlcBwdOtH2bm"
      },
      "source": [
        "### Introducción\n",
        "\n",
        "Un autómata celular es un modelo matemático que, basado en las interacciones locales permite mostrar la evolución de un sistema dinámico que avanza a pasos discretos de tiempo. \n",
        "\n",
        "Existe diferentes científicos que han aportado en gran medida a lo que hoy se conoce como autómata celular (A.C.), sin embargo se puede decir que la persona responsable de la definición de A.C. fue $\\color{blue}{John\\ von\\ Neumann}$.\n",
        "\n",
        "Por otro lado $\\color{blue}{Stephen\\ Wolfram}$ llevo a un nuevo nivel la definición de A.C. ya que el los clasifico y realizo múltiples investigaciones muy importantes al respecto.\n",
        "\n",
        "Dicho sea de paso Stephen Wolfram es el creador de $\\color{blue}{Wolfram\\ Alpha}$, gran aliado y salvador de todo estudiante de la Facultad de Ciencias. "
      ]
    },
    {
      "cell_type": "markdown",
      "metadata": {
        "id": "6ADj4drtIRWL"
      },
      "source": [
        "### Descripción\n",
        "\n",
        "No se tiene como tal una definición matemática formal de lo que es un A.C., pero podemos pensar en el mismo como una tupla, es decir un conjunto de elementos ordenados\n",
        "\n",
        "* Una rejilla o cuadricula (lattice) de enteros, infinitamente extendida y con dimensión $d\\in\\mathbb{Z^{+}}$. Cada celda es conocida como $\\color{blue}{c\\acute{e}lula}$.\n",
        "\n",
        "* Una célula puede tomar un valor en $\\mathbb{Z}$ a partir de un $\\color{blue}{conjunto\\ finito\\ de\\ estados\\ k}$.\n",
        "\n",
        "* Cada célula ademas se caracteriza por su $\\color{blue}{vecindad}$, conjunto finito de células que colindan con la célula en cuestión.\n",
        "\n",
        "* La $\\color{blue}{funci\\acute{o}n\\ de\\ transici\\acute{o}n}$, toma el estado actual de la célula y los valores de la vecindad de la célula en cuestión y regresa el nuevo valor de la célula que tendrá en el paso siguiente de tiempo. Esta función se aplica de manera homogénea a todas las células del A.C. por cada paso de tiempo."
      ]
    },
    {
      "cell_type": "markdown",
      "metadata": {
        "id": "0dXUNRxSIzxr"
      },
      "source": [
        "### Autómata celular elemental (90)\n",
        "\n",
        "En suma todos estos elementos permiten mostrar como evoluciona un sistema dinámico, veamos el ejemplo de la regla 90. Se le llama regla 90 dado que la función de transición representa el número 90 en binario\n",
        "\n",
        "* Rejilla unidimensional con el numero de células deseadas para el modelo.\n",
        "\n",
        "* Conjunto de estados: cada célula puede tomar el valor de \\{0,1\\}.\n",
        "\n",
        "* Vecindad: la vecindad de una célula sera la célula anterior y la célula posterior. $\\color{blue}{La\\ frontera\\ es\\ continua}$, es decir que la ultima célula esta conectada con la primera.\n",
        "\n",
        "* Función de transición: esta definida de la siguiente manera.\n",
        "\n",
        "\\begin{array}{c|c|c|c|c|c|c|c|}\n",
        "Vecindad & 111 & 110 & 101 & 100 & 011 & 010 & 001 & 000\\\\\n",
        "\\hline\n",
        "Paso\\,de\\,tiempo & 0 & 1 & 0 & 1 & 1 & 0 & 1 & 0\n",
        "\\end{array}"
      ]
    },
    {
      "cell_type": "markdown",
      "metadata": {
        "id": "vsg3mmHiLJSF"
      },
      "source": [
        "Veamos como evoluciona este a.c. después de un par de pasos de tiempo\n",
        "\n",
        "* Tiempo 0: \\begin{array}{|c|c|c|c|c|c|c|c|}\n",
        "\\hline\n",
        "0 & 0 & 0 & 0 & 1 & 0 & 0 & 0 & 0\\\\\n",
        "\\hline\n",
        "\\end{array} \n",
        "\n",
        "* Tiempo 1: \\begin{array}{|c|c|c|c|c|c|c|c|}\n",
        "\\hline\n",
        "0 & 0 & 0 & 1 & 0 & 1 & 0 & 0 & 0\\\\\n",
        "\\hline\n",
        "\\end{array} \n",
        "\n",
        "* Tiempo 2: \\begin{array}{|c|c|c|c|c|c|c|c|}\n",
        "\\hline\n",
        "0 & 0 & 1 & 0 & 0 & 0 & 1 & 0 & 0\\\\\n",
        "\\hline\n",
        "\\end{array} \n",
        "\n",
        "* Tiempo 3: \\begin{array}{|c|c|c|c|c|c|c|c|}\n",
        "\\hline\n",
        "0 & 1 & 0 & 0 & 0 & 0 & 0 & 1 & 0\\\\\n",
        "\\hline\n",
        "\\end{array} \n",
        "\n",
        "* Tiempo 4: \\begin{array}{|c|c|c|c|c|c|c|c|}\n",
        "\\hline\n",
        "1 & 0 & 0 & 0 & 0 & 0 & 0 & 0 & 1\\\\\n",
        "\\hline\n",
        "\\end{array} \n",
        "\n",
        "* Después de muchos pasos de tiempo se comienza a ver un patrón que se replica en todo la rejilla. Veamos la simulación con NetLogo."
      ]
    },
    {
      "cell_type": "markdown",
      "metadata": {
        "id": "dxTD9wnIVzAu"
      },
      "source": [
        "### Autómata celular elemental (184)\n",
        "\n",
        "Esta regla es la que modela el flujo vehicular empleado en un a.c. elemental de igual manera que el autómata anterior, este toma su nombre del valor en decimal de la función de transición. Los elementos que definen a este a.c. son los mismos que el del autómata anterior:\n",
        "\n",
        "* Rejilla unidimensional con el numero de células deseadas para el modelo.\n",
        "\n",
        "* Conjunto de estados: cada célula puede tomar el valor de \\{0,1\\}.\n",
        "\n",
        "* Vecindad: la vecindad de una célula sera la célula anterior y la célula posterior. La $\\color{blue}{frontera\\ es\\ continua}$, es decir que la ultima célula esta conectada con la primera.\n",
        "\n",
        "* Función de transición: esta definida de la siguiente manera.\n",
        "\\begin{array}{c|c|c|c|c|c|c|c|}\n",
        "Vecindad &\t111\t&110\t&101\t&100\t&011\t&010\t&001\t&000\\\\\n",
        "\\hline\n",
        "Paso\\,de\\,tiempo\t&1\t&0\t&1&\t1&\t1&\t0&\t0&\t0\n",
        "\\end{array}\n"
      ]
    },
    {
      "cell_type": "markdown",
      "metadata": {
        "id": "9WkLmlt1WmAA"
      },
      "source": [
        "Veamos como evoluciona este a.c. después de un par de pasos de tiempo\n",
        "\n",
        "* Tiempo 0: \\begin{array}{|c|c|c|c|c|c|c|}\n",
        "\\hline\n",
        "1 & 0 & 0 & 1 & 0 & 1 & 0 & 0\\\\\n",
        "\\hline\n",
        "\\end{array} \n",
        "\n",
        "* Tiempo 1: \\begin{array}{|c|c|c|c|c|c|c|}\n",
        "\\hline\n",
        "0 & 1 & 0 & 0 & 1 & 0 & 1 & 0\\\\\n",
        "\\hline\n",
        "\\end{array} \n",
        "\n",
        "* Tiempo 2: \\begin{array}{|c|c|c|c|c|c|c|}\n",
        "\\hline\n",
        "0 & 0 & 1 & 0 & 0 & 1 & 0 & 1\\\\\n",
        "\\hline\n",
        "\\end{array} \n",
        "\n",
        "* Tiempo 3: \\begin{array}{|c|c|c|c|c|c|c|}\n",
        "\\hline\n",
        "1 & 0 & 0 & 1 & 0 & 0 & 1 & 0\\\\\n",
        "\\hline\n",
        "\\end{array} \n",
        "\n",
        "* Tiempo 4: \\begin{array}{|c|c|c|c|c|c|c|c|}\n",
        "\\hline\n",
        "0 & 1 & 0 & 0 & 1 & 0 & 1 & 0\\\\\n",
        "\\hline\n",
        "\\end{array} \n",
        "\n",
        "* Como pueden notar, después de un cierto numero de pasos de tiempo (y dadas las condiciones iniciales) se repite el patrón que muestra el a.c. "
      ]
    },
    {
      "cell_type": "markdown",
      "metadata": {
        "id": "gda37kOR__z-"
      },
      "source": [
        "## **Simulación de Probabilidades**"
      ]
    },
    {
      "cell_type": "markdown",
      "metadata": {
        "id": "YKARvL06XoZ_"
      },
      "source": [
        "### Introducción\n",
        "\n",
        "En gran parte de las simulaciones que se pueden generar, incluir $\\color{blue}{procesos\\ estoc\\acute{a}sticos}$ es de vital importancia ya que así es como se logran modelar fenómenos de interés, como lo seria el que al lanzar una moneda se obtenga una cara un otra. \n",
        "\n",
        "Los $\\color{blue}{m\\acute{e}todos\\ de\\ Montecarlo}$, son métodos que han probado ser altamente efectivos y estos se basan en la idea de generar un muestreo aleatorio uniformemente distribuido. \n",
        "\n",
        "Dado que las simulaciones se realizan empleando una computadora, los valores aleatorios que se tienen que generar también se calculan dentro de la computadora. \n",
        "\n",
        "Sin embargo ya que los recursos de una computadora son finitos, los valores aleatorios que se pueden generar en realidad están $\\color{blue}{acotados\\ por\\ las\\ limitaciones\\ de\\ la\\ computadora}$ donde se generen estos valores. Es por esta razón que se conocen como valores $\\color{blue}{pseudoaleatorios}$."
      ]
    },
    {
      "cell_type": "markdown",
      "metadata": {
        "id": "WLQl-XhAX6NS"
      },
      "source": [
        "### Creación de valores aleatorios\n",
        "\n",
        "La mayoría de los lenguajes de programación actuales ya cuentan con una amplia biblioteca de herramientas para generar valores pseudoaleatorios, la forma en la que se generan estos valores normalmente es la siguiente:\n",
        "\n",
        "* Se invoca una función o método que recibe como parámetro una semilla ($\\color{green}{seed}$).\n",
        "\n",
        "* Esta semilla tiene la finalidad de ayudar a generar estos valores pseudoaleatorios.\n",
        "\n",
        "* Opcionalmente se puede indicar el rango en el cual se requiere el valor pseudoaleatorio.\n",
        "\n",
        "* Se genera el valor pseudoaleatorio.\n",
        "\n",
        "* Por ultimo se emplea este valor en el proceso estocástico en cuestión y se procede a generar el siguiente."
      ]
    },
    {
      "cell_type": "markdown",
      "metadata": {
        "id": "ji8-7FzsAFA-"
      },
      "source": [
        "## **Apendice**"
      ]
    },
    {
      "cell_type": "markdown",
      "metadata": {
        "id": "r50CSgntYI27"
      },
      "source": [
        "### Referencias\n",
        "\n",
        "* Thomas H. Cormen: Introduction to Algorithms.\n",
        "\n",
        "* Libro Web: Introduccion a Python.\n",
        "\n",
        "* Daniel T. Joyce: Object-Oriented Data Structures.\n",
        "\n",
        "* John C. Mitchell: Concepts in programing Languages."
      ]
    }
  ]
}