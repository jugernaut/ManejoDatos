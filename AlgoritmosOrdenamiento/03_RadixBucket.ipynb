{
  "nbformat": 4,
  "nbformat_minor": 0,
  "metadata": {
    "colab": {
      "name": "03_RadixBucket.ipynb",
      "provenance": [],
      "collapsed_sections": [],
      "toc_visible": true,
      "include_colab_link": true
    },
    "kernelspec": {
      "name": "python3",
      "display_name": "Python 3"
    }
  },
  "cells": [
    {
      "cell_type": "markdown",
      "metadata": {
        "id": "view-in-github",
        "colab_type": "text"
      },
      "source": [
        "<a href=\"https://colab.research.google.com/github/jugernaut/ManejoDatos/blob/desarrollo/AlgoritmosOrdenamiento/03_RadixBucket.ipynb\" target=\"_parent\"><img src=\"https://colab.research.google.com/assets/colab-badge.svg\" alt=\"Open In Colab\"/></a>"
      ]
    },
    {
      "cell_type": "markdown",
      "metadata": {
        "id": "JAsbRnI2Mz94"
      },
      "source": [
        "<font color=\"Teal\" face=\"Comic Sans MS,arial\">\n",
        "  <h1 align=\"center\"><i>RadixSort y BucketSort (análisis)</i></h1>\n",
        "  </font>\n",
        "  <font color=\"Black\" face=\"Comic Sans MS,arial\">\n",
        "  <h5 align=\"center\"><i>Profesor: M.en.C. Miguel Angel Pérez León.</i></h5>\n",
        "    <h5 align=\"center\"><i>Ayudante: Jesús Iván Coss Calderón</i></h5>\n",
        "    <h5 align=\"center\"><i>Ayudante: Jonathan Ramŕez Montes</i></h5>\n",
        "  <h5 align=\"center\"><i>Manejo de Datos</i></h5>\n",
        "  </font>"
      ]
    },
    {
      "cell_type": "markdown",
      "metadata": {
        "id": "h4IewVdLVj8s"
      },
      "source": [
        "# Introducción\n",
        "\n",
        "Este par de algoritmos de ordenamiento (RadixSort y BucketSort) los podemos considerar algoritmos \"exóticos\", ya que a diferencia de los algoritmos vistos previamente, estos no se basan en comparaciones entre los elementos a ordenar.\n",
        "\n",
        "Por otro lado estos algoritmos requiere de conocimientos a priori de los datos a ordenar, por ejemplo la longitud en terminos de digitos decimales de los elementos a ordenar."
      ]
    },
    {
      "cell_type": "markdown",
      "metadata": {
        "id": "Z2HsvTi77D9Y"
      },
      "source": [
        "# *RadixSort*\n",
        "\n",
        "Este algoritmo ordena los elementos de manera similar a como funcionan los tableros que anuncian las llegadas de los aviones en un aeropuerto. Imaginemos que los valores a ordenar los podemos colocar en renglones donde cada renglón contiene casillas para cada dígito del elemento a ordenar, algo así.\n",
        "\n",
        "$$\n",
        "\\begin{array}{ccccc}\n",
        "\\left[d_{n}\\right] & \\left[\\ldots\\right] & \\left[d_{2}\\right] & \\left[d_{1}\\right] & \\left[d_{0}\\right]\\end{array}\n",
        "$$\n",
        "\n",
        "La idea detrás de este algoritmo es ordenar cada digito de derecha a izquierda por cada elemento a ordenar, modificando la posición del elemento a ordenar en caso de que el dígito a ordenar haya sufrido alguna modificación respecto a la posición en la colección.\n",
        "\n",
        "<center>\n",
        "<img src=\"https://github.com/jugernaut/ManejoDatos/blob/desarrollo/Imagenes/AlgoritmosOrdenamiento/RadixSort.png?raw=1\" width=\"600\"> \n",
        "</center>"
      ]
    },
    {
      "cell_type": "markdown",
      "metadata": {
        "id": "-Dt5F9Xacou3"
      },
      "source": [
        "## Descripción\n",
        "\n",
        "Para que el algoritmo *RadixSort* funcione de manera correcta hay que **conocer la longitud (en términos) de dígitos** del elemento más extenso a ordenar, una vez que se conoce esta longitud se completan con ceros (a la izquierda del dígito $d_{n}$ en caso de ser necesario). Una vez que todos los elementos a ordenar tienen la misma longitud comienza el algoritmo con los siguientes pasos:\n",
        "\n",
        "\n",
        "1.   Comenzamos a ordenar la columna correspondiente al $d_{0}$ (que se le conoce como el dígito menos significativo), se realizan las respectivas modificaciones en las posiciones de los renglones en caso de ser necesario y se continua con la columna $d_{1}$.\n",
        "2.   Se ordena la columna $d_{1}$, de manera similar a como se hizo con la columna anterior y se procede a la siguiente.\n",
        "3.   Continuamos ordenando todas las columnas (con sus respectivas modificaciones sobre los renglones), hasta llegar a la columna $d_{n}$ (el dígito más significativo).\n",
        "4.   Al ordenar el dígito más significativo de cada renglón termina el algoritmo.\n",
        "\n",
        "\n",
        "\n"
      ]
    },
    {
      "cell_type": "markdown",
      "metadata": {
        "id": "qwuSS-rte3Ds"
      },
      "source": [
        "## Ejemplo\n",
        "\n",
        "Supongamos que se tiene el siguiente conjunto de datos a ordenar que podemos organizarlos de la siguiente manera.\n",
        "\n",
        "$$\n",
        "\\begin{array}{ccc}\n",
        "\\left[d_{2}\\right] & \\left[d_{1}\\right] & \\left[d_{0}\\right]\\\\\n",
        "\\left[1\\right] & \\left[0\\right] & \\left[5\\right]\\\\\n",
        "\\left[0\\right] & \\left[2\\right] & \\left[5\\right]\\\\\n",
        "\\left[3\\right] & \\left[0\\right] & \\left[1\\right]\n",
        "\\end{array}\n",
        "$$\n",
        "\n",
        "Ahora la idea es comenzar a ordenar la primer columna (la columna correspondiente al digito $d_{0}$) se ordena esa columna, considerando que el $d_{0}$ pertenece a todo un renglon y por lo tanto si el $d_{0}$ de algún renglón cambia su posición, también lo debe hacer todo el renglón. Después de ordenar el $d_{0}$, esta colección de datos se ve de la siguiente forma.\n",
        "\n",
        "$$\n",
        "\\begin{array}{ccc}\n",
        "\\left[d_{2}\\right] & \\left[d_{1}\\right] & \\left[\\color{green}{d_{0}}\\right]\\\\\n",
        "\\left[3\\right] & \\left[0\\right] & \\left[\\color{green}1\\right]\\\\\n",
        "\\left[1\\right] & \\left[0\\right] & \\left[\\color{green}5\\right]\\\\\n",
        "\\left[0\\right] & \\left[2\\right] & \\left[\\color{green}5\\right]\n",
        "\\end{array}\n",
        "$$\n",
        "\n",
        "Se procede a ordenar la columna correspondiente al $d_{1}$ y podemos notar que no hay cambios en los renglones, ya que la columna $d_{1}$ ya se encuentra ordenada.\n",
        "\n",
        "$$\n",
        "\\begin{array}{ccc}\n",
        "\\left[d_{2}\\right] & \\left[\\color{green}{d_{1}}\\right] & \\left[\\color{green}{d_{0}}\\right]\\\\\n",
        "\\left[3\\right] & \\left[\\color{green}0\\right] & \\left[\\color{green}1\\right]\\\\\n",
        "\\left[1\\right] & \\left[\\color{green}0\\right] & \\left[\\color{green}5\\right]\\\\\n",
        "\\left[0\\right] & \\left[\\color{green}2\\right] & \\left[\\color{green}5\\right]\n",
        "\\end{array}\n",
        "$$\n",
        "\n",
        "Por último, se ordena la columna $d_{2}$ y la colección queda de la siguiente forma.\n",
        "\n",
        "$$\n",
        "\\begin{array}{ccc}\n",
        "\\left[\\color{green}{d_{2}}\\right] & \\left[\\color{green}{d_{1}}\\right] & \\left[\\color{green}{d_{0}}\\right]\\\\\n",
        "\\left[\\color{green}0\\right] & \\left[\\color{green}2\\right] & \\left[\\color{green}5\\right]\\\\\n",
        "\\left[\\color{green}1\\right] & \\left[\\color{green}0\\right] & \\left[\\color{green}5\\right]\\\\\n",
        "\\left[\\color{green}3\\right] & \\left[\\color{green}0\\right] & \\left[\\color{green}1\\right]\n",
        "\\end{array}\n",
        "$$\n",
        "\n",
        "Y la colección queda ordenada.\n"
      ]
    },
    {
      "cell_type": "markdown",
      "metadata": {
        "id": "mlm6KfnURLCA"
      },
      "source": [
        "## Análisis y Orden de Complejidad\n",
        "\n",
        "Dado que este algoritmo no se basa en comparaciones podemos pensar que el ordenar cada columna ($d_{i})$ toma tiene un costo lineal, es decir $O(n)$ ya que unicamente estamos organizando cada elemento respecto al dígito, tarea muy **similar a cuando organizamos elementos dentro de contenedores o cubetas**.\n",
        "\n",
        "Ahora supongamos que el elemento de mayor longitud dentro de la colección esta conformado por $k-digitos$, entonces se tendrían que ordenar $k$ columnas, por lo tanto el algoritmo *RadixSort* pertenece al orden de complejidad $O(kn)$.\n",
        "\n",
        "Así que podemos pensar que el peor caso para este algoritmo es cuando $k$ es demasiado grande (y sobretodo si son pocos los elementos que poseén la misma longitud). Pensemos que $k\\approx n$, entonces el orden al que pertenecería este algoritmo sería $O(nn)=O(n²)$.\n",
        "\n"
      ]
    },
    {
      "cell_type": "markdown",
      "metadata": {
        "id": "eEEEkd74Ra-s"
      },
      "source": [
        "## Algoritmo básico\n",
        "\n",
        "A continuación se muestra el pseudocódigo del algoritmo para ordenar por mezcla.\n",
        "\n",
        "<center>\n",
        "<img src=\"https://github.com/jugernaut/Numerico2021/blob/master/Imagenes/Merge/merge.PNG?raw=1\" width=\"600\"> \n",
        "</center>"
      ]
    },
    {
      "cell_type": "code",
      "metadata": {
        "colab": {
          "base_uri": "https://localhost:8080/"
        },
        "id": "CdKfAPmTIUP7",
        "outputId": "d1d1b098-350c-44e5-b589-926b165aaa9a"
      },
      "source": [
        "# Algoritmo de ordenamiento\n",
        "def mergeSort(lista):\n",
        "    # si la coleccion es de tamano 1 o 0 se devuelve\n",
        "    if (len(lista) < 2):\n",
        "        return lista # 1 operacion\n",
        "    # si no se parte la coleccion y se ordena recursivamente    \n",
        "    else:\n",
        "        medio = len(lista)//2\n",
        "        izquierda = mergeSort(lista[:medio]) #T(n/2)\n",
        "        derecha = mergeSort(lista[medio:])  #T(n/2)\n",
        "        # se mezclan ambas listas (n operaciones)\n",
        "        return merge(izquierda, derecha)\n",
        "\n",
        "# Algoritmo que mezcla 2 listas ordenadas\n",
        "def merge(l1, l2):\n",
        "    i,j=0,0\n",
        "    mezcla=[]\n",
        "    # mientras haya elementos, se comparan y se mezclan\n",
        "    while(i < len(l1) and j < len(l2)):\n",
        "        if l1[i] <= l2[j]:\n",
        "            mezcla.append(l1[i])\n",
        "            i = i+1\n",
        "        else:\n",
        "            mezcla.append(l2[j])\n",
        "            j = j+1  \n",
        "    # agrega lo que falta, si i o j ya son len(lista) no agregan\n",
        "    mezcla += l1[i:]\n",
        "    mezcla += l2[j:]\n",
        "    # se devuelve la coleccion ordenada\n",
        "    return mezcla\n",
        "\n",
        "print(mergeSort([2,8,5,3,9,4,1,7]))"
      ],
      "execution_count": null,
      "outputs": [
        {
          "output_type": "stream",
          "text": [
            "[1, 2, 3, 4, 5, 7, 8, 9]\n"
          ],
          "name": "stdout"
        }
      ]
    },
    {
      "cell_type": "markdown",
      "metadata": {
        "id": "A8nU41pJRxKf"
      },
      "source": [
        "## ¿Qué sucede con colecciones de tamaño $n$?\n",
        "\n",
        "Dado el análisis (y el pseudocódigo del algoritmo) podemos ver que ordenar una colección de tamaño $n$ tomara $2T(\\frac{n}{2})+a\\cdot n$. Pero este valor aun no permite identificar a que orden de complejidad pertenece este algoritmo.\n",
        "\n",
        "Es por eso que necesitamos definir la función de recurrencia de la siguiente forma.\n",
        "\n",
        "Función de recurrencia para el algoritmo de ordenamiento *MergeSort*:\n",
        "\n",
        "$$T(n)=\\begin{cases}\n",
        "b & n=0\\,\\acute{o}\\,n=1\\\\\n",
        "2T(\\frac{n}{2})+a\\cdot n & n\\geq2\n",
        "\\end{cases} \\tag{1}$$\n",
        "\n",
        "A la función (1), se le conoce como la función de recurrencia asociada al algoritmo de ordenamiento *MergeSort*. Ya que conocemos la función de recurrencia podemos tratar de determinar de manera formal cuantas operaciones le toma a este algoritmo ordenar una colección de datos.\n"
      ]
    },
    {
      "cell_type": "markdown",
      "metadata": {
        "id": "iczZjvRuSCCk"
      },
      "source": [
        "## Demostración\n",
        "\n",
        "Esta demostración se sustenta en el análisis realizado previamene y en el [teorema maestro](https://es.wikipedia.org/wiki/Teorema_maestro).\n",
        "\n",
        "Sea $T(n)$ el numero de operaciones que le toma al algoritmo anterior ordenar una lista de tamaño $n$ y dada la función de recurrencia. \n",
        "\n",
        "P.D. $$T(n)=n\\cdot b+a\\cdot n\\cdot\\log_{2}n$$\n",
        "\n",
        "Para mayor claridad de la demostración definimos $n=2^{k}$\n",
        "\n",
        "$$\\begin{eqnarray*}\n",
        "T(n)\t& = &\tT(2^{k}) \\\\\n",
        "  & = & 2T(2^{k-1})+a\\cdot2^{k}....Definición\\\\\n",
        "  & = & 2(2T(2^{k-2})+a\\cdot2^{k-1})+a\\cdot2^{k}.....Leyes\\,exponentes\\,y\\,Función\\,recurrencia \\\\\n",
        "  & = & 2^{2}T(2^{k-2})+a\\cdot2^{k}+a\\cdot2^{k}.......Algebra\\,elemental\\\\\n",
        "\t& = & 2^{2}(2T(2^{k-3})+a\\cdot2^{k-2})+2\\cdot a\\cdot2^{k}.....Función\\,recurrencia\\\\ \n",
        "i-veces & \\vdots & \\\\\n",
        "\t& = & 2^{i}T(2^{k-i})+i\\cdot a\\cdot2^{k} \\\\\n",
        "i=k\t\t& \\vdots & \\\\\n",
        "\t& = & 2^{k}T(2^{k-k})+k\\cdot a\\cdot2^{k}......2^{k-k}=1 \\\\\n",
        "\t& = &\t2^{k}b+k\\cdot a\\cdot2^{k}........T(1)=b \\\\\n",
        "\t& = &\tn\\cdot b+k\\cdot a\\cdot n......n=2^{k} \\\\\n",
        "\t& = &\tn\\cdot \\color{red}b+ \\color{red}a\\cdot n\\cdot\\log_{2}n....(2) \\\\\n",
        "\\end{eqnarray*}$$\n",
        "\n"
      ]
    },
    {
      "cell_type": "markdown",
      "metadata": {
        "id": "7NJYrNzSSYxe"
      },
      "source": [
        "## Orden de complejidad (cota superior asintótica)\n",
        "\n",
        "Ya que $a$ y $b$ son constantes podemos concluir que de la ecuación (2), la función que 'crece' más rápido es \n",
        "\n",
        "$$a\\cdot n\\cdot\\log_{2}n$$\n",
        "\n",
        "Esa es la función que **acota superiormente el desempeño del algoritmo** *MergeSort*.\n",
        "\n",
        "Finalmente si asumimos que $a=c$, entonces se puede concluir que $T(n)\\in O(n\\cdot\\log_{2}n)$, es decir que el orden de complejidad al cual pertenece el algoritmo *MergeSort* es $n\\cdot\\log_{2}n$.\n",
        "\n",
        "En otras palabras podemos decir que el numero de operaciones que le toma a *MergeSort* ordenar una colección de tamaño $n$ es proporcional a $n\\cdot\\log_{2}n$.\n",
        "\n",
        "Esto significa (con sustento matemático) que *MergeSort* tiene un mejor desempeño que *InsertionSort, SeleccionSort* o *BubbleSort* en cuanto a la cantidad de operaciones (tiempo) que le toma ordenar una colección de datos.\n",
        "\n",
        "En otros términos podemos decir que si pusiéramos a competir (en términos de tiempo) a *MergeSort* contra, por ejemplo *BubbleSort*, el ganador seria *MergeSort*.\n"
      ]
    },
    {
      "cell_type": "markdown",
      "metadata": {
        "id": "qjDkvoF89_3n"
      },
      "source": [
        "# QuickSort\n",
        "\n",
        "Otro de los algoritmos que ha mostrado un desempeño muy bueno en términos de tiempo de ejecución es el algoritmo conocido como *QuickSort*.\n",
        " \n",
        "La forma en la que funciona *QuickSort* es muy similar a *MergeSort* en el sentido de que inicialmente se tiene un conjunto o estructura de datos (lista, vector, arreglo, etc) de tamaño $n$ que se encuentran desordenados y que mediante algún atributo podemos ordenar. La diferencia entre ambos algoritmos es que *QuickSort* se toma un **pivote** para poder acomodar a los menores y mayores. \n",
        "\n",
        "1.   Tomamos un valor de la lista de datos a ordenar (que idealmente parte a la colección a la mitad), a ese valor le llamamos pivote.\n",
        "2.   Una vez que se eligió al pivote, comparamos a todos los elementos contra el pivote y **almacenamos los menores al lado izquierdo del pivote y a los mayores del lado derecho** los cual nos deja 2 subconjuntos de tamaño $\\frac{n}2$.\n",
        "2.   Posteriormente volvemos a tomar un pivote en cada una de las respectivas subconjuntos, e idealmente volvemos a dividir estas en 4 subconjuntos de tamaño $\\frac{n}4$, se repite este proceso hasta que se tienen subconjuntos de tamaño 2.\n",
        "3.   Ya que se tienen conjuntos de tamaño a lo mas 2, se ordenan de manera individual cada uno de ellos.\n",
        "4.   Cada uno de estos subconjuntos ordenados se mezclan de manera recursiva y ordenada, hasta que todo el conjunto de datos se encuentran ordenados.\n",
        "\n",
        "<center>\n",
        "<img src=\"https://github.com/jugernaut/ProgramacionEnParalelo/blob/desarrollo/Imagenes/Introduccion/quicksort.jpg?raw=1\" width=\"550\">\n",
        "</center> "
      ]
    },
    {
      "cell_type": "markdown",
      "metadata": {
        "id": "gsxkxdZvznIp"
      },
      "source": [
        "## Análisis\n",
        "\n",
        "Para el caso cuando se requiere ordenar una colección (lista) de tamaño 1 (o 0 caso trivial), basta con devolver dicha lista ya que esta ya esta ordenada, lo cual toma tiempo constante, digamos $b$, podemos pensar que este valor $b$ **es el tiempo que le toma al microprocesador de propósito general ejecutar la instrucción** *return*.\n",
        "\n",
        "Para el caso de una colección de tamaño 2 ó mayor, es necesario partir a la mitad dicha colección, ordenar ambas subcolecciones y mezclarlas. Ahora consideremos que para simplificar el análisis de la complejidad diremos que $a$ es el **tiempo que toma al microprocesador realizar una operación lógica o aritmética**.\n",
        "\n",
        "Es por esto que ordenar una colección de tamaño $n$ tomará en total.\n",
        "\n",
        "$$2T(\\frac{n}{2})+a\\cdot n$$\n",
        "\n",
        "Similar al tiempo que le toma ordenar una colección al algoritmo MergeSort."
      ]
    },
    {
      "cell_type": "code",
      "metadata": {
        "id": "x1UrNM561WKo",
        "colab": {
          "base_uri": "https://localhost:8080/"
        },
        "outputId": "fd0baeee-05cc-4422-bc23-bc414446c5b5"
      },
      "source": [
        "# Definicion recursiva de quicksort\n",
        "def quickSort(lista):\n",
        "  # si la lista es de tamano 1 o menor se devuelve\n",
        "  if len(lista) < 2:\n",
        "    return lista\n",
        "  # en otro caso se parte la lista y se resuelve recursivamente\n",
        "  else:\n",
        "    # se parte la lista original (n operaciones)\n",
        "    menores, pivote, mayores = particion(lista) \n",
        "    # 2*T(n/2)\n",
        "    return quickSort(menores)+[pivote]+quickSort(mayores)\n",
        "\n",
        "# Definicion del algoritmo para partir una lista en mayores y menores\n",
        "def particion(lista):\n",
        "  mayores, menores = [], []\n",
        "  # pivote para realizar la comparación\n",
        "  pivote = lista[0]\n",
        "  for i in range(1,len(lista)):\n",
        "    if lista[i] < pivote:\n",
        "      menores.append(lista[i])\n",
        "    else:\n",
        "      mayores.append(lista[i])\n",
        "  # se devuelven ambas listas y el pivote\n",
        "  return menores, pivote, mayores\n",
        "\n",
        "print(quickSort([2,8,5,3,9,4,1,7]))"
      ],
      "execution_count": null,
      "outputs": [
        {
          "output_type": "stream",
          "text": [
            "[1, 2, 3, 4, 5, 7, 8, 9]\n"
          ],
          "name": "stdout"
        }
      ]
    },
    {
      "cell_type": "markdown",
      "metadata": {
        "id": "ou8sIl3O27CY"
      },
      "source": [
        "## Orden de complejidad (cota superior asintótica)\n",
        "\n",
        "Dado que la función de recurrencia de *QuickSort* es idéntica a la del algoritmo *MergeSort*, el orden de complejidad al que pertenece el algoritmo *QuickSort* es idéntico al de *MergeSort*, es decir $T(n)\\in O(n\\cdot\\log_{2}n)$.\n",
        "\n"
      ]
    },
    {
      "cell_type": "markdown",
      "metadata": {
        "id": "dTMtQcsc4QA8"
      },
      "source": [
        "# Ordenando Objetos\n",
        "\n",
        "Es importante notar que este y todos los algoritmos de ordenamiento vistos funcionan con cualquier objeto que sea ordenable (realizando las respectivas adecuaciones), es decir, con todo clase de objetos en la que podamos establecer un orden, por ejemplo: $\\mathbb{N},\\,\\mathbb{Z},\\,\\mathbb{Q},\\,\\mathbb{R}$, incluso con $\\mathbb{C}$ o elementos más complejos como vectores, matrices, palabras o todo aquello en lo que podamos establecer un orden."
      ]
    },
    {
      "cell_type": "markdown",
      "metadata": {
        "id": "pc6ND99T6HDA"
      },
      "source": [
        "## Ley de Amdahal\n",
        "\n",
        "Sea $f$ la fracción de operaciones en un calculo computacional que será llevado a cabo de manera secuencial, donde $0\\leq f\\leq1$. La máxima velocidad $\\Psi$ alcanzada mediante programación en paralelo con una computadora con $p$ procesadores enfocados en el mismo calculo es:\n",
        "\n",
        "$$\\Psi\\leq\\frac{1}{f+(1-f)/p}$$"
      ]
    },
    {
      "cell_type": "markdown",
      "metadata": {
        "id": "YHiyGAPySr_f"
      },
      "source": [
        "#Referencias\n",
        "\n",
        "1. Thomas H. Cormen: Introduction to Algorithms.\n",
        "2. Libro Web: [Introduccion a Python](https://uniwebsidad.com/libros/algoritmos-python/capitulo-20/cuanto-cuesta-el-merge-sort?from=librosweb).\n",
        "3. Daniel T. Joyce: Object-Oriented Data Structures.\n",
        "4. John C. Mitchell: Concepts in programing Languages."
      ]
    }
  ]
}