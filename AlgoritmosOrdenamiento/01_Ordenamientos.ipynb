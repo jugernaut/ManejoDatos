{
  "nbformat": 4,
  "nbformat_minor": 0,
  "metadata": {
    "colab": {
      "name": "Ordenamientos_SCP.ipynb",
      "provenance": [],
      "collapsed_sections": [],
      "toc_visible": true,
      "include_colab_link": true
    },
    "kernelspec": {
      "name": "python3",
      "display_name": "Python 3"
    }
  },
  "cells": [
    {
      "cell_type": "markdown",
      "metadata": {
        "id": "view-in-github",
        "colab_type": "text"
      },
      "source": [
        "<a href=\"https://colab.research.google.com/github/jugernaut/ManejoDatos/blob/main/AlgoritmosOrdenamiento/01_Ordenamientos.ipynb\" target=\"_parent\"><img src=\"https://colab.research.google.com/assets/colab-badge.svg\" alt=\"Open In Colab\"/></a>"
      ]
    },
    {
      "cell_type": "markdown",
      "metadata": {
        "id": "JAsbRnI2Mz94"
      },
      "source": [
        "<font color=\"Teal\" face=\"Comic Sans MS,arial\">\n",
        "  <h1 align=\"center\"><i>Algoritmos de Ordenamiento</i></h1>\n",
        "  </font>\n",
        "  <font color=\"Black\" face=\"Comic Sans MS,arial\">\n",
        "  <h5 align=\"center\"><i>Profesor: M.en.C. Miguel Angel Pérez León</i></h5>\n",
        "    <h5 align=\"center\"><i>Ayudante: Jesús Iván Coss Calderón</i></h5>\n",
        "  </font>"
      ]
    },
    {
      "cell_type": "markdown",
      "metadata": {
        "id": "Uf8-6ok_Q8I9"
      },
      "source": [
        "#Introducción\n",
        "\n",
        "Los algoritmos de ordenamiento son de los algoritmos que se comienzan a estudiar cuando uno se introduce en las **ciencias de la computación**.\n",
        "\n",
        "Estos algoritmos se prestan ampliamente para ser analizados desde diferentes puntos de vista, tales como:\n",
        "\n",
        "*   **Tiempo de ejecución**, que se refiere a la cantidad de operaciones (comparaciones, intercambios de memoria, etc.) que se realizan para ordenar una colección de datos.\n",
        "*   **Consumo de memoria**, esta parte se refiere a cuanta memoria adicional a la ya empleada para almacenar la colección de datos, se requiere para ordenar dicha colección\n",
        "*   **Desempeño estadístico**, se cuenta con una gran cantidad de algoritmos de ordenamiento y la idea es poder clasificarlos para identificar ventajas y desventajas de cada uno, es por esto que se analiza su desempeño de forma práctica, normalmente tomando como punto de partida el peor caso o el caso promedio.\n",
        "\n",
        "Los algoritmos de ordenamiento son utilizados actualmente en múltiples plataformas y aplicaciones, sin embargo donde se utilizan con con mayor frecuencia es en bases de datos. Y como ya es bien conocido las bases de datos aparecen hoy en día en todos lados:\n",
        "\n",
        "*   Buscadores como *Google*.\n",
        "*   Redes sociales, *Facebook*, *Twitter*, etc.\n",
        "*   Plataformas bancarias.\n",
        "*   Sistemas médicos.\n",
        "\n",
        "Es por estos (y muchos otros) motivos por los cuáles es buena idea analizar este tipo de algoritmos en el curso."
      ]
    },
    {
      "cell_type": "markdown",
      "metadata": {
        "id": "Z2HsvTi77D9Y"
      },
      "source": [
        "# Ordenamiento por selección *(InsertionSort)*\n",
        "\n",
        "Este es uno de los algoritmos básicos y más sencillos de entender ya que funciona de manera similar a la forma en la que ordenamos un conjunto de libros, maso de cartas o cualquier elemento que pueda ser ordenado, ya que consiste en ir insertando cada uno de los elementos en su posición adecuada."
      ]
    },
    {
      "cell_type": "markdown",
      "metadata": {
        "id": "QpBGsSnzV92u"
      },
      "source": [
        "## Descripción\n",
        "\n",
        "1.   Comenzamos con un solo elemento (del conjunto a ordenar), por lo tanto asumimos que ese elemento ya se encuentra en la posición correcta.\n",
        "2.   Posteriormente ya que se tienen $k$ elementos ordenados tomamos al elemento $k+1$, lo comparamos con todos los elementos ya ordenados y se identifica la posición en la que debe insertarse este elemento.\n",
        "3.   Se inserta el elemento $k+1$ en la posición correspondiente y el resto de elementos se desplazan un lugar.\n",
        "4.   Una vez que se ha repetido este proceso con todos los elementos a ordenar, podemos garantizar que el conjunto ya ha sido ordenado.\n",
        "\n",
        "<center>\n",
        "<img src=\"https://github.com/jugernaut/ManejoDatos/blob/desarrollo/Imagenes/AlgoritmosOrdenamiento/insertion.gif?raw=1\" width=\"550\">\n",
        "</center> \n",
        "\n",
        "Una vez que se comprendió el funcionamiento del algoritmo, sería buena idea plantearnos un par de preguntas, ¿cúal es su implementación en *python*?, ¿cúal es el peor caso para este algoritmo? y ¿a qué orden de complejidad pertenece este algoritmo?."
      ]
    },
    {
      "cell_type": "markdown",
      "metadata": {
        "id": "H9hke1e7YzJW"
      },
      "source": [
        "## Pseudocódigo\n",
        "\n",
        "El pseudocódigo de este algoritmo se vería de la siguiente forma\n",
        "\n",
        "<center>\n",
        "<img src=\"https://github.com/jugernaut/ManejoDatos/blob/desarrollo/Imagenes/AlgoritmosOrdenamiento/pseudoinsertion.png?raw=1\" width=\"550\">\n",
        "</center> "
      ]
    },
    {
      "cell_type": "markdown",
      "metadata": {
        "id": "mlm6KfnURLCA"
      },
      "source": [
        "## Análisis (sobre el tiempo de ejecución)\n",
        "\n",
        "Para llevar a cabo el análisis de la complejidad de este algoritmo, primero es necesario responder la pregunta **¿cuál es el peor caso para este algoritmo?**, es decir, en qué situación a este algoritmo le tomaría el mayor número de operaciones para ordenar el conjunto.\n",
        "\n",
        "Pensemos lo siguiente, si el conjunto a ordenar ya se encuentra ordenado entonces este algoritmo ya no realiza operación alguna, por lo tanto este es el \"mejor\" caso para este algoritmo.\n",
        "\n",
        "Ahora, si la mitad de elementos ya se encuentran ordenados de mayor a menor, y el resto de los elementos a ordenar se encuentran ordenados de menor a mayor, es decir en **orden inverso**, dada la naturaleza de este algoritmo, cada uno de estos elementos ordenados de manera inversa tiene que recorrer todos y cada uno de los elementos ordenados.\n",
        "\n",
        "Finalmete, si todo el conjunto a ordenar se encuentra ordenado de manera inversa a como se busca, este algoritmo alcanza el máximo número de operaciones a realizar, es decir, **el peor caso**.\n",
        "\n",
        "Una vez identificado el peor caso, ahora veamos que sucede conforme el tamaño del conjunto a ordenar crece, en otras palabras, ¿qué sucede con $T(n)$, conforme incrementamos $n$?.\n",
        "\n"
      ]
    },
    {
      "cell_type": "markdown",
      "metadata": {
        "id": "eEEEkd74Ra-s"
      },
      "source": [
        "## Número de operaciones\n",
        "\n",
        "El caso trivial es cuando $n\\leq1$, en este caso el agoritmo no realiza operación alguna solo se devuelve el mismo conjunto, por lo tanto $T(1)=0$\n",
        "\n",
        "Supongamos que tenemos un conjunto de 2 elementos a ordenar, es decir $n=2$ y además estos elementos se encuetran en orden inverso. De acuerdo a la definición de este algoritmo, el primer elemento, digamos el elemento $k$ ya se encuentra en su posición y no hace falta realizar operación alguna, sin embargo el segundo elemento ($k+1$) tiene que compararse con el elemento $k$ y ademas recorrerlo una posicón a la derecha, finalmente se devuelve el conjunto orenado, por lo tanto $T(2)=1$.\n",
        "\n",
        "Para el caso en el que $n=3$ se presenta el caso $T(2)$ ya que tenemos que ordenar los 2 primeros elementos del conjunto y además tenemos que comparar al elemento $k+3$ contra todos los ya ordenados y ademas recorrer a todos los elementos ordenados previamente, por lo tanto $T(3)=T(2)+2=1+2=3$.\n",
        "\n",
        "Cuando $n=4$ se presenta el caso $T(3)$ ya que tenemos que ordenar los 3 primeros elementos del conjunto y además tenemos que comparar al elemento $k+4$ contra todos los ya ordenados y ademas recorrer a todos los elementos ordenados previamente, por lo tanto $T(4)=T(3)+3=3+3=6$.\n",
        "\n",
        "Si pensamos que el conjunto contiene $n$ elementos ordenados de manera inversa, entonces el tiempo (número de operaciones) que le tomará a este algorimto ordenar el conjunto está dada por la expresión recursiva.\n",
        "\n",
        "$$T(n)=T(n-1)+n-1$$\n",
        "\n",
        "O si lo prefieres ver de otra forma.\n",
        "\n",
        "$$1+2+3+\\cdots+n-1$$\n",
        "\n",
        "En forma compacta esa serie se ve de la siguiente forma.\n",
        "\n",
        "$$\\sum_{i=1}^{n-1}i$$\n",
        "\n",
        "A esta serie se le conoce como la suma de los primeros $n-1$ números naturales y tiende al valor.\n",
        "\n",
        "$$T(n)=1+2+3+\\cdots+n-1=\\sum_{i=1}^{n-1}i=\\frac{n(n-1)}{2}\\tag{1}$$\n",
        "\n",
        "Visto de otra forma la ecuación (1) la podemos ver de esta forma.\n",
        "\n",
        "$$\\frac{n(n-1)}{2}=\\frac{n²-n}{2}=\\frac{n²}{2}-\\frac{n}{2}\\tag{2}$$\n",
        "\n",
        "De la ecuación (2) la expresión que crece de manera más rápida es $\\frac{n²}{2}$, de tal manera que basta con acotar esta función para encontrar la cota superior asintótica de este algoritmo, ademas.\n",
        "\n",
        "$$\\frac{n²}{2}=\\frac{1}{2}n²$$\n",
        "\n",
        "Por lo tanto, ada la definición de Complejidad Computacional y en particular de Cota Superior Asintótica, y considerando que $c=\\frac{1}{2}$ y $g(n)=n²$ podemos concluir que.\n",
        "\n",
        "$$T(n)\\in n^{2}$$\n",
        "\n",
        "En otras palabras, **el algoritmo InsertionSort pertenece al orden de complejidad cuadrático**, respecto al tiempo o número de operaciones.\n"
      ]
    },
    {
      "cell_type": "markdown",
      "metadata": {
        "id": "A8nU41pJRxKf"
      },
      "source": [
        "## ¿Qué sucede con colecciones de tamaño $n$?\n",
        "\n",
        "Dado el análisis (y el pseudocódigo del algoritmo) podemos ver que ordenar una colección de tamaño $n$ tomara $2T(\\frac{n}{2})+a\\cdot n$. Pero este valor aun no permite identificar a que orden de complejidad pertenece este algoritmo.\n",
        "\n",
        "Es por eso que necesitamos definir la función de recurrencia de la siguiente forma.\n",
        "\n",
        "Función de recurrencia para el algoritmo de ordenamiento *MergeSort*:\n",
        "\n",
        "$$T(n)=\\begin{cases}\n",
        "b & n=0\\,\\acute{o}\\,n=1\\\\\n",
        "2T(\\frac{n}{2})+a\\cdot n & n\\geq2\n",
        "\\end{cases} \\tag{1}$$\n",
        "\n",
        "A la función (1), se le conoce como la función de recurrencia asociada al algoritmo de ordenamiento *MergeSort*. Ya que conocemos la función de recurrencia podemos tratar de determinar de manera formal cuantas operaciones le toma a este algoritmo ordenar una colección de datos.\n"
      ]
    },
    {
      "cell_type": "markdown",
      "metadata": {
        "id": "iczZjvRuSCCk"
      },
      "source": [
        "## Demostración\n",
        "\n",
        "Esta demostración se sustenta en el análisis realizado previamene y en el [teorema maestro](https://es.wikipedia.org/wiki/Teorema_maestro).\n",
        "\n",
        "Sea $T(n)$ el numero de operaciones que le toma al algoritmo anterior ordenar una lista de tamaño $n$ y dada la función de recurrencia. \n",
        "\n",
        "P.D. $$T(n)=n\\cdot b+a\\cdot n\\cdot\\log_{2}n$$\n",
        "\n",
        "Para mayor claridad de la demostración definimos $n=2^{k}$\n",
        "\n",
        "$$\\begin{eqnarray*}\n",
        "T(n)\t& = &\tT(2^{k}) \\\\\n",
        "  & = & 2T(2^{k-1})+a\\cdot2^{k}....Definición\\\\\n",
        "  & = & 2(2T(2^{k-2})+a\\cdot2^{k-1})+a\\cdot2^{k}.....Leyes\\,exponentes\\,y\\,Función\\,recurrencia \\\\\n",
        "  & = & 2^{2}T(2^{k-2})+a\\cdot2^{k}+a\\cdot2^{k}.......Algebra\\,elemental\\\\\n",
        "\t& = & 2^{2}(2T(2^{k-3})+a\\cdot2^{k-2})+2\\cdot a\\cdot2^{k}.....Función\\,recurrencia\\\\ \n",
        "i-veces & \\vdots & \\\\\n",
        "\t& = & 2^{i}T(2^{k-i})+i\\cdot a\\cdot2^{k} \\\\\n",
        "i=k\t\t& \\vdots & \\\\\n",
        "\t& = & 2^{k}T(2^{k-k})+k\\cdot a\\cdot2^{k}......2^{k-k}=1 \\\\\n",
        "\t& = &\t2^{k}b+k\\cdot a\\cdot2^{k}........T(1)=b \\\\\n",
        "\t& = &\tn\\cdot b+k\\cdot a\\cdot n......n=2^{k} \\\\\n",
        "\t& = &\tn\\cdot \\color{red}b+ \\color{red}a\\cdot n\\cdot\\log_{2}n....(2) \\\\\n",
        "\\end{eqnarray*}$$\n",
        "\n"
      ]
    },
    {
      "cell_type": "markdown",
      "metadata": {
        "id": "7NJYrNzSSYxe"
      },
      "source": [
        "## Orden de complejidad (cota superior asintótica)\n",
        "\n",
        "Ya que $a$ y $b$ son constantes podemos concluir que de la ecuación (2), la función que 'crece' más rápido es \n",
        "\n",
        "$$a\\cdot n\\cdot\\log_{2}n$$\n",
        "\n",
        "Esa es la función que **acota superiormente el desempeño del algoritmo** *MergeSort*.\n",
        "\n",
        "Finalmente si asumimos que $a=c$, entonces se puede concluir que $T(n)\\in O(n\\cdot\\log_{2}n)$, es decir que el orden de complejidad al cual pertenece el algoritmo *MergeSort* es $n\\cdot\\log_{2}n$.\n",
        "\n",
        "En otras palabras podemos decir que el numero de operaciones que le toma a *MergeSort* ordenar una colección de tamaño $n$ es proporcional a $n\\cdot\\log_{2}n$.\n",
        "\n",
        "Esto significa (con sustento matemático) que *MergeSort* tiene un mejor desempeño que *InsertionSort, SeleccionSort* o *BubbleSort* en cuanto a la cantidad de operaciones (tiempo) que le toma ordenar una colección de datos.\n",
        "\n",
        "En otros términos podemos decir que si pusiéramos a competir (en términos de tiempo) a *MergeSort* contra, por ejemplo *BubbleSort*, el ganador seria *MergeSort*.\n"
      ]
    },
    {
      "cell_type": "markdown",
      "metadata": {
        "id": "qjDkvoF89_3n"
      },
      "source": [
        "# *InsertionSort*\n",
        "\n",
        "Otro de los algoritmos que ha mostrado un desempeño muy bueno en términos de tiempo de ejecución es el algoritmo conocido como *QuickSort*.\n",
        " \n",
        "La forma en la que funciona *QuickSort* es muy similar a *MergeSort* en el sentido de que inicialmente se tiene un conjunto o estructura de datos (lista, vector, arreglo, etc) de tamaño $n$ que se encuentran desordenados y que mediante algún atributo podemos ordenar. La diferencia entre ambos algoritmos es que *QuickSort* se toma un **pivote** para poder acomodar a los menores y mayores. \n",
        "\n",
        "1.   Tomamos un valor de la lista de datos a ordenar (que idealmente parte a la colección a la mitad), a ese valor le llamamos pivote.\n",
        "2.   Una vez que se eligió al pivote, comparamos a todos los elementos contra el pivote y **almacenamos los menores al lado izquierdo del pivote y a los mayores del lado derecho** los cual nos deja 2 subconjuntos de tamaño $\\frac{n}2$.\n",
        "2.   Posteriormente volvemos a tomar un pivote en cada una de las respectivas subconjuntos, e idealmente volvemos a dividir estas en 4 subconjuntos de tamaño $\\frac{n}4$, se repite este proceso hasta que se tienen subconjuntos de tamaño 2.\n",
        "3.   Ya que se tienen conjuntos de tamaño a lo mas 2, se ordenan de manera individual cada uno de ellos.\n",
        "4.   Cada uno de estos subconjuntos ordenados se mezclan de manera recursiva y ordenada, hasta que todo el conjunto de datos se encuentran ordenados.\n",
        "\n",
        "<center>\n",
        "<img src=\"https://github.com/jugernaut/ProgramacionEnParalelo/blob/desarrollo/Imagenes/Introduccion/quicksort.jpg?raw=1\" width=\"550\">\n",
        "</center> "
      ]
    },
    {
      "cell_type": "markdown",
      "metadata": {
        "id": "gsxkxdZvznIp"
      },
      "source": [
        "## Análisis\n",
        "\n",
        "Para el caso cuando se requiere ordenar una colección (lista) de tamaño 1 (o 0 caso trivial), basta con devolver dicha lista ya que esta ya esta ordenada, lo cual toma tiempo constante, digamos $b$, podemos pensar que este valor $b$ **es el tiempo que le toma al microprocesador de propósito general ejecutar la instrucción** *return*.\n",
        "\n",
        "Para el caso de una colección de tamaño 2 ó mayor, es necesario partir a la mitad dicha colección, ordenar ambas subcolecciones y mezclarlas. Ahora consideremos que para simplificar el análisis de la complejidad diremos que $a$ es el **tiempo que toma al microprocesador realizar una operación lógica o aritmética**.\n",
        "\n",
        "Es por esto que ordenar una colección de tamaño $n$ tomará en total.\n",
        "\n",
        "$$2T(\\frac{n}{2})+a\\cdot n$$\n",
        "\n",
        "Similar al tiempo que le toma ordenar una colección al algoritmo MergeSort."
      ]
    },
    {
      "cell_type": "code",
      "metadata": {
        "id": "x1UrNM561WKo",
        "colab": {
          "base_uri": "https://localhost:8080/"
        },
        "outputId": "fd0baeee-05cc-4422-bc23-bc414446c5b5"
      },
      "source": [
        "# Definicion recursiva de quicksort\n",
        "def quickSort(lista):\n",
        "  # si la lista es de tamano 1 o menor se devuelve\n",
        "  if len(lista) < 2:\n",
        "    return lista\n",
        "  # en otro caso se parte la lista y se resuelve recursivamente\n",
        "  else:\n",
        "    # se parte la lista original (n operaciones)\n",
        "    menores, pivote, mayores = particion(lista) \n",
        "    # 2*T(n/2)\n",
        "    return quickSort(menores)+[pivote]+quickSort(mayores)\n",
        "\n",
        "# Definicion del algoritmo para partir una lista en mayores y menores\n",
        "def particion(lista):\n",
        "  mayores, menores = [], []\n",
        "  # pivote para realizar la comparación\n",
        "  pivote = lista[0]\n",
        "  for i in range(1,len(lista)):\n",
        "    if lista[i] < pivote:\n",
        "      menores.append(lista[i])\n",
        "    else:\n",
        "      mayores.append(lista[i])\n",
        "  # se devuelven ambas listas y el pivote\n",
        "  return menores, pivote, mayores\n",
        "\n",
        "print(quickSort([2,8,5,3,9,4,1,7]))"
      ],
      "execution_count": null,
      "outputs": [
        {
          "output_type": "stream",
          "text": [
            "[1, 2, 3, 4, 5, 7, 8, 9]\n"
          ],
          "name": "stdout"
        }
      ]
    },
    {
      "cell_type": "markdown",
      "metadata": {
        "id": "ou8sIl3O27CY"
      },
      "source": [
        "## Orden de complejidad (cota superior asintótica)\n",
        "\n",
        "Dado que la función de recurrencia de *QuickSort* es idéntica a la del algoritmo *MergeSort*, el orden de complejidad al que pertenece el algoritmo *QuickSort* es idéntico al de *MergeSort*, es decir $T(n)\\in O(n\\cdot\\log_{2}n)$.\n",
        "\n"
      ]
    },
    {
      "cell_type": "markdown",
      "metadata": {
        "id": "dTMtQcsc4QA8"
      },
      "source": [
        "# *BubbleSort*\n",
        "\n",
        "Existen muchas restricciones y detalles a tomar en cuenta antes de comenzar con el análisis de algoritmos en paralelo, si embargo una de las más importantes es la ley de Amdahal."
      ]
    },
    {
      "cell_type": "markdown",
      "metadata": {
        "id": "YHiyGAPySr_f"
      },
      "source": [
        "#Referencias\n",
        "\n",
        "1. Thomas H. Cormen: Introduction to Algorithms.\n",
        "2. Libro Web: [Introduccion a Python](https://uniwebsidad.com/libros/algoritmos-python/capitulo-20/cuanto-cuesta-el-merge-sort?from=librosweb).\n",
        "3. Daniel T. Joyce: Object-Oriented Data Structures.\n",
        "4. John C. Mitchell: Concepts in programing Languages."
      ]
    }
  ]
}
