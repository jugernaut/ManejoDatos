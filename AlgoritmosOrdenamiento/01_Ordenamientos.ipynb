{
  "nbformat": 4,
  "nbformat_minor": 0,
  "metadata": {
    "colab": {
      "name": "Ordenamientos_SCP.ipynb",
      "provenance": [],
      "collapsed_sections": [],
      "toc_visible": true,
      "include_colab_link": true
    },
    "kernelspec": {
      "name": "python3",
      "display_name": "Python 3"
    }
  },
  "cells": [
    {
      "cell_type": "markdown",
      "metadata": {
        "id": "view-in-github",
        "colab_type": "text"
      },
      "source": [
        "<a href=\"https://colab.research.google.com/github/jugernaut/ManejoDatos/blob/desarrollo/AlgoritmosOrdenamiento/01_Ordenamientos.ipynb\" target=\"_parent\"><img src=\"https://colab.research.google.com/assets/colab-badge.svg\" alt=\"Open In Colab\"/></a>"
      ]
    },
    {
      "cell_type": "markdown",
      "metadata": {
        "id": "JAsbRnI2Mz94"
      },
      "source": [
        "<font color=\"Teal\" face=\"Comic Sans MS,arial\">\n",
        "  <h1 align=\"center\"><i>Algoritmos de Ordenamiento</i></h1>\n",
        "  </font>\n",
        "  <font color=\"Black\" face=\"Comic Sans MS,arial\">\n",
        "  <h5 align=\"center\"><i>Profesor: M.en.C. Miguel Angel Pérez León</i></h5>\n",
        "    <h5 align=\"center\"><i>Ayudante: Jesús Iván Coss Calderón</i></h5>\n",
        "  </font>"
      ]
    },
    {
      "cell_type": "markdown",
      "metadata": {
        "id": "Uf8-6ok_Q8I9"
      },
      "source": [
        "#Introducción\n",
        "\n",
        "Los algoritmos de ordenamiento son de los algoritmos que se comienzan a estudiar cuando uno se introduce en las **ciencias de la computación**.\n",
        "\n",
        "Estos algoritmos se prestan ampliamente para ser analizados desde diferentes puntos de vista, tales como:\n",
        "\n",
        "*   **Tiempo de ejecución**, que se refiere a la cantidad de operaciones (comparaciones, intercambios de memoria, etc.) que se realizan para ordenar una colección de datos.\n",
        "*   **Consumo de memoria**, esta parte se refiere a cuanta memoria adicional a la ya empleada para almacenar la colección de datos, se requiere para ordenar dicha colección\n",
        "*   **Desempeño estadístico**, se cuenta con una gran cantidad de algoritmos de ordenamiento y la idea es poder clasificarlos para identificar ventajas y desventajas de cada uno, es por esto que se analiza su desempeño de forma práctica, normalmente tomando como punto de partida el peor caso o el caso promedio.\n",
        "\n",
        "Los algoritmos de ordenamiento son utilizados actualmente en múltiples plataformas y aplicaciones, sin embargo donde se utilizan con con mayor frecuencia es en bases de datos. Y como ya es bien conocido las bases de datos aparecen hoy en día en todos lados:\n",
        "\n",
        "*   Buscadores como *Google*.\n",
        "*   Redes sociales, *Facebook*, *Twitter*, etc.\n",
        "*   Plataformas bancarias.\n",
        "*   Sistemas médicos.\n",
        "\n",
        "Es por estos (y muchos otros) motivos por los cuáles es buena idea analizar este tipo de algoritmos en el curso."
      ]
    },
    {
      "cell_type": "markdown",
      "metadata": {
        "id": "Z2HsvTi77D9Y"
      },
      "source": [
        "# Ordenamiento por inserción *(InsertionSort)*\n",
        "\n",
        "Este es uno de los algoritmos básicos y más sencillos de entender ya que funciona de manera similar a la forma en la que ordenamos un conjunto de libros, maso de cartas o cualquier elemento que pueda ser ordenado, ya que consiste en ir insertando cada uno de los elementos en su posición adecuada."
      ]
    },
    {
      "cell_type": "markdown",
      "metadata": {
        "id": "QpBGsSnzV92u"
      },
      "source": [
        "## Descripción\n",
        "\n",
        "1.   Comenzamos con un solo elemento (del conjunto a ordenar), por lo tanto asumimos que ese elemento ya se encuentra en la posición correcta.\n",
        "2.   Posteriormente ya que se tienen $k$ elementos ordenados tomamos al elemento $k+1$, lo comparamos con todos los elementos ya ordenados y se identifica la posición en la que debe insertarse este elemento.\n",
        "3.   Se inserta el elemento $k+1$ en la posición correspondiente y el resto de elementos se desplazan un lugar.\n",
        "4.   Una vez que se ha repetido este proceso con todos los elementos a ordenar, podemos garantizar que el conjunto ya ha sido ordenado.\n",
        "\n",
        "<center>\n",
        "<img src=\"https://github.com/jugernaut/ManejoDatos/blob/desarrollo/Imagenes/AlgoritmosOrdenamiento/insertion.gif?raw=1\" width=\"550\">\n",
        "</center> \n",
        "\n",
        "Una vez que se comprendió el funcionamiento del algoritmo, sería buena idea plantearnos un par de preguntas, ¿cúal es su implementación en *python*?, ¿cúal es el peor caso para este algoritmo? y ¿a qué orden de complejidad pertenece este algoritmo?."
      ]
    },
    {
      "cell_type": "markdown",
      "metadata": {
        "id": "H9hke1e7YzJW"
      },
      "source": [
        "## Pseudocódigo\n",
        "\n",
        "El pseudocódigo de este algoritmo se vería de la siguiente forma\n",
        "\n",
        "<center>\n",
        "<img src=\"https://github.com/jugernaut/ManejoDatos/blob/desarrollo/Imagenes/AlgoritmosOrdenamiento/pseudoinsertion.png?raw=1\" width=\"550\">\n",
        "</center> "
      ]
    },
    {
      "cell_type": "markdown",
      "metadata": {
        "id": "mlm6KfnURLCA"
      },
      "source": [
        "## Análisis (sobre el tiempo de ejecución)\n",
        "\n",
        "Para llevar a cabo el análisis de la complejidad de este algoritmo, primero es necesario responder la pregunta **¿cuál es el peor caso para este algoritmo?**, es decir, en qué situación a este algoritmo le tomaría el mayor número de operaciones (intercambios) para ordenar el conjunto.\n",
        "\n",
        "Pensemos lo siguiente, si el conjunto a ordenar ya se encuentra ordenado entonces este algoritmo ya no realiza operación alguna, por lo tanto este es el \"mejor\" caso para este algoritmo.\n",
        "\n",
        "Ahora, si la mitad de elementos ya se encuentran ordenados de mayor a menor, y el resto de los elementos a ordenar se encuentran ordenados de menor a mayor, es decir en **orden inverso**, dada la naturaleza de este algoritmo, cada uno de estos elementos ordenados de manera inversa tiene que recorrer todos y cada uno de los elementos ordenados.\n",
        "\n",
        "Finalmete, si todo el conjunto a ordenar se encuentra ordenado de manera inversa a como se busca, este algoritmo alcanza el máximo número de operaciones a realizar, es decir, **el peor caso**.\n",
        "\n",
        "Una vez identificado el peor caso, ahora veamos que sucede conforme el tamaño del conjunto a ordenar crece, en otras palabras, ¿qué sucede con $T(n)$, conforme incrementamos $n$?.\n",
        "\n"
      ]
    },
    {
      "cell_type": "markdown",
      "metadata": {
        "id": "eEEEkd74Ra-s"
      },
      "source": [
        "### Número de operaciones\n",
        "\n",
        "El caso trivial es cuando $n\\leq1$, en este caso el agoritmo no realiza operación alguna solo se devuelve el mismo conjunto, por lo tanto $T(1)=0$\n",
        "\n",
        "Supongamos que tenemos un conjunto de 2 elementos a ordenar, es decir $n=2$ y además estos elementos se encuetran en orden inverso. De acuerdo a la definición de este algoritmo, el primer elemento, digamos el elemento $k$ ya se encuentra en su posición y no hace falta realizar operación alguna, sin embargo el segundo elemento ($k+1$) tiene que compararse con el elemento $k$ y ademas recorrerlo una posicón a la derecha, finalmente se devuelve el conjunto orenado, por lo tanto $T(2)=1$.\n",
        "\n",
        "Para el caso en el que $n=3$ se presenta el caso $T(2)$ ya que tenemos que ordenar los 2 primeros elementos del conjunto y además tenemos que comparar al elemento $k+3$ contra todos los ya ordenados y ademas recorrer a todos los elementos ordenados previamente, por lo tanto $T(3)=T(2)+2=1+2=3$.\n",
        "\n",
        "Cuando $n=4$ se presenta el caso $T(3)$ ya que tenemos que ordenar los 3 primeros elementos del conjunto y además tenemos que comparar al elemento $k+4$ contra todos los ya ordenados y ademas recorrer a todos los elementos ordenados previamente, por lo tanto $T(4)=T(3)+3=3+3=6$.\n",
        "\n",
        "Si pensamos que el conjunto contiene $n$ elementos ordenados de manera inversa, entonces el tiempo (número de operaciones) que le tomará a este algorimto ordenar el conjunto está dada por la expresión recursiva.\n",
        "\n",
        "$$T(n)=T(n-1)+n-1$$\n",
        "\n",
        "O si lo prefieres ver de otra forma.\n",
        "\n",
        "$$1+2+3+\\cdots+n-1$$\n",
        "\n",
        "En forma compacta esa serie se ve de la siguiente forma.\n",
        "\n",
        "$$\\sum_{i=1}^{n-1}i$$\n",
        "\n",
        "A esta serie se le conoce como la suma de los primeros $n-1$ números naturales y tiende al valor.\n",
        "\n",
        "$$T(n)=1+2+3+\\cdots+n-1=\\sum_{i=1}^{n-1}i=\\frac{n(n-1)}{2}\\tag{1}$$\n",
        "\n",
        "Para una mejor comprensión del tema de series, revisar este [enlace](https://colab.research.google.com/github/jugernaut/Prometeo/blob/master/01_Calculo/06_Series/01_Series.ipynb).\n",
        "\n",
        "Visto de otra forma la ecuación (1) la podemos ver de esta forma.\n",
        "\n",
        "$$\\frac{n(n-1)}{2}=\\frac{n²-n}{2}=\\frac{n²}{2}-\\frac{n}{2}\\tag{2}$$\n",
        "\n",
        "De la ecuación (2) la expresión que crece de manera más rápida es $\\frac{n²}{2}$, de tal manera que basta con acotar esta función para encontrar la cota superior asintótica de este algoritmo, ademas.\n",
        "\n",
        "$$\\frac{n²}{2}=\\frac{1}{2}n²$$\n",
        "\n",
        "Por lo tanto, dada la definición de Complejidad Computacional, en particular la definición de **Cota Superior Asintótica** y considerando que $c=\\frac{1}{2}$ y $g(n)=n²$ podemos concluir que.\n",
        "\n",
        "$$T(n)\\in n^{2}$$\n",
        "\n",
        "En otras palabras, **el algoritmo InsertionSort pertenece al orden de complejidad cuadrático**, respecto al tiempo o número de operaciones.\n"
      ]
    },
    {
      "cell_type": "markdown",
      "metadata": {
        "id": "qjDkvoF89_3n"
      },
      "source": [
        "# Ordenamiento por selección *(SelectionSort)*\n",
        "\n",
        "Otro de los algoritmos básicos para ordenar un conjunto de elementos es el conocido como SelectionSort o ordenamiento por selección.\n",
        "\n",
        "La idea de este algoritmo, es recorrer el conjunto de elementos a ordenar y tomarse el menor (o el mayor dependiendo del orden que se busque), una vez identificado el menor se recorre a la primera posición de la lista o conjunto a ordenar, se busca el siguiente menor y se repite el proceso colocandolo en la segunda posición de la lista. Y se repite el proceso hasta ordenar el conjunto completo."
      ]
    },
    {
      "cell_type": "markdown",
      "metadata": {
        "id": "-k6-nVk66B-y"
      },
      "source": [
        "## Descripción\n",
        "\n",
        "1.   Comenzamos la colección desordenada, recorremos toda la lista y seleccionamos al menor (o mayor) elemento de la colección.\n",
        "2.   Lo colocamos en la primera posición de la lista y el resto de elementos se recorren un lugar a la derecha.\n",
        "3.   Se repite el paso 1, pero comenzando desde la segunda posición de la lista e insertando el siguiente menor elemento, a la derecha del primer elemento.\n",
        "4.   Una vez que se llega hasta el último elemento podemos asegurar que este es el máximo de la colección y ya se encuentra en su posicón correcta por lo que la colección ya fue ordenada.\n",
        "\n",
        "<center>\n",
        "<img src=\"https://github.com/jugernaut/ManejoDatos/blob/desarrollo/Imagenes/AlgoritmosOrdenamiento/selection.gif?raw=1\" width=\"550\">\n",
        "</center>  \n",
        "\n",
        "De igual manera que con el algoritmo anterior, sería buena idea plantearnos un par de preguntas, ¿cúal es su implementación en *python*?, ¿cúal es el peor caso para este algoritmo? y ¿a qué orden de complejidad pertenece este algoritmo?."
      ]
    },
    {
      "cell_type": "markdown",
      "metadata": {
        "id": "20QxqYK1678F"
      },
      "source": [
        "## Pseudocódigo\n",
        "\n",
        "El pseudocódigo de este algoritmo se vería de la siguiente forma\n",
        "\n",
        "<center>\n",
        "<img src=\"https://github.com/jugernaut/ManejoDatos/blob/desarrollo/Imagenes/AlgoritmosOrdenamiento/pseudoselec.png?raw=1\" width=\"550\">\n",
        "</center> "
      ]
    },
    {
      "cell_type": "markdown",
      "metadata": {
        "id": "gsxkxdZvznIp"
      },
      "source": [
        "## Análisis\n",
        "\n",
        "Se deja como ejercicio al lector."
      ]
    },
    {
      "cell_type": "markdown",
      "metadata": {
        "id": "ou8sIl3O27CY"
      },
      "source": [
        "## Orden de complejidad (cota superior asintótica)\n",
        "\n",
        "P.D. $T(n)\\in O(¿¿??)$.\n",
        "\n"
      ]
    },
    {
      "cell_type": "markdown",
      "metadata": {
        "id": "dTMtQcsc4QA8"
      },
      "source": [
        "# *BubbleSort*\n",
        "\n",
        "Existen muchas restricciones y detalles a tomar en cuenta antes de comenzar con el análisis de algoritmos en paralelo, si embargo una de las más importantes es la ley de Amdahal."
      ]
    },
    {
      "cell_type": "markdown",
      "metadata": {
        "id": "YHiyGAPySr_f"
      },
      "source": [
        "#Referencias\n",
        "\n",
        "1. Thomas H. Cormen: Introduction to Algorithms.\n",
        "2. Libro Web: [Introduccion a Python](https://uniwebsidad.com/libros/algoritmos-python/capitulo-20/cuanto-cuesta-el-merge-sort?from=librosweb).\n",
        "3. Daniel T. Joyce: Object-Oriented Data Structures.\n",
        "4. John C. Mitchell: Concepts in programing Languages."
      ]
    }
  ]
}