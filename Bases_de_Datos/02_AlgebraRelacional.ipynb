{
  "nbformat": 4,
  "nbformat_minor": 0,
  "metadata": {
    "colab": {
      "name": "02_AlgebraRelacional.ipynb",
      "provenance": [],
      "toc_visible": true,
      "include_colab_link": true
    },
    "kernelspec": {
      "name": "python3",
      "display_name": "Python 3"
    },
    "language_info": {
      "name": "python"
    }
  },
  "cells": [
    {
      "cell_type": "markdown",
      "metadata": {
        "id": "view-in-github",
        "colab_type": "text"
      },
      "source": [
        "<a href=\"https://colab.research.google.com/github/jugernaut/ManejoDatos/blob/desarrollo/Bases_de_Datos/02_AlgebraRelacional.ipynb\" target=\"_parent\"><img src=\"https://colab.research.google.com/assets/colab-badge.svg\" alt=\"Open In Colab\"/></a>"
      ]
    },
    {
      "cell_type": "markdown",
      "metadata": {
        "id": "wBGQJF8IxoLG"
      },
      "source": [
        "<font color=\"Teal\" face=\"Comic Sans MS,arial\">\n",
        "  <h1 align=\"center\"><i>Algebra Relacional</i></h1>\n",
        "  </font>\n",
        "  <font color=\"Black\" face=\"Comic Sans MS,arial\">\n",
        "  <h5 align=\"center\"><i>Profesor: M. en C. Miguel Angel Pérez León</i></h5>\n",
        "    <h5 align=\"center\"><i>Ayudante: Jesús Iván Coss Calderón</i></h5>\n",
        "    <h5 align=\"center\"><i>Ayudante: Jonathan Ramírez Montes</i></h5>\n",
        "  <h5 align=\"center\"><i>Materia: Manejo de Datos</i></h5>\n",
        "  </font>"
      ]
    },
    {
      "cell_type": "markdown",
      "metadata": {
        "id": "ieQDEmF8HCGa"
      },
      "source": [
        "# Introducción \n",
        "\n",
        "El álgebra relacional se puede definir como un conjunto de operaciones que ayudan a describir paso a paso como es que se pueden realizar consultas sobre la información que haya sido almacenada empleando el modelo relacional. Es denominada **procedimental**, a diferencia del **calculo relacional** que es de tipo declarativo.\n",
        "\n",
        "Es muy importante recalcar que todas las operaciones del álgebra relacional se aplican a relaciones (tablas) del modelo relacional y que el resultado de estas operaciones, es a su vez una tabla, aunque el resultado de dicha operación sea la tabla vacía.\n",
        "\n",
        "De tal manera que es posible anidar tantas operaciones (**consultas**) como sean necesarias para obtener, eliminar o actualizar la información que necesitemos."
      ]
    },
    {
      "cell_type": "markdown",
      "metadata": {
        "id": "k48EZ784H6ol"
      },
      "source": [
        "# Conceptos Básicos \n",
        "\n",
        "Dado que para poder pasar del modelo relacional al uso de álgebra relacional se tiene que ser más pragmático, es necesario tener en cuenta los siguientes conceptos:\n",
        "\n",
        "* **Base de datos (B.D.)**: colección de relaciones.\n",
        "\n",
        "* **Relación**: conjunto de tuplas (igual que en teoría de conjuntos, no tiene sentido una tupla repetida). Ejemplo, supongamos que tenemos la entidad ALUMNOS con los atributos nombre y num_cuenta y se tiene otra entidad llamada CARRERA con los atributos num_carrera y nombre_carrera. La relación ESTUDIA, estaría dada por la carrera que estudia cada alumno y los atributos de esta relación serían num_cuenta y num_carrera. El DER de esta relación sería el siguiente.\n",
        "\n",
        "<center>\n",
        "<img src=\"https://github.com/jugernaut/ManejoDatos/blob/desarrollo/Imagenes/Bases/alumcar.png?raw=1\" width=\"800\"> \n",
        "</center>\n",
        "\n",
        "Y el modelo relacional sería el siguiente.\n",
        "\n",
        "<center>\n",
        "<img src=\"https://github.com/jugernaut/ManejoDatos/blob/desarrollo/Imagenes/Bases/estudia.png?raw=1\" width=\"800\"> \n",
        "</center>\n",
        "\n",
        "* **Esquema de la relación**: sean $A_{1},...,A_{n}$ atributos de una relación, podemos pensar en que dicha relación se ve así $R(A_{1},...A_{n})$. El esquema de la relación sería.\n",
        "\n",
        "$$ESTUDIA(num\\_cuenta, num\\_carrera)$$\n",
        "\n",
        "* **Estado de la relación**: sea $r=(t_{1},t_{2},...,t_{n})$ un conjunto de tuplas de la relación $r$, donde cada valor $v_{i}$ de $t_{i}$ con $1\\leq i\\leq n$ es:\n",
        "\n",
        "  * un elemento de $dom(A_{i})$.\n",
        "  * o un valor nulo.\n",
        "\n",
        "Si el estado de la entidad ALUMNOS fuera.\n",
        "\n",
        "| num_cuenta    | nombre           | \n",
        "| :-:           |    :-:        | \n",
        "| $34234$       | Juan | \n",
        "| $75675$       | Hector     |\n",
        "| $42534$       | Carlos      |\n",
        "| $18238$       | Arturo      | \n",
        "\n",
        "\n",
        "Y el estado de la entidad CARRERA fuera.\n",
        "\n",
        "| num_carrera   | nombre_carrera| \n",
        "| :-:           |    :-:        | \n",
        "| $1$           | Computación   | \n",
        "| $2$           | Matemáticas   |\n",
        "| $3$           | Física        |\n",
        "| $4$           | Biología      | \n",
        "| $5$           | Ciencias de la Tierra       | \n",
        "\n",
        "\n",
        "Entonces un posible estado de la relación ESTUDIA, sería.\n",
        "\n",
        "| num_cuenta    | num_carrera   | \n",
        "| :-:           |    :-:        | \n",
        "| $34234$       | $1$          | \n",
        "| $75675$       | $2$        |\n",
        "| $42534$       | $1$        |\n",
        "| $18238$       | $3$        |  \n",
        "\n",
        "Lo que significa que: Juan estudia Computación, al igual que Carlos, Hector estuda Matemtáticas y Arturo estudia Física.\n",
        "\n",
        "* **Orden entre las tuplas**: no se considera, a menos que se especifique lo contrario."
      ]
    },
    {
      "cell_type": "markdown",
      "metadata": {
        "id": "3v2woN8KIn6c"
      },
      "source": [
        "# Restricciones de Integridad\n",
        "\n",
        "De igual manera que con el modelo relacional, el álgebra relacional establece un conjunto de restricciones, con la intención de mantener la integridad referencial.\n",
        "\n",
        "* **De dominio**: valor atómico de un tipo, es decir que un atributo no puede estar compuesto por más de un tipo de dato.\n",
        "\n",
        "* **De clave**: atributos que identifican de manera única a cada tupla.\n",
        "\n",
        "* **Integridad de entidades**: ninguna clave primaria puede contener el valor nulo.\n",
        "\n",
        "* **Integridad referencial**:\n",
        "\n",
        "  * Una tupla que referencia a otra (de la misma u otra relación) debe referirse a una tupla existente.\n",
        "\n",
        "  * Si se hace referencia a otra tupla mediante una clave foránea, se pide que esta no sea nula."
      ]
    },
    {
      "cell_type": "markdown",
      "source": [
        "## Ejemplo relación\n",
        "\n",
        "<center>\n",
        "<img src=\"https://github.com/jugernaut/ManejoDatos/blob/desarrollo/Imagenes/AlgoritmosBusqueda/relacion.png?raw=1\" width=\"800\"> \n",
        "</center>"
      ],
      "metadata": {
        "id": "0FyuZw5FmzWb"
      }
    },
    {
      "cell_type": "markdown",
      "source": [
        "## Ejemplo de llave foránea\n",
        "\n",
        "<center>\n",
        "<img src=\"https://github.com/jugernaut/ManejoDatos/blob/desarrollo/Imagenes/AlgoritmosBusqueda/foranea.png?raw=1\" width=\"800\"> \n",
        "</center>"
      ],
      "metadata": {
        "id": "ZnC8C2ehnR4Y"
      }
    },
    {
      "cell_type": "markdown",
      "metadata": {
        "id": "hzkd8t-WJu1i"
      },
      "source": [
        "# Operaciones ABC (altas, bajas, cambios)\n",
        "\n",
        "\n",
        "* Cuando se aplica alguna de estas 3 operaciones es importante respetar las restricciones de integridad y validar que no se haya violado alguna de las restricciones de integridad.\n",
        "\n",
        "  * Insertar.\n",
        "  * Eliminar.\n",
        "  * Actualizar.\n",
        "\n",
        "* Insertar y eliminar pueden violar las 4 restricciones.\n",
        "* Actualizar solo puede violar la restricción referencial.\n",
        "* La mayoría de los manejadores de bases de datos, permiten asociar eventos a violaciones de integridad. De tal manera que en caso de que se viole alguna de estas restricciones, el manejador se encarga de **mantener los datos persistentes**."
      ]
    },
    {
      "cell_type": "markdown",
      "metadata": {
        "id": "yQJbNmk3Kfop"
      },
      "source": [
        "# Operaciones del álgebra relacional \n",
        "\n",
        "Las operaciones del álgebra relacional las podemos agrupar por el tipo de operación y su aridad, es decir:\n",
        "\n",
        "* Operadores específicos del álgebra relacional:\n",
        "  * Seleccionar y Proyectar: son de aridad unaria.\n",
        "  * Reunión (Join): de aridad binaria.\n",
        "* Operadores de teoría de conjuntos:\n",
        "  * Unión, Intersección, Diferencia y Producto Cartesiano: mismo tipo de aridad que en teoría de conjuntos.\n",
        "* Otros operadores:\n",
        "  * División.\n",
        "  * Funciones de agregación y de agrupación: $count$, $avg$, $min$, $max$, $group\\ by$, $order\\ by$."
      ]
    },
    {
      "cell_type": "markdown",
      "metadata": {
        "id": "ykIyEmx-LA04"
      },
      "source": [
        "## Selección $\\sigma$\n",
        "\n",
        "Selecciona un subconjunto de tuplas de la relación, que cumplan con determinados criterios.\n",
        "\n",
        "* Condiciones: $\\{=,\\leq,<,>,\\geq,\\neq,\\land,\\lor\\}$\n",
        "\n",
        "* Es Conmutativa: $$\\sigma_{cond1}(\\sigma_{cond2}(R))=\\sigma_{cond2}(\\sigma_{cond1}(R)) \\quad \\text{y} \\quad \\sigma_{cond1}(\\sigma_{cond2}(R))=\\sigma_{cond1\\,\\land cond2}(R)$$\n",
        "\n",
        "<center>\n",
        "<img src=\"https://github.com/jugernaut/ManejoDatos/blob/desarrollo/Imagenes/AlgoritmosBusqueda/empleado.png?raw=1\" width=\"800\"> \n",
        "</center>\n",
        "FIGURA: Relación Empleado"
      ]
    },
    {
      "cell_type": "markdown",
      "metadata": {
        "id": "6Co0fdj0LgGm"
      },
      "source": [
        "<center>\n",
        "<img src=\"https://github.com/jugernaut/ManejoDatos/blob/desarrollo/Imagenes/AlgoritmosBusqueda/sigma.png?raw=1\" width=\"800\"> \n",
        "</center>\n",
        "FIGURA: $\\sigma_{ND=4}(Empleado)$"
      ]
    },
    {
      "cell_type": "markdown",
      "metadata": {
        "id": "NLg9L9oE9rP0"
      },
      "source": [
        "## Proyección $\\pi$\n",
        "\n",
        "Selecciona un subconjunto de **atributos** de la relación.\n",
        "\n",
        "* Elimina tuplas repetidas.\n",
        "\n",
        "* No es conmutativa: $\\pi_{lista1}(\\pi_{lista2}(R)) \\ne \\pi_{lista2}(\\pi_{lista1}(R))$\n",
        "\n",
        "<center>\n",
        "<img src=\"https://github.com/jugernaut/ManejoDatos/blob/desarrollo/Imagenes/AlgoritmosBusqueda/emp2.png?raw=1\" width=\"800\"> \n",
        "</center>\n",
        "FIGURA: Relación Empleado"
      ]
    },
    {
      "cell_type": "markdown",
      "metadata": {
        "id": "sYBQQd9o-fIt"
      },
      "source": [
        "<center>\n",
        "<img src=\"https://github.com/jugernaut/ManejoDatos/blob/desarrollo/Imagenes/AlgoritmosBusqueda/proye.png?raw=1\" width=\"800\"> \n",
        "</center>\n",
        "FIGURA: $\\pi_{SEXO,SALARIO}(Empleado)$"
      ]
    },
    {
      "cell_type": "markdown",
      "metadata": {
        "id": "DcWzTUmP_Hh3"
      },
      "source": [
        "## Renombrar y Resultados intermedios\n",
        "\n",
        "Hay veces que para lograr una consulta en especifico se recomienda realizar consultas intermedias (anidadas) o renombrar los resultados obtenidos. \n",
        "\n",
        "<center>\n",
        "<img src=\"https://github.com/jugernaut/ManejoDatos/blob/desarrollo/Imagenes/AlgoritmosBusqueda/emp3.png?raw=1\" width=\"800\"> \n",
        "</center>\n",
        "FIGURA: Relación Empleado"
      ]
    },
    {
      "cell_type": "markdown",
      "metadata": {
        "id": "ZQLGHt4MAaP5"
      },
      "source": [
        "<center>\n",
        "<img src=\"https://github.com/jugernaut/ManejoDatos/blob/desarrollo/Imagenes/AlgoritmosBusqueda/interme.png?raw=1\" width=\"800\"> \n",
        "</center>\n",
        "FIGURA: Resultado Intermedio"
      ]
    },
    {
      "cell_type": "markdown",
      "metadata": {
        "id": "7l-CffmyAl-Z"
      },
      "source": [
        "<center>\n",
        "<img src=\"https://github.com/jugernaut/ManejoDatos/blob/desarrollo/Imagenes/AlgoritmosBusqueda/renombre.png?raw=1\" width=\"800\"> \n",
        "</center>\n",
        "FIGURA: Renombre de atributos"
      ]
    },
    {
      "cell_type": "markdown",
      "metadata": {
        "id": "XjeeC3a1AxVk"
      },
      "source": [
        "Alternativa sin renombre o resultados intermedios\n",
        "$$\\pi_{NOMBRE,APELLIDO,SALARIO}(\\sigma_{ND=5}(EMPLEADO))$$"
      ]
    },
    {
      "cell_type": "markdown",
      "metadata": {
        "id": "3YJ9gjLSBEcj"
      },
      "source": [
        "## Unión, Intersección y Diferencia\n",
        "\n",
        "* Para poder llevar a cabo la unión, es necesario que ambas **relaciones sean compatibles**, es decir que ambas relaciones tengan el mismo tipo de atributos en el mismo orden.\n",
        "\n",
        "* Conservan las misma propiedades que sus equivalentes de teoría de conjuntos.\n",
        "\n",
        "<center>\n",
        "<img src=\"https://github.com/jugernaut/ManejoDatos/blob/desarrollo/Imagenes/AlgoritmosBusqueda/alumprof.png?raw=1\" width=\"800\"> \n",
        "</center>\n",
        "FIGURA: ALUMNO, PROFESOR"
      ]
    },
    {
      "cell_type": "markdown",
      "metadata": {
        "id": "A8bhBN2qBCTF"
      },
      "source": [
        "<center>\n",
        "<img src=\"https://github.com/jugernaut/ManejoDatos/blob/desarrollo/Imagenes/AlgoritmosBusqueda/union.png?raw=1\" width=\"400\"> \n",
        "</center>\n",
        "FIGURA: Unión"
      ]
    },
    {
      "cell_type": "markdown",
      "metadata": {
        "id": "Ohem0INSCNWm"
      },
      "source": [
        "<center>\n",
        "<img src=\"https://github.com/jugernaut/ManejoDatos/blob/desarrollo/Imagenes/AlgoritmosBusqueda/inter.png?raw=1\" width=\"400\"> \n",
        "</center>\n",
        "FIGURA: Intersección"
      ]
    },
    {
      "cell_type": "markdown",
      "metadata": {
        "id": "-PrEf5MbCYVQ"
      },
      "source": [
        "<center>\n",
        "<img src=\"https://github.com/jugernaut/ManejoDatos/blob/desarrollo/Imagenes/AlgoritmosBusqueda/dif.png?raw=1\" width=\"400\"> \n",
        "</center>\n",
        "FIGURA: Diferencia"
      ]
    },
    {
      "cell_type": "markdown",
      "metadata": {
        "id": "EqLO0GVlCfgH"
      },
      "source": [
        "## Producto Cartesiano\n",
        "\n",
        "* Para que el producto cartesiano tenga sentido, se pide que las relaciones involucradas en esta operaciones, **no sean compatibles con la unión**.\n",
        "\n",
        "* Sean $R(A_{1},\\ldots,A_{n})$ y $S(B_{1},\\ldots,B_{m})$, entonces $R\\times S=Q(A_{1},\\ldots A_{n},B_{1},\\ldots B_{m})$, donde:\n",
        "\n",
        "  * $Q$ tiene $n \\times m$ tuplas.\n",
        "\n",
        "  * $Q$ consta de todas las combinaciones de cada tupla de $R$ seguida de otra de $S$.\n",
        "\n",
        "<center>\n",
        "<img src=\"https://github.com/jugernaut/ManejoDatos/blob/desarrollo/Imagenes/AlgoritmosBusqueda/prodcar.png?raw=1\" width=\"800\"> \n",
        "</center>\n",
        "FIGURA: PR_STAF, DP_STAF"
      ]
    },
    {
      "cell_type": "markdown",
      "metadata": {
        "id": "wDmELC3UDWqH"
      },
      "source": [
        "<center>\n",
        "<img src=\"https://github.com/jugernaut/ManejoDatos/blob/desarrollo/Imagenes/AlgoritmosBusqueda/resultadoprodcar.png?raw=1\" width=\"800\"> \n",
        "</center>\n",
        "FIGURA: Producto Cartesiano"
      ]
    },
    {
      "cell_type": "markdown",
      "metadata": {
        "id": "4aN-Rz1_Dexh"
      },
      "source": [
        "## Join (Reunión)\n",
        "\n",
        "* **Combina tuplas que comparten al menos un tipo de atributo en común y cuyo valor es el mismo en ambas relaciones**, es decir tuplas que están relacionadas entre si. \n",
        "\n",
        "* Es una de las operaciones mas importantes para las bases de datos relacionales.\n",
        "\n",
        "* Permite preservar vínculos entre relaciones.\n",
        "<center>\n",
        "<img src=\"https://github.com/jugernaut/ManejoDatos/blob/desarrollo/Imagenes/AlgoritmosBusqueda/emp.png?raw=1\" width=\"800\"> \n",
        "</center>\n",
        "\n",
        "FIGURA: Relación Empleado"
      ]
    },
    {
      "cell_type": "markdown",
      "metadata": {
        "id": "eW7MuwLeEKnE"
      },
      "source": [
        "<center>\n",
        "<img src=\"https://github.com/jugernaut/ManejoDatos/blob/desarrollo/Imagenes/AlgoritmosBusqueda/depto.png?raw=1\" width=\"800\"> \n",
        "</center>\n",
        "FIGURA: Relación Departamento"
      ]
    },
    {
      "cell_type": "markdown",
      "metadata": {
        "id": "3Gsa0y1tEX_s"
      },
      "source": [
        "<center>\n",
        "<img src=\"https://github.com/jugernaut/ManejoDatos/blob/desarrollo/Imagenes/AlgoritmosBusqueda/jefedepto.png?raw=1\" width=\"800\"> \n",
        "</center>\n",
        "FIGURA: JEFE_DEPTO $\\leftarrow$DPT $\\bowtie_{NSS_{-}JEFE=NSS}EMP$"
      ]
    },
    {
      "cell_type": "markdown",
      "metadata": {
        "id": "hI4DebM5Ej39"
      },
      "source": [
        "* Sean $R(A_{1},\\ldots,A_{n})$ y $S(B_{1},\\ldots,B_{m})$ relaciones no compatibles con la unión. \n",
        "\n",
        "* Sea $R(A_{1},\\ldots,A_{n})\\bowtie_{COND}S(B_{1},\\ldots,B_{m})=Q(A_{1},\\ldots A_{n},B_{1},\\ldots B_{m})$, donde:\n",
        "\n",
        "  * $Q$ consta de todas las combinaciones de cada tupla de $R$ seguida de otra tupla de $S$, que satisfaga la condición de Join COND.\n",
        "\n",
        "  * Si ninguna combinación cumple la condición COND el resultado es la **relación vacía**.\n",
        "\n",
        "* Condición COND:\n",
        "\n",
        "  * Se evalúa para cada combinación de tuplas.\n",
        "\n",
        "  * Tiene la forma: $<subcondici\\acute{o}n>\\wedge<subcondici\\acute{o}n>\\wedge\\ldots\\wedge<subcondici\\acute{o}n>$\n",
        "\n",
        "  * Cada subcondición tiene la forma: $A_{i}\\,\\theta\\,B_{j}$ donde $A_{i}\\in R\\,$ y $\\,B_{j}\\in S\\,$ y $\\,\\theta\\in\\{=,<,\\leq,\\geq,>,\\neq\\}$."
      ]
    },
    {
      "cell_type": "markdown",
      "metadata": {
        "id": "yY0HvP8nGBqU"
      },
      "source": [
        "## Natural Join\n",
        "\n",
        "* *COND* implícita: igualdad de todos los atributos con el mismo nombre.\n",
        "* El resultado siempre tiene pares de atributos con valores idénticos en todas las tuplas.\n",
        "* Se eliminan atributos repetidos en la relación.\n",
        "* Debe existir al menos un par de atributos con el mismo nombre y tipo en ambas relaciones.\n",
        "\n",
        "<center>\n",
        "<img src=\"https://github.com/jugernaut/ManejoDatos/blob/desarrollo/Imagenes/AlgoritmosBusqueda/natural.png?raw=1\" width=\"800\"> \n",
        "</center>\n",
        "FIGURA: Natural Join"
      ]
    },
    {
      "cell_type": "markdown",
      "metadata": {
        "id": "YilDpID9HKjI"
      },
      "source": [
        "<center>\n",
        "<img src=\"https://github.com/jugernaut/ManejoDatos/blob/desarrollo/Imagenes/AlgoritmosBusqueda/resjoin.png?raw=1\" width=\"800\"> \n",
        "</center>\n",
        "FIGURA: DEPTO_PROY $\\leftarrow PRY * DPT$"
      ]
    },
    {
      "cell_type": "markdown",
      "metadata": {
        "id": "8n1x1UhvIHuz"
      },
      "source": [
        "## División\n",
        "\n",
        "Sean $N$ y $D$ dos relaciones con el siguiente esquema.\n",
        "\n",
        "<center>\n",
        "<img src=\"https://github.com/jugernaut/ManejoDatos/blob/desarrollo/Imagenes/AlgoritmosBusqueda/div.png?raw=1\" width=\"800\"> \n",
        "</center>\n",
        "FIGURA: División"
      ]
    },
    {
      "cell_type": "markdown",
      "metadata": {
        "id": "XxUJC3pcJMpv"
      },
      "source": [
        "* Por cada atributo de $D$ debe existir otro en $N$ de igual nombre, $Y\\subseteq X$.\n",
        "\n",
        "* El resultado tiene los atributos de $N$ que no pertenecen a $D$.\n",
        "\n",
        "* Son tuplas del resultado $t\\in R$, las que cumplen:\n",
        "\n",
        "  * La combinación de valores de $t$ está en alguna tupla de $N$.\n",
        "\n",
        "  * Esa combinación de valores de $t$ se encuentra en tuplas de $N$ junto todas y cada una de las combinaciones de valores de las tuplas de $D$.\n",
        "\n",
        "* Es decir que $t\\in R$ si y solo si:\n",
        "\n",
        "* $\\forall t_{D}\\in D\\,\\exists t_{N}\\in N\\,tal\\,que\\,(t=t_{N}[Z]\\,\\wedge\\,t_{D}=t_{N}[Y])$."
      ]
    },
    {
      "cell_type": "markdown",
      "metadata": {
        "id": "VTksj54HKF4-"
      },
      "source": [
        "### Ejemplo:\n",
        "\n",
        "Obtener el $NSS$ de los empleados que trabajan en **todos y cada uno** de los proyectos en los que trabaja el trabajador con $NSS=123456789$.\n",
        "\n",
        "* Esta consulta conviene pensarla en partes para que sea mas sencillo:\n",
        "\n",
        "  * Primero: proyectamos nombre y $NSS$ de todos los proyectos en los que participan todos y cada uno de los empelados y guardamos el resultado intermedio como $NSS_{-}N\\acute{U}M_{-}PRY$.\n",
        "\n",
        "  * Segundo: proyectamos los proyectos en los cuales participa el empleado con $NSS=123456789$, guardamos resultado como $N\\acute{U}MS_{-}PRY$.\n",
        "\n",
        "  * Ultimo: realizamos la división $NSS_{-}N\\acute{U}M_{-}PRY \\div N\\acute{U}MS_{-}PRY$. \n",
        "\n",
        "  <center>\n",
        "<img src=\"https://github.com/jugernaut/ManejoDatos/blob/desarrollo/Imagenes/AlgoritmosBusqueda/ejemodiv.png?raw=1\" width=\"800\"> \n",
        "</center>\n",
        "FIGURA: División"
      ]
    },
    {
      "cell_type": "markdown",
      "source": [
        "## Funciones de agregación y agrupación\n",
        "\n",
        "Son funciones que nos permiten combinar tuplas de una relación para producir un valor “agregado” o \"agrupado\".\n",
        "\n",
        "Las funciones más comúnes son:\n",
        "\n",
        "*   $count$: devuelve el **conteo** de las tuplas de una relación.\n",
        "*   $sum$: devuelve la **suma** de uno de los atributos de la relación.\n",
        "*   $avg$: devuelve el valor **promedio** de uno de los atributos de la relación.\n",
        "*   $min$: devuelve el **mínimo** de uno de los atributos de la relación.\n",
        "*   $max$: devuelve el **máximo** de uno de los atributos de la relación.\n",
        "*   $order\\ by$: **ordena** los elementos de la relación de acuerdo a uno de los atributos de la misma.\n",
        "\n",
        "Este valor (aunque sea único) sigue siendo una relación, no hay que perder de vista el hecho de que en álgebra relacional, **todo es una relación**.\n",
        "\n",
        "Veamos un ejemplo sencillo."
      ],
      "metadata": {
        "id": "V1QDnUKq_PKh"
      }
    },
    {
      "cell_type": "markdown",
      "source": [
        "### Ejemplos:\n",
        "\n",
        "Supongamos que tenemos la siguiente relación.\n",
        "\n",
        "<center>\n",
        "<img src=\"https://github.com/jugernaut/ManejoDatos/blob/desarrollo/Imagenes/AlgoritmosBusqueda/emp.png?raw=1\" width=\"800\"> \n",
        "</center>\n",
        "\n",
        "Para obtener el número de tuplas en la relación lo que tenemos que hacer es lo siguiente.\n",
        "\n",
        "$$G_{count(ND)}(EMP)$$\n",
        "\n",
        "La letra $G$ indica que se hace uso de funciones de agregación y el resultado de la misma sería.\n",
        "\n",
        "| count    |\n",
        "| :-:      |\n",
        "| $8$      |\n",
        "\n",
        "Para obtener el número de departamento más grande, necesitamos realizar la siguiente consulta de álgebra relacional.\n",
        "\n",
        "$$G_{max(ND)}(EMP)$$\n",
        "\n",
        "Y el resultado de la misma sería.\n",
        "\n",
        "| max    |\n",
        "| :-:      |\n",
        "| $5$      |\n",
        "\n",
        "Para ordenar los resultados por el atributo *ND* la consulta sería la siguiente\n",
        "\n",
        "$$_{ND}G(EMP)$$\n",
        "\n",
        "Y el resultado sería.\n",
        "\n",
        "| APELLIDO   | NSS           | ND  | \n",
        "| :-:        |    :-:        |:-:  |\n",
        "| $Borg$     | $888665555$   | $1$ |\n",
        "| $Zelaya$   | $999886666$   | $4$ |\n",
        "| $Wallace$  | $987654321$   | $4$ |\n",
        "| $Jabbar$   | $987987987$   | $4$ |\n",
        "| $Smith$    | $123456789$   | $5$ |\n",
        "| $Wong$     | $333445555$   | $5$ |\n",
        "| $Narayan$  | $666688444$   | $5$ |\n",
        "| $English$  | $453453453$   | $5$ |\n",
        "\n",
        "Incluso podemos contar los emepleados que pertenecen a un departamento mediante la siguiente consulta.\n",
        "\n",
        "$$_{ND}G_{count(ND)}(EMP)$$\n",
        "\n",
        "Y el resultado sería.\n",
        "\n",
        "| ND   | count |\n",
        "| :-:  |    :-:|\n",
        "| $1$  | $1$   |\n",
        "| $4$  | $3$   |\n",
        "| $5$  | $4$   |\n",
        "\n"
      ],
      "metadata": {
        "id": "ZYqAaIjTCjP8"
      }
    },
    {
      "cell_type": "markdown",
      "source": [
        "# Ejercicios\n",
        "\n",
        "Sea el siguiente esquema.\n",
        "\n",
        "$$Cuenta (nombreSucursal, numCta, saldo)$$\n",
        "$$Sucursal (nombreSucursal, ciudad, activos)$$\n",
        "$$Cliente (nombreCliente, calle, ciudad)$$\n",
        "$$CtaCliente (nombreCliente, numCta)$$\n",
        "$$Prestamo (nombreSucursal, numPrestamo, importe)$$\n",
        "$$Prestatario (nombreCliente, numPrestamo)$$\n",
        "\n",
        "1. Encontrar la información de todos los préstamos realizados en la\n",
        "sucursal llamada “Fuentes Brotantes”.\n",
        "2. Determinar el nombre de los clientes que viven en Guanajuato.\n",
        "3. Nombre de los clientes del banco que tienen una cuenta, un préstamo\n",
        "o ambas cosas.\n",
        "4. Determinar el número de cuenta y la ciudad donde fue aperturada cada cuenta.\n",
        "5. Relación de clientes que tienen abierta una cuenta pero no tienen\n",
        "ninguna de préstamo.\n",
        "6. Todos los clientes que tienen un préstamo y una cuenta abierta\n",
        "7. Nombre de los clientes que tienen un préstamo en la sucursal de\n",
        "Fuentes Brotantes.\n",
        "8. Nombre de los clientes que tienen un préstamo y el importe del\n",
        "mismo.\n",
        "9. Nombre de los clientes con préstamo mayor a cinco mil pesos.\n",
        "10. Nombre de los clientes que tienen una cuenta con saldo menor a\n",
        "$3,000 y que no tienen préstamo.\n",
        "\n",
        "Supongamos siguiente esquema.\n",
        "\n",
        "$$ALUMNOS (num_cuenta, nombre)$$\n",
        "$$TUTORIAS (id_tutoria, num_cuenta, id_tutor)$$\n",
        "$$TUTPRES (id_tutor, nombre_tutor, id_especialidad)$$\n",
        "$$ESPECIALIDADES (id_especialidad, nombre_especialidad)$$\n",
        "$$Prestamo (nombreSucursal, numPrestamo, importe)$$\n",
        "$$Prestatario (nombreCliente, numPrestamo)$$\n",
        "\n",
        "1. Expresión que muestre a los alumnos con todos sus atributos.\n",
        "2. Producto cartesiano de ALUMNOS y TUTORES.\n",
        "3. Mostrar el id del tutor, el nombre del tutor y el nombre de su especialdiad.\n",
        "4. Determinar el número de cuenta, id de la tutoria, nombre del alumno y nombre del tutor.\n",
        "5. Determinar el número de cuenta, id de la tutoria, nombre del alumno y nombre del tutor, con su respectiva especialidad.\n",
        "\n",
        "\n",
        "\n"
      ],
      "metadata": {
        "id": "zo6RglrlSHuB"
      }
    },
    {
      "cell_type": "markdown",
      "metadata": {
        "id": "XTOt0TLLOV1q"
      },
      "source": [
        "# Referencias\n",
        "\n",
        "* Greg Riccardi: Principles of Database Systems with Internet an Java Aplications.\n",
        "* Anexo: Algebra relacional, https://www.unirioja.es/cu/arjaime/Temas/04.Anexo.pdf\n",
        "* https://www.w3schools.com/sql/\n",
        "* http://mysql.conclase.net/curso/?cap=000#\n",
        "* https://downloads.mysql.com/docs/refman-5.0-es.pdf\n",
        "* **Profesora Amparo:** http://hp.fciencias.unam.mx/~alg/bd/alg.pdf\n",
        "* Ejemplos: https://www.dsi.fceia.unr.edu.ar/downloads/base_de_datos/AlgebraRelacional.pdf"
      ]
    }
  ]
}