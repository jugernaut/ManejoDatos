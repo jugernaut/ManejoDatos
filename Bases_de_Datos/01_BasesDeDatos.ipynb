{
  "nbformat": 4,
  "nbformat_minor": 0,
  "metadata": {
    "colab": {
      "name": "01_BasesDeDatos.ipynb",
      "provenance": [],
      "toc_visible": true,
      "include_colab_link": true
    },
    "kernelspec": {
      "name": "python3",
      "display_name": "Python 3"
    },
    "language_info": {
      "name": "python"
    }
  },
  "cells": [
    {
      "cell_type": "markdown",
      "metadata": {
        "id": "view-in-github",
        "colab_type": "text"
      },
      "source": [
        "<a href=\"https://colab.research.google.com/github/jugernaut/ManejoDatos/blob/desarrollo/Bases_de_Datos/01_BasesDeDatos.ipynb\" target=\"_parent\"><img src=\"https://colab.research.google.com/assets/colab-badge.svg\" alt=\"Open In Colab\"/></a>"
      ]
    },
    {
      "cell_type": "markdown",
      "metadata": {
        "id": "wBGQJF8IxoLG"
      },
      "source": [
        "<font color=\"Teal\" face=\"Comic Sans MS,arial\">\n",
        "  <h1 align=\"center\"><i>Bases de Datos</i></h1>\n",
        "  </font>\n",
        "  <font color=\"Black\" face=\"Comic Sans MS,arial\">\n",
        "  <h5 align=\"center\"><i>Profesor: M. en C. Miguel Angel Pérez León</i></h5>\n",
        "    <h5 align=\"center\"><i>Ayudante: Jesús Iván Coss Calderón</i></h5>\n",
        "    <h5 align=\"center\"><i>Ayudante: Jonathan Ramírez Montes</i></h5>\n",
        "  <h5 align=\"center\"><i>Materia: Manejo de Datos</i></h5>\n",
        "  </font>"
      ]
    },
    {
      "cell_type": "markdown",
      "metadata": {
        "id": "wBfqrET-yBai"
      },
      "source": [
        "# Introducción\n",
        "\n",
        "Una base de datos es cualquier colección de información a la cual se puede **acceder de manera organizada**, digamos por ejemplo, una colección bibliográfica, el archivo muerto de una empresa, un libro compuesto por hojas de calculo, etc.\n",
        "\n",
        "Las bases de datos se han ocupado desde los inicios de la civilización, sin embargo es hasta fechas recientes gracias al uso de las computadoras, que el organizar y acceder a la información contenida en una base de datos se ha vuelto una labor mucho mas rápida, sencilla y **persistente**.\n",
        "\n",
        "Cualquier usuario con conocimiento sobre **manejadores de bases de datos** puede acceder, modificar o eliminar información contenida en una base de datos, sin embargo las bases de datos cobran mayor importancia cuando se vinculan a algún algoritmo informático (aplicación, programa, etc) mediante el cual se puede obtener información de manera sistemática, como por ejemplo INEGI, *Facebook*, *Google*, *YouTube*, etc.\n",
        "\n",
        "Ahora por otro lado, para poder decir que el acceso a la información de una base de datos se realiza de manera organizada, se debe garantizar que las consultas, actualización o eliminación de la información se llevan a cabo de manera eficiente.\n",
        "\n",
        "Una forma de llevar a cabo esta organización de manera eficiente es mediante **entidades** que agrupan un conjunto de elementos con los los mismos **atributos** y las **relaciones** que guardan los elementos de la base de datos.\n",
        "\n",
        "A esta forma de organizar la información se le conoce como el **modelo entidad-relacion** (modelo e-r). Una de las herramientas básicas del modelo e-r es el **diagrama entidad-relación**, también conocido como DER, en el cual se muestran de manera gráfica, las entidades, atributos y relaciones que existen dentro de la base de datos."
      ]
    },
    {
      "cell_type": "markdown",
      "metadata": {
        "id": "JA04S6nL1bxB"
      },
      "source": [
        "# Modelo E-R\n",
        "\n",
        "El modelo e-r es una herramienta para el modelado de datos que permite representar los elementos mas importantes de una colección de datos, así como sus atributos y relaciones."
      ]
    },
    {
      "cell_type": "markdown",
      "metadata": {
        "id": "e5hToHKd1_OW"
      },
      "source": [
        "# Características\n",
        "Los elementos que conforma el modelo e-r, son los siguientes:\n",
        "\n",
        "1. **Entidades**: las entidades agrupan un conjunto de elementos que comparten el mismo numero y tipo de atributos en común, una entidad puede ser abstracta, como un préstamo o concreta, como una persona. Se representan mediante un rectángulo.\n",
        "\n",
        "2. **Atributos**: son las elementos que caracterizan a las entidades (y a veces a las relaciones), por ejemplo si hablamos de la entidad 'alumnos' los atributos que comparten los alumnos son: nombre, edad, numero de cuenta. Se representan mediante un ovalo y en caso de ser un atributo llave (o identificador) se subraya dicho atributo.\n",
        "\n",
        "3. **Relaciones**: como su nombre lo indica, establece la relación que guardan las entidades, por ejemplo la relación que tendría la entidad 'doctores' con 'pacientes' serian las 'consultas'. Las relaciones se representan mediante un rombo."
      ]
    },
    {
      "cell_type": "markdown",
      "metadata": {
        "id": "3WIfDw4D2Jo2"
      },
      "source": [
        "### Cardinalidad de las relaciones \n",
        "\n",
        "Para modelar de manera más apegada a la realidad las relaciones que se pueden dar en modelo e-r, se puede definir la cardinalidad que guardan las relaciones, es decir:\n",
        "\n",
        "* **(1,1)**: esto significa que un elemento de la entidad izquierda de la relación, solo puede estar relacionado con un elemento de la entidad derecha de la relación y viceversa. Ejemplo, un alumno solo puede estar relacionado a un historial académico y un historial académico solo puede estar relacionado con un alumno.\n",
        "\n",
        "* **(1,M)**: un elemento de la entidad izquierda de la relación puede estar relacionado con muchos elemento de la entidad derecha de la relación. Ejemplo, un cliente pueden tener varias facturas, varias facturas pueden estar a nombre del mismo cliente, pero no puede haber una factura a nombre de varios clientes.\n",
        "\n",
        "* **(M,N)**: varios elementos de la entidad izquierda de la relación pueden estar relacionados con varios elementos de la entidad derecha de la relación y viceversa. Ejemplo, diferentes clientes pueden comprar varios productos y varios productos pueden ser comprados por diferentes clientes."
      ]
    },
    {
      "cell_type": "markdown",
      "metadata": {
        "id": "DpNX5gda3H0_"
      },
      "source": [
        "### Tipos de atributos\n",
        "\n",
        "Existen diferentes tipos de atributos que permiten describir de manera más clara las características del modelo, estos son:\n",
        "\n",
        "* **Llave primaria**: es un único atributo que sirve para identificar de manera única a cada elemento de la entidad. Ejemplo, cada alumno es identificado de manera única mediante su 'número de cuenta'.\n",
        "\n",
        "* **Super llave**: es un conjunto de atributos que, en conjunto identifica de manera única a cada elemento de la entidad. Ejemplo, en la entidad 'escritura', la super llave estaría formada por (año, libro, hoja, folio), en conjunto todos estos atributos identifican de manera única a una escritura.\n",
        "\n",
        "* **Llave foránea**: este atributo debe ser estrictamente la llave primaria de otra entidad para asegurar su existencia. Ejemplo, un alumno tiene como llave foranea la llave primaria de la entidad 'carreras' y mediante esta llave se puede identificar la carrera a la que pertenece cada alumno."
      ]
    },
    {
      "cell_type": "markdown",
      "metadata": {
        "id": "GbhsWhg63u8_"
      },
      "source": [
        "### Diagrama extendido\n",
        "\n",
        "Como podrás notar, los elementos previamente descritos sirven para modelar la mayoría de las bases de datos, pero hay casos para los cuales son insuficientes, es por este motivo que existe el **modelo e-r extendido**.\n",
        "\n",
        "Sin embargo para el alcance de este curso, los elementos del modelo e-r son suficientes.\n",
        "\n",
        "<center>\n",
        "<img src=\"https://github.com/jugernaut/ManejoDatos/blob/desarrollo/Imagenes/Bases/der.png?raw=1\" width=\"800\"> \n",
        "</center>\n",
        "\n",
        "\n",
        "DER\n",
        "\n",
        "<center>\n",
        "<img src=\"https://github.com/jugernaut/ManejoDatos/blob/desarrollo/Imagenes/Bases/derexamen.png?raw=1\" width=\"800\"> \n",
        "</center>\n",
        "\n",
        "\n",
        "DER Examen"
      ]
    },
    {
      "cell_type": "markdown",
      "metadata": {
        "id": "I47prs3VCd2A"
      },
      "source": [
        "### Ejemplo\n",
        "\n",
        "Se pide modelar el siguiente sistema. Se requiere una base de datos donde:\n",
        "\n",
        "1. Se puedan almacenar alumnos, tutores y especialidades.\n",
        "2. Cada alumno esta caracterizado por un numero de cuenta, un nombre y un tutor. Elige una llave primaria para cada alumno.\n",
        "3. Cada alumno solo puede estar relacionado con un tutor, pero un tutor puede tener varios alumnos\n",
        "4. Cada tutor esta caracterizado por su id_tutor, su nombre y la especialidad.\n",
        "5. Cada tutor solo puede tener una especialidad, pero una especialidad puede pertenecer a diferentes tutores.\n",
        "6. La relación entre alumnos y tutores debe tener como atributo el año en el que se dio la tutoría. \n",
        "7. El sistema debe ser capaz de permitir que un tutor tenga diferentes alumnos, siempre y cuando sea en diferentes años. Y además el sistema debe ser capaz de almacenar un histórico de los alumnos que han sido tutorandos de algún tutor."
      ]
    },
    {
      "cell_type": "markdown",
      "metadata": {
        "id": "t_kWDPivC8iP"
      },
      "source": [
        "# Modelo Relacional\n",
        "\n",
        "El modelo relacional, es un concepto que introdujo la compañía I.B.M. en la década de los años 70 para la gestión y administración de las **bases de datos relacionales**.\n",
        "\n",
        "Este modelo esta basado en **lógica de predicados** y en **teoría de conjuntos**, por lo que muchas de las operaciones y propiedades de la lógica de predicados y de teoría de conjuntos, se aplican a este modelo.\n",
        "\n",
        "La idea básica de este modelo es enfatizar las relaciones que existen entre las diferentes entidades que componen el modelo. Dichas relaciones pueden pensarse en forma lógica como **conjuntos de datos llamados tuplas**.\n",
        "\n",
        "Actualmente la mayoría de las bases de datos se rigen mediante este modelo, aunque existen alternativas **no-relacionales** que han mostrado ser altamente eficientes.\n",
        "\n",
        "A pesar de que la base del modelo relacional nos invita a conceptualizar los datos como un conjunto de información, a la cual se le pueden aplicar operadores lógicos y de conjuntos, normalmente es más sencillo pensar que todo elemento del modelo relacional es una tabla, en la cual **cada columna es un campo o atributo** y **cada renglón un registro**."
      ]
    },
    {
      "cell_type": "markdown",
      "source": [
        "## Ejemplo 1\n",
        "\n",
        "<center>\n",
        "<img src=\"https://github.com/jugernaut/ManejoDatos/blob/desarrollo/Imagenes/Bases/mod1.png?raw=1\" width=\"800\"> \n",
        "</center>"
      ],
      "metadata": {
        "id": "Qolx8MpbuXoK"
      }
    },
    {
      "cell_type": "markdown",
      "source": [
        "## Ejemplo 2\n",
        "\n",
        "<center>\n",
        "<img src=\"https://github.com/jugernaut/ManejoDatos/blob/desarrollo/Imagenes/Bases/mod2.png?raw=1\" width=\"800\"> \n",
        "</center>"
      ],
      "metadata": {
        "id": "-Wlx1tzfuuqK"
      }
    },
    {
      "cell_type": "markdown",
      "metadata": {
        "id": "QJjP-1KBEvxM"
      },
      "source": [
        "## Reglas del modelo relacional\n",
        "\n",
        "El modelo relacional establece que se debe definir de manera clara el **nombre** y **tipo** de cada uno de los atributos de la entidad o relación y por otro lado, especifica que las 2 reglas principales que rigen el modelo relacional son las siguientes:\n",
        "\n",
        "1. **Integridad de Entidades**: ninguna llave primaria puede contener un valor nulo.\n",
        "2. **Integridad Referencial**:\n",
        "  * Una tupla que referencia a otra (de la misma u otra relación), debe referirse a una tupla existente en dicha relación.\n",
        "  * Se puede hacer referencia a otra tupla mediante una llave foránea y por la regla previa, dicha llave foránea no puede contener un valor nulo."
      ]
    },
    {
      "cell_type": "markdown",
      "metadata": {
        "id": "xCoF1grrGJ4G"
      },
      "source": [
        "## Normalización (o forma normal) de una base de datos\n",
        "\n",
        "El objetivo de la normalización de datos es reducir e incluso eliminar la redundancia de datos, una consideración importante para los desarrolladores de aplicaciones porque es increíblemente difícil almacenar objetos en una base de datos relacional que mantiene la misma información en varios lugares.\n",
        "\n",
        "Para normalizar una base de datos, se deben de aplicar una serie de reglas a las relaciones obtenidas después de haber pasado del modelo e-r al modelo relacional. Esto con la intención de:\n",
        "\n",
        "* **Evitar redundancia de los datos**: Esto significa que la información no se repetirá en diferentes relaciones de la base de datos y por lo tanto se utiliza menos memoria para almacenar la información. Depende en gran medida del fin que se le vaya a dar a la base de datos, si es conveniente tener redundancia en los datos.\n",
        "* **Disminuir problemas de actualización**: Si la información dentro de la base de datos se encuentra repetida en diferentes tablas, cuando se lleva a cabo una actualización es necesario actualizar todas las tablas donde se encuentre el dato que fue modificado.\n",
        "* **Integridad de los datos**: Se refiere a que los datos sean correctos y completos, es decir que no hayan sido corrompidos después de alguna operación.\n"
      ]
    },
    {
      "cell_type": "markdown",
      "source": [
        "### Ejemplo\n",
        "\n",
        "Supongamos que tenemos el siguiente modelo relacional, en el cual la entidad ALUMNOS se ve de la siguiente forma.\n",
        "\n",
        "| num_cuenta    | nombre   | carrera       |\n",
        "| :-:           |    :-:   | :-:           |\n",
        "| $34234$       | Juan     | Computación   |\n",
        "| $75675$       | Hector   | Matemáticas   |\n",
        "| $42534$       | Carlos   | Computación   |\n",
        "| $18238$       | Arturo   | Física        |\n",
        "  \n",
        "\n",
        "La entidad CARRERA se ve así.\n",
        "\n",
        "| num_carrera   | nombre_carrera| \n",
        "| :-:           |    :-:        | \n",
        "| $1$           | Computación   | \n",
        "| $2$           | Matemáticas   |\n",
        "| $3$           | Física        |\n",
        "| $4$           | Biología      | \n",
        "| $5$           | Ciencias de la Tierra| \n",
        "\n",
        "\n",
        "Y la relación ESTUDIA, de esta dforma.\n",
        "\n",
        "| num_cuenta    | num_carrera| \n",
        "| :-:           |    :-:     | \n",
        "| $34234$       | $1$        | \n",
        "| $75675$       | $2$        |\n",
        "| $42534$       | $1$        |\n",
        "| $18238$       | $3$        |  \n",
        "\n",
        "El campo (atributo) carrera de la entidad ALUMNOS es un atributo que se repite y que es un candidato a ser elimindo, ya que lo podemos inferir de la relación ESTUDA. Es decir, que al revisar la relación ESTUDIA que vicnula a la entidad ALUMNOS con la entidad CARRERA podemos inferir la carrera y por lo tanto podemos elimniar el campo carrera de la entidad ALUMNOS.\n",
        "\n",
        "Si lo vemos en el modelo relacional, la situación sería la siguiente.\n",
        "\n",
        "<center>\n",
        "<img src=\"https://github.com/jugernaut/ManejoDatos/blob/desarrollo/Imagenes/Bases/norma1.png?raw=1\" width=\"800\"> \n",
        "</center>\n",
        "\n",
        "Pero dado que podemos \"inferir\" el nombre de la carrera al revisar las relaciones existentes, entonces el modelo relacional normalizado debería verse así.\n",
        "\n",
        "<center>\n",
        "<img src=\"https://github.com/jugernaut/ManejoDatos/blob/desarrollo/Imagenes/Bases/norma2.png?raw=1\" width=\"800\"> \n",
        "</center>"
      ],
      "metadata": {
        "id": "IKOoDkTeQalD"
      }
    },
    {
      "cell_type": "markdown",
      "metadata": {
        "id": "XTOt0TLLOV1q"
      },
      "source": [
        "# Referencias\n",
        "\n",
        "* Greg Riccardi: Principles of Database Systems with Internet an Java Aplications.\n",
        "* Referencias  Anexo: Algebra relacional, https://www.unirioja.es/cu/arjaime/Temas/04.Anexo.pdf\n",
        "* Referencias  https://www.w3schools.com/sql/\n",
        "* Referencias  http://mysql.conclase.net/curso/?cap=000#\n",
        "* Referencias  http://didepa.uaemex.mx/clases/Manuales/MySql/MySql-La%20biblia%20de%20mysql.pdf\n",
        "* Referencias  https://downloads.mysql.com/docs/refman-5.0-es.pdf"
      ]
    }
  ]
}