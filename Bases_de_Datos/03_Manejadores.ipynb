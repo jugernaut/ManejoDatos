{
  "nbformat": 4,
  "nbformat_minor": 0,
  "metadata": {
    "colab": {
      "name": "03_Manejadores.ipynb",
      "provenance": [],
      "toc_visible": true,
      "include_colab_link": true
    },
    "kernelspec": {
      "name": "python3",
      "display_name": "Python 3"
    },
    "language_info": {
      "name": "python"
    },
    "widgets": {
      "application/vnd.jupyter.widget-state+json": {
        "6300687c89dd47a0a0e347c2892d85c9": {
          "model_module": "@jupyter-widgets/controls",
          "model_name": "VBoxModel",
          "model_module_version": "1.5.0",
          "state": {
            "_view_name": "VBoxView",
            "_dom_classes": [
              "widget-interact"
            ],
            "_model_name": "VBoxModel",
            "_view_module": "@jupyter-widgets/controls",
            "_model_module_version": "1.5.0",
            "_view_count": null,
            "_view_module_version": "1.5.0",
            "box_style": "",
            "layout": "IPY_MODEL_8411ddfe712548f4a0610cbebeb175e3",
            "_model_module": "@jupyter-widgets/controls",
            "children": [
              "IPY_MODEL_6743b1dc4be24c5ab65f2b15bde2011e",
              "IPY_MODEL_ff485a8c88fe4677817be345850b5d78"
            ]
          }
        },
        "8411ddfe712548f4a0610cbebeb175e3": {
          "model_module": "@jupyter-widgets/base",
          "model_name": "LayoutModel",
          "model_module_version": "1.2.0",
          "state": {
            "_view_name": "LayoutView",
            "grid_template_rows": null,
            "right": null,
            "justify_content": null,
            "_view_module": "@jupyter-widgets/base",
            "overflow": null,
            "_model_module_version": "1.2.0",
            "_view_count": null,
            "flex_flow": null,
            "width": null,
            "min_width": null,
            "border": null,
            "align_items": null,
            "bottom": null,
            "_model_module": "@jupyter-widgets/base",
            "top": null,
            "grid_column": null,
            "overflow_y": null,
            "overflow_x": null,
            "grid_auto_flow": null,
            "grid_area": null,
            "grid_template_columns": null,
            "flex": null,
            "_model_name": "LayoutModel",
            "justify_items": null,
            "grid_row": null,
            "max_height": null,
            "align_content": null,
            "visibility": null,
            "align_self": null,
            "height": null,
            "min_height": null,
            "padding": null,
            "grid_auto_rows": null,
            "grid_gap": null,
            "max_width": null,
            "order": null,
            "_view_module_version": "1.2.0",
            "grid_template_areas": null,
            "object_position": null,
            "object_fit": null,
            "grid_auto_columns": null,
            "margin": null,
            "display": null,
            "left": null
          }
        },
        "6743b1dc4be24c5ab65f2b15bde2011e": {
          "model_module": "@jupyter-widgets/controls",
          "model_name": "DropdownModel",
          "model_module_version": "1.5.0",
          "state": {
            "_options_labels": [
              "Mike",
              "Pedro",
              "Peter",
              "Almendra",
              "Alvaro",
              "Canek",
              "Sonia",
              "Arturo",
              "Gisel",
              "Alfa"
            ],
            "_view_name": "DropdownView",
            "style": "IPY_MODEL_e005b47828a14173825ea6869b91340c",
            "_dom_classes": [],
            "description": "alumno",
            "_model_name": "DropdownModel",
            "index": 8,
            "_view_module": "@jupyter-widgets/controls",
            "_model_module_version": "1.5.0",
            "_view_count": null,
            "disabled": false,
            "_view_module_version": "1.5.0",
            "description_tooltip": null,
            "_model_module": "@jupyter-widgets/controls",
            "layout": "IPY_MODEL_8a70d00c3a624746b3fd57da5f3c2998"
          }
        },
        "ff485a8c88fe4677817be345850b5d78": {
          "model_module": "@jupyter-widgets/output",
          "model_name": "OutputModel",
          "model_module_version": "1.0.0",
          "state": {
            "_view_name": "OutputView",
            "msg_id": "",
            "_dom_classes": [],
            "_model_name": "OutputModel",
            "outputs": [
              {
                "output_type": "stream",
                "name": "stdout",
                "text": [
                  "('Gisel', 'Charles Darwin', 'biologia')\n"
                ]
              }
            ],
            "_view_module": "@jupyter-widgets/output",
            "_model_module_version": "1.0.0",
            "_view_count": null,
            "_view_module_version": "1.0.0",
            "layout": "IPY_MODEL_9e747f271a5648d1a46eb6dc037593da",
            "_model_module": "@jupyter-widgets/output"
          }
        },
        "e005b47828a14173825ea6869b91340c": {
          "model_module": "@jupyter-widgets/controls",
          "model_name": "DescriptionStyleModel",
          "model_module_version": "1.5.0",
          "state": {
            "_view_name": "StyleView",
            "_model_name": "DescriptionStyleModel",
            "description_width": "",
            "_view_module": "@jupyter-widgets/base",
            "_model_module_version": "1.5.0",
            "_view_count": null,
            "_view_module_version": "1.2.0",
            "_model_module": "@jupyter-widgets/controls"
          }
        },
        "8a70d00c3a624746b3fd57da5f3c2998": {
          "model_module": "@jupyter-widgets/base",
          "model_name": "LayoutModel",
          "model_module_version": "1.2.0",
          "state": {
            "_view_name": "LayoutView",
            "grid_template_rows": null,
            "right": null,
            "justify_content": null,
            "_view_module": "@jupyter-widgets/base",
            "overflow": null,
            "_model_module_version": "1.2.0",
            "_view_count": null,
            "flex_flow": null,
            "width": null,
            "min_width": null,
            "border": null,
            "align_items": null,
            "bottom": null,
            "_model_module": "@jupyter-widgets/base",
            "top": null,
            "grid_column": null,
            "overflow_y": null,
            "overflow_x": null,
            "grid_auto_flow": null,
            "grid_area": null,
            "grid_template_columns": null,
            "flex": null,
            "_model_name": "LayoutModel",
            "justify_items": null,
            "grid_row": null,
            "max_height": null,
            "align_content": null,
            "visibility": null,
            "align_self": null,
            "height": null,
            "min_height": null,
            "padding": null,
            "grid_auto_rows": null,
            "grid_gap": null,
            "max_width": null,
            "order": null,
            "_view_module_version": "1.2.0",
            "grid_template_areas": null,
            "object_position": null,
            "object_fit": null,
            "grid_auto_columns": null,
            "margin": null,
            "display": null,
            "left": null
          }
        },
        "9e747f271a5648d1a46eb6dc037593da": {
          "model_module": "@jupyter-widgets/base",
          "model_name": "LayoutModel",
          "model_module_version": "1.2.0",
          "state": {
            "_view_name": "LayoutView",
            "grid_template_rows": null,
            "right": null,
            "justify_content": null,
            "_view_module": "@jupyter-widgets/base",
            "overflow": null,
            "_model_module_version": "1.2.0",
            "_view_count": null,
            "flex_flow": null,
            "width": null,
            "min_width": null,
            "border": null,
            "align_items": null,
            "bottom": null,
            "_model_module": "@jupyter-widgets/base",
            "top": null,
            "grid_column": null,
            "overflow_y": null,
            "overflow_x": null,
            "grid_auto_flow": null,
            "grid_area": null,
            "grid_template_columns": null,
            "flex": null,
            "_model_name": "LayoutModel",
            "justify_items": null,
            "grid_row": null,
            "max_height": null,
            "align_content": null,
            "visibility": null,
            "align_self": null,
            "height": null,
            "min_height": null,
            "padding": null,
            "grid_auto_rows": null,
            "grid_gap": null,
            "max_width": null,
            "order": null,
            "_view_module_version": "1.2.0",
            "grid_template_areas": null,
            "object_position": null,
            "object_fit": null,
            "grid_auto_columns": null,
            "margin": null,
            "display": null,
            "left": null
          }
        }
      }
    }
  },
  "cells": [
    {
      "cell_type": "markdown",
      "metadata": {
        "id": "view-in-github",
        "colab_type": "text"
      },
      "source": [
        "<a href=\"https://colab.research.google.com/github/jugernaut/ManejoDatos/blob/desarrollo/Bases_de_Datos/03_Manejadores.ipynb\" target=\"_parent\"><img src=\"https://colab.research.google.com/assets/colab-badge.svg\" alt=\"Open In Colab\"/></a>"
      ]
    },
    {
      "cell_type": "markdown",
      "metadata": {
        "id": "wBGQJF8IxoLG"
      },
      "source": [
        "<font color=\"Teal\" face=\"Comic Sans MS,arial\">\n",
        "  <h1 align=\"center\"><i>Manejadores</i></h1>\n",
        "  </font>\n",
        "  <font color=\"Black\" face=\"Comic Sans MS,arial\">\n",
        "  <h5 align=\"center\"><i>Profesor: M. en C. Miguel Angel Pérez León</i></h5>\n",
        "    <h5 align=\"center\"><i>Ayudante: Jesús Iván Coss Calderón</i></h5>\n",
        "    <h5 align=\"center\"><i>Ayudante: Jonathan Ramírez Montes</i></h5>\n",
        "  <h5 align=\"center\"><i>Materia: Manejo de Datos</i></h5>\n",
        "  </font>"
      ]
    },
    {
      "cell_type": "markdown",
      "metadata": {
        "id": "8L_uempGMcuv"
      },
      "source": [
        "# Introducción\n",
        "\n",
        "Dado lo ya mencionado en secciones pasadas, la importancia de las bases de datos debe ser clara para este momento.\n",
        "\n",
        "Un manejador de bases de datos es un programa (algoritmo) que nos permite acceder a los datos de manera eficiente, organizada y sobretodo que no viola las restricciones mencionadas para el modelo relacional.\n",
        "\n",
        "Para lograr esta eficiencia, un manejador de datos emplea **algoritmos de búsqueda, algoritmos de ordenamientos, arboles de decisión, expresiones regulares, tablas de dispersión**, entre otros.\n",
        "\n",
        "En la actualidad existen muchos manejadores de bases de datos (incluso algunos no-relacionales). Existen desde los más básicos, hasta los más completos, la elección del manejador de base de datos depende del contexto para el que se vaya a usar, es decir: recursos, seguridad, desempeño, presupuesto, etc.\n",
        "\n",
        "La gran mayoria de las aplicaciones actualmente funcionan mediante la arquitectura **cliente-servidor**, la cual nos dice que una parte de la aplicación se hospeda en un servidor y la otra parte en un cliente y normalmente la base de datos se almacena en otro (o a veces el mismo) servidor.\n",
        "\n",
        "<center>\n",
        "<img src=\"https://github.com/jugernaut/ManejoDatos/blob/desarrollo/Imagenes/Bases/base.jpg?raw=1\" width=\"600\"> \n",
        "</center>"
      ]
    },
    {
      "cell_type": "markdown",
      "metadata": {
        "id": "QzDivKN1M-xn"
      },
      "source": [
        "# SQL\n",
        "\n",
        "Del ingles *Structured Query Language* (SQL), es el lenguaje que nos permite interactuar con el manejador de bases de datos para acceder a los datos almacenados. Sus principales características son: \n",
        "\n",
        "* Primer lenguaje en incorporar el modelo relacional para llevar a cabo consultas a los datos almacenados.\n",
        "* Es un lenguaje libre y de dominio especifico, lo que significa que no es necesario pagar una licencia para poder hacer uso de este.\n",
        "* Esta diseñado para incorporar los conceptos de calculo y álgebra relacional para llevar a cabo las consultas a la base de datos.\n",
        "* SQL pasó a ser el estándar del Instituto Nacional Estadounidense de Estándares (ANSI) en 1986 y de la Organización Internacional de Normalización (ISO) en 1987. "
      ]
    },
    {
      "cell_type": "markdown",
      "metadata": {
        "id": "YPPHIpSaNQWL"
      },
      "source": [
        "# *MySQL*\n",
        "\n",
        "MySQL es el manejador de bases de datos que se utilizará a lo largo del curso, se caracteriza por:\n",
        "\n",
        "* Es un manejador de bases de datos relacional.\n",
        "* Manejador de código abierto, es decir que cualquiera puede descargar el código fuente.\n",
        "* A la par de *Oracle, Microsoft SQL Server, MySQL* es de los manejadores mas populares para el desarrollo web."
      ]
    },
    {
      "cell_type": "markdown",
      "metadata": {
        "id": "1bcD_JGyNlFs"
      },
      "source": [
        "## Comandos \n",
        "\n",
        "Los principales comandos que se utilizan en *MySQL* se muestran a continuación: \n",
        "\n",
        "* `CREATE`: permite crear usuarios, bases de datos, tablas, restricciones, etc.\n",
        "* `INSERT`: mediante este comando se insertan valores dentro de una base de datos.\n",
        "* `UPDATE`: comando que nos permite actualizar la información dentro de la base de datos.\n",
        "* `DROP`: este comando es usado para eliminar desde tabla, hasta una base de datos completa.\n",
        "* `SELECT`: permite seleccionar un conjunto de datos (es el equivalente a la proyección).\n",
        "* `WHERE`: más que un comando es una clausula, que en combinación con `SELECT`, permite seleccionar solo los datos que cumplan con un determinado criterio."
      ]
    },
    {
      "cell_type": "markdown",
      "source": [
        "# Conexión desde *Python*\n",
        "\n",
        "Hasta este momento hemos usado *MySQL*, a nivel usuario es decir, hemos realizado las consultas a la base de datos directamente con el manejador de la base de datos.\n",
        "\n",
        "Sin embargo la mayoria de las aplicaciones o programas realizan estas consultas desde un lenguaje de alto nivel (como lo es *Python*), para llevar a cabo esta labor son necesarios tres elementos:\n",
        "\n",
        "*   **La base de datos en un servidor**: para poder acceder desde cualquier punto de la red (internet) a nuestra base de datos, es necesario ubicar esta base de datos en un servidor que cuente con una *IP* publica y las respectivas credenciales (usuario, contaseña, puerto).\n",
        "*   **Conector**: el conector es una paqueteria (*API*) que nos perite indicarle al lenguaje (en este caso *Python*), que vamos a establecer una conexion con la base de datos.\n",
        "*   **Algoritmo**: finalmente necesitamos el código que nos permita acceder y manipular los datos de la base de datos desde el lenguaje de alto nivel.\n",
        "\n",
        "\n",
        "\n"
      ],
      "metadata": {
        "id": "UbA1pJibc21y"
      }
    },
    {
      "cell_type": "markdown",
      "source": [
        "## Base de datos y servidor\n",
        "\n",
        "Como ya se ha mencionado en clase, la base de datos para el curso se encuentra en un servidor de la facultad, mismo que cuenta con una *IP* qpública que permite establecer la conexión a la base de datos desde cualquier computadora, en particular desde una sesión de *Google Colab*.\n",
        "\n",
        "Para este ejemplo vamos a usar el servidor *hpc-matematicas-z.fciencias.unam.mx* cuya *IP* pública es *132.248.181.125* y la base de datos *FCiencias*, el usuario *manejo* y la contraseña *prometeo*. Vale la pena mencionar que se esta haciendo uso del **puerto por default** que usa *MySQL*, que es 3306."
      ],
      "metadata": {
        "id": "lYhb7fiQhS5q"
      }
    },
    {
      "cell_type": "markdown",
      "source": [
        "## Conector\n",
        "\n",
        "Existen distintos \"conectores\" mediante los cuales podemos establecer la conexión con la base de datos, sin embargo para este ejemplo vamos a instalar el conector oficial de *MySQL*, [aqui](https://dev.mysql.com/doc/connector-python/en/connector-python-introduction.html) puedes encontrar más información al respecto.\n",
        "\n",
        "Para instalar el conector en *Google Colab*, es tan sencillo como hacer uso del gestor de instalación de *Python* (*pip*) ejecutando la siguiente celda. Una vez instalado el conector ya podemos usarlo desde cualquier celda de código."
      ],
      "metadata": {
        "id": "5A6rjVFXii_h"
      }
    },
    {
      "cell_type": "code",
      "source": [
        "!pip install mysql-connector-python"
      ],
      "metadata": {
        "id": "YLlduGIPfGyF",
        "outputId": "acdb27c9-ae57-4aee-dbb5-7ae9f9d4864e",
        "colab": {
          "base_uri": "https://localhost:8080/"
        }
      },
      "execution_count": null,
      "outputs": [
        {
          "output_type": "stream",
          "name": "stdout",
          "text": [
            "Requirement already satisfied: mysql-connector-python in /usr/local/lib/python3.7/dist-packages (8.0.27)\n",
            "Requirement already satisfied: protobuf>=3.0.0 in /usr/local/lib/python3.7/dist-packages (from mysql-connector-python) (3.17.3)\n",
            "Requirement already satisfied: six>=1.9 in /usr/local/lib/python3.7/dist-packages (from protobuf>=3.0.0->mysql-connector-python) (1.15.0)\n"
          ]
        }
      ]
    },
    {
      "cell_type": "markdown",
      "source": [
        "## Conexión básica\n",
        "\n",
        "En la siguiente celda se importa en conector para poder hacer uso del mismo, posteriormente se establece la conexión al servidor de la base de datos.\n",
        "\n",
        "El objeto `cursor` es un elemento que nos permite ejecutar consultas (altas, bajas, cambios) a la base de datos.\n",
        "\n",
        "La cadena `consulta` es un *String* que representa la consulta que se le pedira ejecutar al `cursor`, mismo que ya establecio la conexión a la base de datos. En este [enlace](https://dev.mysql.com/doc/connector-python/en/connector-python-api-mysqlcursor.html) puedes leer más sobre la clase `cursor`\n",
        "\n",
        "Al momento de ejecutar el método `execute` es necesario pasar como parametro la consulta que se quiera realizar, además es opcional el paso de parámetros extra que puedan ayudar a refinar la consulta, [aquí](https://dev.mysql.com/doc/connector-python/en/connector-python-api-mysqlcursor-execute.html) puedes ver la documentación del método `execute`.\n",
        "\n",
        "Después de haber ejecutado el método `execute` el objeto `cursor` almacena los resultados de la consulta y dado que el objeto `cursor` es *iterable* lo podemos recorrer con un simple *for* (foreach) e imprimir las tuplas resultado de la consulta a la base de datos.\n",
        "\n",
        "Finalmente, una vez que se haya terminado de realizar las consultas a la base de datos, **es muy importante** cerrar el `cursor` y la conexión a la base de datos, de otra forma la conexión queda abierta y alguien con el conocimiento adecuado puede hacer uso incorrecto de la misma."
      ],
      "metadata": {
        "id": "EezJ2bb5jb6-"
      }
    },
    {
      "cell_type": "code",
      "source": [
        "# se importa la biblioteca necesaria\n",
        "import mysql.connector\n",
        "\n",
        "# asignamos las credenciales de conexion y se establece la conexion\n",
        "con = mysql.connector.connect(host=\"hpc-matematicas-z.fciencias.unam.mx\",    \n",
        "   user=\"manejo\", \n",
        "   password=\"prometeo\",\n",
        "   database=\"FCiencias\")\n",
        "\n",
        "# obtenemos un cursor para realizar consultas\n",
        "cursor = con.cursor()\n",
        "\n",
        "# consulta en forma de cadena\n",
        "#consulta = ('SELECT * FROM alumnos')\n",
        "\n",
        "consulta = ('SELECT num_cuenta, nombre, nombre_tutor, nombre_especialidad '\n",
        "'FROM tutorias natural join alumnos natural join tutores natural join '\n",
        "'especialidades')\n",
        "\n",
        "# ejecucion de la consulta a la base de datos\n",
        "cursor.execute(consulta)\n",
        "\n",
        "# se itera sobre el objeto cursor\n",
        "for tupla in cursor:\n",
        "  print(tupla)\n",
        "\n",
        "# se cierra el cursor y la conexion\n",
        "cursor.close()\n",
        "con.close()"
      ],
      "metadata": {
        "id": "zMenfW19exVG",
        "outputId": "f2f5df19-4237-4fb7-bf68-99321cdc3684",
        "colab": {
          "base_uri": "https://localhost:8080/"
        }
      },
      "execution_count": null,
      "outputs": [
        {
          "output_type": "stream",
          "name": "stdout",
          "text": [
            "(1, 'Mike', 'Mark Musk', 'ciencia de datos')\n",
            "(2, 'Pedro', 'Miguel de Icaza', 'ciencias de la computacion')\n",
            "(3, 'Peter', 'Mario Molina', 'actuaria')\n",
            "(4, 'Almendra', 'Charles Darwin', 'biologia')\n",
            "(5, 'Alvaro', 'Isaac Newton', 'matematicas')\n",
            "(6, 'Canek', 'Mark Musk', 'ciencia de datos')\n",
            "(7, 'Sonia', 'Miguel de Icaza', 'ciencias de la computacion')\n",
            "(8, 'Arturo', 'Mark Musk', 'ciencia de datos')\n",
            "(9, 'Gisel', 'Charles Darwin', 'biologia')\n",
            "(10, 'Alfa', 'Isaac Newton', 'matematicas')\n"
          ]
        }
      ]
    },
    {
      "cell_type": "markdown",
      "source": [
        "## *GUI (Graphic User Interface)*\n",
        "\n",
        "Ya que entendimos como se establece la conexión a la base de datos, veamos una de muchas formas en las cuales podemos hacer uso de los mismos.\n",
        "\n",
        "Supongamos que se requiere crear un programa que permita mostrar los alumnos registrados en nuestra base de datos y dependiendo del alumno que seleccione el usuario, entonces se muestre el nombre de su tutor y la especialidad del mismo.\n",
        "\n",
        "Para llevar a cabo esta labor vamos a hacer uso de un `widget` que le permita al usuario seleccionar el nombre del alumno y posteriormente a la seleccion del mismo, se muestren los datos del tutor.\n",
        "\n",
        "A fin de mostrar los resultados y dado que la sesión que estamos usando es temporal, omitiremos el cerrar el `cursor`  y la conexión pero no olviden que es importante cerrar ambos."
      ],
      "metadata": {
        "id": "SQb7gZ0frb3R"
      }
    },
    {
      "cell_type": "code",
      "source": [
        "import mysql.connector\n",
        "from ipywidgets import interact, interactive, fixed\n",
        "import ipywidgets as widgets\n",
        "\n",
        "con = mysql.connector.connect(host=\"hpc-matematicas-z.fciencias.unam.mx\",    \n",
        "   user=\"manejo\", \n",
        "   password=\"prometeo\",\n",
        "   database=\"FCiencias\")\n",
        "\n",
        "cursor = con.cursor()\n",
        "\n",
        "def consulta_alumnos():\n",
        "  consulta = ('SELECT nombre FROM alumnos')\n",
        "  cursor.execute(consulta)\n",
        "  nombre_alumnos = []\n",
        "  for nombre in cursor:\n",
        "    nombre_alumnos.append(nombre[0])\n",
        "  return nombre_alumnos\n",
        "\n",
        "def consulta_tutor(alumno):\n",
        "  consulta = ('SELECT nombre, nombre_tutor, nombre_especialidad '\n",
        "  'FROM tutorias natural join alumnos natural join tutores natural join '\n",
        "  'especialidades WHERE nombre = %s')\n",
        "  cursor.execute(consulta, (alumno,))\n",
        "  for tupla in cursor:\n",
        "    print(tupla)\n",
        "\n",
        "w = interact(consulta_tutor, alumno = consulta_alumnos())"
      ],
      "metadata": {
        "id": "_SnBaOuDsmpe",
        "outputId": "097c1f8c-2eb6-4125-a3f5-49c5b5ef3590",
        "colab": {
          "base_uri": "https://localhost:8080/",
          "height": 66,
          "referenced_widgets": [
            "6300687c89dd47a0a0e347c2892d85c9",
            "8411ddfe712548f4a0610cbebeb175e3",
            "6743b1dc4be24c5ab65f2b15bde2011e",
            "ff485a8c88fe4677817be345850b5d78",
            "e005b47828a14173825ea6869b91340c",
            "8a70d00c3a624746b3fd57da5f3c2998",
            "9e747f271a5648d1a46eb6dc037593da"
          ]
        }
      },
      "execution_count": null,
      "outputs": [
        {
          "output_type": "display_data",
          "data": {
            "application/vnd.jupyter.widget-view+json": {
              "model_id": "6300687c89dd47a0a0e347c2892d85c9",
              "version_minor": 0,
              "version_major": 2
            },
            "text/plain": [
              "interactive(children=(Dropdown(description='alumno', options=('Mike', 'Pedro', 'Peter', 'Almendra', 'Alvaro', …"
            ]
          },
          "metadata": {}
        }
      ]
    },
    {
      "cell_type": "markdown",
      "metadata": {
        "id": "XTOt0TLLOV1q"
      },
      "source": [
        "# Referencias\n",
        "\n",
        "* Greg Riccardi: Principles of Database Systems with Internet an Java Aplications.\n",
        "* Referencias  Anexo: Algebra relacional, https://www.unirioja.es/cu/arjaime/Temas/04.Anexo.pdf\n",
        "* Referencias  https://www.w3schools.com/sql/\n",
        "* Referencias  http://mysql.conclase.net/curso/?cap=000#\n",
        "* Referencias  http://didepa.uaemex.mx/clases/Manuales/MySql/MySql-La%20biblia%20de%20mysql.pdf\n",
        "* Referencias  https://downloads.mysql.com/docs/refman-5.0-es.pdf"
      ]
    }
  ]
}