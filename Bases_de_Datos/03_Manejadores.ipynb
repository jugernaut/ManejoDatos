{
  "nbformat": 4,
  "nbformat_minor": 0,
  "metadata": {
    "colab": {
      "name": "03_Manejadores.ipynb",
      "provenance": [],
      "toc_visible": true,
      "include_colab_link": true
    },
    "kernelspec": {
      "name": "python3",
      "display_name": "Python 3"
    },
    "language_info": {
      "name": "python"
    }
  },
  "cells": [
    {
      "cell_type": "markdown",
      "metadata": {
        "id": "view-in-github",
        "colab_type": "text"
      },
      "source": [
        "<a href=\"https://colab.research.google.com/github/jugernaut/ManejoDatos/blob/desarrollo/Bases_de_Datos/03_Manejadores.ipynb\" target=\"_parent\"><img src=\"https://colab.research.google.com/assets/colab-badge.svg\" alt=\"Open In Colab\"/></a>"
      ]
    },
    {
      "cell_type": "markdown",
      "metadata": {
        "id": "wBGQJF8IxoLG"
      },
      "source": [
        "<font color=\"Teal\" face=\"Comic Sans MS,arial\">\n",
        "  <h1 align=\"center\"><i>Manejadores</i></h1>\n",
        "  </font>\n",
        "  <font color=\"Black\" face=\"Comic Sans MS,arial\">\n",
        "  <h5 align=\"center\"><i>Profesor: M. en C. Miguel Angel Pérez León</i></h5>\n",
        "    <h5 align=\"center\"><i>Ayudante: Jesús Iván Coss Calderón</i></h5>\n",
        "    <h5 align=\"center\"><i>Ayudante: Jonathan Ramírez Montes</i></h5>\n",
        "  <h5 align=\"center\"><i>Materia: Manejo de Datos</i></h5>\n",
        "  </font>"
      ]
    },
    {
      "cell_type": "markdown",
      "metadata": {
        "id": "8L_uempGMcuv"
      },
      "source": [
        "# Introducción\n",
        "\n",
        "Dado lo ya mencionado en secciones pasadas, la importancia de las bases de datos debe ser clara para este momento.\n",
        "\n",
        "Un manejador de bases de datos es un programa (algoritmo) que nos permite acceder a los datos de manera eficiente, organizada y sobretodo que no viola las restricciones mencionadas para el modelo relacional.\n",
        "\n",
        "Para lograr esta eficiencia, un manejador de datos emplea **algoritmos de búsqueda, algoritmos de ordenamientos, arboles de decisión, expresiones regulares, tablas de dispersión**, entre otros.\n",
        "\n",
        "En la actualidad existen muchos manejadores de bases de datos (incluso algunos no-relacionales). Existen desde los más básicos, hasta los más completos, la elección del manejador de base de datos depende del contexto para el que se vaya a usar, es decir: recursos, seguridad, desempeño, presupuesto, etc."
      ]
    },
    {
      "cell_type": "markdown",
      "metadata": {
        "id": "QzDivKN1M-xn"
      },
      "source": [
        "# SQL\n",
        "\n",
        "Del ingles *Structured Query Language* (SQL), es el lenguaje que nos permite interactuar con el manejador de bases de datos para acceder a los datos almacenados. Sus principales características son: \n",
        "\n",
        "* Primer lenguaje en incorporar el modelo relacional para llevar a cabo consultas a los datos almacenados.\n",
        "\n",
        "* Es un lenguaje libre y de dominio especifico, lo que significa que no es necesario pagar una licencia para poder hacer uso de este.\n",
        "\n",
        "* Esta diseñado para incorporar los conceptos de calculo y álgebra relacional para llevar a cabo las consultas a la base de datos.\n",
        "\n",
        "* SQL pasó a ser el estándar del Instituto Nacional Estadounidense de Estándares (ANSI) en 1986 y de la Organización Internacional de Normalización (ISO) en 1987. "
      ]
    },
    {
      "cell_type": "markdown",
      "metadata": {
        "id": "YPPHIpSaNQWL"
      },
      "source": [
        "## MySQL\n",
        "\n",
        "MySQL es el manejador de bases de datos que se utilizará a lo largo del curso, se caracteriza por:\n",
        "\n",
        "* Es un manejador de bases de datos relacional.\n",
        "\n",
        "* Manejador de código abierto, es decir que cualquiera puede descargar el código fuente.\n",
        "\n",
        "* A la par de Oracle, Microsoft SQL Server, MySQL es de los manejadores mas populares para el desarrollo web."
      ]
    },
    {
      "cell_type": "markdown",
      "metadata": {
        "id": "1bcD_JGyNlFs"
      },
      "source": [
        "### Comandos \n",
        "\n",
        "Los principales comandos que se utilizan en MySQL se muestran a continuación: \n",
        "\n",
        "* Create: permite crear usuarios, bases de datos, tablas, restricciones, etc.\n",
        "\n",
        "* Insert: mediante este comando se insertan valores dentro de una base de datos.\n",
        "\n",
        "* Update: comando que nos permite actualizar la información dentro de la base de datos.\n",
        "\n",
        "* Drop: este comando es usado para eliminar desde tabla, hasta una base de datos completa.\n",
        "\n",
        "* Select: permite seleccionar un conjunto de datos (es el equivalente a la proyección).\n",
        "\n",
        "* Where: mas que un comando es una clausula, que en combinación con Select, permite seleccionar solo los datos que cumplan con un determinado criterio."
      ]
    },
    {
      "cell_type": "markdown",
      "metadata": {
        "id": "XTOt0TLLOV1q"
      },
      "source": [
        "# Referencias\n",
        "\n",
        "* Greg Riccardi: Principles of Database Systems with Internet an Java Aplications.\n",
        "* Referencias  Anexo: Algebra relacional, https://www.unirioja.es/cu/arjaime/Temas/04.Anexo.pdf\n",
        "* Referencias  https://www.w3schools.com/sql/\n",
        "* Referencias  http://mysql.conclase.net/curso/?cap=000#\n",
        "* Referencias  http://didepa.uaemex.mx/clases/Manuales/MySql/MySql-La%20biblia%20de%20mysql.pdf\n",
        "* Referencias  https://downloads.mysql.com/docs/refman-5.0-es.pdf"
      ]
    }
  ]
}