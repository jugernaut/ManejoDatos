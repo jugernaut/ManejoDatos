{
  "nbformat": 4,
  "nbformat_minor": 0,
  "metadata": {
    "colab": {
      "name": "03_Manejadores.ipynb",
      "provenance": [],
      "toc_visible": true,
      "include_colab_link": true
    },
    "kernelspec": {
      "name": "python3",
      "display_name": "Python 3"
    },
    "language_info": {
      "name": "python"
    },
    "widgets": {
      "application/vnd.jupyter.widget-state+json": {
        "975969a914154ea0b07e0ba3044da080": {
          "model_module": "@jupyter-widgets/controls",
          "model_name": "VBoxModel",
          "model_module_version": "1.5.0",
          "state": {
            "_view_name": "VBoxView",
            "_dom_classes": [
              "widget-interact"
            ],
            "_model_name": "VBoxModel",
            "_view_module": "@jupyter-widgets/controls",
            "_model_module_version": "1.5.0",
            "_view_count": null,
            "_view_module_version": "1.5.0",
            "box_style": "",
            "layout": "IPY_MODEL_d791ba37a51842e5a8228f29940ef625",
            "_model_module": "@jupyter-widgets/controls",
            "children": [
              "IPY_MODEL_a884f0e47e0f4cbab0bfa37ee25886d8",
              "IPY_MODEL_82c6c53d06b141108f89a63bab7172d2"
            ]
          }
        },
        "d791ba37a51842e5a8228f29940ef625": {
          "model_module": "@jupyter-widgets/base",
          "model_name": "LayoutModel",
          "model_module_version": "1.2.0",
          "state": {
            "_view_name": "LayoutView",
            "grid_template_rows": null,
            "right": null,
            "justify_content": null,
            "_view_module": "@jupyter-widgets/base",
            "overflow": null,
            "_model_module_version": "1.2.0",
            "_view_count": null,
            "flex_flow": null,
            "width": null,
            "min_width": null,
            "border": null,
            "align_items": null,
            "bottom": null,
            "_model_module": "@jupyter-widgets/base",
            "top": null,
            "grid_column": null,
            "overflow_y": null,
            "overflow_x": null,
            "grid_auto_flow": null,
            "grid_area": null,
            "grid_template_columns": null,
            "flex": null,
            "_model_name": "LayoutModel",
            "justify_items": null,
            "grid_row": null,
            "max_height": null,
            "align_content": null,
            "visibility": null,
            "align_self": null,
            "height": null,
            "min_height": null,
            "padding": null,
            "grid_auto_rows": null,
            "grid_gap": null,
            "max_width": null,
            "order": null,
            "_view_module_version": "1.2.0",
            "grid_template_areas": null,
            "object_position": null,
            "object_fit": null,
            "grid_auto_columns": null,
            "margin": null,
            "display": null,
            "left": null
          }
        },
        "a884f0e47e0f4cbab0bfa37ee25886d8": {
          "model_module": "@jupyter-widgets/controls",
          "model_name": "DropdownModel",
          "model_module_version": "1.5.0",
          "state": {
            "_options_labels": [
              "Mike",
              "Pedro",
              "Peter",
              "Almendra",
              "Alvaro",
              "Canek",
              "Sonia",
              "Arturo",
              "Gisel",
              "Alfa"
            ],
            "_view_name": "DropdownView",
            "style": "IPY_MODEL_0d62fb186e2b4c92b1319005aa965a8d",
            "_dom_classes": [],
            "description": "alumno",
            "_model_name": "DropdownModel",
            "index": 6,
            "_view_module": "@jupyter-widgets/controls",
            "_model_module_version": "1.5.0",
            "_view_count": null,
            "disabled": false,
            "_view_module_version": "1.5.0",
            "description_tooltip": null,
            "_model_module": "@jupyter-widgets/controls",
            "layout": "IPY_MODEL_90fe8d84a7a14daca52b8b911f70c66c"
          }
        },
        "82c6c53d06b141108f89a63bab7172d2": {
          "model_module": "@jupyter-widgets/output",
          "model_name": "OutputModel",
          "model_module_version": "1.0.0",
          "state": {
            "_view_name": "OutputView",
            "msg_id": "",
            "_dom_classes": [],
            "_model_name": "OutputModel",
            "outputs": [
              {
                "output_type": "stream",
                "name": "stdout",
                "text": [
                  "('Sonia', 'Miguel de Icaza', 'ciencias de la computacion')\n"
                ]
              }
            ],
            "_view_module": "@jupyter-widgets/output",
            "_model_module_version": "1.0.0",
            "_view_count": null,
            "_view_module_version": "1.0.0",
            "layout": "IPY_MODEL_95cfacaf10c6494babfa107e0f0f15f7",
            "_model_module": "@jupyter-widgets/output"
          }
        },
        "0d62fb186e2b4c92b1319005aa965a8d": {
          "model_module": "@jupyter-widgets/controls",
          "model_name": "DescriptionStyleModel",
          "model_module_version": "1.5.0",
          "state": {
            "_view_name": "StyleView",
            "_model_name": "DescriptionStyleModel",
            "description_width": "",
            "_view_module": "@jupyter-widgets/base",
            "_model_module_version": "1.5.0",
            "_view_count": null,
            "_view_module_version": "1.2.0",
            "_model_module": "@jupyter-widgets/controls"
          }
        },
        "90fe8d84a7a14daca52b8b911f70c66c": {
          "model_module": "@jupyter-widgets/base",
          "model_name": "LayoutModel",
          "model_module_version": "1.2.0",
          "state": {
            "_view_name": "LayoutView",
            "grid_template_rows": null,
            "right": null,
            "justify_content": null,
            "_view_module": "@jupyter-widgets/base",
            "overflow": null,
            "_model_module_version": "1.2.0",
            "_view_count": null,
            "flex_flow": null,
            "width": null,
            "min_width": null,
            "border": null,
            "align_items": null,
            "bottom": null,
            "_model_module": "@jupyter-widgets/base",
            "top": null,
            "grid_column": null,
            "overflow_y": null,
            "overflow_x": null,
            "grid_auto_flow": null,
            "grid_area": null,
            "grid_template_columns": null,
            "flex": null,
            "_model_name": "LayoutModel",
            "justify_items": null,
            "grid_row": null,
            "max_height": null,
            "align_content": null,
            "visibility": null,
            "align_self": null,
            "height": null,
            "min_height": null,
            "padding": null,
            "grid_auto_rows": null,
            "grid_gap": null,
            "max_width": null,
            "order": null,
            "_view_module_version": "1.2.0",
            "grid_template_areas": null,
            "object_position": null,
            "object_fit": null,
            "grid_auto_columns": null,
            "margin": null,
            "display": null,
            "left": null
          }
        },
        "95cfacaf10c6494babfa107e0f0f15f7": {
          "model_module": "@jupyter-widgets/base",
          "model_name": "LayoutModel",
          "model_module_version": "1.2.0",
          "state": {
            "_view_name": "LayoutView",
            "grid_template_rows": null,
            "right": null,
            "justify_content": null,
            "_view_module": "@jupyter-widgets/base",
            "overflow": null,
            "_model_module_version": "1.2.0",
            "_view_count": null,
            "flex_flow": null,
            "width": null,
            "min_width": null,
            "border": null,
            "align_items": null,
            "bottom": null,
            "_model_module": "@jupyter-widgets/base",
            "top": null,
            "grid_column": null,
            "overflow_y": null,
            "overflow_x": null,
            "grid_auto_flow": null,
            "grid_area": null,
            "grid_template_columns": null,
            "flex": null,
            "_model_name": "LayoutModel",
            "justify_items": null,
            "grid_row": null,
            "max_height": null,
            "align_content": null,
            "visibility": null,
            "align_self": null,
            "height": null,
            "min_height": null,
            "padding": null,
            "grid_auto_rows": null,
            "grid_gap": null,
            "max_width": null,
            "order": null,
            "_view_module_version": "1.2.0",
            "grid_template_areas": null,
            "object_position": null,
            "object_fit": null,
            "grid_auto_columns": null,
            "margin": null,
            "display": null,
            "left": null
          }
        }
      }
    }
  },
  "cells": [
    {
      "cell_type": "markdown",
      "metadata": {
        "id": "view-in-github",
        "colab_type": "text"
      },
      "source": [
        "<a href=\"https://colab.research.google.com/github/jugernaut/ManejoDatos/blob/desarrollo/Bases_de_Datos/03_Manejadores.ipynb\" target=\"_parent\"><img src=\"https://colab.research.google.com/assets/colab-badge.svg\" alt=\"Open In Colab\"/></a>"
      ]
    },
    {
      "cell_type": "markdown",
      "metadata": {
        "id": "wBGQJF8IxoLG"
      },
      "source": [
        "<font color=\"Teal\" face=\"Comic Sans MS,arial\">\n",
        "  <h1 align=\"center\"><i>Manejadores</i></h1>\n",
        "  </font>\n",
        "  <font color=\"Black\" face=\"Comic Sans MS,arial\">\n",
        "  <h5 align=\"center\"><i>Profesor: M. en C. Miguel Angel Pérez León</i></h5>\n",
        "    <h5 align=\"center\"><i>Ayudante: Jesús Iván Coss Calderón</i></h5>\n",
        "    <h5 align=\"center\"><i>Ayudante: Jonathan Ramírez Montes</i></h5>\n",
        "  <h5 align=\"center\"><i>Materia: Manejo de Datos</i></h5>\n",
        "  </font>"
      ]
    },
    {
      "cell_type": "markdown",
      "metadata": {
        "id": "8L_uempGMcuv"
      },
      "source": [
        "# Introducción\n",
        "\n",
        "Dado lo ya mencionado en secciones pasadas, la importancia de las bases de datos debe ser clara para este momento.\n",
        "\n",
        "Un manejador de bases de datos es un programa (algoritmo) que nos permite acceder a los datos de manera eficiente, organizada y sobretodo que no viola las restricciones mencionadas para el modelo relacional.\n",
        "\n",
        "Para lograr esta eficiencia, un manejador de datos emplea **algoritmos de búsqueda, algoritmos de ordenamientos, arboles de decisión, expresiones regulares, tablas de dispersión**, entre otros.\n",
        "\n",
        "En la actualidad existen muchos manejadores de bases de datos (incluso algunos no-relacionales). Existen desde los más básicos, hasta los más completos, la elección del manejador de base de datos depende del contexto para el que se vaya a usar, es decir: recursos, seguridad, desempeño, presupuesto, etc.\n",
        "\n",
        "La gran mayoría de las aplicaciones actualmente funcionan mediante la arquitectura **cliente-servidor**, la cual nos dice que una parte de la aplicación se hospeda en un servidor y la otra parte en un cliente y normalmente la base de datos se almacena en otro (o a veces el mismo) servidor.\n",
        "\n",
        "<center>\n",
        "<img src=\"https://github.com/jugernaut/ManejoDatos/blob/desarrollo/Imagenes/Bases/base.jpg?raw=1\" width=\"600\"> \n",
        "</center>"
      ]
    },
    {
      "cell_type": "markdown",
      "metadata": {
        "id": "QzDivKN1M-xn"
      },
      "source": [
        "# SQL\n",
        "\n",
        "Del ingles *Structured Query Language* (SQL), es el lenguaje que nos permite interactuar con el manejador de bases de datos para acceder a los datos almacenados. Sus principales características son: \n",
        "\n",
        "* Primer lenguaje en incorporar el modelo relacional para llevar a cabo consultas a los datos almacenados.\n",
        "* Es un lenguaje libre y de dominio especifico, lo que significa que no es necesario pagar una licencia para poder hacer uso de este.\n",
        "* Esta diseñado para incorporar los conceptos de calculo y álgebra relacional para llevar a cabo las consultas a la base de datos.\n",
        "* SQL pasó a ser el estándar del Instituto Nacional Estadounidense de Estándares (ANSI) en 1986 y de la Organización Internacional de Normalización (ISO) en 1987. "
      ]
    },
    {
      "cell_type": "markdown",
      "metadata": {
        "id": "YPPHIpSaNQWL"
      },
      "source": [
        "# *MySQL*\n",
        "\n",
        "MySQL es el manejador de bases de datos que se utilizará a lo largo del curso, se caracteriza por:\n",
        "\n",
        "* Es un manejador de bases de datos relacional.\n",
        "* Manejador de código abierto, es decir que cualquiera puede descargar el código fuente.\n",
        "* A la par de *Oracle, Microsoft SQL Server, MySQL* es de los manejadores mas populares para el desarrollo web.\n",
        "* Permite crear y **administrar usuarios** para el acceso a los datos dentro de la base."
      ]
    },
    {
      "cell_type": "markdown",
      "metadata": {
        "id": "1bcD_JGyNlFs"
      },
      "source": [
        "## Comandos \n",
        "\n",
        "Los principales comandos que se utilizan en *MySQL* se muestran a continuación: \n",
        "\n",
        "* `CREATE`: permite crear usuarios, bases de datos, tablas, restricciones, etc.\n",
        "* `INSERT`: mediante este comando se insertan valores dentro de una base de datos.\n",
        "* `UPDATE`: comando que nos permite actualizar la información dentro de la base de datos.\n",
        "* `DROP`: este comando es usado para eliminar desde tabla, hasta una base de datos completa.\n",
        "* `SELECT`: permite seleccionar un conjunto de datos (es el equivalente a la proyección).\n",
        "* `WHERE`: más que un comando es una clausula, que en combinación con `SELECT`, permite seleccionar solo los datos que cumplan con un determinado criterio.\n",
        "\n",
        "Dado que *MySQL* es un manejador de bases de datos, esto significa que además de permitirnos crear la base de datos y manipular los mismo cuenta con un **sistema de usuarios y privilegios** que permite administrar el acceso a la información, para mayor información al respecto revisar el siguiente [enlace](https://dev.mysql.com/doc/refman/8.0/en/database-use.html)."
      ]
    },
    {
      "cell_type": "markdown",
      "source": [
        "## Ejemplo\n",
        "\n",
        "En esta sección vamos a ver un poco de la labor que corresponde al diseñador de la base de datos (arquitecto), esta labor escapa un poco a los temas del curso, sin embargo es buena idea conocer como es que construye el **esquema** (*schema*) de la base de datos.\n",
        "\n",
        "Es importante mencionar que el acceso a los comandos que proporciona *MySQL* **depende de los privilegios que tenga el usuario en cuestión**. Por ejemplo un usuario que solo tenga privilegios para cosultar datos en una determinada base de datos no puede crear tablas dentro de la misma.\n",
        "\n",
        "Este sistema de privilegios tiene la intención de delegar solo los privilegios pertinentes al usuario, para cumplir la labor que le fue asignada a este usuario.\n",
        "\n",
        "En el caso del ejemplo que hemos usado en clase, el usuario *manejo*, unicamente tiene acceso la base *FCiencias* y dentro de la misma únicamente tiene privilegios par ejecutar el comando `SELECT`.\n",
        "\n",
        "Para mostrar como usar los comandos más comunes al crear un esquema, tomemos el siguiente modelo relacional.\n",
        "\n",
        "<center>\n",
        "<img src=\"https://github.com/jugernaut/ManejoDatos/blob/desarrollo/Imagenes/Bases/comandos.png?raw=1\" width=\"800\"> \n",
        "</center>\n"
      ],
      "metadata": {
        "id": "T0lgcILSPwDx"
      }
    },
    {
      "cell_type": "markdown",
      "source": [
        "### `CREATE`\n",
        "\n",
        "De acuerdo a las restricciones de integridad, para poder crear el esquema de la imagen, es necesario primero crear la tabla **ESPECIALIDADES**, ya que la misma es referenciada (llave foranea) por la tabla **TUTORES**. Para crear la tabla **ESPECIALIDAES** hacemos uso del comando `CREATE`.\n",
        "\n",
        "`CREATE TABLE ESPECIALIDADES (id_especialidad INT AUTO_INCREMENT PRIMARY KEY, nombre_especialidad CHAR(40) NOT NULL);`\n",
        "\n",
        "La semántica de este comando indica que la tabla **ESPECIALIDADES** tiene 2 atributos llamados **id_especialidad** y **nombre_especialidad**, el primero es de tipo `int` y es llave primaria y el segundo es de tipo `varchar`.\n",
        "\n",
        "La siguiente tabla que podemos crear es la tabla de **TUTORES**.\n",
        "\n",
        "`CREATE TABLE TUTORES (id_tutor INT AUTO_INCREMENT PRIMARY KEY, nombre_tutor CHAR(40), id_especialidad INT NOT NULL, \n",
        "INDEX (id_especialidad), FOREIGN KEY (id_especialidad) REFERENCES ESPECIALIDADES(id_especialidad));`\n",
        "\n",
        "De manera similar esta tabla contiene los atributos **id_tutor** (que es llave primaria), **nombre_tutor** e **id_especialidad** que es llave foránea y hace referencia a la tabla **ESPECIALIDADES**.\n",
        "\n",
        "La tabla ALUMNOS, se crea mediante la siguiente instrucción.\n",
        "\n",
        "`CREATE TABLE ALUMNOS (num_cuenta INT AUTO_INCREMENT PRIMARY KEY, nombre VARCHAR(30));`\n",
        "\n",
        "Y por último creamos la tabla **TUTORIAS** que se diferencía un poco de las tablas anteriores ya que almacena la relación que guardan las tablas **ALUMNOS** y **TUTORES**, ademas de que consta de una llave primaria compuesta conformada por los atributos **id_tutoria**, **num_cuenta** y **id_tutor**.\n",
        "\n",
        "`CREATE TABLE TUTORIAS (id_tutoria INT AUTO_INCREMENT, num_cuenta INT NOT NULL, id_tutor INT NOT NULL, \n",
        "PRIMARY KEY(id_tutoria, num_cuenta, id_tutor),\n",
        "INDEX (num_cuenta), FOREIGN KEY (num_cuenta) REFERENCES ALUMNOS(num_cuenta),\n",
        "INDEX (id_tutor), FOREIGN KEY (id_tutor) REFERENCES TUTORES(id_tutor));`"
      ],
      "metadata": {
        "id": "HihJh_SabFlp"
      }
    },
    {
      "cell_type": "markdown",
      "source": [
        "### `INSERT`\n",
        "\n",
        "Una vez que las ya fue creado el esquema, podemos comenzar a llenar las tablas con los datos necesarios.\n",
        "\n",
        "A continuación se insertan los datos que debe contener la tabla **ESPECIALIDADES**.\n",
        "\n",
        "`INSERT INTO ESPECIALIDADES (nombre_especialidad) VALUES ('actuaria'),('ciencias de la computacion'),('matematicas'),('fisica'),('biologia'),('ciencia de datos');`\n",
        "\n",
        "Para la tabla **TUTORES**, estos son los datos que se ingresan en la misma. Es importante notar que el atributo **id_especialidad**, es una llave foránea.\n",
        "\n",
        "`INSERT INTO TUTORES (nombre_tutor, id_especialidad) VALUES ('Mario Molina', 1),('Miguel de Icaza', 2),('Isaac Newton', 3),('Albert Einstein', 4),('Charles Darwin', 5),('Mark Musk', 6);`\n",
        "\n",
        "Y para el caso de ALUMNOS y TUTORIAS estos son lo datos\n",
        "\n",
        "`INSERT INTO ALUMNOS (nombre) VALUES ('Mike'),('Pedro'),('Peter'),('Almendra'),('Alvaro'), ('Canek'),\n",
        "('Sonia'),('Arturo'),('Gisel'),('Alfa');`\n",
        "\n",
        "`INSERT INTO TUTORIAS (num_cuenta, id_tutor) VALUES (1,6),(2,2),(3,1),(4,5),(5,3),(6,6),(7,2),(8,6),(9,5),(10,3);`\n",
        "\n",
        "En el caso de las **TUTORIAS**, es de recalcar que ambos atributos **num_cuenta** y **id_tutor** son llaves foráneas que a su vez forman parte de la llave compuesta **(id_tutoria, num_cuenta, id_tutor)**.\n",
        "\n",
        "En todas estas tablas **la llave primaria se genera de manera automática** al momento de insertar cada elemento, pero no siempre debe ser así.\n",
        "\n"
      ],
      "metadata": {
        "id": "Vn3fPBxXbQ7Q"
      }
    },
    {
      "cell_type": "markdown",
      "source": [
        "### Autenticación de usuario\n",
        "\n",
        "Una vez que los datos ya se almacenaron en la base de datos, lo siguiente es autenticarse en la base y seleccionar la base de datos correcta, para ello lo primero que necesitamos es conocer la dirección del servidor y las credenciales de acceso al mismo.\n",
        "\n",
        "Haciendo uso del cliente de *MySQL*, proporcionamos estos datos así.\n",
        "\n",
        "`mysql -u manejo -p -h hpc-matematicas-z.fciencias.unam.mx`\n",
        "\n",
        "Se nos pide la contraseña (*prometeo*) y lo siguiente es seleccionar la base *FCiencias*, mediante el siguiente comando de *MySQL*.\n",
        "\n",
        "`use FCiencias;`\n",
        "\n",
        "Ya que seleccionamos la base *FCiencias*, ahora podemos listar las tablas que contiene la misma mediante el siguiente comando.\n",
        "\n",
        "`show tables;`\n",
        "\n",
        "Y el resultado debe ser algo similar a lo que se muestra en la siguiente imagen.\n",
        "\n",
        "<center>\n",
        "<img src=\"https://github.com/jugernaut/ManejoDatos/blob/desarrollo/Imagenes/Bases/tables.png?raw=1\" width=\"600\"> \n",
        "</center>\n",
        "\n",
        "\n"
      ],
      "metadata": {
        "id": "HPDLgZa9_4q6"
      }
    },
    {
      "cell_type": "markdown",
      "source": [
        "### `SELECT` (consultas)\n",
        "\n",
        "Una vez que ya nos autenticamos y seleccionamos la base de datos, ahora podemos realizar consultas (*querys*) a la información contenida dentro de la misma.\n",
        "\n",
        "Para conocer todos lo registros de la tabla **ALUMNOS**, basta con ejecutar la siguiente consulta.\n",
        "\n",
        "`select * from ALUMNOS;`\n",
        "\n",
        "<center>\n",
        "<img src=\"https://github.com/jugernaut/ManejoDatos/blob/desarrollo/Imagenes/Bases/ALUMNOS.png?raw=1\" width=\"600\"> \n",
        "</center>\n",
        "\n",
        "\n"
      ],
      "metadata": {
        "id": "GEwYhEm8HIxL"
      }
    },
    {
      "cell_type": "markdown",
      "source": [
        "#### Producto cartesiano\n",
        "\n",
        "Para realizar un producto cartesiano (como los vistos en álgebra relacional) es necesario ejecutar el siguiente comando.\n",
        "\n",
        "`select * from ALUMNOS, TUTORES;`\n",
        "\n",
        "<center>\n",
        "<img src=\"https://github.com/jugernaut/ManejoDatos/blob/desarrollo/Imagenes/Bases/cartesiano.png?raw=1\" width=\"600\"> \n",
        "</center>"
      ],
      "metadata": {
        "id": "NcSUsOKSNZ9d"
      }
    },
    {
      "cell_type": "markdown",
      "source": [
        "#### `NATURAL JOIN`\n",
        "\n",
        "La tabla TUTORES contiene la siguiente información.\n",
        "\n",
        "`select * from TUTORES;`\n",
        "\n",
        "<center>\n",
        "<img src=\"https://github.com/jugernaut/ManejoDatos/blob/desarrollo/Imagenes/Bases/tutores.png?raw=1\" width=\"600\"> \n",
        "</center>\n",
        "\n",
        "De la imagen (y del DER) podemos notar que el atributo **id_especialidad** es una llave foránea al catalogo de **ESPECIALIDADES**, por lo que, con un simple `NATURAL JOIN` podemos obtener información más tangible.\n",
        "\n",
        "`select id_tutor, nombre_tutor, nombre_especialidad from TUTORES natural join ESPECIALIDADES;`\n",
        "\n",
        "<center>\n",
        "<img src=\"https://github.com/jugernaut/ManejoDatos/blob/desarrollo/Imagenes/Bases/njoin1.png?raw=1\" width=\"800\"> \n",
        "</center>\n",
        "\n",
        "La tabla TUTORIAS es una relación que esta compuesta por elementos de la tabla ALUMNOS y de la tabla TUTORES, así que la información en la misma luce de la siguiente manera\n",
        "\n",
        "`select * from TUTORIAS;`\n",
        "\n",
        "<center>\n",
        "<img src=\"https://github.com/jugernaut/ManejoDatos/blob/desarrollo/Imagenes/Bases/tutorias.png?raw=1\" width=\"600\"> \n",
        "</center>\n",
        "\n",
        "Estos valores no dicen mucho de la información, sin embargo podemos realizar un NATURAL JOIN con las tablas adecuadas para obtener la información deseada.\n",
        "\n",
        "`select id_tutoria, num_cuenta, nombre, nombre_tutor from TUTORIAS natural join ALUMNOS natural join TUTORES;`\n",
        "\n",
        "<center>\n",
        "<img src=\"https://github.com/jugernaut/ManejoDatos/blob/desarrollo/Imagenes/Bases/njoin2.png?raw=1\" width=\"800\"> \n",
        "</center>\n",
        "\n",
        "Ahora ya obtubimos de manera más clara el **nombre del tutor de cada alumno**, así como su número de cuenta."
      ],
      "metadata": {
        "id": "WohkLURvNiRR"
      }
    },
    {
      "cell_type": "markdown",
      "source": [
        "#### Fuciones de agregación\n",
        "\n",
        "Para poder contar el número de alumnos es tan sencillo como ejecutar el siguiente comando.\n",
        "\n",
        "`select count(*) from ALUMNOS;`\n",
        "\n",
        "<center>\n",
        "<img src=\"https://github.com/jugernaut/ManejoDatos/blob/desarrollo/Imagenes/Bases/COUNT.png?raw=1\" width=\"600\"> \n",
        "</center>\n",
        "\n",
        "Supongamos que deseamos ver a todos los alumnos con su respectivo tutor, el nombre de la especialidad y además los **queremos ver ordenados (*order by*) por el atributo id_especialidad**.\n",
        "\n",
        "`select id_tutoria, num_cuenta, nombre, nombre_tutor, id_especialidad from TUTORIAS natural join ALUMNOS natural join TUTORES order by id_especialidad;`\n",
        "\n",
        "<center>\n",
        "<img src=\"https://github.com/jugernaut/ManejoDatos/blob/desarrollo/Imagenes/Bases/orderby.png?raw=1\" width=\"800\"> \n",
        "</center>\n",
        "\n",
        "Dado que podemos anidar consultas y todo resultado es una tabla, podemos realizar lo siguiente. Imaginemos que **necesitamos agrupar (*group by*) a los alumnos por especialidad y saber la cantidad de alumnos que pertenecen a una determinada especialidad**, esto lo podemos saber mediante realizando esta consulta.\n",
        "\n",
        "`select nombre_especialidad, id_especialidad, count(id_especialidad) from TUTORIAS natural join TUTORES natural join ESPECIALIDADES group by id_especialidad;`\n",
        "\n",
        "<center>\n",
        "<img src=\"https://github.com/jugernaut/ManejoDatos/blob/desarrollo/Imagenes/Bases/groupby.png?raw=1\" width=\"1000\"> \n",
        "</center>\n",
        "\n",
        "En caso de que necesitemos **renombrar (*as*)** columna que indica el número de alumnos por especialidad, ejecutamos la siguiente consulta.\n",
        "\n",
        "`select nombre_especialidad, id_especialidad, count(id_especialidad) as cuantos from TUTORIAS natural join TUTORES natural join ESPECIALIDADES group by id_especialidad;`\n",
        "\n",
        "<center>\n",
        "<img src=\"https://github.com/jugernaut/ManejoDatos/blob/desarrollo/Imagenes/Bases/groupas.png?raw=1\" width=\"1000\"> \n",
        "</center>"
      ],
      "metadata": {
        "id": "uR7uI2gvR1Ww"
      }
    },
    {
      "cell_type": "markdown",
      "source": [
        "#### Resultados temporales\n",
        "\n",
        "Conforme vamos obteniendo más información dentro de la base de datos, a veces es necesario generar resultados temporales (*temporary table*) ya sea por que **vamos a consultar esa información constantemente** (mientras la sesión este abierta) o debido a que las consultas se pueden volver muy complejas.\n",
        "\n",
        "Imaginemos que nos piden **identificar el nombre de la especialidad que cuenta con el máximo número de alumnos inscritos**. De acuerdo al *DER* esta información se encuentra en diferentes tablas, además necesitaremos hacer uso de la función de agregación *max*.\n",
        "\n",
        "Así que lo ideal es **partir esta consulta en consultas más sencillas** y atómicas.\n",
        "\n",
        "Primero vamos a generar una consulta que contenga a todos los alumnos con su respectivo tutor y el nombre de la especialidad. De acuerdo al DER, esta información se encuentra en las tablas ALUMNOS, TUTORIAS, TUTORES y ESPECIALIDADES.\n",
        "\n",
        "De tal manera que de una vez podemos proyectar únicamente los datos que vamos a necesitar, además de **generar una tabla temporal llamada TEMP (*create temporary table TEMP as*)**, mediante el siguiente comando.\n",
        "\n",
        "`create temporary table TEMP as select nombre_especialidad, id_especialidad, count(id_especialidad) as cuantos from TUTORIAS natural join TUTORES natural join ESPECIALIDADES group by id_especialidad;`\n",
        "\n",
        "El resultado de esta sentencia y de consultar todos los datos contenidos en **TEMP**, sería el siguiente.\n",
        "\n",
        "<center>\n",
        "<img src=\"https://github.com/jugernaut/ManejoDatos/blob/desarrollo/Imagenes/Bases/temp.png?raw=1\" width=\"1000\"> \n",
        "</center>\n",
        "\n",
        "Ahora únicamente resta usar la función de agregación *max* sobre el atributo *cuantos* de la tabla temporal TEMP para saber cual es la especialidad con el máximo número de alumnos inscritos y ademas la podemos guardar en una variable temporal mediante el siguiente comando.\n",
        "\n",
        "`set @maximo = (select max(cuantos) from TEMP);`\n",
        "\n",
        "<center>\n",
        "<img src=\"https://github.com/jugernaut/ManejoDatos/blob/desarrollo/Imagenes/Bases/max.png?raw=1\" width=\"1000\"> \n",
        "</center>\n",
        "\n",
        "Y por último solo hay que consultar la tabla TEMP indicando que necesitamos mostrar el máximo valor de la columna **cuantos**.\n",
        "\n",
        "`select nombre_especialidad, cuantos from TEMP where cuantos = @maximo;`\n",
        "\n",
        "El resultado de esta consulta es precisamente la información que necesitabamos conocer.\n",
        "\n",
        "<center>\n",
        "<img src=\"https://github.com/jugernaut/ManejoDatos/blob/desarrollo/Imagenes/Bases/consultota.png?raw=1\" width=\"1000\"> \n",
        "</center>\n",
        "\n",
        "\n",
        "\n",
        "\n",
        "\n"
      ],
      "metadata": {
        "id": "2hdENcuJgODs"
      }
    },
    {
      "cell_type": "markdown",
      "source": [
        "# Conexión desde *Python*\n",
        "\n",
        "Hasta este momento hemos usado *MySQL*, a nivel usuario es decir, hemos realizado las consultas a la base de datos directamente con el manejador de la base de datos.\n",
        "\n",
        "Sin embargo la mayoría de las aplicaciones o programas realizan estas consultas desde un lenguaje de alto nivel (como lo es *Python*), para llevar a cabo esta labor son necesarios tres elementos:\n",
        "\n",
        "*   **La base de datos en un servidor**: para poder acceder desde cualquier punto de la red (internet) a nuestra base de datos, es necesario ubicar esta base de datos en un servidor que cuente con una *IP* publica y las respectivas credenciales (usuario, contraseña, puerto).\n",
        "*   **Conector**: el conector es una paquetería (*API*) que nos perite indicarle al lenguaje (en este caso *Python*), que vamos a establecer una conexión con la base de datos.\n",
        "*   **Algoritmo**: finalmente necesitamos el código que nos permita acceder y manipular los datos de la base de datos desde el lenguaje de alto nivel.\n",
        "\n",
        "\n",
        "\n"
      ],
      "metadata": {
        "id": "UbA1pJibc21y"
      }
    },
    {
      "cell_type": "markdown",
      "source": [
        "## Base de datos y servidor\n",
        "\n",
        "Como ya se ha mencionado en clase, la base de datos para el curso se encuentra en un servidor de la facultad, mismo que cuenta con una *IP* qpública que permite establecer la conexión a la base de datos desde cualquier computadora, en particular desde una sesión de *Google Colab*.\n",
        "\n",
        "Para este ejemplo vamos a usar el servidor *hpc-matematicas-z.fciencias.unam.mx* cuya *IP* pública es *132.248.181.125* y la base de datos *FCiencias*, el usuario *manejo* y la contraseña *prometeo*. Vale la pena mencionar que se esta haciendo uso del **puerto por default** que usa *MySQL*, que es 3306."
      ],
      "metadata": {
        "id": "lYhb7fiQhS5q"
      }
    },
    {
      "cell_type": "markdown",
      "source": [
        "## Conector\n",
        "\n",
        "Existen distintos \"conectores\" mediante los cuales podemos establecer la conexión con la base de datos, sin embargo para este ejemplo vamos a instalar el conector oficial de *MySQL*, [aqui](https://dev.mysql.com/doc/connector-python/en/connector-python-introduction.html) puedes encontrar más información al respecto.\n",
        "\n",
        "Para instalar el conector en *Google Colab*, es tan sencillo como hacer uso del gestor de instalación de *Python* (*pip*) ejecutando la siguiente celda. Una vez instalado el conector ya podemos usarlo desde cualquier celda de código."
      ],
      "metadata": {
        "id": "5A6rjVFXii_h"
      }
    },
    {
      "cell_type": "code",
      "source": [
        "!pip install mysql-connector-python"
      ],
      "metadata": {
        "id": "YLlduGIPfGyF",
        "outputId": "ec8ca53d-63ad-4298-f1e4-4c97d8a2657c",
        "colab": {
          "base_uri": "https://localhost:8080/"
        }
      },
      "execution_count": 2,
      "outputs": [
        {
          "output_type": "stream",
          "name": "stdout",
          "text": [
            "Collecting mysql-connector-python\n",
            "  Downloading mysql_connector_python-8.0.28-cp37-cp37m-manylinux1_x86_64.whl (37.6 MB)\n",
            "\u001b[K     |████████████████████████████████| 37.6 MB 55.9 MB/s \n",
            "\u001b[?25hRequirement already satisfied: protobuf>=3.0.0 in /usr/local/lib/python3.7/dist-packages (from mysql-connector-python) (3.17.3)\n",
            "Requirement already satisfied: six>=1.9 in /usr/local/lib/python3.7/dist-packages (from protobuf>=3.0.0->mysql-connector-python) (1.15.0)\n",
            "Installing collected packages: mysql-connector-python\n",
            "Successfully installed mysql-connector-python-8.0.28\n"
          ]
        }
      ]
    },
    {
      "cell_type": "markdown",
      "source": [
        "## Conexión básica\n",
        "\n",
        "En la siguiente celda se importa en conector para poder hacer uso del mismo, posteriormente se establece la conexión al servidor de la base de datos.\n",
        "\n",
        "El objeto `cursor` es un elemento que nos permite ejecutar consultas (altas, bajas, cambios) a la base de datos.\n",
        "\n",
        "La cadena `consulta` es un *String* que representa la consulta que se le pedira ejecutar al `cursor`, mismo que ya establecio la conexión a la base de datos. En este [enlace](https://dev.mysql.com/doc/connector-python/en/connector-python-api-mysqlcursor.html) puedes leer más sobre la clase `cursor`\n",
        "\n",
        "Al momento de ejecutar el método `execute` es necesario pasar como parametro la consulta que se quiera realizar, además es opcional el paso de parámetros extra que puedan ayudar a refinar la consulta, [aquí](https://dev.mysql.com/doc/connector-python/en/connector-python-api-mysqlcursor-execute.html) puedes ver la documentación del método `execute`.\n",
        "\n",
        "Después de haber ejecutado el método `execute` el objeto `cursor` almacena los resultados de la consulta y dado que el objeto `cursor` es *iterable* lo podemos recorrer con un simple *for* (foreach) e imprimir las tuplas resultado de la consulta a la base de datos.\n",
        "\n",
        "Finalmente, una vez que se haya terminado de realizar las consultas a la base de datos, **es muy importante** cerrar el `cursor` y la conexión a la base de datos, de otra forma la conexión queda abierta y alguien con el conocimiento adecuado puede hacer uso incorrecto de la misma."
      ],
      "metadata": {
        "id": "EezJ2bb5jb6-"
      }
    },
    {
      "cell_type": "code",
      "source": [
        "# se importa la biblioteca necesaria\n",
        "import mysql.connector\n",
        "\n",
        "# asignamos las credenciales de conexion y se establece la conexion\n",
        "con = mysql.connector.connect(host=\"hpc-matematicas-z.fciencias.unam.mx\",    \n",
        "   user=\"manejo\", \n",
        "   password=\"prometeo\",\n",
        "   database=\"FCiencias\")\n",
        "\n",
        "# obtenemos un cursor para realizar consultas\n",
        "cursor = con.cursor()\n",
        "\n",
        "# consulta en forma de cadena\n",
        "#consulta = ('SELECT * FROM ALUMNOS')\n",
        "\n",
        "consulta = ('SELECT num_cuenta, nombre, nombre_tutor, nombre_especialidad '\n",
        "'FROM TUTORIAS natural join ALUMNOS natural join TUTORES natural join '\n",
        "'ESPECIALIDADES')\n",
        "\n",
        "# ejecucion de la consulta a la base de datos\n",
        "cursor.execute(consulta)\n",
        "\n",
        "# se itera sobre el objeto cursor\n",
        "for tupla in cursor:\n",
        "  print(tupla)\n",
        "\n",
        "# se cierra el cursor y la conexion\n",
        "cursor.close()\n",
        "con.close()"
      ],
      "metadata": {
        "id": "zMenfW19exVG",
        "outputId": "85335fce-73db-4b67-9d49-1a4ecd04f618",
        "colab": {
          "base_uri": "https://localhost:8080/"
        }
      },
      "execution_count": null,
      "outputs": [
        {
          "output_type": "stream",
          "name": "stdout",
          "text": [
            "(3, 'Peter', 'Mario Molina', 'actuaria')\n",
            "(2, 'Pedro', 'Miguel de Icaza', 'ciencias de la computacion')\n",
            "(7, 'Sonia', 'Miguel de Icaza', 'ciencias de la computacion')\n",
            "(5, 'Alvaro', 'Isaac Newton', 'matematicas')\n",
            "(10, 'Alfa', 'Isaac Newton', 'matematicas')\n",
            "(4, 'Almendra', 'Charles Darwin', 'biologia')\n",
            "(9, 'Gisel', 'Charles Darwin', 'biologia')\n",
            "(1, 'Mike', 'Mark Musk', 'ciencia de datos')\n",
            "(6, 'Canek', 'Mark Musk', 'ciencia de datos')\n",
            "(8, 'Arturo', 'Mark Musk', 'ciencia de datos')\n"
          ]
        }
      ]
    },
    {
      "cell_type": "markdown",
      "source": [
        "## *GUI (Graphic User Interface)*\n",
        "\n",
        "Ya que entendimos como se establece la conexión a la base de datos, veamos una de muchas formas en las cuales podemos hacer uso de los mismos.\n",
        "\n",
        "Supongamos que se requiere crear un programa que permita mostrar los alumnos registrados en nuestra base de datos y dependiendo del alumno que seleccione el usuario, entonces se muestre el nombre de su tutor y la especialidad del mismo.\n",
        "\n",
        "Para llevar a cabo esta labor vamos a hacer uso de un `widget` que le permita al usuario seleccionar el nombre del alumno y posteriormente a la seleccion del mismo, se muestren los datos del tutor.\n",
        "\n",
        "A fin de mostrar los resultados y dado que la sesión que estamos usando es temporal, omitiremos el cerrar el `cursor`  y la conexión pero no olviden que es importante cerrar ambos."
      ],
      "metadata": {
        "id": "SQb7gZ0frb3R"
      }
    },
    {
      "cell_type": "code",
      "source": [
        "import mysql.connector\n",
        "from ipywidgets import interact, interactive, fixed\n",
        "import ipywidgets as widgets\n",
        "\n",
        "con = mysql.connector.connect(host=\"hpc-matematicas-z.fciencias.unam.mx\",    \n",
        "   user=\"manejo\", \n",
        "   password=\"prometeo\",\n",
        "   database=\"FCiencias\")\n",
        "\n",
        "cursor = con.cursor()\n",
        "\n",
        "def consulta_alumnos():\n",
        "  consulta = ('SELECT nombre FROM ALUMNOS')\n",
        "  cursor.execute(consulta)\n",
        "  nombre_alumnos = []\n",
        "  for nombre in cursor:\n",
        "    nombre_alumnos.append(nombre[0])\n",
        "  return nombre_alumnos\n",
        "\n",
        "def consulta_tutor(alumno):\n",
        "  consulta = ('SELECT nombre, nombre_tutor, nombre_especialidad '\n",
        "  'FROM TUTORIAS natural join ALUMNOS natural join TUTORES natural join '\n",
        "  'ESPECIALIDADES WHERE nombre = %s')\n",
        "  cursor.execute(consulta, (alumno,))\n",
        "  for tupla in cursor:\n",
        "    print(tupla)\n",
        "\n",
        "w = interact(consulta_tutor, alumno = consulta_alumnos())"
      ],
      "metadata": {
        "id": "_SnBaOuDsmpe",
        "outputId": "35ee3a5a-ee2d-427b-a283-110029ffd615",
        "colab": {
          "base_uri": "https://localhost:8080/",
          "height": 66,
          "referenced_widgets": [
            "975969a914154ea0b07e0ba3044da080",
            "d791ba37a51842e5a8228f29940ef625",
            "a884f0e47e0f4cbab0bfa37ee25886d8",
            "82c6c53d06b141108f89a63bab7172d2",
            "0d62fb186e2b4c92b1319005aa965a8d",
            "90fe8d84a7a14daca52b8b911f70c66c",
            "95cfacaf10c6494babfa107e0f0f15f7"
          ]
        }
      },
      "execution_count": 4,
      "outputs": [
        {
          "output_type": "display_data",
          "data": {
            "application/vnd.jupyter.widget-view+json": {
              "model_id": "975969a914154ea0b07e0ba3044da080",
              "version_minor": 0,
              "version_major": 2
            },
            "text/plain": [
              "interactive(children=(Dropdown(description='alumno', options=('Mike', 'Pedro', 'Peter', 'Almendra', 'Alvaro', …"
            ]
          },
          "metadata": {}
        }
      ]
    },
    {
      "cell_type": "markdown",
      "metadata": {
        "id": "XTOt0TLLOV1q"
      },
      "source": [
        "# Referencias\n",
        "\n",
        "* Greg Riccardi: Principles of Database Systems with Internet an Java Aplications.\n",
        "* Referencias  Anexo: Algebra relacional, https://www.unirioja.es/cu/arjaime/Temas/04.Anexo.pdf\n",
        "* Referencias  https://www.w3schools.com/sql/\n",
        "* Referencias  http://mysql.conclase.net/curso/?cap=000#\n",
        "* Referencias  http://didepa.uaemex.mx/clases/Manuales/MySql/MySql-La%20biblia%20de%20mysql.pdf\n",
        "* Referencias  https://downloads.mysql.com/docs/refman-5.0-es.pdf"
      ]
    }
  ]
}