{
  "nbformat": 4,
  "nbformat_minor": 0,
  "metadata": {
    "colab": {
      "name": "01_EstandaresInformacion.ipynb",
      "provenance": [],
      "include_colab_link": true
    },
    "kernelspec": {
      "name": "python3",
      "display_name": "Python 3"
    },
    "language_info": {
      "name": "python"
    },
    "widgets": {
      "application/vnd.jupyter.widget-state+json": {
        "6300687c89dd47a0a0e347c2892d85c9": {
          "model_module": "@jupyter-widgets/controls",
          "model_name": "VBoxModel",
          "model_module_version": "1.5.0",
          "state": {
            "_view_name": "VBoxView",
            "_dom_classes": [
              "widget-interact"
            ],
            "_model_name": "VBoxModel",
            "_view_module": "@jupyter-widgets/controls",
            "_model_module_version": "1.5.0",
            "_view_count": null,
            "_view_module_version": "1.5.0",
            "box_style": "",
            "layout": "IPY_MODEL_8411ddfe712548f4a0610cbebeb175e3",
            "_model_module": "@jupyter-widgets/controls",
            "children": [
              "IPY_MODEL_6743b1dc4be24c5ab65f2b15bde2011e",
              "IPY_MODEL_ff485a8c88fe4677817be345850b5d78"
            ]
          }
        },
        "8411ddfe712548f4a0610cbebeb175e3": {
          "model_module": "@jupyter-widgets/base",
          "model_name": "LayoutModel",
          "model_module_version": "1.2.0",
          "state": {
            "_view_name": "LayoutView",
            "grid_template_rows": null,
            "right": null,
            "justify_content": null,
            "_view_module": "@jupyter-widgets/base",
            "overflow": null,
            "_model_module_version": "1.2.0",
            "_view_count": null,
            "flex_flow": null,
            "width": null,
            "min_width": null,
            "border": null,
            "align_items": null,
            "bottom": null,
            "_model_module": "@jupyter-widgets/base",
            "top": null,
            "grid_column": null,
            "overflow_y": null,
            "overflow_x": null,
            "grid_auto_flow": null,
            "grid_area": null,
            "grid_template_columns": null,
            "flex": null,
            "_model_name": "LayoutModel",
            "justify_items": null,
            "grid_row": null,
            "max_height": null,
            "align_content": null,
            "visibility": null,
            "align_self": null,
            "height": null,
            "min_height": null,
            "padding": null,
            "grid_auto_rows": null,
            "grid_gap": null,
            "max_width": null,
            "order": null,
            "_view_module_version": "1.2.0",
            "grid_template_areas": null,
            "object_position": null,
            "object_fit": null,
            "grid_auto_columns": null,
            "margin": null,
            "display": null,
            "left": null
          }
        },
        "6743b1dc4be24c5ab65f2b15bde2011e": {
          "model_module": "@jupyter-widgets/controls",
          "model_name": "DropdownModel",
          "model_module_version": "1.5.0",
          "state": {
            "_options_labels": [
              "Mike",
              "Pedro",
              "Peter",
              "Almendra",
              "Alvaro",
              "Canek",
              "Sonia",
              "Arturo",
              "Gisel",
              "Alfa"
            ],
            "_view_name": "DropdownView",
            "style": "IPY_MODEL_e005b47828a14173825ea6869b91340c",
            "_dom_classes": [],
            "description": "alumno",
            "_model_name": "DropdownModel",
            "index": 8,
            "_view_module": "@jupyter-widgets/controls",
            "_model_module_version": "1.5.0",
            "_view_count": null,
            "disabled": false,
            "_view_module_version": "1.5.0",
            "description_tooltip": null,
            "_model_module": "@jupyter-widgets/controls",
            "layout": "IPY_MODEL_8a70d00c3a624746b3fd57da5f3c2998"
          }
        },
        "ff485a8c88fe4677817be345850b5d78": {
          "model_module": "@jupyter-widgets/output",
          "model_name": "OutputModel",
          "model_module_version": "1.0.0",
          "state": {
            "_view_name": "OutputView",
            "msg_id": "",
            "_dom_classes": [],
            "_model_name": "OutputModel",
            "outputs": [
              {
                "output_type": "stream",
                "name": "stdout",
                "text": [
                  "('Gisel', 'Charles Darwin', 'biologia')\n"
                ]
              }
            ],
            "_view_module": "@jupyter-widgets/output",
            "_model_module_version": "1.0.0",
            "_view_count": null,
            "_view_module_version": "1.0.0",
            "layout": "IPY_MODEL_9e747f271a5648d1a46eb6dc037593da",
            "_model_module": "@jupyter-widgets/output"
          }
        },
        "e005b47828a14173825ea6869b91340c": {
          "model_module": "@jupyter-widgets/controls",
          "model_name": "DescriptionStyleModel",
          "model_module_version": "1.5.0",
          "state": {
            "_view_name": "StyleView",
            "_model_name": "DescriptionStyleModel",
            "description_width": "",
            "_view_module": "@jupyter-widgets/base",
            "_model_module_version": "1.5.0",
            "_view_count": null,
            "_view_module_version": "1.2.0",
            "_model_module": "@jupyter-widgets/controls"
          }
        },
        "8a70d00c3a624746b3fd57da5f3c2998": {
          "model_module": "@jupyter-widgets/base",
          "model_name": "LayoutModel",
          "model_module_version": "1.2.0",
          "state": {
            "_view_name": "LayoutView",
            "grid_template_rows": null,
            "right": null,
            "justify_content": null,
            "_view_module": "@jupyter-widgets/base",
            "overflow": null,
            "_model_module_version": "1.2.0",
            "_view_count": null,
            "flex_flow": null,
            "width": null,
            "min_width": null,
            "border": null,
            "align_items": null,
            "bottom": null,
            "_model_module": "@jupyter-widgets/base",
            "top": null,
            "grid_column": null,
            "overflow_y": null,
            "overflow_x": null,
            "grid_auto_flow": null,
            "grid_area": null,
            "grid_template_columns": null,
            "flex": null,
            "_model_name": "LayoutModel",
            "justify_items": null,
            "grid_row": null,
            "max_height": null,
            "align_content": null,
            "visibility": null,
            "align_self": null,
            "height": null,
            "min_height": null,
            "padding": null,
            "grid_auto_rows": null,
            "grid_gap": null,
            "max_width": null,
            "order": null,
            "_view_module_version": "1.2.0",
            "grid_template_areas": null,
            "object_position": null,
            "object_fit": null,
            "grid_auto_columns": null,
            "margin": null,
            "display": null,
            "left": null
          }
        },
        "9e747f271a5648d1a46eb6dc037593da": {
          "model_module": "@jupyter-widgets/base",
          "model_name": "LayoutModel",
          "model_module_version": "1.2.0",
          "state": {
            "_view_name": "LayoutView",
            "grid_template_rows": null,
            "right": null,
            "justify_content": null,
            "_view_module": "@jupyter-widgets/base",
            "overflow": null,
            "_model_module_version": "1.2.0",
            "_view_count": null,
            "flex_flow": null,
            "width": null,
            "min_width": null,
            "border": null,
            "align_items": null,
            "bottom": null,
            "_model_module": "@jupyter-widgets/base",
            "top": null,
            "grid_column": null,
            "overflow_y": null,
            "overflow_x": null,
            "grid_auto_flow": null,
            "grid_area": null,
            "grid_template_columns": null,
            "flex": null,
            "_model_name": "LayoutModel",
            "justify_items": null,
            "grid_row": null,
            "max_height": null,
            "align_content": null,
            "visibility": null,
            "align_self": null,
            "height": null,
            "min_height": null,
            "padding": null,
            "grid_auto_rows": null,
            "grid_gap": null,
            "max_width": null,
            "order": null,
            "_view_module_version": "1.2.0",
            "grid_template_areas": null,
            "object_position": null,
            "object_fit": null,
            "grid_auto_columns": null,
            "margin": null,
            "display": null,
            "left": null
          }
        }
      }
    }
  },
  "cells": [
    {
      "cell_type": "markdown",
      "metadata": {
        "id": "view-in-github",
        "colab_type": "text"
      },
      "source": [
        "<a href=\"https://colab.research.google.com/github/jugernaut/ManejoDatos/blob/desarrollo/EstandaresInformacion/01_EstandaresInformacion.ipynb\" target=\"_parent\"><img src=\"https://colab.research.google.com/assets/colab-badge.svg\" alt=\"Open In Colab\"/></a>"
      ]
    },
    {
      "cell_type": "markdown",
      "metadata": {
        "id": "wBGQJF8IxoLG"
      },
      "source": [
        "<font color=\"Teal\" face=\"Comic Sans MS,arial\">\n",
        "  <h1 align=\"center\"><i>Estándares para el intercambio de información</i></h1>\n",
        "  </font>\n",
        "  <font color=\"Black\" face=\"Comic Sans MS,arial\">\n",
        "  <h5 align=\"center\"><i>Profesor: M. en C. Miguel Angel Pérez León</i></h5>\n",
        "    <h5 align=\"center\"><i>Ayudante: Jesús Iván Coss Calderón</i></h5>\n",
        "    <h5 align=\"center\"><i>Ayudante: Jonathan Ramírez Montes</i></h5>\n",
        "  <h5 align=\"center\"><i>Materia: Manejo de Datos</i></h5>\n",
        "  </font>"
      ]
    },
    {
      "cell_type": "markdown",
      "metadata": {
        "id": "8L_uempGMcuv"
      },
      "source": [
        "# Introducción\n",
        "\n",
        "Al manipular datos a menudo es necesario intercambiar datos entre distintos usuarios, sistemas operativos, manejadores de bases de datos, etc.\n",
        "\n",
        "Es por este motivo que surgen los estándares para el intercambio de información, mediante estos estándares podemos asumir que los actores que formen parte del intercambio de información seguirán las mismas reglas.\n",
        "\n",
        "El ejemplo más común actualmente de este tipo de estándares son las facturas digitales o electrónicas.\n",
        "\n",
        "Toda factura (sin importar si es digital o tradicional) contiene la misma información:\n",
        "\n",
        "*   Empresa.\n",
        "*   Monto.\n",
        "*   Concepto.\n",
        "*   Domicilio Fiscal.\n",
        "*   RFC.\n",
        "*   etc.\n",
        "\n",
        "No toda factura luce igual, sin embargo si contienen (o deberían contener) la misma información, así que es por este motivo que para fines de fiscalización, orden y almacenamiento toda factura electrónica se basa en un documento llamado *xml*, mismo documento que contiene un \"resumen\" con los datos de la factura.\n",
        "\n",
        "Además estos datos se almacenan siguiendo el estándar (reglas) del formato *xml*.\n",
        "\n",
        "<center>\n",
        "<img src=\"https://solucionfactible.com/sfic/manuales/lecciones/emision/emision-cfdi/imagenes/cal-base-aut3.png?raw=1\" width=\"800\"> \n",
        "</center>"
      ]
    },
    {
      "cell_type": "markdown",
      "metadata": {
        "id": "QzDivKN1M-xn"
      },
      "source": [
        "# Estándar *XML*\n",
        "\n",
        "Uno de los estándares más ampliamente usado y conocido es el llamado estándar *xml* de sus siglas en ingles eXtensible Markup Languaje, creado a principios de la decada de los 90's con la intensión de compartir información.\n",
        "\n",
        "El metalenguaje *xml* fue creado por *World Wide Web Consortium (W3C)* y su caracteristica principal es que, mediante el uso de etiquetas permite definir la gramática de lenguajes específicos, es decir que permite crear las etiquetas y atributos necesarios para el fin que se necesite.\n",
        "\n",
        "Otra de sus características y por lo que su uso se ha popularizado, es por que a diferencia de otros lenguajes, *xml* es compatible con el uso para a bases de datos, lo cual es útil cuando diferentes aplicaciones necesitan comunicarse entre si.\n",
        "\n",
        "Principalmente se usa en:\n",
        "\n",
        "*   Bases de datos.\n",
        "*   Facturas electrónicas.\n",
        "*   Interfaces gráficas.\n",
        "*   Hojas de calculo.\n",
        "\n",
        "Estas son algunos de sus usos más comunes, sin embargo *xml* es tan flexible que no esta limitado a estos y puede ser usado en cualquier situación en la que se requiera el uso de un lenguaje sencillo para compartir información.\n",
        "\n"
      ]
    },
    {
      "cell_type": "markdown",
      "source": [
        "## Ejemplos\n",
        "\n",
        "Veamos un par de ejemplos muy sencillos de lo que puede ser un documento *xml*.\n",
        "\n",
        "Para mostrar estos ejemplos es necesario agregar a la sesión algunos archivos y para hacerlo necesitamos clonarlos desde el repositorio mediante el siguiente comando.\n"
      ],
      "metadata": {
        "id": "CSbPi7vbN_E0"
      }
    },
    {
      "cell_type": "code",
      "source": [
        "!wget https://raw.githubusercontent.com/jugernaut/ManejoDatos/desarrollo/utils/Estandares/alumnos.xml\n",
        "!wget https://raw.githubusercontent.com/jugernaut/ManejoDatos/desarrollo/utils/Estandares/paneles.xml"
      ],
      "metadata": {
        "id": "IfnhF9E9TS0e",
        "outputId": "0405a18f-6a45-41ed-fd0c-cd9b1ef0ab99",
        "colab": {
          "base_uri": "https://localhost:8080/"
        }
      },
      "execution_count": null,
      "outputs": [
        {
          "output_type": "stream",
          "name": "stdout",
          "text": [
            "--2022-01-17 04:48:24--  https://raw.githubusercontent.com/jugernaut/ManejoDatos/desarrollo/utils/Estandares/alumnos.xml\n",
            "Resolving raw.githubusercontent.com (raw.githubusercontent.com)... 185.199.108.133, 185.199.109.133, 185.199.110.133, ...\n",
            "Connecting to raw.githubusercontent.com (raw.githubusercontent.com)|185.199.108.133|:443... connected.\n",
            "HTTP request sent, awaiting response... 200 OK\n",
            "Length: 937 [text/plain]\n",
            "Saving to: ‘alumnos.xml’\n",
            "\n",
            "\ralumnos.xml           0%[                    ]       0  --.-KB/s               \ralumnos.xml         100%[===================>]     937  --.-KB/s    in 0s      \n",
            "\n",
            "2022-01-17 04:48:25 (53.4 MB/s) - ‘alumnos.xml’ saved [937/937]\n",
            "\n",
            "--2022-01-17 04:48:25--  https://raw.githubusercontent.com/jugernaut/ManejoDatos/desarrollo/utils/Estandares/paneles.xml\n",
            "Resolving raw.githubusercontent.com (raw.githubusercontent.com)... 185.199.111.133, 185.199.109.133, 185.199.110.133, ...\n",
            "Connecting to raw.githubusercontent.com (raw.githubusercontent.com)|185.199.111.133|:443... connected.\n",
            "HTTP request sent, awaiting response... 200 OK\n",
            "Length: 848 [text/plain]\n",
            "Saving to: ‘paneles.xml’\n",
            "\n",
            "paneles.xml         100%[===================>]     848  --.-KB/s    in 0s      \n",
            "\n",
            "2022-01-17 04:48:25 (31.5 MB/s) - ‘paneles.xml’ saved [848/848]\n",
            "\n"
          ]
        }
      ]
    },
    {
      "cell_type": "markdown",
      "source": [
        "### *paneles.xml*\n",
        "\n",
        "Cuando se desarrolla un stio web (o cualquier interfaz de usuario) es muy común que los distintos desarrolladores trabajen usando diferentes entornos de desarrollo (*Linux, Windosws, Mac,* etc.), es por este motivo que la información normalmente se transfiera haciendo uso de *xml*.\n",
        "\n",
        "Al abrir el documento *paneles.xml* podemos ver información referente a la apariencia de la GUI (Grafic User Interface) de algún sitio de internet. En este documento se muestran los paneles que conforman la página principal así como algunas de sus características.\n",
        "\n",
        "<center>\n",
        "<img src=\"https://github.com/jugernaut/ManejoDatos/blob/desarrollo/Imagenes/Estandares/paneles.png?raw=1\" width=\"800\"> \n",
        "</center>\n",
        "\n",
        "Este es un documento muy sencillo en el que únicamente se muestran paneles, pero para agregar más elementos y sus características es tan sencillo como **agregar más etiquetas** al documento.\n",
        "\n"
      ],
      "metadata": {
        "id": "bXBS-5VHYNSa"
      }
    },
    {
      "cell_type": "markdown",
      "source": [
        "### *alumnos.xml*\n",
        "\n",
        "En este documento se muestra la información de algunos alumnos y sus tutores. Supongamos que un par de alumnos están desarrollando su proyecto final de la materia de Manejo de Datos y para que no haya diferencias en los datos dentro de la base de datos, ambos deciden usar *xml* como estándar para compartir información.\n",
        "\n",
        "De tal manera que al cargar estos datos dentro de su base de datos loca, la información para ambos alumnos deberial lucir similar a estas imagenes.\n",
        "\n",
        "<center>\n",
        "<img src=\"https://github.com/jugernaut/ManejoDatos/blob/desarrollo/Imagenes/Bases/ALUMNOS.png?raw=1\" width=\"600\"> \n",
        "</center>\n",
        "\n",
        "<center>\n",
        "<img src=\"https://github.com/jugernaut/ManejoDatos/blob/desarrollo/Imagenes/Bases/tutores.png?raw=1\" width=\"600\"> \n",
        "</center>\n",
        "\n",
        "Estos son solo un par de ejemplos, sin embargo el uso del estándar *xml* es prácticamente ilimitado ya que como metalenguaje nos permite definir los elementos para compartir la información que sea necesaria."
      ],
      "metadata": {
        "id": "ocYh4lZdae7p"
      }
    },
    {
      "cell_type": "markdown",
      "source": [
        "## *Python* y *xml*\n",
        "\n",
        "El procesamiento de información almacenada mediante el estándar *xml* haciendo uso del lenguaje *Python* es muy sencilla y existe una infinidad de herramientas (paqueterías) que nos permiten llevar a cabo esta tarea.\n",
        "\n",
        "Algunas de las paqueterías que nos permiten procesar (*parsear*) un archivo *xml* mediante *Python* son las siguientes:\n",
        "\n",
        "*   *DOM*.\n",
        "*   *SAX*.\n",
        "*   *StAX*.\n",
        "\n",
        "El proceso para usar estas paqueterías es tan sencillo como leer el documento, usar la paquetería y acceder a la información necesaria dentro del documento *xml*.\n",
        "\n",
        "Sin embargo, recientemente han surgido estándares más innovadores y adaptativos a las nuevas tecnologías y necesidades cada vez más cambiantes."
      ],
      "metadata": {
        "id": "c06KU-OFejCs"
      }
    },
    {
      "cell_type": "markdown",
      "metadata": {
        "id": "YPPHIpSaNQWL"
      },
      "source": [
        "# *JSON*\n",
        "\n",
        "Desarrolladores y profesionales de TI (Tecnologías de Información) necesitan transferir estructuras de datos pobladas de cualquier idioma a formatos reconocibles por otros idiomas y plataformas. Es por eso que *JavaScript Object Notation (JSON)* surge como el estándar de cambio de datos que lo hace posible.\n",
        "\n",
        "*JSON* se ha convertido en un formato de datos popular para los desarrolladores debido a su texto legible por humanos, que es ligero, requiere menos codificación y se procesa más rápido."
      ]
    },
    {
      "cell_type": "markdown",
      "source": [
        "## Tipos en *JSON*\n",
        "\n",
        "Debido a que *JSON* se definió en el lenguaje *JavaScrip*, existen algunos tipos nativos del estándar, como lo son:\n",
        "\n",
        "*   Cadena: \"nombre\" : \"Mike\"\n",
        "*   Número: \"numero\" : 55\n",
        "*   Booleano: \"FacultadCiencias\" : true\n",
        "*   Objeto: \"Historial\" :   { \"nombre\":\"Mike\",\"sexo\":\"M\",\"ciudad\": \"CDMX\" }\n",
        "*   Serie: \"Cursos\" :   [ {\"Manejo de Datos\"}{\"Análisis Numérico\"}{\"Programación en Paralelo\"}]\n",
        "\n",
        "\n",
        "\n"
      ],
      "metadata": {
        "id": "3MeSFDrvkYyp"
      }
    },
    {
      "cell_type": "markdown",
      "metadata": {
        "id": "1bcD_JGyNlFs"
      },
      "source": [
        "## Ejemplo \n",
        "\n",
        "Para ver un ejemplo de un documento tipo *JSON*, vamos a copiar el siguiente archivo en la sesión de *colab*."
      ]
    },
    {
      "cell_type": "code",
      "source": [
        "!wget https://raw.githubusercontent.com/jugernaut/ManejoDatos/desarrollo/utils/Estandares/ManejoDatos9180.json"
      ],
      "metadata": {
        "id": "qhPCvkZwyKJi",
        "outputId": "952eb4fa-dc98-4d37-9f91-9f40220f5dc6",
        "colab": {
          "base_uri": "https://localhost:8080/"
        }
      },
      "execution_count": 24,
      "outputs": [
        {
          "output_type": "stream",
          "name": "stdout",
          "text": [
            "--2022-01-19 07:09:06--  https://raw.githubusercontent.com/jugernaut/ManejoDatos/desarrollo/utils/Estandares/ManejoDatos9180.json\n",
            "Resolving raw.githubusercontent.com (raw.githubusercontent.com)... 185.199.108.133, 185.199.109.133, 185.199.110.133, ...\n",
            "Connecting to raw.githubusercontent.com (raw.githubusercontent.com)|185.199.108.133|:443... connected.\n",
            "HTTP request sent, awaiting response... 200 OK\n",
            "Length: 780 [text/plain]\n",
            "Saving to: ‘ManejoDatos9180.json.1’\n",
            "\n",
            "\rManejoDatos9180.jso   0%[                    ]       0  --.-KB/s               \rManejoDatos9180.jso 100%[===================>]     780  --.-KB/s    in 0s      \n",
            "\n",
            "2022-01-19 07:09:06 (26.7 MB/s) - ‘ManejoDatos9180.json.1’ saved [780/780]\n",
            "\n"
          ]
        }
      ]
    },
    {
      "cell_type": "markdown",
      "source": [
        "Al abrir el documento *ManejoDatos9180.json* desde colab, haciendo uso del navegador, podemos notar que el navegador lo reconoce de manera correcta y no marca error alguno, lo que significa que este documento esta bien formado.\n",
        "\n",
        "En este punto podemos estar seguro que la información contenida en este documento sigue las reglas (estándares) de los documentos tipo *JSON* y lo podemos compartir con cualquier usuario o aplicación que reconozca el estándar *JSON* y podrá acceder a la información de manera organizada y eficiente."
      ],
      "metadata": {
        "id": "bdtyPvNDy6zC"
      }
    },
    {
      "cell_type": "markdown",
      "source": [
        "# *JSON + Python*\n",
        "\n",
        "De manera similar a como pudimos usar el manejador *MySQL* con *Python* un estándar (como en este caso *JSON*) se vuelve aun más potente cuando se combina con algún lenguaje de programación.\n",
        "\n",
        "Eso significa que mediante el *API* adecuado podemos procesar (*parsear*) de manera aún más sencilla la información contenida en este documento. El termino *parseo* se utiliza en el ámbito del manejo de datos para el proceso mediante el cual se analiza un documento y se obtiene la información que este contiene.\n",
        "\n",
        "Existe una gran cantidad de *API's* en el lenguaje *Python* que nos permiten procesar los datos contenidos en un documento tipo *JSON*, sin embargo en este ejemplo vamos a usar el módulo `json`, que ya viene instalado con la instalación de *Python*."
      ],
      "metadata": {
        "id": "UbA1pJibc21y"
      }
    },
    {
      "cell_type": "markdown",
      "source": [
        "## Crear un documento *JSON*\n",
        "\n",
        "Para crear un documento tipo *JSON* desde *Python* solo hace falta importar el módulo `json` y almacenar la información respetando los tipos y reglas del formato *JSON*."
      ],
      "metadata": {
        "id": "lYhb7fiQhS5q"
      }
    },
    {
      "cell_type": "code",
      "source": [
        "# importamos el modulo json\n",
        "import json\n",
        "\n",
        "# diccionario donde se almacenan los datos\n",
        "datos = {}\n",
        "\n",
        "# llave que indica el \n",
        "datos['alumnos'] = []\n",
        "\n",
        "# agregamos el primer alumno\n",
        "datos['alumnos'].append({\n",
        "  \"Nombre\": \"Alemán Galicia Diego Leónardo\",\t\n",
        "  \"Carrera\": \"C. Computación\",\n",
        "  \"Correo\": \"alemanlex_plus_cool@hotmail.com\",\n",
        "  \"Telefono\": 4463528288})\n",
        "\n",
        "# agregamos el segundo alumno\n",
        "datos['alumnos'].append({\n",
        "  \"Nombre\": \"Garcés Garduño Rodrígo Tonatihu\",\t\n",
        "  \"Carrera\": \"Actuaría\",\n",
        "  \"Correo\": \"rodrigotonatihu@ciencias.unam.mx\",\n",
        "  \"Telefono\": 5524410361})\n",
        "\n",
        "# agregamos el tercer alumno\n",
        "datos['alumnos'].append({\n",
        "  \"Nombre\": \"Pérez Escartin Maya Aranzazu\",\t\n",
        "  \"Carrera\": \"Actuaría\",\n",
        "  \"Correo\": \"aranzazu-08@hotmail.com\",\n",
        "  \"Telefono\": 5537626789})\n",
        "\n",
        "# usamos la funcion open para crear un documento\n",
        "with open('ManejoDatos.json', 'w') as archivo:\n",
        "  # se vacia el diccionario en el documento\n",
        "  json.dump(datos, archivo, indent=4, ensure_ascii=False)"
      ],
      "metadata": {
        "id": "x3tB2Tv2AHWf"
      },
      "execution_count": 21,
      "outputs": []
    },
    {
      "cell_type": "markdown",
      "source": [
        "Podemos comprobar en el navegador de archivos que el documento *ManejoDatos.json* ya fue creado y contiene la información que acabamos de almacenar usando el estándar *JSON*."
      ],
      "metadata": {
        "id": "DT3UiD9MI40y"
      }
    },
    {
      "cell_type": "markdown",
      "source": [
        "## Leer un documento *JSON*\n",
        "\n",
        "Ya que hemos descargado el documento *ManejoDatos9180.json* ahora lo podemos leer ocupando el módulo `json`."
      ],
      "metadata": {
        "id": "5A6rjVFXii_h"
      }
    },
    {
      "cell_type": "code",
      "source": [
        "# importamos el modulo json\n",
        "import json\n",
        "\n",
        "with open('ManejoDatos9180.json') as archivo:\n",
        "    datos = json.load(archivo)\n",
        "    for alumno in datos['alumnos']:\n",
        "        print('Nombre:', alumno['Nombre'])\n",
        "        print('Carrera:', alumno['Carrera'])\n",
        "        print('Correo:', alumno['Correo'])\n",
        "        print('Telefono:', alumno['Telefono'])\n",
        "        print('')"
      ],
      "metadata": {
        "id": "YLlduGIPfGyF",
        "outputId": "32198e87-1e00-484c-f27a-a29653d0ff46",
        "colab": {
          "base_uri": "https://localhost:8080/",
          "height": 235
        }
      },
      "execution_count": 23,
      "outputs": [
        {
          "output_type": "error",
          "ename": "KeyError",
          "evalue": "ignored",
          "traceback": [
            "\u001b[0;31m---------------------------------------------------------------------------\u001b[0m",
            "\u001b[0;31mKeyError\u001b[0m                                  Traceback (most recent call last)",
            "\u001b[0;32m<ipython-input-23-a2341d0be86b>\u001b[0m in \u001b[0;36m<module>\u001b[0;34m()\u001b[0m\n\u001b[1;32m      4\u001b[0m \u001b[0;32mwith\u001b[0m \u001b[0mopen\u001b[0m\u001b[0;34m(\u001b[0m\u001b[0;34m'ManejoDatos9180.json'\u001b[0m\u001b[0;34m)\u001b[0m \u001b[0;32mas\u001b[0m \u001b[0marchivo\u001b[0m\u001b[0;34m:\u001b[0m\u001b[0;34m\u001b[0m\u001b[0;34m\u001b[0m\u001b[0m\n\u001b[1;32m      5\u001b[0m     \u001b[0mdatos\u001b[0m \u001b[0;34m=\u001b[0m \u001b[0mjson\u001b[0m\u001b[0;34m.\u001b[0m\u001b[0mload\u001b[0m\u001b[0;34m(\u001b[0m\u001b[0marchivo\u001b[0m\u001b[0;34m)\u001b[0m\u001b[0;34m\u001b[0m\u001b[0;34m\u001b[0m\u001b[0m\n\u001b[0;32m----> 6\u001b[0;31m     \u001b[0;32mfor\u001b[0m \u001b[0malumno\u001b[0m \u001b[0;32min\u001b[0m \u001b[0mdatos\u001b[0m\u001b[0;34m[\u001b[0m\u001b[0;34m'alumnos'\u001b[0m\u001b[0;34m]\u001b[0m\u001b[0;34m:\u001b[0m\u001b[0;34m\u001b[0m\u001b[0;34m\u001b[0m\u001b[0m\n\u001b[0m\u001b[1;32m      7\u001b[0m         \u001b[0mprint\u001b[0m\u001b[0;34m(\u001b[0m\u001b[0;34m'Nombre:'\u001b[0m\u001b[0;34m,\u001b[0m \u001b[0malumno\u001b[0m\u001b[0;34m[\u001b[0m\u001b[0;34m'Nombre'\u001b[0m\u001b[0;34m]\u001b[0m\u001b[0;34m)\u001b[0m\u001b[0;34m\u001b[0m\u001b[0;34m\u001b[0m\u001b[0m\n\u001b[1;32m      8\u001b[0m         \u001b[0mprint\u001b[0m\u001b[0;34m(\u001b[0m\u001b[0;34m'Carrera:'\u001b[0m\u001b[0;34m,\u001b[0m \u001b[0malumno\u001b[0m\u001b[0;34m[\u001b[0m\u001b[0;34m'Carrera'\u001b[0m\u001b[0;34m]\u001b[0m\u001b[0;34m)\u001b[0m\u001b[0;34m\u001b[0m\u001b[0;34m\u001b[0m\u001b[0m\n",
            "\u001b[0;31mKeyError\u001b[0m: 'alumnos'"
          ]
        }
      ]
    },
    {
      "cell_type": "markdown",
      "source": [
        "## Conexión básica\n",
        "\n",
        "En la siguiente celda se importa en conector para poder hacer uso del mismo, posteriormente se establece la conexión al servidor de la base de datos.\n",
        "\n",
        "El objeto `cursor` es un elemento que nos permite ejecutar consultas (altas, bajas, cambios) a la base de datos.\n",
        "\n",
        "La cadena `consulta` es un *String* que representa la consulta que se le pedira ejecutar al `cursor`, mismo que ya establecio la conexión a la base de datos. En este [enlace](https://dev.mysql.com/doc/connector-python/en/connector-python-api-mysqlcursor.html) puedes leer más sobre la clase `cursor`\n",
        "\n",
        "Al momento de ejecutar el método `execute` es necesario pasar como parametro la consulta que se quiera realizar, además es opcional el paso de parámetros extra que puedan ayudar a refinar la consulta, [aquí](https://dev.mysql.com/doc/connector-python/en/connector-python-api-mysqlcursor-execute.html) puedes ver la documentación del método `execute`.\n",
        "\n",
        "Después de haber ejecutado el método `execute` el objeto `cursor` almacena los resultados de la consulta y dado que el objeto `cursor` es *iterable* lo podemos recorrer con un simple *for* (foreach) e imprimir las tuplas resultado de la consulta a la base de datos.\n",
        "\n",
        "Finalmente, una vez que se haya terminado de realizar las consultas a la base de datos, **es muy importante** cerrar el `cursor` y la conexión a la base de datos, de otra forma la conexión queda abierta y alguien con el conocimiento adecuado puede hacer uso incorrecto de la misma."
      ],
      "metadata": {
        "id": "EezJ2bb5jb6-"
      }
    },
    {
      "cell_type": "code",
      "source": [
        "# se importa la biblioteca necesaria\n",
        "import mysql.connector\n",
        "\n",
        "# asignamos las credenciales de conexion y se establece la conexion\n",
        "con = mysql.connector.connect(host=\"hpc-matematicas-z.fciencias.unam.mx\",    \n",
        "   user=\"manejo\", \n",
        "   password=\"prometeo\",\n",
        "   database=\"FCiencias\")\n",
        "\n",
        "# obtenemos un cursor para realizar consultas\n",
        "cursor = con.cursor()\n",
        "\n",
        "# consulta en forma de cadena\n",
        "#consulta = ('SELECT * FROM alumnos')\n",
        "\n",
        "consulta = ('SELECT num_cuenta, nombre, nombre_tutor, nombre_especialidad '\n",
        "'FROM tutorias natural join alumnos natural join tutores natural join '\n",
        "'especialidades')\n",
        "\n",
        "# ejecucion de la consulta a la base de datos\n",
        "cursor.execute(consulta)\n",
        "\n",
        "# se itera sobre el objeto cursor\n",
        "for tupla in cursor:\n",
        "  print(tupla)\n",
        "\n",
        "# se cierra el cursor y la conexion\n",
        "cursor.close()\n",
        "con.close()"
      ],
      "metadata": {
        "id": "zMenfW19exVG",
        "outputId": "f2f5df19-4237-4fb7-bf68-99321cdc3684",
        "colab": {
          "base_uri": "https://localhost:8080/"
        }
      },
      "execution_count": null,
      "outputs": [
        {
          "output_type": "stream",
          "name": "stdout",
          "text": [
            "(1, 'Mike', 'Mark Musk', 'ciencia de datos')\n",
            "(2, 'Pedro', 'Miguel de Icaza', 'ciencias de la computacion')\n",
            "(3, 'Peter', 'Mario Molina', 'actuaria')\n",
            "(4, 'Almendra', 'Charles Darwin', 'biologia')\n",
            "(5, 'Alvaro', 'Isaac Newton', 'matematicas')\n",
            "(6, 'Canek', 'Mark Musk', 'ciencia de datos')\n",
            "(7, 'Sonia', 'Miguel de Icaza', 'ciencias de la computacion')\n",
            "(8, 'Arturo', 'Mark Musk', 'ciencia de datos')\n",
            "(9, 'Gisel', 'Charles Darwin', 'biologia')\n",
            "(10, 'Alfa', 'Isaac Newton', 'matematicas')\n"
          ]
        }
      ]
    },
    {
      "cell_type": "markdown",
      "source": [
        "## *GUI (Graphic User Interface)*\n",
        "\n",
        "Ya que entendimos como se establece la conexión a la base de datos, veamos una de muchas formas en las cuales podemos hacer uso de los mismos.\n",
        "\n",
        "Supongamos que se requiere crear un programa que permita mostrar los alumnos registrados en nuestra base de datos y dependiendo del alumno que seleccione el usuario, entonces se muestre el nombre de su tutor y la especialidad del mismo.\n",
        "\n",
        "Para llevar a cabo esta labor vamos a hacer uso de un `widget` que le permita al usuario seleccionar el nombre del alumno y posteriormente a la seleccion del mismo, se muestren los datos del tutor.\n",
        "\n",
        "A fin de mostrar los resultados y dado que la sesión que estamos usando es temporal, omitiremos el cerrar el `cursor`  y la conexión pero no olviden que es importante cerrar ambos."
      ],
      "metadata": {
        "id": "SQb7gZ0frb3R"
      }
    },
    {
      "cell_type": "code",
      "source": [
        "import mysql.connector\n",
        "from ipywidgets import interact, interactive, fixed\n",
        "import ipywidgets as widgets\n",
        "\n",
        "con = mysql.connector.connect(host=\"hpc-matematicas-z.fciencias.unam.mx\",    \n",
        "   user=\"manejo\", \n",
        "   password=\"prometeo\",\n",
        "   database=\"FCiencias\")\n",
        "\n",
        "cursor = con.cursor()\n",
        "\n",
        "def consulta_alumnos():\n",
        "  consulta = ('SELECT nombre FROM alumnos')\n",
        "  cursor.execute(consulta)\n",
        "  nombre_alumnos = []\n",
        "  for nombre in cursor:\n",
        "    nombre_alumnos.append(nombre[0])\n",
        "  return nombre_alumnos\n",
        "\n",
        "def consulta_tutor(alumno):\n",
        "  consulta = ('SELECT nombre, nombre_tutor, nombre_especialidad '\n",
        "  'FROM tutorias natural join alumnos natural join tutores natural join '\n",
        "  'especialidades WHERE nombre = %s')\n",
        "  cursor.execute(consulta, (alumno,))\n",
        "  for tupla in cursor:\n",
        "    print(tupla)\n",
        "\n",
        "w = interact(consulta_tutor, alumno = consulta_alumnos())"
      ],
      "metadata": {
        "id": "_SnBaOuDsmpe",
        "outputId": "097c1f8c-2eb6-4125-a3f5-49c5b5ef3590",
        "colab": {
          "base_uri": "https://localhost:8080/",
          "height": 66,
          "referenced_widgets": [
            "6300687c89dd47a0a0e347c2892d85c9",
            "8411ddfe712548f4a0610cbebeb175e3",
            "6743b1dc4be24c5ab65f2b15bde2011e",
            "ff485a8c88fe4677817be345850b5d78",
            "e005b47828a14173825ea6869b91340c",
            "8a70d00c3a624746b3fd57da5f3c2998",
            "9e747f271a5648d1a46eb6dc037593da"
          ]
        }
      },
      "execution_count": null,
      "outputs": [
        {
          "output_type": "display_data",
          "data": {
            "application/vnd.jupyter.widget-view+json": {
              "model_id": "6300687c89dd47a0a0e347c2892d85c9",
              "version_minor": 0,
              "version_major": 2
            },
            "text/plain": [
              "interactive(children=(Dropdown(description='alumno', options=('Mike', 'Pedro', 'Peter', 'Almendra', 'Alvaro', …"
            ]
          },
          "metadata": {}
        }
      ]
    },
    {
      "cell_type": "markdown",
      "metadata": {
        "id": "XTOt0TLLOV1q"
      },
      "source": [
        "# Referencias\n",
        "\n",
        "* Greg Riccardi: Principles of Database Systems with Internet an Java Aplications.\n",
        "* Referencias  Anexo: Algebra relacional, https://www.unirioja.es/cu/arjaime/Temas/04.Anexo.pdf\n",
        "* Referencias  https://www.w3schools.com/sql/\n",
        "* Referencias  http://mysql.conclase.net/curso/?cap=000#\n",
        "* Referencias  http://didepa.uaemex.mx/clases/Manuales/MySql/MySql-La%20biblia%20de%20mysql.pdf\n",
        "* Referencias  https://downloads.mysql.com/docs/refman-5.0-es.pdf"
      ]
    }
  ]
}