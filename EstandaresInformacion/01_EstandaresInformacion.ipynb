{
  "nbformat": 4,
  "nbformat_minor": 0,
  "metadata": {
    "colab": {
      "name": "01_EstandaresInformacion.ipynb",
      "provenance": [],
      "toc_visible": true,
      "include_colab_link": true
    },
    "kernelspec": {
      "name": "python3",
      "display_name": "Python 3"
    },
    "language_info": {
      "name": "python"
    }
  },
  "cells": [
    {
      "cell_type": "markdown",
      "metadata": {
        "id": "view-in-github",
        "colab_type": "text"
      },
      "source": [
        "<a href=\"https://colab.research.google.com/github/jugernaut/ManejoDatos/blob/desarrollo/EstandaresInformacion/01_EstandaresInformacion.ipynb\" target=\"_parent\"><img src=\"https://colab.research.google.com/assets/colab-badge.svg\" alt=\"Open In Colab\"/></a>"
      ]
    },
    {
      "cell_type": "markdown",
      "metadata": {
        "id": "wBGQJF8IxoLG"
      },
      "source": [
        "<font color=\"Teal\" face=\"Comic Sans MS,arial\">\n",
        "  <h1 align=\"center\"><i>Estándares para el intercambio de información</i></h1>\n",
        "  </font>\n",
        "  <font color=\"Black\" face=\"Comic Sans MS,arial\">\n",
        "  <h5 align=\"center\"><i>Profesor: M. en C. Miguel Angel Pérez León</i></h5>\n",
        "    <h5 align=\"center\"><i>Ayudante: Jesús Iván Coss Calderón</i></h5>\n",
        "    <h5 align=\"center\"><i>Ayudante: Jonathan Ramírez Montes</i></h5>\n",
        "  <h5 align=\"center\"><i>Materia: Manejo de Datos</i></h5>\n",
        "  </font>"
      ]
    },
    {
      "cell_type": "markdown",
      "metadata": {
        "id": "8L_uempGMcuv"
      },
      "source": [
        "# Introducción\n",
        "\n",
        "Al manipular datos a menudo es necesario intercambiar datos entre distintos usuarios, sistemas operativos, manejadores de bases de datos, etc.\n",
        "\n",
        "Es por este motivo que surgen los estándares para el intercambio de información, mediante estos estándares podemos asumir que los actores que formen parte del intercambio de información seguirán las mismas reglas.\n",
        "\n",
        "El ejemplo más común actualmente de este tipo de estándares son las facturas digitales o electrónicas.\n",
        "\n",
        "Toda factura (sin importar si es digital o tradicional) contiene la misma información:\n",
        "\n",
        "*   Empresa.\n",
        "*   Monto.\n",
        "*   Concepto.\n",
        "*   Domicilio Fiscal.\n",
        "*   RFC.\n",
        "*   etc.\n",
        "\n",
        "No toda factura luce igual, sin embargo si contienen (o deberían contener) la misma información, así que es por este motivo que para fines de fiscalización, orden y almacenamiento toda factura electrónica se basa en un documento llamado *xml*, mismo documento que contiene un \"resumen\" con los datos de la factura.\n",
        "\n",
        "Además estos datos se almacenan siguiendo el estándar (reglas) del formato *xml*.\n",
        "\n",
        "<center>\n",
        "<img src=\"https://solucionfactible.com/sfic/manuales/lecciones/emision/emision-cfdi/imagenes/cal-base-aut3.png?raw=1\" width=\"800\"> \n",
        "</center>"
      ]
    },
    {
      "cell_type": "markdown",
      "metadata": {
        "id": "QzDivKN1M-xn"
      },
      "source": [
        "# Estándar *XML*\n",
        "\n",
        "Uno de los estándares más ampliamente usado y conocido es el llamado estándar *xml* de sus siglas en ingles eXtensible Markup Languaje, creado a principios de la decada de los 90's con la intensión de compartir información.\n",
        "\n",
        "El metalenguaje *xml* fue creado por *World Wide Web Consortium (W3C)* y su caracteristica principal es que, mediante el uso de etiquetas permite definir la gramática de lenguajes específicos, es decir que permite crear las etiquetas y atributos necesarios para el fin que se necesite.\n",
        "\n",
        "Otra de sus características y por lo que su uso se ha popularizado, es por que a diferencia de otros lenguajes, *xml* es compatible con el uso para a bases de datos, lo cual es útil cuando diferentes aplicaciones necesitan comunicarse entre si.\n",
        "\n",
        "Principalmente se usa en:\n",
        "\n",
        "*   Bases de datos.\n",
        "*   Facturas electrónicas.\n",
        "*   Interfaces gráficas.\n",
        "*   Hojas de calculo.\n",
        "\n",
        "Estas son algunos de sus usos más comunes, sin embargo *xml* es tan flexible que no esta limitado a estos y puede ser usado en cualquier situación en la que se requiera el uso de un lenguaje sencillo para compartir información.\n",
        "\n"
      ]
    },
    {
      "cell_type": "markdown",
      "source": [
        "## Ejemplos\n",
        "\n",
        "Veamos un par de ejemplos muy sencillos de lo que puede ser un documento *xml*.\n",
        "\n",
        "Para mostrar estos ejemplos es necesario agregar a la sesión algunos archivos y para hacerlo necesitamos clonarlos desde el repositorio mediante el siguiente comando.\n"
      ],
      "metadata": {
        "id": "CSbPi7vbN_E0"
      }
    },
    {
      "cell_type": "code",
      "source": [
        "!wget https://raw.githubusercontent.com/jugernaut/ManejoDatos/desarrollo/utils/Estandares/alumnos.xml\n",
        "!wget https://raw.githubusercontent.com/jugernaut/ManejoDatos/desarrollo/utils/Estandares/paneles.xml"
      ],
      "metadata": {
        "id": "IfnhF9E9TS0e",
        "outputId": "0405a18f-6a45-41ed-fd0c-cd9b1ef0ab99",
        "colab": {
          "base_uri": "https://localhost:8080/"
        }
      },
      "execution_count": null,
      "outputs": [
        {
          "output_type": "stream",
          "name": "stdout",
          "text": [
            "--2022-01-17 04:48:24--  https://raw.githubusercontent.com/jugernaut/ManejoDatos/desarrollo/utils/Estandares/alumnos.xml\n",
            "Resolving raw.githubusercontent.com (raw.githubusercontent.com)... 185.199.108.133, 185.199.109.133, 185.199.110.133, ...\n",
            "Connecting to raw.githubusercontent.com (raw.githubusercontent.com)|185.199.108.133|:443... connected.\n",
            "HTTP request sent, awaiting response... 200 OK\n",
            "Length: 937 [text/plain]\n",
            "Saving to: ‘alumnos.xml’\n",
            "\n",
            "\ralumnos.xml           0%[                    ]       0  --.-KB/s               \ralumnos.xml         100%[===================>]     937  --.-KB/s    in 0s      \n",
            "\n",
            "2022-01-17 04:48:25 (53.4 MB/s) - ‘alumnos.xml’ saved [937/937]\n",
            "\n",
            "--2022-01-17 04:48:25--  https://raw.githubusercontent.com/jugernaut/ManejoDatos/desarrollo/utils/Estandares/paneles.xml\n",
            "Resolving raw.githubusercontent.com (raw.githubusercontent.com)... 185.199.111.133, 185.199.109.133, 185.199.110.133, ...\n",
            "Connecting to raw.githubusercontent.com (raw.githubusercontent.com)|185.199.111.133|:443... connected.\n",
            "HTTP request sent, awaiting response... 200 OK\n",
            "Length: 848 [text/plain]\n",
            "Saving to: ‘paneles.xml’\n",
            "\n",
            "paneles.xml         100%[===================>]     848  --.-KB/s    in 0s      \n",
            "\n",
            "2022-01-17 04:48:25 (31.5 MB/s) - ‘paneles.xml’ saved [848/848]\n",
            "\n"
          ]
        }
      ]
    },
    {
      "cell_type": "markdown",
      "source": [
        "### *paneles.xml*\n",
        "\n",
        "Cuando se desarrolla un stio web (o cualquier interfaz de usuario) es muy común que los distintos desarrolladores trabajen usando diferentes entornos de desarrollo (*Linux, Windosws, Mac,* etc.), es por este motivo que la información normalmente se transfiera haciendo uso de *xml*.\n",
        "\n",
        "Al abrir el documento *paneles.xml* podemos ver información referente a la apariencia de la GUI (Grafic User Interface) de algún sitio de internet. En este documento se muestran los paneles que conforman la página principal así como algunas de sus características.\n",
        "\n",
        "<center>\n",
        "<img src=\"https://github.com/jugernaut/ManejoDatos/blob/desarrollo/Imagenes/Estandares/paneles.png?raw=1\" width=\"800\"> \n",
        "</center>\n",
        "\n",
        "Este es un documento muy sencillo en el que únicamente se muestran paneles, pero para agregar más elementos y sus características es tan sencillo como **agregar más etiquetas** al documento.\n",
        "\n"
      ],
      "metadata": {
        "id": "bXBS-5VHYNSa"
      }
    },
    {
      "cell_type": "markdown",
      "source": [
        "### *alumnos.xml*\n",
        "\n",
        "En este documento se muestra la información de algunos alumnos y sus tutores. Supongamos que un par de alumnos están desarrollando su proyecto final de la materia de Manejo de Datos y para que no haya diferencias en los datos dentro de la base de datos, ambos deciden usar *xml* como estándar para compartir información.\n",
        "\n",
        "De tal manera que al cargar estos datos dentro de su base de datos loca, la información para ambos alumnos deberial lucir similar a estas imagenes.\n",
        "\n",
        "<center>\n",
        "<img src=\"https://github.com/jugernaut/ManejoDatos/blob/desarrollo/Imagenes/Bases/ALUMNOS.png?raw=1\" width=\"600\"> \n",
        "</center>\n",
        "\n",
        "<center>\n",
        "<img src=\"https://github.com/jugernaut/ManejoDatos/blob/desarrollo/Imagenes/Bases/tutores.png?raw=1\" width=\"600\"> \n",
        "</center>\n",
        "\n",
        "Estos son solo un par de ejemplos, sin embargo el uso del estándar *xml* es prácticamente ilimitado ya que como metalenguaje nos permite definir los elementos para compartir la información que sea necesaria."
      ],
      "metadata": {
        "id": "ocYh4lZdae7p"
      }
    },
    {
      "cell_type": "markdown",
      "source": [
        "## *Python* y *xml*\n",
        "\n",
        "El procesamiento de información almacenada mediante el estándar *xml* haciendo uso del lenguaje *Python* es muy sencilla y existe una infinidad de herramientas (paqueterías) que nos permiten llevar a cabo esta tarea.\n",
        "\n",
        "Algunas de las paqueterías que nos permiten procesar (*parsear*) un archivo *xml* mediante *Python* son las siguientes:\n",
        "\n",
        "*   *DOM*.\n",
        "*   *SAX*.\n",
        "*   *StAX*.\n",
        "\n",
        "El proceso para usar estas paqueterías es tan sencillo como leer el documento, usar la paquetería y acceder a la información necesaria dentro del documento *xml*.\n",
        "\n",
        "Sin embargo, recientemente han surgido estándares más innovadores y adaptativos a las nuevas tecnologías y necesidades cada vez más cambiantes."
      ],
      "metadata": {
        "id": "c06KU-OFejCs"
      }
    },
    {
      "cell_type": "markdown",
      "metadata": {
        "id": "YPPHIpSaNQWL"
      },
      "source": [
        "# *JSON*\n",
        "\n",
        "Desarrolladores y profesionales de TI (Tecnologías de Información) necesitan transferir estructuras de datos pobladas de cualquier idioma a formatos reconocibles por otros idiomas y plataformas. Es por eso que *JavaScript Object Notation (JSON)* surge como el estándar de cambio de datos que lo hace posible.\n",
        "\n",
        "*JSON* se ha convertido en un formato de datos popular para los desarrolladores debido a su texto legible por humanos, que es ligero, requiere menos codificación y se procesa más rápido."
      ]
    },
    {
      "cell_type": "markdown",
      "source": [
        "## Tipos en *JSON*\n",
        "\n",
        "Debido a que *JSON* se definió en el lenguaje *JavaScrip*, existen algunos tipos nativos del estándar, como lo son:\n",
        "\n",
        "*   Cadena: \"nombre\" : \"Mike\"\n",
        "*   Número: \"numero\" : 55\n",
        "*   Booleano: \"FacultadCiencias\" : true\n",
        "*   Objeto: \"Historial\" :   { \"nombre\":\"Mike\",\"sexo\":\"M\",\"ciudad\": \"CDMX\" }\n",
        "*   Serie: \"Cursos\" :   [ {\"Manejo de Datos\"}{\"Análisis Numérico\"}{\"Programación en Paralelo\"}]\n",
        "\n",
        "\n",
        "\n"
      ],
      "metadata": {
        "id": "3MeSFDrvkYyp"
      }
    },
    {
      "cell_type": "markdown",
      "metadata": {
        "id": "1bcD_JGyNlFs"
      },
      "source": [
        "## Ejemplo \n",
        "\n",
        "Para ver un ejemplo de un documento tipo *JSON*, vamos a copiar el siguiente archivo en la sesión de *colab*."
      ]
    },
    {
      "cell_type": "code",
      "source": [
        "!wget https://raw.githubusercontent.com/jugernaut/ManejoDatos/desarrollo/utils/Estandares/ManejoDatos9180.json"
      ],
      "metadata": {
        "id": "qhPCvkZwyKJi",
        "outputId": "479cac06-6274-46e5-cff4-f545c9419038",
        "colab": {
          "base_uri": "https://localhost:8080/"
        }
      },
      "execution_count": 25,
      "outputs": [
        {
          "output_type": "stream",
          "name": "stdout",
          "text": [
            "--2022-01-19 07:09:59--  https://raw.githubusercontent.com/jugernaut/ManejoDatos/desarrollo/utils/Estandares/ManejoDatos9180.json\n",
            "Resolving raw.githubusercontent.com (raw.githubusercontent.com)... 185.199.108.133, 185.199.109.133, 185.199.110.133, ...\n",
            "Connecting to raw.githubusercontent.com (raw.githubusercontent.com)|185.199.108.133|:443... connected.\n",
            "HTTP request sent, awaiting response... 200 OK\n",
            "Length: 780 [text/plain]\n",
            "Saving to: ‘ManejoDatos9180.json’\n",
            "\n",
            "\rManejoDatos9180.jso   0%[                    ]       0  --.-KB/s               \rManejoDatos9180.jso 100%[===================>]     780  --.-KB/s    in 0s      \n",
            "\n",
            "2022-01-19 07:09:59 (37.6 MB/s) - ‘ManejoDatos9180.json’ saved [780/780]\n",
            "\n"
          ]
        }
      ]
    },
    {
      "cell_type": "markdown",
      "source": [
        "Al abrir el documento *ManejoDatos9180.json* desde colab, haciendo uso del navegador, podemos notar que el navegador lo reconoce de manera correcta y no marca error alguno, lo que significa que este documento esta bien formado.\n",
        "\n",
        "En este punto podemos estar seguro que la información contenida en este documento sigue las reglas (estándares) de los documentos tipo *JSON* y lo podemos compartir con cualquier usuario o aplicación que reconozca el estándar *JSON* y podrá acceder a la información de manera organizada y eficiente."
      ],
      "metadata": {
        "id": "bdtyPvNDy6zC"
      }
    },
    {
      "cell_type": "markdown",
      "source": [
        "# *JSON + Python*\n",
        "\n",
        "De manera similar a como pudimos usar el manejador *MySQL* con *Python* un estándar (como en este caso *JSON*) se vuelve aun más potente cuando se combina con algún lenguaje de programación.\n",
        "\n",
        "Eso significa que mediante el *API* adecuado podemos procesar (*parsear*) de manera aún más sencilla la información contenida en este documento. El termino *parseo* se utiliza en el ámbito del manejo de datos para el proceso mediante el cual se analiza un documento y se obtiene la información que este contiene.\n",
        "\n",
        "Existe una gran cantidad de *API's* en el lenguaje *Python* que nos permiten procesar los datos contenidos en un documento tipo *JSON*, sin embargo en este ejemplo vamos a usar el módulo `json`, que ya viene instalado con la instalación de *Python*."
      ],
      "metadata": {
        "id": "UbA1pJibc21y"
      }
    },
    {
      "cell_type": "markdown",
      "source": [
        "## Crear un documento *JSON*\n",
        "\n",
        "Para crear un documento tipo *JSON* desde *Python* solo hace falta importar el módulo `json` y almacenar la información respetando los tipos y reglas del formato *JSON*."
      ],
      "metadata": {
        "id": "lYhb7fiQhS5q"
      }
    },
    {
      "cell_type": "code",
      "source": [
        "# importamos el modulo json\n",
        "import json\n",
        "\n",
        "# diccionario donde se almacenan los datos\n",
        "datos = {}\n",
        "\n",
        "# llave que indica el \n",
        "datos['alumnos'] = []\n",
        "\n",
        "# agregamos el primer alumno\n",
        "datos['alumnos'].append({\n",
        "  \"Nombre\": \"Alemán Galicia Diego Leónardo\",\t\n",
        "  \"Carrera\": \"C. Computación\",\n",
        "  \"Correo\": \"alemanlex_plus_cool@hotmail.com\",\n",
        "  \"Telefono\": 4463528288})\n",
        "\n",
        "# agregamos el segundo alumno\n",
        "datos['alumnos'].append({\n",
        "  \"Nombre\": \"Garcés Garduño Rodrígo Tonatihu\",\t\n",
        "  \"Carrera\": \"Actuaría\",\n",
        "  \"Correo\": \"rodrigotonatihu@ciencias.unam.mx\",\n",
        "  \"Telefono\": 5524410361})\n",
        "\n",
        "# agregamos el tercer alumno\n",
        "datos['alumnos'].append({\n",
        "  \"Nombre\": \"Pérez Escartin Maya Aranzazu\",\t\n",
        "  \"Carrera\": \"Actuaría\",\n",
        "  \"Correo\": \"aranzazu-08@hotmail.com\",\n",
        "  \"Telefono\": 5537626789})\n",
        "\n",
        "# usamos la funcion open para crear un documento\n",
        "with open('ManejoDatos.json', 'w') as archivo:\n",
        "  # se vacia el diccionario en el documento\n",
        "  json.dump(datos, archivo, indent=4, ensure_ascii=False)"
      ],
      "metadata": {
        "id": "x3tB2Tv2AHWf"
      },
      "execution_count": null,
      "outputs": []
    },
    {
      "cell_type": "markdown",
      "source": [
        "Podemos comprobar en el navegador de archivos que el documento *ManejoDatos.json* ya fue creado y contiene la información que acabamos de almacenar usando el estándar *JSON*."
      ],
      "metadata": {
        "id": "DT3UiD9MI40y"
      }
    },
    {
      "cell_type": "markdown",
      "source": [
        "## Leer un documento *JSON*\n",
        "\n",
        "Ya que hemos descargado el documento *ManejoDatos9180.json* ahora lo podemos leer ocupando el módulo `json`."
      ],
      "metadata": {
        "id": "5A6rjVFXii_h"
      }
    },
    {
      "cell_type": "code",
      "source": [
        "# importamos el modulo json\n",
        "import json\n",
        "\n",
        "with open('ManejoDatos9180.json') as archivo:\n",
        "    datos = json.load(archivo)\n",
        "    for alumno in datos['alumnos']:\n",
        "        print('Nombre:', alumno['Nombre'])\n",
        "        print('Carrera:', alumno['Carrera'])\n",
        "        print('Correo:', alumno['Correo'])\n",
        "        print('Telefono:', alumno['Telefono'])\n",
        "        print('')"
      ],
      "metadata": {
        "id": "YLlduGIPfGyF",
        "outputId": "3ac8cba9-3848-41e2-e45e-7ba3c19e8dc6",
        "colab": {
          "base_uri": "https://localhost:8080/"
        }
      },
      "execution_count": 26,
      "outputs": [
        {
          "output_type": "stream",
          "name": "stdout",
          "text": [
            "Nombre: Alemán Galicia Diego Leónardo\n",
            "Carrera: C. Computación\n",
            "Correo: alemanlex_plus_cool@hotmail.com\n",
            "Telefono: 4463528288\n",
            "\n",
            "Nombre: Garcés Garduño Rodrígo Tonatihu\n",
            "Carrera: Actuaría\n",
            "Correo: rodrigotonatihu@ciencias.unam.mx\n",
            "Telefono: 5524410361\n",
            "\n",
            "Nombre: Pérez Escartin Maya Aranzazu\n",
            "Carrera: Actuaría\n",
            "Correo: aranzazu-08@hotmail.com\n",
            "Telefono: 5537626789\n",
            "\n",
            "Nombre: Rodríguez Vega Octavio\n",
            "Carrera: Matemáticas\n",
            "Correo: octavius@ciencias.unam.mx\n",
            "Telefono: 5536659591\n",
            "\n",
            "Nombre: Vásquez Martínez Andrea Lizbeth\n",
            "Carrera: Actuaría\n",
            "Correo: andreavasquez115@gmail.com\n",
            "Telefono: 5568734366\n",
            "\n"
          ]
        }
      ]
    },
    {
      "cell_type": "markdown",
      "source": [
        "# *JSON + PYTHON + MySQL*\n",
        "\n",
        "Una vez que se comprendió el uso del estándar *JSON* y *Python*, ahora podemos combinarlo con el poder de un manejador de bases de datos, como lo es *MySQL*.\n",
        "\n",
        "Como se mencionó en un principio el objetivo de los estándares para compartir información es que, sin importar el entorno en que esta se procese, la información pueda ser compartida mediante estos estándares.\n",
        "\n",
        "Es por este mótivo que el estándar *JSON* es ideal para compartir información y mediante *MySQL* almacenar estos datos, usando *Python* como lenguaje de alto nivel."
      ],
      "metadata": {
        "id": "EezJ2bb5jb6-"
      }
    },
    {
      "cell_type": "code",
      "source": [
        "# se importa la biblioteca necesaria\n",
        "import mysql.connector\n",
        "\n",
        "# asignamos las credenciales de conexion y se establece la conexion\n",
        "con = mysql.connector.connect(host=\"hpc-matematicas-z.fciencias.unam.mx\",    \n",
        "   user=\"manejo\", \n",
        "   password=\"prometeo\",\n",
        "   database=\"FCiencias\")\n",
        "\n",
        "# obtenemos un cursor para realizar consultas\n",
        "cursor = con.cursor()\n",
        "\n",
        "# consulta en forma de cadena\n",
        "#consulta = ('SELECT * FROM alumnos')\n",
        "\n",
        "consulta = ('SELECT num_cuenta, nombre, nombre_tutor, nombre_especialidad '\n",
        "'FROM tutorias natural join alumnos natural join tutores natural join '\n",
        "'especialidades')\n",
        "\n",
        "# ejecucion de la consulta a la base de datos\n",
        "cursor.execute(consulta)\n",
        "\n",
        "# se itera sobre el objeto cursor\n",
        "for tupla in cursor:\n",
        "  print(tupla)\n",
        "\n",
        "# se cierra el cursor y la conexion\n",
        "cursor.close()\n",
        "con.close()"
      ],
      "metadata": {
        "id": "zMenfW19exVG",
        "outputId": "f2f5df19-4237-4fb7-bf68-99321cdc3684",
        "colab": {
          "base_uri": "https://localhost:8080/"
        }
      },
      "execution_count": null,
      "outputs": [
        {
          "output_type": "stream",
          "name": "stdout",
          "text": [
            "(1, 'Mike', 'Mark Musk', 'ciencia de datos')\n",
            "(2, 'Pedro', 'Miguel de Icaza', 'ciencias de la computacion')\n",
            "(3, 'Peter', 'Mario Molina', 'actuaria')\n",
            "(4, 'Almendra', 'Charles Darwin', 'biologia')\n",
            "(5, 'Alvaro', 'Isaac Newton', 'matematicas')\n",
            "(6, 'Canek', 'Mark Musk', 'ciencia de datos')\n",
            "(7, 'Sonia', 'Miguel de Icaza', 'ciencias de la computacion')\n",
            "(8, 'Arturo', 'Mark Musk', 'ciencia de datos')\n",
            "(9, 'Gisel', 'Charles Darwin', 'biologia')\n",
            "(10, 'Alfa', 'Isaac Newton', 'matematicas')\n"
          ]
        }
      ]
    },
    {
      "cell_type": "markdown",
      "metadata": {
        "id": "XTOt0TLLOV1q"
      },
      "source": [
        "# Referencias\n",
        "\n",
        "* https://www.w3.org/Submission/2013/SUBM-prov-json-20130424/\n",
        "* https://www.analyticslane.com/2018/07/16/archivos-json-con-python/"
      ]
    }
  ]
}